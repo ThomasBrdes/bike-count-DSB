{
 "cells": [
  {
   "cell_type": "markdown",
   "id": "a3e2a08f",
   "metadata": {},
   "source": [
    "# This file is used for explain what are the different datasets used and also keeping track of the strategies and discussion"
   ]
  },
  {
   "cell_type": "markdown",
   "id": "c16813e4",
   "metadata": {},
   "source": [
    "# good idea on : https://studio.datascientest.com/project/pycycle/"
   ]
  },
  {
   "cell_type": "markdown",
   "id": "6b1999ae",
   "metadata": {},
   "source": [
    "## ORIGINAL DATA (given in the kaggle challenge)"
   ]
  },
  {
   "cell_type": "code",
   "execution_count": null,
   "id": "690e4400",
   "metadata": {},
   "outputs": [],
   "source": []
  },
  {
   "cell_type": "markdown",
   "id": "91793991",
   "metadata": {},
   "source": [
    "## EXTERNAL DATA (given in the kaggle challenge)"
   ]
  },
  {
   "cell_type": "markdown",
   "id": "9f92c63c",
   "metadata": {},
   "source": [
    "Metadata for each columns **GUESSED** by ChatGPT\n",
    "\n",
    "- **numer_sta**: Station number or identifier.\n",
    "- **date**: Date and time of the observation.\n",
    "- **pmer**: Sea-level atmospheric pressure.\n",
    "- **tend**: Tendency of atmospheric pressure (increase/decrease over time).\n",
    "- **cod_tend**: Code for the type of atmospheric pressure tendency.\n",
    "- **dd**: Wind direction in degrees.\n",
    "- **ff**: Wind speed.\n",
    "- **t**: Temperature.\n",
    "- **td**: Dew point temperature.\n",
    "- **u**: Relative humidity.\n",
    "- **vv**: Visibility.\n",
    "- **ww**: Present weather (type of weather observed).\n",
    "- **w1, w2**: Past weather (one and two hours ago).\n",
    "- **n**: Amount of cloud cover.\n",
    "- **nbas**: Amount of low cloud cover.\n",
    "- **hbas**: Height of cloud base.\n",
    "- **cl, cm, ch**: Amount of low, medium, and high clouds.\n",
    "- **pres**: Atmospheric pressure.\n",
    "- **niv_bar**: Barometric level.\n",
    "- **geop**: Geopotential height.\n",
    "- **tend24**: 24-hour pressure tendency.\n",
    "- **tn12, tn24**: Minimum temperature in the last 12 or 24 hours.\n",
    "- **tx12, tx24**: Maximum temperature in the last 12 or 24 hours.\n",
    "- **tminsol**: Minimum soil temperature.\n",
    "- **sw**: Solar radiation.\n",
    "- **tw**: Temperature of water.\n",
    "- **raf10**: Wind gust speed in the last 10 minutes.\n",
    "- **rafper**: Period of the wind gust measurement.\n",
    "- **per**: Period of observation.\n",
    "- **etat_sol**: State of the ground.\n",
    "- **ht_neige**: Height of snow.\n",
    "- **ssfrai**: Fresh snowfall amount.\n",
    "- **perssfrai**: Period of fresh snowfall.\n",
    "- **rr1, rr3, rr6, rr12, rr24**: Precipitation amount over 1, 3, 6, 12, 24 hours.\n",
    "- **phenspe1, phenspe2, phenspe3, phenspe4**: Special weather phenomena.\n",
    "- **nnuage1, nnuage2, nnuage3, nnuage4**: Amount of cloud cover at different levels.\n",
    "- **ctype1, ctype2, ctype3, ctype4**: Type of clouds at different levels.\n",
    "- **hnuage1, hnuage2, hnuage3, hnuage4**: Height of cloud base at different levels."
   ]
  },
  {
   "cell_type": "markdown",
   "id": "3b51a2a8",
   "metadata": {},
   "source": [
    "I think we should use :\n",
    "- the date **date** obviously to merge\n",
    "- wind speed **ff** : people will not want to ride a bike if the wind is too strong\n",
    "- the humidity **u** : people will not want to ride a bike if the humidity is too high\n",
    "- the fresh snowfall amount **ssfrai** : can be useful in winter because too much snow means less people will ride a bike\n",
    "- the amount of cloud cover **n** : the amount of sunshine can influence a cyclist's desire to ride a bike\n",
    "- the visibility **vv** : a low visibililty can discourages cyclists to ride a bike\n",
    "- the precipitation amount over 3 hours **rr3** : this variable is essential, cyclits hate it when it rains even a little"
   ]
  },
  {
   "cell_type": "markdown",
   "id": "bf8d73ea",
   "metadata": {},
   "source": [
    "# HOLIDAY DATA"
   ]
  },
  {
   "cell_type": "code",
   "execution_count": null,
   "id": "0aa931b4",
   "metadata": {},
   "outputs": [],
   "source": []
  },
  {
   "cell_type": "markdown",
   "id": "b1282fc7",
   "metadata": {},
   "source": [
    "# STRIKES DATA"
   ]
  },
  {
   "cell_type": "code",
   "execution_count": null,
   "id": "d13f6a52",
   "metadata": {},
   "outputs": [],
   "source": []
  },
  {
   "cell_type": "markdown",
   "id": "33253230",
   "metadata": {},
   "source": [
    "# COVID DATA"
   ]
  },
  {
   "cell_type": "code",
   "execution_count": null,
   "id": "ff725360",
   "metadata": {},
   "outputs": [],
   "source": []
  }
 ],
 "metadata": {
  "kernelspec": {
   "display_name": "Python 3 (ipykernel)",
   "language": "python",
   "name": "python3"
  },
  "language_info": {
   "codemirror_mode": {
    "name": "ipython",
    "version": 3
   },
   "file_extension": ".py",
   "mimetype": "text/x-python",
   "name": "python",
   "nbconvert_exporter": "python",
   "pygments_lexer": "ipython3",
   "version": "3.10.13"
  }
 },
 "nbformat": 4,
 "nbformat_minor": 5
}
