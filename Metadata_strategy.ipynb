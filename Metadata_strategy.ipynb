{
 "cells": [
  {
   "cell_type": "markdown",
   "id": "a3e2a08f",
   "metadata": {},
   "source": [
    "# This file is used for explain what are the different datasets used and also keeping track of the strategies and discussion"
   ]
  },
  {
   "cell_type": "markdown",
   "id": "c16813e4",
   "metadata": {},
   "source": [
    "# good idea on : https://studio.datascientest.com/project/pycycle/"
   ]
  },
  {
   "cell_type": "markdown",
   "id": "6b1999ae",
   "metadata": {},
   "source": [
    "## ORIGINAL DATA (given in the kaggle challenge)"
   ]
  },
  {
   "cell_type": "markdown",
   "id": "8c4cb30b-6e43-4c34-8f63-324a4a0dcd66",
   "metadata": {},
   "source": [
    "**DATA** given to us for predictions"
   ]
  },
  {
   "cell_type": "markdown",
   "id": "91793991",
   "metadata": {},
   "source": [
    "## EXTERNAL DATA (given in the kaggle challenge)"
   ]
  },
  {
   "cell_type": "markdown",
   "id": "7bf490c4-6fd0-4e21-94ba-87050f6fc455",
   "metadata": {},
   "source": [
    "**DATA** from kaggle challenge"
   ]
  },
  {
   "cell_type": "markdown",
   "id": "9f92c63c",
   "metadata": {},
   "source": [
    "Metadata for each columns **GUESSED** by ChatGPT\n",
    "\n",
    "- **numer_sta**: Station number or identifier.\n",
    "- **date**: Date and time of the observation.\n",
    "- **pmer**: Sea-level atmospheric pressure.\n",
    "- **tend**: Tendency of atmospheric pressure (increase/decrease over time).\n",
    "- **cod_tend**: Code for the type of atmospheric pressure tendency.\n",
    "- **dd**: Wind direction in degrees.\n",
    "- **ff**: Wind speed.\n",
    "- **t**: Temperature.\n",
    "- **td**: Dew point temperature.\n",
    "- **u**: Relative humidity.\n",
    "- **vv**: Visibility.\n",
    "- **ww**: Present weather (type of weather observed).\n",
    "- **w1, w2**: Past weather (one and two hours ago).\n",
    "- **n**: Amount of cloud cover.\n",
    "- **nbas**: Amount of low cloud cover.\n",
    "- **hbas**: Height of cloud base.\n",
    "- **cl, cm, ch**: Amount of low, medium, and high clouds.\n",
    "- **pres**: Atmospheric pressure.\n",
    "- **niv_bar**: Barometric level.\n",
    "- **geop**: Geopotential height.\n",
    "- **tend24**: 24-hour pressure tendency.\n",
    "- **tn12, tn24**: Minimum temperature in the last 12 or 24 hours.\n",
    "- **tx12, tx24**: Maximum temperature in the last 12 or 24 hours.\n",
    "- **tminsol**: Minimum soil temperature.\n",
    "- **sw**: Solar radiation.\n",
    "- **tw**: Temperature of water.\n",
    "- **raf10**: Wind gust speed in the last 10 minutes.\n",
    "- **rafper**: Period of the wind gust measurement.\n",
    "- **per**: Period of observation.\n",
    "- **etat_sol**: State of the ground.\n",
    "- **ht_neige**: Height of snow.\n",
    "- **ssfrai**: Fresh snowfall amount.\n",
    "- **perssfrai**: Period of fresh snowfall.\n",
    "- **rr1, rr3, rr6, rr12, rr24**: Precipitation amount over 1, 3, 6, 12, 24 hours.\n",
    "- **phenspe1, phenspe2, phenspe3, phenspe4**: Special weather phenomena.\n",
    "- **nnuage1, nnuage2, nnuage3, nnuage4**: Amount of cloud cover at different levels.\n",
    "- **ctype1, ctype2, ctype3, ctype4**: Type of clouds at different levels.\n",
    "- **hnuage1, hnuage2, hnuage3, hnuage4**: Height of cloud base at different levels."
   ]
  },
  {
   "cell_type": "markdown",
   "id": "3b51a2a8",
   "metadata": {},
   "source": [
    "We think we should use :\n",
    "- the date **date** obviously to merge\n",
    "- the temperature **t** : people will not want to ride a bike if its too hot or too cold\n",
    "- wind speed **ff** : people will not want to ride a bike if the wind is too strong\n",
    "- the humidity **u** : people will not want to ride a bike if the humidity is too high\n",
    "- the fresh snowfall amount **ssfrai** : can be useful in winter because too much snow means less people will ride a bike\n",
    "- the amount of cloud cover **n** : the amount of sunshine can influence a cyclist's desire to ride a bike\n",
    "- the visibility **vv** : a low visibililty can discourages cyclists to ride a bike\n",
    "- the precipitation amount over 3 hours **rr3** : this variable is essential, cyclits hate it when it rains even a little"
   ]
  },
  {
   "cell_type": "markdown",
   "id": "bf8d73ea",
   "metadata": {},
   "source": [
    "# HOLIDAY DATA"
   ]
  },
  {
   "cell_type": "markdown",
   "id": "9c194459-e28a-4918-8eb4-b50f17bac3d7",
   "metadata": {},
   "source": [
    "**Holidays** and **public holidays** can significantly affect bike traffic in Paris due to several factors:\n",
    "\n",
    "- **Change in Daily Commuting Patterns**: On holidays, many people are off work or school, leading to a reduction in commuting-related bike traffic. The usual rush hour peaks may diminish or shift in timing.\n",
    "\n",
    "- **Tourism Impact**: Paris, being a major tourist destination, sees variations in bike traffic related to tourism. During holidays, tourist activity might increase, leading to more bike rentals and usage by visitors exploring the city.\n",
    "\n",
    "- Local Activities and Events: Holidays often coincide with special events, festivals, or public celebrations, which can either increase bike usage due to localized activities or decrease it if certain areas are crowded or restricted for events.\n",
    "\n",
    "- **Transportation Alternatives**: On holidays, public transportation schedules often change, which might lead some regular commuters to opt for bikes as a more flexible and reliable mode of transport.\n",
    "\n",
    "- **Recreational Biking**: During jours fériés, residents who normally don’t bike might take advantage of the free time to engage in recreational biking activities, potentially increasing bike traffic in parks and leisure areas.\n",
    "\n",
    "Holidays and public holidays introduce a change from the routine, impacting the flow and purpose of bike traffic in the city."
   ]
  },
  {
   "cell_type": "markdown",
   "id": "e5c30638-c94b-4858-9647-5359aa3410f4",
   "metadata": {},
   "source": [
    "- **Toussaint 2020**: 2020-10-17 to 2020-11-02\r\n",
    "- **Noël 2020**: 2020-12-19 to 2021-01-04\r\n",
    "- **Hiver 2021**: 2021-02-13 to 2021-03-01\r\n",
    "- **Printemps 2021**: 2021-04-10 to 2021-04-26\r\n",
    "- **Pont de l'Ascension 2021**: 2021-05-12 to 2021-05-17\r\n",
    "- **Été 2021**: 2021-07-06 to 2021-09-01\r\n",
    "- **Toussaint 2021**: 2021-10-23 to 2021-11-08\r\n",
    "- **Noël 2021**: 2021-12-18 to 2022-01-03"
   ]
  },
  {
   "cell_type": "markdown",
   "id": "b1282fc7",
   "metadata": {},
   "source": [
    "# STRIKES DATA"
   ]
  },
  {
   "cell_type": "markdown",
   "id": "93f304e2-2b91-475d-82de-89bbabc4a2cd",
   "metadata": {},
   "source": [
    "No strikes observed between 2020-09-01 01:00:00 and 2021-08-09 23:00:00"
   ]
  },
  {
   "cell_type": "markdown",
   "id": "33253230",
   "metadata": {},
   "source": [
    "# COVID DATA"
   ]
  },
  {
   "cell_type": "markdown",
   "id": "ff8c104f-5d53-45c5-bc41-3813320899e0",
   "metadata": {},
   "source": [
    "## **DATA** about : Summary of indicators for monitoring the COVID-19 epidemic\n",
    "\n",
    "\n",
    "**DATA** from : https://www.data.gouv.fr/fr/datasets/synthese-des-indicateurs-de-suivi-de-lepidemie-covid-19/#/resources"
   ]
  },
  {
   "cell_type": "markdown",
   "id": "86e06016-e2d6-45be-ac19-c43fba1fb580",
   "metadata": {},
   "source": [
    "### Contextual data :\n",
    "\n",
    "- **date**: Date\n",
    "- **dept**: Department\n",
    "- **reg**: Region\n",
    "- **lib_dep**: department label\n",
    "- **lib_reg**: region label\n",
    "\n",
    "### Data relating to the hospital situation\n",
    "\n",
    "- **hosp**: Number of patients currently hospitalised for COVID-19.\n",
    "- **incid_hosp**: Number of new patients hospitalised in the last 24 hours.\n",
    "- **rea**: Number of patients currently in intensive care.\n",
    "- **incid_rea**: Number of new patients admitted to intensive care in the last 24 hours.\n",
    "- **rad**: Cumulative number of patients hospitalised for COVID-19 who have returned home due to an improvement in their state of health.\n",
    "- **incid_rad**: New patients discharged home in the last 24 hours.dernières 24h.\r\n",
    "nières 24hlé région"
   ]
  },
  {
   "cell_type": "markdown",
   "id": "301eb7e0-82d4-4dfd-a0e5-6d2805aaf70c",
   "metadata": {},
   "source": [
    "We believe we could use :\n",
    "- the date **date** obviously to merge\n",
    "- the number of patients hospitalised for COVID-19 can be a good indicator of the current state of mind of the Parisians **hosp**\n",
    "- **rea** and **incid_rea** might indicate the severity of COVID-19 in the area, potentially affecting public behavior, including transportation choices.\n",
    "- **rad** may indirectly signal the easing of the pandemic's impact, possibly leading to increased outdoor activities such as biking."
   ]
  },
  {
   "cell_type": "markdown",
   "id": "d3397245-1d62-4135-a3bb-5819cba627f2",
   "metadata": {},
   "source": [
    "## **DATA** about the curfews and lockdowns :\n",
    "\n",
    "The effect of  curfews and lockdowns due to COVID-19 on bike traffic in cities like Paris are interconnected but distinct. Curfews primarily alter daily routines and reduce commuting during specific hours, possibly leading to shifts in peak bike traffic times. In contrast, lockdowns have a more profound impact by significantly reducing overall commuting due to the closure of public places and altering transportation preferences, with some people opting for bikes as a safer alternative to public transport.\n",
    "\n",
    " Both curfews and lockdowns may increase biking for exercise and leisure within allowed times and areas, and these pandemic measures can also heighten environmental awareness, influencing longer-term transportation choices.\n",
    "\n",
    "**Lockdown dates** : \n",
    "- from 17 March to 11 May 2020, i.e. 1 month and 25 days ;\n",
    "- from 30 October to 15 December 2020, i.e. 1 month and 15 days;\n",
    "- from 3 April to 3 May 2021, i.e. 28 days\n",
    "\n",
    "**Curfews dates** :\n",
    "- 17 October to 29 October 2020 - 21:00 to 6:00 \n",
    "- 16 January 2021 to 20 March 2021 - 18:00 to 6:00\n",
    "- 20 March 2021 to 19 May 2021 - 19:00 to 6:00\n",
    "- 19 May 2021 to 9 June 2021 - 21:00 to 6:00\n",
    "- 9 June 2021 to 20 June 2021 - 23:00 to 6:00."
   ]
  },
  {
   "cell_type": "markdown",
   "id": "521558d6-aa56-4ace-936a-86246ac20edd",
   "metadata": {},
   "source": [
    "## **DATA** about road accident in Paris for cyclists"
   ]
  },
  {
   "cell_type": "markdown",
   "id": "948e9f5b-e6f5-4c09-999c-3fe445a0e760",
   "metadata": {},
   "source": [
    "**DATA** from : https://www.data.gouv.fr/fr/datasets/bases-de-donnees-annuelles-des-accidents-corporels-de-la-circulation-routiere-annees-de-2005-a-2022/#/resources"
   ]
  },
  {
   "cell_type": "markdown",
   "id": "7d33b41d-f502-4d6b-921d-988430378766",
   "metadata": {},
   "source": [
    "By examining the frequency, locations, timings, and characteristics of road incidents, we can infer cycling traffic trends. This data, therefore, is not only crucial for understanding the current state of cyclist safety in Paris but also serves as a proxy for bicycle traffic volume and patterns."
   ]
  },
  {
   "cell_type": "markdown",
   "id": "79d4448b-0d01-49f0-8d1c-a6d304e644b0",
   "metadata": {},
   "source": [
    "The Etalab database of road traffic accidents in a given year is distributed\n",
    "in 4 sections in the form of a file in csv format for each of them.\n",
    "- The **CARACTERISTIQUES** section which describes the general circumstances of the accident\n",
    "- The **LIEUX** section which describes the main location of the accident even if it took place at a\n",
    "intersection\n",
    "- The **VEHICULES** involved section\n",
    "- The **USAGERS** involved section\n",
    "\n",
    "Each of the variables contained in a section are linked to the variables of the others\n",
    "sections. The accident identifier number (Cf. \"Num_Acc\") present in these 4 sections makes it possible to establish\n",
    "a link between all the variables that describe an accident."
   ]
  },
  {
   "cell_type": "markdown",
   "id": "5cf1f568-50a6-413e-9de9-353233942403",
   "metadata": {},
   "source": [
    "We are able to retrieve two important variables :\n",
    "- **Max_Grav_accidents** : The maximum severity of all cyclists accidents at a given hour. It is classified into four categories : \n",
    "    - 1 - Uninjured person\n",
    "    - 2 - Slightly injured person\n",
    "    - 3 - Injured person in hospital \n",
    "    - 4 - Person killed\n",
    "- **Count_accidents** : the number of accidents at a given hour in Paris"
   ]
  }
 ],
 "metadata": {
  "kernelspec": {
   "display_name": "Python 3 (ipykernel)",
   "language": "python",
   "name": "python3"
  },
  "language_info": {
   "codemirror_mode": {
    "name": "ipython",
    "version": 3
   },
   "file_extension": ".py",
   "mimetype": "text/x-python",
   "name": "python",
   "nbconvert_exporter": "python",
   "pygments_lexer": "ipython3",
   "version": "3.10.13"
  }
 },
 "nbformat": 4,
 "nbformat_minor": 5
}
