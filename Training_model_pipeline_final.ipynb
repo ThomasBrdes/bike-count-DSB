{
 "cells": [
  {
   "cell_type": "code",
   "execution_count": 1,
   "id": "3feefc4b-bf31-42c3-a991-acfb06cf6672",
   "metadata": {},
   "outputs": [],
   "source": [
    "# Import basic packages\n",
    "import pandas as pd\n",
    "import numpy as np\n",
    "from pathlib import Path\n",
    "\n",
    "# Import skleanr packages\n",
    "from sklearn.preprocessing import FunctionTransformer\n",
    "from sklearn.preprocessing import OneHotEncoder\n",
    "from sklearn.preprocessing import StandardScaler\n",
    "from sklearn.preprocessing import OrdinalEncoder\n",
    "from sklearn.preprocessing import MinMaxScaler\n",
    "from sklearn.compose import ColumnTransformer\n",
    "from sklearn.pipeline import _name_estimators, make_pipeline\n",
    "from sklearn.model_selection import GridSearchCV\n",
    "from sklearn.preprocessing import PolynomialFeatures\n",
    "from sklearn.model_selection import cross_val_score\n",
    "\n",
    "# Import xgboost\n",
    "import xgboost as xgb\n",
    "\n",
    "import utils.get_data_index_arange as get_data"
   ]
  },
  {
   "cell_type": "code",
   "execution_count": 2,
   "id": "2d245f80-9996-4de1-8c71-aff8db110aa1",
   "metadata": {},
   "outputs": [],
   "source": [
    "def _encode_dates(X):\n",
    "    \n",
    "    '''\n",
    "    Splits the 'date' columns of the input DataFrame into several columns (year, month, day, weekday, hour)\n",
    "    \n",
    "    Parameters:\n",
    "        X (pd.DataFrame): the dataframe to modify\n",
    "    \n",
    "    Returns:\n",
    "        X (pd.DataFrame): the modified dataframe\n",
    "    '''\n",
    "    \n",
    "    # Duplicate X to work on it\n",
    "    X = X.copy()\n",
    "    \n",
    "    # Create new columns with date parts from X.date\n",
    "    X.loc[:, \"year\"] = X[\"date\"].dt.year\n",
    "    X.loc[:, \"month\"] = X[\"date\"].dt.month\n",
    "    X.loc[:, \"day\"] = X[\"date\"].dt.day\n",
    "    X.loc[:, \"weekday\"] = X[\"date\"].dt.weekday\n",
    "    X.loc[:, \"hour\"] = X[\"date\"].dt.hour\n",
    "    \n",
    "    # Clean the new dataframe and return it\n",
    "    X.drop(columns=[\"date\"], inplace=True)\n",
    "    return X"
   ]
  },
  {
   "cell_type": "code",
   "execution_count": 3,
   "id": "91234e3b-4964-466c-b68b-070f97007840",
   "metadata": {},
   "outputs": [],
   "source": [
    "def add_external_data(X):\n",
    "    \n",
    "    X = X.copy()\n",
    "    \n",
    "    # merge original data + external data\n",
    "    merged_X_train_external_DATA = get_data._merge_external_data_weather(X)\n",
    "    \n",
    "    # merge original data + external data + holidays\n",
    "    merged_X_train_external_HOLIDAYS = get_data._merge_holidays_week_end(merged_X_train_external_DATA)\n",
    "    \n",
    "    # merge original data + external data + holidays + data COVID\n",
    "    merged_X_train_external_HOLIDAYS_COVID = get_data._merge_Curfews_lockdowns_COVID(merged_X_train_external_HOLIDAYS)\n",
    "    merged_X_train_external_HOLIDAYS_COVID = get_data._merge_indicators_COVID(merged_X_train_external_HOLIDAYS_COVID)\n",
    "    \n",
    "    # merge original data + external data + holidays + data COVID + data accidents\n",
    "    merged_X_train_external_HOLIDAYS_COVID_ACCIDENTS = get_data._merge_road_accidents(merged_X_train_external_HOLIDAYS_COVID)\n",
    "     \n",
    "    return merged_X_train_external_HOLIDAYS_COVID_ACCIDENTS"
   ]
  },
  {
   "cell_type": "code",
   "execution_count": 112,
   "id": "cf0c1c81-1534-4f98-8615-d950cdab42f4",
   "metadata": {},
   "outputs": [],
   "source": [
    "def get_estimator():\n",
    "    \n",
    "    '''\n",
    "    Creates a pipe which:\n",
    "        (1) performs all the transformations done by the functions merge_external_data() and _encode_dates(),\n",
    "        (2) encodes the categorical and numerical data, \n",
    "        (3) performs a XGBOOST regression with tuned parameters.\n",
    "\n",
    "    Parameters:\n",
    "        None\n",
    "\n",
    "    Returns:\n",
    "        pipe (sklearn Pipeline objet): the given pipeline\n",
    "    '''\n",
    "\n",
    "    # Call the merge_external_data function\n",
    "    merge_external = FunctionTransformer(add_external_data, validate=False)\n",
    "\n",
    "    # Call the _encode_dates function to split the date column to several columns\n",
    "    date_encoder = FunctionTransformer(_encode_dates)\n",
    "    \n",
    "    # Encode the final columns\n",
    "    categorical_encoder = OneHotEncoder(handle_unknown=\"ignore\")\n",
    "    categorical_cols = [\"counter_name\", 'site_id']\n",
    "    numeric_encoder = StandardScaler()\n",
    "    numeric_cols = ['t', 'u','rr3', 'is_holiday', 'rea', 'rad', 'hosp', 'year', 'month', 'day', 'weekday', 'hour']\n",
    "    \n",
    "\n",
    "    # Create a ColumnTransformer object to perform all encodings\n",
    "    preprocessor = ColumnTransformer(\n",
    "        transformers=[\n",
    "            (\"cat\", categorical_encoder, categorical_cols),\n",
    "            (\"numeric\", numeric_encoder, numeric_cols)\n",
    "        ]\n",
    "    )\n",
    "    \n",
    "    params = {'objective': 'reg:squarederror',\n",
    "              'base_score': None,\n",
    "              'booster': None,\n",
    "              'callbacks': None,\n",
    "              'colsample_bylevel': None,\n",
    "              'colsample_bynode': None,\n",
    "              'colsample_bytree': None,\n",
    "              'device': None,\n",
    "              'early_stopping_rounds': None,\n",
    "              'enable_categorical': False,\n",
    "              'eval_metric': None,\n",
    "              'feature_types': None,\n",
    "              'gamma': 0,\n",
    "              'grow_policy': None,\n",
    "              'importance_type': None,\n",
    "              'interaction_constraints': None,\n",
    "              'learning_rate': 0.02,\n",
    "              'max_bin': None,\n",
    "              'max_cat_threshold': None,\n",
    "              'max_cat_to_onehot': None,\n",
    "              'max_delta_step': None,\n",
    "              'max_depth': 13,\n",
    "              'max_leaves': None,\n",
    "              'min_child_weight': 5,\n",
    "              'monotone_constraints': None,\n",
    "              'multi_strategy': None,\n",
    "              'n_estimators': 1500,\n",
    "              'n_jobs': None,\n",
    "              'num_parallel_tree': None,\n",
    "              'random_state': None,\n",
    "              'reg_alpha': None,\n",
    "              'reg_lambda': None,\n",
    "              'sampling_method': None,\n",
    "              'scale_pos_weight': None,\n",
    "              'subsample': 0.7,\n",
    "              'tree_method': None,\n",
    "              'validate_parameters': None,\n",
    "              'verbosity': None,\n",
    "              'verbose': True,\n",
    "              'early_stopping': True}\n",
    "\n",
    "    \n",
    "    # Create the regressor object \n",
    "    regressor = xgb.XGBRegressor(**params)\n",
    "\n",
    "    # Create pipeline\n",
    "    pipe = make_pipeline(\n",
    "        merge_external,\n",
    "        date_encoder, \n",
    "        preprocessor, \n",
    "        regressor\n",
    "    )\n",
    "    \n",
    "    return pipe"
   ]
  },
  {
   "cell_type": "code",
   "execution_count": 113,
   "id": "8babefdc-5a4c-4d61-9ad4-bcec1a60847e",
   "metadata": {},
   "outputs": [],
   "source": [
    "def get_RMSE_local_pipe(pipe, X_train, y_train, X_test, y_test):\n",
    "    from sklearn.metrics import mean_squared_error\n",
    "    # Fit the pipeline on the training data\n",
    "    pipe.fit(X_train, y_train)\n",
    "\n",
    "    # Predict on training and test data\n",
    "    y_train_pred = pipe.predict(X_train)\n",
    "    y_test_pred = pipe.predict(X_test)\n",
    "\n",
    "    # Calculate RMSE for training and test data\n",
    "    rmse_train = np.sqrt(mean_squared_error(y_train, y_train_pred))\n",
    "    rmse_test = np.sqrt(mean_squared_error(y_test, y_test_pred))\n",
    "    \n",
    "    print(f\"Train set RMSE: {rmse_train:.2f}\")\n",
    "    print(f\"Test set RMSE: {rmse_test:.2f}\")\n"
   ]
  },
  {
   "cell_type": "markdown",
   "id": "c1b166f0-208f-4568-b272-08abbad250ca",
   "metadata": {},
   "source": [
    "# LOAD DATA"
   ]
  },
  {
   "cell_type": "code",
   "execution_count": 114,
   "id": "e4dec7a6-2d5a-4f26-9731-823ef2493099",
   "metadata": {},
   "outputs": [],
   "source": [
    "# Read data\n",
    "X_train, y_train = get_data.get_train_data()\n",
    "X_test, y_test = get_data.get_test_data()\n",
    "X_final_test = get_data.get_final_test_data()"
   ]
  },
  {
   "cell_type": "markdown",
   "id": "f824eda9-832d-4e61-8c84-459a8c7c8ec1",
   "metadata": {},
   "source": [
    "# TRAINING"
   ]
  },
  {
   "cell_type": "code",
   "execution_count": 115,
   "id": "faddf7e6-66ce-4f7f-a363-990bea4c0993",
   "metadata": {},
   "outputs": [
    {
     "data": {
      "text/plain": [
       "counter_id                         category\n",
       "counter_name                       category\n",
       "site_id                               int64\n",
       "site_name                          category\n",
       "date                         datetime64[us]\n",
       "counter_installation_date    datetime64[us]\n",
       "counter_technical_id               category\n",
       "latitude                            float64\n",
       "longitude                           float64\n",
       "dtype: object"
      ]
     },
     "execution_count": 115,
     "metadata": {},
     "output_type": "execute_result"
    }
   ],
   "source": [
    "X_train.dtypes"
   ]
  },
  {
   "cell_type": "code",
   "execution_count": 116,
   "id": "492f6a50-2248-400f-8455-4dda53ef7e10",
   "metadata": {},
   "outputs": [],
   "source": [
    "pipe = get_estimator()"
   ]
  },
  {
   "cell_type": "code",
   "execution_count": 117,
   "id": "dcbefb49-eb1c-4eb9-b25a-34ca038b0069",
   "metadata": {},
   "outputs": [
    {
     "name": "stderr",
     "output_type": "stream",
     "text": [
      "C:\\Users\\Thomas\\anaconda3\\envs\\bikes-count\\lib\\site-packages\\xgboost\\core.py:160: UserWarning: [20:49:13] WARNING: C:\\buildkite-agent\\builds\\buildkite-windows-cpu-autoscaling-group-i-0750514818a16474a-1\\xgboost\\xgboost-ci-windows\\src\\learner.cc:742: \n",
      "Parameters: { \"early_stopping\", \"verbose\" } are not used.\n",
      "\n",
      "  warnings.warn(smsg, UserWarning)\n"
     ]
    },
    {
     "name": "stdout",
     "output_type": "stream",
     "text": [
      "Train set RMSE: 0.21\n",
      "Test set RMSE: 0.48\n"
     ]
    }
   ],
   "source": [
    "# Predict data and get RMSE\n",
    "get_RMSE_local_pipe(pipe, X_train, y_train, X_test, y_test)"
   ]
  },
  {
   "cell_type": "markdown",
   "id": "e29f96c1-9d36-4ff0-a1fb-a65291ea55c4",
   "metadata": {},
   "source": [
    "# FINAL SUBMIT"
   ]
  },
  {
   "cell_type": "code",
   "execution_count": 118,
   "id": "5d3076f0-5faf-433c-b9e3-d46d8dd645b4",
   "metadata": {},
   "outputs": [
    {
     "name": "stderr",
     "output_type": "stream",
     "text": [
      "C:\\Users\\Thomas\\anaconda3\\envs\\bikes-count\\lib\\site-packages\\xgboost\\core.py:160: UserWarning: [20:54:04] WARNING: C:\\buildkite-agent\\builds\\buildkite-windows-cpu-autoscaling-group-i-0750514818a16474a-1\\xgboost\\xgboost-ci-windows\\src\\learner.cc:742: \n",
      "Parameters: { \"early_stopping\", \"verbose\" } are not used.\n",
      "\n",
      "  warnings.warn(smsg, UserWarning)\n"
     ]
    },
    {
     "data": {
      "text/html": [
       "<style>#sk-container-id-9 {color: black;}#sk-container-id-9 pre{padding: 0;}#sk-container-id-9 div.sk-toggleable {background-color: white;}#sk-container-id-9 label.sk-toggleable__label {cursor: pointer;display: block;width: 100%;margin-bottom: 0;padding: 0.3em;box-sizing: border-box;text-align: center;}#sk-container-id-9 label.sk-toggleable__label-arrow:before {content: \"▸\";float: left;margin-right: 0.25em;color: #696969;}#sk-container-id-9 label.sk-toggleable__label-arrow:hover:before {color: black;}#sk-container-id-9 div.sk-estimator:hover label.sk-toggleable__label-arrow:before {color: black;}#sk-container-id-9 div.sk-toggleable__content {max-height: 0;max-width: 0;overflow: hidden;text-align: left;background-color: #f0f8ff;}#sk-container-id-9 div.sk-toggleable__content pre {margin: 0.2em;color: black;border-radius: 0.25em;background-color: #f0f8ff;}#sk-container-id-9 input.sk-toggleable__control:checked~div.sk-toggleable__content {max-height: 200px;max-width: 100%;overflow: auto;}#sk-container-id-9 input.sk-toggleable__control:checked~label.sk-toggleable__label-arrow:before {content: \"▾\";}#sk-container-id-9 div.sk-estimator input.sk-toggleable__control:checked~label.sk-toggleable__label {background-color: #d4ebff;}#sk-container-id-9 div.sk-label input.sk-toggleable__control:checked~label.sk-toggleable__label {background-color: #d4ebff;}#sk-container-id-9 input.sk-hidden--visually {border: 0;clip: rect(1px 1px 1px 1px);clip: rect(1px, 1px, 1px, 1px);height: 1px;margin: -1px;overflow: hidden;padding: 0;position: absolute;width: 1px;}#sk-container-id-9 div.sk-estimator {font-family: monospace;background-color: #f0f8ff;border: 1px dotted black;border-radius: 0.25em;box-sizing: border-box;margin-bottom: 0.5em;}#sk-container-id-9 div.sk-estimator:hover {background-color: #d4ebff;}#sk-container-id-9 div.sk-parallel-item::after {content: \"\";width: 100%;border-bottom: 1px solid gray;flex-grow: 1;}#sk-container-id-9 div.sk-label:hover label.sk-toggleable__label {background-color: #d4ebff;}#sk-container-id-9 div.sk-serial::before {content: \"\";position: absolute;border-left: 1px solid gray;box-sizing: border-box;top: 0;bottom: 0;left: 50%;z-index: 0;}#sk-container-id-9 div.sk-serial {display: flex;flex-direction: column;align-items: center;background-color: white;padding-right: 0.2em;padding-left: 0.2em;position: relative;}#sk-container-id-9 div.sk-item {position: relative;z-index: 1;}#sk-container-id-9 div.sk-parallel {display: flex;align-items: stretch;justify-content: center;background-color: white;position: relative;}#sk-container-id-9 div.sk-item::before, #sk-container-id-9 div.sk-parallel-item::before {content: \"\";position: absolute;border-left: 1px solid gray;box-sizing: border-box;top: 0;bottom: 0;left: 50%;z-index: -1;}#sk-container-id-9 div.sk-parallel-item {display: flex;flex-direction: column;z-index: 1;position: relative;background-color: white;}#sk-container-id-9 div.sk-parallel-item:first-child::after {align-self: flex-end;width: 50%;}#sk-container-id-9 div.sk-parallel-item:last-child::after {align-self: flex-start;width: 50%;}#sk-container-id-9 div.sk-parallel-item:only-child::after {width: 0;}#sk-container-id-9 div.sk-dashed-wrapped {border: 1px dashed gray;margin: 0 0.4em 0.5em 0.4em;box-sizing: border-box;padding-bottom: 0.4em;background-color: white;}#sk-container-id-9 div.sk-label label {font-family: monospace;font-weight: bold;display: inline-block;line-height: 1.2em;}#sk-container-id-9 div.sk-label-container {text-align: center;}#sk-container-id-9 div.sk-container {/* jupyter's `normalize.less` sets `[hidden] { display: none; }` but bootstrap.min.css set `[hidden] { display: none !important; }` so we also need the `!important` here to be able to override the default hidden behavior on the sphinx rendered scikit-learn.org. See: https://github.com/scikit-learn/scikit-learn/issues/21755 */display: inline-block !important;position: relative;}#sk-container-id-9 div.sk-text-repr-fallback {display: none;}</style><div id=\"sk-container-id-9\" class=\"sk-top-container\"><div class=\"sk-text-repr-fallback\"><pre>Pipeline(steps=[(&#x27;functiontransformer-1&#x27;,\n",
       "                 FunctionTransformer(func=&lt;function add_external_data at 0x000001A6BCD2ED40&gt;)),\n",
       "                (&#x27;functiontransformer-2&#x27;,\n",
       "                 FunctionTransformer(func=&lt;function _encode_dates at 0x000001A6BCD2F1C0&gt;)),\n",
       "                (&#x27;columntransformer&#x27;,\n",
       "                 ColumnTransformer(transformers=[(&#x27;cat&#x27;,\n",
       "                                                  OneHotEncoder(handle_unknown=&#x27;ignore&#x27;),\n",
       "                                                  [&#x27;counter_name&#x27;, &#x27;site_id&#x27;]),\n",
       "                                                 (&#x27;numeric&#x27;,...\n",
       "                              feature_types=None, gamma=0, grow_policy=None,\n",
       "                              importance_type=None,\n",
       "                              interaction_constraints=None, learning_rate=0.025,\n",
       "                              max_bin=None, max_cat_threshold=None,\n",
       "                              max_cat_to_onehot=None, max_delta_step=None,\n",
       "                              max_depth=13, max_leaves=None, min_child_weight=5,\n",
       "                              missing=nan, monotone_constraints=None,\n",
       "                              multi_strategy=None, n_estimators=1800,\n",
       "                              n_jobs=None, num_parallel_tree=None, ...))])</pre><b>In a Jupyter environment, please rerun this cell to show the HTML representation or trust the notebook. <br />On GitHub, the HTML representation is unable to render, please try loading this page with nbviewer.org.</b></div><div class=\"sk-container\" hidden><div class=\"sk-item sk-dashed-wrapped\"><div class=\"sk-label-container\"><div class=\"sk-label sk-toggleable\"><input class=\"sk-toggleable__control sk-hidden--visually\" id=\"sk-estimator-id-75\" type=\"checkbox\" ><label for=\"sk-estimator-id-75\" class=\"sk-toggleable__label sk-toggleable__label-arrow\">Pipeline</label><div class=\"sk-toggleable__content\"><pre>Pipeline(steps=[(&#x27;functiontransformer-1&#x27;,\n",
       "                 FunctionTransformer(func=&lt;function add_external_data at 0x000001A6BCD2ED40&gt;)),\n",
       "                (&#x27;functiontransformer-2&#x27;,\n",
       "                 FunctionTransformer(func=&lt;function _encode_dates at 0x000001A6BCD2F1C0&gt;)),\n",
       "                (&#x27;columntransformer&#x27;,\n",
       "                 ColumnTransformer(transformers=[(&#x27;cat&#x27;,\n",
       "                                                  OneHotEncoder(handle_unknown=&#x27;ignore&#x27;),\n",
       "                                                  [&#x27;counter_name&#x27;, &#x27;site_id&#x27;]),\n",
       "                                                 (&#x27;numeric&#x27;,...\n",
       "                              feature_types=None, gamma=0, grow_policy=None,\n",
       "                              importance_type=None,\n",
       "                              interaction_constraints=None, learning_rate=0.025,\n",
       "                              max_bin=None, max_cat_threshold=None,\n",
       "                              max_cat_to_onehot=None, max_delta_step=None,\n",
       "                              max_depth=13, max_leaves=None, min_child_weight=5,\n",
       "                              missing=nan, monotone_constraints=None,\n",
       "                              multi_strategy=None, n_estimators=1800,\n",
       "                              n_jobs=None, num_parallel_tree=None, ...))])</pre></div></div></div><div class=\"sk-serial\"><div class=\"sk-item\"><div class=\"sk-estimator sk-toggleable\"><input class=\"sk-toggleable__control sk-hidden--visually\" id=\"sk-estimator-id-76\" type=\"checkbox\" ><label for=\"sk-estimator-id-76\" class=\"sk-toggleable__label sk-toggleable__label-arrow\">FunctionTransformer</label><div class=\"sk-toggleable__content\"><pre>FunctionTransformer(func=&lt;function add_external_data at 0x000001A6BCD2ED40&gt;)</pre></div></div></div><div class=\"sk-item\"><div class=\"sk-estimator sk-toggleable\"><input class=\"sk-toggleable__control sk-hidden--visually\" id=\"sk-estimator-id-77\" type=\"checkbox\" ><label for=\"sk-estimator-id-77\" class=\"sk-toggleable__label sk-toggleable__label-arrow\">FunctionTransformer</label><div class=\"sk-toggleable__content\"><pre>FunctionTransformer(func=&lt;function _encode_dates at 0x000001A6BCD2F1C0&gt;)</pre></div></div></div><div class=\"sk-item sk-dashed-wrapped\"><div class=\"sk-label-container\"><div class=\"sk-label sk-toggleable\"><input class=\"sk-toggleable__control sk-hidden--visually\" id=\"sk-estimator-id-78\" type=\"checkbox\" ><label for=\"sk-estimator-id-78\" class=\"sk-toggleable__label sk-toggleable__label-arrow\">columntransformer: ColumnTransformer</label><div class=\"sk-toggleable__content\"><pre>ColumnTransformer(transformers=[(&#x27;cat&#x27;, OneHotEncoder(handle_unknown=&#x27;ignore&#x27;),\n",
       "                                 [&#x27;counter_name&#x27;, &#x27;site_id&#x27;]),\n",
       "                                (&#x27;numeric&#x27;, StandardScaler(),\n",
       "                                 [&#x27;t&#x27;, &#x27;u&#x27;, &#x27;rr3&#x27;, &#x27;is_holiday&#x27;, &#x27;rea&#x27;, &#x27;rad&#x27;,\n",
       "                                  &#x27;hosp&#x27;, &#x27;year&#x27;, &#x27;month&#x27;, &#x27;day&#x27;, &#x27;weekday&#x27;,\n",
       "                                  &#x27;hour&#x27;])])</pre></div></div></div><div class=\"sk-parallel\"><div class=\"sk-parallel-item\"><div class=\"sk-item\"><div class=\"sk-label-container\"><div class=\"sk-label sk-toggleable\"><input class=\"sk-toggleable__control sk-hidden--visually\" id=\"sk-estimator-id-79\" type=\"checkbox\" ><label for=\"sk-estimator-id-79\" class=\"sk-toggleable__label sk-toggleable__label-arrow\">cat</label><div class=\"sk-toggleable__content\"><pre>[&#x27;counter_name&#x27;, &#x27;site_id&#x27;]</pre></div></div></div><div class=\"sk-serial\"><div class=\"sk-item\"><div class=\"sk-estimator sk-toggleable\"><input class=\"sk-toggleable__control sk-hidden--visually\" id=\"sk-estimator-id-80\" type=\"checkbox\" ><label for=\"sk-estimator-id-80\" class=\"sk-toggleable__label sk-toggleable__label-arrow\">OneHotEncoder</label><div class=\"sk-toggleable__content\"><pre>OneHotEncoder(handle_unknown=&#x27;ignore&#x27;)</pre></div></div></div></div></div></div><div class=\"sk-parallel-item\"><div class=\"sk-item\"><div class=\"sk-label-container\"><div class=\"sk-label sk-toggleable\"><input class=\"sk-toggleable__control sk-hidden--visually\" id=\"sk-estimator-id-81\" type=\"checkbox\" ><label for=\"sk-estimator-id-81\" class=\"sk-toggleable__label sk-toggleable__label-arrow\">numeric</label><div class=\"sk-toggleable__content\"><pre>[&#x27;t&#x27;, &#x27;u&#x27;, &#x27;rr3&#x27;, &#x27;is_holiday&#x27;, &#x27;rea&#x27;, &#x27;rad&#x27;, &#x27;hosp&#x27;, &#x27;year&#x27;, &#x27;month&#x27;, &#x27;day&#x27;, &#x27;weekday&#x27;, &#x27;hour&#x27;]</pre></div></div></div><div class=\"sk-serial\"><div class=\"sk-item\"><div class=\"sk-estimator sk-toggleable\"><input class=\"sk-toggleable__control sk-hidden--visually\" id=\"sk-estimator-id-82\" type=\"checkbox\" ><label for=\"sk-estimator-id-82\" class=\"sk-toggleable__label sk-toggleable__label-arrow\">StandardScaler</label><div class=\"sk-toggleable__content\"><pre>StandardScaler()</pre></div></div></div></div></div></div></div></div><div class=\"sk-item\"><div class=\"sk-estimator sk-toggleable\"><input class=\"sk-toggleable__control sk-hidden--visually\" id=\"sk-estimator-id-83\" type=\"checkbox\" ><label for=\"sk-estimator-id-83\" class=\"sk-toggleable__label sk-toggleable__label-arrow\">XGBRegressor</label><div class=\"sk-toggleable__content\"><pre>XGBRegressor(base_score=None, booster=None, callbacks=None,\n",
       "             colsample_bylevel=None, colsample_bynode=None,\n",
       "             colsample_bytree=None, device=None, early_stopping=True,\n",
       "             early_stopping_rounds=None, enable_categorical=False,\n",
       "             eval_metric=None, feature_types=None, gamma=0, grow_policy=None,\n",
       "             importance_type=None, interaction_constraints=None,\n",
       "             learning_rate=0.025, max_bin=None, max_cat_threshold=None,\n",
       "             max_cat_to_onehot=None, max_delta_step=None, max_depth=13,\n",
       "             max_leaves=None, min_child_weight=5, missing=nan,\n",
       "             monotone_constraints=None, multi_strategy=None, n_estimators=1800,\n",
       "             n_jobs=None, num_parallel_tree=None, ...)</pre></div></div></div></div></div></div></div>"
      ],
      "text/plain": [
       "Pipeline(steps=[('functiontransformer-1',\n",
       "                 FunctionTransformer(func=<function add_external_data at 0x000001A6BCD2ED40>)),\n",
       "                ('functiontransformer-2',\n",
       "                 FunctionTransformer(func=<function _encode_dates at 0x000001A6BCD2F1C0>)),\n",
       "                ('columntransformer',\n",
       "                 ColumnTransformer(transformers=[('cat',\n",
       "                                                  OneHotEncoder(handle_unknown='ignore'),\n",
       "                                                  ['counter_name', 'site_id']),\n",
       "                                                 ('numeric',...\n",
       "                              feature_types=None, gamma=0, grow_policy=None,\n",
       "                              importance_type=None,\n",
       "                              interaction_constraints=None, learning_rate=0.025,\n",
       "                              max_bin=None, max_cat_threshold=None,\n",
       "                              max_cat_to_onehot=None, max_delta_step=None,\n",
       "                              max_depth=13, max_leaves=None, min_child_weight=5,\n",
       "                              missing=nan, monotone_constraints=None,\n",
       "                              multi_strategy=None, n_estimators=1800,\n",
       "                              n_jobs=None, num_parallel_tree=None, ...))])"
      ]
     },
     "execution_count": 118,
     "metadata": {},
     "output_type": "execute_result"
    }
   ],
   "source": [
    "concatenated_X_train_test = pd.concat([X_train, X_test], ignore_index=False)\n",
    "concatenated_y_train_test = np.concatenate([y_train, y_test], axis=0)\n",
    "\n",
    "pipe.fit(concatenated_X_train_test, concatenated_y_train_test)"
   ]
  },
  {
   "cell_type": "markdown",
   "id": "5b9a2bd0-6a72-45e4-9946-6be7d297829b",
   "metadata": {},
   "source": [
    "## Create csv"
   ]
  },
  {
   "cell_type": "code",
   "execution_count": 119,
   "id": "d3c26a02-12b4-49da-aac2-e79690ce4705",
   "metadata": {},
   "outputs": [],
   "source": [
    "def submission_kaggle(model, X_final_test):\n",
    "    y_pred = model.predict(X_final_test)\n",
    "    print(y_pred)\n",
    "    results = pd.DataFrame(\n",
    "        dict(\n",
    "            Id=X_final_test.index,\n",
    "            log_bike_count=y_pred,\n",
    "        )\n",
    "    )\n",
    "    results.to_csv(\"submission.csv\", index=False)\n",
    "\n",
    "    return results"
   ]
  },
  {
   "cell_type": "code",
   "execution_count": 120,
   "id": "5866a449-5ba7-45c3-9698-31b8a98700e3",
   "metadata": {},
   "outputs": [
    {
     "name": "stdout",
     "output_type": "stream",
     "text": [
      "[1.2623069 1.0714648 1.2098156 ... 3.3640792 2.3899894 2.1868339]\n"
     ]
    }
   ],
   "source": [
    "a = submission_kaggle(pipe, X_final_test)"
   ]
  },
  {
   "cell_type": "code",
   "execution_count": 121,
   "id": "ca9d7b4c-9809-4094-a552-c0a1a6ea2845",
   "metadata": {},
   "outputs": [
    {
     "data": {
      "text/html": [
       "<div>\n",
       "<style scoped>\n",
       "    .dataframe tbody tr th:only-of-type {\n",
       "        vertical-align: middle;\n",
       "    }\n",
       "\n",
       "    .dataframe tbody tr th {\n",
       "        vertical-align: top;\n",
       "    }\n",
       "\n",
       "    .dataframe thead th {\n",
       "        text-align: right;\n",
       "    }\n",
       "</style>\n",
       "<table border=\"1\" class=\"dataframe\">\n",
       "  <thead>\n",
       "    <tr style=\"text-align: right;\">\n",
       "      <th></th>\n",
       "      <th>Id</th>\n",
       "      <th>log_bike_count</th>\n",
       "    </tr>\n",
       "  </thead>\n",
       "  <tbody>\n",
       "    <tr>\n",
       "      <th>0</th>\n",
       "      <td>17081</td>\n",
       "      <td>1.262307</td>\n",
       "    </tr>\n",
       "    <tr>\n",
       "      <th>1</th>\n",
       "      <td>18655</td>\n",
       "      <td>1.071465</td>\n",
       "    </tr>\n",
       "    <tr>\n",
       "      <th>2</th>\n",
       "      <td>3124</td>\n",
       "      <td>1.209816</td>\n",
       "    </tr>\n",
       "    <tr>\n",
       "      <th>3</th>\n",
       "      <td>4147</td>\n",
       "      <td>1.049714</td>\n",
       "    </tr>\n",
       "    <tr>\n",
       "      <th>4</th>\n",
       "      <td>48210</td>\n",
       "      <td>2.503058</td>\n",
       "    </tr>\n",
       "    <tr>\n",
       "      <th>...</th>\n",
       "      <td>...</td>\n",
       "      <td>...</td>\n",
       "    </tr>\n",
       "    <tr>\n",
       "      <th>51435</th>\n",
       "      <td>42131</td>\n",
       "      <td>3.730787</td>\n",
       "    </tr>\n",
       "    <tr>\n",
       "      <th>51436</th>\n",
       "      <td>43042</td>\n",
       "      <td>3.189433</td>\n",
       "    </tr>\n",
       "    <tr>\n",
       "      <th>51437</th>\n",
       "      <td>43929</td>\n",
       "      <td>3.364079</td>\n",
       "    </tr>\n",
       "    <tr>\n",
       "      <th>51438</th>\n",
       "      <td>5707</td>\n",
       "      <td>2.389989</td>\n",
       "    </tr>\n",
       "    <tr>\n",
       "      <th>51439</th>\n",
       "      <td>6855</td>\n",
       "      <td>2.186834</td>\n",
       "    </tr>\n",
       "  </tbody>\n",
       "</table>\n",
       "<p>51440 rows × 2 columns</p>\n",
       "</div>"
      ],
      "text/plain": [
       "          Id  log_bike_count\n",
       "0      17081        1.262307\n",
       "1      18655        1.071465\n",
       "2       3124        1.209816\n",
       "3       4147        1.049714\n",
       "4      48210        2.503058\n",
       "...      ...             ...\n",
       "51435  42131        3.730787\n",
       "51436  43042        3.189433\n",
       "51437  43929        3.364079\n",
       "51438   5707        2.389989\n",
       "51439   6855        2.186834\n",
       "\n",
       "[51440 rows x 2 columns]"
      ]
     },
     "execution_count": 121,
     "metadata": {},
     "output_type": "execute_result"
    }
   ],
   "source": [
    "a"
   ]
  },
  {
   "cell_type": "code",
   "execution_count": null,
   "id": "084acf2c-dbb5-4be0-bf64-3417de637d73",
   "metadata": {},
   "outputs": [],
   "source": []
  }
 ],
 "metadata": {
  "kernelspec": {
   "display_name": "Python 3 (ipykernel)",
   "language": "python",
   "name": "python3"
  },
  "language_info": {
   "codemirror_mode": {
    "name": "ipython",
    "version": 3
   },
   "file_extension": ".py",
   "mimetype": "text/x-python",
   "name": "python",
   "nbconvert_exporter": "python",
   "pygments_lexer": "ipython3",
   "version": "3.10.13"
  }
 },
 "nbformat": 4,
 "nbformat_minor": 5
}
