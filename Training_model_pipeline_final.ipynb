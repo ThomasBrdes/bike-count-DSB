{
 "cells": [
  {
   "cell_type": "code",
   "execution_count": 106,
   "id": "3feefc4b-bf31-42c3-a991-acfb06cf6672",
   "metadata": {},
   "outputs": [],
   "source": [
    "# Import basic packages\n",
    "import pandas as pd\n",
    "import numpy as np\n",
    "from pathlib import Path\n",
    "\n",
    "# Import skleanr packages\n",
    "from sklearn.preprocessing import FunctionTransformer\n",
    "from sklearn.preprocessing import OneHotEncoder\n",
    "from sklearn.preprocessing import StandardScaler\n",
    "from sklearn.preprocessing import OrdinalEncoder\n",
    "from sklearn.preprocessing import MinMaxScaler\n",
    "from sklearn.compose import ColumnTransformer\n",
    "from sklearn.pipeline import _name_estimators, make_pipeline\n",
    "from sklearn.model_selection import GridSearchCV\n",
    "from sklearn.preprocessing import PolynomialFeatures\n",
    "from sklearn.model_selection import cross_val_score\n",
    "\n",
    "# Import LightGBM\n",
    "import lightgbm as lgb\n",
    "\n",
    "import utils.get_data as get_data"
   ]
  },
  {
   "cell_type": "code",
   "execution_count": 107,
   "id": "2d245f80-9996-4de1-8c71-aff8db110aa1",
   "metadata": {},
   "outputs": [],
   "source": [
    "def _encode_dates(X):\n",
    "    \n",
    "    '''\n",
    "    Splits the 'date' columns of the input DataFrame into several columns (year, month, day, weekday, hour)\n",
    "    \n",
    "    Parameters:\n",
    "        X (pd.DataFrame): the dataframe to modify\n",
    "    \n",
    "    Returns:\n",
    "        X (pd.DataFrame): the modified dataframe\n",
    "    '''\n",
    "    \n",
    "    # Duplicate X to work on it\n",
    "    X = X.copy()\n",
    "    \n",
    "    # Create new columns with date parts from X.date\n",
    "    X.loc[:, \"year\"] = X[\"date\"].dt.year\n",
    "    X.loc[:, \"month\"] = X[\"date\"].dt.month\n",
    "    X.loc[:, \"day\"] = X[\"date\"].dt.day\n",
    "    X.loc[:, \"weekday\"] = X[\"date\"].dt.weekday\n",
    "    X.loc[:, \"hour\"] = X[\"date\"].dt.hour\n",
    "    \n",
    "    # Clean the new dataframe and return it\n",
    "    X.drop(columns=[\"date\"], inplace=True)\n",
    "    return X"
   ]
  },
  {
   "cell_type": "code",
   "execution_count": 132,
   "id": "91234e3b-4964-466c-b68b-070f97007840",
   "metadata": {},
   "outputs": [],
   "source": [
    "def merge_external_data(X): \n",
    "    \n",
    "    '''\n",
    "    Enriches the input dataframe with weather data (merges on 'date')\n",
    "    \n",
    "    Parameters:\n",
    "        X (pd.DataFrame): the dataframe to enrich\n",
    "    \n",
    "    Returns:\n",
    "        X (pd.DataFrame): the enriched dataframe\n",
    "    '''\n",
    "\n",
    "    # Duplicate X to work on it\n",
    "    X = X.copy()\n",
    "    X.loc[:, \"date\"] = pd.to_datetime(X[\"date\"])\n",
    "    \n",
    "    # Create X_weather, the dataframe with the wanted weather data\n",
    "    file_path = \"data/external_data.csv\"\n",
    "    df_weather = pd.read_csv(file_path, parse_dates=[\"date\"])\n",
    "    X_weather = df_weather[['date', 't', 'rr3', 'u']]\n",
    "    X_weather['date'] = pd.to_datetime(X_weather['date']).astype('datetime64[us]')\n",
    "    \n",
    "    # Reset index\n",
    "    X[\"orig_index\"] = np.arange(X.shape[0])\n",
    "    \n",
    "    # Merge X_weather to X, on the closest value of column X.date\n",
    "    X_merged = pd.merge_asof(X.sort_values(\"date\"), X_weather.sort_values(\"date\"), on='date')\n",
    "    \n",
    "    # Clean the merged dataframe\n",
    "    X_merged['t'] = X_merged['t'].fillna(0)\n",
    "    X_merged['rr3'] = X_merged['rr3'].fillna(0)\n",
    "    X_merged['u'] = X_merged['u'].fillna(0)\n",
    "    X_merged = X_merged.sort_values(\"orig_index\")\n",
    "    X_merged.drop(columns=[\"orig_index\", 'counter_id', 'site_name', 'counter_installation_date', 'counter_technical_id', 'latitude', 'longitude'], inplace=True)\n",
    "    \n",
    "    # Render the new dataframe X\n",
    "    X = X_merged\n",
    "    return X"
   ]
  },
  {
   "cell_type": "code",
   "execution_count": 133,
   "id": "cf0c1c81-1534-4f98-8615-d950cdab42f4",
   "metadata": {},
   "outputs": [],
   "source": [
    "def get_estimator():\n",
    "    \n",
    "    '''\n",
    "    Creates a pipe which:\n",
    "        (1) performs all the transformations done by the functions merge_external_data() and _encode_dates(),\n",
    "        (2) encodes the categorical and numerical data, \n",
    "        (3) performs a LightGBM regression with tuned parameters.\n",
    "\n",
    "    Parameters:\n",
    "        None\n",
    "\n",
    "    Returns:\n",
    "        pipe (sklearn Pipeline objet): the given pipeline\n",
    "    '''\n",
    "\n",
    "    # Call the merge_external_data function\n",
    "    merge_external = FunctionTransformer(merge_external_data, validate=False)\n",
    "\n",
    "    # Call the _encode_dates function to split the date column to several columns\n",
    "    date_encoder = FunctionTransformer(_encode_dates)\n",
    "    \n",
    "    # Encode the final columns\n",
    "    categorical_encoder = OneHotEncoder(handle_unknown=\"ignore\")\n",
    "    categorical_cols = [\"counter_name\", 'site_id']\n",
    "    numeric_encoder = StandardScaler()\n",
    "    numeric_cols = ['t', 'u','rr3', 'year', 'month', 'day', 'weekday', 'hour']\n",
    "    \n",
    "    # Create a ColumnTransformer object to perform all encodings\n",
    "    preprocessor = ColumnTransformer(\n",
    "        transformers=[\n",
    "            (\"cat\", categorical_encoder, categorical_cols),\n",
    "            (\"numeric\", numeric_encoder, numeric_cols) \n",
    "        ]\n",
    "    )\n",
    "    \n",
    "    params = {\n",
    "        'colsample_bytree': 0.7, \n",
    "        'learning_rate': 0.01,\n",
    "        'max_depth': 11,\n",
    "        'min_child_samples': 198,\n",
    "        'min_child_weight': 0.1,\n",
    "        'n_estimators': 2000,\n",
    "        'num_leaves': 99,\n",
    "        'reg_alpha': 1, \n",
    "        'reg_lambda': 0.1,\n",
    "        'subsample': 0.5\n",
    "    }\n",
    "    \n",
    "    # Create the regressor object \n",
    "    regressor = lgb.LGBMRegressor(**params)\n",
    "\n",
    "    # Create pipeline\n",
    "    pipe = make_pipeline(\n",
    "        merge_external,\n",
    "        date_encoder, \n",
    "        preprocessor, \n",
    "        regressor\n",
    "    )\n",
    "    \n",
    "    return pipe"
   ]
  },
  {
   "cell_type": "code",
   "execution_count": 134,
   "id": "8babefdc-5a4c-4d61-9ad4-bcec1a60847e",
   "metadata": {},
   "outputs": [],
   "source": [
    "def get_RMSE_local_pipe(pipe, X_train, y_train, X_test, y_test):\n",
    "    from sklearn.metrics import mean_squared_error\n",
    "    # Fit the pipeline on the training data\n",
    "    pipe.fit(X_train, y_train)\n",
    "\n",
    "    # Predict on training and test data\n",
    "    y_train_pred = pipe.predict(X_train)\n",
    "    y_test_pred = pipe.predict(X_test)\n",
    "\n",
    "    # Calculate RMSE for training and test data\n",
    "    rmse_train = np.sqrt(mean_squared_error(y_train, y_train_pred))\n",
    "    rmse_test = np.sqrt(mean_squared_error(y_test, y_test_pred))\n",
    "    \n",
    "    print(f\"Train set RMSE: {rmse_train:.2f}\")\n",
    "    print(f\"Test set RMSE: {rmse_test:.2f}\")\n"
   ]
  },
  {
   "cell_type": "markdown",
   "id": "c1b166f0-208f-4568-b272-08abbad250ca",
   "metadata": {},
   "source": [
    "# LOAD DATA"
   ]
  },
  {
   "cell_type": "code",
   "execution_count": 135,
   "id": "e4dec7a6-2d5a-4f26-9731-823ef2493099",
   "metadata": {},
   "outputs": [],
   "source": [
    "# Read data\n",
    "X_train, y_train = get_data.get_train_data()\n",
    "X_test, y_test = get_data.get_test_data()\n",
    "X_final_test = get_data.get_final_test_data()"
   ]
  },
  {
   "cell_type": "markdown",
   "id": "f824eda9-832d-4e61-8c84-459a8c7c8ec1",
   "metadata": {},
   "source": [
    "# TRAINING"
   ]
  },
  {
   "cell_type": "code",
   "execution_count": 136,
   "id": "faddf7e6-66ce-4f7f-a363-990bea4c0993",
   "metadata": {},
   "outputs": [
    {
     "data": {
      "text/plain": [
       "counter_id                         category\n",
       "counter_name                       category\n",
       "site_id                               int64\n",
       "site_name                          category\n",
       "date                         datetime64[us]\n",
       "counter_installation_date    datetime64[us]\n",
       "counter_technical_id               category\n",
       "latitude                            float64\n",
       "longitude                           float64\n",
       "dtype: object"
      ]
     },
     "execution_count": 136,
     "metadata": {},
     "output_type": "execute_result"
    }
   ],
   "source": [
    "X_train.dtypes"
   ]
  },
  {
   "cell_type": "code",
   "execution_count": 137,
   "id": "492f6a50-2248-400f-8455-4dda53ef7e10",
   "metadata": {},
   "outputs": [],
   "source": [
    "pipe = get_estimator()"
   ]
  },
  {
   "cell_type": "code",
   "execution_count": 138,
   "id": "dcbefb49-eb1c-4eb9-b25a-34ca038b0069",
   "metadata": {},
   "outputs": [
    {
     "name": "stderr",
     "output_type": "stream",
     "text": [
      "C:\\Users\\Thomas\\AppData\\Local\\Temp\\ipykernel_29164\\1129443217.py:21: SettingWithCopyWarning: \n",
      "A value is trying to be set on a copy of a slice from a DataFrame.\n",
      "Try using .loc[row_indexer,col_indexer] = value instead\n",
      "\n",
      "See the caveats in the documentation: https://pandas.pydata.org/pandas-docs/stable/user_guide/indexing.html#returning-a-view-versus-a-copy\n",
      "  X_weather['date'] = pd.to_datetime(X_weather['date']).astype('datetime64[us]')\n"
     ]
    },
    {
     "name": "stdout",
     "output_type": "stream",
     "text": [
      "[LightGBM] [Info] Auto-choosing row-wise multi-threading, the overhead of testing was 0.003425 seconds.\n",
      "You can set `force_row_wise=true` to remove the overhead.\n",
      "And if memory is not enough, you can set `force_col_wise=true`.\n",
      "[LightGBM] [Info] Total Bins 645\n",
      "[LightGBM] [Info] Number of data points in the train set: 455163, number of used features: 94\n",
      "[LightGBM] [Info] Start training from score 3.048589\n",
      "[LightGBM] [Warning] No further splits with positive gain, best gain: -inf\n",
      "[LightGBM] [Warning] No further splits with positive gain, best gain: -inf\n",
      "[LightGBM] [Warning] No further splits with positive gain, best gain: -inf\n"
     ]
    },
    {
     "name": "stderr",
     "output_type": "stream",
     "text": [
      "C:\\Users\\Thomas\\AppData\\Local\\Temp\\ipykernel_29164\\1129443217.py:21: SettingWithCopyWarning: \n",
      "A value is trying to be set on a copy of a slice from a DataFrame.\n",
      "Try using .loc[row_indexer,col_indexer] = value instead\n",
      "\n",
      "See the caveats in the documentation: https://pandas.pydata.org/pandas-docs/stable/user_guide/indexing.html#returning-a-view-versus-a-copy\n",
      "  X_weather['date'] = pd.to_datetime(X_weather['date']).astype('datetime64[us]')\n",
      "C:\\Users\\Thomas\\AppData\\Local\\Temp\\ipykernel_29164\\1129443217.py:21: SettingWithCopyWarning: \n",
      "A value is trying to be set on a copy of a slice from a DataFrame.\n",
      "Try using .loc[row_indexer,col_indexer] = value instead\n",
      "\n",
      "See the caveats in the documentation: https://pandas.pydata.org/pandas-docs/stable/user_guide/indexing.html#returning-a-view-versus-a-copy\n",
      "  X_weather['date'] = pd.to_datetime(X_weather['date']).astype('datetime64[us]')\n"
     ]
    },
    {
     "name": "stdout",
     "output_type": "stream",
     "text": [
      "Train set RMSE: 0.40\n",
      "Test set RMSE: 0.42\n"
     ]
    }
   ],
   "source": [
    "# Predict data and get RMSE\n",
    "get_RMSE_local_pipe(pipe, X_train, y_train, X_test, y_test)"
   ]
  },
  {
   "cell_type": "markdown",
   "id": "e29f96c1-9d36-4ff0-a1fb-a65291ea55c4",
   "metadata": {},
   "source": [
    "# FINAL SUBMIT"
   ]
  },
  {
   "cell_type": "code",
   "execution_count": 101,
   "id": "5d3076f0-5faf-433c-b9e3-d46d8dd645b4",
   "metadata": {},
   "outputs": [
    {
     "name": "stderr",
     "output_type": "stream",
     "text": [
      "C:\\Users\\Thomas\\AppData\\Local\\Temp\\ipykernel_29164\\1129443217.py:21: SettingWithCopyWarning: \n",
      "A value is trying to be set on a copy of a slice from a DataFrame.\n",
      "Try using .loc[row_indexer,col_indexer] = value instead\n",
      "\n",
      "See the caveats in the documentation: https://pandas.pydata.org/pandas-docs/stable/user_guide/indexing.html#returning-a-view-versus-a-copy\n",
      "  X_weather['date'] = pd.to_datetime(X_weather['date']).astype('datetime64[us]')\n"
     ]
    },
    {
     "name": "stdout",
     "output_type": "stream",
     "text": [
      "[LightGBM] [Info] Auto-choosing row-wise multi-threading, the overhead of testing was 0.002677 seconds.\n",
      "You can set `force_row_wise=true` to remove the overhead.\n",
      "And if memory is not enough, you can set `force_col_wise=true`.\n",
      "[LightGBM] [Info] Total Bins 645\n",
      "[LightGBM] [Info] Number of data points in the train set: 496771, number of used features: 94\n",
      "[LightGBM] [Info] Start training from score 3.080113\n",
      "[LightGBM] [Warning] No further splits with positive gain, best gain: -inf\n",
      "[LightGBM] [Warning] No further splits with positive gain, best gain: -inf\n",
      "[LightGBM] [Warning] No further splits with positive gain, best gain: -inf\n",
      "[LightGBM] [Warning] No further splits with positive gain, best gain: -inf\n",
      "[LightGBM] [Warning] No further splits with positive gain, best gain: -inf\n",
      "[LightGBM] [Warning] No further splits with positive gain, best gain: -inf\n",
      "[LightGBM] [Warning] No further splits with positive gain, best gain: -inf\n",
      "[LightGBM] [Warning] No further splits with positive gain, best gain: -inf\n",
      "[LightGBM] [Warning] No further splits with positive gain, best gain: -inf\n",
      "[LightGBM] [Warning] No further splits with positive gain, best gain: -inf\n",
      "[LightGBM] [Warning] No further splits with positive gain, best gain: -inf\n",
      "[LightGBM] [Warning] No further splits with positive gain, best gain: -inf\n",
      "[LightGBM] [Warning] No further splits with positive gain, best gain: -inf\n",
      "[LightGBM] [Warning] No further splits with positive gain, best gain: -inf\n"
     ]
    },
    {
     "data": {
      "text/html": [
       "<style>#sk-container-id-2 {color: black;}#sk-container-id-2 pre{padding: 0;}#sk-container-id-2 div.sk-toggleable {background-color: white;}#sk-container-id-2 label.sk-toggleable__label {cursor: pointer;display: block;width: 100%;margin-bottom: 0;padding: 0.3em;box-sizing: border-box;text-align: center;}#sk-container-id-2 label.sk-toggleable__label-arrow:before {content: \"▸\";float: left;margin-right: 0.25em;color: #696969;}#sk-container-id-2 label.sk-toggleable__label-arrow:hover:before {color: black;}#sk-container-id-2 div.sk-estimator:hover label.sk-toggleable__label-arrow:before {color: black;}#sk-container-id-2 div.sk-toggleable__content {max-height: 0;max-width: 0;overflow: hidden;text-align: left;background-color: #f0f8ff;}#sk-container-id-2 div.sk-toggleable__content pre {margin: 0.2em;color: black;border-radius: 0.25em;background-color: #f0f8ff;}#sk-container-id-2 input.sk-toggleable__control:checked~div.sk-toggleable__content {max-height: 200px;max-width: 100%;overflow: auto;}#sk-container-id-2 input.sk-toggleable__control:checked~label.sk-toggleable__label-arrow:before {content: \"▾\";}#sk-container-id-2 div.sk-estimator input.sk-toggleable__control:checked~label.sk-toggleable__label {background-color: #d4ebff;}#sk-container-id-2 div.sk-label input.sk-toggleable__control:checked~label.sk-toggleable__label {background-color: #d4ebff;}#sk-container-id-2 input.sk-hidden--visually {border: 0;clip: rect(1px 1px 1px 1px);clip: rect(1px, 1px, 1px, 1px);height: 1px;margin: -1px;overflow: hidden;padding: 0;position: absolute;width: 1px;}#sk-container-id-2 div.sk-estimator {font-family: monospace;background-color: #f0f8ff;border: 1px dotted black;border-radius: 0.25em;box-sizing: border-box;margin-bottom: 0.5em;}#sk-container-id-2 div.sk-estimator:hover {background-color: #d4ebff;}#sk-container-id-2 div.sk-parallel-item::after {content: \"\";width: 100%;border-bottom: 1px solid gray;flex-grow: 1;}#sk-container-id-2 div.sk-label:hover label.sk-toggleable__label {background-color: #d4ebff;}#sk-container-id-2 div.sk-serial::before {content: \"\";position: absolute;border-left: 1px solid gray;box-sizing: border-box;top: 0;bottom: 0;left: 50%;z-index: 0;}#sk-container-id-2 div.sk-serial {display: flex;flex-direction: column;align-items: center;background-color: white;padding-right: 0.2em;padding-left: 0.2em;position: relative;}#sk-container-id-2 div.sk-item {position: relative;z-index: 1;}#sk-container-id-2 div.sk-parallel {display: flex;align-items: stretch;justify-content: center;background-color: white;position: relative;}#sk-container-id-2 div.sk-item::before, #sk-container-id-2 div.sk-parallel-item::before {content: \"\";position: absolute;border-left: 1px solid gray;box-sizing: border-box;top: 0;bottom: 0;left: 50%;z-index: -1;}#sk-container-id-2 div.sk-parallel-item {display: flex;flex-direction: column;z-index: 1;position: relative;background-color: white;}#sk-container-id-2 div.sk-parallel-item:first-child::after {align-self: flex-end;width: 50%;}#sk-container-id-2 div.sk-parallel-item:last-child::after {align-self: flex-start;width: 50%;}#sk-container-id-2 div.sk-parallel-item:only-child::after {width: 0;}#sk-container-id-2 div.sk-dashed-wrapped {border: 1px dashed gray;margin: 0 0.4em 0.5em 0.4em;box-sizing: border-box;padding-bottom: 0.4em;background-color: white;}#sk-container-id-2 div.sk-label label {font-family: monospace;font-weight: bold;display: inline-block;line-height: 1.2em;}#sk-container-id-2 div.sk-label-container {text-align: center;}#sk-container-id-2 div.sk-container {/* jupyter's `normalize.less` sets `[hidden] { display: none; }` but bootstrap.min.css set `[hidden] { display: none !important; }` so we also need the `!important` here to be able to override the default hidden behavior on the sphinx rendered scikit-learn.org. See: https://github.com/scikit-learn/scikit-learn/issues/21755 */display: inline-block !important;position: relative;}#sk-container-id-2 div.sk-text-repr-fallback {display: none;}</style><div id=\"sk-container-id-2\" class=\"sk-top-container\"><div class=\"sk-text-repr-fallback\"><pre>Pipeline(steps=[(&#x27;functiontransformer-1&#x27;,\n",
       "                 FunctionTransformer(func=&lt;function merge_external_data at 0x0000020BA0964700&gt;)),\n",
       "                (&#x27;functiontransformer-2&#x27;,\n",
       "                 FunctionTransformer(func=&lt;function _encode_dates at 0x0000020BA0967880&gt;)),\n",
       "                (&#x27;columntransformer&#x27;,\n",
       "                 ColumnTransformer(transformers=[(&#x27;cat&#x27;,\n",
       "                                                  OneHotEncoder(handle_unknown=&#x27;ignore&#x27;),\n",
       "                                                  [&#x27;counter_name&#x27;, &#x27;site_id&#x27;]),\n",
       "                                                 (&#x27;numeric&#x27;, StandardScaler(),\n",
       "                                                  [&#x27;t&#x27;, &#x27;u&#x27;, &#x27;rr3&#x27;, &#x27;year&#x27;,\n",
       "                                                   &#x27;month&#x27;, &#x27;day&#x27;, &#x27;weekday&#x27;,\n",
       "                                                   &#x27;hour&#x27;])])),\n",
       "                (&#x27;lgbmregressor&#x27;,\n",
       "                 LGBMRegressor(colsample_bytree=0.7, learning_rate=0.01,\n",
       "                               max_depth=11, min_child_samples=198,\n",
       "                               min_child_weight=0.1, n_estimators=2000,\n",
       "                               num_leaves=99, reg_alpha=1, reg_lambda=0.1,\n",
       "                               subsample=0.5))])</pre><b>In a Jupyter environment, please rerun this cell to show the HTML representation or trust the notebook. <br />On GitHub, the HTML representation is unable to render, please try loading this page with nbviewer.org.</b></div><div class=\"sk-container\" hidden><div class=\"sk-item sk-dashed-wrapped\"><div class=\"sk-label-container\"><div class=\"sk-label sk-toggleable\"><input class=\"sk-toggleable__control sk-hidden--visually\" id=\"sk-estimator-id-10\" type=\"checkbox\" ><label for=\"sk-estimator-id-10\" class=\"sk-toggleable__label sk-toggleable__label-arrow\">Pipeline</label><div class=\"sk-toggleable__content\"><pre>Pipeline(steps=[(&#x27;functiontransformer-1&#x27;,\n",
       "                 FunctionTransformer(func=&lt;function merge_external_data at 0x0000020BA0964700&gt;)),\n",
       "                (&#x27;functiontransformer-2&#x27;,\n",
       "                 FunctionTransformer(func=&lt;function _encode_dates at 0x0000020BA0967880&gt;)),\n",
       "                (&#x27;columntransformer&#x27;,\n",
       "                 ColumnTransformer(transformers=[(&#x27;cat&#x27;,\n",
       "                                                  OneHotEncoder(handle_unknown=&#x27;ignore&#x27;),\n",
       "                                                  [&#x27;counter_name&#x27;, &#x27;site_id&#x27;]),\n",
       "                                                 (&#x27;numeric&#x27;, StandardScaler(),\n",
       "                                                  [&#x27;t&#x27;, &#x27;u&#x27;, &#x27;rr3&#x27;, &#x27;year&#x27;,\n",
       "                                                   &#x27;month&#x27;, &#x27;day&#x27;, &#x27;weekday&#x27;,\n",
       "                                                   &#x27;hour&#x27;])])),\n",
       "                (&#x27;lgbmregressor&#x27;,\n",
       "                 LGBMRegressor(colsample_bytree=0.7, learning_rate=0.01,\n",
       "                               max_depth=11, min_child_samples=198,\n",
       "                               min_child_weight=0.1, n_estimators=2000,\n",
       "                               num_leaves=99, reg_alpha=1, reg_lambda=0.1,\n",
       "                               subsample=0.5))])</pre></div></div></div><div class=\"sk-serial\"><div class=\"sk-item\"><div class=\"sk-estimator sk-toggleable\"><input class=\"sk-toggleable__control sk-hidden--visually\" id=\"sk-estimator-id-11\" type=\"checkbox\" ><label for=\"sk-estimator-id-11\" class=\"sk-toggleable__label sk-toggleable__label-arrow\">FunctionTransformer</label><div class=\"sk-toggleable__content\"><pre>FunctionTransformer(func=&lt;function merge_external_data at 0x0000020BA0964700&gt;)</pre></div></div></div><div class=\"sk-item\"><div class=\"sk-estimator sk-toggleable\"><input class=\"sk-toggleable__control sk-hidden--visually\" id=\"sk-estimator-id-12\" type=\"checkbox\" ><label for=\"sk-estimator-id-12\" class=\"sk-toggleable__label sk-toggleable__label-arrow\">FunctionTransformer</label><div class=\"sk-toggleable__content\"><pre>FunctionTransformer(func=&lt;function _encode_dates at 0x0000020BA0967880&gt;)</pre></div></div></div><div class=\"sk-item sk-dashed-wrapped\"><div class=\"sk-label-container\"><div class=\"sk-label sk-toggleable\"><input class=\"sk-toggleable__control sk-hidden--visually\" id=\"sk-estimator-id-13\" type=\"checkbox\" ><label for=\"sk-estimator-id-13\" class=\"sk-toggleable__label sk-toggleable__label-arrow\">columntransformer: ColumnTransformer</label><div class=\"sk-toggleable__content\"><pre>ColumnTransformer(transformers=[(&#x27;cat&#x27;, OneHotEncoder(handle_unknown=&#x27;ignore&#x27;),\n",
       "                                 [&#x27;counter_name&#x27;, &#x27;site_id&#x27;]),\n",
       "                                (&#x27;numeric&#x27;, StandardScaler(),\n",
       "                                 [&#x27;t&#x27;, &#x27;u&#x27;, &#x27;rr3&#x27;, &#x27;year&#x27;, &#x27;month&#x27;, &#x27;day&#x27;,\n",
       "                                  &#x27;weekday&#x27;, &#x27;hour&#x27;])])</pre></div></div></div><div class=\"sk-parallel\"><div class=\"sk-parallel-item\"><div class=\"sk-item\"><div class=\"sk-label-container\"><div class=\"sk-label sk-toggleable\"><input class=\"sk-toggleable__control sk-hidden--visually\" id=\"sk-estimator-id-14\" type=\"checkbox\" ><label for=\"sk-estimator-id-14\" class=\"sk-toggleable__label sk-toggleable__label-arrow\">cat</label><div class=\"sk-toggleable__content\"><pre>[&#x27;counter_name&#x27;, &#x27;site_id&#x27;]</pre></div></div></div><div class=\"sk-serial\"><div class=\"sk-item\"><div class=\"sk-estimator sk-toggleable\"><input class=\"sk-toggleable__control sk-hidden--visually\" id=\"sk-estimator-id-15\" type=\"checkbox\" ><label for=\"sk-estimator-id-15\" class=\"sk-toggleable__label sk-toggleable__label-arrow\">OneHotEncoder</label><div class=\"sk-toggleable__content\"><pre>OneHotEncoder(handle_unknown=&#x27;ignore&#x27;)</pre></div></div></div></div></div></div><div class=\"sk-parallel-item\"><div class=\"sk-item\"><div class=\"sk-label-container\"><div class=\"sk-label sk-toggleable\"><input class=\"sk-toggleable__control sk-hidden--visually\" id=\"sk-estimator-id-16\" type=\"checkbox\" ><label for=\"sk-estimator-id-16\" class=\"sk-toggleable__label sk-toggleable__label-arrow\">numeric</label><div class=\"sk-toggleable__content\"><pre>[&#x27;t&#x27;, &#x27;u&#x27;, &#x27;rr3&#x27;, &#x27;year&#x27;, &#x27;month&#x27;, &#x27;day&#x27;, &#x27;weekday&#x27;, &#x27;hour&#x27;]</pre></div></div></div><div class=\"sk-serial\"><div class=\"sk-item\"><div class=\"sk-estimator sk-toggleable\"><input class=\"sk-toggleable__control sk-hidden--visually\" id=\"sk-estimator-id-17\" type=\"checkbox\" ><label for=\"sk-estimator-id-17\" class=\"sk-toggleable__label sk-toggleable__label-arrow\">StandardScaler</label><div class=\"sk-toggleable__content\"><pre>StandardScaler()</pre></div></div></div></div></div></div></div></div><div class=\"sk-item\"><div class=\"sk-estimator sk-toggleable\"><input class=\"sk-toggleable__control sk-hidden--visually\" id=\"sk-estimator-id-18\" type=\"checkbox\" ><label for=\"sk-estimator-id-18\" class=\"sk-toggleable__label sk-toggleable__label-arrow\">LGBMRegressor</label><div class=\"sk-toggleable__content\"><pre>LGBMRegressor(colsample_bytree=0.7, learning_rate=0.01, max_depth=11,\n",
       "              min_child_samples=198, min_child_weight=0.1, n_estimators=2000,\n",
       "              num_leaves=99, reg_alpha=1, reg_lambda=0.1, subsample=0.5)</pre></div></div></div></div></div></div></div>"
      ],
      "text/plain": [
       "Pipeline(steps=[('functiontransformer-1',\n",
       "                 FunctionTransformer(func=<function merge_external_data at 0x0000020BA0964700>)),\n",
       "                ('functiontransformer-2',\n",
       "                 FunctionTransformer(func=<function _encode_dates at 0x0000020BA0967880>)),\n",
       "                ('columntransformer',\n",
       "                 ColumnTransformer(transformers=[('cat',\n",
       "                                                  OneHotEncoder(handle_unknown='ignore'),\n",
       "                                                  ['counter_name', 'site_id']),\n",
       "                                                 ('numeric', StandardScaler(),\n",
       "                                                  ['t', 'u', 'rr3', 'year',\n",
       "                                                   'month', 'day', 'weekday',\n",
       "                                                   'hour'])])),\n",
       "                ('lgbmregressor',\n",
       "                 LGBMRegressor(colsample_bytree=0.7, learning_rate=0.01,\n",
       "                               max_depth=11, min_child_samples=198,\n",
       "                               min_child_weight=0.1, n_estimators=2000,\n",
       "                               num_leaves=99, reg_alpha=1, reg_lambda=0.1,\n",
       "                               subsample=0.5))])"
      ]
     },
     "execution_count": 101,
     "metadata": {},
     "output_type": "execute_result"
    }
   ],
   "source": [
    "concatenated_X_train_test = pd.concat([X_train, X_test], ignore_index=False)\n",
    "concatenated_y_train_test = np.concatenate([y_train, y_test], axis=0)\n",
    "\n",
    "pipe.fit(concatenated_X_train_test, concatenated_y_train_test)"
   ]
  },
  {
   "cell_type": "markdown",
   "id": "5b9a2bd0-6a72-45e4-9946-6be7d297829b",
   "metadata": {},
   "source": [
    "## Create csv"
   ]
  },
  {
   "cell_type": "code",
   "execution_count": 102,
   "id": "d3c26a02-12b4-49da-aac2-e79690ce4705",
   "metadata": {},
   "outputs": [],
   "source": [
    "def submission_kaggle(model, X_final_test):\n",
    "    y_pred = model.predict(X_final_test)\n",
    "    print(y_pred)\n",
    "    results = pd.DataFrame(\n",
    "        dict(\n",
    "            Id=X_final_test.index,\n",
    "            log_bike_count=y_pred,\n",
    "        )\n",
    "    )\n",
    "    results.to_csv(\"submission.csv\", index=False)\n",
    "\n",
    "    return results"
   ]
  },
  {
   "cell_type": "code",
   "execution_count": 103,
   "id": "5866a449-5ba7-45c3-9698-31b8a98700e3",
   "metadata": {},
   "outputs": [
    {
     "name": "stderr",
     "output_type": "stream",
     "text": [
      "C:\\Users\\Thomas\\AppData\\Local\\Temp\\ipykernel_29164\\1129443217.py:21: SettingWithCopyWarning: \n",
      "A value is trying to be set on a copy of a slice from a DataFrame.\n",
      "Try using .loc[row_indexer,col_indexer] = value instead\n",
      "\n",
      "See the caveats in the documentation: https://pandas.pydata.org/pandas-docs/stable/user_guide/indexing.html#returning-a-view-versus-a-copy\n",
      "  X_weather['date'] = pd.to_datetime(X_weather['date']).astype('datetime64[us]')\n"
     ]
    },
    {
     "name": "stdout",
     "output_type": "stream",
     "text": [
      "[1.34708362 1.29250497 1.09140572 ... 2.53740358 1.75007733 1.84171205]\n"
     ]
    }
   ],
   "source": [
    "a = submission_kaggle(pipe, X_final_test)"
   ]
  },
  {
   "cell_type": "code",
   "execution_count": 104,
   "id": "ca9d7b4c-9809-4094-a552-c0a1a6ea2845",
   "metadata": {},
   "outputs": [
    {
     "data": {
      "text/html": [
       "<div>\n",
       "<style scoped>\n",
       "    .dataframe tbody tr th:only-of-type {\n",
       "        vertical-align: middle;\n",
       "    }\n",
       "\n",
       "    .dataframe tbody tr th {\n",
       "        vertical-align: top;\n",
       "    }\n",
       "\n",
       "    .dataframe thead th {\n",
       "        text-align: right;\n",
       "    }\n",
       "</style>\n",
       "<table border=\"1\" class=\"dataframe\">\n",
       "  <thead>\n",
       "    <tr style=\"text-align: right;\">\n",
       "      <th></th>\n",
       "      <th>Id</th>\n",
       "      <th>log_bike_count</th>\n",
       "    </tr>\n",
       "  </thead>\n",
       "  <tbody>\n",
       "    <tr>\n",
       "      <th>0</th>\n",
       "      <td>17081</td>\n",
       "      <td>1.347084</td>\n",
       "    </tr>\n",
       "    <tr>\n",
       "      <th>1</th>\n",
       "      <td>18655</td>\n",
       "      <td>1.292505</td>\n",
       "    </tr>\n",
       "    <tr>\n",
       "      <th>2</th>\n",
       "      <td>3124</td>\n",
       "      <td>1.091406</td>\n",
       "    </tr>\n",
       "    <tr>\n",
       "      <th>3</th>\n",
       "      <td>4147</td>\n",
       "      <td>1.334263</td>\n",
       "    </tr>\n",
       "    <tr>\n",
       "      <th>4</th>\n",
       "      <td>48210</td>\n",
       "      <td>2.102159</td>\n",
       "    </tr>\n",
       "    <tr>\n",
       "      <th>...</th>\n",
       "      <td>...</td>\n",
       "      <td>...</td>\n",
       "    </tr>\n",
       "    <tr>\n",
       "      <th>51435</th>\n",
       "      <td>42131</td>\n",
       "      <td>2.719680</td>\n",
       "    </tr>\n",
       "    <tr>\n",
       "      <th>51436</th>\n",
       "      <td>43042</td>\n",
       "      <td>1.862709</td>\n",
       "    </tr>\n",
       "    <tr>\n",
       "      <th>51437</th>\n",
       "      <td>43929</td>\n",
       "      <td>2.537404</td>\n",
       "    </tr>\n",
       "    <tr>\n",
       "      <th>51438</th>\n",
       "      <td>5707</td>\n",
       "      <td>1.750077</td>\n",
       "    </tr>\n",
       "    <tr>\n",
       "      <th>51439</th>\n",
       "      <td>6855</td>\n",
       "      <td>1.841712</td>\n",
       "    </tr>\n",
       "  </tbody>\n",
       "</table>\n",
       "<p>51440 rows × 2 columns</p>\n",
       "</div>"
      ],
      "text/plain": [
       "          Id  log_bike_count\n",
       "0      17081        1.347084\n",
       "1      18655        1.292505\n",
       "2       3124        1.091406\n",
       "3       4147        1.334263\n",
       "4      48210        2.102159\n",
       "...      ...             ...\n",
       "51435  42131        2.719680\n",
       "51436  43042        1.862709\n",
       "51437  43929        2.537404\n",
       "51438   5707        1.750077\n",
       "51439   6855        1.841712\n",
       "\n",
       "[51440 rows x 2 columns]"
      ]
     },
     "execution_count": 104,
     "metadata": {},
     "output_type": "execute_result"
    }
   ],
   "source": [
    "a"
   ]
  },
  {
   "cell_type": "code",
   "execution_count": null,
   "id": "084acf2c-dbb5-4be0-bf64-3417de637d73",
   "metadata": {},
   "outputs": [],
   "source": []
  }
 ],
 "metadata": {
  "kernelspec": {
   "display_name": "Python 3 (ipykernel)",
   "language": "python",
   "name": "python3"
  },
  "language_info": {
   "codemirror_mode": {
    "name": "ipython",
    "version": 3
   },
   "file_extension": ".py",
   "mimetype": "text/x-python",
   "name": "python",
   "nbconvert_exporter": "python",
   "pygments_lexer": "ipython3",
   "version": "3.10.13"
  }
 },
 "nbformat": 4,
 "nbformat_minor": 5
}
