{
 "cells": [
  {
   "cell_type": "markdown",
   "id": "fa46e181",
   "metadata": {},
   "source": [
    "# Training model"
   ]
  },
  {
   "cell_type": "code",
   "execution_count": 1,
   "id": "8b319720",
   "metadata": {},
   "outputs": [],
   "source": [
    "## To get some insights\n",
    "# https://github.com/ceptln/paris-bike-traffic-prediction/tree/main\n",
    "\n",
    "from pathlib import Path\n",
    "from sklearn.model_selection import RandomizedSearchCV\n",
    "from scipy.stats import randint, uniform\n",
    "import numpy as np\n",
    "import pandas as pd\n",
    "import random\n",
    "import matplotlib.pyplot as plt\n",
    "from itertools import combinations\n",
    "import sklearn\n",
    "from sklearn.preprocessing import FunctionTransformer\n",
    "from sklearn.preprocessing import OneHotEncoder\n",
    "from sklearn.metrics import mean_squared_error\n",
    "from sklearn.compose import ColumnTransformer\n",
    "from sklearn.linear_model import Ridge\n",
    "import lightgbm as lgb\n",
    "from sklearn.linear_model import Lasso, ElasticNet\n",
    "from sklearn.linear_model import LogisticRegression\n",
    "from sklearn.neural_network import MLPRegressor\n",
    "from sklearn.ensemble import RandomForestRegressor, GradientBoostingRegressor\n",
    "import xgboost as xgb\n",
    "from sklearn.pipeline import make_pipeline\n",
    "from sklearn.model_selection import cross_val_score\n",
    "from sklearn.preprocessing import StandardScaler\n",
    "\n",
    "from submissions.external_data.estimator import _encode_dates, _merge_external_data\n",
    "import utils.get_data_index_arange as get_data"
   ]
  },
  {
   "cell_type": "markdown",
   "id": "3d8e4db5-6407-438a-b58c-59067dcdc2c9",
   "metadata": {},
   "source": [
    "### Function submission kaggle"
   ]
  },
  {
   "cell_type": "code",
   "execution_count": 2,
   "id": "8e0b08f4-fdc6-45d6-b968-07921e101ead",
   "metadata": {},
   "outputs": [],
   "source": [
    "def submission_kaggle(model, X_final_test, original_index):\n",
    "    y_pred = model.predict(X_final_test)\n",
    "    print(y_pred)\n",
    "    results = pd.DataFrame(\n",
    "        dict(\n",
    "            Id=original_index,\n",
    "            log_bike_count=y_pred,\n",
    "        )\n",
    "    )\n",
    "    results.to_csv(\"submission.csv\", index=False)\n",
    "\n",
    "    return results"
   ]
  },
  {
   "cell_type": "markdown",
   "id": "4ba175e3",
   "metadata": {},
   "source": [
    "## Read Data"
   ]
  },
  {
   "cell_type": "code",
   "execution_count": 3,
   "id": "47b8f384-d4b5-42ee-b2dd-c7e13e88ecbb",
   "metadata": {},
   "outputs": [],
   "source": [
    "def add_external_data(X):\n",
    "    \n",
    "    X = X.copy()\n",
    "    \n",
    "    # merge original data + external data\n",
    "    merged_X_train_external_DATA = get_data._merge_external_data_weather(X)\n",
    "    \n",
    "    # merge original data + external data + holidays\n",
    "    merged_X_train_external_HOLIDAYS = get_data._merge_holidays_week_end(merged_X_train_external_DATA)\n",
    "    \n",
    "    # merge original data + external data + holidays + data COVID\n",
    "    merged_X_train_external_HOLIDAYS_COVID = get_data._merge_Curfews_lockdowns_COVID(merged_X_train_external_HOLIDAYS)\n",
    "    merged_X_train_external_HOLIDAYS_COVID = get_data._merge_indicators_COVID(merged_X_train_external_HOLIDAYS_COVID)\n",
    "    \n",
    "    # merge original data + external data + holidays + data COVID + data accidents\n",
    "    merged_X_train_external_HOLIDAYS_COVID_ACCIDENTS = get_data._merge_road_accidents(merged_X_train_external_HOLIDAYS_COVID)\n",
    "     \n",
    "    return merged_X_train_external_HOLIDAYS_COVID_ACCIDENTS"
   ]
  },
  {
   "cell_type": "code",
   "execution_count": 4,
   "id": "50fd8ee4",
   "metadata": {},
   "outputs": [],
   "source": [
    "# Read data\n",
    "X_train, y_train = get_data.get_train_data()\n",
    "X_test, y_test = get_data.get_test_data()\n",
    "X_final_test = get_data.get_final_test_data()"
   ]
  },
  {
   "cell_type": "code",
   "execution_count": 5,
   "id": "95a61e5b-411e-4eb5-9870-a734d4088940",
   "metadata": {},
   "outputs": [
    {
     "data": {
      "text/html": [
       "<div>\n",
       "<style scoped>\n",
       "    .dataframe tbody tr th:only-of-type {\n",
       "        vertical-align: middle;\n",
       "    }\n",
       "\n",
       "    .dataframe tbody tr th {\n",
       "        vertical-align: top;\n",
       "    }\n",
       "\n",
       "    .dataframe thead th {\n",
       "        text-align: right;\n",
       "    }\n",
       "</style>\n",
       "<table border=\"1\" class=\"dataframe\">\n",
       "  <thead>\n",
       "    <tr style=\"text-align: right;\">\n",
       "      <th></th>\n",
       "      <th>counter_id</th>\n",
       "      <th>counter_name</th>\n",
       "      <th>site_id</th>\n",
       "      <th>site_name</th>\n",
       "      <th>date</th>\n",
       "      <th>counter_installation_date</th>\n",
       "      <th>counter_technical_id</th>\n",
       "      <th>latitude</th>\n",
       "      <th>longitude</th>\n",
       "      <th>ff</th>\n",
       "      <th>...</th>\n",
       "      <th>is_holiday</th>\n",
       "      <th>is_weekend</th>\n",
       "      <th>is_lockdown</th>\n",
       "      <th>is_curfew</th>\n",
       "      <th>hosp</th>\n",
       "      <th>rea</th>\n",
       "      <th>incid_rea</th>\n",
       "      <th>rad</th>\n",
       "      <th>Max_Grav_accidents</th>\n",
       "      <th>Count_accidents</th>\n",
       "    </tr>\n",
       "  </thead>\n",
       "  <tbody>\n",
       "    <tr>\n",
       "      <th>0</th>\n",
       "      <td>100049407-353255860</td>\n",
       "      <td>152 boulevard du Montparnasse E-O</td>\n",
       "      <td>100049407</td>\n",
       "      <td>152 boulevard du Montparnasse</td>\n",
       "      <td>2020-09-01 01:00:00</td>\n",
       "      <td>2018-12-07</td>\n",
       "      <td>Y2H19070373</td>\n",
       "      <td>48.840801</td>\n",
       "      <td>2.333233</td>\n",
       "      <td>1.6</td>\n",
       "      <td>...</td>\n",
       "      <td>False</td>\n",
       "      <td>0</td>\n",
       "      <td>False</td>\n",
       "      <td>False</td>\n",
       "      <td>293</td>\n",
       "      <td>42</td>\n",
       "      <td>3.0</td>\n",
       "      <td>6641</td>\n",
       "      <td>0.0</td>\n",
       "      <td>0.0</td>\n",
       "    </tr>\n",
       "    <tr>\n",
       "      <th>30</th>\n",
       "      <td>100049407-353255859</td>\n",
       "      <td>152 boulevard du Montparnasse O-E</td>\n",
       "      <td>100049407</td>\n",
       "      <td>152 boulevard du Montparnasse</td>\n",
       "      <td>2020-09-01 01:00:00</td>\n",
       "      <td>2018-12-07</td>\n",
       "      <td>Y2H19070373</td>\n",
       "      <td>48.840801</td>\n",
       "      <td>2.333233</td>\n",
       "      <td>1.6</td>\n",
       "      <td>...</td>\n",
       "      <td>False</td>\n",
       "      <td>0</td>\n",
       "      <td>False</td>\n",
       "      <td>False</td>\n",
       "      <td>293</td>\n",
       "      <td>42</td>\n",
       "      <td>3.0</td>\n",
       "      <td>6641</td>\n",
       "      <td>0.0</td>\n",
       "      <td>0.0</td>\n",
       "    </tr>\n",
       "    <tr>\n",
       "      <th>31</th>\n",
       "      <td>100036719-104036719</td>\n",
       "      <td>18 quai de l'Hôtel de Ville NO-SE</td>\n",
       "      <td>100036719</td>\n",
       "      <td>18 quai de l'Hôtel de Ville</td>\n",
       "      <td>2020-09-01 01:00:00</td>\n",
       "      <td>2017-07-12</td>\n",
       "      <td>Y2H19027732</td>\n",
       "      <td>48.853720</td>\n",
       "      <td>2.357020</td>\n",
       "      <td>1.6</td>\n",
       "      <td>...</td>\n",
       "      <td>False</td>\n",
       "      <td>0</td>\n",
       "      <td>False</td>\n",
       "      <td>False</td>\n",
       "      <td>293</td>\n",
       "      <td>42</td>\n",
       "      <td>3.0</td>\n",
       "      <td>6641</td>\n",
       "      <td>0.0</td>\n",
       "      <td>0.0</td>\n",
       "    </tr>\n",
       "    <tr>\n",
       "      <th>32</th>\n",
       "      <td>100036719-103036719</td>\n",
       "      <td>18 quai de l'Hôtel de Ville SE-NO</td>\n",
       "      <td>100036719</td>\n",
       "      <td>18 quai de l'Hôtel de Ville</td>\n",
       "      <td>2020-09-01 01:00:00</td>\n",
       "      <td>2017-07-12</td>\n",
       "      <td>Y2H19027732</td>\n",
       "      <td>48.853720</td>\n",
       "      <td>2.357020</td>\n",
       "      <td>1.6</td>\n",
       "      <td>...</td>\n",
       "      <td>False</td>\n",
       "      <td>0</td>\n",
       "      <td>False</td>\n",
       "      <td>False</td>\n",
       "      <td>293</td>\n",
       "      <td>42</td>\n",
       "      <td>3.0</td>\n",
       "      <td>6641</td>\n",
       "      <td>0.0</td>\n",
       "      <td>0.0</td>\n",
       "    </tr>\n",
       "    <tr>\n",
       "      <th>33</th>\n",
       "      <td>100063175-353277233</td>\n",
       "      <td>20 Avenue de Clichy NO-SE</td>\n",
       "      <td>100063175</td>\n",
       "      <td>20 Avenue de Clichy</td>\n",
       "      <td>2020-09-01 01:00:00</td>\n",
       "      <td>2020-07-22</td>\n",
       "      <td>Y2H20073268</td>\n",
       "      <td>48.885290</td>\n",
       "      <td>2.326660</td>\n",
       "      <td>1.6</td>\n",
       "      <td>...</td>\n",
       "      <td>False</td>\n",
       "      <td>0</td>\n",
       "      <td>False</td>\n",
       "      <td>False</td>\n",
       "      <td>293</td>\n",
       "      <td>42</td>\n",
       "      <td>3.0</td>\n",
       "      <td>6641</td>\n",
       "      <td>0.0</td>\n",
       "      <td>0.0</td>\n",
       "    </tr>\n",
       "  </tbody>\n",
       "</table>\n",
       "<p>5 rows × 26 columns</p>\n",
       "</div>"
      ],
      "text/plain": [
       "             counter_id                       counter_name    site_id  \\\n",
       "0   100049407-353255860  152 boulevard du Montparnasse E-O  100049407   \n",
       "30  100049407-353255859  152 boulevard du Montparnasse O-E  100049407   \n",
       "31  100036719-104036719  18 quai de l'Hôtel de Ville NO-SE  100036719   \n",
       "32  100036719-103036719  18 quai de l'Hôtel de Ville SE-NO  100036719   \n",
       "33  100063175-353277233          20 Avenue de Clichy NO-SE  100063175   \n",
       "\n",
       "                        site_name                date  \\\n",
       "0   152 boulevard du Montparnasse 2020-09-01 01:00:00   \n",
       "30  152 boulevard du Montparnasse 2020-09-01 01:00:00   \n",
       "31    18 quai de l'Hôtel de Ville 2020-09-01 01:00:00   \n",
       "32    18 quai de l'Hôtel de Ville 2020-09-01 01:00:00   \n",
       "33            20 Avenue de Clichy 2020-09-01 01:00:00   \n",
       "\n",
       "   counter_installation_date counter_technical_id   latitude  longitude   ff  \\\n",
       "0                 2018-12-07          Y2H19070373  48.840801   2.333233  1.6   \n",
       "30                2018-12-07          Y2H19070373  48.840801   2.333233  1.6   \n",
       "31                2017-07-12          Y2H19027732  48.853720   2.357020  1.6   \n",
       "32                2017-07-12          Y2H19027732  48.853720   2.357020  1.6   \n",
       "33                2020-07-22          Y2H20073268  48.885290   2.326660  1.6   \n",
       "\n",
       "    ...  is_holiday  is_weekend  is_lockdown  is_curfew  hosp  rea  incid_rea  \\\n",
       "0   ...       False           0        False      False   293   42        3.0   \n",
       "30  ...       False           0        False      False   293   42        3.0   \n",
       "31  ...       False           0        False      False   293   42        3.0   \n",
       "32  ...       False           0        False      False   293   42        3.0   \n",
       "33  ...       False           0        False      False   293   42        3.0   \n",
       "\n",
       "     rad  Max_Grav_accidents  Count_accidents  \n",
       "0   6641                 0.0              0.0  \n",
       "30  6641                 0.0              0.0  \n",
       "31  6641                 0.0              0.0  \n",
       "32  6641                 0.0              0.0  \n",
       "33  6641                 0.0              0.0  \n",
       "\n",
       "[5 rows x 26 columns]"
      ]
     },
     "execution_count": 5,
     "metadata": {},
     "output_type": "execute_result"
    }
   ],
   "source": [
    "X_train_plus = add_external_data(X_train)\n",
    "X_train_plus.head()"
   ]
  },
  {
   "cell_type": "code",
   "execution_count": 6,
   "id": "12de1990-5753-4250-8714-771742a3d921",
   "metadata": {},
   "outputs": [
    {
     "data": {
      "text/html": [
       "<div>\n",
       "<style scoped>\n",
       "    .dataframe tbody tr th:only-of-type {\n",
       "        vertical-align: middle;\n",
       "    }\n",
       "\n",
       "    .dataframe tbody tr th {\n",
       "        vertical-align: top;\n",
       "    }\n",
       "\n",
       "    .dataframe thead th {\n",
       "        text-align: right;\n",
       "    }\n",
       "</style>\n",
       "<table border=\"1\" class=\"dataframe\">\n",
       "  <thead>\n",
       "    <tr style=\"text-align: right;\">\n",
       "      <th></th>\n",
       "      <th>counter_id</th>\n",
       "      <th>counter_name</th>\n",
       "      <th>site_id</th>\n",
       "      <th>site_name</th>\n",
       "      <th>date</th>\n",
       "      <th>counter_installation_date</th>\n",
       "      <th>counter_technical_id</th>\n",
       "      <th>latitude</th>\n",
       "      <th>longitude</th>\n",
       "      <th>ff</th>\n",
       "      <th>...</th>\n",
       "      <th>is_holiday</th>\n",
       "      <th>is_weekend</th>\n",
       "      <th>is_lockdown</th>\n",
       "      <th>is_curfew</th>\n",
       "      <th>hosp</th>\n",
       "      <th>rea</th>\n",
       "      <th>incid_rea</th>\n",
       "      <th>rad</th>\n",
       "      <th>Max_Grav_accidents</th>\n",
       "      <th>Count_accidents</th>\n",
       "    </tr>\n",
       "  </thead>\n",
       "  <tbody>\n",
       "    <tr>\n",
       "      <th>0</th>\n",
       "      <td>100049407-353255860</td>\n",
       "      <td>152 boulevard du Montparnasse E-O</td>\n",
       "      <td>100049407</td>\n",
       "      <td>152 boulevard du Montparnasse</td>\n",
       "      <td>2021-08-10 01:00:00</td>\n",
       "      <td>2018-12-07</td>\n",
       "      <td>Y2H19070373</td>\n",
       "      <td>48.840801</td>\n",
       "      <td>2.333233</td>\n",
       "      <td>1.9</td>\n",
       "      <td>...</td>\n",
       "      <td>False</td>\n",
       "      <td>0</td>\n",
       "      <td>False</td>\n",
       "      <td>False</td>\n",
       "      <td>284</td>\n",
       "      <td>84</td>\n",
       "      <td>6.0</td>\n",
       "      <td>21167</td>\n",
       "      <td>0.0</td>\n",
       "      <td>0.0</td>\n",
       "    </tr>\n",
       "    <tr>\n",
       "      <th>31</th>\n",
       "      <td>100049407-353255859</td>\n",
       "      <td>152 boulevard du Montparnasse O-E</td>\n",
       "      <td>100049407</td>\n",
       "      <td>152 boulevard du Montparnasse</td>\n",
       "      <td>2021-08-10 01:00:00</td>\n",
       "      <td>2018-12-07</td>\n",
       "      <td>Y2H19070373</td>\n",
       "      <td>48.840801</td>\n",
       "      <td>2.333233</td>\n",
       "      <td>1.9</td>\n",
       "      <td>...</td>\n",
       "      <td>False</td>\n",
       "      <td>0</td>\n",
       "      <td>False</td>\n",
       "      <td>False</td>\n",
       "      <td>284</td>\n",
       "      <td>84</td>\n",
       "      <td>6.0</td>\n",
       "      <td>21167</td>\n",
       "      <td>0.0</td>\n",
       "      <td>0.0</td>\n",
       "    </tr>\n",
       "    <tr>\n",
       "      <th>32</th>\n",
       "      <td>100036719-104036719</td>\n",
       "      <td>18 quai de l'Hôtel de Ville NO-SE</td>\n",
       "      <td>100036719</td>\n",
       "      <td>18 quai de l'Hôtel de Ville</td>\n",
       "      <td>2021-08-10 01:00:00</td>\n",
       "      <td>2017-07-12</td>\n",
       "      <td>Y2H19027732</td>\n",
       "      <td>48.853720</td>\n",
       "      <td>2.357020</td>\n",
       "      <td>1.9</td>\n",
       "      <td>...</td>\n",
       "      <td>False</td>\n",
       "      <td>0</td>\n",
       "      <td>False</td>\n",
       "      <td>False</td>\n",
       "      <td>284</td>\n",
       "      <td>84</td>\n",
       "      <td>6.0</td>\n",
       "      <td>21167</td>\n",
       "      <td>0.0</td>\n",
       "      <td>0.0</td>\n",
       "    </tr>\n",
       "    <tr>\n",
       "      <th>33</th>\n",
       "      <td>100036719-103036719</td>\n",
       "      <td>18 quai de l'Hôtel de Ville SE-NO</td>\n",
       "      <td>100036719</td>\n",
       "      <td>18 quai de l'Hôtel de Ville</td>\n",
       "      <td>2021-08-10 01:00:00</td>\n",
       "      <td>2017-07-12</td>\n",
       "      <td>Y2H19027732</td>\n",
       "      <td>48.853720</td>\n",
       "      <td>2.357020</td>\n",
       "      <td>1.9</td>\n",
       "      <td>...</td>\n",
       "      <td>False</td>\n",
       "      <td>0</td>\n",
       "      <td>False</td>\n",
       "      <td>False</td>\n",
       "      <td>284</td>\n",
       "      <td>84</td>\n",
       "      <td>6.0</td>\n",
       "      <td>21167</td>\n",
       "      <td>0.0</td>\n",
       "      <td>0.0</td>\n",
       "    </tr>\n",
       "    <tr>\n",
       "      <th>34</th>\n",
       "      <td>100063175-353277233</td>\n",
       "      <td>20 Avenue de Clichy NO-SE</td>\n",
       "      <td>100063175</td>\n",
       "      <td>20 Avenue de Clichy</td>\n",
       "      <td>2021-08-10 01:00:00</td>\n",
       "      <td>2020-07-22</td>\n",
       "      <td>Y2H20073268</td>\n",
       "      <td>48.885290</td>\n",
       "      <td>2.326660</td>\n",
       "      <td>1.9</td>\n",
       "      <td>...</td>\n",
       "      <td>False</td>\n",
       "      <td>0</td>\n",
       "      <td>False</td>\n",
       "      <td>False</td>\n",
       "      <td>284</td>\n",
       "      <td>84</td>\n",
       "      <td>6.0</td>\n",
       "      <td>21167</td>\n",
       "      <td>0.0</td>\n",
       "      <td>0.0</td>\n",
       "    </tr>\n",
       "  </tbody>\n",
       "</table>\n",
       "<p>5 rows × 26 columns</p>\n",
       "</div>"
      ],
      "text/plain": [
       "             counter_id                       counter_name    site_id  \\\n",
       "0   100049407-353255860  152 boulevard du Montparnasse E-O  100049407   \n",
       "31  100049407-353255859  152 boulevard du Montparnasse O-E  100049407   \n",
       "32  100036719-104036719  18 quai de l'Hôtel de Ville NO-SE  100036719   \n",
       "33  100036719-103036719  18 quai de l'Hôtel de Ville SE-NO  100036719   \n",
       "34  100063175-353277233          20 Avenue de Clichy NO-SE  100063175   \n",
       "\n",
       "                        site_name                date  \\\n",
       "0   152 boulevard du Montparnasse 2021-08-10 01:00:00   \n",
       "31  152 boulevard du Montparnasse 2021-08-10 01:00:00   \n",
       "32    18 quai de l'Hôtel de Ville 2021-08-10 01:00:00   \n",
       "33    18 quai de l'Hôtel de Ville 2021-08-10 01:00:00   \n",
       "34            20 Avenue de Clichy 2021-08-10 01:00:00   \n",
       "\n",
       "   counter_installation_date counter_technical_id   latitude  longitude   ff  \\\n",
       "0                 2018-12-07          Y2H19070373  48.840801   2.333233  1.9   \n",
       "31                2018-12-07          Y2H19070373  48.840801   2.333233  1.9   \n",
       "32                2017-07-12          Y2H19027732  48.853720   2.357020  1.9   \n",
       "33                2017-07-12          Y2H19027732  48.853720   2.357020  1.9   \n",
       "34                2020-07-22          Y2H20073268  48.885290   2.326660  1.9   \n",
       "\n",
       "    ...  is_holiday  is_weekend  is_lockdown  is_curfew  hosp  rea  incid_rea  \\\n",
       "0   ...       False           0        False      False   284   84        6.0   \n",
       "31  ...       False           0        False      False   284   84        6.0   \n",
       "32  ...       False           0        False      False   284   84        6.0   \n",
       "33  ...       False           0        False      False   284   84        6.0   \n",
       "34  ...       False           0        False      False   284   84        6.0   \n",
       "\n",
       "      rad  Max_Grav_accidents  Count_accidents  \n",
       "0   21167                 0.0              0.0  \n",
       "31  21167                 0.0              0.0  \n",
       "32  21167                 0.0              0.0  \n",
       "33  21167                 0.0              0.0  \n",
       "34  21167                 0.0              0.0  \n",
       "\n",
       "[5 rows x 26 columns]"
      ]
     },
     "execution_count": 6,
     "metadata": {},
     "output_type": "execute_result"
    }
   ],
   "source": [
    "X_test_plus = add_external_data(X_test)\n",
    "X_test_plus.head()"
   ]
  },
  {
   "cell_type": "code",
   "execution_count": 7,
   "id": "8a58b9be-ea52-4498-82eb-402560a7ecdd",
   "metadata": {},
   "outputs": [
    {
     "data": {
      "text/html": [
       "<div>\n",
       "<style scoped>\n",
       "    .dataframe tbody tr th:only-of-type {\n",
       "        vertical-align: middle;\n",
       "    }\n",
       "\n",
       "    .dataframe tbody tr th {\n",
       "        vertical-align: top;\n",
       "    }\n",
       "\n",
       "    .dataframe thead th {\n",
       "        text-align: right;\n",
       "    }\n",
       "</style>\n",
       "<table border=\"1\" class=\"dataframe\">\n",
       "  <thead>\n",
       "    <tr style=\"text-align: right;\">\n",
       "      <th></th>\n",
       "      <th>counter_id</th>\n",
       "      <th>counter_name</th>\n",
       "      <th>site_id</th>\n",
       "      <th>site_name</th>\n",
       "      <th>date</th>\n",
       "      <th>counter_installation_date</th>\n",
       "      <th>coordinates</th>\n",
       "      <th>counter_technical_id</th>\n",
       "      <th>latitude</th>\n",
       "      <th>longitude</th>\n",
       "      <th>...</th>\n",
       "      <th>is_holiday</th>\n",
       "      <th>is_weekend</th>\n",
       "      <th>is_lockdown</th>\n",
       "      <th>is_curfew</th>\n",
       "      <th>hosp</th>\n",
       "      <th>rea</th>\n",
       "      <th>incid_rea</th>\n",
       "      <th>rad</th>\n",
       "      <th>Max_Grav_accidents</th>\n",
       "      <th>Count_accidents</th>\n",
       "    </tr>\n",
       "  </thead>\n",
       "  <tbody>\n",
       "    <tr>\n",
       "      <th>0</th>\n",
       "      <td>100049407-353255860</td>\n",
       "      <td>152 boulevard du Montparnasse E-O</td>\n",
       "      <td>100049407</td>\n",
       "      <td>152 boulevard du Montparnasse</td>\n",
       "      <td>2021-09-10 01:00:00</td>\n",
       "      <td>2018-12-07</td>\n",
       "      <td>48.840801,2.333233</td>\n",
       "      <td>Y2H19070373</td>\n",
       "      <td>48.840801</td>\n",
       "      <td>2.333233</td>\n",
       "      <td>...</td>\n",
       "      <td>False</td>\n",
       "      <td>0</td>\n",
       "      <td>False</td>\n",
       "      <td>False</td>\n",
       "      <td>365</td>\n",
       "      <td>126</td>\n",
       "      <td>5.0</td>\n",
       "      <td>21675</td>\n",
       "      <td>0.0</td>\n",
       "      <td>0.0</td>\n",
       "    </tr>\n",
       "    <tr>\n",
       "      <th>43</th>\n",
       "      <td>100049407-353255859</td>\n",
       "      <td>152 boulevard du Montparnasse O-E</td>\n",
       "      <td>100049407</td>\n",
       "      <td>152 boulevard du Montparnasse</td>\n",
       "      <td>2021-09-10 01:00:00</td>\n",
       "      <td>2018-12-07</td>\n",
       "      <td>48.840801,2.333233</td>\n",
       "      <td>Y2H19070373</td>\n",
       "      <td>48.840801</td>\n",
       "      <td>2.333233</td>\n",
       "      <td>...</td>\n",
       "      <td>False</td>\n",
       "      <td>0</td>\n",
       "      <td>False</td>\n",
       "      <td>False</td>\n",
       "      <td>365</td>\n",
       "      <td>126</td>\n",
       "      <td>5.0</td>\n",
       "      <td>21675</td>\n",
       "      <td>0.0</td>\n",
       "      <td>0.0</td>\n",
       "    </tr>\n",
       "    <tr>\n",
       "      <th>31</th>\n",
       "      <td>100036719-104036719</td>\n",
       "      <td>18 quai de l'Hôtel de Ville NO-SE</td>\n",
       "      <td>100036719</td>\n",
       "      <td>18 quai de l'Hôtel de Ville</td>\n",
       "      <td>2021-09-10 01:00:00</td>\n",
       "      <td>2017-07-12</td>\n",
       "      <td>48.85372,2.35702</td>\n",
       "      <td>Y2H19027732</td>\n",
       "      <td>48.853720</td>\n",
       "      <td>2.357020</td>\n",
       "      <td>...</td>\n",
       "      <td>False</td>\n",
       "      <td>0</td>\n",
       "      <td>False</td>\n",
       "      <td>False</td>\n",
       "      <td>365</td>\n",
       "      <td>126</td>\n",
       "      <td>5.0</td>\n",
       "      <td>21675</td>\n",
       "      <td>0.0</td>\n",
       "      <td>0.0</td>\n",
       "    </tr>\n",
       "    <tr>\n",
       "      <th>32</th>\n",
       "      <td>100036719-103036719</td>\n",
       "      <td>18 quai de l'Hôtel de Ville SE-NO</td>\n",
       "      <td>100036719</td>\n",
       "      <td>18 quai de l'Hôtel de Ville</td>\n",
       "      <td>2021-09-10 01:00:00</td>\n",
       "      <td>2017-07-12</td>\n",
       "      <td>48.85372,2.35702</td>\n",
       "      <td>Y2H19027732</td>\n",
       "      <td>48.853720</td>\n",
       "      <td>2.357020</td>\n",
       "      <td>...</td>\n",
       "      <td>False</td>\n",
       "      <td>0</td>\n",
       "      <td>False</td>\n",
       "      <td>False</td>\n",
       "      <td>365</td>\n",
       "      <td>126</td>\n",
       "      <td>5.0</td>\n",
       "      <td>21675</td>\n",
       "      <td>0.0</td>\n",
       "      <td>0.0</td>\n",
       "    </tr>\n",
       "    <tr>\n",
       "      <th>33</th>\n",
       "      <td>100063175-353277233</td>\n",
       "      <td>20 Avenue de Clichy NO-SE</td>\n",
       "      <td>100063175</td>\n",
       "      <td>20 Avenue de Clichy</td>\n",
       "      <td>2021-09-10 01:00:00</td>\n",
       "      <td>2020-07-22</td>\n",
       "      <td>48.88529,2.32666</td>\n",
       "      <td>Y2H20073268</td>\n",
       "      <td>48.885290</td>\n",
       "      <td>2.326660</td>\n",
       "      <td>...</td>\n",
       "      <td>False</td>\n",
       "      <td>0</td>\n",
       "      <td>False</td>\n",
       "      <td>False</td>\n",
       "      <td>365</td>\n",
       "      <td>126</td>\n",
       "      <td>5.0</td>\n",
       "      <td>21675</td>\n",
       "      <td>0.0</td>\n",
       "      <td>0.0</td>\n",
       "    </tr>\n",
       "  </tbody>\n",
       "</table>\n",
       "<p>5 rows × 27 columns</p>\n",
       "</div>"
      ],
      "text/plain": [
       "             counter_id                       counter_name    site_id  \\\n",
       "0   100049407-353255860  152 boulevard du Montparnasse E-O  100049407   \n",
       "43  100049407-353255859  152 boulevard du Montparnasse O-E  100049407   \n",
       "31  100036719-104036719  18 quai de l'Hôtel de Ville NO-SE  100036719   \n",
       "32  100036719-103036719  18 quai de l'Hôtel de Ville SE-NO  100036719   \n",
       "33  100063175-353277233          20 Avenue de Clichy NO-SE  100063175   \n",
       "\n",
       "                        site_name                date  \\\n",
       "0   152 boulevard du Montparnasse 2021-09-10 01:00:00   \n",
       "43  152 boulevard du Montparnasse 2021-09-10 01:00:00   \n",
       "31    18 quai de l'Hôtel de Ville 2021-09-10 01:00:00   \n",
       "32    18 quai de l'Hôtel de Ville 2021-09-10 01:00:00   \n",
       "33            20 Avenue de Clichy 2021-09-10 01:00:00   \n",
       "\n",
       "   counter_installation_date         coordinates counter_technical_id  \\\n",
       "0                 2018-12-07  48.840801,2.333233          Y2H19070373   \n",
       "43                2018-12-07  48.840801,2.333233          Y2H19070373   \n",
       "31                2017-07-12    48.85372,2.35702          Y2H19027732   \n",
       "32                2017-07-12    48.85372,2.35702          Y2H19027732   \n",
       "33                2020-07-22    48.88529,2.32666          Y2H20073268   \n",
       "\n",
       "     latitude  longitude  ...  is_holiday  is_weekend  is_lockdown  is_curfew  \\\n",
       "0   48.840801   2.333233  ...       False           0        False      False   \n",
       "43  48.840801   2.333233  ...       False           0        False      False   \n",
       "31  48.853720   2.357020  ...       False           0        False      False   \n",
       "32  48.853720   2.357020  ...       False           0        False      False   \n",
       "33  48.885290   2.326660  ...       False           0        False      False   \n",
       "\n",
       "    hosp  rea  incid_rea    rad  Max_Grav_accidents  Count_accidents  \n",
       "0    365  126        5.0  21675                 0.0              0.0  \n",
       "43   365  126        5.0  21675                 0.0              0.0  \n",
       "31   365  126        5.0  21675                 0.0              0.0  \n",
       "32   365  126        5.0  21675                 0.0              0.0  \n",
       "33   365  126        5.0  21675                 0.0              0.0  \n",
       "\n",
       "[5 rows x 27 columns]"
      ]
     },
     "execution_count": 7,
     "metadata": {},
     "output_type": "execute_result"
    }
   ],
   "source": [
    "X_final_test_plus = add_external_data(X_final_test)\n",
    "X_final_test_plus.head()"
   ]
  },
  {
   "cell_type": "markdown",
   "id": "43ce50f3",
   "metadata": {},
   "source": [
    "##  Preprocessing"
   ]
  },
  {
   "cell_type": "code",
   "execution_count": 8,
   "id": "758a0e19-e3fa-480a-bb87-747d33ce4512",
   "metadata": {},
   "outputs": [],
   "source": [
    "def _encode_dates(X):\n",
    "    \n",
    "    '''\n",
    "    Splits the 'date' columns of the input DataFrame into several columns (year, month, day, weekday, hour)\n",
    "    \n",
    "    Parameters:\n",
    "        X (pd.DataFrame): the dataframe to modify\n",
    "    \n",
    "    Returns:\n",
    "        X (pd.DataFrame): the modified dataframe\n",
    "    '''\n",
    "    \n",
    "    # Duplicate X to work on it\n",
    "    X = X.copy()\n",
    "    \n",
    "    # Create new columns with date parts from X.date\n",
    "    X.loc[:, \"year\"] = X[\"date\"].dt.year\n",
    "    X.loc[:, \"month\"] = X[\"date\"].dt.month\n",
    "    X.loc[:, \"day\"] = X[\"date\"].dt.day\n",
    "    X.loc[:, \"weekday\"] = X[\"date\"].dt.weekday\n",
    "    X.loc[:, \"hour\"] = X[\"date\"].dt.hour\n",
    "\n",
    "    # Adding cosinus and sinus features from date variables to enhance the date periodicity\n",
    "    # X['cos_hour'] = np.cos(X['hour']*(2.*np.pi/24))\n",
    "    # X['sin_hour'] = np.sin(X['hour']*(2.*np.pi/24))\n",
    "    # X['cos_day'] = np.cos(X['day']*(2.*np.pi/30))\n",
    "    # X['sin_day'] = np.sin(X['day']*(2.*np.pi/30))\n",
    "    # X['cos_month'] = np.cos(X['month']*(2.*np.pi/12))\n",
    "    # X['sin_month'] = np.sin(X['month']*(2.*np.pi/12))\n",
    "    # X['cos_weekday'] = np.cos(X['weekday']*(2.*np.pi/7))\n",
    "    # X['sin_weekday'] = np.sin(X['weekday']*(2.*np.pi/7))\n",
    "    \n",
    "    # Clean the new dataframe and return it\n",
    "    X.drop(columns=[\"date\"], inplace=True)\n",
    "    #X.drop(columns=[\"year\", 'month', 'day', 'weekday', 'hour'], inplace=True)\n",
    "    return X"
   ]
  },
  {
   "cell_type": "markdown",
   "id": "bc6f3256",
   "metadata": {},
   "source": [
    "# Training"
   ]
  },
  {
   "cell_type": "markdown",
   "id": "e0d1acda-3e7e-4112-89df-4b66b0c1042f",
   "metadata": {},
   "source": [
    "## Training without pipeline"
   ]
  },
  {
   "cell_type": "code",
   "execution_count": 9,
   "id": "8dfe8ea3-9a9c-4d33-bb3f-b24192b9d0e0",
   "metadata": {},
   "outputs": [],
   "source": [
    "def get_RMSE_local(model, X_train, y_train, X_test, y_test):\n",
    "\n",
    "    # Fit the pipeline on the training data\n",
    "    model.fit(X_train, y_train)\n",
    "\n",
    "    # Predict on training and test data\n",
    "    y_train_pred = model.predict(X_train)\n",
    "    y_test_pred = model.predict(X_test)\n",
    "\n",
    "    # Calculate RMSE for training and test data\n",
    "    rmse_train = np.sqrt(mean_squared_error(y_train, y_train_pred))\n",
    "    rmse_test = np.sqrt(mean_squared_error(y_test, y_test_pred))\n",
    "\n",
    "    print(f\"Train set RMSE: {rmse_train:.2f}\")\n",
    "    print(f\"Test set RMSE: {rmse_test:.2f}\")\n",
    "\n",
    "    return rmse_train, rmse_test\n"
   ]
  },
  {
   "cell_type": "markdown",
   "id": "abd46e64-3e0d-4e86-a0e6-8009638ba541",
   "metadata": {},
   "source": [
    "### Select features for training"
   ]
  },
  {
   "cell_type": "code",
   "execution_count": 10,
   "id": "dffe9acd-0c09-4c74-a779-a5dc0afe3db8",
   "metadata": {},
   "outputs": [
    {
     "ename": "SyntaxError",
     "evalue": "invalid syntax (3277527305.py, line 11)",
     "output_type": "error",
     "traceback": [
      "\u001b[1;36m  Cell \u001b[1;32mIn[10], line 11\u001b[1;36m\u001b[0m\n\u001b[1;33m    BEST 0.62 LEADER_BOARD\u001b[0m\n\u001b[1;37m         ^\u001b[0m\n\u001b[1;31mSyntaxError\u001b[0m\u001b[1;31m:\u001b[0m invalid syntax\n"
     ]
    }
   ],
   "source": [
    "['is_holiday', 'is_weekend', 'is_lockdown', 'hosp', 'rea', 'Count_accidents']\n",
    "0.9289002341496675\n",
    "\n",
    "best_RMSE_test: 0.93\n",
    "best_features_sub: ['is_holiday', 'hosp', 'rea', 'incid_rea']\n",
    "\n",
    "best_RMSE_test: 0.92\n",
    "best_features_sub: ['is_holiday', 'hosp', 'rea', 'rad']\n",
    "\n",
    "best_RMSE_test: 0.44\n",
    "BEST 0.62 LEADER_BOARD\n",
    "best_features_sub: ['is_holiday', 'hosp', 'is_lockdown']"
   ]
  },
  {
   "cell_type": "code",
   "execution_count": 12,
   "id": "1eea8137-4c10-4cb0-98cf-5dd5274aa6b8",
   "metadata": {},
   "outputs": [],
   "source": [
    "fixed_features = ['date', \"counter_name\", \"site_id\", \"t\", \"u\", \"rr3\"]\n",
    "\n",
    "not_fixed_features = [\"counter_id\", \"counter_technical_id\", \"counter_installation_date\",\n",
    "                      'site_name'\n",
    "                       'counter_installation_date', \n",
    "                      'counter_technical_id', \n",
    "                      'latitude',\n",
    "                       'longitude', \n",
    "                      'ff', # the wind speed\n",
    "                      'u', # the humidity\n",
    "                      'ssfrai', # the fresh snowfall amount\n",
    "                      'n', # the amount of cloud cover\n",
    "                      'vv', # the visibility\n",
    "                      'rr3', # the precipitation amount over 3 hours\n",
    "                      't', # the temperature\n",
    "                      'is_holiday', # is holidays\n",
    "                       'is_weekend', # is week end\n",
    "                      'is_lockdown', # Lockdown for COVID\n",
    "                      'is_curfew', # Curfew for COVID\n",
    "                      'hosp', # Number of patients currently hospitalised for COVID-19\n",
    "                      'rea', # Number of patients currently in intensive care.\n",
    "                      'incid_rea', # Number of new patients admitted to intensive care in the last 24 hours.\n",
    "                       'rad', # Cumulative number of patients hospitalised for COVID-19 who have returned home due to an improvement in their state of health\n",
    "                      'Max_Grav_accidents', # The maximum severity of all cyclists accidents at a given hour\n",
    "                      'Count_accidents' # the number of accidents at a given hour in Paris\n",
    "                     ]\n",
    "\n",
    "chosen_not_fixed_features = [ 'latitude',\n",
    "                              'longitude',\n",
    "                              'ff', # the wind speed\n",
    "                              'u', # the humidity\n",
    "                              'ssfrai', # the fresh snowfall amount\n",
    "                              'n', # the amount of cloud cover\n",
    "                              'vv', # the visibility\n",
    "                              'rr3', # the precipitation amount over 3 hours\n",
    "                              't', # the temperature\n",
    "                              'is_holiday', # is holidays\n",
    "                               'is_weekend', # is week end\n",
    "                              'is_lockdown', # Lockdown for COVID\n",
    "                              'is_curfew', # Curfew for COVID\n",
    "                              'hosp', # Number of patients currently hospitalised for COVID-19\n",
    "                              'rea', # Number of patients currently in intensive care.\n",
    "                              'incid_rea', # Number of new patients admitted to intensive care in the last 24 hours.\n",
    "                               'rad', # Cumulative number of patients hospitalised for COVID-19 who have returned home due to an improvement in their state of health\n",
    "                              'Max_Grav_accidents', # The maximum severity of all cyclists accidents at a given hour\n",
    "                              'Count_accidents' # the number of accidents at a given hour in Paris\n",
    "                            ]\n",
    "\n",
    "chosen_fixed_features = [ 'ff', # the wind speed\n",
    "                          'u', # the humidity\n",
    "                          'n', # the amount of cloud cover\n",
    "                          'vv', # the visibility\n",
    "                          'rr3', # the precipitation amount over 3 hours\n",
    "                          't', # the temperature\n",
    "                          'is_holiday', # is holidays\n",
    "                           'is_weekend', # is week end\n",
    "                          'is_lockdown', # Lockdown for COVID\n",
    "                          'is_curfew', # Curfew for COVID\n",
    "                          'hosp', # Number of patients currently hospitalised for COVID-19\n",
    "                          'rea', # Number of patients currently in intensive care.\n",
    "                          'incid_rea', # Number of new patients admitted to intensive care in the last 24 hours.\n",
    "                           'rad', # Cumulative number of patients hospitalised for COVID-19 who have returned home due to an improvement in their state of health\n",
    "                          'Max_Grav_accidents', # The maximum severity of all cyclists accidents at a given hour\n",
    "                          'Count_accidents' # the number of accidents at a given hour in Paris\n",
    "                        ]\n",
    "\n",
    "chosen_fixed_features = ['is_holiday', 'rea', 'rad', 'hosp']\n",
    "\n",
    "#chosen_fixed_features = ['Count_accidents']\n",
    "\n",
    "chosen_variables = fixed_features + chosen_fixed_features\n",
    "\n",
    "\n",
    "X_train_plus_chosen = X_train_plus[chosen_variables]\n",
    "X_test_plus_chosen = X_test_plus[chosen_variables]\n",
    "X_final_test_plus_chosen = X_final_test_plus[chosen_variables]"
   ]
  },
  {
   "cell_type": "code",
   "execution_count": 13,
   "id": "b4cc7058-a45f-4136-9eb5-f5d645ac2b50",
   "metadata": {},
   "outputs": [],
   "source": [
    "# Identifying continuous variables (float type or int with wide range)\n",
    "\n",
    "# Initialize the scaler\n",
    "scaler = StandardScaler()\n",
    "\n",
    "X_train_plus_chosen_FI = _encode_dates(X_train_plus_chosen)\n",
    "#X_train_plus_chosen_FI = pd.get_dummies(X_train_plus_chosen_FI, columns=['site_name'])\n",
    "X_train_plus_chosen_FI = pd.get_dummies(X_train_plus_chosen_FI, columns=['counter_name'])\n",
    "X_train_plus_chosen_FI = pd.get_dummies(X_train_plus_chosen_FI, columns=['site_id'])\n",
    "#continuous_columns  = X_train_plus_chosen_FI.select_dtypes(include=['float64', 'float32', 'int64', 'int32']).columns.tolist()\n",
    "#X_train_plus_chosen_FI[continuous_columns] = scaler.fit_transform(X_train_plus_chosen_FI[continuous_columns])\n",
    "\n",
    "X_test_plus_chosen_FI = _encode_dates(X_test_plus_chosen)\n",
    "#X_test_plus_chosen_FI = pd.get_dummies(X_test_plus_chosen_FI, columns=['site_name'])\n",
    "X_test_plus_chosen_FI = pd.get_dummies(X_test_plus_chosen_FI, columns=['counter_name'])\n",
    "X_test_plus_chosen_FI = pd.get_dummies(X_test_plus_chosen_FI, columns=['site_id'])\n",
    "#X_test_plus_chosen_FI[continuous_columns] = scaler.fit_transform(X_test_plus_chosen_FI[continuous_columns])\n",
    "\n",
    "X_final_test_plus_chosen_FI = _encode_dates(X_final_test_plus_chosen)\n",
    "#X_final_test_plus_chosen_FI = pd.get_dummies(X_final_test_plus_chosen_FI, columns=['site_name'])\n",
    "X_final_test_plus_chosen_FI = pd.get_dummies(X_final_test_plus_chosen_FI, columns=['counter_name'])\n",
    "X_final_test_plus_chosen_FI = pd.get_dummies(X_final_test_plus_chosen_FI, columns=['site_id'])\n",
    "#X_final_test_plus_chosen_FI[continuous_columns] = scaler.fit_transform(X_final_test_plus_chosen_FI[continuous_columns])"
   ]
  },
  {
   "cell_type": "code",
   "execution_count": 31,
   "id": "da52225f-8e1b-4f99-8887-889af976d0c6",
   "metadata": {},
   "outputs": [
    {
     "name": "stdout",
     "output_type": "stream",
     "text": [
      "[LightGBM] [Warning] Found whitespace in feature_names, replace with underlines\n",
      "[LightGBM] [Info] Auto-choosing row-wise multi-threading, the overhead of testing was 0.007923 seconds.\n",
      "You can set `force_row_wise=true` to remove the overhead.\n",
      "And if memory is not enough, you can set `force_col_wise=true`.\n",
      "[LightGBM] [Info] Total Bins 1364\n",
      "[LightGBM] [Info] Number of data points in the train set: 455163, number of used features: 98\n",
      "[LightGBM] [Info] Start training from score 3.048589\n",
      "[LightGBM] [Warning] No further splits with positive gain, best gain: -inf\n",
      "[LightGBM] [Warning] No further splits with positive gain, best gain: -inf\n",
      "[LightGBM] [Warning] No further splits with positive gain, best gain: -inf\n",
      "[LightGBM] [Warning] No further splits with positive gain, best gain: -inf\n",
      "[LightGBM] [Warning] No further splits with positive gain, best gain: -inf\n",
      "[LightGBM] [Warning] No further splits with positive gain, best gain: -inf\n",
      "[LightGBM] [Warning] No further splits with positive gain, best gain: -inf\n",
      "[LightGBM] [Warning] No further splits with positive gain, best gain: -inf\n",
      "[LightGBM] [Warning] No further splits with positive gain, best gain: -inf\n",
      "[LightGBM] [Warning] No further splits with positive gain, best gain: -inf\n",
      "[LightGBM] [Warning] No further splits with positive gain, best gain: -inf\n",
      "[LightGBM] [Warning] No further splits with positive gain, best gain: -inf\n",
      "[LightGBM] [Warning] Found whitespace in feature_names, replace with underlines\n",
      "[LightGBM] [Info] Auto-choosing row-wise multi-threading, the overhead of testing was 0.007240 seconds.\n",
      "You can set `force_row_wise=true` to remove the overhead.\n",
      "And if memory is not enough, you can set `force_col_wise=true`.\n",
      "[LightGBM] [Info] Total Bins 1364\n",
      "[LightGBM] [Info] Number of data points in the train set: 455163, number of used features: 98\n",
      "[LightGBM] [Info] Start training from score 3.048589\n",
      "[LightGBM] [Warning] No further splits with positive gain, best gain: -inf\n",
      "[LightGBM] [Warning] No further splits with positive gain, best gain: -inf\n",
      "[LightGBM] [Warning] No further splits with positive gain, best gain: -inf\n",
      "[LightGBM] [Warning] No further splits with positive gain, best gain: -inf\n",
      "[LightGBM] [Warning] No further splits with positive gain, best gain: -inf\n",
      "[LightGBM] [Warning] No further splits with positive gain, best gain: -inf\n",
      "[LightGBM] [Warning] No further splits with positive gain, best gain: -inf\n",
      "[LightGBM] [Warning] No further splits with positive gain, best gain: -inf\n",
      "[LightGBM] [Warning] No further splits with positive gain, best gain: -inf\n",
      "[LightGBM] [Warning] No further splits with positive gain, best gain: -inf\n",
      "[LightGBM] [Warning] No further splits with positive gain, best gain: -inf\n",
      "[LightGBM] [Warning] No further splits with positive gain, best gain: -inf\n",
      "Train set RMSE: 0.38\n",
      "Test set RMSE: 0.47\n"
     ]
    },
    {
     "data": {
      "text/plain": [
       "(0.37861789907281823, 0.4717446883843572)"
      ]
     },
     "execution_count": 31,
     "metadata": {},
     "output_type": "execute_result"
    }
   ],
   "source": [
    "# LGMBRegressor\n",
    "params = {\n",
    "        'colsample_bytree': 0.7, \n",
    "        'learning_rate': 0.01,\n",
    "        'max_depth': 11,\n",
    "        'min_child_samples': 198,\n",
    "        'min_child_weight': 0.1,\n",
    "        'n_estimators': 2000,\n",
    "        'num_leaves': 99,\n",
    "        'reg_alpha': 1, \n",
    "        'reg_lambda': 0.1,\n",
    "        'subsample': 0.5\n",
    "}\n",
    "\n",
    "# params = {'boosting_type': 'gbdt',\n",
    "#  'class_weight': None,\n",
    "#  'colsample_bytree': 0.6,\n",
    "#  'importance_type': 'split',\n",
    "#  'learning_rate': 0.05,\n",
    "#  'max_depth': 11,\n",
    "#  'min_child_samples': 20,\n",
    "#  'min_child_weight': 0.001,\n",
    "#  'min_split_gain': 0.0,\n",
    "#  'n_estimators': 1800,\n",
    "#  'n_jobs': None,\n",
    "#  'num_leaves': 96,\n",
    "#  'objective': None,\n",
    "#  'random_state': None,\n",
    "#  'reg_alpha': 0.0,\n",
    "#  'reg_lambda': 0.0,\n",
    "#  'subsample': 0.45,\n",
    "#  'subsample_for_bin': 200000,\n",
    "#  'subsample_freq': 0}\n",
    "\n",
    "Regressor = lgb.LGBMRegressor(**params)\n",
    "\n",
    "#Regressor = xgb.XGBRegressor(objectives = 'reg:squarederror')\n",
    "\n",
    "# Initialize the XGBRegressor\n",
    "# Regressor = xgb.XGBRegressor(objectives = 'reg:squarederror',\n",
    "#  learning_rate= 0.01,\n",
    "#  max_depth = 15,\n",
    "#  n_estimators = 600,\n",
    "#  max_iter = 20,\n",
    "#  verbose = True,\n",
    "#  early_stopping = True)\n",
    "\n",
    "# Train model with selected features\n",
    "Regressor.fit(X_train_plus_chosen_FI, y_train)\n",
    "\n",
    "get_RMSE_local(Regressor, X_train_plus_chosen_FI, y_train, X_test_plus_chosen_FI, y_test)"
   ]
  },
  {
   "cell_type": "markdown",
   "id": "5ab9460a-d12e-416f-9b6b-16ba2f034e43",
   "metadata": {},
   "source": [
    "### GRIDSEARCH "
   ]
  },
  {
   "cell_type": "markdown",
   "id": "b491cc5d-0f31-4166-bff8-e296be307ebc",
   "metadata": {},
   "source": [
    "#### XGBOOST"
   ]
  },
  {
   "cell_type": "code",
   "execution_count": 14,
   "id": "33ab5eaa-549b-4af6-a061-77f8d3dc001d",
   "metadata": {},
   "outputs": [
    {
     "name": "stdout",
     "output_type": "stream",
     "text": [
      "Fitting 2 folds for each of 50 candidates, totalling 100 fits\n",
      "[0]\tvalidation_0-rmse:1.65013\n",
      "[1]\tvalidation_0-rmse:1.62417\n"
     ]
    },
    {
     "name": "stderr",
     "output_type": "stream",
     "text": [
      "C:\\Users\\Thomas\\anaconda3\\envs\\bikes-count\\lib\\site-packages\\xgboost\\core.py:160: UserWarning: [12:42:00] WARNING: C:\\buildkite-agent\\builds\\buildkite-windows-cpu-autoscaling-group-i-0750514818a16474a-1\\xgboost\\xgboost-ci-windows\\src\\learner.cc:742: \n",
      "Parameters: { \"early_stopping\", \"verbose\" } are not used.\n",
      "\n",
      "  warnings.warn(smsg, UserWarning)\n"
     ]
    },
    {
     "name": "stdout",
     "output_type": "stream",
     "text": [
      "[2]\tvalidation_0-rmse:1.59883\n",
      "[3]\tvalidation_0-rmse:1.57412\n",
      "[4]\tvalidation_0-rmse:1.54993\n",
      "[5]\tvalidation_0-rmse:1.52634\n",
      "[6]\tvalidation_0-rmse:1.50332\n",
      "[7]\tvalidation_0-rmse:1.48141\n",
      "[8]\tvalidation_0-rmse:1.45946\n",
      "[9]\tvalidation_0-rmse:1.43870\n",
      "[10]\tvalidation_0-rmse:1.41800\n",
      "[11]\tvalidation_0-rmse:1.39824\n",
      "[12]\tvalidation_0-rmse:1.37852\n",
      "[13]\tvalidation_0-rmse:1.35967\n",
      "[14]\tvalidation_0-rmse:1.34084\n",
      "[15]\tvalidation_0-rmse:1.32254\n",
      "[16]\tvalidation_0-rmse:1.30491\n",
      "[17]\tvalidation_0-rmse:1.28709\n",
      "[18]\tvalidation_0-rmse:1.27050\n",
      "[19]\tvalidation_0-rmse:1.25387\n",
      "[20]\tvalidation_0-rmse:1.23816\n",
      "[21]\tvalidation_0-rmse:1.22229\n",
      "[22]\tvalidation_0-rmse:1.20645\n",
      "[23]\tvalidation_0-rmse:1.19197\n",
      "[24]\tvalidation_0-rmse:1.17715\n",
      "[25]\tvalidation_0-rmse:1.16240\n",
      "[26]\tvalidation_0-rmse:1.14795\n",
      "[27]\tvalidation_0-rmse:1.13479\n",
      "[28]\tvalidation_0-rmse:1.12109\n",
      "[29]\tvalidation_0-rmse:1.10858\n",
      "[30]\tvalidation_0-rmse:1.09560\n",
      "[31]\tvalidation_0-rmse:1.08310\n",
      "[32]\tvalidation_0-rmse:1.07155\n",
      "[33]\tvalidation_0-rmse:1.05983\n",
      "[34]\tvalidation_0-rmse:1.04755\n",
      "[35]\tvalidation_0-rmse:1.03684\n",
      "[36]\tvalidation_0-rmse:1.02505\n",
      "[37]\tvalidation_0-rmse:1.01368\n",
      "[38]\tvalidation_0-rmse:1.00373\n",
      "[39]\tvalidation_0-rmse:0.99335\n",
      "[40]\tvalidation_0-rmse:0.98335\n",
      "[41]\tvalidation_0-rmse:0.97318\n",
      "[42]\tvalidation_0-rmse:0.96422\n",
      "[43]\tvalidation_0-rmse:0.95458\n",
      "[44]\tvalidation_0-rmse:0.94552\n",
      "[45]\tvalidation_0-rmse:0.93637\n",
      "[46]\tvalidation_0-rmse:0.92765\n",
      "[47]\tvalidation_0-rmse:0.91934\n",
      "[48]\tvalidation_0-rmse:0.91120\n",
      "[49]\tvalidation_0-rmse:0.90272\n",
      "[50]\tvalidation_0-rmse:0.89440\n",
      "[51]\tvalidation_0-rmse:0.88656\n",
      "[52]\tvalidation_0-rmse:0.87866\n",
      "[53]\tvalidation_0-rmse:0.87182\n",
      "[54]\tvalidation_0-rmse:0.86421\n",
      "[55]\tvalidation_0-rmse:0.85716\n",
      "[56]\tvalidation_0-rmse:0.85024\n",
      "[57]\tvalidation_0-rmse:0.84323\n",
      "[58]\tvalidation_0-rmse:0.83680\n",
      "[59]\tvalidation_0-rmse:0.83064\n",
      "[60]\tvalidation_0-rmse:0.82431\n",
      "[61]\tvalidation_0-rmse:0.81780\n",
      "[62]\tvalidation_0-rmse:0.81184\n",
      "[63]\tvalidation_0-rmse:0.80627\n",
      "[64]\tvalidation_0-rmse:0.80024\n",
      "[65]\tvalidation_0-rmse:0.79451\n",
      "[66]\tvalidation_0-rmse:0.78868\n",
      "[67]\tvalidation_0-rmse:0.78267\n",
      "[68]\tvalidation_0-rmse:0.77718\n",
      "[69]\tvalidation_0-rmse:0.77178\n",
      "[70]\tvalidation_0-rmse:0.76689\n",
      "[71]\tvalidation_0-rmse:0.76159\n",
      "[72]\tvalidation_0-rmse:0.75665\n",
      "[73]\tvalidation_0-rmse:0.75163\n",
      "[74]\tvalidation_0-rmse:0.74621\n",
      "[75]\tvalidation_0-rmse:0.74107\n",
      "[76]\tvalidation_0-rmse:0.73588\n",
      "[77]\tvalidation_0-rmse:0.73130\n",
      "[78]\tvalidation_0-rmse:0.72706\n",
      "[79]\tvalidation_0-rmse:0.72293\n",
      "[80]\tvalidation_0-rmse:0.71895\n",
      "[81]\tvalidation_0-rmse:0.71468\n",
      "[82]\tvalidation_0-rmse:0.71037\n",
      "[83]\tvalidation_0-rmse:0.70663\n",
      "[84]\tvalidation_0-rmse:0.70224\n",
      "[85]\tvalidation_0-rmse:0.69838\n",
      "[86]\tvalidation_0-rmse:0.69364\n",
      "[87]\tvalidation_0-rmse:0.68973\n",
      "[88]\tvalidation_0-rmse:0.68617\n",
      "[89]\tvalidation_0-rmse:0.68270\n",
      "[90]\tvalidation_0-rmse:0.67946\n",
      "[91]\tvalidation_0-rmse:0.67609\n",
      "[92]\tvalidation_0-rmse:0.67267\n",
      "[93]\tvalidation_0-rmse:0.66944\n",
      "[94]\tvalidation_0-rmse:0.66546\n",
      "[95]\tvalidation_0-rmse:0.66252\n",
      "[96]\tvalidation_0-rmse:0.65975\n",
      "[97]\tvalidation_0-rmse:0.65586\n",
      "[98]\tvalidation_0-rmse:0.65228\n",
      "[99]\tvalidation_0-rmse:0.64917\n",
      "[100]\tvalidation_0-rmse:0.64656\n",
      "[101]\tvalidation_0-rmse:0.64261\n",
      "[102]\tvalidation_0-rmse:0.63992\n",
      "[103]\tvalidation_0-rmse:0.63645\n",
      "[104]\tvalidation_0-rmse:0.63373\n",
      "[105]\tvalidation_0-rmse:0.63122\n",
      "[106]\tvalidation_0-rmse:0.62868\n",
      "[107]\tvalidation_0-rmse:0.62597\n",
      "[108]\tvalidation_0-rmse:0.62360\n",
      "[109]\tvalidation_0-rmse:0.62126\n",
      "[110]\tvalidation_0-rmse:0.61906\n",
      "[111]\tvalidation_0-rmse:0.61613\n",
      "[112]\tvalidation_0-rmse:0.61377\n",
      "[113]\tvalidation_0-rmse:0.61171\n",
      "[114]\tvalidation_0-rmse:0.60973\n",
      "[115]\tvalidation_0-rmse:0.60760\n",
      "[116]\tvalidation_0-rmse:0.60566\n",
      "[117]\tvalidation_0-rmse:0.60374\n",
      "[118]\tvalidation_0-rmse:0.60157\n",
      "[119]\tvalidation_0-rmse:0.59925\n",
      "[120]\tvalidation_0-rmse:0.59712\n",
      "[121]\tvalidation_0-rmse:0.59534\n",
      "[122]\tvalidation_0-rmse:0.59289\n",
      "[123]\tvalidation_0-rmse:0.58976\n",
      "[124]\tvalidation_0-rmse:0.58810\n",
      "[125]\tvalidation_0-rmse:0.58598\n",
      "[126]\tvalidation_0-rmse:0.58417\n",
      "[127]\tvalidation_0-rmse:0.58248\n",
      "[128]\tvalidation_0-rmse:0.58107\n",
      "[129]\tvalidation_0-rmse:0.57946\n",
      "[130]\tvalidation_0-rmse:0.57780\n",
      "[131]\tvalidation_0-rmse:0.57606\n",
      "[132]\tvalidation_0-rmse:0.57361\n",
      "[133]\tvalidation_0-rmse:0.57183\n",
      "[134]\tvalidation_0-rmse:0.56982\n",
      "[135]\tvalidation_0-rmse:0.56825\n",
      "[136]\tvalidation_0-rmse:0.56659\n",
      "[137]\tvalidation_0-rmse:0.56513\n",
      "[138]\tvalidation_0-rmse:0.56333\n",
      "[139]\tvalidation_0-rmse:0.56175\n",
      "[140]\tvalidation_0-rmse:0.55948\n",
      "[141]\tvalidation_0-rmse:0.55731\n",
      "[142]\tvalidation_0-rmse:0.55588\n",
      "[143]\tvalidation_0-rmse:0.55451\n",
      "[144]\tvalidation_0-rmse:0.55315\n",
      "[145]\tvalidation_0-rmse:0.55185\n",
      "[146]\tvalidation_0-rmse:0.55048\n",
      "[147]\tvalidation_0-rmse:0.54927\n",
      "[148]\tvalidation_0-rmse:0.54800\n",
      "[149]\tvalidation_0-rmse:0.54547\n",
      "[150]\tvalidation_0-rmse:0.54431\n",
      "[151]\tvalidation_0-rmse:0.54314\n",
      "[152]\tvalidation_0-rmse:0.54110\n",
      "[153]\tvalidation_0-rmse:0.53967\n",
      "[154]\tvalidation_0-rmse:0.53801\n",
      "[155]\tvalidation_0-rmse:0.53624\n",
      "[156]\tvalidation_0-rmse:0.53420\n",
      "[157]\tvalidation_0-rmse:0.53315\n",
      "[158]\tvalidation_0-rmse:0.53205\n",
      "[159]\tvalidation_0-rmse:0.53044\n",
      "[160]\tvalidation_0-rmse:0.52868\n",
      "[161]\tvalidation_0-rmse:0.52744\n",
      "[162]\tvalidation_0-rmse:0.52625\n",
      "[163]\tvalidation_0-rmse:0.52497\n",
      "[164]\tvalidation_0-rmse:0.52378\n",
      "[165]\tvalidation_0-rmse:0.52284\n",
      "[166]\tvalidation_0-rmse:0.52168\n",
      "[167]\tvalidation_0-rmse:0.52004\n",
      "[168]\tvalidation_0-rmse:0.51845\n",
      "[169]\tvalidation_0-rmse:0.51664\n",
      "[170]\tvalidation_0-rmse:0.51451\n",
      "[171]\tvalidation_0-rmse:0.51358\n",
      "[172]\tvalidation_0-rmse:0.51258\n",
      "[173]\tvalidation_0-rmse:0.51150\n",
      "[174]\tvalidation_0-rmse:0.50938\n",
      "[175]\tvalidation_0-rmse:0.50726\n",
      "[176]\tvalidation_0-rmse:0.50643\n",
      "[177]\tvalidation_0-rmse:0.50559\n",
      "[178]\tvalidation_0-rmse:0.50456\n",
      "[179]\tvalidation_0-rmse:0.50266\n",
      "[180]\tvalidation_0-rmse:0.50179\n",
      "[181]\tvalidation_0-rmse:0.49976\n",
      "[182]\tvalidation_0-rmse:0.49884\n",
      "[183]\tvalidation_0-rmse:0.49805\n",
      "[184]\tvalidation_0-rmse:0.49730\n",
      "[185]\tvalidation_0-rmse:0.49519\n",
      "[186]\tvalidation_0-rmse:0.49425\n",
      "[187]\tvalidation_0-rmse:0.49243\n",
      "[188]\tvalidation_0-rmse:0.49156\n",
      "[189]\tvalidation_0-rmse:0.49082\n",
      "[190]\tvalidation_0-rmse:0.49014\n",
      "[191]\tvalidation_0-rmse:0.48928\n",
      "[192]\tvalidation_0-rmse:0.48785\n",
      "[193]\tvalidation_0-rmse:0.48716\n",
      "[194]\tvalidation_0-rmse:0.48643\n",
      "[195]\tvalidation_0-rmse:0.48579\n",
      "[196]\tvalidation_0-rmse:0.48517\n",
      "[197]\tvalidation_0-rmse:0.48357\n",
      "[198]\tvalidation_0-rmse:0.48179\n",
      "[199]\tvalidation_0-rmse:0.48087\n",
      "[200]\tvalidation_0-rmse:0.48028\n",
      "[201]\tvalidation_0-rmse:0.47970\n",
      "[202]\tvalidation_0-rmse:0.47903\n",
      "[203]\tvalidation_0-rmse:0.47843\n",
      "[204]\tvalidation_0-rmse:0.47703\n",
      "[205]\tvalidation_0-rmse:0.47616\n",
      "[206]\tvalidation_0-rmse:0.47496\n",
      "[207]\tvalidation_0-rmse:0.47441\n",
      "[208]\tvalidation_0-rmse:0.47389\n",
      "[209]\tvalidation_0-rmse:0.47265\n",
      "[210]\tvalidation_0-rmse:0.47214\n",
      "[211]\tvalidation_0-rmse:0.47161\n",
      "[212]\tvalidation_0-rmse:0.47022\n",
      "[213]\tvalidation_0-rmse:0.46883\n",
      "[214]\tvalidation_0-rmse:0.46834\n",
      "[215]\tvalidation_0-rmse:0.46777\n",
      "[216]\tvalidation_0-rmse:0.46673\n",
      "[217]\tvalidation_0-rmse:0.46628\n",
      "[218]\tvalidation_0-rmse:0.46568\n",
      "[219]\tvalidation_0-rmse:0.46516\n",
      "[220]\tvalidation_0-rmse:0.46467\n",
      "[221]\tvalidation_0-rmse:0.46376\n",
      "[222]\tvalidation_0-rmse:0.46237\n",
      "[223]\tvalidation_0-rmse:0.46196\n",
      "[224]\tvalidation_0-rmse:0.46150\n",
      "[225]\tvalidation_0-rmse:0.46046\n",
      "[226]\tvalidation_0-rmse:0.45896\n",
      "[227]\tvalidation_0-rmse:0.45775\n",
      "[228]\tvalidation_0-rmse:0.45727\n",
      "[229]\tvalidation_0-rmse:0.45619\n",
      "[230]\tvalidation_0-rmse:0.45558\n",
      "[231]\tvalidation_0-rmse:0.45514\n",
      "[232]\tvalidation_0-rmse:0.45467\n",
      "[233]\tvalidation_0-rmse:0.45428\n",
      "[234]\tvalidation_0-rmse:0.45386\n",
      "[235]\tvalidation_0-rmse:0.45291\n",
      "[236]\tvalidation_0-rmse:0.45255\n",
      "[237]\tvalidation_0-rmse:0.45217\n",
      "[238]\tvalidation_0-rmse:0.45108\n",
      "[239]\tvalidation_0-rmse:0.45027\n",
      "[240]\tvalidation_0-rmse:0.44897\n",
      "[241]\tvalidation_0-rmse:0.44856\n",
      "[242]\tvalidation_0-rmse:0.44819\n",
      "[243]\tvalidation_0-rmse:0.44723\n",
      "[244]\tvalidation_0-rmse:0.44661\n",
      "[245]\tvalidation_0-rmse:0.44623\n",
      "[246]\tvalidation_0-rmse:0.44537\n",
      "[247]\tvalidation_0-rmse:0.44497\n",
      "[248]\tvalidation_0-rmse:0.44465\n",
      "[249]\tvalidation_0-rmse:0.44431\n",
      "[250]\tvalidation_0-rmse:0.44365\n",
      "[251]\tvalidation_0-rmse:0.44335\n",
      "[252]\tvalidation_0-rmse:0.44290\n",
      "[253]\tvalidation_0-rmse:0.44214\n",
      "[254]\tvalidation_0-rmse:0.44176\n",
      "[255]\tvalidation_0-rmse:0.44112\n",
      "[256]\tvalidation_0-rmse:0.44077\n",
      "[257]\tvalidation_0-rmse:0.44018\n",
      "[258]\tvalidation_0-rmse:0.43946\n",
      "[259]\tvalidation_0-rmse:0.43918\n",
      "[260]\tvalidation_0-rmse:0.43886\n",
      "[261]\tvalidation_0-rmse:0.43813\n",
      "[262]\tvalidation_0-rmse:0.43774\n",
      "[263]\tvalidation_0-rmse:0.43744\n",
      "[264]\tvalidation_0-rmse:0.43663\n",
      "[265]\tvalidation_0-rmse:0.43552\n",
      "[266]\tvalidation_0-rmse:0.43522\n",
      "[267]\tvalidation_0-rmse:0.43488\n",
      "[268]\tvalidation_0-rmse:0.43364\n",
      "[269]\tvalidation_0-rmse:0.43334\n",
      "[270]\tvalidation_0-rmse:0.43275\n",
      "[271]\tvalidation_0-rmse:0.43250\n",
      "[272]\tvalidation_0-rmse:0.43216\n",
      "[273]\tvalidation_0-rmse:0.43144\n",
      "[274]\tvalidation_0-rmse:0.43114\n",
      "[275]\tvalidation_0-rmse:0.43084\n",
      "[276]\tvalidation_0-rmse:0.43018\n",
      "[277]\tvalidation_0-rmse:0.42995\n",
      "[278]\tvalidation_0-rmse:0.42930\n",
      "[279]\tvalidation_0-rmse:0.42899\n",
      "[280]\tvalidation_0-rmse:0.42830\n",
      "[281]\tvalidation_0-rmse:0.42764\n",
      "[282]\tvalidation_0-rmse:0.42697\n",
      "[283]\tvalidation_0-rmse:0.42662\n",
      "[284]\tvalidation_0-rmse:0.42635\n",
      "[285]\tvalidation_0-rmse:0.42592\n",
      "[286]\tvalidation_0-rmse:0.42536\n",
      "[287]\tvalidation_0-rmse:0.42428\n",
      "[288]\tvalidation_0-rmse:0.42388\n",
      "[289]\tvalidation_0-rmse:0.42303\n",
      "[290]\tvalidation_0-rmse:0.42186\n",
      "[291]\tvalidation_0-rmse:0.42163\n",
      "[292]\tvalidation_0-rmse:0.42140\n",
      "[293]\tvalidation_0-rmse:0.42047\n",
      "[294]\tvalidation_0-rmse:0.42014\n",
      "[295]\tvalidation_0-rmse:0.41982\n",
      "[296]\tvalidation_0-rmse:0.41962\n",
      "[297]\tvalidation_0-rmse:0.41890\n",
      "[298]\tvalidation_0-rmse:0.41828\n",
      "[299]\tvalidation_0-rmse:0.41785\n",
      "[300]\tvalidation_0-rmse:0.41758\n",
      "[301]\tvalidation_0-rmse:0.41732\n",
      "[302]\tvalidation_0-rmse:0.41705\n",
      "[303]\tvalidation_0-rmse:0.41679\n",
      "[304]\tvalidation_0-rmse:0.41640\n",
      "[305]\tvalidation_0-rmse:0.41540\n",
      "[306]\tvalidation_0-rmse:0.41456\n",
      "[307]\tvalidation_0-rmse:0.41369\n",
      "[308]\tvalidation_0-rmse:0.41346\n",
      "[309]\tvalidation_0-rmse:0.41326\n",
      "[310]\tvalidation_0-rmse:0.41306\n",
      "[311]\tvalidation_0-rmse:0.41277\n",
      "[312]\tvalidation_0-rmse:0.41259\n",
      "[313]\tvalidation_0-rmse:0.41237\n",
      "[314]\tvalidation_0-rmse:0.41195\n",
      "[315]\tvalidation_0-rmse:0.41178\n",
      "[316]\tvalidation_0-rmse:0.41140\n",
      "[317]\tvalidation_0-rmse:0.41052\n",
      "[318]\tvalidation_0-rmse:0.40961\n",
      "[319]\tvalidation_0-rmse:0.40925\n",
      "[320]\tvalidation_0-rmse:0.40909\n",
      "[321]\tvalidation_0-rmse:0.40889\n",
      "[322]\tvalidation_0-rmse:0.40818\n",
      "[323]\tvalidation_0-rmse:0.40798\n",
      "[324]\tvalidation_0-rmse:0.40766\n",
      "[325]\tvalidation_0-rmse:0.40746\n",
      "[326]\tvalidation_0-rmse:0.40729\n",
      "[327]\tvalidation_0-rmse:0.40713\n",
      "[328]\tvalidation_0-rmse:0.40681\n",
      "[329]\tvalidation_0-rmse:0.40598\n",
      "[330]\tvalidation_0-rmse:0.40563\n",
      "[331]\tvalidation_0-rmse:0.40541\n",
      "[332]\tvalidation_0-rmse:0.40505\n",
      "[333]\tvalidation_0-rmse:0.40484\n",
      "[334]\tvalidation_0-rmse:0.40446\n",
      "[335]\tvalidation_0-rmse:0.40428\n",
      "[336]\tvalidation_0-rmse:0.40396\n",
      "[337]\tvalidation_0-rmse:0.40368\n",
      "[338]\tvalidation_0-rmse:0.40283\n",
      "[339]\tvalidation_0-rmse:0.40259\n",
      "[340]\tvalidation_0-rmse:0.40184\n",
      "[341]\tvalidation_0-rmse:0.40155\n",
      "[342]\tvalidation_0-rmse:0.40137\n",
      "[343]\tvalidation_0-rmse:0.40098\n",
      "[344]\tvalidation_0-rmse:0.40082\n",
      "[345]\tvalidation_0-rmse:0.40033\n",
      "[346]\tvalidation_0-rmse:0.40017\n",
      "[347]\tvalidation_0-rmse:0.39943\n",
      "[348]\tvalidation_0-rmse:0.39926\n",
      "[349]\tvalidation_0-rmse:0.39910\n",
      "[350]\tvalidation_0-rmse:0.39895\n",
      "[351]\tvalidation_0-rmse:0.39836\n",
      "[352]\tvalidation_0-rmse:0.39820\n",
      "[353]\tvalidation_0-rmse:0.39751\n",
      "[354]\tvalidation_0-rmse:0.39700\n",
      "[355]\tvalidation_0-rmse:0.39663\n",
      "[356]\tvalidation_0-rmse:0.39648\n",
      "[357]\tvalidation_0-rmse:0.39629\n",
      "[358]\tvalidation_0-rmse:0.39595\n",
      "[359]\tvalidation_0-rmse:0.39555\n",
      "[360]\tvalidation_0-rmse:0.39531\n",
      "[361]\tvalidation_0-rmse:0.39484\n",
      "[362]\tvalidation_0-rmse:0.39438\n",
      "[363]\tvalidation_0-rmse:0.39383\n",
      "[364]\tvalidation_0-rmse:0.39362\n",
      "[365]\tvalidation_0-rmse:0.39348\n",
      "[366]\tvalidation_0-rmse:0.39336\n",
      "[367]\tvalidation_0-rmse:0.39312\n",
      "[368]\tvalidation_0-rmse:0.39265\n",
      "[369]\tvalidation_0-rmse:0.39238\n",
      "[370]\tvalidation_0-rmse:0.39198\n",
      "[371]\tvalidation_0-rmse:0.39186\n",
      "[372]\tvalidation_0-rmse:0.39162\n",
      "[373]\tvalidation_0-rmse:0.39124\n",
      "[374]\tvalidation_0-rmse:0.39105\n",
      "[375]\tvalidation_0-rmse:0.39082\n",
      "[376]\tvalidation_0-rmse:0.39072\n",
      "[377]\tvalidation_0-rmse:0.39028\n",
      "[378]\tvalidation_0-rmse:0.39014\n",
      "[379]\tvalidation_0-rmse:0.38997\n",
      "[380]\tvalidation_0-rmse:0.38984\n",
      "[381]\tvalidation_0-rmse:0.38949\n",
      "[382]\tvalidation_0-rmse:0.38904\n",
      "[383]\tvalidation_0-rmse:0.38888\n",
      "[384]\tvalidation_0-rmse:0.38870\n",
      "[385]\tvalidation_0-rmse:0.38846\n",
      "[386]\tvalidation_0-rmse:0.38831\n",
      "[387]\tvalidation_0-rmse:0.38805\n",
      "[388]\tvalidation_0-rmse:0.38786\n",
      "[389]\tvalidation_0-rmse:0.38761\n",
      "[390]\tvalidation_0-rmse:0.38741\n",
      "[391]\tvalidation_0-rmse:0.38720\n",
      "[392]\tvalidation_0-rmse:0.38696\n",
      "[393]\tvalidation_0-rmse:0.38672\n",
      "[394]\tvalidation_0-rmse:0.38643\n",
      "[395]\tvalidation_0-rmse:0.38613\n",
      "[396]\tvalidation_0-rmse:0.38597\n",
      "[397]\tvalidation_0-rmse:0.38568\n",
      "[398]\tvalidation_0-rmse:0.38560\n",
      "[399]\tvalidation_0-rmse:0.38539\n",
      "[400]\tvalidation_0-rmse:0.38507\n",
      "[401]\tvalidation_0-rmse:0.38470\n",
      "[402]\tvalidation_0-rmse:0.38458\n",
      "[403]\tvalidation_0-rmse:0.38443\n",
      "[404]\tvalidation_0-rmse:0.38421\n",
      "[405]\tvalidation_0-rmse:0.38406\n",
      "[406]\tvalidation_0-rmse:0.38388\n",
      "[407]\tvalidation_0-rmse:0.38378\n",
      "[408]\tvalidation_0-rmse:0.38370\n",
      "[409]\tvalidation_0-rmse:0.38335\n",
      "[410]\tvalidation_0-rmse:0.38318\n",
      "[411]\tvalidation_0-rmse:0.38307\n",
      "[412]\tvalidation_0-rmse:0.38282\n",
      "[413]\tvalidation_0-rmse:0.38258\n",
      "[414]\tvalidation_0-rmse:0.38237\n",
      "[415]\tvalidation_0-rmse:0.38208\n",
      "[416]\tvalidation_0-rmse:0.38179\n",
      "[417]\tvalidation_0-rmse:0.38150\n",
      "[418]\tvalidation_0-rmse:0.38142\n",
      "[419]\tvalidation_0-rmse:0.38116\n",
      "[420]\tvalidation_0-rmse:0.38077\n",
      "[421]\tvalidation_0-rmse:0.38057\n",
      "[422]\tvalidation_0-rmse:0.38024\n",
      "[423]\tvalidation_0-rmse:0.38012\n",
      "[424]\tvalidation_0-rmse:0.37996\n",
      "[425]\tvalidation_0-rmse:0.37981\n",
      "[426]\tvalidation_0-rmse:0.37970\n",
      "[427]\tvalidation_0-rmse:0.37954\n",
      "[428]\tvalidation_0-rmse:0.37924\n",
      "[429]\tvalidation_0-rmse:0.37913\n",
      "[430]\tvalidation_0-rmse:0.37903\n",
      "[431]\tvalidation_0-rmse:0.37883\n",
      "[432]\tvalidation_0-rmse:0.37872\n",
      "[433]\tvalidation_0-rmse:0.37859\n",
      "[434]\tvalidation_0-rmse:0.37826\n",
      "[435]\tvalidation_0-rmse:0.37817\n",
      "[436]\tvalidation_0-rmse:0.37799\n",
      "[437]\tvalidation_0-rmse:0.37767\n",
      "[438]\tvalidation_0-rmse:0.37746\n",
      "[439]\tvalidation_0-rmse:0.37737\n",
      "[440]\tvalidation_0-rmse:0.37718\n",
      "[441]\tvalidation_0-rmse:0.37691\n",
      "[442]\tvalidation_0-rmse:0.37680\n",
      "[443]\tvalidation_0-rmse:0.37671\n",
      "[444]\tvalidation_0-rmse:0.37656\n",
      "[445]\tvalidation_0-rmse:0.37646\n",
      "[446]\tvalidation_0-rmse:0.37620\n",
      "[447]\tvalidation_0-rmse:0.37601\n",
      "[448]\tvalidation_0-rmse:0.37588\n",
      "[449]\tvalidation_0-rmse:0.37579\n",
      "[450]\tvalidation_0-rmse:0.37551\n",
      "[451]\tvalidation_0-rmse:0.37546\n",
      "[452]\tvalidation_0-rmse:0.37524\n",
      "[453]\tvalidation_0-rmse:0.37515\n",
      "[454]\tvalidation_0-rmse:0.37486\n",
      "[455]\tvalidation_0-rmse:0.37474\n",
      "[456]\tvalidation_0-rmse:0.37438\n",
      "[457]\tvalidation_0-rmse:0.37426\n",
      "[458]\tvalidation_0-rmse:0.37412\n",
      "[459]\tvalidation_0-rmse:0.37386\n",
      "[460]\tvalidation_0-rmse:0.37378\n",
      "[461]\tvalidation_0-rmse:0.37363\n",
      "[462]\tvalidation_0-rmse:0.37341\n",
      "[463]\tvalidation_0-rmse:0.37320\n",
      "[464]\tvalidation_0-rmse:0.37304\n",
      "[465]\tvalidation_0-rmse:0.37295\n",
      "[466]\tvalidation_0-rmse:0.37276\n",
      "[467]\tvalidation_0-rmse:0.37268\n",
      "[468]\tvalidation_0-rmse:0.37258\n",
      "[469]\tvalidation_0-rmse:0.37241\n",
      "[470]\tvalidation_0-rmse:0.37214\n",
      "[471]\tvalidation_0-rmse:0.37196\n",
      "[472]\tvalidation_0-rmse:0.37178\n",
      "[473]\tvalidation_0-rmse:0.37173\n",
      "[474]\tvalidation_0-rmse:0.37158\n",
      "[475]\tvalidation_0-rmse:0.37144\n",
      "[476]\tvalidation_0-rmse:0.37135\n",
      "[477]\tvalidation_0-rmse:0.37110\n",
      "[478]\tvalidation_0-rmse:0.37104\n",
      "[479]\tvalidation_0-rmse:0.37086\n",
      "[480]\tvalidation_0-rmse:0.37081\n",
      "[481]\tvalidation_0-rmse:0.37072\n",
      "[482]\tvalidation_0-rmse:0.37062\n",
      "[483]\tvalidation_0-rmse:0.37050\n",
      "[484]\tvalidation_0-rmse:0.37041\n",
      "[485]\tvalidation_0-rmse:0.37032\n",
      "[486]\tvalidation_0-rmse:0.37015\n",
      "[487]\tvalidation_0-rmse:0.36999\n",
      "[488]\tvalidation_0-rmse:0.36977\n",
      "[489]\tvalidation_0-rmse:0.36967\n",
      "[490]\tvalidation_0-rmse:0.36951\n",
      "[491]\tvalidation_0-rmse:0.36942\n",
      "[492]\tvalidation_0-rmse:0.36926\n",
      "[493]\tvalidation_0-rmse:0.36918\n",
      "[494]\tvalidation_0-rmse:0.36901\n",
      "[495]\tvalidation_0-rmse:0.36896\n",
      "[496]\tvalidation_0-rmse:0.36881\n",
      "[497]\tvalidation_0-rmse:0.36860\n",
      "[498]\tvalidation_0-rmse:0.36853\n",
      "[499]\tvalidation_0-rmse:0.36843\n",
      "[500]\tvalidation_0-rmse:0.36829\n",
      "[501]\tvalidation_0-rmse:0.36821\n",
      "[502]\tvalidation_0-rmse:0.36808\n",
      "[503]\tvalidation_0-rmse:0.36791\n",
      "[504]\tvalidation_0-rmse:0.36777\n",
      "[505]\tvalidation_0-rmse:0.36757\n",
      "[506]\tvalidation_0-rmse:0.36735\n",
      "[507]\tvalidation_0-rmse:0.36723\n",
      "[508]\tvalidation_0-rmse:0.36715\n",
      "[509]\tvalidation_0-rmse:0.36700\n",
      "[510]\tvalidation_0-rmse:0.36695\n",
      "[511]\tvalidation_0-rmse:0.36688\n",
      "[512]\tvalidation_0-rmse:0.36673\n",
      "[513]\tvalidation_0-rmse:0.36659\n",
      "[514]\tvalidation_0-rmse:0.36647\n",
      "[515]\tvalidation_0-rmse:0.36628\n",
      "[516]\tvalidation_0-rmse:0.36600\n",
      "[517]\tvalidation_0-rmse:0.36586\n",
      "[518]\tvalidation_0-rmse:0.36579\n",
      "[519]\tvalidation_0-rmse:0.36572\n",
      "[520]\tvalidation_0-rmse:0.36555\n",
      "[521]\tvalidation_0-rmse:0.36539\n",
      "[522]\tvalidation_0-rmse:0.36531\n",
      "[523]\tvalidation_0-rmse:0.36519\n",
      "[524]\tvalidation_0-rmse:0.36506\n",
      "[525]\tvalidation_0-rmse:0.36499\n",
      "[526]\tvalidation_0-rmse:0.36494\n",
      "[527]\tvalidation_0-rmse:0.36471\n",
      "[528]\tvalidation_0-rmse:0.36464\n",
      "[529]\tvalidation_0-rmse:0.36451\n",
      "[530]\tvalidation_0-rmse:0.36439\n",
      "[531]\tvalidation_0-rmse:0.36422\n",
      "[532]\tvalidation_0-rmse:0.36412\n",
      "[533]\tvalidation_0-rmse:0.36408\n",
      "[534]\tvalidation_0-rmse:0.36404\n",
      "[535]\tvalidation_0-rmse:0.36385\n",
      "[536]\tvalidation_0-rmse:0.36369\n",
      "[537]\tvalidation_0-rmse:0.36362\n",
      "[538]\tvalidation_0-rmse:0.36349\n",
      "[539]\tvalidation_0-rmse:0.36342\n",
      "[540]\tvalidation_0-rmse:0.36328\n",
      "[541]\tvalidation_0-rmse:0.36324\n",
      "[542]\tvalidation_0-rmse:0.36318\n",
      "[543]\tvalidation_0-rmse:0.36314\n",
      "[544]\tvalidation_0-rmse:0.36295\n",
      "[545]\tvalidation_0-rmse:0.36285\n",
      "[546]\tvalidation_0-rmse:0.36272\n",
      "[547]\tvalidation_0-rmse:0.36255\n",
      "[548]\tvalidation_0-rmse:0.36250\n",
      "[549]\tvalidation_0-rmse:0.36244\n",
      "[550]\tvalidation_0-rmse:0.36234\n",
      "[551]\tvalidation_0-rmse:0.36225\n",
      "[552]\tvalidation_0-rmse:0.36217\n",
      "[553]\tvalidation_0-rmse:0.36211\n",
      "[554]\tvalidation_0-rmse:0.36205\n",
      "[555]\tvalidation_0-rmse:0.36192\n",
      "[556]\tvalidation_0-rmse:0.36180\n",
      "[557]\tvalidation_0-rmse:0.36168\n",
      "[558]\tvalidation_0-rmse:0.36159\n",
      "[559]\tvalidation_0-rmse:0.36152\n",
      "[560]\tvalidation_0-rmse:0.36133\n",
      "[561]\tvalidation_0-rmse:0.36127\n",
      "[562]\tvalidation_0-rmse:0.36114\n",
      "[563]\tvalidation_0-rmse:0.36099\n",
      "[564]\tvalidation_0-rmse:0.36087\n",
      "[565]\tvalidation_0-rmse:0.36077\n",
      "[566]\tvalidation_0-rmse:0.36070\n",
      "[567]\tvalidation_0-rmse:0.36056\n",
      "[568]\tvalidation_0-rmse:0.36046\n",
      "[569]\tvalidation_0-rmse:0.36034\n",
      "[570]\tvalidation_0-rmse:0.36029\n",
      "[571]\tvalidation_0-rmse:0.36022\n",
      "[572]\tvalidation_0-rmse:0.36014\n",
      "[573]\tvalidation_0-rmse:0.36007\n",
      "[574]\tvalidation_0-rmse:0.36000\n",
      "[575]\tvalidation_0-rmse:0.35993\n",
      "[576]\tvalidation_0-rmse:0.35987\n",
      "[577]\tvalidation_0-rmse:0.35974\n",
      "[578]\tvalidation_0-rmse:0.35971\n",
      "[579]\tvalidation_0-rmse:0.35964\n",
      "[580]\tvalidation_0-rmse:0.35956\n",
      "[581]\tvalidation_0-rmse:0.35947\n",
      "[582]\tvalidation_0-rmse:0.35941\n",
      "[583]\tvalidation_0-rmse:0.35935\n",
      "[584]\tvalidation_0-rmse:0.35927\n",
      "[585]\tvalidation_0-rmse:0.35916\n",
      "[586]\tvalidation_0-rmse:0.35908\n",
      "[587]\tvalidation_0-rmse:0.35895\n",
      "[588]\tvalidation_0-rmse:0.35891\n",
      "[589]\tvalidation_0-rmse:0.35877\n",
      "[590]\tvalidation_0-rmse:0.35869\n",
      "[591]\tvalidation_0-rmse:0.35860\n",
      "[592]\tvalidation_0-rmse:0.35849\n",
      "[593]\tvalidation_0-rmse:0.35843\n",
      "[594]\tvalidation_0-rmse:0.35837\n",
      "[595]\tvalidation_0-rmse:0.35829\n",
      "[596]\tvalidation_0-rmse:0.35822\n",
      "[597]\tvalidation_0-rmse:0.35816\n",
      "[598]\tvalidation_0-rmse:0.35809\n",
      "[599]\tvalidation_0-rmse:0.35796\n",
      "[600]\tvalidation_0-rmse:0.35787\n",
      "[601]\tvalidation_0-rmse:0.35779\n",
      "[602]\tvalidation_0-rmse:0.35778\n",
      "[603]\tvalidation_0-rmse:0.35771\n",
      "[604]\tvalidation_0-rmse:0.35765\n",
      "[605]\tvalidation_0-rmse:0.35752\n",
      "[606]\tvalidation_0-rmse:0.35751\n",
      "[607]\tvalidation_0-rmse:0.35742\n",
      "[608]\tvalidation_0-rmse:0.35738\n",
      "[609]\tvalidation_0-rmse:0.35734\n",
      "[610]\tvalidation_0-rmse:0.35720\n",
      "[611]\tvalidation_0-rmse:0.35709\n",
      "[612]\tvalidation_0-rmse:0.35704\n",
      "[613]\tvalidation_0-rmse:0.35689\n",
      "[614]\tvalidation_0-rmse:0.35684\n",
      "[615]\tvalidation_0-rmse:0.35678\n",
      "[616]\tvalidation_0-rmse:0.35668\n",
      "[617]\tvalidation_0-rmse:0.35662\n",
      "[618]\tvalidation_0-rmse:0.35649\n",
      "[619]\tvalidation_0-rmse:0.35642\n",
      "[620]\tvalidation_0-rmse:0.35634\n",
      "[621]\tvalidation_0-rmse:0.35620\n",
      "[622]\tvalidation_0-rmse:0.35608\n",
      "[623]\tvalidation_0-rmse:0.35604\n",
      "[624]\tvalidation_0-rmse:0.35599\n",
      "[625]\tvalidation_0-rmse:0.35590\n",
      "[626]\tvalidation_0-rmse:0.35587\n",
      "[627]\tvalidation_0-rmse:0.35580\n",
      "[628]\tvalidation_0-rmse:0.35571\n",
      "[629]\tvalidation_0-rmse:0.35562\n",
      "[630]\tvalidation_0-rmse:0.35550\n",
      "[631]\tvalidation_0-rmse:0.35541\n",
      "[632]\tvalidation_0-rmse:0.35533\n",
      "[633]\tvalidation_0-rmse:0.35522\n",
      "[634]\tvalidation_0-rmse:0.35516\n",
      "[635]\tvalidation_0-rmse:0.35509\n",
      "[636]\tvalidation_0-rmse:0.35501\n",
      "[637]\tvalidation_0-rmse:0.35492\n",
      "[638]\tvalidation_0-rmse:0.35486\n",
      "[639]\tvalidation_0-rmse:0.35478\n",
      "[640]\tvalidation_0-rmse:0.35472\n",
      "[641]\tvalidation_0-rmse:0.35461\n",
      "[642]\tvalidation_0-rmse:0.35449\n",
      "[643]\tvalidation_0-rmse:0.35444\n",
      "[644]\tvalidation_0-rmse:0.35440\n",
      "[645]\tvalidation_0-rmse:0.35436\n",
      "[646]\tvalidation_0-rmse:0.35433\n",
      "[647]\tvalidation_0-rmse:0.35423\n",
      "[648]\tvalidation_0-rmse:0.35420\n",
      "[649]\tvalidation_0-rmse:0.35415\n",
      "[650]\tvalidation_0-rmse:0.35408\n",
      "[651]\tvalidation_0-rmse:0.35401\n",
      "[652]\tvalidation_0-rmse:0.35391\n",
      "[653]\tvalidation_0-rmse:0.35386\n",
      "[654]\tvalidation_0-rmse:0.35378\n",
      "[655]\tvalidation_0-rmse:0.35367\n",
      "[656]\tvalidation_0-rmse:0.35365\n",
      "[657]\tvalidation_0-rmse:0.35357\n",
      "[658]\tvalidation_0-rmse:0.35352\n",
      "[659]\tvalidation_0-rmse:0.35345\n",
      "[660]\tvalidation_0-rmse:0.35341\n",
      "[661]\tvalidation_0-rmse:0.35332\n",
      "[662]\tvalidation_0-rmse:0.35323\n",
      "[663]\tvalidation_0-rmse:0.35319\n",
      "[664]\tvalidation_0-rmse:0.35315\n",
      "[665]\tvalidation_0-rmse:0.35307\n",
      "[666]\tvalidation_0-rmse:0.35299\n",
      "[667]\tvalidation_0-rmse:0.35296\n",
      "[668]\tvalidation_0-rmse:0.35285\n",
      "[669]\tvalidation_0-rmse:0.35278\n",
      "[670]\tvalidation_0-rmse:0.35265\n",
      "[671]\tvalidation_0-rmse:0.35261\n",
      "[672]\tvalidation_0-rmse:0.35253\n",
      "[673]\tvalidation_0-rmse:0.35250\n",
      "[674]\tvalidation_0-rmse:0.35244\n",
      "[675]\tvalidation_0-rmse:0.35237\n",
      "[676]\tvalidation_0-rmse:0.35232\n",
      "[677]\tvalidation_0-rmse:0.35226\n",
      "[678]\tvalidation_0-rmse:0.35215\n",
      "[679]\tvalidation_0-rmse:0.35208\n",
      "[680]\tvalidation_0-rmse:0.35202\n",
      "[681]\tvalidation_0-rmse:0.35196\n",
      "[682]\tvalidation_0-rmse:0.35186\n",
      "[683]\tvalidation_0-rmse:0.35183\n",
      "[684]\tvalidation_0-rmse:0.35175\n",
      "[685]\tvalidation_0-rmse:0.35166\n",
      "[686]\tvalidation_0-rmse:0.35162\n",
      "[687]\tvalidation_0-rmse:0.35153\n",
      "[688]\tvalidation_0-rmse:0.35143\n",
      "[689]\tvalidation_0-rmse:0.35141\n",
      "[690]\tvalidation_0-rmse:0.35136\n",
      "[691]\tvalidation_0-rmse:0.35134\n",
      "[692]\tvalidation_0-rmse:0.35130\n",
      "[693]\tvalidation_0-rmse:0.35127\n",
      "[694]\tvalidation_0-rmse:0.35125\n",
      "[695]\tvalidation_0-rmse:0.35111\n",
      "[696]\tvalidation_0-rmse:0.35105\n",
      "[697]\tvalidation_0-rmse:0.35101\n",
      "[698]\tvalidation_0-rmse:0.35092\n",
      "[699]\tvalidation_0-rmse:0.35089\n",
      "[700]\tvalidation_0-rmse:0.35084\n",
      "[701]\tvalidation_0-rmse:0.35077\n",
      "[702]\tvalidation_0-rmse:0.35075\n",
      "[703]\tvalidation_0-rmse:0.35072\n",
      "[704]\tvalidation_0-rmse:0.35067\n",
      "[705]\tvalidation_0-rmse:0.35061\n",
      "[706]\tvalidation_0-rmse:0.35057\n",
      "[707]\tvalidation_0-rmse:0.35054\n",
      "[708]\tvalidation_0-rmse:0.35047\n",
      "[709]\tvalidation_0-rmse:0.35040\n",
      "[710]\tvalidation_0-rmse:0.35033\n",
      "[711]\tvalidation_0-rmse:0.35027\n",
      "[712]\tvalidation_0-rmse:0.35021\n",
      "[713]\tvalidation_0-rmse:0.35010\n",
      "[714]\tvalidation_0-rmse:0.35004\n",
      "[715]\tvalidation_0-rmse:0.34998\n",
      "[716]\tvalidation_0-rmse:0.34993\n",
      "[717]\tvalidation_0-rmse:0.34990\n",
      "[718]\tvalidation_0-rmse:0.34988\n",
      "[719]\tvalidation_0-rmse:0.34982\n",
      "[720]\tvalidation_0-rmse:0.34977\n",
      "[721]\tvalidation_0-rmse:0.34974\n",
      "[722]\tvalidation_0-rmse:0.34964\n",
      "[723]\tvalidation_0-rmse:0.34957\n",
      "[724]\tvalidation_0-rmse:0.34954\n",
      "[725]\tvalidation_0-rmse:0.34947\n",
      "[726]\tvalidation_0-rmse:0.34942\n",
      "[727]\tvalidation_0-rmse:0.34931\n",
      "[728]\tvalidation_0-rmse:0.34926\n",
      "[729]\tvalidation_0-rmse:0.34920\n",
      "[730]\tvalidation_0-rmse:0.34917\n",
      "[731]\tvalidation_0-rmse:0.34910\n",
      "[732]\tvalidation_0-rmse:0.34907\n",
      "[733]\tvalidation_0-rmse:0.34904\n",
      "[734]\tvalidation_0-rmse:0.34900\n",
      "[735]\tvalidation_0-rmse:0.34893\n",
      "[736]\tvalidation_0-rmse:0.34890\n",
      "[737]\tvalidation_0-rmse:0.34886\n",
      "[738]\tvalidation_0-rmse:0.34883\n",
      "[739]\tvalidation_0-rmse:0.34878\n",
      "[740]\tvalidation_0-rmse:0.34874\n",
      "[741]\tvalidation_0-rmse:0.34867\n",
      "[742]\tvalidation_0-rmse:0.34864\n",
      "[743]\tvalidation_0-rmse:0.34861\n",
      "[744]\tvalidation_0-rmse:0.34858\n",
      "[745]\tvalidation_0-rmse:0.34856\n",
      "[746]\tvalidation_0-rmse:0.34851\n",
      "[747]\tvalidation_0-rmse:0.34848\n",
      "[748]\tvalidation_0-rmse:0.34845\n",
      "[749]\tvalidation_0-rmse:0.34839\n",
      "[750]\tvalidation_0-rmse:0.34837\n",
      "[751]\tvalidation_0-rmse:0.34828\n",
      "[752]\tvalidation_0-rmse:0.34819\n",
      "[753]\tvalidation_0-rmse:0.34816\n",
      "[754]\tvalidation_0-rmse:0.34811\n",
      "[755]\tvalidation_0-rmse:0.34807\n",
      "[756]\tvalidation_0-rmse:0.34796\n",
      "[757]\tvalidation_0-rmse:0.34791\n",
      "[758]\tvalidation_0-rmse:0.34789\n",
      "[759]\tvalidation_0-rmse:0.34784\n",
      "[760]\tvalidation_0-rmse:0.34777\n",
      "[761]\tvalidation_0-rmse:0.34771\n",
      "[762]\tvalidation_0-rmse:0.34771\n",
      "[763]\tvalidation_0-rmse:0.34767\n",
      "[764]\tvalidation_0-rmse:0.34760\n",
      "[765]\tvalidation_0-rmse:0.34757\n",
      "[766]\tvalidation_0-rmse:0.34754\n",
      "[767]\tvalidation_0-rmse:0.34752\n",
      "[768]\tvalidation_0-rmse:0.34747\n",
      "[769]\tvalidation_0-rmse:0.34739\n",
      "[770]\tvalidation_0-rmse:0.34736\n",
      "[771]\tvalidation_0-rmse:0.34727\n",
      "[772]\tvalidation_0-rmse:0.34721\n",
      "[773]\tvalidation_0-rmse:0.34713\n",
      "[774]\tvalidation_0-rmse:0.34703\n",
      "[775]\tvalidation_0-rmse:0.34696\n",
      "[776]\tvalidation_0-rmse:0.34688\n",
      "[777]\tvalidation_0-rmse:0.34686\n",
      "[778]\tvalidation_0-rmse:0.34677\n",
      "[779]\tvalidation_0-rmse:0.34672\n",
      "[780]\tvalidation_0-rmse:0.34668\n",
      "[781]\tvalidation_0-rmse:0.34664\n",
      "[782]\tvalidation_0-rmse:0.34660\n",
      "[783]\tvalidation_0-rmse:0.34651\n",
      "[784]\tvalidation_0-rmse:0.34646\n",
      "[785]\tvalidation_0-rmse:0.34642\n",
      "[786]\tvalidation_0-rmse:0.34638\n",
      "[787]\tvalidation_0-rmse:0.34633\n",
      "[788]\tvalidation_0-rmse:0.34631\n",
      "[789]\tvalidation_0-rmse:0.34625\n",
      "[790]\tvalidation_0-rmse:0.34618\n",
      "[791]\tvalidation_0-rmse:0.34612\n",
      "[792]\tvalidation_0-rmse:0.34608\n",
      "[793]\tvalidation_0-rmse:0.34602\n",
      "[794]\tvalidation_0-rmse:0.34601\n",
      "[795]\tvalidation_0-rmse:0.34598\n",
      "[796]\tvalidation_0-rmse:0.34594\n",
      "[797]\tvalidation_0-rmse:0.34588\n",
      "[798]\tvalidation_0-rmse:0.34584\n",
      "[799]\tvalidation_0-rmse:0.34579\n",
      "[800]\tvalidation_0-rmse:0.34574\n",
      "[801]\tvalidation_0-rmse:0.34572\n",
      "[802]\tvalidation_0-rmse:0.34568\n",
      "[803]\tvalidation_0-rmse:0.34566\n",
      "[804]\tvalidation_0-rmse:0.34560\n",
      "[805]\tvalidation_0-rmse:0.34554\n",
      "[806]\tvalidation_0-rmse:0.34553\n",
      "[807]\tvalidation_0-rmse:0.34544\n",
      "[808]\tvalidation_0-rmse:0.34539\n",
      "[809]\tvalidation_0-rmse:0.34537\n",
      "[810]\tvalidation_0-rmse:0.34534\n",
      "[811]\tvalidation_0-rmse:0.34529\n",
      "[812]\tvalidation_0-rmse:0.34528\n",
      "[813]\tvalidation_0-rmse:0.34527\n",
      "[814]\tvalidation_0-rmse:0.34520\n",
      "[815]\tvalidation_0-rmse:0.34516\n",
      "[816]\tvalidation_0-rmse:0.34510\n",
      "[817]\tvalidation_0-rmse:0.34508\n",
      "[818]\tvalidation_0-rmse:0.34502\n",
      "[819]\tvalidation_0-rmse:0.34497\n",
      "[820]\tvalidation_0-rmse:0.34494\n",
      "[821]\tvalidation_0-rmse:0.34489\n",
      "[822]\tvalidation_0-rmse:0.34484\n",
      "[823]\tvalidation_0-rmse:0.34481\n",
      "[824]\tvalidation_0-rmse:0.34479\n",
      "[825]\tvalidation_0-rmse:0.34475\n",
      "[826]\tvalidation_0-rmse:0.34471\n",
      "[827]\tvalidation_0-rmse:0.34465\n",
      "[828]\tvalidation_0-rmse:0.34461\n",
      "[829]\tvalidation_0-rmse:0.34459\n",
      "[830]\tvalidation_0-rmse:0.34453\n",
      "[831]\tvalidation_0-rmse:0.34449\n",
      "[832]\tvalidation_0-rmse:0.34445\n",
      "[833]\tvalidation_0-rmse:0.34443\n",
      "[834]\tvalidation_0-rmse:0.34440\n",
      "[835]\tvalidation_0-rmse:0.34438\n",
      "[836]\tvalidation_0-rmse:0.34436\n",
      "[837]\tvalidation_0-rmse:0.34433\n",
      "[838]\tvalidation_0-rmse:0.34427\n",
      "[839]\tvalidation_0-rmse:0.34425\n",
      "[840]\tvalidation_0-rmse:0.34421\n",
      "[841]\tvalidation_0-rmse:0.34418\n",
      "[842]\tvalidation_0-rmse:0.34417\n",
      "[843]\tvalidation_0-rmse:0.34413\n",
      "[844]\tvalidation_0-rmse:0.34410\n",
      "[845]\tvalidation_0-rmse:0.34407\n",
      "[846]\tvalidation_0-rmse:0.34402\n",
      "[847]\tvalidation_0-rmse:0.34401\n",
      "[848]\tvalidation_0-rmse:0.34395\n",
      "[849]\tvalidation_0-rmse:0.34392\n",
      "[850]\tvalidation_0-rmse:0.34387\n",
      "[851]\tvalidation_0-rmse:0.34383\n",
      "[852]\tvalidation_0-rmse:0.34382\n",
      "[853]\tvalidation_0-rmse:0.34381\n",
      "[854]\tvalidation_0-rmse:0.34380\n",
      "[855]\tvalidation_0-rmse:0.34380\n",
      "[856]\tvalidation_0-rmse:0.34376\n",
      "[857]\tvalidation_0-rmse:0.34373\n",
      "[858]\tvalidation_0-rmse:0.34368\n",
      "[859]\tvalidation_0-rmse:0.34365\n",
      "[860]\tvalidation_0-rmse:0.34360\n",
      "[861]\tvalidation_0-rmse:0.34355\n",
      "[862]\tvalidation_0-rmse:0.34353\n",
      "[863]\tvalidation_0-rmse:0.34350\n",
      "[864]\tvalidation_0-rmse:0.34347\n",
      "[865]\tvalidation_0-rmse:0.34345\n",
      "[866]\tvalidation_0-rmse:0.34344\n",
      "[867]\tvalidation_0-rmse:0.34341\n",
      "[868]\tvalidation_0-rmse:0.34338\n",
      "[869]\tvalidation_0-rmse:0.34335\n",
      "[870]\tvalidation_0-rmse:0.34332\n",
      "[871]\tvalidation_0-rmse:0.34331\n",
      "[872]\tvalidation_0-rmse:0.34324\n",
      "[873]\tvalidation_0-rmse:0.34319\n",
      "[874]\tvalidation_0-rmse:0.34316\n",
      "[875]\tvalidation_0-rmse:0.34311\n",
      "[876]\tvalidation_0-rmse:0.34307\n",
      "[877]\tvalidation_0-rmse:0.34302\n",
      "[878]\tvalidation_0-rmse:0.34297\n",
      "[879]\tvalidation_0-rmse:0.34295\n",
      "[880]\tvalidation_0-rmse:0.34290\n",
      "[881]\tvalidation_0-rmse:0.34288\n",
      "[882]\tvalidation_0-rmse:0.34282\n",
      "[883]\tvalidation_0-rmse:0.34280\n",
      "[884]\tvalidation_0-rmse:0.34276\n",
      "[885]\tvalidation_0-rmse:0.34275\n",
      "[886]\tvalidation_0-rmse:0.34273\n",
      "[887]\tvalidation_0-rmse:0.34270\n",
      "[888]\tvalidation_0-rmse:0.34266\n",
      "[889]\tvalidation_0-rmse:0.34263\n",
      "[890]\tvalidation_0-rmse:0.34261\n",
      "[891]\tvalidation_0-rmse:0.34258\n",
      "[892]\tvalidation_0-rmse:0.34256\n",
      "[893]\tvalidation_0-rmse:0.34252\n",
      "[894]\tvalidation_0-rmse:0.34249\n",
      "[895]\tvalidation_0-rmse:0.34246\n",
      "[896]\tvalidation_0-rmse:0.34245\n",
      "[897]\tvalidation_0-rmse:0.34242\n",
      "[898]\tvalidation_0-rmse:0.34240\n",
      "[899]\tvalidation_0-rmse:0.34235\n",
      "[900]\tvalidation_0-rmse:0.34233\n",
      "[901]\tvalidation_0-rmse:0.34230\n",
      "[902]\tvalidation_0-rmse:0.34229\n",
      "[903]\tvalidation_0-rmse:0.34226\n",
      "[904]\tvalidation_0-rmse:0.34225\n",
      "[905]\tvalidation_0-rmse:0.34222\n",
      "[906]\tvalidation_0-rmse:0.34218\n",
      "[907]\tvalidation_0-rmse:0.34216\n",
      "[908]\tvalidation_0-rmse:0.34211\n",
      "[909]\tvalidation_0-rmse:0.34209\n",
      "[910]\tvalidation_0-rmse:0.34205\n",
      "[911]\tvalidation_0-rmse:0.34202\n",
      "[912]\tvalidation_0-rmse:0.34198\n",
      "[913]\tvalidation_0-rmse:0.34194\n",
      "[914]\tvalidation_0-rmse:0.34192\n",
      "[915]\tvalidation_0-rmse:0.34191\n",
      "[916]\tvalidation_0-rmse:0.34188\n",
      "[917]\tvalidation_0-rmse:0.34184\n",
      "[918]\tvalidation_0-rmse:0.34181\n",
      "[919]\tvalidation_0-rmse:0.34175\n",
      "[920]\tvalidation_0-rmse:0.34171\n",
      "[921]\tvalidation_0-rmse:0.34167\n",
      "[922]\tvalidation_0-rmse:0.34164\n",
      "[923]\tvalidation_0-rmse:0.34161\n",
      "[924]\tvalidation_0-rmse:0.34156\n",
      "[925]\tvalidation_0-rmse:0.34156\n",
      "[926]\tvalidation_0-rmse:0.34151\n",
      "[927]\tvalidation_0-rmse:0.34148\n",
      "[928]\tvalidation_0-rmse:0.34146\n",
      "[929]\tvalidation_0-rmse:0.34144\n",
      "[930]\tvalidation_0-rmse:0.34143\n",
      "[931]\tvalidation_0-rmse:0.34141\n",
      "[932]\tvalidation_0-rmse:0.34139\n",
      "[933]\tvalidation_0-rmse:0.34138\n",
      "[934]\tvalidation_0-rmse:0.34136\n",
      "[935]\tvalidation_0-rmse:0.34131\n",
      "[936]\tvalidation_0-rmse:0.34127\n",
      "[937]\tvalidation_0-rmse:0.34125\n",
      "[938]\tvalidation_0-rmse:0.34121\n",
      "[939]\tvalidation_0-rmse:0.34120\n",
      "[940]\tvalidation_0-rmse:0.34117\n",
      "[941]\tvalidation_0-rmse:0.34116\n",
      "[942]\tvalidation_0-rmse:0.34114\n",
      "[943]\tvalidation_0-rmse:0.34111\n",
      "[944]\tvalidation_0-rmse:0.34109\n",
      "[945]\tvalidation_0-rmse:0.34107\n",
      "[946]\tvalidation_0-rmse:0.34106\n",
      "[947]\tvalidation_0-rmse:0.34104\n",
      "[948]\tvalidation_0-rmse:0.34102\n",
      "[949]\tvalidation_0-rmse:0.34098\n",
      "[950]\tvalidation_0-rmse:0.34095\n",
      "[951]\tvalidation_0-rmse:0.34092\n",
      "[952]\tvalidation_0-rmse:0.34091\n",
      "[953]\tvalidation_0-rmse:0.34088\n",
      "[954]\tvalidation_0-rmse:0.34085\n",
      "[955]\tvalidation_0-rmse:0.34084\n",
      "[956]\tvalidation_0-rmse:0.34081\n",
      "[957]\tvalidation_0-rmse:0.34078\n",
      "[958]\tvalidation_0-rmse:0.34077\n",
      "[959]\tvalidation_0-rmse:0.34076\n",
      "[960]\tvalidation_0-rmse:0.34073\n",
      "[961]\tvalidation_0-rmse:0.34071\n",
      "[962]\tvalidation_0-rmse:0.34068\n",
      "[963]\tvalidation_0-rmse:0.34066\n",
      "[964]\tvalidation_0-rmse:0.34064\n",
      "[965]\tvalidation_0-rmse:0.34061\n",
      "[966]\tvalidation_0-rmse:0.34058\n",
      "[967]\tvalidation_0-rmse:0.34057\n",
      "[968]\tvalidation_0-rmse:0.34055\n",
      "[969]\tvalidation_0-rmse:0.34054\n",
      "[970]\tvalidation_0-rmse:0.34052\n",
      "[971]\tvalidation_0-rmse:0.34046\n",
      "[972]\tvalidation_0-rmse:0.34045\n",
      "[973]\tvalidation_0-rmse:0.34041\n",
      "[974]\tvalidation_0-rmse:0.34038\n",
      "[975]\tvalidation_0-rmse:0.34035\n",
      "[976]\tvalidation_0-rmse:0.34033\n",
      "[977]\tvalidation_0-rmse:0.34029\n",
      "[978]\tvalidation_0-rmse:0.34028\n",
      "[979]\tvalidation_0-rmse:0.34025\n",
      "[980]\tvalidation_0-rmse:0.34024\n",
      "[981]\tvalidation_0-rmse:0.34022\n",
      "[982]\tvalidation_0-rmse:0.34017\n",
      "[983]\tvalidation_0-rmse:0.34015\n",
      "[984]\tvalidation_0-rmse:0.34014\n",
      "[985]\tvalidation_0-rmse:0.34011\n",
      "[986]\tvalidation_0-rmse:0.34009\n",
      "[987]\tvalidation_0-rmse:0.34008\n",
      "[988]\tvalidation_0-rmse:0.34006\n",
      "[989]\tvalidation_0-rmse:0.34004\n",
      "[990]\tvalidation_0-rmse:0.34001\n",
      "[991]\tvalidation_0-rmse:0.33998\n",
      "[992]\tvalidation_0-rmse:0.33996\n",
      "[993]\tvalidation_0-rmse:0.33994\n",
      "[994]\tvalidation_0-rmse:0.33992\n",
      "[995]\tvalidation_0-rmse:0.33991\n",
      "[996]\tvalidation_0-rmse:0.33988\n",
      "[997]\tvalidation_0-rmse:0.33987\n",
      "[998]\tvalidation_0-rmse:0.33983\n",
      "[999]\tvalidation_0-rmse:0.33982\n",
      "[1000]\tvalidation_0-rmse:0.33978\n",
      "[1001]\tvalidation_0-rmse:0.33977\n",
      "[1002]\tvalidation_0-rmse:0.33975\n",
      "[1003]\tvalidation_0-rmse:0.33972\n",
      "[1004]\tvalidation_0-rmse:0.33970\n",
      "[1005]\tvalidation_0-rmse:0.33968\n",
      "[1006]\tvalidation_0-rmse:0.33966\n",
      "[1007]\tvalidation_0-rmse:0.33963\n",
      "[1008]\tvalidation_0-rmse:0.33962\n",
      "[1009]\tvalidation_0-rmse:0.33959\n",
      "[1010]\tvalidation_0-rmse:0.33956\n",
      "[1011]\tvalidation_0-rmse:0.33952\n",
      "[1012]\tvalidation_0-rmse:0.33947\n",
      "[1013]\tvalidation_0-rmse:0.33946\n",
      "[1014]\tvalidation_0-rmse:0.33944\n",
      "[1015]\tvalidation_0-rmse:0.33942\n",
      "[1016]\tvalidation_0-rmse:0.33938\n",
      "[1017]\tvalidation_0-rmse:0.33936\n",
      "[1018]\tvalidation_0-rmse:0.33933\n",
      "[1019]\tvalidation_0-rmse:0.33931\n",
      "[1020]\tvalidation_0-rmse:0.33930\n",
      "[1021]\tvalidation_0-rmse:0.33927\n",
      "[1022]\tvalidation_0-rmse:0.33925\n",
      "[1023]\tvalidation_0-rmse:0.33923\n",
      "[1024]\tvalidation_0-rmse:0.33921\n",
      "[1025]\tvalidation_0-rmse:0.33918\n",
      "[1026]\tvalidation_0-rmse:0.33917\n",
      "[1027]\tvalidation_0-rmse:0.33916\n",
      "[1028]\tvalidation_0-rmse:0.33915\n",
      "[1029]\tvalidation_0-rmse:0.33912\n",
      "[1030]\tvalidation_0-rmse:0.33911\n",
      "[1031]\tvalidation_0-rmse:0.33908\n",
      "[1032]\tvalidation_0-rmse:0.33905\n",
      "[1033]\tvalidation_0-rmse:0.33904\n",
      "[1034]\tvalidation_0-rmse:0.33904\n",
      "[1035]\tvalidation_0-rmse:0.33903\n",
      "[1036]\tvalidation_0-rmse:0.33902\n",
      "[1037]\tvalidation_0-rmse:0.33897\n",
      "[1038]\tvalidation_0-rmse:0.33896\n",
      "[1039]\tvalidation_0-rmse:0.33895\n",
      "[1040]\tvalidation_0-rmse:0.33894\n",
      "[1041]\tvalidation_0-rmse:0.33891\n",
      "[1042]\tvalidation_0-rmse:0.33889\n",
      "[1043]\tvalidation_0-rmse:0.33889\n",
      "[1044]\tvalidation_0-rmse:0.33888\n",
      "[1045]\tvalidation_0-rmse:0.33886\n",
      "[1046]\tvalidation_0-rmse:0.33886\n",
      "[1047]\tvalidation_0-rmse:0.33884\n",
      "[1048]\tvalidation_0-rmse:0.33882\n",
      "[1049]\tvalidation_0-rmse:0.33881\n",
      "[1050]\tvalidation_0-rmse:0.33878\n",
      "[1051]\tvalidation_0-rmse:0.33877\n",
      "[1052]\tvalidation_0-rmse:0.33875\n",
      "[1053]\tvalidation_0-rmse:0.33874\n",
      "[1054]\tvalidation_0-rmse:0.33871\n",
      "[1055]\tvalidation_0-rmse:0.33869\n",
      "[1056]\tvalidation_0-rmse:0.33868\n",
      "[1057]\tvalidation_0-rmse:0.33868\n",
      "[1058]\tvalidation_0-rmse:0.33866\n",
      "[1059]\tvalidation_0-rmse:0.33864\n",
      "[1060]\tvalidation_0-rmse:0.33862\n",
      "[1061]\tvalidation_0-rmse:0.33859\n",
      "[1062]\tvalidation_0-rmse:0.33856\n",
      "[1063]\tvalidation_0-rmse:0.33854\n",
      "[1064]\tvalidation_0-rmse:0.33853\n",
      "[1065]\tvalidation_0-rmse:0.33850\n",
      "[1066]\tvalidation_0-rmse:0.33848\n",
      "[1067]\tvalidation_0-rmse:0.33846\n",
      "[1068]\tvalidation_0-rmse:0.33844\n",
      "[1069]\tvalidation_0-rmse:0.33842\n",
      "[1070]\tvalidation_0-rmse:0.33840\n",
      "[1071]\tvalidation_0-rmse:0.33839\n",
      "[1072]\tvalidation_0-rmse:0.33838\n",
      "[1073]\tvalidation_0-rmse:0.33836\n",
      "[1074]\tvalidation_0-rmse:0.33834\n",
      "[1075]\tvalidation_0-rmse:0.33831\n",
      "[1076]\tvalidation_0-rmse:0.33830\n",
      "[1077]\tvalidation_0-rmse:0.33830\n",
      "[1078]\tvalidation_0-rmse:0.33829\n",
      "[1079]\tvalidation_0-rmse:0.33827\n",
      "[1080]\tvalidation_0-rmse:0.33825\n",
      "[1081]\tvalidation_0-rmse:0.33824\n",
      "[1082]\tvalidation_0-rmse:0.33822\n",
      "[1083]\tvalidation_0-rmse:0.33820\n",
      "[1084]\tvalidation_0-rmse:0.33819\n",
      "[1085]\tvalidation_0-rmse:0.33818\n",
      "[1086]\tvalidation_0-rmse:0.33817\n",
      "[1087]\tvalidation_0-rmse:0.33816\n",
      "[1088]\tvalidation_0-rmse:0.33815\n",
      "[1089]\tvalidation_0-rmse:0.33813\n",
      "[1090]\tvalidation_0-rmse:0.33811\n",
      "[1091]\tvalidation_0-rmse:0.33810\n",
      "[1092]\tvalidation_0-rmse:0.33808\n",
      "[1093]\tvalidation_0-rmse:0.33806\n",
      "[1094]\tvalidation_0-rmse:0.33805\n",
      "[1095]\tvalidation_0-rmse:0.33804\n",
      "[1096]\tvalidation_0-rmse:0.33803\n",
      "[1097]\tvalidation_0-rmse:0.33802\n",
      "[1098]\tvalidation_0-rmse:0.33801\n",
      "[1099]\tvalidation_0-rmse:0.33800\n",
      "[1100]\tvalidation_0-rmse:0.33796\n",
      "[1101]\tvalidation_0-rmse:0.33796\n",
      "[1102]\tvalidation_0-rmse:0.33796\n",
      "[1103]\tvalidation_0-rmse:0.33794\n",
      "[1104]\tvalidation_0-rmse:0.33792\n",
      "[1105]\tvalidation_0-rmse:0.33791\n",
      "[1106]\tvalidation_0-rmse:0.33789\n",
      "[1107]\tvalidation_0-rmse:0.33786\n",
      "[1108]\tvalidation_0-rmse:0.33785\n",
      "[1109]\tvalidation_0-rmse:0.33784\n",
      "[1110]\tvalidation_0-rmse:0.33782\n",
      "[1111]\tvalidation_0-rmse:0.33781\n",
      "[1112]\tvalidation_0-rmse:0.33779\n",
      "[1113]\tvalidation_0-rmse:0.33775\n",
      "[1114]\tvalidation_0-rmse:0.33773\n",
      "[1115]\tvalidation_0-rmse:0.33773\n",
      "[1116]\tvalidation_0-rmse:0.33772\n",
      "[1117]\tvalidation_0-rmse:0.33771\n",
      "[1118]\tvalidation_0-rmse:0.33769\n",
      "[1119]\tvalidation_0-rmse:0.33768\n",
      "[1120]\tvalidation_0-rmse:0.33767\n",
      "[1121]\tvalidation_0-rmse:0.33766\n",
      "[1122]\tvalidation_0-rmse:0.33765\n",
      "[1123]\tvalidation_0-rmse:0.33763\n",
      "[1124]\tvalidation_0-rmse:0.33762\n",
      "[1125]\tvalidation_0-rmse:0.33760\n",
      "[1126]\tvalidation_0-rmse:0.33760\n",
      "[1127]\tvalidation_0-rmse:0.33758\n",
      "[1128]\tvalidation_0-rmse:0.33757\n",
      "[1129]\tvalidation_0-rmse:0.33756\n",
      "[1130]\tvalidation_0-rmse:0.33754\n",
      "[1131]\tvalidation_0-rmse:0.33754\n",
      "[1132]\tvalidation_0-rmse:0.33753\n",
      "[1133]\tvalidation_0-rmse:0.33753\n",
      "[1134]\tvalidation_0-rmse:0.33753\n",
      "[1135]\tvalidation_0-rmse:0.33753\n",
      "[1136]\tvalidation_0-rmse:0.33751\n",
      "[1137]\tvalidation_0-rmse:0.33750\n",
      "[1138]\tvalidation_0-rmse:0.33747\n",
      "[1139]\tvalidation_0-rmse:0.33743\n",
      "[1140]\tvalidation_0-rmse:0.33741\n",
      "[1141]\tvalidation_0-rmse:0.33739\n",
      "[1142]\tvalidation_0-rmse:0.33737\n",
      "[1143]\tvalidation_0-rmse:0.33736\n",
      "[1144]\tvalidation_0-rmse:0.33735\n",
      "[1145]\tvalidation_0-rmse:0.33734\n",
      "[1146]\tvalidation_0-rmse:0.33733\n",
      "[1147]\tvalidation_0-rmse:0.33731\n",
      "[1148]\tvalidation_0-rmse:0.33730\n",
      "[1149]\tvalidation_0-rmse:0.33729\n",
      "[1150]\tvalidation_0-rmse:0.33727\n",
      "[1151]\tvalidation_0-rmse:0.33725\n",
      "[1152]\tvalidation_0-rmse:0.33723\n",
      "[1153]\tvalidation_0-rmse:0.33721\n",
      "[1154]\tvalidation_0-rmse:0.33719\n",
      "[1155]\tvalidation_0-rmse:0.33717\n",
      "[1156]\tvalidation_0-rmse:0.33715\n",
      "[1157]\tvalidation_0-rmse:0.33716\n",
      "[1158]\tvalidation_0-rmse:0.33714\n",
      "[1159]\tvalidation_0-rmse:0.33712\n",
      "[1160]\tvalidation_0-rmse:0.33711\n",
      "[1161]\tvalidation_0-rmse:0.33710\n",
      "[1162]\tvalidation_0-rmse:0.33709\n",
      "[1163]\tvalidation_0-rmse:0.33708\n",
      "[1164]\tvalidation_0-rmse:0.33707\n",
      "[1165]\tvalidation_0-rmse:0.33706\n",
      "[1166]\tvalidation_0-rmse:0.33705\n",
      "[1167]\tvalidation_0-rmse:0.33704\n",
      "[1168]\tvalidation_0-rmse:0.33704\n",
      "[1169]\tvalidation_0-rmse:0.33702\n",
      "[1170]\tvalidation_0-rmse:0.33700\n",
      "[1171]\tvalidation_0-rmse:0.33700\n",
      "[1172]\tvalidation_0-rmse:0.33699\n",
      "[1173]\tvalidation_0-rmse:0.33698\n",
      "[1174]\tvalidation_0-rmse:0.33696\n",
      "[1175]\tvalidation_0-rmse:0.33694\n",
      "[1176]\tvalidation_0-rmse:0.33693\n",
      "[1177]\tvalidation_0-rmse:0.33692\n",
      "[1178]\tvalidation_0-rmse:0.33690\n",
      "[1179]\tvalidation_0-rmse:0.33690\n",
      "[1180]\tvalidation_0-rmse:0.33689\n",
      "[1181]\tvalidation_0-rmse:0.33688\n",
      "[1182]\tvalidation_0-rmse:0.33687\n",
      "[1183]\tvalidation_0-rmse:0.33686\n",
      "[1184]\tvalidation_0-rmse:0.33684\n",
      "[1185]\tvalidation_0-rmse:0.33683\n",
      "[1186]\tvalidation_0-rmse:0.33682\n",
      "[1187]\tvalidation_0-rmse:0.33681\n",
      "[1188]\tvalidation_0-rmse:0.33680\n",
      "[1189]\tvalidation_0-rmse:0.33678\n",
      "[1190]\tvalidation_0-rmse:0.33677\n",
      "[1191]\tvalidation_0-rmse:0.33677\n",
      "[1192]\tvalidation_0-rmse:0.33676\n",
      "[1193]\tvalidation_0-rmse:0.33676\n",
      "[1194]\tvalidation_0-rmse:0.33673\n",
      "[1195]\tvalidation_0-rmse:0.33672\n",
      "[1196]\tvalidation_0-rmse:0.33671\n",
      "[1197]\tvalidation_0-rmse:0.33670\n",
      "[1198]\tvalidation_0-rmse:0.33668\n",
      "[1199]\tvalidation_0-rmse:0.33668\n",
      "[1200]\tvalidation_0-rmse:0.33667\n",
      "[1201]\tvalidation_0-rmse:0.33666\n",
      "[1202]\tvalidation_0-rmse:0.33665\n",
      "[1203]\tvalidation_0-rmse:0.33664\n",
      "[1204]\tvalidation_0-rmse:0.33663\n",
      "[1205]\tvalidation_0-rmse:0.33662\n",
      "[1206]\tvalidation_0-rmse:0.33660\n",
      "[1207]\tvalidation_0-rmse:0.33659\n",
      "[1208]\tvalidation_0-rmse:0.33657\n",
      "[1209]\tvalidation_0-rmse:0.33656\n",
      "[1210]\tvalidation_0-rmse:0.33655\n",
      "[1211]\tvalidation_0-rmse:0.33654\n",
      "[1212]\tvalidation_0-rmse:0.33652\n",
      "[1213]\tvalidation_0-rmse:0.33652\n",
      "[1214]\tvalidation_0-rmse:0.33650\n",
      "[1215]\tvalidation_0-rmse:0.33649\n",
      "[1216]\tvalidation_0-rmse:0.33648\n",
      "[1217]\tvalidation_0-rmse:0.33647\n",
      "[1218]\tvalidation_0-rmse:0.33646\n",
      "[1219]\tvalidation_0-rmse:0.33644\n",
      "[1220]\tvalidation_0-rmse:0.33643\n",
      "[1221]\tvalidation_0-rmse:0.33643\n",
      "[1222]\tvalidation_0-rmse:0.33642\n",
      "[1223]\tvalidation_0-rmse:0.33642\n",
      "[1224]\tvalidation_0-rmse:0.33642\n",
      "[1225]\tvalidation_0-rmse:0.33640\n",
      "[1226]\tvalidation_0-rmse:0.33640\n",
      "[1227]\tvalidation_0-rmse:0.33639\n",
      "[1228]\tvalidation_0-rmse:0.33637\n",
      "[1229]\tvalidation_0-rmse:0.33636\n",
      "[1230]\tvalidation_0-rmse:0.33635\n",
      "[1231]\tvalidation_0-rmse:0.33634\n",
      "[1232]\tvalidation_0-rmse:0.33634\n",
      "[1233]\tvalidation_0-rmse:0.33633\n",
      "[1234]\tvalidation_0-rmse:0.33632\n",
      "[1235]\tvalidation_0-rmse:0.33632\n",
      "[1236]\tvalidation_0-rmse:0.33630\n",
      "[1237]\tvalidation_0-rmse:0.33630\n",
      "[1238]\tvalidation_0-rmse:0.33630\n",
      "[1239]\tvalidation_0-rmse:0.33630\n",
      "[1240]\tvalidation_0-rmse:0.33628\n",
      "[1241]\tvalidation_0-rmse:0.33628\n",
      "[1242]\tvalidation_0-rmse:0.33626\n",
      "[1243]\tvalidation_0-rmse:0.33624\n",
      "[1244]\tvalidation_0-rmse:0.33624\n",
      "[1245]\tvalidation_0-rmse:0.33622\n",
      "[1246]\tvalidation_0-rmse:0.33621\n",
      "[1247]\tvalidation_0-rmse:0.33621\n",
      "[1248]\tvalidation_0-rmse:0.33620\n",
      "[1249]\tvalidation_0-rmse:0.33619\n",
      "[1250]\tvalidation_0-rmse:0.33618\n",
      "[1251]\tvalidation_0-rmse:0.33616\n",
      "[1252]\tvalidation_0-rmse:0.33616\n",
      "[1253]\tvalidation_0-rmse:0.33615\n",
      "[1254]\tvalidation_0-rmse:0.33613\n",
      "[1255]\tvalidation_0-rmse:0.33613\n",
      "[1256]\tvalidation_0-rmse:0.33612\n",
      "[1257]\tvalidation_0-rmse:0.33611\n",
      "[1258]\tvalidation_0-rmse:0.33610\n",
      "[1259]\tvalidation_0-rmse:0.33610\n",
      "[1260]\tvalidation_0-rmse:0.33609\n",
      "[1261]\tvalidation_0-rmse:0.33607\n",
      "[1262]\tvalidation_0-rmse:0.33605\n",
      "[1263]\tvalidation_0-rmse:0.33605\n",
      "[1264]\tvalidation_0-rmse:0.33603\n",
      "[1265]\tvalidation_0-rmse:0.33603\n",
      "[1266]\tvalidation_0-rmse:0.33603\n",
      "[1267]\tvalidation_0-rmse:0.33602\n",
      "[1268]\tvalidation_0-rmse:0.33601\n",
      "[1269]\tvalidation_0-rmse:0.33601\n",
      "[1270]\tvalidation_0-rmse:0.33600\n",
      "[1271]\tvalidation_0-rmse:0.33600\n",
      "[1272]\tvalidation_0-rmse:0.33598\n",
      "[1273]\tvalidation_0-rmse:0.33598\n",
      "[1274]\tvalidation_0-rmse:0.33597\n",
      "[1275]\tvalidation_0-rmse:0.33597\n",
      "[1276]\tvalidation_0-rmse:0.33596\n",
      "[1277]\tvalidation_0-rmse:0.33596\n",
      "[1278]\tvalidation_0-rmse:0.33595\n",
      "[1279]\tvalidation_0-rmse:0.33594\n",
      "[1280]\tvalidation_0-rmse:0.33593\n",
      "[1281]\tvalidation_0-rmse:0.33592\n",
      "[1282]\tvalidation_0-rmse:0.33590\n",
      "[1283]\tvalidation_0-rmse:0.33590\n",
      "[1284]\tvalidation_0-rmse:0.33590\n",
      "[1285]\tvalidation_0-rmse:0.33589\n",
      "[1286]\tvalidation_0-rmse:0.33589\n",
      "[1287]\tvalidation_0-rmse:0.33588\n",
      "[1288]\tvalidation_0-rmse:0.33587\n",
      "[1289]\tvalidation_0-rmse:0.33587\n",
      "[1290]\tvalidation_0-rmse:0.33586\n",
      "[1291]\tvalidation_0-rmse:0.33585\n",
      "[1292]\tvalidation_0-rmse:0.33585\n",
      "[1293]\tvalidation_0-rmse:0.33583\n",
      "[1294]\tvalidation_0-rmse:0.33582\n",
      "[1295]\tvalidation_0-rmse:0.33582\n",
      "[1296]\tvalidation_0-rmse:0.33582\n",
      "[1297]\tvalidation_0-rmse:0.33582\n",
      "[1298]\tvalidation_0-rmse:0.33580\n",
      "[1299]\tvalidation_0-rmse:0.33580\n"
     ]
    },
    {
     "name": "stderr",
     "output_type": "stream",
     "text": [
      "C:\\Users\\Thomas\\anaconda3\\envs\\bikes-count\\lib\\site-packages\\xgboost\\core.py:160: UserWarning: [12:43:55] WARNING: C:\\buildkite-agent\\builds\\buildkite-windows-cpu-autoscaling-group-i-0750514818a16474a-1\\xgboost\\xgboost-ci-windows\\src\\learner.cc:742: \n",
      "Parameters: { \"early_stopping\", \"verbose\" } are not used.\n",
      "\n",
      "  warnings.warn(smsg, UserWarning)\n"
     ]
    },
    {
     "name": "stdout",
     "output_type": "stream",
     "text": [
      "Train set RMSE: 0.25\n",
      "Test set RMSE: 0.48\n",
      "Full Parameters of the Best Regressor: {'objective': 'reg:squarederror', 'base_score': None, 'booster': None, 'callbacks': None, 'colsample_bylevel': None, 'colsample_bynode': None, 'colsample_bytree': None, 'device': None, 'early_stopping_rounds': None, 'enable_categorical': False, 'eval_metric': None, 'feature_types': None, 'gamma': None, 'grow_policy': None, 'importance_type': None, 'interaction_constraints': None, 'learning_rate': 0.02, 'max_bin': None, 'max_cat_threshold': None, 'max_cat_to_onehot': None, 'max_delta_step': None, 'max_depth': 12, 'max_leaves': None, 'min_child_weight': None, 'missing': nan, 'monotone_constraints': None, 'multi_strategy': None, 'n_estimators': 1300, 'n_jobs': None, 'num_parallel_tree': None, 'random_state': None, 'reg_alpha': None, 'reg_lambda': None, 'sampling_method': None, 'scale_pos_weight': None, 'subsample': 0.7, 'tree_method': None, 'validate_parameters': None, 'verbosity': None, 'verbose': True, 'early_stopping': True}\n"
     ]
    }
   ],
   "source": [
    "from sklearn.model_selection import GridSearchCV, train_test_split\n",
    "\n",
    "# Splitting for validation\n",
    "X_train_cv, X_val_cv, y_train_cv, y_val_cv = train_test_split(X_train_plus_chosen_FI, y_train, test_size=0.2, random_state=42)\n",
    "\n",
    "# Initialize the XGBRegressor\n",
    "Regressor = xgb.XGBRegressor(objective='reg:squarederror',\n",
    "                             verbose=True,\n",
    "                             early_stopping=True\n",
    "                            )\n",
    "\n",
    "# Define hyperparameter grid (example)\n",
    "param_grid = {\n",
    "    'n_estimators': [700, 900, 1100, 1300, 1500],\n",
    "    'learning_rate': [0.001, 0.005, 0.01, 0.02],\n",
    "    'max_depth': [9, 12, 15],\n",
    "    'subsample': [0.7, 0.8]\n",
    "}\n",
    "\n",
    "# Randomized search with cross-validation\n",
    "randomized_search = RandomizedSearchCV(Regressor, param_grid, n_iter=50, cv=2, scoring='neg_mean_squared_error', verbose = True, n_jobs=-1)\n",
    "randomized_search.fit(X_train_cv, y_train_cv, eval_set=[(X_val_cv, y_val_cv)], verbose=True)\n",
    "\n",
    "# Best estimator\n",
    "best_regressor = randomized_search.best_estimator_\n",
    "\n",
    "# Evaluate the model using your custom function\n",
    "# Assuming get_RMSE_local_wt_pipe is your evaluation function\n",
    "get_RMSE_local(best_regressor, X_train_plus_chosen_FI, y_train, X_test_plus_chosen_FI, y_test)\n",
    "\n",
    "full_params = best_regressor.get_params()\n",
    "print(\"Full Parameters of the Best Regressor:\", full_params)"
   ]
  },
  {
   "cell_type": "markdown",
   "id": "e8794f98-b3da-450d-9c1f-486dc9bc66d2",
   "metadata": {},
   "source": [
    "### LightGBM"
   ]
  },
  {
   "cell_type": "code",
   "execution_count": null,
   "id": "f391e11b-dc1b-417c-84f8-34b021a6178b",
   "metadata": {},
   "outputs": [],
   "source": [
    "X_train_plus_chosen_FI.head()"
   ]
  },
  {
   "cell_type": "code",
   "execution_count": null,
   "id": "dc563f45-7d1e-4bf2-9a90-5d108f8df5ee",
   "metadata": {},
   "outputs": [
    {
     "name": "stdout",
     "output_type": "stream",
     "text": [
      "Fitting 2 folds for each of 70 candidates, totalling 140 fits\n",
      "[LightGBM] [Warning] Found whitespace in feature_names, replace with underlines\n",
      "[LightGBM] [Info] Auto-choosing row-wise multi-threading, the overhead of testing was 0.004240 seconds.\n",
      "You can set `force_row_wise=true` to remove the overhead.\n",
      "And if memory is not enough, you can set `force_col_wise=true`.\n",
      "[LightGBM] [Info] Total Bins 1365\n",
      "[LightGBM] [Info] Number of data points in the train set: 182065, number of used features: 98\n",
      "[LightGBM] [Warning] Found whitespace in feature_names, replace with underlines\n",
      "[LightGBM] [Info] Start training from score 3.045665\n",
      "[LightGBM] [Warning] Found whitespace in feature_names, replace with underlines\n",
      "[LightGBM] [Info] Auto-choosing row-wise multi-threading, the overhead of testing was 0.003312 seconds.\n",
      "You can set `force_row_wise=true` to remove the overhead.\n",
      "And if memory is not enough, you can set `force_col_wise=true`.\n",
      "[LightGBM] [Info] Total Bins 1366\n",
      "[LightGBM] [Info] Number of data points in the train set: 182065, number of used features: 98\n",
      "[LightGBM] [Warning] Found whitespace in feature_names, replace with underlines\n",
      "[LightGBM] [Info] Start training from score 3.053007\n",
      "[LightGBM] [Warning] No further splits with positive gain, best gain: -inf\n",
      "[LightGBM] [Warning] No further splits with positive gain, best gain: -inf\n",
      "[LightGBM] [Warning] Found whitespace in feature_names, replace with underlines\n",
      "[LightGBM] [Info] Auto-choosing col-wise multi-threading, the overhead of testing was 0.005767 seconds.\n",
      "You can set `force_col_wise=true` to remove the overhead.\n",
      "[LightGBM] [Info] Total Bins 1365\n",
      "[LightGBM] [Info] Number of data points in the train set: 182065, number of used features: 98\n",
      "[LightGBM] [Warning] Found whitespace in feature_names, replace with underlines\n",
      "[LightGBM] [Info] Start training from score 3.045665\n",
      "[LightGBM] [Warning] Found whitespace in feature_names, replace with underlines\n",
      "[LightGBM] [Info] Auto-choosing row-wise multi-threading, the overhead of testing was 0.003518 seconds.\n",
      "You can set `force_row_wise=true` to remove the overhead.\n",
      "And if memory is not enough, you can set `force_col_wise=true`.\n",
      "[LightGBM] [Info] Total Bins 1366\n",
      "[LightGBM] [Info] Number of data points in the train set: 182065, number of used features: 98\n",
      "[LightGBM] [Warning] Found whitespace in feature_names, replace with underlines\n",
      "[LightGBM] [Info] Start training from score 3.053007\n",
      "[LightGBM] [Warning] Found whitespace in feature_names, replace with underlines\n",
      "[LightGBM] [Info] Auto-choosing col-wise multi-threading, the overhead of testing was 0.005547 seconds.\n",
      "You can set `force_col_wise=true` to remove the overhead.\n",
      "[LightGBM] [Info] Total Bins 1365\n",
      "[LightGBM] [Info] Number of data points in the train set: 182065, number of used features: 98\n",
      "[LightGBM] [Warning] Found whitespace in feature_names, replace with underlines\n",
      "[LightGBM] [Info] Start training from score 3.045665\n",
      "[LightGBM] [Warning] Found whitespace in feature_names, replace with underlines\n",
      "[LightGBM] [Info] Auto-choosing col-wise multi-threading, the overhead of testing was 0.004323 seconds.\n",
      "You can set `force_col_wise=true` to remove the overhead.\n",
      "[LightGBM] [Info] Total Bins 1366\n",
      "[LightGBM] [Info] Number of data points in the train set: 182065, number of used features: 98\n",
      "[LightGBM] [Warning] Found whitespace in feature_names, replace with underlines\n",
      "[LightGBM] [Info] Start training from score 3.053007\n",
      "[LightGBM] [Warning] Found whitespace in feature_names, replace with underlines\n",
      "[LightGBM] [Info] Auto-choosing col-wise multi-threading, the overhead of testing was 0.004288 seconds.\n",
      "You can set `force_col_wise=true` to remove the overhead.\n",
      "[LightGBM] [Info] Total Bins 1365\n",
      "[LightGBM] [Info] Number of data points in the train set: 182065, number of used features: 98\n",
      "[LightGBM] [Warning] Found whitespace in feature_names, replace with underlines\n",
      "[LightGBM] [Info] Start training from score 3.045665\n",
      "[LightGBM] [Warning] Found whitespace in feature_names, replace with underlines\n",
      "[LightGBM] [Info] Auto-choosing col-wise multi-threading, the overhead of testing was 0.003364 seconds.\n",
      "You can set `force_col_wise=true` to remove the overhead.\n",
      "[LightGBM] [Info] Total Bins 1366\n",
      "[LightGBM] [Info] Number of data points in the train set: 182065, number of used features: 98\n",
      "[LightGBM] [Warning] Found whitespace in feature_names, replace with underlines\n",
      "[LightGBM] [Info] Start training from score 3.053007\n",
      "[LightGBM] [Warning] Found whitespace in feature_names, replace with underlines\n",
      "[LightGBM] [Info] Auto-choosing col-wise multi-threading, the overhead of testing was 0.002935 seconds.\n",
      "You can set `force_col_wise=true` to remove the overhead.\n",
      "[LightGBM] [Info] Total Bins 1365\n",
      "[LightGBM] [Info] Number of data points in the train set: 182065, number of used features: 98\n",
      "[LightGBM] [Warning] Found whitespace in feature_names, replace with underlines\n",
      "[LightGBM] [Info] Start training from score 3.045665\n",
      "[LightGBM] [Warning] Found whitespace in feature_names, replace with underlines\n",
      "[LightGBM] [Info] Auto-choosing col-wise multi-threading, the overhead of testing was 0.004585 seconds.\n",
      "You can set `force_col_wise=true` to remove the overhead.\n",
      "[LightGBM] [Info] Total Bins 1366\n",
      "[LightGBM] [Info] Number of data points in the train set: 182065, number of used features: 98\n",
      "[LightGBM] [Warning] Found whitespace in feature_names, replace with underlines\n",
      "[LightGBM] [Info] Start training from score 3.053007\n",
      "[LightGBM] [Warning] Found whitespace in feature_names, replace with underlines\n",
      "[LightGBM] [Info] Auto-choosing col-wise multi-threading, the overhead of testing was 0.004333 seconds.\n",
      "You can set `force_col_wise=true` to remove the overhead.\n",
      "[LightGBM] [Info] Total Bins 1365\n",
      "[LightGBM] [Info] Number of data points in the train set: 182065, number of used features: 98\n",
      "[LightGBM] [Warning] Found whitespace in feature_names, replace with underlines\n",
      "[LightGBM] [Info] Start training from score 3.045665\n",
      "[LightGBM] [Warning] Found whitespace in feature_names, replace with underlines\n",
      "[LightGBM] [Info] Auto-choosing col-wise multi-threading, the overhead of testing was 0.004329 seconds.\n",
      "You can set `force_col_wise=true` to remove the overhead.\n",
      "[LightGBM] [Info] Total Bins 1366\n",
      "[LightGBM] [Info] Number of data points in the train set: 182065, number of used features: 98\n",
      "[LightGBM] [Warning] Found whitespace in feature_names, replace with underlines\n",
      "[LightGBM] [Info] Start training from score 3.053007\n",
      "[LightGBM] [Warning] Found whitespace in feature_names, replace with underlines\n",
      "[LightGBM] [Info] Auto-choosing row-wise multi-threading, the overhead of testing was 0.003221 seconds.\n",
      "You can set `force_row_wise=true` to remove the overhead.\n",
      "And if memory is not enough, you can set `force_col_wise=true`.\n",
      "[LightGBM] [Info] Total Bins 1365\n",
      "[LightGBM] [Info] Number of data points in the train set: 182065, number of used features: 98\n",
      "[LightGBM] [Warning] Found whitespace in feature_names, replace with underlines\n",
      "[LightGBM] [Info] Start training from score 3.045665\n"
     ]
    }
   ],
   "source": [
    "from sklearn.model_selection import RandomizedSearchCV, train_test_split\n",
    "from lightgbm import LGBMRegressor\n",
    "import numpy as np\n",
    "\n",
    "# Define your X_train_plus_chosen_FI, y_train, X_test_plus_chosen_FI, y_test here\n",
    "\n",
    "# Splitting for validation\n",
    "X_train_cv, X_val_cv, y_train_cv, y_val_cv = train_test_split(X_train_plus_chosen_FI, y_train, test_size=0.2, random_state=42)\n",
    "\n",
    "# Initialize the LightGBM Regressor\n",
    "Regressor = LGBMRegressor()\n",
    "\n",
    "# Define hyperparameter grid\n",
    "param_grid = {\n",
    "    'colsample_bytree': np.linspace(0.6, 0.8, 2),\n",
    "    'learning_rate': [0.001, 0.005, 0.01, 0.03, 0.05],\n",
    "    'max_depth': [9, 10, 11, 12, 13],\n",
    "    'n_estimators': [1500, 1800, 1900, 2000, 2100, 2200],\n",
    "    'num_leaves': np.arange(90, 110, 3),\n",
    "    'subsample': np.linspace(0.45, 0.8, 2)\n",
    "}\n",
    "\n",
    "# Randomized search with cross-validation\n",
    "randomized_search = RandomizedSearchCV(Regressor, param_grid, n_iter=70, cv=2, scoring='neg_mean_squared_error', verbose=True)\n",
    "randomized_search.fit(X_train_cv, y_train_cv, eval_set=[(X_val_cv, y_val_cv)])\n",
    "\n",
    "# Best estimator\n",
    "best_regressor = randomized_search.best_estimator_\n",
    "\n",
    "# Assuming get_RMSE_local is your evaluation function\n",
    "# get_RMSE_local(best_regressor, X_train_plus_chosen_FI, y_train, X_test_plus_chosen_FI, y_test)\n",
    "\n",
    "# Get full parameters of the best regressor\n",
    "full_params = best_regressor.get_params()\n",
    "print(\"Full Parameters of the Best Regressor:\", full_params)\n"
   ]
  },
  {
   "cell_type": "code",
   "execution_count": 34,
   "id": "e86f0dfa-6cd7-4f16-a4c7-a26e7996a53e",
   "metadata": {},
   "outputs": [
    {
     "data": {
      "text/plain": [
       "{'boosting_type': 'gbdt',\n",
       " 'class_weight': None,\n",
       " 'colsample_bytree': 0.6,\n",
       " 'importance_type': 'split',\n",
       " 'learning_rate': 0.05,\n",
       " 'max_depth': 11,\n",
       " 'min_child_samples': 20,\n",
       " 'min_child_weight': 0.001,\n",
       " 'min_split_gain': 0.0,\n",
       " 'n_estimators': 1800,\n",
       " 'n_jobs': None,\n",
       " 'num_leaves': 96,\n",
       " 'objective': None,\n",
       " 'random_state': None,\n",
       " 'reg_alpha': 0.0,\n",
       " 'reg_lambda': 0.0,\n",
       " 'subsample': 0.45,\n",
       " 'subsample_for_bin': 200000,\n",
       " 'subsample_freq': 0}"
      ]
     },
     "execution_count": 34,
     "metadata": {},
     "output_type": "execute_result"
    }
   ],
   "source": [
    "best_regressor.get_params()"
   ]
  },
  {
   "cell_type": "markdown",
   "id": "f40ec456-d408-4d86-8a36-00bd2d0a2acf",
   "metadata": {},
   "source": [
    "### Feature selection"
   ]
  },
  {
   "cell_type": "code",
   "execution_count": 37,
   "id": "c7a51646-1adf-4437-937d-43353bd14bdd",
   "metadata": {},
   "outputs": [],
   "source": [
    "all_combination_done = []"
   ]
  },
  {
   "cell_type": "code",
   "execution_count": 38,
   "id": "a5f0b30a-b8d2-4c01-ab1c-851536d4b285",
   "metadata": {},
   "outputs": [],
   "source": [
    "def feature_selection(combinations_alr_done):\n",
    "\n",
    "    # Initialize the scaler\n",
    "    scaler = StandardScaler()\n",
    "    best_RMSE_test = 10\n",
    "    best_features_sub = []\n",
    "\n",
    "    fixed_features = ['date', \"counter_name\", \"site_id\", 't', 'u', 'rr3']\n",
    "    \n",
    "    chosen_fixed_features = [ 'ff', # the wind speed\n",
    "                              'u', # the humidity\n",
    "                              'n', # the amount of cloud cover\n",
    "                              'vv', # the visibility\n",
    "                              'rr3', # the precipitation amount over 3 hours\n",
    "                              't', # the temperature\n",
    "                              'is_holiday', # is holidays\n",
    "                               'is_weekend', # is week end\n",
    "                              'is_lockdown', # Lockdown for COVID\n",
    "                              'is_curfew', # Curfew for COVID\n",
    "                              'hosp', # Number of patients currently hospitalised for COVID-19\n",
    "                              'rea', # Number of patients currently in intensive care.\n",
    "                              'incid_rea', # Number of new patients admitted to intensive care in the last 24 hours.\n",
    "                               'rad', # Cumulative number of patients hospitalised for COVID-19 who have returned home due to an improvement in their state of health\n",
    "                              'Max_Grav_accidents', # The maximum severity of all cyclists accidents at a given hour\n",
    "                              'Count_accidents' # the number of accidents at a given hour in Paris\n",
    "                            ]\n",
    "    \n",
    "    chosen_fixed_features = [ 'is_holiday', # is holidays\n",
    "                              'is_weekend', # is week end\n",
    "                              'is_lockdown', # Lockdown for COVID\n",
    "                              'is_curfew', # Curfew for COVID\n",
    "                              'Max_Grav_accidents', # The maximum severity of all cyclists accidents at a given hour\n",
    "                              'hosp', # Number of patients currently hospitalised for COVID-19\n",
    "                              'rea', # Number of patients currently in intensive care.\n",
    "                              'incid_rea', # Number of new patients admitted to intensive care in the last 24 hours.\n",
    "                              'rad', # Cumulative number of patients hospitalised for COVID-19 who have returned home due to an improvement in their state of health\n",
    "                              'Count_accidents' # the number of accidents at a given hour in Paris\n",
    "\n",
    "                            ]\n",
    "    \n",
    "    all_combinations = [list(combo) for r in range(1, len(chosen_fixed_features) + 1) for combo in combinations(chosen_fixed_features, r)]\n",
    "    combinations_to_test = [item for item in all_combinations if item not in combinations_alr_done]\n",
    "    \n",
    "    print(f\"{len(combinations_to_test)} combinations of features to test\")\n",
    "    print(f\"List of all the combinations to test : {combinations_to_test}\")\n",
    "        \n",
    "    for i in range(len(combinations_to_test)):\n",
    "\n",
    "        # -------------------------------------------------- #\n",
    "        # Selection the features of our training and test set\n",
    "        # -------------------------------------------------- #\n",
    "        combination_feature = combinations_to_test[i] \n",
    "        chosen_variables = fixed_features + combination_feature\n",
    "    \n",
    "        X_train_plus_chosen = X_train_plus[chosen_variables]\n",
    "        X_test_plus_chosen = X_test_plus[chosen_variables]\n",
    "        X_final_test_plus_chosen = X_final_test_plus[chosen_variables]\n",
    "        \n",
    "        # --------------------------------------- #\n",
    "        # Preprocessing according to our features\n",
    "        # --------------------------------------- #\n",
    "        X_train_plus_chosen_FI = _encode_dates(X_train_plus_chosen)\n",
    "        #X_train_plus_chosen_FI = pd.get_dummies(X_train_plus_chosen_FI, columns=['site_name'])\n",
    "        X_train_plus_chosen_FI = pd.get_dummies(X_train_plus_chosen_FI, columns=['counter_name'])\n",
    "        X_train_plus_chosen_FI = pd.get_dummies(X_train_plus_chosen_FI, columns=['site_id'])\n",
    "        \n",
    "        X_test_plus_chosen_FI = _encode_dates(X_test_plus_chosen)\n",
    "        #X_test_plus_chosen_FI = pd.get_dummies(X_test_plus_chosen_FI, columns=['site_name'])\n",
    "        X_test_plus_chosen_FI = pd.get_dummies(X_test_plus_chosen_FI, columns=['counter_name'])\n",
    "        X_test_plus_chosen_FI = pd.get_dummies(X_test_plus_chosen_FI, columns=['site_id'])\n",
    "        \n",
    "        X_final_test_plus_chosen_FI = _encode_dates(X_final_test_plus_chosen)\n",
    "        #X_final_test_plus_chosen_FI = pd.get_dummies(X_final_test_plus_chosen_FI, columns=['site_name'])\n",
    "        X_final_test_plus_chosen_FI = pd.get_dummies(X_final_test_plus_chosen_FI, columns=['counter_name'])\n",
    "        X_final_test_plus_chosen_FI = pd.get_dummies(X_final_test_plus_chosen_FI, columns=['site_id'])\n",
    "            \n",
    "        # ------- #\n",
    "        # TRAINING\n",
    "        # ------- #\n",
    "        Regressor = xgb.XGBRegressor(objectives = 'reg:squarederror',\n",
    "         verbose = True)\n",
    "\n",
    "        # ------- #\n",
    "        # TESTING\n",
    "        # ------- #\n",
    "\n",
    "        RMSE_train, RMSE_test = get_RMSE_local(Regressor, X_train_plus_chosen_FI, y_train, X_test_plus_chosen_FI, y_test)\n",
    "        print(f\"Tested on combination {combination_feature}\")\n",
    "        \n",
    "        if RMSE_test < best_RMSE_test:\n",
    "            best_RMSE_test = RMSE_test\n",
    "            best_features_sub = combination_feature\n",
    "            print(f\"best_RMSE_test updated: {best_RMSE_test:.2f}\")\n",
    "            print(f\"best_features_sub updated: {best_features_sub}\")\n",
    "\n",
    "    print(f\"best_RMSE_test: {best_RMSE_test:.2f}\")\n",
    "    print(f\"best_features_sub: {best_features_sub}\")\n",
    "\n",
    "    return best_RMSE_test, best_features_sub, all_combinations"
   ]
  },
  {
   "cell_type": "code",
   "execution_count": 39,
   "id": "fb2e260c-f06c-4e6c-bb2c-f27b0d16c286",
   "metadata": {},
   "outputs": [
    {
     "name": "stdout",
     "output_type": "stream",
     "text": [
      "1023 combinations of features to test\n",
      "List of all the combinations to test : [['is_holiday'], ['is_weekend'], ['is_lockdown'], ['is_curfew'], ['Max_Grav_accidents'], ['hosp'], ['rea'], ['incid_rea'], ['rad'], ['Count_accidents'], ['is_holiday', 'is_weekend'], ['is_holiday', 'is_lockdown'], ['is_holiday', 'is_curfew'], ['is_holiday', 'Max_Grav_accidents'], ['is_holiday', 'hosp'], ['is_holiday', 'rea'], ['is_holiday', 'incid_rea'], ['is_holiday', 'rad'], ['is_holiday', 'Count_accidents'], ['is_weekend', 'is_lockdown'], ['is_weekend', 'is_curfew'], ['is_weekend', 'Max_Grav_accidents'], ['is_weekend', 'hosp'], ['is_weekend', 'rea'], ['is_weekend', 'incid_rea'], ['is_weekend', 'rad'], ['is_weekend', 'Count_accidents'], ['is_lockdown', 'is_curfew'], ['is_lockdown', 'Max_Grav_accidents'], ['is_lockdown', 'hosp'], ['is_lockdown', 'rea'], ['is_lockdown', 'incid_rea'], ['is_lockdown', 'rad'], ['is_lockdown', 'Count_accidents'], ['is_curfew', 'Max_Grav_accidents'], ['is_curfew', 'hosp'], ['is_curfew', 'rea'], ['is_curfew', 'incid_rea'], ['is_curfew', 'rad'], ['is_curfew', 'Count_accidents'], ['Max_Grav_accidents', 'hosp'], ['Max_Grav_accidents', 'rea'], ['Max_Grav_accidents', 'incid_rea'], ['Max_Grav_accidents', 'rad'], ['Max_Grav_accidents', 'Count_accidents'], ['hosp', 'rea'], ['hosp', 'incid_rea'], ['hosp', 'rad'], ['hosp', 'Count_accidents'], ['rea', 'incid_rea'], ['rea', 'rad'], ['rea', 'Count_accidents'], ['incid_rea', 'rad'], ['incid_rea', 'Count_accidents'], ['rad', 'Count_accidents'], ['is_holiday', 'is_weekend', 'is_lockdown'], ['is_holiday', 'is_weekend', 'is_curfew'], ['is_holiday', 'is_weekend', 'Max_Grav_accidents'], ['is_holiday', 'is_weekend', 'hosp'], ['is_holiday', 'is_weekend', 'rea'], ['is_holiday', 'is_weekend', 'incid_rea'], ['is_holiday', 'is_weekend', 'rad'], ['is_holiday', 'is_weekend', 'Count_accidents'], ['is_holiday', 'is_lockdown', 'is_curfew'], ['is_holiday', 'is_lockdown', 'Max_Grav_accidents'], ['is_holiday', 'is_lockdown', 'hosp'], ['is_holiday', 'is_lockdown', 'rea'], ['is_holiday', 'is_lockdown', 'incid_rea'], ['is_holiday', 'is_lockdown', 'rad'], ['is_holiday', 'is_lockdown', 'Count_accidents'], ['is_holiday', 'is_curfew', 'Max_Grav_accidents'], ['is_holiday', 'is_curfew', 'hosp'], ['is_holiday', 'is_curfew', 'rea'], ['is_holiday', 'is_curfew', 'incid_rea'], ['is_holiday', 'is_curfew', 'rad'], ['is_holiday', 'is_curfew', 'Count_accidents'], ['is_holiday', 'Max_Grav_accidents', 'hosp'], ['is_holiday', 'Max_Grav_accidents', 'rea'], ['is_holiday', 'Max_Grav_accidents', 'incid_rea'], ['is_holiday', 'Max_Grav_accidents', 'rad'], ['is_holiday', 'Max_Grav_accidents', 'Count_accidents'], ['is_holiday', 'hosp', 'rea'], ['is_holiday', 'hosp', 'incid_rea'], ['is_holiday', 'hosp', 'rad'], ['is_holiday', 'hosp', 'Count_accidents'], ['is_holiday', 'rea', 'incid_rea'], ['is_holiday', 'rea', 'rad'], ['is_holiday', 'rea', 'Count_accidents'], ['is_holiday', 'incid_rea', 'rad'], ['is_holiday', 'incid_rea', 'Count_accidents'], ['is_holiday', 'rad', 'Count_accidents'], ['is_weekend', 'is_lockdown', 'is_curfew'], ['is_weekend', 'is_lockdown', 'Max_Grav_accidents'], ['is_weekend', 'is_lockdown', 'hosp'], ['is_weekend', 'is_lockdown', 'rea'], ['is_weekend', 'is_lockdown', 'incid_rea'], ['is_weekend', 'is_lockdown', 'rad'], ['is_weekend', 'is_lockdown', 'Count_accidents'], ['is_weekend', 'is_curfew', 'Max_Grav_accidents'], ['is_weekend', 'is_curfew', 'hosp'], ['is_weekend', 'is_curfew', 'rea'], ['is_weekend', 'is_curfew', 'incid_rea'], ['is_weekend', 'is_curfew', 'rad'], ['is_weekend', 'is_curfew', 'Count_accidents'], ['is_weekend', 'Max_Grav_accidents', 'hosp'], ['is_weekend', 'Max_Grav_accidents', 'rea'], ['is_weekend', 'Max_Grav_accidents', 'incid_rea'], ['is_weekend', 'Max_Grav_accidents', 'rad'], ['is_weekend', 'Max_Grav_accidents', 'Count_accidents'], ['is_weekend', 'hosp', 'rea'], ['is_weekend', 'hosp', 'incid_rea'], ['is_weekend', 'hosp', 'rad'], ['is_weekend', 'hosp', 'Count_accidents'], ['is_weekend', 'rea', 'incid_rea'], ['is_weekend', 'rea', 'rad'], ['is_weekend', 'rea', 'Count_accidents'], ['is_weekend', 'incid_rea', 'rad'], ['is_weekend', 'incid_rea', 'Count_accidents'], ['is_weekend', 'rad', 'Count_accidents'], ['is_lockdown', 'is_curfew', 'Max_Grav_accidents'], ['is_lockdown', 'is_curfew', 'hosp'], ['is_lockdown', 'is_curfew', 'rea'], ['is_lockdown', 'is_curfew', 'incid_rea'], ['is_lockdown', 'is_curfew', 'rad'], ['is_lockdown', 'is_curfew', 'Count_accidents'], ['is_lockdown', 'Max_Grav_accidents', 'hosp'], ['is_lockdown', 'Max_Grav_accidents', 'rea'], ['is_lockdown', 'Max_Grav_accidents', 'incid_rea'], ['is_lockdown', 'Max_Grav_accidents', 'rad'], ['is_lockdown', 'Max_Grav_accidents', 'Count_accidents'], ['is_lockdown', 'hosp', 'rea'], ['is_lockdown', 'hosp', 'incid_rea'], ['is_lockdown', 'hosp', 'rad'], ['is_lockdown', 'hosp', 'Count_accidents'], ['is_lockdown', 'rea', 'incid_rea'], ['is_lockdown', 'rea', 'rad'], ['is_lockdown', 'rea', 'Count_accidents'], ['is_lockdown', 'incid_rea', 'rad'], ['is_lockdown', 'incid_rea', 'Count_accidents'], ['is_lockdown', 'rad', 'Count_accidents'], ['is_curfew', 'Max_Grav_accidents', 'hosp'], ['is_curfew', 'Max_Grav_accidents', 'rea'], ['is_curfew', 'Max_Grav_accidents', 'incid_rea'], ['is_curfew', 'Max_Grav_accidents', 'rad'], ['is_curfew', 'Max_Grav_accidents', 'Count_accidents'], ['is_curfew', 'hosp', 'rea'], ['is_curfew', 'hosp', 'incid_rea'], ['is_curfew', 'hosp', 'rad'], ['is_curfew', 'hosp', 'Count_accidents'], ['is_curfew', 'rea', 'incid_rea'], ['is_curfew', 'rea', 'rad'], ['is_curfew', 'rea', 'Count_accidents'], ['is_curfew', 'incid_rea', 'rad'], ['is_curfew', 'incid_rea', 'Count_accidents'], ['is_curfew', 'rad', 'Count_accidents'], ['Max_Grav_accidents', 'hosp', 'rea'], ['Max_Grav_accidents', 'hosp', 'incid_rea'], ['Max_Grav_accidents', 'hosp', 'rad'], ['Max_Grav_accidents', 'hosp', 'Count_accidents'], ['Max_Grav_accidents', 'rea', 'incid_rea'], ['Max_Grav_accidents', 'rea', 'rad'], ['Max_Grav_accidents', 'rea', 'Count_accidents'], ['Max_Grav_accidents', 'incid_rea', 'rad'], ['Max_Grav_accidents', 'incid_rea', 'Count_accidents'], ['Max_Grav_accidents', 'rad', 'Count_accidents'], ['hosp', 'rea', 'incid_rea'], ['hosp', 'rea', 'rad'], ['hosp', 'rea', 'Count_accidents'], ['hosp', 'incid_rea', 'rad'], ['hosp', 'incid_rea', 'Count_accidents'], ['hosp', 'rad', 'Count_accidents'], ['rea', 'incid_rea', 'rad'], ['rea', 'incid_rea', 'Count_accidents'], ['rea', 'rad', 'Count_accidents'], ['incid_rea', 'rad', 'Count_accidents'], ['is_holiday', 'is_weekend', 'is_lockdown', 'is_curfew'], ['is_holiday', 'is_weekend', 'is_lockdown', 'Max_Grav_accidents'], ['is_holiday', 'is_weekend', 'is_lockdown', 'hosp'], ['is_holiday', 'is_weekend', 'is_lockdown', 'rea'], ['is_holiday', 'is_weekend', 'is_lockdown', 'incid_rea'], ['is_holiday', 'is_weekend', 'is_lockdown', 'rad'], ['is_holiday', 'is_weekend', 'is_lockdown', 'Count_accidents'], ['is_holiday', 'is_weekend', 'is_curfew', 'Max_Grav_accidents'], ['is_holiday', 'is_weekend', 'is_curfew', 'hosp'], ['is_holiday', 'is_weekend', 'is_curfew', 'rea'], ['is_holiday', 'is_weekend', 'is_curfew', 'incid_rea'], ['is_holiday', 'is_weekend', 'is_curfew', 'rad'], ['is_holiday', 'is_weekend', 'is_curfew', 'Count_accidents'], ['is_holiday', 'is_weekend', 'Max_Grav_accidents', 'hosp'], ['is_holiday', 'is_weekend', 'Max_Grav_accidents', 'rea'], ['is_holiday', 'is_weekend', 'Max_Grav_accidents', 'incid_rea'], ['is_holiday', 'is_weekend', 'Max_Grav_accidents', 'rad'], ['is_holiday', 'is_weekend', 'Max_Grav_accidents', 'Count_accidents'], ['is_holiday', 'is_weekend', 'hosp', 'rea'], ['is_holiday', 'is_weekend', 'hosp', 'incid_rea'], ['is_holiday', 'is_weekend', 'hosp', 'rad'], ['is_holiday', 'is_weekend', 'hosp', 'Count_accidents'], ['is_holiday', 'is_weekend', 'rea', 'incid_rea'], ['is_holiday', 'is_weekend', 'rea', 'rad'], ['is_holiday', 'is_weekend', 'rea', 'Count_accidents'], ['is_holiday', 'is_weekend', 'incid_rea', 'rad'], ['is_holiday', 'is_weekend', 'incid_rea', 'Count_accidents'], ['is_holiday', 'is_weekend', 'rad', 'Count_accidents'], ['is_holiday', 'is_lockdown', 'is_curfew', 'Max_Grav_accidents'], ['is_holiday', 'is_lockdown', 'is_curfew', 'hosp'], ['is_holiday', 'is_lockdown', 'is_curfew', 'rea'], ['is_holiday', 'is_lockdown', 'is_curfew', 'incid_rea'], ['is_holiday', 'is_lockdown', 'is_curfew', 'rad'], ['is_holiday', 'is_lockdown', 'is_curfew', 'Count_accidents'], ['is_holiday', 'is_lockdown', 'Max_Grav_accidents', 'hosp'], ['is_holiday', 'is_lockdown', 'Max_Grav_accidents', 'rea'], ['is_holiday', 'is_lockdown', 'Max_Grav_accidents', 'incid_rea'], ['is_holiday', 'is_lockdown', 'Max_Grav_accidents', 'rad'], ['is_holiday', 'is_lockdown', 'Max_Grav_accidents', 'Count_accidents'], ['is_holiday', 'is_lockdown', 'hosp', 'rea'], ['is_holiday', 'is_lockdown', 'hosp', 'incid_rea'], ['is_holiday', 'is_lockdown', 'hosp', 'rad'], ['is_holiday', 'is_lockdown', 'hosp', 'Count_accidents'], ['is_holiday', 'is_lockdown', 'rea', 'incid_rea'], ['is_holiday', 'is_lockdown', 'rea', 'rad'], ['is_holiday', 'is_lockdown', 'rea', 'Count_accidents'], ['is_holiday', 'is_lockdown', 'incid_rea', 'rad'], ['is_holiday', 'is_lockdown', 'incid_rea', 'Count_accidents'], ['is_holiday', 'is_lockdown', 'rad', 'Count_accidents'], ['is_holiday', 'is_curfew', 'Max_Grav_accidents', 'hosp'], ['is_holiday', 'is_curfew', 'Max_Grav_accidents', 'rea'], ['is_holiday', 'is_curfew', 'Max_Grav_accidents', 'incid_rea'], ['is_holiday', 'is_curfew', 'Max_Grav_accidents', 'rad'], ['is_holiday', 'is_curfew', 'Max_Grav_accidents', 'Count_accidents'], ['is_holiday', 'is_curfew', 'hosp', 'rea'], ['is_holiday', 'is_curfew', 'hosp', 'incid_rea'], ['is_holiday', 'is_curfew', 'hosp', 'rad'], ['is_holiday', 'is_curfew', 'hosp', 'Count_accidents'], ['is_holiday', 'is_curfew', 'rea', 'incid_rea'], ['is_holiday', 'is_curfew', 'rea', 'rad'], ['is_holiday', 'is_curfew', 'rea', 'Count_accidents'], ['is_holiday', 'is_curfew', 'incid_rea', 'rad'], ['is_holiday', 'is_curfew', 'incid_rea', 'Count_accidents'], ['is_holiday', 'is_curfew', 'rad', 'Count_accidents'], ['is_holiday', 'Max_Grav_accidents', 'hosp', 'rea'], ['is_holiday', 'Max_Grav_accidents', 'hosp', 'incid_rea'], ['is_holiday', 'Max_Grav_accidents', 'hosp', 'rad'], ['is_holiday', 'Max_Grav_accidents', 'hosp', 'Count_accidents'], ['is_holiday', 'Max_Grav_accidents', 'rea', 'incid_rea'], ['is_holiday', 'Max_Grav_accidents', 'rea', 'rad'], ['is_holiday', 'Max_Grav_accidents', 'rea', 'Count_accidents'], ['is_holiday', 'Max_Grav_accidents', 'incid_rea', 'rad'], ['is_holiday', 'Max_Grav_accidents', 'incid_rea', 'Count_accidents'], ['is_holiday', 'Max_Grav_accidents', 'rad', 'Count_accidents'], ['is_holiday', 'hosp', 'rea', 'incid_rea'], ['is_holiday', 'hosp', 'rea', 'rad'], ['is_holiday', 'hosp', 'rea', 'Count_accidents'], ['is_holiday', 'hosp', 'incid_rea', 'rad'], ['is_holiday', 'hosp', 'incid_rea', 'Count_accidents'], ['is_holiday', 'hosp', 'rad', 'Count_accidents'], ['is_holiday', 'rea', 'incid_rea', 'rad'], ['is_holiday', 'rea', 'incid_rea', 'Count_accidents'], ['is_holiday', 'rea', 'rad', 'Count_accidents'], ['is_holiday', 'incid_rea', 'rad', 'Count_accidents'], ['is_weekend', 'is_lockdown', 'is_curfew', 'Max_Grav_accidents'], ['is_weekend', 'is_lockdown', 'is_curfew', 'hosp'], ['is_weekend', 'is_lockdown', 'is_curfew', 'rea'], ['is_weekend', 'is_lockdown', 'is_curfew', 'incid_rea'], ['is_weekend', 'is_lockdown', 'is_curfew', 'rad'], ['is_weekend', 'is_lockdown', 'is_curfew', 'Count_accidents'], ['is_weekend', 'is_lockdown', 'Max_Grav_accidents', 'hosp'], ['is_weekend', 'is_lockdown', 'Max_Grav_accidents', 'rea'], ['is_weekend', 'is_lockdown', 'Max_Grav_accidents', 'incid_rea'], ['is_weekend', 'is_lockdown', 'Max_Grav_accidents', 'rad'], ['is_weekend', 'is_lockdown', 'Max_Grav_accidents', 'Count_accidents'], ['is_weekend', 'is_lockdown', 'hosp', 'rea'], ['is_weekend', 'is_lockdown', 'hosp', 'incid_rea'], ['is_weekend', 'is_lockdown', 'hosp', 'rad'], ['is_weekend', 'is_lockdown', 'hosp', 'Count_accidents'], ['is_weekend', 'is_lockdown', 'rea', 'incid_rea'], ['is_weekend', 'is_lockdown', 'rea', 'rad'], ['is_weekend', 'is_lockdown', 'rea', 'Count_accidents'], ['is_weekend', 'is_lockdown', 'incid_rea', 'rad'], ['is_weekend', 'is_lockdown', 'incid_rea', 'Count_accidents'], ['is_weekend', 'is_lockdown', 'rad', 'Count_accidents'], ['is_weekend', 'is_curfew', 'Max_Grav_accidents', 'hosp'], ['is_weekend', 'is_curfew', 'Max_Grav_accidents', 'rea'], ['is_weekend', 'is_curfew', 'Max_Grav_accidents', 'incid_rea'], ['is_weekend', 'is_curfew', 'Max_Grav_accidents', 'rad'], ['is_weekend', 'is_curfew', 'Max_Grav_accidents', 'Count_accidents'], ['is_weekend', 'is_curfew', 'hosp', 'rea'], ['is_weekend', 'is_curfew', 'hosp', 'incid_rea'], ['is_weekend', 'is_curfew', 'hosp', 'rad'], ['is_weekend', 'is_curfew', 'hosp', 'Count_accidents'], ['is_weekend', 'is_curfew', 'rea', 'incid_rea'], ['is_weekend', 'is_curfew', 'rea', 'rad'], ['is_weekend', 'is_curfew', 'rea', 'Count_accidents'], ['is_weekend', 'is_curfew', 'incid_rea', 'rad'], ['is_weekend', 'is_curfew', 'incid_rea', 'Count_accidents'], ['is_weekend', 'is_curfew', 'rad', 'Count_accidents'], ['is_weekend', 'Max_Grav_accidents', 'hosp', 'rea'], ['is_weekend', 'Max_Grav_accidents', 'hosp', 'incid_rea'], ['is_weekend', 'Max_Grav_accidents', 'hosp', 'rad'], ['is_weekend', 'Max_Grav_accidents', 'hosp', 'Count_accidents'], ['is_weekend', 'Max_Grav_accidents', 'rea', 'incid_rea'], ['is_weekend', 'Max_Grav_accidents', 'rea', 'rad'], ['is_weekend', 'Max_Grav_accidents', 'rea', 'Count_accidents'], ['is_weekend', 'Max_Grav_accidents', 'incid_rea', 'rad'], ['is_weekend', 'Max_Grav_accidents', 'incid_rea', 'Count_accidents'], ['is_weekend', 'Max_Grav_accidents', 'rad', 'Count_accidents'], ['is_weekend', 'hosp', 'rea', 'incid_rea'], ['is_weekend', 'hosp', 'rea', 'rad'], ['is_weekend', 'hosp', 'rea', 'Count_accidents'], ['is_weekend', 'hosp', 'incid_rea', 'rad'], ['is_weekend', 'hosp', 'incid_rea', 'Count_accidents'], ['is_weekend', 'hosp', 'rad', 'Count_accidents'], ['is_weekend', 'rea', 'incid_rea', 'rad'], ['is_weekend', 'rea', 'incid_rea', 'Count_accidents'], ['is_weekend', 'rea', 'rad', 'Count_accidents'], ['is_weekend', 'incid_rea', 'rad', 'Count_accidents'], ['is_lockdown', 'is_curfew', 'Max_Grav_accidents', 'hosp'], ['is_lockdown', 'is_curfew', 'Max_Grav_accidents', 'rea'], ['is_lockdown', 'is_curfew', 'Max_Grav_accidents', 'incid_rea'], ['is_lockdown', 'is_curfew', 'Max_Grav_accidents', 'rad'], ['is_lockdown', 'is_curfew', 'Max_Grav_accidents', 'Count_accidents'], ['is_lockdown', 'is_curfew', 'hosp', 'rea'], ['is_lockdown', 'is_curfew', 'hosp', 'incid_rea'], ['is_lockdown', 'is_curfew', 'hosp', 'rad'], ['is_lockdown', 'is_curfew', 'hosp', 'Count_accidents'], ['is_lockdown', 'is_curfew', 'rea', 'incid_rea'], ['is_lockdown', 'is_curfew', 'rea', 'rad'], ['is_lockdown', 'is_curfew', 'rea', 'Count_accidents'], ['is_lockdown', 'is_curfew', 'incid_rea', 'rad'], ['is_lockdown', 'is_curfew', 'incid_rea', 'Count_accidents'], ['is_lockdown', 'is_curfew', 'rad', 'Count_accidents'], ['is_lockdown', 'Max_Grav_accidents', 'hosp', 'rea'], ['is_lockdown', 'Max_Grav_accidents', 'hosp', 'incid_rea'], ['is_lockdown', 'Max_Grav_accidents', 'hosp', 'rad'], ['is_lockdown', 'Max_Grav_accidents', 'hosp', 'Count_accidents'], ['is_lockdown', 'Max_Grav_accidents', 'rea', 'incid_rea'], ['is_lockdown', 'Max_Grav_accidents', 'rea', 'rad'], ['is_lockdown', 'Max_Grav_accidents', 'rea', 'Count_accidents'], ['is_lockdown', 'Max_Grav_accidents', 'incid_rea', 'rad'], ['is_lockdown', 'Max_Grav_accidents', 'incid_rea', 'Count_accidents'], ['is_lockdown', 'Max_Grav_accidents', 'rad', 'Count_accidents'], ['is_lockdown', 'hosp', 'rea', 'incid_rea'], ['is_lockdown', 'hosp', 'rea', 'rad'], ['is_lockdown', 'hosp', 'rea', 'Count_accidents'], ['is_lockdown', 'hosp', 'incid_rea', 'rad'], ['is_lockdown', 'hosp', 'incid_rea', 'Count_accidents'], ['is_lockdown', 'hosp', 'rad', 'Count_accidents'], ['is_lockdown', 'rea', 'incid_rea', 'rad'], ['is_lockdown', 'rea', 'incid_rea', 'Count_accidents'], ['is_lockdown', 'rea', 'rad', 'Count_accidents'], ['is_lockdown', 'incid_rea', 'rad', 'Count_accidents'], ['is_curfew', 'Max_Grav_accidents', 'hosp', 'rea'], ['is_curfew', 'Max_Grav_accidents', 'hosp', 'incid_rea'], ['is_curfew', 'Max_Grav_accidents', 'hosp', 'rad'], ['is_curfew', 'Max_Grav_accidents', 'hosp', 'Count_accidents'], ['is_curfew', 'Max_Grav_accidents', 'rea', 'incid_rea'], ['is_curfew', 'Max_Grav_accidents', 'rea', 'rad'], ['is_curfew', 'Max_Grav_accidents', 'rea', 'Count_accidents'], ['is_curfew', 'Max_Grav_accidents', 'incid_rea', 'rad'], ['is_curfew', 'Max_Grav_accidents', 'incid_rea', 'Count_accidents'], ['is_curfew', 'Max_Grav_accidents', 'rad', 'Count_accidents'], ['is_curfew', 'hosp', 'rea', 'incid_rea'], ['is_curfew', 'hosp', 'rea', 'rad'], ['is_curfew', 'hosp', 'rea', 'Count_accidents'], ['is_curfew', 'hosp', 'incid_rea', 'rad'], ['is_curfew', 'hosp', 'incid_rea', 'Count_accidents'], ['is_curfew', 'hosp', 'rad', 'Count_accidents'], ['is_curfew', 'rea', 'incid_rea', 'rad'], ['is_curfew', 'rea', 'incid_rea', 'Count_accidents'], ['is_curfew', 'rea', 'rad', 'Count_accidents'], ['is_curfew', 'incid_rea', 'rad', 'Count_accidents'], ['Max_Grav_accidents', 'hosp', 'rea', 'incid_rea'], ['Max_Grav_accidents', 'hosp', 'rea', 'rad'], ['Max_Grav_accidents', 'hosp', 'rea', 'Count_accidents'], ['Max_Grav_accidents', 'hosp', 'incid_rea', 'rad'], ['Max_Grav_accidents', 'hosp', 'incid_rea', 'Count_accidents'], ['Max_Grav_accidents', 'hosp', 'rad', 'Count_accidents'], ['Max_Grav_accidents', 'rea', 'incid_rea', 'rad'], ['Max_Grav_accidents', 'rea', 'incid_rea', 'Count_accidents'], ['Max_Grav_accidents', 'rea', 'rad', 'Count_accidents'], ['Max_Grav_accidents', 'incid_rea', 'rad', 'Count_accidents'], ['hosp', 'rea', 'incid_rea', 'rad'], ['hosp', 'rea', 'incid_rea', 'Count_accidents'], ['hosp', 'rea', 'rad', 'Count_accidents'], ['hosp', 'incid_rea', 'rad', 'Count_accidents'], ['rea', 'incid_rea', 'rad', 'Count_accidents'], ['is_holiday', 'is_weekend', 'is_lockdown', 'is_curfew', 'Max_Grav_accidents'], ['is_holiday', 'is_weekend', 'is_lockdown', 'is_curfew', 'hosp'], ['is_holiday', 'is_weekend', 'is_lockdown', 'is_curfew', 'rea'], ['is_holiday', 'is_weekend', 'is_lockdown', 'is_curfew', 'incid_rea'], ['is_holiday', 'is_weekend', 'is_lockdown', 'is_curfew', 'rad'], ['is_holiday', 'is_weekend', 'is_lockdown', 'is_curfew', 'Count_accidents'], ['is_holiday', 'is_weekend', 'is_lockdown', 'Max_Grav_accidents', 'hosp'], ['is_holiday', 'is_weekend', 'is_lockdown', 'Max_Grav_accidents', 'rea'], ['is_holiday', 'is_weekend', 'is_lockdown', 'Max_Grav_accidents', 'incid_rea'], ['is_holiday', 'is_weekend', 'is_lockdown', 'Max_Grav_accidents', 'rad'], ['is_holiday', 'is_weekend', 'is_lockdown', 'Max_Grav_accidents', 'Count_accidents'], ['is_holiday', 'is_weekend', 'is_lockdown', 'hosp', 'rea'], ['is_holiday', 'is_weekend', 'is_lockdown', 'hosp', 'incid_rea'], ['is_holiday', 'is_weekend', 'is_lockdown', 'hosp', 'rad'], ['is_holiday', 'is_weekend', 'is_lockdown', 'hosp', 'Count_accidents'], ['is_holiday', 'is_weekend', 'is_lockdown', 'rea', 'incid_rea'], ['is_holiday', 'is_weekend', 'is_lockdown', 'rea', 'rad'], ['is_holiday', 'is_weekend', 'is_lockdown', 'rea', 'Count_accidents'], ['is_holiday', 'is_weekend', 'is_lockdown', 'incid_rea', 'rad'], ['is_holiday', 'is_weekend', 'is_lockdown', 'incid_rea', 'Count_accidents'], ['is_holiday', 'is_weekend', 'is_lockdown', 'rad', 'Count_accidents'], ['is_holiday', 'is_weekend', 'is_curfew', 'Max_Grav_accidents', 'hosp'], ['is_holiday', 'is_weekend', 'is_curfew', 'Max_Grav_accidents', 'rea'], ['is_holiday', 'is_weekend', 'is_curfew', 'Max_Grav_accidents', 'incid_rea'], ['is_holiday', 'is_weekend', 'is_curfew', 'Max_Grav_accidents', 'rad'], ['is_holiday', 'is_weekend', 'is_curfew', 'Max_Grav_accidents', 'Count_accidents'], ['is_holiday', 'is_weekend', 'is_curfew', 'hosp', 'rea'], ['is_holiday', 'is_weekend', 'is_curfew', 'hosp', 'incid_rea'], ['is_holiday', 'is_weekend', 'is_curfew', 'hosp', 'rad'], ['is_holiday', 'is_weekend', 'is_curfew', 'hosp', 'Count_accidents'], ['is_holiday', 'is_weekend', 'is_curfew', 'rea', 'incid_rea'], ['is_holiday', 'is_weekend', 'is_curfew', 'rea', 'rad'], ['is_holiday', 'is_weekend', 'is_curfew', 'rea', 'Count_accidents'], ['is_holiday', 'is_weekend', 'is_curfew', 'incid_rea', 'rad'], ['is_holiday', 'is_weekend', 'is_curfew', 'incid_rea', 'Count_accidents'], ['is_holiday', 'is_weekend', 'is_curfew', 'rad', 'Count_accidents'], ['is_holiday', 'is_weekend', 'Max_Grav_accidents', 'hosp', 'rea'], ['is_holiday', 'is_weekend', 'Max_Grav_accidents', 'hosp', 'incid_rea'], ['is_holiday', 'is_weekend', 'Max_Grav_accidents', 'hosp', 'rad'], ['is_holiday', 'is_weekend', 'Max_Grav_accidents', 'hosp', 'Count_accidents'], ['is_holiday', 'is_weekend', 'Max_Grav_accidents', 'rea', 'incid_rea'], ['is_holiday', 'is_weekend', 'Max_Grav_accidents', 'rea', 'rad'], ['is_holiday', 'is_weekend', 'Max_Grav_accidents', 'rea', 'Count_accidents'], ['is_holiday', 'is_weekend', 'Max_Grav_accidents', 'incid_rea', 'rad'], ['is_holiday', 'is_weekend', 'Max_Grav_accidents', 'incid_rea', 'Count_accidents'], ['is_holiday', 'is_weekend', 'Max_Grav_accidents', 'rad', 'Count_accidents'], ['is_holiday', 'is_weekend', 'hosp', 'rea', 'incid_rea'], ['is_holiday', 'is_weekend', 'hosp', 'rea', 'rad'], ['is_holiday', 'is_weekend', 'hosp', 'rea', 'Count_accidents'], ['is_holiday', 'is_weekend', 'hosp', 'incid_rea', 'rad'], ['is_holiday', 'is_weekend', 'hosp', 'incid_rea', 'Count_accidents'], ['is_holiday', 'is_weekend', 'hosp', 'rad', 'Count_accidents'], ['is_holiday', 'is_weekend', 'rea', 'incid_rea', 'rad'], ['is_holiday', 'is_weekend', 'rea', 'incid_rea', 'Count_accidents'], ['is_holiday', 'is_weekend', 'rea', 'rad', 'Count_accidents'], ['is_holiday', 'is_weekend', 'incid_rea', 'rad', 'Count_accidents'], ['is_holiday', 'is_lockdown', 'is_curfew', 'Max_Grav_accidents', 'hosp'], ['is_holiday', 'is_lockdown', 'is_curfew', 'Max_Grav_accidents', 'rea'], ['is_holiday', 'is_lockdown', 'is_curfew', 'Max_Grav_accidents', 'incid_rea'], ['is_holiday', 'is_lockdown', 'is_curfew', 'Max_Grav_accidents', 'rad'], ['is_holiday', 'is_lockdown', 'is_curfew', 'Max_Grav_accidents', 'Count_accidents'], ['is_holiday', 'is_lockdown', 'is_curfew', 'hosp', 'rea'], ['is_holiday', 'is_lockdown', 'is_curfew', 'hosp', 'incid_rea'], ['is_holiday', 'is_lockdown', 'is_curfew', 'hosp', 'rad'], ['is_holiday', 'is_lockdown', 'is_curfew', 'hosp', 'Count_accidents'], ['is_holiday', 'is_lockdown', 'is_curfew', 'rea', 'incid_rea'], ['is_holiday', 'is_lockdown', 'is_curfew', 'rea', 'rad'], ['is_holiday', 'is_lockdown', 'is_curfew', 'rea', 'Count_accidents'], ['is_holiday', 'is_lockdown', 'is_curfew', 'incid_rea', 'rad'], ['is_holiday', 'is_lockdown', 'is_curfew', 'incid_rea', 'Count_accidents'], ['is_holiday', 'is_lockdown', 'is_curfew', 'rad', 'Count_accidents'], ['is_holiday', 'is_lockdown', 'Max_Grav_accidents', 'hosp', 'rea'], ['is_holiday', 'is_lockdown', 'Max_Grav_accidents', 'hosp', 'incid_rea'], ['is_holiday', 'is_lockdown', 'Max_Grav_accidents', 'hosp', 'rad'], ['is_holiday', 'is_lockdown', 'Max_Grav_accidents', 'hosp', 'Count_accidents'], ['is_holiday', 'is_lockdown', 'Max_Grav_accidents', 'rea', 'incid_rea'], ['is_holiday', 'is_lockdown', 'Max_Grav_accidents', 'rea', 'rad'], ['is_holiday', 'is_lockdown', 'Max_Grav_accidents', 'rea', 'Count_accidents'], ['is_holiday', 'is_lockdown', 'Max_Grav_accidents', 'incid_rea', 'rad'], ['is_holiday', 'is_lockdown', 'Max_Grav_accidents', 'incid_rea', 'Count_accidents'], ['is_holiday', 'is_lockdown', 'Max_Grav_accidents', 'rad', 'Count_accidents'], ['is_holiday', 'is_lockdown', 'hosp', 'rea', 'incid_rea'], ['is_holiday', 'is_lockdown', 'hosp', 'rea', 'rad'], ['is_holiday', 'is_lockdown', 'hosp', 'rea', 'Count_accidents'], ['is_holiday', 'is_lockdown', 'hosp', 'incid_rea', 'rad'], ['is_holiday', 'is_lockdown', 'hosp', 'incid_rea', 'Count_accidents'], ['is_holiday', 'is_lockdown', 'hosp', 'rad', 'Count_accidents'], ['is_holiday', 'is_lockdown', 'rea', 'incid_rea', 'rad'], ['is_holiday', 'is_lockdown', 'rea', 'incid_rea', 'Count_accidents'], ['is_holiday', 'is_lockdown', 'rea', 'rad', 'Count_accidents'], ['is_holiday', 'is_lockdown', 'incid_rea', 'rad', 'Count_accidents'], ['is_holiday', 'is_curfew', 'Max_Grav_accidents', 'hosp', 'rea'], ['is_holiday', 'is_curfew', 'Max_Grav_accidents', 'hosp', 'incid_rea'], ['is_holiday', 'is_curfew', 'Max_Grav_accidents', 'hosp', 'rad'], ['is_holiday', 'is_curfew', 'Max_Grav_accidents', 'hosp', 'Count_accidents'], ['is_holiday', 'is_curfew', 'Max_Grav_accidents', 'rea', 'incid_rea'], ['is_holiday', 'is_curfew', 'Max_Grav_accidents', 'rea', 'rad'], ['is_holiday', 'is_curfew', 'Max_Grav_accidents', 'rea', 'Count_accidents'], ['is_holiday', 'is_curfew', 'Max_Grav_accidents', 'incid_rea', 'rad'], ['is_holiday', 'is_curfew', 'Max_Grav_accidents', 'incid_rea', 'Count_accidents'], ['is_holiday', 'is_curfew', 'Max_Grav_accidents', 'rad', 'Count_accidents'], ['is_holiday', 'is_curfew', 'hosp', 'rea', 'incid_rea'], ['is_holiday', 'is_curfew', 'hosp', 'rea', 'rad'], ['is_holiday', 'is_curfew', 'hosp', 'rea', 'Count_accidents'], ['is_holiday', 'is_curfew', 'hosp', 'incid_rea', 'rad'], ['is_holiday', 'is_curfew', 'hosp', 'incid_rea', 'Count_accidents'], ['is_holiday', 'is_curfew', 'hosp', 'rad', 'Count_accidents'], ['is_holiday', 'is_curfew', 'rea', 'incid_rea', 'rad'], ['is_holiday', 'is_curfew', 'rea', 'incid_rea', 'Count_accidents'], ['is_holiday', 'is_curfew', 'rea', 'rad', 'Count_accidents'], ['is_holiday', 'is_curfew', 'incid_rea', 'rad', 'Count_accidents'], ['is_holiday', 'Max_Grav_accidents', 'hosp', 'rea', 'incid_rea'], ['is_holiday', 'Max_Grav_accidents', 'hosp', 'rea', 'rad'], ['is_holiday', 'Max_Grav_accidents', 'hosp', 'rea', 'Count_accidents'], ['is_holiday', 'Max_Grav_accidents', 'hosp', 'incid_rea', 'rad'], ['is_holiday', 'Max_Grav_accidents', 'hosp', 'incid_rea', 'Count_accidents'], ['is_holiday', 'Max_Grav_accidents', 'hosp', 'rad', 'Count_accidents'], ['is_holiday', 'Max_Grav_accidents', 'rea', 'incid_rea', 'rad'], ['is_holiday', 'Max_Grav_accidents', 'rea', 'incid_rea', 'Count_accidents'], ['is_holiday', 'Max_Grav_accidents', 'rea', 'rad', 'Count_accidents'], ['is_holiday', 'Max_Grav_accidents', 'incid_rea', 'rad', 'Count_accidents'], ['is_holiday', 'hosp', 'rea', 'incid_rea', 'rad'], ['is_holiday', 'hosp', 'rea', 'incid_rea', 'Count_accidents'], ['is_holiday', 'hosp', 'rea', 'rad', 'Count_accidents'], ['is_holiday', 'hosp', 'incid_rea', 'rad', 'Count_accidents'], ['is_holiday', 'rea', 'incid_rea', 'rad', 'Count_accidents'], ['is_weekend', 'is_lockdown', 'is_curfew', 'Max_Grav_accidents', 'hosp'], ['is_weekend', 'is_lockdown', 'is_curfew', 'Max_Grav_accidents', 'rea'], ['is_weekend', 'is_lockdown', 'is_curfew', 'Max_Grav_accidents', 'incid_rea'], ['is_weekend', 'is_lockdown', 'is_curfew', 'Max_Grav_accidents', 'rad'], ['is_weekend', 'is_lockdown', 'is_curfew', 'Max_Grav_accidents', 'Count_accidents'], ['is_weekend', 'is_lockdown', 'is_curfew', 'hosp', 'rea'], ['is_weekend', 'is_lockdown', 'is_curfew', 'hosp', 'incid_rea'], ['is_weekend', 'is_lockdown', 'is_curfew', 'hosp', 'rad'], ['is_weekend', 'is_lockdown', 'is_curfew', 'hosp', 'Count_accidents'], ['is_weekend', 'is_lockdown', 'is_curfew', 'rea', 'incid_rea'], ['is_weekend', 'is_lockdown', 'is_curfew', 'rea', 'rad'], ['is_weekend', 'is_lockdown', 'is_curfew', 'rea', 'Count_accidents'], ['is_weekend', 'is_lockdown', 'is_curfew', 'incid_rea', 'rad'], ['is_weekend', 'is_lockdown', 'is_curfew', 'incid_rea', 'Count_accidents'], ['is_weekend', 'is_lockdown', 'is_curfew', 'rad', 'Count_accidents'], ['is_weekend', 'is_lockdown', 'Max_Grav_accidents', 'hosp', 'rea'], ['is_weekend', 'is_lockdown', 'Max_Grav_accidents', 'hosp', 'incid_rea'], ['is_weekend', 'is_lockdown', 'Max_Grav_accidents', 'hosp', 'rad'], ['is_weekend', 'is_lockdown', 'Max_Grav_accidents', 'hosp', 'Count_accidents'], ['is_weekend', 'is_lockdown', 'Max_Grav_accidents', 'rea', 'incid_rea'], ['is_weekend', 'is_lockdown', 'Max_Grav_accidents', 'rea', 'rad'], ['is_weekend', 'is_lockdown', 'Max_Grav_accidents', 'rea', 'Count_accidents'], ['is_weekend', 'is_lockdown', 'Max_Grav_accidents', 'incid_rea', 'rad'], ['is_weekend', 'is_lockdown', 'Max_Grav_accidents', 'incid_rea', 'Count_accidents'], ['is_weekend', 'is_lockdown', 'Max_Grav_accidents', 'rad', 'Count_accidents'], ['is_weekend', 'is_lockdown', 'hosp', 'rea', 'incid_rea'], ['is_weekend', 'is_lockdown', 'hosp', 'rea', 'rad'], ['is_weekend', 'is_lockdown', 'hosp', 'rea', 'Count_accidents'], ['is_weekend', 'is_lockdown', 'hosp', 'incid_rea', 'rad'], ['is_weekend', 'is_lockdown', 'hosp', 'incid_rea', 'Count_accidents'], ['is_weekend', 'is_lockdown', 'hosp', 'rad', 'Count_accidents'], ['is_weekend', 'is_lockdown', 'rea', 'incid_rea', 'rad'], ['is_weekend', 'is_lockdown', 'rea', 'incid_rea', 'Count_accidents'], ['is_weekend', 'is_lockdown', 'rea', 'rad', 'Count_accidents'], ['is_weekend', 'is_lockdown', 'incid_rea', 'rad', 'Count_accidents'], ['is_weekend', 'is_curfew', 'Max_Grav_accidents', 'hosp', 'rea'], ['is_weekend', 'is_curfew', 'Max_Grav_accidents', 'hosp', 'incid_rea'], ['is_weekend', 'is_curfew', 'Max_Grav_accidents', 'hosp', 'rad'], ['is_weekend', 'is_curfew', 'Max_Grav_accidents', 'hosp', 'Count_accidents'], ['is_weekend', 'is_curfew', 'Max_Grav_accidents', 'rea', 'incid_rea'], ['is_weekend', 'is_curfew', 'Max_Grav_accidents', 'rea', 'rad'], ['is_weekend', 'is_curfew', 'Max_Grav_accidents', 'rea', 'Count_accidents'], ['is_weekend', 'is_curfew', 'Max_Grav_accidents', 'incid_rea', 'rad'], ['is_weekend', 'is_curfew', 'Max_Grav_accidents', 'incid_rea', 'Count_accidents'], ['is_weekend', 'is_curfew', 'Max_Grav_accidents', 'rad', 'Count_accidents'], ['is_weekend', 'is_curfew', 'hosp', 'rea', 'incid_rea'], ['is_weekend', 'is_curfew', 'hosp', 'rea', 'rad'], ['is_weekend', 'is_curfew', 'hosp', 'rea', 'Count_accidents'], ['is_weekend', 'is_curfew', 'hosp', 'incid_rea', 'rad'], ['is_weekend', 'is_curfew', 'hosp', 'incid_rea', 'Count_accidents'], ['is_weekend', 'is_curfew', 'hosp', 'rad', 'Count_accidents'], ['is_weekend', 'is_curfew', 'rea', 'incid_rea', 'rad'], ['is_weekend', 'is_curfew', 'rea', 'incid_rea', 'Count_accidents'], ['is_weekend', 'is_curfew', 'rea', 'rad', 'Count_accidents'], ['is_weekend', 'is_curfew', 'incid_rea', 'rad', 'Count_accidents'], ['is_weekend', 'Max_Grav_accidents', 'hosp', 'rea', 'incid_rea'], ['is_weekend', 'Max_Grav_accidents', 'hosp', 'rea', 'rad'], ['is_weekend', 'Max_Grav_accidents', 'hosp', 'rea', 'Count_accidents'], ['is_weekend', 'Max_Grav_accidents', 'hosp', 'incid_rea', 'rad'], ['is_weekend', 'Max_Grav_accidents', 'hosp', 'incid_rea', 'Count_accidents'], ['is_weekend', 'Max_Grav_accidents', 'hosp', 'rad', 'Count_accidents'], ['is_weekend', 'Max_Grav_accidents', 'rea', 'incid_rea', 'rad'], ['is_weekend', 'Max_Grav_accidents', 'rea', 'incid_rea', 'Count_accidents'], ['is_weekend', 'Max_Grav_accidents', 'rea', 'rad', 'Count_accidents'], ['is_weekend', 'Max_Grav_accidents', 'incid_rea', 'rad', 'Count_accidents'], ['is_weekend', 'hosp', 'rea', 'incid_rea', 'rad'], ['is_weekend', 'hosp', 'rea', 'incid_rea', 'Count_accidents'], ['is_weekend', 'hosp', 'rea', 'rad', 'Count_accidents'], ['is_weekend', 'hosp', 'incid_rea', 'rad', 'Count_accidents'], ['is_weekend', 'rea', 'incid_rea', 'rad', 'Count_accidents'], ['is_lockdown', 'is_curfew', 'Max_Grav_accidents', 'hosp', 'rea'], ['is_lockdown', 'is_curfew', 'Max_Grav_accidents', 'hosp', 'incid_rea'], ['is_lockdown', 'is_curfew', 'Max_Grav_accidents', 'hosp', 'rad'], ['is_lockdown', 'is_curfew', 'Max_Grav_accidents', 'hosp', 'Count_accidents'], ['is_lockdown', 'is_curfew', 'Max_Grav_accidents', 'rea', 'incid_rea'], ['is_lockdown', 'is_curfew', 'Max_Grav_accidents', 'rea', 'rad'], ['is_lockdown', 'is_curfew', 'Max_Grav_accidents', 'rea', 'Count_accidents'], ['is_lockdown', 'is_curfew', 'Max_Grav_accidents', 'incid_rea', 'rad'], ['is_lockdown', 'is_curfew', 'Max_Grav_accidents', 'incid_rea', 'Count_accidents'], ['is_lockdown', 'is_curfew', 'Max_Grav_accidents', 'rad', 'Count_accidents'], ['is_lockdown', 'is_curfew', 'hosp', 'rea', 'incid_rea'], ['is_lockdown', 'is_curfew', 'hosp', 'rea', 'rad'], ['is_lockdown', 'is_curfew', 'hosp', 'rea', 'Count_accidents'], ['is_lockdown', 'is_curfew', 'hosp', 'incid_rea', 'rad'], ['is_lockdown', 'is_curfew', 'hosp', 'incid_rea', 'Count_accidents'], ['is_lockdown', 'is_curfew', 'hosp', 'rad', 'Count_accidents'], ['is_lockdown', 'is_curfew', 'rea', 'incid_rea', 'rad'], ['is_lockdown', 'is_curfew', 'rea', 'incid_rea', 'Count_accidents'], ['is_lockdown', 'is_curfew', 'rea', 'rad', 'Count_accidents'], ['is_lockdown', 'is_curfew', 'incid_rea', 'rad', 'Count_accidents'], ['is_lockdown', 'Max_Grav_accidents', 'hosp', 'rea', 'incid_rea'], ['is_lockdown', 'Max_Grav_accidents', 'hosp', 'rea', 'rad'], ['is_lockdown', 'Max_Grav_accidents', 'hosp', 'rea', 'Count_accidents'], ['is_lockdown', 'Max_Grav_accidents', 'hosp', 'incid_rea', 'rad'], ['is_lockdown', 'Max_Grav_accidents', 'hosp', 'incid_rea', 'Count_accidents'], ['is_lockdown', 'Max_Grav_accidents', 'hosp', 'rad', 'Count_accidents'], ['is_lockdown', 'Max_Grav_accidents', 'rea', 'incid_rea', 'rad'], ['is_lockdown', 'Max_Grav_accidents', 'rea', 'incid_rea', 'Count_accidents'], ['is_lockdown', 'Max_Grav_accidents', 'rea', 'rad', 'Count_accidents'], ['is_lockdown', 'Max_Grav_accidents', 'incid_rea', 'rad', 'Count_accidents'], ['is_lockdown', 'hosp', 'rea', 'incid_rea', 'rad'], ['is_lockdown', 'hosp', 'rea', 'incid_rea', 'Count_accidents'], ['is_lockdown', 'hosp', 'rea', 'rad', 'Count_accidents'], ['is_lockdown', 'hosp', 'incid_rea', 'rad', 'Count_accidents'], ['is_lockdown', 'rea', 'incid_rea', 'rad', 'Count_accidents'], ['is_curfew', 'Max_Grav_accidents', 'hosp', 'rea', 'incid_rea'], ['is_curfew', 'Max_Grav_accidents', 'hosp', 'rea', 'rad'], ['is_curfew', 'Max_Grav_accidents', 'hosp', 'rea', 'Count_accidents'], ['is_curfew', 'Max_Grav_accidents', 'hosp', 'incid_rea', 'rad'], ['is_curfew', 'Max_Grav_accidents', 'hosp', 'incid_rea', 'Count_accidents'], ['is_curfew', 'Max_Grav_accidents', 'hosp', 'rad', 'Count_accidents'], ['is_curfew', 'Max_Grav_accidents', 'rea', 'incid_rea', 'rad'], ['is_curfew', 'Max_Grav_accidents', 'rea', 'incid_rea', 'Count_accidents'], ['is_curfew', 'Max_Grav_accidents', 'rea', 'rad', 'Count_accidents'], ['is_curfew', 'Max_Grav_accidents', 'incid_rea', 'rad', 'Count_accidents'], ['is_curfew', 'hosp', 'rea', 'incid_rea', 'rad'], ['is_curfew', 'hosp', 'rea', 'incid_rea', 'Count_accidents'], ['is_curfew', 'hosp', 'rea', 'rad', 'Count_accidents'], ['is_curfew', 'hosp', 'incid_rea', 'rad', 'Count_accidents'], ['is_curfew', 'rea', 'incid_rea', 'rad', 'Count_accidents'], ['Max_Grav_accidents', 'hosp', 'rea', 'incid_rea', 'rad'], ['Max_Grav_accidents', 'hosp', 'rea', 'incid_rea', 'Count_accidents'], ['Max_Grav_accidents', 'hosp', 'rea', 'rad', 'Count_accidents'], ['Max_Grav_accidents', 'hosp', 'incid_rea', 'rad', 'Count_accidents'], ['Max_Grav_accidents', 'rea', 'incid_rea', 'rad', 'Count_accidents'], ['hosp', 'rea', 'incid_rea', 'rad', 'Count_accidents'], ['is_holiday', 'is_weekend', 'is_lockdown', 'is_curfew', 'Max_Grav_accidents', 'hosp'], ['is_holiday', 'is_weekend', 'is_lockdown', 'is_curfew', 'Max_Grav_accidents', 'rea'], ['is_holiday', 'is_weekend', 'is_lockdown', 'is_curfew', 'Max_Grav_accidents', 'incid_rea'], ['is_holiday', 'is_weekend', 'is_lockdown', 'is_curfew', 'Max_Grav_accidents', 'rad'], ['is_holiday', 'is_weekend', 'is_lockdown', 'is_curfew', 'Max_Grav_accidents', 'Count_accidents'], ['is_holiday', 'is_weekend', 'is_lockdown', 'is_curfew', 'hosp', 'rea'], ['is_holiday', 'is_weekend', 'is_lockdown', 'is_curfew', 'hosp', 'incid_rea'], ['is_holiday', 'is_weekend', 'is_lockdown', 'is_curfew', 'hosp', 'rad'], ['is_holiday', 'is_weekend', 'is_lockdown', 'is_curfew', 'hosp', 'Count_accidents'], ['is_holiday', 'is_weekend', 'is_lockdown', 'is_curfew', 'rea', 'incid_rea'], ['is_holiday', 'is_weekend', 'is_lockdown', 'is_curfew', 'rea', 'rad'], ['is_holiday', 'is_weekend', 'is_lockdown', 'is_curfew', 'rea', 'Count_accidents'], ['is_holiday', 'is_weekend', 'is_lockdown', 'is_curfew', 'incid_rea', 'rad'], ['is_holiday', 'is_weekend', 'is_lockdown', 'is_curfew', 'incid_rea', 'Count_accidents'], ['is_holiday', 'is_weekend', 'is_lockdown', 'is_curfew', 'rad', 'Count_accidents'], ['is_holiday', 'is_weekend', 'is_lockdown', 'Max_Grav_accidents', 'hosp', 'rea'], ['is_holiday', 'is_weekend', 'is_lockdown', 'Max_Grav_accidents', 'hosp', 'incid_rea'], ['is_holiday', 'is_weekend', 'is_lockdown', 'Max_Grav_accidents', 'hosp', 'rad'], ['is_holiday', 'is_weekend', 'is_lockdown', 'Max_Grav_accidents', 'hosp', 'Count_accidents'], ['is_holiday', 'is_weekend', 'is_lockdown', 'Max_Grav_accidents', 'rea', 'incid_rea'], ['is_holiday', 'is_weekend', 'is_lockdown', 'Max_Grav_accidents', 'rea', 'rad'], ['is_holiday', 'is_weekend', 'is_lockdown', 'Max_Grav_accidents', 'rea', 'Count_accidents'], ['is_holiday', 'is_weekend', 'is_lockdown', 'Max_Grav_accidents', 'incid_rea', 'rad'], ['is_holiday', 'is_weekend', 'is_lockdown', 'Max_Grav_accidents', 'incid_rea', 'Count_accidents'], ['is_holiday', 'is_weekend', 'is_lockdown', 'Max_Grav_accidents', 'rad', 'Count_accidents'], ['is_holiday', 'is_weekend', 'is_lockdown', 'hosp', 'rea', 'incid_rea'], ['is_holiday', 'is_weekend', 'is_lockdown', 'hosp', 'rea', 'rad'], ['is_holiday', 'is_weekend', 'is_lockdown', 'hosp', 'rea', 'Count_accidents'], ['is_holiday', 'is_weekend', 'is_lockdown', 'hosp', 'incid_rea', 'rad'], ['is_holiday', 'is_weekend', 'is_lockdown', 'hosp', 'incid_rea', 'Count_accidents'], ['is_holiday', 'is_weekend', 'is_lockdown', 'hosp', 'rad', 'Count_accidents'], ['is_holiday', 'is_weekend', 'is_lockdown', 'rea', 'incid_rea', 'rad'], ['is_holiday', 'is_weekend', 'is_lockdown', 'rea', 'incid_rea', 'Count_accidents'], ['is_holiday', 'is_weekend', 'is_lockdown', 'rea', 'rad', 'Count_accidents'], ['is_holiday', 'is_weekend', 'is_lockdown', 'incid_rea', 'rad', 'Count_accidents'], ['is_holiday', 'is_weekend', 'is_curfew', 'Max_Grav_accidents', 'hosp', 'rea'], ['is_holiday', 'is_weekend', 'is_curfew', 'Max_Grav_accidents', 'hosp', 'incid_rea'], ['is_holiday', 'is_weekend', 'is_curfew', 'Max_Grav_accidents', 'hosp', 'rad'], ['is_holiday', 'is_weekend', 'is_curfew', 'Max_Grav_accidents', 'hosp', 'Count_accidents'], ['is_holiday', 'is_weekend', 'is_curfew', 'Max_Grav_accidents', 'rea', 'incid_rea'], ['is_holiday', 'is_weekend', 'is_curfew', 'Max_Grav_accidents', 'rea', 'rad'], ['is_holiday', 'is_weekend', 'is_curfew', 'Max_Grav_accidents', 'rea', 'Count_accidents'], ['is_holiday', 'is_weekend', 'is_curfew', 'Max_Grav_accidents', 'incid_rea', 'rad'], ['is_holiday', 'is_weekend', 'is_curfew', 'Max_Grav_accidents', 'incid_rea', 'Count_accidents'], ['is_holiday', 'is_weekend', 'is_curfew', 'Max_Grav_accidents', 'rad', 'Count_accidents'], ['is_holiday', 'is_weekend', 'is_curfew', 'hosp', 'rea', 'incid_rea'], ['is_holiday', 'is_weekend', 'is_curfew', 'hosp', 'rea', 'rad'], ['is_holiday', 'is_weekend', 'is_curfew', 'hosp', 'rea', 'Count_accidents'], ['is_holiday', 'is_weekend', 'is_curfew', 'hosp', 'incid_rea', 'rad'], ['is_holiday', 'is_weekend', 'is_curfew', 'hosp', 'incid_rea', 'Count_accidents'], ['is_holiday', 'is_weekend', 'is_curfew', 'hosp', 'rad', 'Count_accidents'], ['is_holiday', 'is_weekend', 'is_curfew', 'rea', 'incid_rea', 'rad'], ['is_holiday', 'is_weekend', 'is_curfew', 'rea', 'incid_rea', 'Count_accidents'], ['is_holiday', 'is_weekend', 'is_curfew', 'rea', 'rad', 'Count_accidents'], ['is_holiday', 'is_weekend', 'is_curfew', 'incid_rea', 'rad', 'Count_accidents'], ['is_holiday', 'is_weekend', 'Max_Grav_accidents', 'hosp', 'rea', 'incid_rea'], ['is_holiday', 'is_weekend', 'Max_Grav_accidents', 'hosp', 'rea', 'rad'], ['is_holiday', 'is_weekend', 'Max_Grav_accidents', 'hosp', 'rea', 'Count_accidents'], ['is_holiday', 'is_weekend', 'Max_Grav_accidents', 'hosp', 'incid_rea', 'rad'], ['is_holiday', 'is_weekend', 'Max_Grav_accidents', 'hosp', 'incid_rea', 'Count_accidents'], ['is_holiday', 'is_weekend', 'Max_Grav_accidents', 'hosp', 'rad', 'Count_accidents'], ['is_holiday', 'is_weekend', 'Max_Grav_accidents', 'rea', 'incid_rea', 'rad'], ['is_holiday', 'is_weekend', 'Max_Grav_accidents', 'rea', 'incid_rea', 'Count_accidents'], ['is_holiday', 'is_weekend', 'Max_Grav_accidents', 'rea', 'rad', 'Count_accidents'], ['is_holiday', 'is_weekend', 'Max_Grav_accidents', 'incid_rea', 'rad', 'Count_accidents'], ['is_holiday', 'is_weekend', 'hosp', 'rea', 'incid_rea', 'rad'], ['is_holiday', 'is_weekend', 'hosp', 'rea', 'incid_rea', 'Count_accidents'], ['is_holiday', 'is_weekend', 'hosp', 'rea', 'rad', 'Count_accidents'], ['is_holiday', 'is_weekend', 'hosp', 'incid_rea', 'rad', 'Count_accidents'], ['is_holiday', 'is_weekend', 'rea', 'incid_rea', 'rad', 'Count_accidents'], ['is_holiday', 'is_lockdown', 'is_curfew', 'Max_Grav_accidents', 'hosp', 'rea'], ['is_holiday', 'is_lockdown', 'is_curfew', 'Max_Grav_accidents', 'hosp', 'incid_rea'], ['is_holiday', 'is_lockdown', 'is_curfew', 'Max_Grav_accidents', 'hosp', 'rad'], ['is_holiday', 'is_lockdown', 'is_curfew', 'Max_Grav_accidents', 'hosp', 'Count_accidents'], ['is_holiday', 'is_lockdown', 'is_curfew', 'Max_Grav_accidents', 'rea', 'incid_rea'], ['is_holiday', 'is_lockdown', 'is_curfew', 'Max_Grav_accidents', 'rea', 'rad'], ['is_holiday', 'is_lockdown', 'is_curfew', 'Max_Grav_accidents', 'rea', 'Count_accidents'], ['is_holiday', 'is_lockdown', 'is_curfew', 'Max_Grav_accidents', 'incid_rea', 'rad'], ['is_holiday', 'is_lockdown', 'is_curfew', 'Max_Grav_accidents', 'incid_rea', 'Count_accidents'], ['is_holiday', 'is_lockdown', 'is_curfew', 'Max_Grav_accidents', 'rad', 'Count_accidents'], ['is_holiday', 'is_lockdown', 'is_curfew', 'hosp', 'rea', 'incid_rea'], ['is_holiday', 'is_lockdown', 'is_curfew', 'hosp', 'rea', 'rad'], ['is_holiday', 'is_lockdown', 'is_curfew', 'hosp', 'rea', 'Count_accidents'], ['is_holiday', 'is_lockdown', 'is_curfew', 'hosp', 'incid_rea', 'rad'], ['is_holiday', 'is_lockdown', 'is_curfew', 'hosp', 'incid_rea', 'Count_accidents'], ['is_holiday', 'is_lockdown', 'is_curfew', 'hosp', 'rad', 'Count_accidents'], ['is_holiday', 'is_lockdown', 'is_curfew', 'rea', 'incid_rea', 'rad'], ['is_holiday', 'is_lockdown', 'is_curfew', 'rea', 'incid_rea', 'Count_accidents'], ['is_holiday', 'is_lockdown', 'is_curfew', 'rea', 'rad', 'Count_accidents'], ['is_holiday', 'is_lockdown', 'is_curfew', 'incid_rea', 'rad', 'Count_accidents'], ['is_holiday', 'is_lockdown', 'Max_Grav_accidents', 'hosp', 'rea', 'incid_rea'], ['is_holiday', 'is_lockdown', 'Max_Grav_accidents', 'hosp', 'rea', 'rad'], ['is_holiday', 'is_lockdown', 'Max_Grav_accidents', 'hosp', 'rea', 'Count_accidents'], ['is_holiday', 'is_lockdown', 'Max_Grav_accidents', 'hosp', 'incid_rea', 'rad'], ['is_holiday', 'is_lockdown', 'Max_Grav_accidents', 'hosp', 'incid_rea', 'Count_accidents'], ['is_holiday', 'is_lockdown', 'Max_Grav_accidents', 'hosp', 'rad', 'Count_accidents'], ['is_holiday', 'is_lockdown', 'Max_Grav_accidents', 'rea', 'incid_rea', 'rad'], ['is_holiday', 'is_lockdown', 'Max_Grav_accidents', 'rea', 'incid_rea', 'Count_accidents'], ['is_holiday', 'is_lockdown', 'Max_Grav_accidents', 'rea', 'rad', 'Count_accidents'], ['is_holiday', 'is_lockdown', 'Max_Grav_accidents', 'incid_rea', 'rad', 'Count_accidents'], ['is_holiday', 'is_lockdown', 'hosp', 'rea', 'incid_rea', 'rad'], ['is_holiday', 'is_lockdown', 'hosp', 'rea', 'incid_rea', 'Count_accidents'], ['is_holiday', 'is_lockdown', 'hosp', 'rea', 'rad', 'Count_accidents'], ['is_holiday', 'is_lockdown', 'hosp', 'incid_rea', 'rad', 'Count_accidents'], ['is_holiday', 'is_lockdown', 'rea', 'incid_rea', 'rad', 'Count_accidents'], ['is_holiday', 'is_curfew', 'Max_Grav_accidents', 'hosp', 'rea', 'incid_rea'], ['is_holiday', 'is_curfew', 'Max_Grav_accidents', 'hosp', 'rea', 'rad'], ['is_holiday', 'is_curfew', 'Max_Grav_accidents', 'hosp', 'rea', 'Count_accidents'], ['is_holiday', 'is_curfew', 'Max_Grav_accidents', 'hosp', 'incid_rea', 'rad'], ['is_holiday', 'is_curfew', 'Max_Grav_accidents', 'hosp', 'incid_rea', 'Count_accidents'], ['is_holiday', 'is_curfew', 'Max_Grav_accidents', 'hosp', 'rad', 'Count_accidents'], ['is_holiday', 'is_curfew', 'Max_Grav_accidents', 'rea', 'incid_rea', 'rad'], ['is_holiday', 'is_curfew', 'Max_Grav_accidents', 'rea', 'incid_rea', 'Count_accidents'], ['is_holiday', 'is_curfew', 'Max_Grav_accidents', 'rea', 'rad', 'Count_accidents'], ['is_holiday', 'is_curfew', 'Max_Grav_accidents', 'incid_rea', 'rad', 'Count_accidents'], ['is_holiday', 'is_curfew', 'hosp', 'rea', 'incid_rea', 'rad'], ['is_holiday', 'is_curfew', 'hosp', 'rea', 'incid_rea', 'Count_accidents'], ['is_holiday', 'is_curfew', 'hosp', 'rea', 'rad', 'Count_accidents'], ['is_holiday', 'is_curfew', 'hosp', 'incid_rea', 'rad', 'Count_accidents'], ['is_holiday', 'is_curfew', 'rea', 'incid_rea', 'rad', 'Count_accidents'], ['is_holiday', 'Max_Grav_accidents', 'hosp', 'rea', 'incid_rea', 'rad'], ['is_holiday', 'Max_Grav_accidents', 'hosp', 'rea', 'incid_rea', 'Count_accidents'], ['is_holiday', 'Max_Grav_accidents', 'hosp', 'rea', 'rad', 'Count_accidents'], ['is_holiday', 'Max_Grav_accidents', 'hosp', 'incid_rea', 'rad', 'Count_accidents'], ['is_holiday', 'Max_Grav_accidents', 'rea', 'incid_rea', 'rad', 'Count_accidents'], ['is_holiday', 'hosp', 'rea', 'incid_rea', 'rad', 'Count_accidents'], ['is_weekend', 'is_lockdown', 'is_curfew', 'Max_Grav_accidents', 'hosp', 'rea'], ['is_weekend', 'is_lockdown', 'is_curfew', 'Max_Grav_accidents', 'hosp', 'incid_rea'], ['is_weekend', 'is_lockdown', 'is_curfew', 'Max_Grav_accidents', 'hosp', 'rad'], ['is_weekend', 'is_lockdown', 'is_curfew', 'Max_Grav_accidents', 'hosp', 'Count_accidents'], ['is_weekend', 'is_lockdown', 'is_curfew', 'Max_Grav_accidents', 'rea', 'incid_rea'], ['is_weekend', 'is_lockdown', 'is_curfew', 'Max_Grav_accidents', 'rea', 'rad'], ['is_weekend', 'is_lockdown', 'is_curfew', 'Max_Grav_accidents', 'rea', 'Count_accidents'], ['is_weekend', 'is_lockdown', 'is_curfew', 'Max_Grav_accidents', 'incid_rea', 'rad'], ['is_weekend', 'is_lockdown', 'is_curfew', 'Max_Grav_accidents', 'incid_rea', 'Count_accidents'], ['is_weekend', 'is_lockdown', 'is_curfew', 'Max_Grav_accidents', 'rad', 'Count_accidents'], ['is_weekend', 'is_lockdown', 'is_curfew', 'hosp', 'rea', 'incid_rea'], ['is_weekend', 'is_lockdown', 'is_curfew', 'hosp', 'rea', 'rad'], ['is_weekend', 'is_lockdown', 'is_curfew', 'hosp', 'rea', 'Count_accidents'], ['is_weekend', 'is_lockdown', 'is_curfew', 'hosp', 'incid_rea', 'rad'], ['is_weekend', 'is_lockdown', 'is_curfew', 'hosp', 'incid_rea', 'Count_accidents'], ['is_weekend', 'is_lockdown', 'is_curfew', 'hosp', 'rad', 'Count_accidents'], ['is_weekend', 'is_lockdown', 'is_curfew', 'rea', 'incid_rea', 'rad'], ['is_weekend', 'is_lockdown', 'is_curfew', 'rea', 'incid_rea', 'Count_accidents'], ['is_weekend', 'is_lockdown', 'is_curfew', 'rea', 'rad', 'Count_accidents'], ['is_weekend', 'is_lockdown', 'is_curfew', 'incid_rea', 'rad', 'Count_accidents'], ['is_weekend', 'is_lockdown', 'Max_Grav_accidents', 'hosp', 'rea', 'incid_rea'], ['is_weekend', 'is_lockdown', 'Max_Grav_accidents', 'hosp', 'rea', 'rad'], ['is_weekend', 'is_lockdown', 'Max_Grav_accidents', 'hosp', 'rea', 'Count_accidents'], ['is_weekend', 'is_lockdown', 'Max_Grav_accidents', 'hosp', 'incid_rea', 'rad'], ['is_weekend', 'is_lockdown', 'Max_Grav_accidents', 'hosp', 'incid_rea', 'Count_accidents'], ['is_weekend', 'is_lockdown', 'Max_Grav_accidents', 'hosp', 'rad', 'Count_accidents'], ['is_weekend', 'is_lockdown', 'Max_Grav_accidents', 'rea', 'incid_rea', 'rad'], ['is_weekend', 'is_lockdown', 'Max_Grav_accidents', 'rea', 'incid_rea', 'Count_accidents'], ['is_weekend', 'is_lockdown', 'Max_Grav_accidents', 'rea', 'rad', 'Count_accidents'], ['is_weekend', 'is_lockdown', 'Max_Grav_accidents', 'incid_rea', 'rad', 'Count_accidents'], ['is_weekend', 'is_lockdown', 'hosp', 'rea', 'incid_rea', 'rad'], ['is_weekend', 'is_lockdown', 'hosp', 'rea', 'incid_rea', 'Count_accidents'], ['is_weekend', 'is_lockdown', 'hosp', 'rea', 'rad', 'Count_accidents'], ['is_weekend', 'is_lockdown', 'hosp', 'incid_rea', 'rad', 'Count_accidents'], ['is_weekend', 'is_lockdown', 'rea', 'incid_rea', 'rad', 'Count_accidents'], ['is_weekend', 'is_curfew', 'Max_Grav_accidents', 'hosp', 'rea', 'incid_rea'], ['is_weekend', 'is_curfew', 'Max_Grav_accidents', 'hosp', 'rea', 'rad'], ['is_weekend', 'is_curfew', 'Max_Grav_accidents', 'hosp', 'rea', 'Count_accidents'], ['is_weekend', 'is_curfew', 'Max_Grav_accidents', 'hosp', 'incid_rea', 'rad'], ['is_weekend', 'is_curfew', 'Max_Grav_accidents', 'hosp', 'incid_rea', 'Count_accidents'], ['is_weekend', 'is_curfew', 'Max_Grav_accidents', 'hosp', 'rad', 'Count_accidents'], ['is_weekend', 'is_curfew', 'Max_Grav_accidents', 'rea', 'incid_rea', 'rad'], ['is_weekend', 'is_curfew', 'Max_Grav_accidents', 'rea', 'incid_rea', 'Count_accidents'], ['is_weekend', 'is_curfew', 'Max_Grav_accidents', 'rea', 'rad', 'Count_accidents'], ['is_weekend', 'is_curfew', 'Max_Grav_accidents', 'incid_rea', 'rad', 'Count_accidents'], ['is_weekend', 'is_curfew', 'hosp', 'rea', 'incid_rea', 'rad'], ['is_weekend', 'is_curfew', 'hosp', 'rea', 'incid_rea', 'Count_accidents'], ['is_weekend', 'is_curfew', 'hosp', 'rea', 'rad', 'Count_accidents'], ['is_weekend', 'is_curfew', 'hosp', 'incid_rea', 'rad', 'Count_accidents'], ['is_weekend', 'is_curfew', 'rea', 'incid_rea', 'rad', 'Count_accidents'], ['is_weekend', 'Max_Grav_accidents', 'hosp', 'rea', 'incid_rea', 'rad'], ['is_weekend', 'Max_Grav_accidents', 'hosp', 'rea', 'incid_rea', 'Count_accidents'], ['is_weekend', 'Max_Grav_accidents', 'hosp', 'rea', 'rad', 'Count_accidents'], ['is_weekend', 'Max_Grav_accidents', 'hosp', 'incid_rea', 'rad', 'Count_accidents'], ['is_weekend', 'Max_Grav_accidents', 'rea', 'incid_rea', 'rad', 'Count_accidents'], ['is_weekend', 'hosp', 'rea', 'incid_rea', 'rad', 'Count_accidents'], ['is_lockdown', 'is_curfew', 'Max_Grav_accidents', 'hosp', 'rea', 'incid_rea'], ['is_lockdown', 'is_curfew', 'Max_Grav_accidents', 'hosp', 'rea', 'rad'], ['is_lockdown', 'is_curfew', 'Max_Grav_accidents', 'hosp', 'rea', 'Count_accidents'], ['is_lockdown', 'is_curfew', 'Max_Grav_accidents', 'hosp', 'incid_rea', 'rad'], ['is_lockdown', 'is_curfew', 'Max_Grav_accidents', 'hosp', 'incid_rea', 'Count_accidents'], ['is_lockdown', 'is_curfew', 'Max_Grav_accidents', 'hosp', 'rad', 'Count_accidents'], ['is_lockdown', 'is_curfew', 'Max_Grav_accidents', 'rea', 'incid_rea', 'rad'], ['is_lockdown', 'is_curfew', 'Max_Grav_accidents', 'rea', 'incid_rea', 'Count_accidents'], ['is_lockdown', 'is_curfew', 'Max_Grav_accidents', 'rea', 'rad', 'Count_accidents'], ['is_lockdown', 'is_curfew', 'Max_Grav_accidents', 'incid_rea', 'rad', 'Count_accidents'], ['is_lockdown', 'is_curfew', 'hosp', 'rea', 'incid_rea', 'rad'], ['is_lockdown', 'is_curfew', 'hosp', 'rea', 'incid_rea', 'Count_accidents'], ['is_lockdown', 'is_curfew', 'hosp', 'rea', 'rad', 'Count_accidents'], ['is_lockdown', 'is_curfew', 'hosp', 'incid_rea', 'rad', 'Count_accidents'], ['is_lockdown', 'is_curfew', 'rea', 'incid_rea', 'rad', 'Count_accidents'], ['is_lockdown', 'Max_Grav_accidents', 'hosp', 'rea', 'incid_rea', 'rad'], ['is_lockdown', 'Max_Grav_accidents', 'hosp', 'rea', 'incid_rea', 'Count_accidents'], ['is_lockdown', 'Max_Grav_accidents', 'hosp', 'rea', 'rad', 'Count_accidents'], ['is_lockdown', 'Max_Grav_accidents', 'hosp', 'incid_rea', 'rad', 'Count_accidents'], ['is_lockdown', 'Max_Grav_accidents', 'rea', 'incid_rea', 'rad', 'Count_accidents'], ['is_lockdown', 'hosp', 'rea', 'incid_rea', 'rad', 'Count_accidents'], ['is_curfew', 'Max_Grav_accidents', 'hosp', 'rea', 'incid_rea', 'rad'], ['is_curfew', 'Max_Grav_accidents', 'hosp', 'rea', 'incid_rea', 'Count_accidents'], ['is_curfew', 'Max_Grav_accidents', 'hosp', 'rea', 'rad', 'Count_accidents'], ['is_curfew', 'Max_Grav_accidents', 'hosp', 'incid_rea', 'rad', 'Count_accidents'], ['is_curfew', 'Max_Grav_accidents', 'rea', 'incid_rea', 'rad', 'Count_accidents'], ['is_curfew', 'hosp', 'rea', 'incid_rea', 'rad', 'Count_accidents'], ['Max_Grav_accidents', 'hosp', 'rea', 'incid_rea', 'rad', 'Count_accidents'], ['is_holiday', 'is_weekend', 'is_lockdown', 'is_curfew', 'Max_Grav_accidents', 'hosp', 'rea'], ['is_holiday', 'is_weekend', 'is_lockdown', 'is_curfew', 'Max_Grav_accidents', 'hosp', 'incid_rea'], ['is_holiday', 'is_weekend', 'is_lockdown', 'is_curfew', 'Max_Grav_accidents', 'hosp', 'rad'], ['is_holiday', 'is_weekend', 'is_lockdown', 'is_curfew', 'Max_Grav_accidents', 'hosp', 'Count_accidents'], ['is_holiday', 'is_weekend', 'is_lockdown', 'is_curfew', 'Max_Grav_accidents', 'rea', 'incid_rea'], ['is_holiday', 'is_weekend', 'is_lockdown', 'is_curfew', 'Max_Grav_accidents', 'rea', 'rad'], ['is_holiday', 'is_weekend', 'is_lockdown', 'is_curfew', 'Max_Grav_accidents', 'rea', 'Count_accidents'], ['is_holiday', 'is_weekend', 'is_lockdown', 'is_curfew', 'Max_Grav_accidents', 'incid_rea', 'rad'], ['is_holiday', 'is_weekend', 'is_lockdown', 'is_curfew', 'Max_Grav_accidents', 'incid_rea', 'Count_accidents'], ['is_holiday', 'is_weekend', 'is_lockdown', 'is_curfew', 'Max_Grav_accidents', 'rad', 'Count_accidents'], ['is_holiday', 'is_weekend', 'is_lockdown', 'is_curfew', 'hosp', 'rea', 'incid_rea'], ['is_holiday', 'is_weekend', 'is_lockdown', 'is_curfew', 'hosp', 'rea', 'rad'], ['is_holiday', 'is_weekend', 'is_lockdown', 'is_curfew', 'hosp', 'rea', 'Count_accidents'], ['is_holiday', 'is_weekend', 'is_lockdown', 'is_curfew', 'hosp', 'incid_rea', 'rad'], ['is_holiday', 'is_weekend', 'is_lockdown', 'is_curfew', 'hosp', 'incid_rea', 'Count_accidents'], ['is_holiday', 'is_weekend', 'is_lockdown', 'is_curfew', 'hosp', 'rad', 'Count_accidents'], ['is_holiday', 'is_weekend', 'is_lockdown', 'is_curfew', 'rea', 'incid_rea', 'rad'], ['is_holiday', 'is_weekend', 'is_lockdown', 'is_curfew', 'rea', 'incid_rea', 'Count_accidents'], ['is_holiday', 'is_weekend', 'is_lockdown', 'is_curfew', 'rea', 'rad', 'Count_accidents'], ['is_holiday', 'is_weekend', 'is_lockdown', 'is_curfew', 'incid_rea', 'rad', 'Count_accidents'], ['is_holiday', 'is_weekend', 'is_lockdown', 'Max_Grav_accidents', 'hosp', 'rea', 'incid_rea'], ['is_holiday', 'is_weekend', 'is_lockdown', 'Max_Grav_accidents', 'hosp', 'rea', 'rad'], ['is_holiday', 'is_weekend', 'is_lockdown', 'Max_Grav_accidents', 'hosp', 'rea', 'Count_accidents'], ['is_holiday', 'is_weekend', 'is_lockdown', 'Max_Grav_accidents', 'hosp', 'incid_rea', 'rad'], ['is_holiday', 'is_weekend', 'is_lockdown', 'Max_Grav_accidents', 'hosp', 'incid_rea', 'Count_accidents'], ['is_holiday', 'is_weekend', 'is_lockdown', 'Max_Grav_accidents', 'hosp', 'rad', 'Count_accidents'], ['is_holiday', 'is_weekend', 'is_lockdown', 'Max_Grav_accidents', 'rea', 'incid_rea', 'rad'], ['is_holiday', 'is_weekend', 'is_lockdown', 'Max_Grav_accidents', 'rea', 'incid_rea', 'Count_accidents'], ['is_holiday', 'is_weekend', 'is_lockdown', 'Max_Grav_accidents', 'rea', 'rad', 'Count_accidents'], ['is_holiday', 'is_weekend', 'is_lockdown', 'Max_Grav_accidents', 'incid_rea', 'rad', 'Count_accidents'], ['is_holiday', 'is_weekend', 'is_lockdown', 'hosp', 'rea', 'incid_rea', 'rad'], ['is_holiday', 'is_weekend', 'is_lockdown', 'hosp', 'rea', 'incid_rea', 'Count_accidents'], ['is_holiday', 'is_weekend', 'is_lockdown', 'hosp', 'rea', 'rad', 'Count_accidents'], ['is_holiday', 'is_weekend', 'is_lockdown', 'hosp', 'incid_rea', 'rad', 'Count_accidents'], ['is_holiday', 'is_weekend', 'is_lockdown', 'rea', 'incid_rea', 'rad', 'Count_accidents'], ['is_holiday', 'is_weekend', 'is_curfew', 'Max_Grav_accidents', 'hosp', 'rea', 'incid_rea'], ['is_holiday', 'is_weekend', 'is_curfew', 'Max_Grav_accidents', 'hosp', 'rea', 'rad'], ['is_holiday', 'is_weekend', 'is_curfew', 'Max_Grav_accidents', 'hosp', 'rea', 'Count_accidents'], ['is_holiday', 'is_weekend', 'is_curfew', 'Max_Grav_accidents', 'hosp', 'incid_rea', 'rad'], ['is_holiday', 'is_weekend', 'is_curfew', 'Max_Grav_accidents', 'hosp', 'incid_rea', 'Count_accidents'], ['is_holiday', 'is_weekend', 'is_curfew', 'Max_Grav_accidents', 'hosp', 'rad', 'Count_accidents'], ['is_holiday', 'is_weekend', 'is_curfew', 'Max_Grav_accidents', 'rea', 'incid_rea', 'rad'], ['is_holiday', 'is_weekend', 'is_curfew', 'Max_Grav_accidents', 'rea', 'incid_rea', 'Count_accidents'], ['is_holiday', 'is_weekend', 'is_curfew', 'Max_Grav_accidents', 'rea', 'rad', 'Count_accidents'], ['is_holiday', 'is_weekend', 'is_curfew', 'Max_Grav_accidents', 'incid_rea', 'rad', 'Count_accidents'], ['is_holiday', 'is_weekend', 'is_curfew', 'hosp', 'rea', 'incid_rea', 'rad'], ['is_holiday', 'is_weekend', 'is_curfew', 'hosp', 'rea', 'incid_rea', 'Count_accidents'], ['is_holiday', 'is_weekend', 'is_curfew', 'hosp', 'rea', 'rad', 'Count_accidents'], ['is_holiday', 'is_weekend', 'is_curfew', 'hosp', 'incid_rea', 'rad', 'Count_accidents'], ['is_holiday', 'is_weekend', 'is_curfew', 'rea', 'incid_rea', 'rad', 'Count_accidents'], ['is_holiday', 'is_weekend', 'Max_Grav_accidents', 'hosp', 'rea', 'incid_rea', 'rad'], ['is_holiday', 'is_weekend', 'Max_Grav_accidents', 'hosp', 'rea', 'incid_rea', 'Count_accidents'], ['is_holiday', 'is_weekend', 'Max_Grav_accidents', 'hosp', 'rea', 'rad', 'Count_accidents'], ['is_holiday', 'is_weekend', 'Max_Grav_accidents', 'hosp', 'incid_rea', 'rad', 'Count_accidents'], ['is_holiday', 'is_weekend', 'Max_Grav_accidents', 'rea', 'incid_rea', 'rad', 'Count_accidents'], ['is_holiday', 'is_weekend', 'hosp', 'rea', 'incid_rea', 'rad', 'Count_accidents'], ['is_holiday', 'is_lockdown', 'is_curfew', 'Max_Grav_accidents', 'hosp', 'rea', 'incid_rea'], ['is_holiday', 'is_lockdown', 'is_curfew', 'Max_Grav_accidents', 'hosp', 'rea', 'rad'], ['is_holiday', 'is_lockdown', 'is_curfew', 'Max_Grav_accidents', 'hosp', 'rea', 'Count_accidents'], ['is_holiday', 'is_lockdown', 'is_curfew', 'Max_Grav_accidents', 'hosp', 'incid_rea', 'rad'], ['is_holiday', 'is_lockdown', 'is_curfew', 'Max_Grav_accidents', 'hosp', 'incid_rea', 'Count_accidents'], ['is_holiday', 'is_lockdown', 'is_curfew', 'Max_Grav_accidents', 'hosp', 'rad', 'Count_accidents'], ['is_holiday', 'is_lockdown', 'is_curfew', 'Max_Grav_accidents', 'rea', 'incid_rea', 'rad'], ['is_holiday', 'is_lockdown', 'is_curfew', 'Max_Grav_accidents', 'rea', 'incid_rea', 'Count_accidents'], ['is_holiday', 'is_lockdown', 'is_curfew', 'Max_Grav_accidents', 'rea', 'rad', 'Count_accidents'], ['is_holiday', 'is_lockdown', 'is_curfew', 'Max_Grav_accidents', 'incid_rea', 'rad', 'Count_accidents'], ['is_holiday', 'is_lockdown', 'is_curfew', 'hosp', 'rea', 'incid_rea', 'rad'], ['is_holiday', 'is_lockdown', 'is_curfew', 'hosp', 'rea', 'incid_rea', 'Count_accidents'], ['is_holiday', 'is_lockdown', 'is_curfew', 'hosp', 'rea', 'rad', 'Count_accidents'], ['is_holiday', 'is_lockdown', 'is_curfew', 'hosp', 'incid_rea', 'rad', 'Count_accidents'], ['is_holiday', 'is_lockdown', 'is_curfew', 'rea', 'incid_rea', 'rad', 'Count_accidents'], ['is_holiday', 'is_lockdown', 'Max_Grav_accidents', 'hosp', 'rea', 'incid_rea', 'rad'], ['is_holiday', 'is_lockdown', 'Max_Grav_accidents', 'hosp', 'rea', 'incid_rea', 'Count_accidents'], ['is_holiday', 'is_lockdown', 'Max_Grav_accidents', 'hosp', 'rea', 'rad', 'Count_accidents'], ['is_holiday', 'is_lockdown', 'Max_Grav_accidents', 'hosp', 'incid_rea', 'rad', 'Count_accidents'], ['is_holiday', 'is_lockdown', 'Max_Grav_accidents', 'rea', 'incid_rea', 'rad', 'Count_accidents'], ['is_holiday', 'is_lockdown', 'hosp', 'rea', 'incid_rea', 'rad', 'Count_accidents'], ['is_holiday', 'is_curfew', 'Max_Grav_accidents', 'hosp', 'rea', 'incid_rea', 'rad'], ['is_holiday', 'is_curfew', 'Max_Grav_accidents', 'hosp', 'rea', 'incid_rea', 'Count_accidents'], ['is_holiday', 'is_curfew', 'Max_Grav_accidents', 'hosp', 'rea', 'rad', 'Count_accidents'], ['is_holiday', 'is_curfew', 'Max_Grav_accidents', 'hosp', 'incid_rea', 'rad', 'Count_accidents'], ['is_holiday', 'is_curfew', 'Max_Grav_accidents', 'rea', 'incid_rea', 'rad', 'Count_accidents'], ['is_holiday', 'is_curfew', 'hosp', 'rea', 'incid_rea', 'rad', 'Count_accidents'], ['is_holiday', 'Max_Grav_accidents', 'hosp', 'rea', 'incid_rea', 'rad', 'Count_accidents'], ['is_weekend', 'is_lockdown', 'is_curfew', 'Max_Grav_accidents', 'hosp', 'rea', 'incid_rea'], ['is_weekend', 'is_lockdown', 'is_curfew', 'Max_Grav_accidents', 'hosp', 'rea', 'rad'], ['is_weekend', 'is_lockdown', 'is_curfew', 'Max_Grav_accidents', 'hosp', 'rea', 'Count_accidents'], ['is_weekend', 'is_lockdown', 'is_curfew', 'Max_Grav_accidents', 'hosp', 'incid_rea', 'rad'], ['is_weekend', 'is_lockdown', 'is_curfew', 'Max_Grav_accidents', 'hosp', 'incid_rea', 'Count_accidents'], ['is_weekend', 'is_lockdown', 'is_curfew', 'Max_Grav_accidents', 'hosp', 'rad', 'Count_accidents'], ['is_weekend', 'is_lockdown', 'is_curfew', 'Max_Grav_accidents', 'rea', 'incid_rea', 'rad'], ['is_weekend', 'is_lockdown', 'is_curfew', 'Max_Grav_accidents', 'rea', 'incid_rea', 'Count_accidents'], ['is_weekend', 'is_lockdown', 'is_curfew', 'Max_Grav_accidents', 'rea', 'rad', 'Count_accidents'], ['is_weekend', 'is_lockdown', 'is_curfew', 'Max_Grav_accidents', 'incid_rea', 'rad', 'Count_accidents'], ['is_weekend', 'is_lockdown', 'is_curfew', 'hosp', 'rea', 'incid_rea', 'rad'], ['is_weekend', 'is_lockdown', 'is_curfew', 'hosp', 'rea', 'incid_rea', 'Count_accidents'], ['is_weekend', 'is_lockdown', 'is_curfew', 'hosp', 'rea', 'rad', 'Count_accidents'], ['is_weekend', 'is_lockdown', 'is_curfew', 'hosp', 'incid_rea', 'rad', 'Count_accidents'], ['is_weekend', 'is_lockdown', 'is_curfew', 'rea', 'incid_rea', 'rad', 'Count_accidents'], ['is_weekend', 'is_lockdown', 'Max_Grav_accidents', 'hosp', 'rea', 'incid_rea', 'rad'], ['is_weekend', 'is_lockdown', 'Max_Grav_accidents', 'hosp', 'rea', 'incid_rea', 'Count_accidents'], ['is_weekend', 'is_lockdown', 'Max_Grav_accidents', 'hosp', 'rea', 'rad', 'Count_accidents'], ['is_weekend', 'is_lockdown', 'Max_Grav_accidents', 'hosp', 'incid_rea', 'rad', 'Count_accidents'], ['is_weekend', 'is_lockdown', 'Max_Grav_accidents', 'rea', 'incid_rea', 'rad', 'Count_accidents'], ['is_weekend', 'is_lockdown', 'hosp', 'rea', 'incid_rea', 'rad', 'Count_accidents'], ['is_weekend', 'is_curfew', 'Max_Grav_accidents', 'hosp', 'rea', 'incid_rea', 'rad'], ['is_weekend', 'is_curfew', 'Max_Grav_accidents', 'hosp', 'rea', 'incid_rea', 'Count_accidents'], ['is_weekend', 'is_curfew', 'Max_Grav_accidents', 'hosp', 'rea', 'rad', 'Count_accidents'], ['is_weekend', 'is_curfew', 'Max_Grav_accidents', 'hosp', 'incid_rea', 'rad', 'Count_accidents'], ['is_weekend', 'is_curfew', 'Max_Grav_accidents', 'rea', 'incid_rea', 'rad', 'Count_accidents'], ['is_weekend', 'is_curfew', 'hosp', 'rea', 'incid_rea', 'rad', 'Count_accidents'], ['is_weekend', 'Max_Grav_accidents', 'hosp', 'rea', 'incid_rea', 'rad', 'Count_accidents'], ['is_lockdown', 'is_curfew', 'Max_Grav_accidents', 'hosp', 'rea', 'incid_rea', 'rad'], ['is_lockdown', 'is_curfew', 'Max_Grav_accidents', 'hosp', 'rea', 'incid_rea', 'Count_accidents'], ['is_lockdown', 'is_curfew', 'Max_Grav_accidents', 'hosp', 'rea', 'rad', 'Count_accidents'], ['is_lockdown', 'is_curfew', 'Max_Grav_accidents', 'hosp', 'incid_rea', 'rad', 'Count_accidents'], ['is_lockdown', 'is_curfew', 'Max_Grav_accidents', 'rea', 'incid_rea', 'rad', 'Count_accidents'], ['is_lockdown', 'is_curfew', 'hosp', 'rea', 'incid_rea', 'rad', 'Count_accidents'], ['is_lockdown', 'Max_Grav_accidents', 'hosp', 'rea', 'incid_rea', 'rad', 'Count_accidents'], ['is_curfew', 'Max_Grav_accidents', 'hosp', 'rea', 'incid_rea', 'rad', 'Count_accidents'], ['is_holiday', 'is_weekend', 'is_lockdown', 'is_curfew', 'Max_Grav_accidents', 'hosp', 'rea', 'incid_rea'], ['is_holiday', 'is_weekend', 'is_lockdown', 'is_curfew', 'Max_Grav_accidents', 'hosp', 'rea', 'rad'], ['is_holiday', 'is_weekend', 'is_lockdown', 'is_curfew', 'Max_Grav_accidents', 'hosp', 'rea', 'Count_accidents'], ['is_holiday', 'is_weekend', 'is_lockdown', 'is_curfew', 'Max_Grav_accidents', 'hosp', 'incid_rea', 'rad'], ['is_holiday', 'is_weekend', 'is_lockdown', 'is_curfew', 'Max_Grav_accidents', 'hosp', 'incid_rea', 'Count_accidents'], ['is_holiday', 'is_weekend', 'is_lockdown', 'is_curfew', 'Max_Grav_accidents', 'hosp', 'rad', 'Count_accidents'], ['is_holiday', 'is_weekend', 'is_lockdown', 'is_curfew', 'Max_Grav_accidents', 'rea', 'incid_rea', 'rad'], ['is_holiday', 'is_weekend', 'is_lockdown', 'is_curfew', 'Max_Grav_accidents', 'rea', 'incid_rea', 'Count_accidents'], ['is_holiday', 'is_weekend', 'is_lockdown', 'is_curfew', 'Max_Grav_accidents', 'rea', 'rad', 'Count_accidents'], ['is_holiday', 'is_weekend', 'is_lockdown', 'is_curfew', 'Max_Grav_accidents', 'incid_rea', 'rad', 'Count_accidents'], ['is_holiday', 'is_weekend', 'is_lockdown', 'is_curfew', 'hosp', 'rea', 'incid_rea', 'rad'], ['is_holiday', 'is_weekend', 'is_lockdown', 'is_curfew', 'hosp', 'rea', 'incid_rea', 'Count_accidents'], ['is_holiday', 'is_weekend', 'is_lockdown', 'is_curfew', 'hosp', 'rea', 'rad', 'Count_accidents'], ['is_holiday', 'is_weekend', 'is_lockdown', 'is_curfew', 'hosp', 'incid_rea', 'rad', 'Count_accidents'], ['is_holiday', 'is_weekend', 'is_lockdown', 'is_curfew', 'rea', 'incid_rea', 'rad', 'Count_accidents'], ['is_holiday', 'is_weekend', 'is_lockdown', 'Max_Grav_accidents', 'hosp', 'rea', 'incid_rea', 'rad'], ['is_holiday', 'is_weekend', 'is_lockdown', 'Max_Grav_accidents', 'hosp', 'rea', 'incid_rea', 'Count_accidents'], ['is_holiday', 'is_weekend', 'is_lockdown', 'Max_Grav_accidents', 'hosp', 'rea', 'rad', 'Count_accidents'], ['is_holiday', 'is_weekend', 'is_lockdown', 'Max_Grav_accidents', 'hosp', 'incid_rea', 'rad', 'Count_accidents'], ['is_holiday', 'is_weekend', 'is_lockdown', 'Max_Grav_accidents', 'rea', 'incid_rea', 'rad', 'Count_accidents'], ['is_holiday', 'is_weekend', 'is_lockdown', 'hosp', 'rea', 'incid_rea', 'rad', 'Count_accidents'], ['is_holiday', 'is_weekend', 'is_curfew', 'Max_Grav_accidents', 'hosp', 'rea', 'incid_rea', 'rad'], ['is_holiday', 'is_weekend', 'is_curfew', 'Max_Grav_accidents', 'hosp', 'rea', 'incid_rea', 'Count_accidents'], ['is_holiday', 'is_weekend', 'is_curfew', 'Max_Grav_accidents', 'hosp', 'rea', 'rad', 'Count_accidents'], ['is_holiday', 'is_weekend', 'is_curfew', 'Max_Grav_accidents', 'hosp', 'incid_rea', 'rad', 'Count_accidents'], ['is_holiday', 'is_weekend', 'is_curfew', 'Max_Grav_accidents', 'rea', 'incid_rea', 'rad', 'Count_accidents'], ['is_holiday', 'is_weekend', 'is_curfew', 'hosp', 'rea', 'incid_rea', 'rad', 'Count_accidents'], ['is_holiday', 'is_weekend', 'Max_Grav_accidents', 'hosp', 'rea', 'incid_rea', 'rad', 'Count_accidents'], ['is_holiday', 'is_lockdown', 'is_curfew', 'Max_Grav_accidents', 'hosp', 'rea', 'incid_rea', 'rad'], ['is_holiday', 'is_lockdown', 'is_curfew', 'Max_Grav_accidents', 'hosp', 'rea', 'incid_rea', 'Count_accidents'], ['is_holiday', 'is_lockdown', 'is_curfew', 'Max_Grav_accidents', 'hosp', 'rea', 'rad', 'Count_accidents'], ['is_holiday', 'is_lockdown', 'is_curfew', 'Max_Grav_accidents', 'hosp', 'incid_rea', 'rad', 'Count_accidents'], ['is_holiday', 'is_lockdown', 'is_curfew', 'Max_Grav_accidents', 'rea', 'incid_rea', 'rad', 'Count_accidents'], ['is_holiday', 'is_lockdown', 'is_curfew', 'hosp', 'rea', 'incid_rea', 'rad', 'Count_accidents'], ['is_holiday', 'is_lockdown', 'Max_Grav_accidents', 'hosp', 'rea', 'incid_rea', 'rad', 'Count_accidents'], ['is_holiday', 'is_curfew', 'Max_Grav_accidents', 'hosp', 'rea', 'incid_rea', 'rad', 'Count_accidents'], ['is_weekend', 'is_lockdown', 'is_curfew', 'Max_Grav_accidents', 'hosp', 'rea', 'incid_rea', 'rad'], ['is_weekend', 'is_lockdown', 'is_curfew', 'Max_Grav_accidents', 'hosp', 'rea', 'incid_rea', 'Count_accidents'], ['is_weekend', 'is_lockdown', 'is_curfew', 'Max_Grav_accidents', 'hosp', 'rea', 'rad', 'Count_accidents'], ['is_weekend', 'is_lockdown', 'is_curfew', 'Max_Grav_accidents', 'hosp', 'incid_rea', 'rad', 'Count_accidents'], ['is_weekend', 'is_lockdown', 'is_curfew', 'Max_Grav_accidents', 'rea', 'incid_rea', 'rad', 'Count_accidents'], ['is_weekend', 'is_lockdown', 'is_curfew', 'hosp', 'rea', 'incid_rea', 'rad', 'Count_accidents'], ['is_weekend', 'is_lockdown', 'Max_Grav_accidents', 'hosp', 'rea', 'incid_rea', 'rad', 'Count_accidents'], ['is_weekend', 'is_curfew', 'Max_Grav_accidents', 'hosp', 'rea', 'incid_rea', 'rad', 'Count_accidents'], ['is_lockdown', 'is_curfew', 'Max_Grav_accidents', 'hosp', 'rea', 'incid_rea', 'rad', 'Count_accidents'], ['is_holiday', 'is_weekend', 'is_lockdown', 'is_curfew', 'Max_Grav_accidents', 'hosp', 'rea', 'incid_rea', 'rad'], ['is_holiday', 'is_weekend', 'is_lockdown', 'is_curfew', 'Max_Grav_accidents', 'hosp', 'rea', 'incid_rea', 'Count_accidents'], ['is_holiday', 'is_weekend', 'is_lockdown', 'is_curfew', 'Max_Grav_accidents', 'hosp', 'rea', 'rad', 'Count_accidents'], ['is_holiday', 'is_weekend', 'is_lockdown', 'is_curfew', 'Max_Grav_accidents', 'hosp', 'incid_rea', 'rad', 'Count_accidents'], ['is_holiday', 'is_weekend', 'is_lockdown', 'is_curfew', 'Max_Grav_accidents', 'rea', 'incid_rea', 'rad', 'Count_accidents'], ['is_holiday', 'is_weekend', 'is_lockdown', 'is_curfew', 'hosp', 'rea', 'incid_rea', 'rad', 'Count_accidents'], ['is_holiday', 'is_weekend', 'is_lockdown', 'Max_Grav_accidents', 'hosp', 'rea', 'incid_rea', 'rad', 'Count_accidents'], ['is_holiday', 'is_weekend', 'is_curfew', 'Max_Grav_accidents', 'hosp', 'rea', 'incid_rea', 'rad', 'Count_accidents'], ['is_holiday', 'is_lockdown', 'is_curfew', 'Max_Grav_accidents', 'hosp', 'rea', 'incid_rea', 'rad', 'Count_accidents'], ['is_weekend', 'is_lockdown', 'is_curfew', 'Max_Grav_accidents', 'hosp', 'rea', 'incid_rea', 'rad', 'Count_accidents'], ['is_holiday', 'is_weekend', 'is_lockdown', 'is_curfew', 'Max_Grav_accidents', 'hosp', 'rea', 'incid_rea', 'rad', 'Count_accidents']]\n"
     ]
    },
    {
     "name": "stderr",
     "output_type": "stream",
     "text": [
      "C:\\Users\\Thomas\\anaconda3\\envs\\bikes-count\\lib\\site-packages\\xgboost\\core.py:160: UserWarning: [02:22:42] WARNING: C:\\buildkite-agent\\builds\\buildkite-windows-cpu-autoscaling-group-i-0750514818a16474a-1\\xgboost\\xgboost-ci-windows\\src\\learner.cc:742: \n",
      "Parameters: { \"objectives\", \"verbose\" } are not used.\n",
      "\n",
      "  warnings.warn(smsg, UserWarning)\n"
     ]
    },
    {
     "name": "stdout",
     "output_type": "stream",
     "text": [
      "Train set RMSE: 0.43\n",
      "Test set RMSE: 0.50\n",
      "Tested on combination ['is_holiday']\n",
      "best_RMSE_test updated: 0.50\n",
      "best_features_sub updated: ['is_holiday']\n"
     ]
    },
    {
     "name": "stderr",
     "output_type": "stream",
     "text": [
      "C:\\Users\\Thomas\\anaconda3\\envs\\bikes-count\\lib\\site-packages\\xgboost\\core.py:160: UserWarning: [02:22:48] WARNING: C:\\buildkite-agent\\builds\\buildkite-windows-cpu-autoscaling-group-i-0750514818a16474a-1\\xgboost\\xgboost-ci-windows\\src\\learner.cc:742: \n",
      "Parameters: { \"objectives\", \"verbose\" } are not used.\n",
      "\n",
      "  warnings.warn(smsg, UserWarning)\n"
     ]
    },
    {
     "name": "stdout",
     "output_type": "stream",
     "text": [
      "Train set RMSE: 0.44\n",
      "Test set RMSE: 0.48\n",
      "Tested on combination ['is_weekend']\n",
      "best_RMSE_test updated: 0.48\n",
      "best_features_sub updated: ['is_weekend']\n"
     ]
    },
    {
     "name": "stderr",
     "output_type": "stream",
     "text": [
      "C:\\Users\\Thomas\\anaconda3\\envs\\bikes-count\\lib\\site-packages\\xgboost\\core.py:160: UserWarning: [02:22:54] WARNING: C:\\buildkite-agent\\builds\\buildkite-windows-cpu-autoscaling-group-i-0750514818a16474a-1\\xgboost\\xgboost-ci-windows\\src\\learner.cc:742: \n",
      "Parameters: { \"objectives\", \"verbose\" } are not used.\n",
      "\n",
      "  warnings.warn(smsg, UserWarning)\n"
     ]
    },
    {
     "name": "stdout",
     "output_type": "stream",
     "text": [
      "Train set RMSE: 0.44\n",
      "Test set RMSE: 0.48\n",
      "Tested on combination ['is_lockdown']\n",
      "best_RMSE_test updated: 0.48\n",
      "best_features_sub updated: ['is_lockdown']\n"
     ]
    },
    {
     "name": "stderr",
     "output_type": "stream",
     "text": [
      "C:\\Users\\Thomas\\anaconda3\\envs\\bikes-count\\lib\\site-packages\\xgboost\\core.py:160: UserWarning: [02:23:02] WARNING: C:\\buildkite-agent\\builds\\buildkite-windows-cpu-autoscaling-group-i-0750514818a16474a-1\\xgboost\\xgboost-ci-windows\\src\\learner.cc:742: \n",
      "Parameters: { \"objectives\", \"verbose\" } are not used.\n",
      "\n",
      "  warnings.warn(smsg, UserWarning)\n"
     ]
    },
    {
     "name": "stdout",
     "output_type": "stream",
     "text": [
      "Train set RMSE: 0.43\n",
      "Test set RMSE: 0.48\n",
      "Tested on combination ['is_curfew']\n"
     ]
    },
    {
     "name": "stderr",
     "output_type": "stream",
     "text": [
      "C:\\Users\\Thomas\\anaconda3\\envs\\bikes-count\\lib\\site-packages\\xgboost\\core.py:160: UserWarning: [02:23:08] WARNING: C:\\buildkite-agent\\builds\\buildkite-windows-cpu-autoscaling-group-i-0750514818a16474a-1\\xgboost\\xgboost-ci-windows\\src\\learner.cc:742: \n",
      "Parameters: { \"objectives\", \"verbose\" } are not used.\n",
      "\n",
      "  warnings.warn(smsg, UserWarning)\n"
     ]
    },
    {
     "name": "stdout",
     "output_type": "stream",
     "text": [
      "Train set RMSE: 0.43\n",
      "Test set RMSE: 0.50\n",
      "Tested on combination ['Max_Grav_accidents']\n"
     ]
    },
    {
     "name": "stderr",
     "output_type": "stream",
     "text": [
      "C:\\Users\\Thomas\\anaconda3\\envs\\bikes-count\\lib\\site-packages\\xgboost\\core.py:160: UserWarning: [02:23:15] WARNING: C:\\buildkite-agent\\builds\\buildkite-windows-cpu-autoscaling-group-i-0750514818a16474a-1\\xgboost\\xgboost-ci-windows\\src\\learner.cc:742: \n",
      "Parameters: { \"objectives\", \"verbose\" } are not used.\n",
      "\n",
      "  warnings.warn(smsg, UserWarning)\n"
     ]
    },
    {
     "name": "stdout",
     "output_type": "stream",
     "text": [
      "Train set RMSE: 0.42\n",
      "Test set RMSE: 0.48\n",
      "Tested on combination ['hosp']\n"
     ]
    },
    {
     "name": "stderr",
     "output_type": "stream",
     "text": [
      "C:\\Users\\Thomas\\anaconda3\\envs\\bikes-count\\lib\\site-packages\\xgboost\\core.py:160: UserWarning: [02:23:22] WARNING: C:\\buildkite-agent\\builds\\buildkite-windows-cpu-autoscaling-group-i-0750514818a16474a-1\\xgboost\\xgboost-ci-windows\\src\\learner.cc:742: \n",
      "Parameters: { \"objectives\", \"verbose\" } are not used.\n",
      "\n",
      "  warnings.warn(smsg, UserWarning)\n"
     ]
    },
    {
     "name": "stdout",
     "output_type": "stream",
     "text": [
      "Train set RMSE: 0.42\n",
      "Test set RMSE: 0.50\n",
      "Tested on combination ['rea']\n"
     ]
    },
    {
     "name": "stderr",
     "output_type": "stream",
     "text": [
      "C:\\Users\\Thomas\\anaconda3\\envs\\bikes-count\\lib\\site-packages\\xgboost\\core.py:160: UserWarning: [02:23:28] WARNING: C:\\buildkite-agent\\builds\\buildkite-windows-cpu-autoscaling-group-i-0750514818a16474a-1\\xgboost\\xgboost-ci-windows\\src\\learner.cc:742: \n",
      "Parameters: { \"objectives\", \"verbose\" } are not used.\n",
      "\n",
      "  warnings.warn(smsg, UserWarning)\n"
     ]
    },
    {
     "name": "stdout",
     "output_type": "stream",
     "text": [
      "Train set RMSE: 0.43\n",
      "Test set RMSE: 0.49\n",
      "Tested on combination ['incid_rea']\n"
     ]
    },
    {
     "name": "stderr",
     "output_type": "stream",
     "text": [
      "C:\\Users\\Thomas\\anaconda3\\envs\\bikes-count\\lib\\site-packages\\xgboost\\core.py:160: UserWarning: [02:23:35] WARNING: C:\\buildkite-agent\\builds\\buildkite-windows-cpu-autoscaling-group-i-0750514818a16474a-1\\xgboost\\xgboost-ci-windows\\src\\learner.cc:742: \n",
      "Parameters: { \"objectives\", \"verbose\" } are not used.\n",
      "\n",
      "  warnings.warn(smsg, UserWarning)\n"
     ]
    },
    {
     "name": "stdout",
     "output_type": "stream",
     "text": [
      "Train set RMSE: 0.41\n",
      "Test set RMSE: 0.50\n",
      "Tested on combination ['rad']\n"
     ]
    },
    {
     "name": "stderr",
     "output_type": "stream",
     "text": [
      "C:\\Users\\Thomas\\anaconda3\\envs\\bikes-count\\lib\\site-packages\\xgboost\\core.py:160: UserWarning: [02:23:41] WARNING: C:\\buildkite-agent\\builds\\buildkite-windows-cpu-autoscaling-group-i-0750514818a16474a-1\\xgboost\\xgboost-ci-windows\\src\\learner.cc:742: \n",
      "Parameters: { \"objectives\", \"verbose\" } are not used.\n",
      "\n",
      "  warnings.warn(smsg, UserWarning)\n"
     ]
    },
    {
     "name": "stdout",
     "output_type": "stream",
     "text": [
      "Train set RMSE: 0.43\n",
      "Test set RMSE: 0.48\n",
      "Tested on combination ['Count_accidents']\n"
     ]
    },
    {
     "name": "stderr",
     "output_type": "stream",
     "text": [
      "C:\\Users\\Thomas\\anaconda3\\envs\\bikes-count\\lib\\site-packages\\xgboost\\core.py:160: UserWarning: [02:23:48] WARNING: C:\\buildkite-agent\\builds\\buildkite-windows-cpu-autoscaling-group-i-0750514818a16474a-1\\xgboost\\xgboost-ci-windows\\src\\learner.cc:742: \n",
      "Parameters: { \"objectives\", \"verbose\" } are not used.\n",
      "\n",
      "  warnings.warn(smsg, UserWarning)\n"
     ]
    },
    {
     "name": "stdout",
     "output_type": "stream",
     "text": [
      "Train set RMSE: 0.43\n",
      "Test set RMSE: 0.50\n",
      "Tested on combination ['is_holiday', 'is_weekend']\n"
     ]
    },
    {
     "name": "stderr",
     "output_type": "stream",
     "text": [
      "C:\\Users\\Thomas\\anaconda3\\envs\\bikes-count\\lib\\site-packages\\xgboost\\core.py:160: UserWarning: [02:23:55] WARNING: C:\\buildkite-agent\\builds\\buildkite-windows-cpu-autoscaling-group-i-0750514818a16474a-1\\xgboost\\xgboost-ci-windows\\src\\learner.cc:742: \n",
      "Parameters: { \"objectives\", \"verbose\" } are not used.\n",
      "\n",
      "  warnings.warn(smsg, UserWarning)\n"
     ]
    },
    {
     "name": "stdout",
     "output_type": "stream",
     "text": [
      "Train set RMSE: 0.43\n",
      "Test set RMSE: 0.50\n",
      "Tested on combination ['is_holiday', 'is_lockdown']\n"
     ]
    },
    {
     "name": "stderr",
     "output_type": "stream",
     "text": [
      "C:\\Users\\Thomas\\anaconda3\\envs\\bikes-count\\lib\\site-packages\\xgboost\\core.py:160: UserWarning: [02:24:01] WARNING: C:\\buildkite-agent\\builds\\buildkite-windows-cpu-autoscaling-group-i-0750514818a16474a-1\\xgboost\\xgboost-ci-windows\\src\\learner.cc:742: \n",
      "Parameters: { \"objectives\", \"verbose\" } are not used.\n",
      "\n",
      "  warnings.warn(smsg, UserWarning)\n"
     ]
    },
    {
     "name": "stdout",
     "output_type": "stream",
     "text": [
      "Train set RMSE: 0.43\n",
      "Test set RMSE: 0.50\n",
      "Tested on combination ['is_holiday', 'is_curfew']\n"
     ]
    },
    {
     "name": "stderr",
     "output_type": "stream",
     "text": [
      "C:\\Users\\Thomas\\anaconda3\\envs\\bikes-count\\lib\\site-packages\\xgboost\\core.py:160: UserWarning: [02:24:07] WARNING: C:\\buildkite-agent\\builds\\buildkite-windows-cpu-autoscaling-group-i-0750514818a16474a-1\\xgboost\\xgboost-ci-windows\\src\\learner.cc:742: \n",
      "Parameters: { \"objectives\", \"verbose\" } are not used.\n",
      "\n",
      "  warnings.warn(smsg, UserWarning)\n"
     ]
    },
    {
     "name": "stdout",
     "output_type": "stream",
     "text": [
      "Train set RMSE: 0.43\n",
      "Test set RMSE: 0.48\n",
      "Tested on combination ['is_holiday', 'Max_Grav_accidents']\n"
     ]
    },
    {
     "name": "stderr",
     "output_type": "stream",
     "text": [
      "C:\\Users\\Thomas\\anaconda3\\envs\\bikes-count\\lib\\site-packages\\xgboost\\core.py:160: UserWarning: [02:24:14] WARNING: C:\\buildkite-agent\\builds\\buildkite-windows-cpu-autoscaling-group-i-0750514818a16474a-1\\xgboost\\xgboost-ci-windows\\src\\learner.cc:742: \n",
      "Parameters: { \"objectives\", \"verbose\" } are not used.\n",
      "\n",
      "  warnings.warn(smsg, UserWarning)\n"
     ]
    },
    {
     "name": "stdout",
     "output_type": "stream",
     "text": [
      "Train set RMSE: 0.42\n",
      "Test set RMSE: 0.46\n",
      "Tested on combination ['is_holiday', 'hosp']\n",
      "best_RMSE_test updated: 0.46\n",
      "best_features_sub updated: ['is_holiday', 'hosp']\n"
     ]
    },
    {
     "name": "stderr",
     "output_type": "stream",
     "text": [
      "C:\\Users\\Thomas\\anaconda3\\envs\\bikes-count\\lib\\site-packages\\xgboost\\core.py:160: UserWarning: [02:24:20] WARNING: C:\\buildkite-agent\\builds\\buildkite-windows-cpu-autoscaling-group-i-0750514818a16474a-1\\xgboost\\xgboost-ci-windows\\src\\learner.cc:742: \n",
      "Parameters: { \"objectives\", \"verbose\" } are not used.\n",
      "\n",
      "  warnings.warn(smsg, UserWarning)\n"
     ]
    },
    {
     "name": "stdout",
     "output_type": "stream",
     "text": [
      "Train set RMSE: 0.42\n",
      "Test set RMSE: 0.50\n",
      "Tested on combination ['is_holiday', 'rea']\n"
     ]
    },
    {
     "name": "stderr",
     "output_type": "stream",
     "text": [
      "C:\\Users\\Thomas\\anaconda3\\envs\\bikes-count\\lib\\site-packages\\xgboost\\core.py:160: UserWarning: [02:24:26] WARNING: C:\\buildkite-agent\\builds\\buildkite-windows-cpu-autoscaling-group-i-0750514818a16474a-1\\xgboost\\xgboost-ci-windows\\src\\learner.cc:742: \n",
      "Parameters: { \"objectives\", \"verbose\" } are not used.\n",
      "\n",
      "  warnings.warn(smsg, UserWarning)\n"
     ]
    },
    {
     "name": "stdout",
     "output_type": "stream",
     "text": [
      "Train set RMSE: 0.43\n",
      "Test set RMSE: 0.50\n",
      "Tested on combination ['is_holiday', 'incid_rea']\n"
     ]
    },
    {
     "name": "stderr",
     "output_type": "stream",
     "text": [
      "C:\\Users\\Thomas\\anaconda3\\envs\\bikes-count\\lib\\site-packages\\xgboost\\core.py:160: UserWarning: [02:24:32] WARNING: C:\\buildkite-agent\\builds\\buildkite-windows-cpu-autoscaling-group-i-0750514818a16474a-1\\xgboost\\xgboost-ci-windows\\src\\learner.cc:742: \n",
      "Parameters: { \"objectives\", \"verbose\" } are not used.\n",
      "\n",
      "  warnings.warn(smsg, UserWarning)\n"
     ]
    },
    {
     "name": "stdout",
     "output_type": "stream",
     "text": [
      "Train set RMSE: 0.41\n",
      "Test set RMSE: 0.52\n",
      "Tested on combination ['is_holiday', 'rad']\n"
     ]
    },
    {
     "name": "stderr",
     "output_type": "stream",
     "text": [
      "C:\\Users\\Thomas\\anaconda3\\envs\\bikes-count\\lib\\site-packages\\xgboost\\core.py:160: UserWarning: [02:24:38] WARNING: C:\\buildkite-agent\\builds\\buildkite-windows-cpu-autoscaling-group-i-0750514818a16474a-1\\xgboost\\xgboost-ci-windows\\src\\learner.cc:742: \n",
      "Parameters: { \"objectives\", \"verbose\" } are not used.\n",
      "\n",
      "  warnings.warn(smsg, UserWarning)\n"
     ]
    },
    {
     "name": "stdout",
     "output_type": "stream",
     "text": [
      "Train set RMSE: 0.43\n",
      "Test set RMSE: 0.49\n",
      "Tested on combination ['is_holiday', 'Count_accidents']\n"
     ]
    },
    {
     "name": "stderr",
     "output_type": "stream",
     "text": [
      "C:\\Users\\Thomas\\anaconda3\\envs\\bikes-count\\lib\\site-packages\\xgboost\\core.py:160: UserWarning: [02:24:45] WARNING: C:\\buildkite-agent\\builds\\buildkite-windows-cpu-autoscaling-group-i-0750514818a16474a-1\\xgboost\\xgboost-ci-windows\\src\\learner.cc:742: \n",
      "Parameters: { \"objectives\", \"verbose\" } are not used.\n",
      "\n",
      "  warnings.warn(smsg, UserWarning)\n"
     ]
    },
    {
     "name": "stdout",
     "output_type": "stream",
     "text": [
      "Train set RMSE: 0.44\n",
      "Test set RMSE: 0.48\n",
      "Tested on combination ['is_weekend', 'is_lockdown']\n"
     ]
    },
    {
     "name": "stderr",
     "output_type": "stream",
     "text": [
      "C:\\Users\\Thomas\\anaconda3\\envs\\bikes-count\\lib\\site-packages\\xgboost\\core.py:160: UserWarning: [02:24:51] WARNING: C:\\buildkite-agent\\builds\\buildkite-windows-cpu-autoscaling-group-i-0750514818a16474a-1\\xgboost\\xgboost-ci-windows\\src\\learner.cc:742: \n",
      "Parameters: { \"objectives\", \"verbose\" } are not used.\n",
      "\n",
      "  warnings.warn(smsg, UserWarning)\n"
     ]
    },
    {
     "name": "stdout",
     "output_type": "stream",
     "text": [
      "Train set RMSE: 0.43\n",
      "Test set RMSE: 0.48\n",
      "Tested on combination ['is_weekend', 'is_curfew']\n"
     ]
    },
    {
     "name": "stderr",
     "output_type": "stream",
     "text": [
      "C:\\Users\\Thomas\\anaconda3\\envs\\bikes-count\\lib\\site-packages\\xgboost\\core.py:160: UserWarning: [02:24:57] WARNING: C:\\buildkite-agent\\builds\\buildkite-windows-cpu-autoscaling-group-i-0750514818a16474a-1\\xgboost\\xgboost-ci-windows\\src\\learner.cc:742: \n",
      "Parameters: { \"objectives\", \"verbose\" } are not used.\n",
      "\n",
      "  warnings.warn(smsg, UserWarning)\n"
     ]
    },
    {
     "name": "stdout",
     "output_type": "stream",
     "text": [
      "Train set RMSE: 0.43\n",
      "Test set RMSE: 0.50\n",
      "Tested on combination ['is_weekend', 'Max_Grav_accidents']\n"
     ]
    },
    {
     "name": "stderr",
     "output_type": "stream",
     "text": [
      "C:\\Users\\Thomas\\anaconda3\\envs\\bikes-count\\lib\\site-packages\\xgboost\\core.py:160: UserWarning: [02:25:03] WARNING: C:\\buildkite-agent\\builds\\buildkite-windows-cpu-autoscaling-group-i-0750514818a16474a-1\\xgboost\\xgboost-ci-windows\\src\\learner.cc:742: \n",
      "Parameters: { \"objectives\", \"verbose\" } are not used.\n",
      "\n",
      "  warnings.warn(smsg, UserWarning)\n"
     ]
    },
    {
     "name": "stdout",
     "output_type": "stream",
     "text": [
      "Train set RMSE: 0.42\n",
      "Test set RMSE: 0.48\n",
      "Tested on combination ['is_weekend', 'hosp']\n"
     ]
    },
    {
     "name": "stderr",
     "output_type": "stream",
     "text": [
      "C:\\Users\\Thomas\\anaconda3\\envs\\bikes-count\\lib\\site-packages\\xgboost\\core.py:160: UserWarning: [02:25:09] WARNING: C:\\buildkite-agent\\builds\\buildkite-windows-cpu-autoscaling-group-i-0750514818a16474a-1\\xgboost\\xgboost-ci-windows\\src\\learner.cc:742: \n",
      "Parameters: { \"objectives\", \"verbose\" } are not used.\n",
      "\n",
      "  warnings.warn(smsg, UserWarning)\n"
     ]
    },
    {
     "name": "stdout",
     "output_type": "stream",
     "text": [
      "Train set RMSE: 0.42\n",
      "Test set RMSE: 0.50\n",
      "Tested on combination ['is_weekend', 'rea']\n"
     ]
    },
    {
     "name": "stderr",
     "output_type": "stream",
     "text": [
      "C:\\Users\\Thomas\\anaconda3\\envs\\bikes-count\\lib\\site-packages\\xgboost\\core.py:160: UserWarning: [02:25:15] WARNING: C:\\buildkite-agent\\builds\\buildkite-windows-cpu-autoscaling-group-i-0750514818a16474a-1\\xgboost\\xgboost-ci-windows\\src\\learner.cc:742: \n",
      "Parameters: { \"objectives\", \"verbose\" } are not used.\n",
      "\n",
      "  warnings.warn(smsg, UserWarning)\n"
     ]
    },
    {
     "name": "stdout",
     "output_type": "stream",
     "text": [
      "Train set RMSE: 0.43\n",
      "Test set RMSE: 0.49\n",
      "Tested on combination ['is_weekend', 'incid_rea']\n"
     ]
    },
    {
     "name": "stderr",
     "output_type": "stream",
     "text": [
      "C:\\Users\\Thomas\\anaconda3\\envs\\bikes-count\\lib\\site-packages\\xgboost\\core.py:160: UserWarning: [02:25:22] WARNING: C:\\buildkite-agent\\builds\\buildkite-windows-cpu-autoscaling-group-i-0750514818a16474a-1\\xgboost\\xgboost-ci-windows\\src\\learner.cc:742: \n",
      "Parameters: { \"objectives\", \"verbose\" } are not used.\n",
      "\n",
      "  warnings.warn(smsg, UserWarning)\n"
     ]
    },
    {
     "name": "stdout",
     "output_type": "stream",
     "text": [
      "Train set RMSE: 0.41\n",
      "Test set RMSE: 0.51\n",
      "Tested on combination ['is_weekend', 'rad']\n"
     ]
    },
    {
     "name": "stderr",
     "output_type": "stream",
     "text": [
      "C:\\Users\\Thomas\\anaconda3\\envs\\bikes-count\\lib\\site-packages\\xgboost\\core.py:160: UserWarning: [02:25:28] WARNING: C:\\buildkite-agent\\builds\\buildkite-windows-cpu-autoscaling-group-i-0750514818a16474a-1\\xgboost\\xgboost-ci-windows\\src\\learner.cc:742: \n",
      "Parameters: { \"objectives\", \"verbose\" } are not used.\n",
      "\n",
      "  warnings.warn(smsg, UserWarning)\n"
     ]
    },
    {
     "name": "stdout",
     "output_type": "stream",
     "text": [
      "Train set RMSE: 0.43\n",
      "Test set RMSE: 0.48\n",
      "Tested on combination ['is_weekend', 'Count_accidents']\n"
     ]
    },
    {
     "name": "stderr",
     "output_type": "stream",
     "text": [
      "C:\\Users\\Thomas\\anaconda3\\envs\\bikes-count\\lib\\site-packages\\xgboost\\core.py:160: UserWarning: [02:25:34] WARNING: C:\\buildkite-agent\\builds\\buildkite-windows-cpu-autoscaling-group-i-0750514818a16474a-1\\xgboost\\xgboost-ci-windows\\src\\learner.cc:742: \n",
      "Parameters: { \"objectives\", \"verbose\" } are not used.\n",
      "\n",
      "  warnings.warn(smsg, UserWarning)\n"
     ]
    },
    {
     "name": "stdout",
     "output_type": "stream",
     "text": [
      "Train set RMSE: 0.43\n",
      "Test set RMSE: 0.48\n",
      "Tested on combination ['is_lockdown', 'is_curfew']\n"
     ]
    },
    {
     "name": "stderr",
     "output_type": "stream",
     "text": [
      "C:\\Users\\Thomas\\anaconda3\\envs\\bikes-count\\lib\\site-packages\\xgboost\\core.py:160: UserWarning: [02:25:40] WARNING: C:\\buildkite-agent\\builds\\buildkite-windows-cpu-autoscaling-group-i-0750514818a16474a-1\\xgboost\\xgboost-ci-windows\\src\\learner.cc:742: \n",
      "Parameters: { \"objectives\", \"verbose\" } are not used.\n",
      "\n",
      "  warnings.warn(smsg, UserWarning)\n"
     ]
    },
    {
     "name": "stdout",
     "output_type": "stream",
     "text": [
      "Train set RMSE: 0.44\n",
      "Test set RMSE: 0.48\n",
      "Tested on combination ['is_lockdown', 'Max_Grav_accidents']\n"
     ]
    },
    {
     "name": "stderr",
     "output_type": "stream",
     "text": [
      "C:\\Users\\Thomas\\anaconda3\\envs\\bikes-count\\lib\\site-packages\\xgboost\\core.py:160: UserWarning: [02:25:46] WARNING: C:\\buildkite-agent\\builds\\buildkite-windows-cpu-autoscaling-group-i-0750514818a16474a-1\\xgboost\\xgboost-ci-windows\\src\\learner.cc:742: \n",
      "Parameters: { \"objectives\", \"verbose\" } are not used.\n",
      "\n",
      "  warnings.warn(smsg, UserWarning)\n"
     ]
    },
    {
     "name": "stdout",
     "output_type": "stream",
     "text": [
      "Train set RMSE: 0.42\n",
      "Test set RMSE: 0.45\n",
      "Tested on combination ['is_lockdown', 'hosp']\n",
      "best_RMSE_test updated: 0.45\n",
      "best_features_sub updated: ['is_lockdown', 'hosp']\n"
     ]
    },
    {
     "name": "stderr",
     "output_type": "stream",
     "text": [
      "C:\\Users\\Thomas\\anaconda3\\envs\\bikes-count\\lib\\site-packages\\xgboost\\core.py:160: UserWarning: [02:25:52] WARNING: C:\\buildkite-agent\\builds\\buildkite-windows-cpu-autoscaling-group-i-0750514818a16474a-1\\xgboost\\xgboost-ci-windows\\src\\learner.cc:742: \n",
      "Parameters: { \"objectives\", \"verbose\" } are not used.\n",
      "\n",
      "  warnings.warn(smsg, UserWarning)\n"
     ]
    },
    {
     "name": "stdout",
     "output_type": "stream",
     "text": [
      "Train set RMSE: 0.42\n",
      "Test set RMSE: 0.51\n",
      "Tested on combination ['is_lockdown', 'rea']\n"
     ]
    },
    {
     "name": "stderr",
     "output_type": "stream",
     "text": [
      "C:\\Users\\Thomas\\anaconda3\\envs\\bikes-count\\lib\\site-packages\\xgboost\\core.py:160: UserWarning: [02:25:58] WARNING: C:\\buildkite-agent\\builds\\buildkite-windows-cpu-autoscaling-group-i-0750514818a16474a-1\\xgboost\\xgboost-ci-windows\\src\\learner.cc:742: \n",
      "Parameters: { \"objectives\", \"verbose\" } are not used.\n",
      "\n",
      "  warnings.warn(smsg, UserWarning)\n"
     ]
    },
    {
     "name": "stdout",
     "output_type": "stream",
     "text": [
      "Train set RMSE: 0.42\n",
      "Test set RMSE: 0.49\n",
      "Tested on combination ['is_lockdown', 'incid_rea']\n"
     ]
    },
    {
     "name": "stderr",
     "output_type": "stream",
     "text": [
      "C:\\Users\\Thomas\\anaconda3\\envs\\bikes-count\\lib\\site-packages\\xgboost\\core.py:160: UserWarning: [02:26:04] WARNING: C:\\buildkite-agent\\builds\\buildkite-windows-cpu-autoscaling-group-i-0750514818a16474a-1\\xgboost\\xgboost-ci-windows\\src\\learner.cc:742: \n",
      "Parameters: { \"objectives\", \"verbose\" } are not used.\n",
      "\n",
      "  warnings.warn(smsg, UserWarning)\n"
     ]
    },
    {
     "name": "stdout",
     "output_type": "stream",
     "text": [
      "Train set RMSE: 0.41\n",
      "Test set RMSE: 0.50\n",
      "Tested on combination ['is_lockdown', 'rad']\n"
     ]
    },
    {
     "name": "stderr",
     "output_type": "stream",
     "text": [
      "C:\\Users\\Thomas\\anaconda3\\envs\\bikes-count\\lib\\site-packages\\xgboost\\core.py:160: UserWarning: [02:26:11] WARNING: C:\\buildkite-agent\\builds\\buildkite-windows-cpu-autoscaling-group-i-0750514818a16474a-1\\xgboost\\xgboost-ci-windows\\src\\learner.cc:742: \n",
      "Parameters: { \"objectives\", \"verbose\" } are not used.\n",
      "\n",
      "  warnings.warn(smsg, UserWarning)\n"
     ]
    },
    {
     "name": "stdout",
     "output_type": "stream",
     "text": [
      "Train set RMSE: 0.43\n",
      "Test set RMSE: 0.49\n",
      "Tested on combination ['is_lockdown', 'Count_accidents']\n"
     ]
    },
    {
     "name": "stderr",
     "output_type": "stream",
     "text": [
      "C:\\Users\\Thomas\\anaconda3\\envs\\bikes-count\\lib\\site-packages\\xgboost\\core.py:160: UserWarning: [02:26:16] WARNING: C:\\buildkite-agent\\builds\\buildkite-windows-cpu-autoscaling-group-i-0750514818a16474a-1\\xgboost\\xgboost-ci-windows\\src\\learner.cc:742: \n",
      "Parameters: { \"objectives\", \"verbose\" } are not used.\n",
      "\n",
      "  warnings.warn(smsg, UserWarning)\n"
     ]
    },
    {
     "name": "stdout",
     "output_type": "stream",
     "text": [
      "Train set RMSE: 0.44\n",
      "Test set RMSE: 0.48\n",
      "Tested on combination ['is_curfew', 'Max_Grav_accidents']\n"
     ]
    },
    {
     "name": "stderr",
     "output_type": "stream",
     "text": [
      "C:\\Users\\Thomas\\anaconda3\\envs\\bikes-count\\lib\\site-packages\\xgboost\\core.py:160: UserWarning: [02:26:23] WARNING: C:\\buildkite-agent\\builds\\buildkite-windows-cpu-autoscaling-group-i-0750514818a16474a-1\\xgboost\\xgboost-ci-windows\\src\\learner.cc:742: \n",
      "Parameters: { \"objectives\", \"verbose\" } are not used.\n",
      "\n",
      "  warnings.warn(smsg, UserWarning)\n"
     ]
    },
    {
     "name": "stdout",
     "output_type": "stream",
     "text": [
      "Train set RMSE: 0.42\n",
      "Test set RMSE: 0.46\n",
      "Tested on combination ['is_curfew', 'hosp']\n"
     ]
    },
    {
     "name": "stderr",
     "output_type": "stream",
     "text": [
      "C:\\Users\\Thomas\\anaconda3\\envs\\bikes-count\\lib\\site-packages\\xgboost\\core.py:160: UserWarning: [02:26:29] WARNING: C:\\buildkite-agent\\builds\\buildkite-windows-cpu-autoscaling-group-i-0750514818a16474a-1\\xgboost\\xgboost-ci-windows\\src\\learner.cc:742: \n",
      "Parameters: { \"objectives\", \"verbose\" } are not used.\n",
      "\n",
      "  warnings.warn(smsg, UserWarning)\n"
     ]
    },
    {
     "name": "stdout",
     "output_type": "stream",
     "text": [
      "Train set RMSE: 0.42\n",
      "Test set RMSE: 0.51\n",
      "Tested on combination ['is_curfew', 'rea']\n"
     ]
    },
    {
     "name": "stderr",
     "output_type": "stream",
     "text": [
      "C:\\Users\\Thomas\\anaconda3\\envs\\bikes-count\\lib\\site-packages\\xgboost\\core.py:160: UserWarning: [02:26:35] WARNING: C:\\buildkite-agent\\builds\\buildkite-windows-cpu-autoscaling-group-i-0750514818a16474a-1\\xgboost\\xgboost-ci-windows\\src\\learner.cc:742: \n",
      "Parameters: { \"objectives\", \"verbose\" } are not used.\n",
      "\n",
      "  warnings.warn(smsg, UserWarning)\n"
     ]
    },
    {
     "name": "stdout",
     "output_type": "stream",
     "text": [
      "Train set RMSE: 0.43\n",
      "Test set RMSE: 0.48\n",
      "Tested on combination ['is_curfew', 'incid_rea']\n"
     ]
    },
    {
     "name": "stderr",
     "output_type": "stream",
     "text": [
      "C:\\Users\\Thomas\\anaconda3\\envs\\bikes-count\\lib\\site-packages\\xgboost\\core.py:160: UserWarning: [02:26:41] WARNING: C:\\buildkite-agent\\builds\\buildkite-windows-cpu-autoscaling-group-i-0750514818a16474a-1\\xgboost\\xgboost-ci-windows\\src\\learner.cc:742: \n",
      "Parameters: { \"objectives\", \"verbose\" } are not used.\n",
      "\n",
      "  warnings.warn(smsg, UserWarning)\n"
     ]
    },
    {
     "name": "stdout",
     "output_type": "stream",
     "text": [
      "Train set RMSE: 0.42\n",
      "Test set RMSE: 0.50\n",
      "Tested on combination ['is_curfew', 'rad']\n"
     ]
    },
    {
     "name": "stderr",
     "output_type": "stream",
     "text": [
      "C:\\Users\\Thomas\\anaconda3\\envs\\bikes-count\\lib\\site-packages\\xgboost\\core.py:160: UserWarning: [02:26:47] WARNING: C:\\buildkite-agent\\builds\\buildkite-windows-cpu-autoscaling-group-i-0750514818a16474a-1\\xgboost\\xgboost-ci-windows\\src\\learner.cc:742: \n",
      "Parameters: { \"objectives\", \"verbose\" } are not used.\n",
      "\n",
      "  warnings.warn(smsg, UserWarning)\n"
     ]
    },
    {
     "name": "stdout",
     "output_type": "stream",
     "text": [
      "Train set RMSE: 0.44\n",
      "Test set RMSE: 0.48\n",
      "Tested on combination ['is_curfew', 'Count_accidents']\n"
     ]
    },
    {
     "name": "stderr",
     "output_type": "stream",
     "text": [
      "C:\\Users\\Thomas\\anaconda3\\envs\\bikes-count\\lib\\site-packages\\xgboost\\core.py:160: UserWarning: [02:26:53] WARNING: C:\\buildkite-agent\\builds\\buildkite-windows-cpu-autoscaling-group-i-0750514818a16474a-1\\xgboost\\xgboost-ci-windows\\src\\learner.cc:742: \n",
      "Parameters: { \"objectives\", \"verbose\" } are not used.\n",
      "\n",
      "  warnings.warn(smsg, UserWarning)\n"
     ]
    },
    {
     "name": "stdout",
     "output_type": "stream",
     "text": [
      "Train set RMSE: 0.42\n",
      "Test set RMSE: 0.48\n",
      "Tested on combination ['Max_Grav_accidents', 'hosp']\n"
     ]
    },
    {
     "name": "stderr",
     "output_type": "stream",
     "text": [
      "C:\\Users\\Thomas\\anaconda3\\envs\\bikes-count\\lib\\site-packages\\xgboost\\core.py:160: UserWarning: [02:26:59] WARNING: C:\\buildkite-agent\\builds\\buildkite-windows-cpu-autoscaling-group-i-0750514818a16474a-1\\xgboost\\xgboost-ci-windows\\src\\learner.cc:742: \n",
      "Parameters: { \"objectives\", \"verbose\" } are not used.\n",
      "\n",
      "  warnings.warn(smsg, UserWarning)\n"
     ]
    },
    {
     "name": "stdout",
     "output_type": "stream",
     "text": [
      "Train set RMSE: 0.42\n",
      "Test set RMSE: 0.48\n",
      "Tested on combination ['Max_Grav_accidents', 'rea']\n"
     ]
    },
    {
     "name": "stderr",
     "output_type": "stream",
     "text": [
      "C:\\Users\\Thomas\\anaconda3\\envs\\bikes-count\\lib\\site-packages\\xgboost\\core.py:160: UserWarning: [02:27:05] WARNING: C:\\buildkite-agent\\builds\\buildkite-windows-cpu-autoscaling-group-i-0750514818a16474a-1\\xgboost\\xgboost-ci-windows\\src\\learner.cc:742: \n",
      "Parameters: { \"objectives\", \"verbose\" } are not used.\n",
      "\n",
      "  warnings.warn(smsg, UserWarning)\n"
     ]
    },
    {
     "name": "stdout",
     "output_type": "stream",
     "text": [
      "Train set RMSE: 0.42\n",
      "Test set RMSE: 0.50\n",
      "Tested on combination ['Max_Grav_accidents', 'incid_rea']\n"
     ]
    },
    {
     "name": "stderr",
     "output_type": "stream",
     "text": [
      "C:\\Users\\Thomas\\anaconda3\\envs\\bikes-count\\lib\\site-packages\\xgboost\\core.py:160: UserWarning: [02:27:11] WARNING: C:\\buildkite-agent\\builds\\buildkite-windows-cpu-autoscaling-group-i-0750514818a16474a-1\\xgboost\\xgboost-ci-windows\\src\\learner.cc:742: \n",
      "Parameters: { \"objectives\", \"verbose\" } are not used.\n",
      "\n",
      "  warnings.warn(smsg, UserWarning)\n"
     ]
    },
    {
     "name": "stdout",
     "output_type": "stream",
     "text": [
      "Train set RMSE: 0.42\n",
      "Test set RMSE: 0.51\n",
      "Tested on combination ['Max_Grav_accidents', 'rad']\n"
     ]
    },
    {
     "name": "stderr",
     "output_type": "stream",
     "text": [
      "C:\\Users\\Thomas\\anaconda3\\envs\\bikes-count\\lib\\site-packages\\xgboost\\core.py:160: UserWarning: [02:27:17] WARNING: C:\\buildkite-agent\\builds\\buildkite-windows-cpu-autoscaling-group-i-0750514818a16474a-1\\xgboost\\xgboost-ci-windows\\src\\learner.cc:742: \n",
      "Parameters: { \"objectives\", \"verbose\" } are not used.\n",
      "\n",
      "  warnings.warn(smsg, UserWarning)\n"
     ]
    },
    {
     "name": "stdout",
     "output_type": "stream",
     "text": [
      "Train set RMSE: 0.44\n",
      "Test set RMSE: 0.50\n",
      "Tested on combination ['Max_Grav_accidents', 'Count_accidents']\n"
     ]
    },
    {
     "name": "stderr",
     "output_type": "stream",
     "text": [
      "C:\\Users\\Thomas\\anaconda3\\envs\\bikes-count\\lib\\site-packages\\xgboost\\core.py:160: UserWarning: [02:27:23] WARNING: C:\\buildkite-agent\\builds\\buildkite-windows-cpu-autoscaling-group-i-0750514818a16474a-1\\xgboost\\xgboost-ci-windows\\src\\learner.cc:742: \n",
      "Parameters: { \"objectives\", \"verbose\" } are not used.\n",
      "\n",
      "  warnings.warn(smsg, UserWarning)\n"
     ]
    },
    {
     "name": "stdout",
     "output_type": "stream",
     "text": [
      "Train set RMSE: 0.42\n",
      "Test set RMSE: 0.48\n",
      "Tested on combination ['hosp', 'rea']\n"
     ]
    },
    {
     "name": "stderr",
     "output_type": "stream",
     "text": [
      "C:\\Users\\Thomas\\anaconda3\\envs\\bikes-count\\lib\\site-packages\\xgboost\\core.py:160: UserWarning: [02:27:30] WARNING: C:\\buildkite-agent\\builds\\buildkite-windows-cpu-autoscaling-group-i-0750514818a16474a-1\\xgboost\\xgboost-ci-windows\\src\\learner.cc:742: \n",
      "Parameters: { \"objectives\", \"verbose\" } are not used.\n",
      "\n",
      "  warnings.warn(smsg, UserWarning)\n"
     ]
    },
    {
     "name": "stdout",
     "output_type": "stream",
     "text": [
      "Train set RMSE: 0.42\n",
      "Test set RMSE: 0.47\n",
      "Tested on combination ['hosp', 'incid_rea']\n"
     ]
    },
    {
     "name": "stderr",
     "output_type": "stream",
     "text": [
      "C:\\Users\\Thomas\\anaconda3\\envs\\bikes-count\\lib\\site-packages\\xgboost\\core.py:160: UserWarning: [02:27:36] WARNING: C:\\buildkite-agent\\builds\\buildkite-windows-cpu-autoscaling-group-i-0750514818a16474a-1\\xgboost\\xgboost-ci-windows\\src\\learner.cc:742: \n",
      "Parameters: { \"objectives\", \"verbose\" } are not used.\n",
      "\n",
      "  warnings.warn(smsg, UserWarning)\n"
     ]
    },
    {
     "name": "stdout",
     "output_type": "stream",
     "text": [
      "Train set RMSE: 0.42\n",
      "Test set RMSE: 0.48\n",
      "Tested on combination ['hosp', 'rad']\n"
     ]
    },
    {
     "name": "stderr",
     "output_type": "stream",
     "text": [
      "C:\\Users\\Thomas\\anaconda3\\envs\\bikes-count\\lib\\site-packages\\xgboost\\core.py:160: UserWarning: [02:27:42] WARNING: C:\\buildkite-agent\\builds\\buildkite-windows-cpu-autoscaling-group-i-0750514818a16474a-1\\xgboost\\xgboost-ci-windows\\src\\learner.cc:742: \n",
      "Parameters: { \"objectives\", \"verbose\" } are not used.\n",
      "\n",
      "  warnings.warn(smsg, UserWarning)\n"
     ]
    },
    {
     "name": "stdout",
     "output_type": "stream",
     "text": [
      "Train set RMSE: 0.42\n",
      "Test set RMSE: 0.45\n",
      "Tested on combination ['hosp', 'Count_accidents']\n",
      "best_RMSE_test updated: 0.45\n",
      "best_features_sub updated: ['hosp', 'Count_accidents']\n"
     ]
    },
    {
     "name": "stderr",
     "output_type": "stream",
     "text": [
      "C:\\Users\\Thomas\\anaconda3\\envs\\bikes-count\\lib\\site-packages\\xgboost\\core.py:160: UserWarning: [02:27:48] WARNING: C:\\buildkite-agent\\builds\\buildkite-windows-cpu-autoscaling-group-i-0750514818a16474a-1\\xgboost\\xgboost-ci-windows\\src\\learner.cc:742: \n",
      "Parameters: { \"objectives\", \"verbose\" } are not used.\n",
      "\n",
      "  warnings.warn(smsg, UserWarning)\n"
     ]
    },
    {
     "name": "stdout",
     "output_type": "stream",
     "text": [
      "Train set RMSE: 0.42\n",
      "Test set RMSE: 0.49\n",
      "Tested on combination ['rea', 'incid_rea']\n"
     ]
    },
    {
     "name": "stderr",
     "output_type": "stream",
     "text": [
      "C:\\Users\\Thomas\\anaconda3\\envs\\bikes-count\\lib\\site-packages\\xgboost\\core.py:160: UserWarning: [02:27:54] WARNING: C:\\buildkite-agent\\builds\\buildkite-windows-cpu-autoscaling-group-i-0750514818a16474a-1\\xgboost\\xgboost-ci-windows\\src\\learner.cc:742: \n",
      "Parameters: { \"objectives\", \"verbose\" } are not used.\n",
      "\n",
      "  warnings.warn(smsg, UserWarning)\n"
     ]
    },
    {
     "name": "stdout",
     "output_type": "stream",
     "text": [
      "Train set RMSE: 0.41\n",
      "Test set RMSE: 0.52\n",
      "Tested on combination ['rea', 'rad']\n"
     ]
    },
    {
     "name": "stderr",
     "output_type": "stream",
     "text": [
      "C:\\Users\\Thomas\\anaconda3\\envs\\bikes-count\\lib\\site-packages\\xgboost\\core.py:160: UserWarning: [02:28:00] WARNING: C:\\buildkite-agent\\builds\\buildkite-windows-cpu-autoscaling-group-i-0750514818a16474a-1\\xgboost\\xgboost-ci-windows\\src\\learner.cc:742: \n",
      "Parameters: { \"objectives\", \"verbose\" } are not used.\n",
      "\n",
      "  warnings.warn(smsg, UserWarning)\n"
     ]
    },
    {
     "name": "stdout",
     "output_type": "stream",
     "text": [
      "Train set RMSE: 0.42\n",
      "Test set RMSE: 0.50\n",
      "Tested on combination ['rea', 'Count_accidents']\n"
     ]
    },
    {
     "name": "stderr",
     "output_type": "stream",
     "text": [
      "C:\\Users\\Thomas\\anaconda3\\envs\\bikes-count\\lib\\site-packages\\xgboost\\core.py:160: UserWarning: [02:28:06] WARNING: C:\\buildkite-agent\\builds\\buildkite-windows-cpu-autoscaling-group-i-0750514818a16474a-1\\xgboost\\xgboost-ci-windows\\src\\learner.cc:742: \n",
      "Parameters: { \"objectives\", \"verbose\" } are not used.\n",
      "\n",
      "  warnings.warn(smsg, UserWarning)\n"
     ]
    },
    {
     "name": "stdout",
     "output_type": "stream",
     "text": [
      "Train set RMSE: 0.41\n",
      "Test set RMSE: 0.51\n",
      "Tested on combination ['incid_rea', 'rad']\n"
     ]
    },
    {
     "name": "stderr",
     "output_type": "stream",
     "text": [
      "C:\\Users\\Thomas\\anaconda3\\envs\\bikes-count\\lib\\site-packages\\xgboost\\core.py:160: UserWarning: [02:28:12] WARNING: C:\\buildkite-agent\\builds\\buildkite-windows-cpu-autoscaling-group-i-0750514818a16474a-1\\xgboost\\xgboost-ci-windows\\src\\learner.cc:742: \n",
      "Parameters: { \"objectives\", \"verbose\" } are not used.\n",
      "\n",
      "  warnings.warn(smsg, UserWarning)\n"
     ]
    },
    {
     "name": "stdout",
     "output_type": "stream",
     "text": [
      "Train set RMSE: 0.43\n",
      "Test set RMSE: 0.50\n",
      "Tested on combination ['incid_rea', 'Count_accidents']\n"
     ]
    },
    {
     "name": "stderr",
     "output_type": "stream",
     "text": [
      "C:\\Users\\Thomas\\anaconda3\\envs\\bikes-count\\lib\\site-packages\\xgboost\\core.py:160: UserWarning: [02:28:18] WARNING: C:\\buildkite-agent\\builds\\buildkite-windows-cpu-autoscaling-group-i-0750514818a16474a-1\\xgboost\\xgboost-ci-windows\\src\\learner.cc:742: \n",
      "Parameters: { \"objectives\", \"verbose\" } are not used.\n",
      "\n",
      "  warnings.warn(smsg, UserWarning)\n"
     ]
    },
    {
     "name": "stdout",
     "output_type": "stream",
     "text": [
      "Train set RMSE: 0.42\n",
      "Test set RMSE: 0.51\n",
      "Tested on combination ['rad', 'Count_accidents']\n"
     ]
    },
    {
     "name": "stderr",
     "output_type": "stream",
     "text": [
      "C:\\Users\\Thomas\\anaconda3\\envs\\bikes-count\\lib\\site-packages\\xgboost\\core.py:160: UserWarning: [02:28:24] WARNING: C:\\buildkite-agent\\builds\\buildkite-windows-cpu-autoscaling-group-i-0750514818a16474a-1\\xgboost\\xgboost-ci-windows\\src\\learner.cc:742: \n",
      "Parameters: { \"objectives\", \"verbose\" } are not used.\n",
      "\n",
      "  warnings.warn(smsg, UserWarning)\n"
     ]
    },
    {
     "name": "stdout",
     "output_type": "stream",
     "text": [
      "Train set RMSE: 0.43\n",
      "Test set RMSE: 0.50\n",
      "Tested on combination ['is_holiday', 'is_weekend', 'is_lockdown']\n"
     ]
    },
    {
     "name": "stderr",
     "output_type": "stream",
     "text": [
      "C:\\Users\\Thomas\\anaconda3\\envs\\bikes-count\\lib\\site-packages\\xgboost\\core.py:160: UserWarning: [02:28:31] WARNING: C:\\buildkite-agent\\builds\\buildkite-windows-cpu-autoscaling-group-i-0750514818a16474a-1\\xgboost\\xgboost-ci-windows\\src\\learner.cc:742: \n",
      "Parameters: { \"objectives\", \"verbose\" } are not used.\n",
      "\n",
      "  warnings.warn(smsg, UserWarning)\n"
     ]
    },
    {
     "name": "stdout",
     "output_type": "stream",
     "text": [
      "Train set RMSE: 0.43\n",
      "Test set RMSE: 0.50\n",
      "Tested on combination ['is_holiday', 'is_weekend', 'is_curfew']\n"
     ]
    },
    {
     "name": "stderr",
     "output_type": "stream",
     "text": [
      "C:\\Users\\Thomas\\anaconda3\\envs\\bikes-count\\lib\\site-packages\\xgboost\\core.py:160: UserWarning: [02:28:37] WARNING: C:\\buildkite-agent\\builds\\buildkite-windows-cpu-autoscaling-group-i-0750514818a16474a-1\\xgboost\\xgboost-ci-windows\\src\\learner.cc:742: \n",
      "Parameters: { \"objectives\", \"verbose\" } are not used.\n",
      "\n",
      "  warnings.warn(smsg, UserWarning)\n"
     ]
    },
    {
     "name": "stdout",
     "output_type": "stream",
     "text": [
      "Train set RMSE: 0.43\n",
      "Test set RMSE: 0.48\n",
      "Tested on combination ['is_holiday', 'is_weekend', 'Max_Grav_accidents']\n"
     ]
    },
    {
     "name": "stderr",
     "output_type": "stream",
     "text": [
      "C:\\Users\\Thomas\\anaconda3\\envs\\bikes-count\\lib\\site-packages\\xgboost\\core.py:160: UserWarning: [02:28:43] WARNING: C:\\buildkite-agent\\builds\\buildkite-windows-cpu-autoscaling-group-i-0750514818a16474a-1\\xgboost\\xgboost-ci-windows\\src\\learner.cc:742: \n",
      "Parameters: { \"objectives\", \"verbose\" } are not used.\n",
      "\n",
      "  warnings.warn(smsg, UserWarning)\n"
     ]
    },
    {
     "name": "stdout",
     "output_type": "stream",
     "text": [
      "Train set RMSE: 0.42\n",
      "Test set RMSE: 0.46\n",
      "Tested on combination ['is_holiday', 'is_weekend', 'hosp']\n"
     ]
    },
    {
     "name": "stderr",
     "output_type": "stream",
     "text": [
      "C:\\Users\\Thomas\\anaconda3\\envs\\bikes-count\\lib\\site-packages\\xgboost\\core.py:160: UserWarning: [02:28:50] WARNING: C:\\buildkite-agent\\builds\\buildkite-windows-cpu-autoscaling-group-i-0750514818a16474a-1\\xgboost\\xgboost-ci-windows\\src\\learner.cc:742: \n",
      "Parameters: { \"objectives\", \"verbose\" } are not used.\n",
      "\n",
      "  warnings.warn(smsg, UserWarning)\n"
     ]
    },
    {
     "name": "stdout",
     "output_type": "stream",
     "text": [
      "Train set RMSE: 0.42\n",
      "Test set RMSE: 0.50\n",
      "Tested on combination ['is_holiday', 'is_weekend', 'rea']\n"
     ]
    },
    {
     "name": "stderr",
     "output_type": "stream",
     "text": [
      "C:\\Users\\Thomas\\anaconda3\\envs\\bikes-count\\lib\\site-packages\\xgboost\\core.py:160: UserWarning: [02:28:56] WARNING: C:\\buildkite-agent\\builds\\buildkite-windows-cpu-autoscaling-group-i-0750514818a16474a-1\\xgboost\\xgboost-ci-windows\\src\\learner.cc:742: \n",
      "Parameters: { \"objectives\", \"verbose\" } are not used.\n",
      "\n",
      "  warnings.warn(smsg, UserWarning)\n"
     ]
    },
    {
     "name": "stdout",
     "output_type": "stream",
     "text": [
      "Train set RMSE: 0.43\n",
      "Test set RMSE: 0.50\n",
      "Tested on combination ['is_holiday', 'is_weekend', 'incid_rea']\n"
     ]
    },
    {
     "name": "stderr",
     "output_type": "stream",
     "text": [
      "C:\\Users\\Thomas\\anaconda3\\envs\\bikes-count\\lib\\site-packages\\xgboost\\core.py:160: UserWarning: [02:29:03] WARNING: C:\\buildkite-agent\\builds\\buildkite-windows-cpu-autoscaling-group-i-0750514818a16474a-1\\xgboost\\xgboost-ci-windows\\src\\learner.cc:742: \n",
      "Parameters: { \"objectives\", \"verbose\" } are not used.\n",
      "\n",
      "  warnings.warn(smsg, UserWarning)\n"
     ]
    },
    {
     "name": "stdout",
     "output_type": "stream",
     "text": [
      "Train set RMSE: 0.41\n",
      "Test set RMSE: 0.51\n",
      "Tested on combination ['is_holiday', 'is_weekend', 'rad']\n"
     ]
    },
    {
     "name": "stderr",
     "output_type": "stream",
     "text": [
      "C:\\Users\\Thomas\\anaconda3\\envs\\bikes-count\\lib\\site-packages\\xgboost\\core.py:160: UserWarning: [02:29:09] WARNING: C:\\buildkite-agent\\builds\\buildkite-windows-cpu-autoscaling-group-i-0750514818a16474a-1\\xgboost\\xgboost-ci-windows\\src\\learner.cc:742: \n",
      "Parameters: { \"objectives\", \"verbose\" } are not used.\n",
      "\n",
      "  warnings.warn(smsg, UserWarning)\n"
     ]
    },
    {
     "name": "stdout",
     "output_type": "stream",
     "text": [
      "Train set RMSE: 0.43\n",
      "Test set RMSE: 0.49\n",
      "Tested on combination ['is_holiday', 'is_weekend', 'Count_accidents']\n"
     ]
    },
    {
     "name": "stderr",
     "output_type": "stream",
     "text": [
      "C:\\Users\\Thomas\\anaconda3\\envs\\bikes-count\\lib\\site-packages\\xgboost\\core.py:160: UserWarning: [02:29:15] WARNING: C:\\buildkite-agent\\builds\\buildkite-windows-cpu-autoscaling-group-i-0750514818a16474a-1\\xgboost\\xgboost-ci-windows\\src\\learner.cc:742: \n",
      "Parameters: { \"objectives\", \"verbose\" } are not used.\n",
      "\n",
      "  warnings.warn(smsg, UserWarning)\n"
     ]
    },
    {
     "name": "stdout",
     "output_type": "stream",
     "text": [
      "Train set RMSE: 0.43\n",
      "Test set RMSE: 0.50\n",
      "Tested on combination ['is_holiday', 'is_lockdown', 'is_curfew']\n"
     ]
    },
    {
     "name": "stderr",
     "output_type": "stream",
     "text": [
      "C:\\Users\\Thomas\\anaconda3\\envs\\bikes-count\\lib\\site-packages\\xgboost\\core.py:160: UserWarning: [02:29:22] WARNING: C:\\buildkite-agent\\builds\\buildkite-windows-cpu-autoscaling-group-i-0750514818a16474a-1\\xgboost\\xgboost-ci-windows\\src\\learner.cc:742: \n",
      "Parameters: { \"objectives\", \"verbose\" } are not used.\n",
      "\n",
      "  warnings.warn(smsg, UserWarning)\n"
     ]
    },
    {
     "name": "stdout",
     "output_type": "stream",
     "text": [
      "Train set RMSE: 0.43\n",
      "Test set RMSE: 0.48\n",
      "Tested on combination ['is_holiday', 'is_lockdown', 'Max_Grav_accidents']\n"
     ]
    },
    {
     "name": "stderr",
     "output_type": "stream",
     "text": [
      "C:\\Users\\Thomas\\anaconda3\\envs\\bikes-count\\lib\\site-packages\\xgboost\\core.py:160: UserWarning: [02:29:28] WARNING: C:\\buildkite-agent\\builds\\buildkite-windows-cpu-autoscaling-group-i-0750514818a16474a-1\\xgboost\\xgboost-ci-windows\\src\\learner.cc:742: \n",
      "Parameters: { \"objectives\", \"verbose\" } are not used.\n",
      "\n",
      "  warnings.warn(smsg, UserWarning)\n"
     ]
    },
    {
     "name": "stdout",
     "output_type": "stream",
     "text": [
      "Train set RMSE: 0.41\n",
      "Test set RMSE: 0.45\n",
      "Tested on combination ['is_holiday', 'is_lockdown', 'hosp']\n",
      "best_RMSE_test updated: 0.45\n",
      "best_features_sub updated: ['is_holiday', 'is_lockdown', 'hosp']\n"
     ]
    },
    {
     "name": "stderr",
     "output_type": "stream",
     "text": [
      "C:\\Users\\Thomas\\anaconda3\\envs\\bikes-count\\lib\\site-packages\\xgboost\\core.py:160: UserWarning: [02:29:34] WARNING: C:\\buildkite-agent\\builds\\buildkite-windows-cpu-autoscaling-group-i-0750514818a16474a-1\\xgboost\\xgboost-ci-windows\\src\\learner.cc:742: \n",
      "Parameters: { \"objectives\", \"verbose\" } are not used.\n",
      "\n",
      "  warnings.warn(smsg, UserWarning)\n"
     ]
    },
    {
     "name": "stdout",
     "output_type": "stream",
     "text": [
      "Train set RMSE: 0.42\n",
      "Test set RMSE: 0.50\n",
      "Tested on combination ['is_holiday', 'is_lockdown', 'rea']\n"
     ]
    },
    {
     "name": "stderr",
     "output_type": "stream",
     "text": [
      "C:\\Users\\Thomas\\anaconda3\\envs\\bikes-count\\lib\\site-packages\\xgboost\\core.py:160: UserWarning: [02:29:40] WARNING: C:\\buildkite-agent\\builds\\buildkite-windows-cpu-autoscaling-group-i-0750514818a16474a-1\\xgboost\\xgboost-ci-windows\\src\\learner.cc:742: \n",
      "Parameters: { \"objectives\", \"verbose\" } are not used.\n",
      "\n",
      "  warnings.warn(smsg, UserWarning)\n"
     ]
    },
    {
     "name": "stdout",
     "output_type": "stream",
     "text": [
      "Train set RMSE: 0.43\n",
      "Test set RMSE: 0.49\n",
      "Tested on combination ['is_holiday', 'is_lockdown', 'incid_rea']\n"
     ]
    },
    {
     "name": "stderr",
     "output_type": "stream",
     "text": [
      "C:\\Users\\Thomas\\anaconda3\\envs\\bikes-count\\lib\\site-packages\\xgboost\\core.py:160: UserWarning: [02:29:47] WARNING: C:\\buildkite-agent\\builds\\buildkite-windows-cpu-autoscaling-group-i-0750514818a16474a-1\\xgboost\\xgboost-ci-windows\\src\\learner.cc:742: \n",
      "Parameters: { \"objectives\", \"verbose\" } are not used.\n",
      "\n",
      "  warnings.warn(smsg, UserWarning)\n"
     ]
    },
    {
     "name": "stdout",
     "output_type": "stream",
     "text": [
      "Train set RMSE: 0.41\n",
      "Test set RMSE: 0.51\n",
      "Tested on combination ['is_holiday', 'is_lockdown', 'rad']\n"
     ]
    },
    {
     "name": "stderr",
     "output_type": "stream",
     "text": [
      "C:\\Users\\Thomas\\anaconda3\\envs\\bikes-count\\lib\\site-packages\\xgboost\\core.py:160: UserWarning: [02:29:53] WARNING: C:\\buildkite-agent\\builds\\buildkite-windows-cpu-autoscaling-group-i-0750514818a16474a-1\\xgboost\\xgboost-ci-windows\\src\\learner.cc:742: \n",
      "Parameters: { \"objectives\", \"verbose\" } are not used.\n",
      "\n",
      "  warnings.warn(smsg, UserWarning)\n"
     ]
    },
    {
     "name": "stdout",
     "output_type": "stream",
     "text": [
      "Train set RMSE: 0.43\n",
      "Test set RMSE: 0.49\n",
      "Tested on combination ['is_holiday', 'is_lockdown', 'Count_accidents']\n"
     ]
    },
    {
     "name": "stderr",
     "output_type": "stream",
     "text": [
      "C:\\Users\\Thomas\\anaconda3\\envs\\bikes-count\\lib\\site-packages\\xgboost\\core.py:160: UserWarning: [02:29:59] WARNING: C:\\buildkite-agent\\builds\\buildkite-windows-cpu-autoscaling-group-i-0750514818a16474a-1\\xgboost\\xgboost-ci-windows\\src\\learner.cc:742: \n",
      "Parameters: { \"objectives\", \"verbose\" } are not used.\n",
      "\n",
      "  warnings.warn(smsg, UserWarning)\n"
     ]
    },
    {
     "name": "stdout",
     "output_type": "stream",
     "text": [
      "Train set RMSE: 0.43\n",
      "Test set RMSE: 0.49\n",
      "Tested on combination ['is_holiday', 'is_curfew', 'Max_Grav_accidents']\n"
     ]
    },
    {
     "name": "stderr",
     "output_type": "stream",
     "text": [
      "C:\\Users\\Thomas\\anaconda3\\envs\\bikes-count\\lib\\site-packages\\xgboost\\core.py:160: UserWarning: [02:30:05] WARNING: C:\\buildkite-agent\\builds\\buildkite-windows-cpu-autoscaling-group-i-0750514818a16474a-1\\xgboost\\xgboost-ci-windows\\src\\learner.cc:742: \n",
      "Parameters: { \"objectives\", \"verbose\" } are not used.\n",
      "\n",
      "  warnings.warn(smsg, UserWarning)\n"
     ]
    },
    {
     "name": "stdout",
     "output_type": "stream",
     "text": [
      "Train set RMSE: 0.42\n",
      "Test set RMSE: 0.47\n",
      "Tested on combination ['is_holiday', 'is_curfew', 'hosp']\n"
     ]
    },
    {
     "name": "stderr",
     "output_type": "stream",
     "text": [
      "C:\\Users\\Thomas\\anaconda3\\envs\\bikes-count\\lib\\site-packages\\xgboost\\core.py:160: UserWarning: [02:30:12] WARNING: C:\\buildkite-agent\\builds\\buildkite-windows-cpu-autoscaling-group-i-0750514818a16474a-1\\xgboost\\xgboost-ci-windows\\src\\learner.cc:742: \n",
      "Parameters: { \"objectives\", \"verbose\" } are not used.\n",
      "\n",
      "  warnings.warn(smsg, UserWarning)\n"
     ]
    },
    {
     "name": "stdout",
     "output_type": "stream",
     "text": [
      "Train set RMSE: 0.42\n",
      "Test set RMSE: 0.49\n",
      "Tested on combination ['is_holiday', 'is_curfew', 'rea']\n"
     ]
    },
    {
     "name": "stderr",
     "output_type": "stream",
     "text": [
      "C:\\Users\\Thomas\\anaconda3\\envs\\bikes-count\\lib\\site-packages\\xgboost\\core.py:160: UserWarning: [02:30:18] WARNING: C:\\buildkite-agent\\builds\\buildkite-windows-cpu-autoscaling-group-i-0750514818a16474a-1\\xgboost\\xgboost-ci-windows\\src\\learner.cc:742: \n",
      "Parameters: { \"objectives\", \"verbose\" } are not used.\n",
      "\n",
      "  warnings.warn(smsg, UserWarning)\n"
     ]
    },
    {
     "name": "stdout",
     "output_type": "stream",
     "text": [
      "Train set RMSE: 0.43\n",
      "Test set RMSE: 0.49\n",
      "Tested on combination ['is_holiday', 'is_curfew', 'incid_rea']\n"
     ]
    },
    {
     "name": "stderr",
     "output_type": "stream",
     "text": [
      "C:\\Users\\Thomas\\anaconda3\\envs\\bikes-count\\lib\\site-packages\\xgboost\\core.py:160: UserWarning: [02:30:24] WARNING: C:\\buildkite-agent\\builds\\buildkite-windows-cpu-autoscaling-group-i-0750514818a16474a-1\\xgboost\\xgboost-ci-windows\\src\\learner.cc:742: \n",
      "Parameters: { \"objectives\", \"verbose\" } are not used.\n",
      "\n",
      "  warnings.warn(smsg, UserWarning)\n"
     ]
    },
    {
     "name": "stdout",
     "output_type": "stream",
     "text": [
      "Train set RMSE: 0.41\n",
      "Test set RMSE: 0.50\n",
      "Tested on combination ['is_holiday', 'is_curfew', 'rad']\n"
     ]
    },
    {
     "name": "stderr",
     "output_type": "stream",
     "text": [
      "C:\\Users\\Thomas\\anaconda3\\envs\\bikes-count\\lib\\site-packages\\xgboost\\core.py:160: UserWarning: [02:30:30] WARNING: C:\\buildkite-agent\\builds\\buildkite-windows-cpu-autoscaling-group-i-0750514818a16474a-1\\xgboost\\xgboost-ci-windows\\src\\learner.cc:742: \n",
      "Parameters: { \"objectives\", \"verbose\" } are not used.\n",
      "\n",
      "  warnings.warn(smsg, UserWarning)\n"
     ]
    },
    {
     "name": "stdout",
     "output_type": "stream",
     "text": [
      "Train set RMSE: 0.43\n",
      "Test set RMSE: 0.48\n",
      "Tested on combination ['is_holiday', 'is_curfew', 'Count_accidents']\n"
     ]
    },
    {
     "name": "stderr",
     "output_type": "stream",
     "text": [
      "C:\\Users\\Thomas\\anaconda3\\envs\\bikes-count\\lib\\site-packages\\xgboost\\core.py:160: UserWarning: [02:30:37] WARNING: C:\\buildkite-agent\\builds\\buildkite-windows-cpu-autoscaling-group-i-0750514818a16474a-1\\xgboost\\xgboost-ci-windows\\src\\learner.cc:742: \n",
      "Parameters: { \"objectives\", \"verbose\" } are not used.\n",
      "\n",
      "  warnings.warn(smsg, UserWarning)\n"
     ]
    },
    {
     "name": "stdout",
     "output_type": "stream",
     "text": [
      "Train set RMSE: 0.41\n",
      "Test set RMSE: 0.48\n",
      "Tested on combination ['is_holiday', 'Max_Grav_accidents', 'hosp']\n"
     ]
    },
    {
     "name": "stderr",
     "output_type": "stream",
     "text": [
      "C:\\Users\\Thomas\\anaconda3\\envs\\bikes-count\\lib\\site-packages\\xgboost\\core.py:160: UserWarning: [02:30:43] WARNING: C:\\buildkite-agent\\builds\\buildkite-windows-cpu-autoscaling-group-i-0750514818a16474a-1\\xgboost\\xgboost-ci-windows\\src\\learner.cc:742: \n",
      "Parameters: { \"objectives\", \"verbose\" } are not used.\n",
      "\n",
      "  warnings.warn(smsg, UserWarning)\n"
     ]
    },
    {
     "name": "stdout",
     "output_type": "stream",
     "text": [
      "Train set RMSE: 0.42\n",
      "Test set RMSE: 0.50\n",
      "Tested on combination ['is_holiday', 'Max_Grav_accidents', 'rea']\n"
     ]
    },
    {
     "name": "stderr",
     "output_type": "stream",
     "text": [
      "C:\\Users\\Thomas\\anaconda3\\envs\\bikes-count\\lib\\site-packages\\xgboost\\core.py:160: UserWarning: [02:30:49] WARNING: C:\\buildkite-agent\\builds\\buildkite-windows-cpu-autoscaling-group-i-0750514818a16474a-1\\xgboost\\xgboost-ci-windows\\src\\learner.cc:742: \n",
      "Parameters: { \"objectives\", \"verbose\" } are not used.\n",
      "\n",
      "  warnings.warn(smsg, UserWarning)\n"
     ]
    },
    {
     "name": "stdout",
     "output_type": "stream",
     "text": [
      "Train set RMSE: 0.43\n",
      "Test set RMSE: 0.49\n",
      "Tested on combination ['is_holiday', 'Max_Grav_accidents', 'incid_rea']\n"
     ]
    },
    {
     "name": "stderr",
     "output_type": "stream",
     "text": [
      "C:\\Users\\Thomas\\anaconda3\\envs\\bikes-count\\lib\\site-packages\\xgboost\\core.py:160: UserWarning: [02:30:55] WARNING: C:\\buildkite-agent\\builds\\buildkite-windows-cpu-autoscaling-group-i-0750514818a16474a-1\\xgboost\\xgboost-ci-windows\\src\\learner.cc:742: \n",
      "Parameters: { \"objectives\", \"verbose\" } are not used.\n",
      "\n",
      "  warnings.warn(smsg, UserWarning)\n"
     ]
    },
    {
     "name": "stdout",
     "output_type": "stream",
     "text": [
      "Train set RMSE: 0.41\n",
      "Test set RMSE: 0.51\n",
      "Tested on combination ['is_holiday', 'Max_Grav_accidents', 'rad']\n"
     ]
    },
    {
     "name": "stderr",
     "output_type": "stream",
     "text": [
      "C:\\Users\\Thomas\\anaconda3\\envs\\bikes-count\\lib\\site-packages\\xgboost\\core.py:160: UserWarning: [02:31:01] WARNING: C:\\buildkite-agent\\builds\\buildkite-windows-cpu-autoscaling-group-i-0750514818a16474a-1\\xgboost\\xgboost-ci-windows\\src\\learner.cc:742: \n",
      "Parameters: { \"objectives\", \"verbose\" } are not used.\n",
      "\n",
      "  warnings.warn(smsg, UserWarning)\n"
     ]
    },
    {
     "name": "stdout",
     "output_type": "stream",
     "text": [
      "Train set RMSE: 0.43\n",
      "Test set RMSE: 0.49\n",
      "Tested on combination ['is_holiday', 'Max_Grav_accidents', 'Count_accidents']\n"
     ]
    },
    {
     "name": "stderr",
     "output_type": "stream",
     "text": [
      "C:\\Users\\Thomas\\anaconda3\\envs\\bikes-count\\lib\\site-packages\\xgboost\\core.py:160: UserWarning: [02:31:07] WARNING: C:\\buildkite-agent\\builds\\buildkite-windows-cpu-autoscaling-group-i-0750514818a16474a-1\\xgboost\\xgboost-ci-windows\\src\\learner.cc:742: \n",
      "Parameters: { \"objectives\", \"verbose\" } are not used.\n",
      "\n",
      "  warnings.warn(smsg, UserWarning)\n"
     ]
    },
    {
     "name": "stdout",
     "output_type": "stream",
     "text": [
      "Train set RMSE: 0.42\n",
      "Test set RMSE: 0.50\n",
      "Tested on combination ['is_holiday', 'hosp', 'rea']\n"
     ]
    },
    {
     "name": "stderr",
     "output_type": "stream",
     "text": [
      "C:\\Users\\Thomas\\anaconda3\\envs\\bikes-count\\lib\\site-packages\\xgboost\\core.py:160: UserWarning: [02:31:14] WARNING: C:\\buildkite-agent\\builds\\buildkite-windows-cpu-autoscaling-group-i-0750514818a16474a-1\\xgboost\\xgboost-ci-windows\\src\\learner.cc:742: \n",
      "Parameters: { \"objectives\", \"verbose\" } are not used.\n",
      "\n",
      "  warnings.warn(smsg, UserWarning)\n"
     ]
    },
    {
     "name": "stdout",
     "output_type": "stream",
     "text": [
      "Train set RMSE: 0.42\n",
      "Test set RMSE: 0.48\n",
      "Tested on combination ['is_holiday', 'hosp', 'incid_rea']\n"
     ]
    },
    {
     "name": "stderr",
     "output_type": "stream",
     "text": [
      "C:\\Users\\Thomas\\anaconda3\\envs\\bikes-count\\lib\\site-packages\\xgboost\\core.py:160: UserWarning: [02:31:20] WARNING: C:\\buildkite-agent\\builds\\buildkite-windows-cpu-autoscaling-group-i-0750514818a16474a-1\\xgboost\\xgboost-ci-windows\\src\\learner.cc:742: \n",
      "Parameters: { \"objectives\", \"verbose\" } are not used.\n",
      "\n",
      "  warnings.warn(smsg, UserWarning)\n"
     ]
    },
    {
     "name": "stdout",
     "output_type": "stream",
     "text": [
      "Train set RMSE: 0.41\n",
      "Test set RMSE: 0.51\n",
      "Tested on combination ['is_holiday', 'hosp', 'rad']\n"
     ]
    },
    {
     "name": "stderr",
     "output_type": "stream",
     "text": [
      "C:\\Users\\Thomas\\anaconda3\\envs\\bikes-count\\lib\\site-packages\\xgboost\\core.py:160: UserWarning: [02:31:26] WARNING: C:\\buildkite-agent\\builds\\buildkite-windows-cpu-autoscaling-group-i-0750514818a16474a-1\\xgboost\\xgboost-ci-windows\\src\\learner.cc:742: \n",
      "Parameters: { \"objectives\", \"verbose\" } are not used.\n",
      "\n",
      "  warnings.warn(smsg, UserWarning)\n"
     ]
    },
    {
     "name": "stdout",
     "output_type": "stream",
     "text": [
      "Train set RMSE: 0.42\n",
      "Test set RMSE: 0.47\n",
      "Tested on combination ['is_holiday', 'hosp', 'Count_accidents']\n"
     ]
    },
    {
     "name": "stderr",
     "output_type": "stream",
     "text": [
      "C:\\Users\\Thomas\\anaconda3\\envs\\bikes-count\\lib\\site-packages\\xgboost\\core.py:160: UserWarning: [02:31:32] WARNING: C:\\buildkite-agent\\builds\\buildkite-windows-cpu-autoscaling-group-i-0750514818a16474a-1\\xgboost\\xgboost-ci-windows\\src\\learner.cc:742: \n",
      "Parameters: { \"objectives\", \"verbose\" } are not used.\n",
      "\n",
      "  warnings.warn(smsg, UserWarning)\n"
     ]
    },
    {
     "name": "stdout",
     "output_type": "stream",
     "text": [
      "Train set RMSE: 0.42\n",
      "Test set RMSE: 0.53\n",
      "Tested on combination ['is_holiday', 'rea', 'incid_rea']\n"
     ]
    },
    {
     "name": "stderr",
     "output_type": "stream",
     "text": [
      "C:\\Users\\Thomas\\anaconda3\\envs\\bikes-count\\lib\\site-packages\\xgboost\\core.py:160: UserWarning: [02:31:38] WARNING: C:\\buildkite-agent\\builds\\buildkite-windows-cpu-autoscaling-group-i-0750514818a16474a-1\\xgboost\\xgboost-ci-windows\\src\\learner.cc:742: \n",
      "Parameters: { \"objectives\", \"verbose\" } are not used.\n",
      "\n",
      "  warnings.warn(smsg, UserWarning)\n"
     ]
    },
    {
     "name": "stdout",
     "output_type": "stream",
     "text": [
      "Train set RMSE: 0.41\n",
      "Test set RMSE: 0.54\n",
      "Tested on combination ['is_holiday', 'rea', 'rad']\n"
     ]
    },
    {
     "name": "stderr",
     "output_type": "stream",
     "text": [
      "C:\\Users\\Thomas\\anaconda3\\envs\\bikes-count\\lib\\site-packages\\xgboost\\core.py:160: UserWarning: [02:31:44] WARNING: C:\\buildkite-agent\\builds\\buildkite-windows-cpu-autoscaling-group-i-0750514818a16474a-1\\xgboost\\xgboost-ci-windows\\src\\learner.cc:742: \n",
      "Parameters: { \"objectives\", \"verbose\" } are not used.\n",
      "\n",
      "  warnings.warn(smsg, UserWarning)\n"
     ]
    },
    {
     "name": "stdout",
     "output_type": "stream",
     "text": [
      "Train set RMSE: 0.42\n",
      "Test set RMSE: 0.49\n",
      "Tested on combination ['is_holiday', 'rea', 'Count_accidents']\n"
     ]
    },
    {
     "name": "stderr",
     "output_type": "stream",
     "text": [
      "C:\\Users\\Thomas\\anaconda3\\envs\\bikes-count\\lib\\site-packages\\xgboost\\core.py:160: UserWarning: [02:31:50] WARNING: C:\\buildkite-agent\\builds\\buildkite-windows-cpu-autoscaling-group-i-0750514818a16474a-1\\xgboost\\xgboost-ci-windows\\src\\learner.cc:742: \n",
      "Parameters: { \"objectives\", \"verbose\" } are not used.\n",
      "\n",
      "  warnings.warn(smsg, UserWarning)\n"
     ]
    },
    {
     "name": "stdout",
     "output_type": "stream",
     "text": [
      "Train set RMSE: 0.41\n",
      "Test set RMSE: 0.52\n",
      "Tested on combination ['is_holiday', 'incid_rea', 'rad']\n"
     ]
    },
    {
     "name": "stderr",
     "output_type": "stream",
     "text": [
      "C:\\Users\\Thomas\\anaconda3\\envs\\bikes-count\\lib\\site-packages\\xgboost\\core.py:160: UserWarning: [02:31:56] WARNING: C:\\buildkite-agent\\builds\\buildkite-windows-cpu-autoscaling-group-i-0750514818a16474a-1\\xgboost\\xgboost-ci-windows\\src\\learner.cc:742: \n",
      "Parameters: { \"objectives\", \"verbose\" } are not used.\n",
      "\n",
      "  warnings.warn(smsg, UserWarning)\n"
     ]
    },
    {
     "name": "stdout",
     "output_type": "stream",
     "text": [
      "Train set RMSE: 0.43\n",
      "Test set RMSE: 0.48\n",
      "Tested on combination ['is_holiday', 'incid_rea', 'Count_accidents']\n"
     ]
    },
    {
     "name": "stderr",
     "output_type": "stream",
     "text": [
      "C:\\Users\\Thomas\\anaconda3\\envs\\bikes-count\\lib\\site-packages\\xgboost\\core.py:160: UserWarning: [02:32:02] WARNING: C:\\buildkite-agent\\builds\\buildkite-windows-cpu-autoscaling-group-i-0750514818a16474a-1\\xgboost\\xgboost-ci-windows\\src\\learner.cc:742: \n",
      "Parameters: { \"objectives\", \"verbose\" } are not used.\n",
      "\n",
      "  warnings.warn(smsg, UserWarning)\n"
     ]
    },
    {
     "name": "stdout",
     "output_type": "stream",
     "text": [
      "Train set RMSE: 0.41\n",
      "Test set RMSE: 0.51\n",
      "Tested on combination ['is_holiday', 'rad', 'Count_accidents']\n"
     ]
    },
    {
     "name": "stderr",
     "output_type": "stream",
     "text": [
      "C:\\Users\\Thomas\\anaconda3\\envs\\bikes-count\\lib\\site-packages\\xgboost\\core.py:160: UserWarning: [02:32:09] WARNING: C:\\buildkite-agent\\builds\\buildkite-windows-cpu-autoscaling-group-i-0750514818a16474a-1\\xgboost\\xgboost-ci-windows\\src\\learner.cc:742: \n",
      "Parameters: { \"objectives\", \"verbose\" } are not used.\n",
      "\n",
      "  warnings.warn(smsg, UserWarning)\n"
     ]
    },
    {
     "name": "stdout",
     "output_type": "stream",
     "text": [
      "Train set RMSE: 0.43\n",
      "Test set RMSE: 0.48\n",
      "Tested on combination ['is_weekend', 'is_lockdown', 'is_curfew']\n"
     ]
    },
    {
     "name": "stderr",
     "output_type": "stream",
     "text": [
      "C:\\Users\\Thomas\\anaconda3\\envs\\bikes-count\\lib\\site-packages\\xgboost\\core.py:160: UserWarning: [02:32:15] WARNING: C:\\buildkite-agent\\builds\\buildkite-windows-cpu-autoscaling-group-i-0750514818a16474a-1\\xgboost\\xgboost-ci-windows\\src\\learner.cc:742: \n",
      "Parameters: { \"objectives\", \"verbose\" } are not used.\n",
      "\n",
      "  warnings.warn(smsg, UserWarning)\n"
     ]
    },
    {
     "name": "stdout",
     "output_type": "stream",
     "text": [
      "Train set RMSE: 0.44\n",
      "Test set RMSE: 0.48\n",
      "Tested on combination ['is_weekend', 'is_lockdown', 'Max_Grav_accidents']\n"
     ]
    },
    {
     "name": "stderr",
     "output_type": "stream",
     "text": [
      "C:\\Users\\Thomas\\anaconda3\\envs\\bikes-count\\lib\\site-packages\\xgboost\\core.py:160: UserWarning: [02:32:21] WARNING: C:\\buildkite-agent\\builds\\buildkite-windows-cpu-autoscaling-group-i-0750514818a16474a-1\\xgboost\\xgboost-ci-windows\\src\\learner.cc:742: \n",
      "Parameters: { \"objectives\", \"verbose\" } are not used.\n",
      "\n",
      "  warnings.warn(smsg, UserWarning)\n"
     ]
    },
    {
     "name": "stdout",
     "output_type": "stream",
     "text": [
      "Train set RMSE: 0.42\n",
      "Test set RMSE: 0.45\n",
      "Tested on combination ['is_weekend', 'is_lockdown', 'hosp']\n"
     ]
    },
    {
     "name": "stderr",
     "output_type": "stream",
     "text": [
      "C:\\Users\\Thomas\\anaconda3\\envs\\bikes-count\\lib\\site-packages\\xgboost\\core.py:160: UserWarning: [02:32:27] WARNING: C:\\buildkite-agent\\builds\\buildkite-windows-cpu-autoscaling-group-i-0750514818a16474a-1\\xgboost\\xgboost-ci-windows\\src\\learner.cc:742: \n",
      "Parameters: { \"objectives\", \"verbose\" } are not used.\n",
      "\n",
      "  warnings.warn(smsg, UserWarning)\n"
     ]
    },
    {
     "name": "stdout",
     "output_type": "stream",
     "text": [
      "Train set RMSE: 0.42\n",
      "Test set RMSE: 0.51\n",
      "Tested on combination ['is_weekend', 'is_lockdown', 'rea']\n"
     ]
    },
    {
     "name": "stderr",
     "output_type": "stream",
     "text": [
      "C:\\Users\\Thomas\\anaconda3\\envs\\bikes-count\\lib\\site-packages\\xgboost\\core.py:160: UserWarning: [02:32:33] WARNING: C:\\buildkite-agent\\builds\\buildkite-windows-cpu-autoscaling-group-i-0750514818a16474a-1\\xgboost\\xgboost-ci-windows\\src\\learner.cc:742: \n",
      "Parameters: { \"objectives\", \"verbose\" } are not used.\n",
      "\n",
      "  warnings.warn(smsg, UserWarning)\n"
     ]
    },
    {
     "name": "stdout",
     "output_type": "stream",
     "text": [
      "Train set RMSE: 0.42\n",
      "Test set RMSE: 0.49\n",
      "Tested on combination ['is_weekend', 'is_lockdown', 'incid_rea']\n"
     ]
    },
    {
     "name": "stderr",
     "output_type": "stream",
     "text": [
      "C:\\Users\\Thomas\\anaconda3\\envs\\bikes-count\\lib\\site-packages\\xgboost\\core.py:160: UserWarning: [02:32:39] WARNING: C:\\buildkite-agent\\builds\\buildkite-windows-cpu-autoscaling-group-i-0750514818a16474a-1\\xgboost\\xgboost-ci-windows\\src\\learner.cc:742: \n",
      "Parameters: { \"objectives\", \"verbose\" } are not used.\n",
      "\n",
      "  warnings.warn(smsg, UserWarning)\n"
     ]
    },
    {
     "name": "stdout",
     "output_type": "stream",
     "text": [
      "Train set RMSE: 0.41\n",
      "Test set RMSE: 0.50\n",
      "Tested on combination ['is_weekend', 'is_lockdown', 'rad']\n"
     ]
    },
    {
     "name": "stderr",
     "output_type": "stream",
     "text": [
      "C:\\Users\\Thomas\\anaconda3\\envs\\bikes-count\\lib\\site-packages\\xgboost\\core.py:160: UserWarning: [02:32:45] WARNING: C:\\buildkite-agent\\builds\\buildkite-windows-cpu-autoscaling-group-i-0750514818a16474a-1\\xgboost\\xgboost-ci-windows\\src\\learner.cc:742: \n",
      "Parameters: { \"objectives\", \"verbose\" } are not used.\n",
      "\n",
      "  warnings.warn(smsg, UserWarning)\n"
     ]
    },
    {
     "name": "stdout",
     "output_type": "stream",
     "text": [
      "Train set RMSE: 0.43\n",
      "Test set RMSE: 0.49\n",
      "Tested on combination ['is_weekend', 'is_lockdown', 'Count_accidents']\n"
     ]
    },
    {
     "name": "stderr",
     "output_type": "stream",
     "text": [
      "C:\\Users\\Thomas\\anaconda3\\envs\\bikes-count\\lib\\site-packages\\xgboost\\core.py:160: UserWarning: [02:32:52] WARNING: C:\\buildkite-agent\\builds\\buildkite-windows-cpu-autoscaling-group-i-0750514818a16474a-1\\xgboost\\xgboost-ci-windows\\src\\learner.cc:742: \n",
      "Parameters: { \"objectives\", \"verbose\" } are not used.\n",
      "\n",
      "  warnings.warn(smsg, UserWarning)\n"
     ]
    },
    {
     "name": "stdout",
     "output_type": "stream",
     "text": [
      "Train set RMSE: 0.44\n",
      "Test set RMSE: 0.48\n",
      "Tested on combination ['is_weekend', 'is_curfew', 'Max_Grav_accidents']\n"
     ]
    },
    {
     "name": "stderr",
     "output_type": "stream",
     "text": [
      "C:\\Users\\Thomas\\anaconda3\\envs\\bikes-count\\lib\\site-packages\\xgboost\\core.py:160: UserWarning: [02:32:58] WARNING: C:\\buildkite-agent\\builds\\buildkite-windows-cpu-autoscaling-group-i-0750514818a16474a-1\\xgboost\\xgboost-ci-windows\\src\\learner.cc:742: \n",
      "Parameters: { \"objectives\", \"verbose\" } are not used.\n",
      "\n",
      "  warnings.warn(smsg, UserWarning)\n"
     ]
    },
    {
     "name": "stdout",
     "output_type": "stream",
     "text": [
      "Train set RMSE: 0.42\n",
      "Test set RMSE: 0.46\n",
      "Tested on combination ['is_weekend', 'is_curfew', 'hosp']\n"
     ]
    },
    {
     "name": "stderr",
     "output_type": "stream",
     "text": [
      "C:\\Users\\Thomas\\anaconda3\\envs\\bikes-count\\lib\\site-packages\\xgboost\\core.py:160: UserWarning: [02:33:04] WARNING: C:\\buildkite-agent\\builds\\buildkite-windows-cpu-autoscaling-group-i-0750514818a16474a-1\\xgboost\\xgboost-ci-windows\\src\\learner.cc:742: \n",
      "Parameters: { \"objectives\", \"verbose\" } are not used.\n",
      "\n",
      "  warnings.warn(smsg, UserWarning)\n"
     ]
    },
    {
     "name": "stdout",
     "output_type": "stream",
     "text": [
      "Train set RMSE: 0.42\n",
      "Test set RMSE: 0.51\n",
      "Tested on combination ['is_weekend', 'is_curfew', 'rea']\n"
     ]
    },
    {
     "name": "stderr",
     "output_type": "stream",
     "text": [
      "C:\\Users\\Thomas\\anaconda3\\envs\\bikes-count\\lib\\site-packages\\xgboost\\core.py:160: UserWarning: [02:33:10] WARNING: C:\\buildkite-agent\\builds\\buildkite-windows-cpu-autoscaling-group-i-0750514818a16474a-1\\xgboost\\xgboost-ci-windows\\src\\learner.cc:742: \n",
      "Parameters: { \"objectives\", \"verbose\" } are not used.\n",
      "\n",
      "  warnings.warn(smsg, UserWarning)\n"
     ]
    },
    {
     "name": "stdout",
     "output_type": "stream",
     "text": [
      "Train set RMSE: 0.43\n",
      "Test set RMSE: 0.48\n",
      "Tested on combination ['is_weekend', 'is_curfew', 'incid_rea']\n"
     ]
    },
    {
     "name": "stderr",
     "output_type": "stream",
     "text": [
      "C:\\Users\\Thomas\\anaconda3\\envs\\bikes-count\\lib\\site-packages\\xgboost\\core.py:160: UserWarning: [02:33:16] WARNING: C:\\buildkite-agent\\builds\\buildkite-windows-cpu-autoscaling-group-i-0750514818a16474a-1\\xgboost\\xgboost-ci-windows\\src\\learner.cc:742: \n",
      "Parameters: { \"objectives\", \"verbose\" } are not used.\n",
      "\n",
      "  warnings.warn(smsg, UserWarning)\n"
     ]
    },
    {
     "name": "stdout",
     "output_type": "stream",
     "text": [
      "Train set RMSE: 0.42\n",
      "Test set RMSE: 0.50\n",
      "Tested on combination ['is_weekend', 'is_curfew', 'rad']\n"
     ]
    },
    {
     "name": "stderr",
     "output_type": "stream",
     "text": [
      "C:\\Users\\Thomas\\anaconda3\\envs\\bikes-count\\lib\\site-packages\\xgboost\\core.py:160: UserWarning: [02:33:22] WARNING: C:\\buildkite-agent\\builds\\buildkite-windows-cpu-autoscaling-group-i-0750514818a16474a-1\\xgboost\\xgboost-ci-windows\\src\\learner.cc:742: \n",
      "Parameters: { \"objectives\", \"verbose\" } are not used.\n",
      "\n",
      "  warnings.warn(smsg, UserWarning)\n"
     ]
    },
    {
     "name": "stdout",
     "output_type": "stream",
     "text": [
      "Train set RMSE: 0.44\n",
      "Test set RMSE: 0.49\n",
      "Tested on combination ['is_weekend', 'is_curfew', 'Count_accidents']\n"
     ]
    },
    {
     "name": "stderr",
     "output_type": "stream",
     "text": [
      "C:\\Users\\Thomas\\anaconda3\\envs\\bikes-count\\lib\\site-packages\\xgboost\\core.py:160: UserWarning: [02:33:28] WARNING: C:\\buildkite-agent\\builds\\buildkite-windows-cpu-autoscaling-group-i-0750514818a16474a-1\\xgboost\\xgboost-ci-windows\\src\\learner.cc:742: \n",
      "Parameters: { \"objectives\", \"verbose\" } are not used.\n",
      "\n",
      "  warnings.warn(smsg, UserWarning)\n"
     ]
    },
    {
     "name": "stdout",
     "output_type": "stream",
     "text": [
      "Train set RMSE: 0.42\n",
      "Test set RMSE: 0.48\n",
      "Tested on combination ['is_weekend', 'Max_Grav_accidents', 'hosp']\n"
     ]
    },
    {
     "name": "stderr",
     "output_type": "stream",
     "text": [
      "C:\\Users\\Thomas\\anaconda3\\envs\\bikes-count\\lib\\site-packages\\xgboost\\core.py:160: UserWarning: [02:33:34] WARNING: C:\\buildkite-agent\\builds\\buildkite-windows-cpu-autoscaling-group-i-0750514818a16474a-1\\xgboost\\xgboost-ci-windows\\src\\learner.cc:742: \n",
      "Parameters: { \"objectives\", \"verbose\" } are not used.\n",
      "\n",
      "  warnings.warn(smsg, UserWarning)\n"
     ]
    },
    {
     "name": "stdout",
     "output_type": "stream",
     "text": [
      "Train set RMSE: 0.42\n",
      "Test set RMSE: 0.48\n",
      "Tested on combination ['is_weekend', 'Max_Grav_accidents', 'rea']\n"
     ]
    },
    {
     "name": "stderr",
     "output_type": "stream",
     "text": [
      "C:\\Users\\Thomas\\anaconda3\\envs\\bikes-count\\lib\\site-packages\\xgboost\\core.py:160: UserWarning: [02:33:40] WARNING: C:\\buildkite-agent\\builds\\buildkite-windows-cpu-autoscaling-group-i-0750514818a16474a-1\\xgboost\\xgboost-ci-windows\\src\\learner.cc:742: \n",
      "Parameters: { \"objectives\", \"verbose\" } are not used.\n",
      "\n",
      "  warnings.warn(smsg, UserWarning)\n"
     ]
    },
    {
     "name": "stdout",
     "output_type": "stream",
     "text": [
      "Train set RMSE: 0.42\n",
      "Test set RMSE: 0.50\n",
      "Tested on combination ['is_weekend', 'Max_Grav_accidents', 'incid_rea']\n"
     ]
    },
    {
     "name": "stderr",
     "output_type": "stream",
     "text": [
      "C:\\Users\\Thomas\\anaconda3\\envs\\bikes-count\\lib\\site-packages\\xgboost\\core.py:160: UserWarning: [02:33:47] WARNING: C:\\buildkite-agent\\builds\\buildkite-windows-cpu-autoscaling-group-i-0750514818a16474a-1\\xgboost\\xgboost-ci-windows\\src\\learner.cc:742: \n",
      "Parameters: { \"objectives\", \"verbose\" } are not used.\n",
      "\n",
      "  warnings.warn(smsg, UserWarning)\n"
     ]
    },
    {
     "name": "stdout",
     "output_type": "stream",
     "text": [
      "Train set RMSE: 0.42\n",
      "Test set RMSE: 0.51\n",
      "Tested on combination ['is_weekend', 'Max_Grav_accidents', 'rad']\n"
     ]
    },
    {
     "name": "stderr",
     "output_type": "stream",
     "text": [
      "C:\\Users\\Thomas\\anaconda3\\envs\\bikes-count\\lib\\site-packages\\xgboost\\core.py:160: UserWarning: [02:33:53] WARNING: C:\\buildkite-agent\\builds\\buildkite-windows-cpu-autoscaling-group-i-0750514818a16474a-1\\xgboost\\xgboost-ci-windows\\src\\learner.cc:742: \n",
      "Parameters: { \"objectives\", \"verbose\" } are not used.\n",
      "\n",
      "  warnings.warn(smsg, UserWarning)\n"
     ]
    },
    {
     "name": "stdout",
     "output_type": "stream",
     "text": [
      "Train set RMSE: 0.44\n",
      "Test set RMSE: 0.50\n",
      "Tested on combination ['is_weekend', 'Max_Grav_accidents', 'Count_accidents']\n"
     ]
    },
    {
     "name": "stderr",
     "output_type": "stream",
     "text": [
      "C:\\Users\\Thomas\\anaconda3\\envs\\bikes-count\\lib\\site-packages\\xgboost\\core.py:160: UserWarning: [02:33:59] WARNING: C:\\buildkite-agent\\builds\\buildkite-windows-cpu-autoscaling-group-i-0750514818a16474a-1\\xgboost\\xgboost-ci-windows\\src\\learner.cc:742: \n",
      "Parameters: { \"objectives\", \"verbose\" } are not used.\n",
      "\n",
      "  warnings.warn(smsg, UserWarning)\n"
     ]
    },
    {
     "name": "stdout",
     "output_type": "stream",
     "text": [
      "Train set RMSE: 0.42\n",
      "Test set RMSE: 0.48\n",
      "Tested on combination ['is_weekend', 'hosp', 'rea']\n"
     ]
    },
    {
     "name": "stderr",
     "output_type": "stream",
     "text": [
      "C:\\Users\\Thomas\\anaconda3\\envs\\bikes-count\\lib\\site-packages\\xgboost\\core.py:160: UserWarning: [02:34:05] WARNING: C:\\buildkite-agent\\builds\\buildkite-windows-cpu-autoscaling-group-i-0750514818a16474a-1\\xgboost\\xgboost-ci-windows\\src\\learner.cc:742: \n",
      "Parameters: { \"objectives\", \"verbose\" } are not used.\n",
      "\n",
      "  warnings.warn(smsg, UserWarning)\n"
     ]
    },
    {
     "name": "stdout",
     "output_type": "stream",
     "text": [
      "Train set RMSE: 0.42\n",
      "Test set RMSE: 0.47\n",
      "Tested on combination ['is_weekend', 'hosp', 'incid_rea']\n"
     ]
    },
    {
     "name": "stderr",
     "output_type": "stream",
     "text": [
      "C:\\Users\\Thomas\\anaconda3\\envs\\bikes-count\\lib\\site-packages\\xgboost\\core.py:160: UserWarning: [02:34:11] WARNING: C:\\buildkite-agent\\builds\\buildkite-windows-cpu-autoscaling-group-i-0750514818a16474a-1\\xgboost\\xgboost-ci-windows\\src\\learner.cc:742: \n",
      "Parameters: { \"objectives\", \"verbose\" } are not used.\n",
      "\n",
      "  warnings.warn(smsg, UserWarning)\n"
     ]
    },
    {
     "name": "stdout",
     "output_type": "stream",
     "text": [
      "Train set RMSE: 0.42\n",
      "Test set RMSE: 0.48\n",
      "Tested on combination ['is_weekend', 'hosp', 'rad']\n"
     ]
    },
    {
     "name": "stderr",
     "output_type": "stream",
     "text": [
      "C:\\Users\\Thomas\\anaconda3\\envs\\bikes-count\\lib\\site-packages\\xgboost\\core.py:160: UserWarning: [02:34:17] WARNING: C:\\buildkite-agent\\builds\\buildkite-windows-cpu-autoscaling-group-i-0750514818a16474a-1\\xgboost\\xgboost-ci-windows\\src\\learner.cc:742: \n",
      "Parameters: { \"objectives\", \"verbose\" } are not used.\n",
      "\n",
      "  warnings.warn(smsg, UserWarning)\n"
     ]
    },
    {
     "name": "stdout",
     "output_type": "stream",
     "text": [
      "Train set RMSE: 0.42\n",
      "Test set RMSE: 0.45\n",
      "Tested on combination ['is_weekend', 'hosp', 'Count_accidents']\n"
     ]
    },
    {
     "name": "stderr",
     "output_type": "stream",
     "text": [
      "C:\\Users\\Thomas\\anaconda3\\envs\\bikes-count\\lib\\site-packages\\xgboost\\core.py:160: UserWarning: [02:34:23] WARNING: C:\\buildkite-agent\\builds\\buildkite-windows-cpu-autoscaling-group-i-0750514818a16474a-1\\xgboost\\xgboost-ci-windows\\src\\learner.cc:742: \n",
      "Parameters: { \"objectives\", \"verbose\" } are not used.\n",
      "\n",
      "  warnings.warn(smsg, UserWarning)\n"
     ]
    },
    {
     "name": "stdout",
     "output_type": "stream",
     "text": [
      "Train set RMSE: 0.42\n",
      "Test set RMSE: 0.49\n",
      "Tested on combination ['is_weekend', 'rea', 'incid_rea']\n"
     ]
    },
    {
     "name": "stderr",
     "output_type": "stream",
     "text": [
      "C:\\Users\\Thomas\\anaconda3\\envs\\bikes-count\\lib\\site-packages\\xgboost\\core.py:160: UserWarning: [02:34:29] WARNING: C:\\buildkite-agent\\builds\\buildkite-windows-cpu-autoscaling-group-i-0750514818a16474a-1\\xgboost\\xgboost-ci-windows\\src\\learner.cc:742: \n",
      "Parameters: { \"objectives\", \"verbose\" } are not used.\n",
      "\n",
      "  warnings.warn(smsg, UserWarning)\n"
     ]
    },
    {
     "name": "stdout",
     "output_type": "stream",
     "text": [
      "Train set RMSE: 0.41\n",
      "Test set RMSE: 0.52\n",
      "Tested on combination ['is_weekend', 'rea', 'rad']\n"
     ]
    },
    {
     "name": "stderr",
     "output_type": "stream",
     "text": [
      "C:\\Users\\Thomas\\anaconda3\\envs\\bikes-count\\lib\\site-packages\\xgboost\\core.py:160: UserWarning: [02:34:35] WARNING: C:\\buildkite-agent\\builds\\buildkite-windows-cpu-autoscaling-group-i-0750514818a16474a-1\\xgboost\\xgboost-ci-windows\\src\\learner.cc:742: \n",
      "Parameters: { \"objectives\", \"verbose\" } are not used.\n",
      "\n",
      "  warnings.warn(smsg, UserWarning)\n"
     ]
    },
    {
     "name": "stdout",
     "output_type": "stream",
     "text": [
      "Train set RMSE: 0.42\n",
      "Test set RMSE: 0.50\n",
      "Tested on combination ['is_weekend', 'rea', 'Count_accidents']\n"
     ]
    },
    {
     "name": "stderr",
     "output_type": "stream",
     "text": [
      "C:\\Users\\Thomas\\anaconda3\\envs\\bikes-count\\lib\\site-packages\\xgboost\\core.py:160: UserWarning: [02:34:41] WARNING: C:\\buildkite-agent\\builds\\buildkite-windows-cpu-autoscaling-group-i-0750514818a16474a-1\\xgboost\\xgboost-ci-windows\\src\\learner.cc:742: \n",
      "Parameters: { \"objectives\", \"verbose\" } are not used.\n",
      "\n",
      "  warnings.warn(smsg, UserWarning)\n"
     ]
    },
    {
     "name": "stdout",
     "output_type": "stream",
     "text": [
      "Train set RMSE: 0.41\n",
      "Test set RMSE: 0.51\n",
      "Tested on combination ['is_weekend', 'incid_rea', 'rad']\n"
     ]
    },
    {
     "name": "stderr",
     "output_type": "stream",
     "text": [
      "C:\\Users\\Thomas\\anaconda3\\envs\\bikes-count\\lib\\site-packages\\xgboost\\core.py:160: UserWarning: [02:34:47] WARNING: C:\\buildkite-agent\\builds\\buildkite-windows-cpu-autoscaling-group-i-0750514818a16474a-1\\xgboost\\xgboost-ci-windows\\src\\learner.cc:742: \n",
      "Parameters: { \"objectives\", \"verbose\" } are not used.\n",
      "\n",
      "  warnings.warn(smsg, UserWarning)\n"
     ]
    },
    {
     "name": "stdout",
     "output_type": "stream",
     "text": [
      "Train set RMSE: 0.43\n",
      "Test set RMSE: 0.50\n",
      "Tested on combination ['is_weekend', 'incid_rea', 'Count_accidents']\n"
     ]
    },
    {
     "name": "stderr",
     "output_type": "stream",
     "text": [
      "C:\\Users\\Thomas\\anaconda3\\envs\\bikes-count\\lib\\site-packages\\xgboost\\core.py:160: UserWarning: [02:34:53] WARNING: C:\\buildkite-agent\\builds\\buildkite-windows-cpu-autoscaling-group-i-0750514818a16474a-1\\xgboost\\xgboost-ci-windows\\src\\learner.cc:742: \n",
      "Parameters: { \"objectives\", \"verbose\" } are not used.\n",
      "\n",
      "  warnings.warn(smsg, UserWarning)\n"
     ]
    },
    {
     "name": "stdout",
     "output_type": "stream",
     "text": [
      "Train set RMSE: 0.42\n",
      "Test set RMSE: 0.51\n",
      "Tested on combination ['is_weekend', 'rad', 'Count_accidents']\n"
     ]
    },
    {
     "name": "stderr",
     "output_type": "stream",
     "text": [
      "C:\\Users\\Thomas\\anaconda3\\envs\\bikes-count\\lib\\site-packages\\xgboost\\core.py:160: UserWarning: [02:35:00] WARNING: C:\\buildkite-agent\\builds\\buildkite-windows-cpu-autoscaling-group-i-0750514818a16474a-1\\xgboost\\xgboost-ci-windows\\src\\learner.cc:742: \n",
      "Parameters: { \"objectives\", \"verbose\" } are not used.\n",
      "\n",
      "  warnings.warn(smsg, UserWarning)\n"
     ]
    },
    {
     "name": "stdout",
     "output_type": "stream",
     "text": [
      "Train set RMSE: 0.43\n",
      "Test set RMSE: 0.48\n",
      "Tested on combination ['is_lockdown', 'is_curfew', 'Max_Grav_accidents']\n"
     ]
    },
    {
     "name": "stderr",
     "output_type": "stream",
     "text": [
      "C:\\Users\\Thomas\\anaconda3\\envs\\bikes-count\\lib\\site-packages\\xgboost\\core.py:160: UserWarning: [02:35:06] WARNING: C:\\buildkite-agent\\builds\\buildkite-windows-cpu-autoscaling-group-i-0750514818a16474a-1\\xgboost\\xgboost-ci-windows\\src\\learner.cc:742: \n",
      "Parameters: { \"objectives\", \"verbose\" } are not used.\n",
      "\n",
      "  warnings.warn(smsg, UserWarning)\n"
     ]
    },
    {
     "name": "stdout",
     "output_type": "stream",
     "text": [
      "Train set RMSE: 0.42\n",
      "Test set RMSE: 0.46\n",
      "Tested on combination ['is_lockdown', 'is_curfew', 'hosp']\n"
     ]
    },
    {
     "name": "stderr",
     "output_type": "stream",
     "text": [
      "C:\\Users\\Thomas\\anaconda3\\envs\\bikes-count\\lib\\site-packages\\xgboost\\core.py:160: UserWarning: [02:35:12] WARNING: C:\\buildkite-agent\\builds\\buildkite-windows-cpu-autoscaling-group-i-0750514818a16474a-1\\xgboost\\xgboost-ci-windows\\src\\learner.cc:742: \n",
      "Parameters: { \"objectives\", \"verbose\" } are not used.\n",
      "\n",
      "  warnings.warn(smsg, UserWarning)\n"
     ]
    },
    {
     "name": "stdout",
     "output_type": "stream",
     "text": [
      "Train set RMSE: 0.42\n",
      "Test set RMSE: 0.50\n",
      "Tested on combination ['is_lockdown', 'is_curfew', 'rea']\n"
     ]
    },
    {
     "name": "stderr",
     "output_type": "stream",
     "text": [
      "C:\\Users\\Thomas\\anaconda3\\envs\\bikes-count\\lib\\site-packages\\xgboost\\core.py:160: UserWarning: [02:35:18] WARNING: C:\\buildkite-agent\\builds\\buildkite-windows-cpu-autoscaling-group-i-0750514818a16474a-1\\xgboost\\xgboost-ci-windows\\src\\learner.cc:742: \n",
      "Parameters: { \"objectives\", \"verbose\" } are not used.\n",
      "\n",
      "  warnings.warn(smsg, UserWarning)\n"
     ]
    },
    {
     "name": "stdout",
     "output_type": "stream",
     "text": [
      "Train set RMSE: 0.43\n",
      "Test set RMSE: 0.49\n",
      "Tested on combination ['is_lockdown', 'is_curfew', 'incid_rea']\n"
     ]
    },
    {
     "name": "stderr",
     "output_type": "stream",
     "text": [
      "C:\\Users\\Thomas\\anaconda3\\envs\\bikes-count\\lib\\site-packages\\xgboost\\core.py:160: UserWarning: [02:35:24] WARNING: C:\\buildkite-agent\\builds\\buildkite-windows-cpu-autoscaling-group-i-0750514818a16474a-1\\xgboost\\xgboost-ci-windows\\src\\learner.cc:742: \n",
      "Parameters: { \"objectives\", \"verbose\" } are not used.\n",
      "\n",
      "  warnings.warn(smsg, UserWarning)\n"
     ]
    },
    {
     "name": "stdout",
     "output_type": "stream",
     "text": [
      "Train set RMSE: 0.41\n",
      "Test set RMSE: 0.51\n",
      "Tested on combination ['is_lockdown', 'is_curfew', 'rad']\n"
     ]
    },
    {
     "name": "stderr",
     "output_type": "stream",
     "text": [
      "C:\\Users\\Thomas\\anaconda3\\envs\\bikes-count\\lib\\site-packages\\xgboost\\core.py:160: UserWarning: [02:35:30] WARNING: C:\\buildkite-agent\\builds\\buildkite-windows-cpu-autoscaling-group-i-0750514818a16474a-1\\xgboost\\xgboost-ci-windows\\src\\learner.cc:742: \n",
      "Parameters: { \"objectives\", \"verbose\" } are not used.\n",
      "\n",
      "  warnings.warn(smsg, UserWarning)\n"
     ]
    },
    {
     "name": "stdout",
     "output_type": "stream",
     "text": [
      "Train set RMSE: 0.43\n",
      "Test set RMSE: 0.49\n",
      "Tested on combination ['is_lockdown', 'is_curfew', 'Count_accidents']\n"
     ]
    },
    {
     "name": "stderr",
     "output_type": "stream",
     "text": [
      "C:\\Users\\Thomas\\anaconda3\\envs\\bikes-count\\lib\\site-packages\\xgboost\\core.py:160: UserWarning: [02:35:36] WARNING: C:\\buildkite-agent\\builds\\buildkite-windows-cpu-autoscaling-group-i-0750514818a16474a-1\\xgboost\\xgboost-ci-windows\\src\\learner.cc:742: \n",
      "Parameters: { \"objectives\", \"verbose\" } are not used.\n",
      "\n",
      "  warnings.warn(smsg, UserWarning)\n"
     ]
    },
    {
     "name": "stdout",
     "output_type": "stream",
     "text": [
      "Train set RMSE: 0.42\n",
      "Test set RMSE: 0.46\n",
      "Tested on combination ['is_lockdown', 'Max_Grav_accidents', 'hosp']\n"
     ]
    },
    {
     "name": "stderr",
     "output_type": "stream",
     "text": [
      "C:\\Users\\Thomas\\anaconda3\\envs\\bikes-count\\lib\\site-packages\\xgboost\\core.py:160: UserWarning: [02:35:42] WARNING: C:\\buildkite-agent\\builds\\buildkite-windows-cpu-autoscaling-group-i-0750514818a16474a-1\\xgboost\\xgboost-ci-windows\\src\\learner.cc:742: \n",
      "Parameters: { \"objectives\", \"verbose\" } are not used.\n",
      "\n",
      "  warnings.warn(smsg, UserWarning)\n"
     ]
    },
    {
     "name": "stdout",
     "output_type": "stream",
     "text": [
      "Train set RMSE: 0.42\n",
      "Test set RMSE: 0.53\n",
      "Tested on combination ['is_lockdown', 'Max_Grav_accidents', 'rea']\n"
     ]
    },
    {
     "name": "stderr",
     "output_type": "stream",
     "text": [
      "C:\\Users\\Thomas\\anaconda3\\envs\\bikes-count\\lib\\site-packages\\xgboost\\core.py:160: UserWarning: [02:35:49] WARNING: C:\\buildkite-agent\\builds\\buildkite-windows-cpu-autoscaling-group-i-0750514818a16474a-1\\xgboost\\xgboost-ci-windows\\src\\learner.cc:742: \n",
      "Parameters: { \"objectives\", \"verbose\" } are not used.\n",
      "\n",
      "  warnings.warn(smsg, UserWarning)\n"
     ]
    },
    {
     "name": "stdout",
     "output_type": "stream",
     "text": [
      "Train set RMSE: 0.43\n",
      "Test set RMSE: 0.49\n",
      "Tested on combination ['is_lockdown', 'Max_Grav_accidents', 'incid_rea']\n"
     ]
    },
    {
     "name": "stderr",
     "output_type": "stream",
     "text": [
      "C:\\Users\\Thomas\\anaconda3\\envs\\bikes-count\\lib\\site-packages\\xgboost\\core.py:160: UserWarning: [02:35:55] WARNING: C:\\buildkite-agent\\builds\\buildkite-windows-cpu-autoscaling-group-i-0750514818a16474a-1\\xgboost\\xgboost-ci-windows\\src\\learner.cc:742: \n",
      "Parameters: { \"objectives\", \"verbose\" } are not used.\n",
      "\n",
      "  warnings.warn(smsg, UserWarning)\n"
     ]
    },
    {
     "name": "stdout",
     "output_type": "stream",
     "text": [
      "Train set RMSE: 0.42\n",
      "Test set RMSE: 0.51\n",
      "Tested on combination ['is_lockdown', 'Max_Grav_accidents', 'rad']\n"
     ]
    },
    {
     "name": "stderr",
     "output_type": "stream",
     "text": [
      "C:\\Users\\Thomas\\anaconda3\\envs\\bikes-count\\lib\\site-packages\\xgboost\\core.py:160: UserWarning: [02:36:01] WARNING: C:\\buildkite-agent\\builds\\buildkite-windows-cpu-autoscaling-group-i-0750514818a16474a-1\\xgboost\\xgboost-ci-windows\\src\\learner.cc:742: \n",
      "Parameters: { \"objectives\", \"verbose\" } are not used.\n",
      "\n",
      "  warnings.warn(smsg, UserWarning)\n"
     ]
    },
    {
     "name": "stdout",
     "output_type": "stream",
     "text": [
      "Train set RMSE: 0.43\n",
      "Test set RMSE: 0.49\n",
      "Tested on combination ['is_lockdown', 'Max_Grav_accidents', 'Count_accidents']\n"
     ]
    },
    {
     "name": "stderr",
     "output_type": "stream",
     "text": [
      "C:\\Users\\Thomas\\anaconda3\\envs\\bikes-count\\lib\\site-packages\\xgboost\\core.py:160: UserWarning: [02:36:07] WARNING: C:\\buildkite-agent\\builds\\buildkite-windows-cpu-autoscaling-group-i-0750514818a16474a-1\\xgboost\\xgboost-ci-windows\\src\\learner.cc:742: \n",
      "Parameters: { \"objectives\", \"verbose\" } are not used.\n",
      "\n",
      "  warnings.warn(smsg, UserWarning)\n"
     ]
    },
    {
     "name": "stdout",
     "output_type": "stream",
     "text": [
      "Train set RMSE: 0.42\n",
      "Test set RMSE: 0.48\n",
      "Tested on combination ['is_lockdown', 'hosp', 'rea']\n"
     ]
    },
    {
     "name": "stderr",
     "output_type": "stream",
     "text": [
      "C:\\Users\\Thomas\\anaconda3\\envs\\bikes-count\\lib\\site-packages\\xgboost\\core.py:160: UserWarning: [02:36:13] WARNING: C:\\buildkite-agent\\builds\\buildkite-windows-cpu-autoscaling-group-i-0750514818a16474a-1\\xgboost\\xgboost-ci-windows\\src\\learner.cc:742: \n",
      "Parameters: { \"objectives\", \"verbose\" } are not used.\n",
      "\n",
      "  warnings.warn(smsg, UserWarning)\n"
     ]
    },
    {
     "name": "stdout",
     "output_type": "stream",
     "text": [
      "Train set RMSE: 0.42\n",
      "Test set RMSE: 0.48\n",
      "Tested on combination ['is_lockdown', 'hosp', 'incid_rea']\n"
     ]
    },
    {
     "name": "stderr",
     "output_type": "stream",
     "text": [
      "C:\\Users\\Thomas\\anaconda3\\envs\\bikes-count\\lib\\site-packages\\xgboost\\core.py:160: UserWarning: [02:36:19] WARNING: C:\\buildkite-agent\\builds\\buildkite-windows-cpu-autoscaling-group-i-0750514818a16474a-1\\xgboost\\xgboost-ci-windows\\src\\learner.cc:742: \n",
      "Parameters: { \"objectives\", \"verbose\" } are not used.\n",
      "\n",
      "  warnings.warn(smsg, UserWarning)\n"
     ]
    },
    {
     "name": "stdout",
     "output_type": "stream",
     "text": [
      "Train set RMSE: 0.42\n",
      "Test set RMSE: 0.47\n",
      "Tested on combination ['is_lockdown', 'hosp', 'rad']\n"
     ]
    },
    {
     "name": "stderr",
     "output_type": "stream",
     "text": [
      "C:\\Users\\Thomas\\anaconda3\\envs\\bikes-count\\lib\\site-packages\\xgboost\\core.py:160: UserWarning: [02:36:25] WARNING: C:\\buildkite-agent\\builds\\buildkite-windows-cpu-autoscaling-group-i-0750514818a16474a-1\\xgboost\\xgboost-ci-windows\\src\\learner.cc:742: \n",
      "Parameters: { \"objectives\", \"verbose\" } are not used.\n",
      "\n",
      "  warnings.warn(smsg, UserWarning)\n"
     ]
    },
    {
     "name": "stdout",
     "output_type": "stream",
     "text": [
      "Train set RMSE: 0.42\n",
      "Test set RMSE: 0.46\n",
      "Tested on combination ['is_lockdown', 'hosp', 'Count_accidents']\n"
     ]
    },
    {
     "name": "stderr",
     "output_type": "stream",
     "text": [
      "C:\\Users\\Thomas\\anaconda3\\envs\\bikes-count\\lib\\site-packages\\xgboost\\core.py:160: UserWarning: [02:36:31] WARNING: C:\\buildkite-agent\\builds\\buildkite-windows-cpu-autoscaling-group-i-0750514818a16474a-1\\xgboost\\xgboost-ci-windows\\src\\learner.cc:742: \n",
      "Parameters: { \"objectives\", \"verbose\" } are not used.\n",
      "\n",
      "  warnings.warn(smsg, UserWarning)\n"
     ]
    },
    {
     "name": "stdout",
     "output_type": "stream",
     "text": [
      "Train set RMSE: 0.42\n",
      "Test set RMSE: 0.54\n",
      "Tested on combination ['is_lockdown', 'rea', 'incid_rea']\n"
     ]
    },
    {
     "name": "stderr",
     "output_type": "stream",
     "text": [
      "C:\\Users\\Thomas\\anaconda3\\envs\\bikes-count\\lib\\site-packages\\xgboost\\core.py:160: UserWarning: [02:36:37] WARNING: C:\\buildkite-agent\\builds\\buildkite-windows-cpu-autoscaling-group-i-0750514818a16474a-1\\xgboost\\xgboost-ci-windows\\src\\learner.cc:742: \n",
      "Parameters: { \"objectives\", \"verbose\" } are not used.\n",
      "\n",
      "  warnings.warn(smsg, UserWarning)\n"
     ]
    },
    {
     "name": "stdout",
     "output_type": "stream",
     "text": [
      "Train set RMSE: 0.41\n",
      "Test set RMSE: 0.52\n",
      "Tested on combination ['is_lockdown', 'rea', 'rad']\n"
     ]
    },
    {
     "name": "stderr",
     "output_type": "stream",
     "text": [
      "C:\\Users\\Thomas\\anaconda3\\envs\\bikes-count\\lib\\site-packages\\xgboost\\core.py:160: UserWarning: [02:36:43] WARNING: C:\\buildkite-agent\\builds\\buildkite-windows-cpu-autoscaling-group-i-0750514818a16474a-1\\xgboost\\xgboost-ci-windows\\src\\learner.cc:742: \n",
      "Parameters: { \"objectives\", \"verbose\" } are not used.\n",
      "\n",
      "  warnings.warn(smsg, UserWarning)\n"
     ]
    },
    {
     "name": "stdout",
     "output_type": "stream",
     "text": [
      "Train set RMSE: 0.42\n",
      "Test set RMSE: 0.50\n",
      "Tested on combination ['is_lockdown', 'rea', 'Count_accidents']\n"
     ]
    },
    {
     "name": "stderr",
     "output_type": "stream",
     "text": [
      "C:\\Users\\Thomas\\anaconda3\\envs\\bikes-count\\lib\\site-packages\\xgboost\\core.py:160: UserWarning: [02:36:50] WARNING: C:\\buildkite-agent\\builds\\buildkite-windows-cpu-autoscaling-group-i-0750514818a16474a-1\\xgboost\\xgboost-ci-windows\\src\\learner.cc:742: \n",
      "Parameters: { \"objectives\", \"verbose\" } are not used.\n",
      "\n",
      "  warnings.warn(smsg, UserWarning)\n"
     ]
    },
    {
     "name": "stdout",
     "output_type": "stream",
     "text": [
      "Train set RMSE: 0.41\n",
      "Test set RMSE: 0.51\n",
      "Tested on combination ['is_lockdown', 'incid_rea', 'rad']\n"
     ]
    },
    {
     "name": "stderr",
     "output_type": "stream",
     "text": [
      "C:\\Users\\Thomas\\anaconda3\\envs\\bikes-count\\lib\\site-packages\\xgboost\\core.py:160: UserWarning: [02:36:56] WARNING: C:\\buildkite-agent\\builds\\buildkite-windows-cpu-autoscaling-group-i-0750514818a16474a-1\\xgboost\\xgboost-ci-windows\\src\\learner.cc:742: \n",
      "Parameters: { \"objectives\", \"verbose\" } are not used.\n",
      "\n",
      "  warnings.warn(smsg, UserWarning)\n"
     ]
    },
    {
     "name": "stdout",
     "output_type": "stream",
     "text": [
      "Train set RMSE: 0.43\n",
      "Test set RMSE: 0.50\n",
      "Tested on combination ['is_lockdown', 'incid_rea', 'Count_accidents']\n"
     ]
    },
    {
     "name": "stderr",
     "output_type": "stream",
     "text": [
      "C:\\Users\\Thomas\\anaconda3\\envs\\bikes-count\\lib\\site-packages\\xgboost\\core.py:160: UserWarning: [02:37:02] WARNING: C:\\buildkite-agent\\builds\\buildkite-windows-cpu-autoscaling-group-i-0750514818a16474a-1\\xgboost\\xgboost-ci-windows\\src\\learner.cc:742: \n",
      "Parameters: { \"objectives\", \"verbose\" } are not used.\n",
      "\n",
      "  warnings.warn(smsg, UserWarning)\n"
     ]
    },
    {
     "name": "stdout",
     "output_type": "stream",
     "text": [
      "Train set RMSE: 0.42\n",
      "Test set RMSE: 0.51\n",
      "Tested on combination ['is_lockdown', 'rad', 'Count_accidents']\n"
     ]
    },
    {
     "name": "stderr",
     "output_type": "stream",
     "text": [
      "C:\\Users\\Thomas\\anaconda3\\envs\\bikes-count\\lib\\site-packages\\xgboost\\core.py:160: UserWarning: [02:37:08] WARNING: C:\\buildkite-agent\\builds\\buildkite-windows-cpu-autoscaling-group-i-0750514818a16474a-1\\xgboost\\xgboost-ci-windows\\src\\learner.cc:742: \n",
      "Parameters: { \"objectives\", \"verbose\" } are not used.\n",
      "\n",
      "  warnings.warn(smsg, UserWarning)\n"
     ]
    },
    {
     "name": "stdout",
     "output_type": "stream",
     "text": [
      "Train set RMSE: 0.42\n",
      "Test set RMSE: 0.46\n",
      "Tested on combination ['is_curfew', 'Max_Grav_accidents', 'hosp']\n"
     ]
    },
    {
     "name": "stderr",
     "output_type": "stream",
     "text": [
      "C:\\Users\\Thomas\\anaconda3\\envs\\bikes-count\\lib\\site-packages\\xgboost\\core.py:160: UserWarning: [02:37:14] WARNING: C:\\buildkite-agent\\builds\\buildkite-windows-cpu-autoscaling-group-i-0750514818a16474a-1\\xgboost\\xgboost-ci-windows\\src\\learner.cc:742: \n",
      "Parameters: { \"objectives\", \"verbose\" } are not used.\n",
      "\n",
      "  warnings.warn(smsg, UserWarning)\n"
     ]
    },
    {
     "name": "stdout",
     "output_type": "stream",
     "text": [
      "Train set RMSE: 0.42\n",
      "Test set RMSE: 0.50\n",
      "Tested on combination ['is_curfew', 'Max_Grav_accidents', 'rea']\n"
     ]
    },
    {
     "name": "stderr",
     "output_type": "stream",
     "text": [
      "C:\\Users\\Thomas\\anaconda3\\envs\\bikes-count\\lib\\site-packages\\xgboost\\core.py:160: UserWarning: [02:37:20] WARNING: C:\\buildkite-agent\\builds\\buildkite-windows-cpu-autoscaling-group-i-0750514818a16474a-1\\xgboost\\xgboost-ci-windows\\src\\learner.cc:742: \n",
      "Parameters: { \"objectives\", \"verbose\" } are not used.\n",
      "\n",
      "  warnings.warn(smsg, UserWarning)\n"
     ]
    },
    {
     "name": "stdout",
     "output_type": "stream",
     "text": [
      "Train set RMSE: 0.43\n",
      "Test set RMSE: 0.49\n",
      "Tested on combination ['is_curfew', 'Max_Grav_accidents', 'incid_rea']\n"
     ]
    },
    {
     "name": "stderr",
     "output_type": "stream",
     "text": [
      "C:\\Users\\Thomas\\anaconda3\\envs\\bikes-count\\lib\\site-packages\\xgboost\\core.py:160: UserWarning: [02:37:26] WARNING: C:\\buildkite-agent\\builds\\buildkite-windows-cpu-autoscaling-group-i-0750514818a16474a-1\\xgboost\\xgboost-ci-windows\\src\\learner.cc:742: \n",
      "Parameters: { \"objectives\", \"verbose\" } are not used.\n",
      "\n",
      "  warnings.warn(smsg, UserWarning)\n"
     ]
    },
    {
     "name": "stdout",
     "output_type": "stream",
     "text": [
      "Train set RMSE: 0.42\n",
      "Test set RMSE: 0.52\n",
      "Tested on combination ['is_curfew', 'Max_Grav_accidents', 'rad']\n"
     ]
    },
    {
     "name": "stderr",
     "output_type": "stream",
     "text": [
      "C:\\Users\\Thomas\\anaconda3\\envs\\bikes-count\\lib\\site-packages\\xgboost\\core.py:160: UserWarning: [02:37:32] WARNING: C:\\buildkite-agent\\builds\\buildkite-windows-cpu-autoscaling-group-i-0750514818a16474a-1\\xgboost\\xgboost-ci-windows\\src\\learner.cc:742: \n",
      "Parameters: { \"objectives\", \"verbose\" } are not used.\n",
      "\n",
      "  warnings.warn(smsg, UserWarning)\n"
     ]
    },
    {
     "name": "stdout",
     "output_type": "stream",
     "text": [
      "Train set RMSE: 0.43\n",
      "Test set RMSE: 0.49\n",
      "Tested on combination ['is_curfew', 'Max_Grav_accidents', 'Count_accidents']\n"
     ]
    },
    {
     "name": "stderr",
     "output_type": "stream",
     "text": [
      "C:\\Users\\Thomas\\anaconda3\\envs\\bikes-count\\lib\\site-packages\\xgboost\\core.py:160: UserWarning: [02:37:39] WARNING: C:\\buildkite-agent\\builds\\buildkite-windows-cpu-autoscaling-group-i-0750514818a16474a-1\\xgboost\\xgboost-ci-windows\\src\\learner.cc:742: \n",
      "Parameters: { \"objectives\", \"verbose\" } are not used.\n",
      "\n",
      "  warnings.warn(smsg, UserWarning)\n"
     ]
    },
    {
     "name": "stdout",
     "output_type": "stream",
     "text": [
      "Train set RMSE: 0.42\n",
      "Test set RMSE: 0.47\n",
      "Tested on combination ['is_curfew', 'hosp', 'rea']\n"
     ]
    },
    {
     "name": "stderr",
     "output_type": "stream",
     "text": [
      "C:\\Users\\Thomas\\anaconda3\\envs\\bikes-count\\lib\\site-packages\\xgboost\\core.py:160: UserWarning: [02:37:45] WARNING: C:\\buildkite-agent\\builds\\buildkite-windows-cpu-autoscaling-group-i-0750514818a16474a-1\\xgboost\\xgboost-ci-windows\\src\\learner.cc:742: \n",
      "Parameters: { \"objectives\", \"verbose\" } are not used.\n",
      "\n",
      "  warnings.warn(smsg, UserWarning)\n"
     ]
    },
    {
     "name": "stdout",
     "output_type": "stream",
     "text": [
      "Train set RMSE: 0.42\n",
      "Test set RMSE: 0.48\n",
      "Tested on combination ['is_curfew', 'hosp', 'incid_rea']\n"
     ]
    },
    {
     "name": "stderr",
     "output_type": "stream",
     "text": [
      "C:\\Users\\Thomas\\anaconda3\\envs\\bikes-count\\lib\\site-packages\\xgboost\\core.py:160: UserWarning: [02:37:51] WARNING: C:\\buildkite-agent\\builds\\buildkite-windows-cpu-autoscaling-group-i-0750514818a16474a-1\\xgboost\\xgboost-ci-windows\\src\\learner.cc:742: \n",
      "Parameters: { \"objectives\", \"verbose\" } are not used.\n",
      "\n",
      "  warnings.warn(smsg, UserWarning)\n"
     ]
    },
    {
     "name": "stdout",
     "output_type": "stream",
     "text": [
      "Train set RMSE: 0.41\n",
      "Test set RMSE: 0.48\n",
      "Tested on combination ['is_curfew', 'hosp', 'rad']\n"
     ]
    },
    {
     "name": "stderr",
     "output_type": "stream",
     "text": [
      "C:\\Users\\Thomas\\anaconda3\\envs\\bikes-count\\lib\\site-packages\\xgboost\\core.py:160: UserWarning: [02:37:57] WARNING: C:\\buildkite-agent\\builds\\buildkite-windows-cpu-autoscaling-group-i-0750514818a16474a-1\\xgboost\\xgboost-ci-windows\\src\\learner.cc:742: \n",
      "Parameters: { \"objectives\", \"verbose\" } are not used.\n",
      "\n",
      "  warnings.warn(smsg, UserWarning)\n"
     ]
    },
    {
     "name": "stdout",
     "output_type": "stream",
     "text": [
      "Train set RMSE: 0.42\n",
      "Test set RMSE: 0.46\n",
      "Tested on combination ['is_curfew', 'hosp', 'Count_accidents']\n"
     ]
    },
    {
     "name": "stderr",
     "output_type": "stream",
     "text": [
      "C:\\Users\\Thomas\\anaconda3\\envs\\bikes-count\\lib\\site-packages\\xgboost\\core.py:160: UserWarning: [02:38:03] WARNING: C:\\buildkite-agent\\builds\\buildkite-windows-cpu-autoscaling-group-i-0750514818a16474a-1\\xgboost\\xgboost-ci-windows\\src\\learner.cc:742: \n",
      "Parameters: { \"objectives\", \"verbose\" } are not used.\n",
      "\n",
      "  warnings.warn(smsg, UserWarning)\n"
     ]
    },
    {
     "name": "stdout",
     "output_type": "stream",
     "text": [
      "Train set RMSE: 0.42\n",
      "Test set RMSE: 0.49\n",
      "Tested on combination ['is_curfew', 'rea', 'incid_rea']\n"
     ]
    },
    {
     "name": "stderr",
     "output_type": "stream",
     "text": [
      "C:\\Users\\Thomas\\anaconda3\\envs\\bikes-count\\lib\\site-packages\\xgboost\\core.py:160: UserWarning: [02:38:09] WARNING: C:\\buildkite-agent\\builds\\buildkite-windows-cpu-autoscaling-group-i-0750514818a16474a-1\\xgboost\\xgboost-ci-windows\\src\\learner.cc:742: \n",
      "Parameters: { \"objectives\", \"verbose\" } are not used.\n",
      "\n",
      "  warnings.warn(smsg, UserWarning)\n"
     ]
    },
    {
     "name": "stdout",
     "output_type": "stream",
     "text": [
      "Train set RMSE: 0.41\n",
      "Test set RMSE: 0.51\n",
      "Tested on combination ['is_curfew', 'rea', 'rad']\n"
     ]
    },
    {
     "name": "stderr",
     "output_type": "stream",
     "text": [
      "C:\\Users\\Thomas\\anaconda3\\envs\\bikes-count\\lib\\site-packages\\xgboost\\core.py:160: UserWarning: [02:38:15] WARNING: C:\\buildkite-agent\\builds\\buildkite-windows-cpu-autoscaling-group-i-0750514818a16474a-1\\xgboost\\xgboost-ci-windows\\src\\learner.cc:742: \n",
      "Parameters: { \"objectives\", \"verbose\" } are not used.\n",
      "\n",
      "  warnings.warn(smsg, UserWarning)\n"
     ]
    },
    {
     "name": "stdout",
     "output_type": "stream",
     "text": [
      "Train set RMSE: 0.43\n",
      "Test set RMSE: 0.49\n",
      "Tested on combination ['is_curfew', 'rea', 'Count_accidents']\n"
     ]
    },
    {
     "name": "stderr",
     "output_type": "stream",
     "text": [
      "C:\\Users\\Thomas\\anaconda3\\envs\\bikes-count\\lib\\site-packages\\xgboost\\core.py:160: UserWarning: [02:38:21] WARNING: C:\\buildkite-agent\\builds\\buildkite-windows-cpu-autoscaling-group-i-0750514818a16474a-1\\xgboost\\xgboost-ci-windows\\src\\learner.cc:742: \n",
      "Parameters: { \"objectives\", \"verbose\" } are not used.\n",
      "\n",
      "  warnings.warn(smsg, UserWarning)\n"
     ]
    },
    {
     "name": "stdout",
     "output_type": "stream",
     "text": [
      "Train set RMSE: 0.42\n",
      "Test set RMSE: 0.51\n",
      "Tested on combination ['is_curfew', 'incid_rea', 'rad']\n"
     ]
    },
    {
     "name": "stderr",
     "output_type": "stream",
     "text": [
      "C:\\Users\\Thomas\\anaconda3\\envs\\bikes-count\\lib\\site-packages\\xgboost\\core.py:160: UserWarning: [02:38:28] WARNING: C:\\buildkite-agent\\builds\\buildkite-windows-cpu-autoscaling-group-i-0750514818a16474a-1\\xgboost\\xgboost-ci-windows\\src\\learner.cc:742: \n",
      "Parameters: { \"objectives\", \"verbose\" } are not used.\n",
      "\n",
      "  warnings.warn(smsg, UserWarning)\n"
     ]
    },
    {
     "name": "stdout",
     "output_type": "stream",
     "text": [
      "Train set RMSE: 0.43\n",
      "Test set RMSE: 0.50\n",
      "Tested on combination ['is_curfew', 'incid_rea', 'Count_accidents']\n"
     ]
    },
    {
     "name": "stderr",
     "output_type": "stream",
     "text": [
      "C:\\Users\\Thomas\\anaconda3\\envs\\bikes-count\\lib\\site-packages\\xgboost\\core.py:160: UserWarning: [02:38:34] WARNING: C:\\buildkite-agent\\builds\\buildkite-windows-cpu-autoscaling-group-i-0750514818a16474a-1\\xgboost\\xgboost-ci-windows\\src\\learner.cc:742: \n",
      "Parameters: { \"objectives\", \"verbose\" } are not used.\n",
      "\n",
      "  warnings.warn(smsg, UserWarning)\n"
     ]
    },
    {
     "name": "stdout",
     "output_type": "stream",
     "text": [
      "Train set RMSE: 0.41\n",
      "Test set RMSE: 0.51\n",
      "Tested on combination ['is_curfew', 'rad', 'Count_accidents']\n"
     ]
    },
    {
     "name": "stderr",
     "output_type": "stream",
     "text": [
      "C:\\Users\\Thomas\\anaconda3\\envs\\bikes-count\\lib\\site-packages\\xgboost\\core.py:160: UserWarning: [02:38:40] WARNING: C:\\buildkite-agent\\builds\\buildkite-windows-cpu-autoscaling-group-i-0750514818a16474a-1\\xgboost\\xgboost-ci-windows\\src\\learner.cc:742: \n",
      "Parameters: { \"objectives\", \"verbose\" } are not used.\n",
      "\n",
      "  warnings.warn(smsg, UserWarning)\n"
     ]
    },
    {
     "name": "stdout",
     "output_type": "stream",
     "text": [
      "Train set RMSE: 0.42\n",
      "Test set RMSE: 0.48\n",
      "Tested on combination ['Max_Grav_accidents', 'hosp', 'rea']\n"
     ]
    },
    {
     "name": "stderr",
     "output_type": "stream",
     "text": [
      "C:\\Users\\Thomas\\anaconda3\\envs\\bikes-count\\lib\\site-packages\\xgboost\\core.py:160: UserWarning: [02:38:46] WARNING: C:\\buildkite-agent\\builds\\buildkite-windows-cpu-autoscaling-group-i-0750514818a16474a-1\\xgboost\\xgboost-ci-windows\\src\\learner.cc:742: \n",
      "Parameters: { \"objectives\", \"verbose\" } are not used.\n",
      "\n",
      "  warnings.warn(smsg, UserWarning)\n"
     ]
    },
    {
     "name": "stdout",
     "output_type": "stream",
     "text": [
      "Train set RMSE: 0.42\n",
      "Test set RMSE: 0.47\n",
      "Tested on combination ['Max_Grav_accidents', 'hosp', 'incid_rea']\n"
     ]
    },
    {
     "name": "stderr",
     "output_type": "stream",
     "text": [
      "C:\\Users\\Thomas\\anaconda3\\envs\\bikes-count\\lib\\site-packages\\xgboost\\core.py:160: UserWarning: [02:38:52] WARNING: C:\\buildkite-agent\\builds\\buildkite-windows-cpu-autoscaling-group-i-0750514818a16474a-1\\xgboost\\xgboost-ci-windows\\src\\learner.cc:742: \n",
      "Parameters: { \"objectives\", \"verbose\" } are not used.\n",
      "\n",
      "  warnings.warn(smsg, UserWarning)\n"
     ]
    },
    {
     "name": "stdout",
     "output_type": "stream",
     "text": [
      "Train set RMSE: 0.42\n",
      "Test set RMSE: 0.47\n",
      "Tested on combination ['Max_Grav_accidents', 'hosp', 'rad']\n"
     ]
    },
    {
     "name": "stderr",
     "output_type": "stream",
     "text": [
      "C:\\Users\\Thomas\\anaconda3\\envs\\bikes-count\\lib\\site-packages\\xgboost\\core.py:160: UserWarning: [02:38:58] WARNING: C:\\buildkite-agent\\builds\\buildkite-windows-cpu-autoscaling-group-i-0750514818a16474a-1\\xgboost\\xgboost-ci-windows\\src\\learner.cc:742: \n",
      "Parameters: { \"objectives\", \"verbose\" } are not used.\n",
      "\n",
      "  warnings.warn(smsg, UserWarning)\n"
     ]
    },
    {
     "name": "stdout",
     "output_type": "stream",
     "text": [
      "Train set RMSE: 0.42\n",
      "Test set RMSE: 0.45\n",
      "Tested on combination ['Max_Grav_accidents', 'hosp', 'Count_accidents']\n"
     ]
    },
    {
     "name": "stderr",
     "output_type": "stream",
     "text": [
      "C:\\Users\\Thomas\\anaconda3\\envs\\bikes-count\\lib\\site-packages\\xgboost\\core.py:160: UserWarning: [02:39:04] WARNING: C:\\buildkite-agent\\builds\\buildkite-windows-cpu-autoscaling-group-i-0750514818a16474a-1\\xgboost\\xgboost-ci-windows\\src\\learner.cc:742: \n",
      "Parameters: { \"objectives\", \"verbose\" } are not used.\n",
      "\n",
      "  warnings.warn(smsg, UserWarning)\n"
     ]
    },
    {
     "name": "stdout",
     "output_type": "stream",
     "text": [
      "Train set RMSE: 0.42\n",
      "Test set RMSE: 0.50\n",
      "Tested on combination ['Max_Grav_accidents', 'rea', 'incid_rea']\n"
     ]
    },
    {
     "name": "stderr",
     "output_type": "stream",
     "text": [
      "C:\\Users\\Thomas\\anaconda3\\envs\\bikes-count\\lib\\site-packages\\xgboost\\core.py:160: UserWarning: [02:39:10] WARNING: C:\\buildkite-agent\\builds\\buildkite-windows-cpu-autoscaling-group-i-0750514818a16474a-1\\xgboost\\xgboost-ci-windows\\src\\learner.cc:742: \n",
      "Parameters: { \"objectives\", \"verbose\" } are not used.\n",
      "\n",
      "  warnings.warn(smsg, UserWarning)\n"
     ]
    },
    {
     "name": "stdout",
     "output_type": "stream",
     "text": [
      "Train set RMSE: 0.42\n",
      "Test set RMSE: 0.52\n",
      "Tested on combination ['Max_Grav_accidents', 'rea', 'rad']\n"
     ]
    },
    {
     "name": "stderr",
     "output_type": "stream",
     "text": [
      "C:\\Users\\Thomas\\anaconda3\\envs\\bikes-count\\lib\\site-packages\\xgboost\\core.py:160: UserWarning: [02:39:16] WARNING: C:\\buildkite-agent\\builds\\buildkite-windows-cpu-autoscaling-group-i-0750514818a16474a-1\\xgboost\\xgboost-ci-windows\\src\\learner.cc:742: \n",
      "Parameters: { \"objectives\", \"verbose\" } are not used.\n",
      "\n",
      "  warnings.warn(smsg, UserWarning)\n"
     ]
    },
    {
     "name": "stdout",
     "output_type": "stream",
     "text": [
      "Train set RMSE: 0.42\n",
      "Test set RMSE: 0.49\n",
      "Tested on combination ['Max_Grav_accidents', 'rea', 'Count_accidents']\n"
     ]
    },
    {
     "name": "stderr",
     "output_type": "stream",
     "text": [
      "C:\\Users\\Thomas\\anaconda3\\envs\\bikes-count\\lib\\site-packages\\xgboost\\core.py:160: UserWarning: [02:39:22] WARNING: C:\\buildkite-agent\\builds\\buildkite-windows-cpu-autoscaling-group-i-0750514818a16474a-1\\xgboost\\xgboost-ci-windows\\src\\learner.cc:742: \n",
      "Parameters: { \"objectives\", \"verbose\" } are not used.\n",
      "\n",
      "  warnings.warn(smsg, UserWarning)\n"
     ]
    },
    {
     "name": "stdout",
     "output_type": "stream",
     "text": [
      "Train set RMSE: 0.41\n",
      "Test set RMSE: 0.50\n",
      "Tested on combination ['Max_Grav_accidents', 'incid_rea', 'rad']\n"
     ]
    },
    {
     "name": "stderr",
     "output_type": "stream",
     "text": [
      "C:\\Users\\Thomas\\anaconda3\\envs\\bikes-count\\lib\\site-packages\\xgboost\\core.py:160: UserWarning: [02:39:29] WARNING: C:\\buildkite-agent\\builds\\buildkite-windows-cpu-autoscaling-group-i-0750514818a16474a-1\\xgboost\\xgboost-ci-windows\\src\\learner.cc:742: \n",
      "Parameters: { \"objectives\", \"verbose\" } are not used.\n",
      "\n",
      "  warnings.warn(smsg, UserWarning)\n"
     ]
    },
    {
     "name": "stdout",
     "output_type": "stream",
     "text": [
      "Train set RMSE: 0.43\n",
      "Test set RMSE: 0.49\n",
      "Tested on combination ['Max_Grav_accidents', 'incid_rea', 'Count_accidents']\n"
     ]
    },
    {
     "name": "stderr",
     "output_type": "stream",
     "text": [
      "C:\\Users\\Thomas\\anaconda3\\envs\\bikes-count\\lib\\site-packages\\xgboost\\core.py:160: UserWarning: [02:39:35] WARNING: C:\\buildkite-agent\\builds\\buildkite-windows-cpu-autoscaling-group-i-0750514818a16474a-1\\xgboost\\xgboost-ci-windows\\src\\learner.cc:742: \n",
      "Parameters: { \"objectives\", \"verbose\" } are not used.\n",
      "\n",
      "  warnings.warn(smsg, UserWarning)\n"
     ]
    },
    {
     "name": "stdout",
     "output_type": "stream",
     "text": [
      "Train set RMSE: 0.42\n",
      "Test set RMSE: 0.52\n",
      "Tested on combination ['Max_Grav_accidents', 'rad', 'Count_accidents']\n"
     ]
    },
    {
     "name": "stderr",
     "output_type": "stream",
     "text": [
      "C:\\Users\\Thomas\\anaconda3\\envs\\bikes-count\\lib\\site-packages\\xgboost\\core.py:160: UserWarning: [02:39:41] WARNING: C:\\buildkite-agent\\builds\\buildkite-windows-cpu-autoscaling-group-i-0750514818a16474a-1\\xgboost\\xgboost-ci-windows\\src\\learner.cc:742: \n",
      "Parameters: { \"objectives\", \"verbose\" } are not used.\n",
      "\n",
      "  warnings.warn(smsg, UserWarning)\n"
     ]
    },
    {
     "name": "stdout",
     "output_type": "stream",
     "text": [
      "Train set RMSE: 0.42\n",
      "Test set RMSE: 0.48\n",
      "Tested on combination ['hosp', 'rea', 'incid_rea']\n"
     ]
    },
    {
     "name": "stderr",
     "output_type": "stream",
     "text": [
      "C:\\Users\\Thomas\\anaconda3\\envs\\bikes-count\\lib\\site-packages\\xgboost\\core.py:160: UserWarning: [02:39:47] WARNING: C:\\buildkite-agent\\builds\\buildkite-windows-cpu-autoscaling-group-i-0750514818a16474a-1\\xgboost\\xgboost-ci-windows\\src\\learner.cc:742: \n",
      "Parameters: { \"objectives\", \"verbose\" } are not used.\n",
      "\n",
      "  warnings.warn(smsg, UserWarning)\n"
     ]
    },
    {
     "name": "stdout",
     "output_type": "stream",
     "text": [
      "Train set RMSE: 0.42\n",
      "Test set RMSE: 0.51\n",
      "Tested on combination ['hosp', 'rea', 'rad']\n"
     ]
    },
    {
     "name": "stderr",
     "output_type": "stream",
     "text": [
      "C:\\Users\\Thomas\\anaconda3\\envs\\bikes-count\\lib\\site-packages\\xgboost\\core.py:160: UserWarning: [02:39:53] WARNING: C:\\buildkite-agent\\builds\\buildkite-windows-cpu-autoscaling-group-i-0750514818a16474a-1\\xgboost\\xgboost-ci-windows\\src\\learner.cc:742: \n",
      "Parameters: { \"objectives\", \"verbose\" } are not used.\n",
      "\n",
      "  warnings.warn(smsg, UserWarning)\n"
     ]
    },
    {
     "name": "stdout",
     "output_type": "stream",
     "text": [
      "Train set RMSE: 0.42\n",
      "Test set RMSE: 0.47\n",
      "Tested on combination ['hosp', 'rea', 'Count_accidents']\n"
     ]
    },
    {
     "name": "stderr",
     "output_type": "stream",
     "text": [
      "C:\\Users\\Thomas\\anaconda3\\envs\\bikes-count\\lib\\site-packages\\xgboost\\core.py:160: UserWarning: [02:39:59] WARNING: C:\\buildkite-agent\\builds\\buildkite-windows-cpu-autoscaling-group-i-0750514818a16474a-1\\xgboost\\xgboost-ci-windows\\src\\learner.cc:742: \n",
      "Parameters: { \"objectives\", \"verbose\" } are not used.\n",
      "\n",
      "  warnings.warn(smsg, UserWarning)\n"
     ]
    },
    {
     "name": "stdout",
     "output_type": "stream",
     "text": [
      "Train set RMSE: 0.41\n",
      "Test set RMSE: 0.49\n",
      "Tested on combination ['hosp', 'incid_rea', 'rad']\n"
     ]
    },
    {
     "name": "stderr",
     "output_type": "stream",
     "text": [
      "C:\\Users\\Thomas\\anaconda3\\envs\\bikes-count\\lib\\site-packages\\xgboost\\core.py:160: UserWarning: [02:40:05] WARNING: C:\\buildkite-agent\\builds\\buildkite-windows-cpu-autoscaling-group-i-0750514818a16474a-1\\xgboost\\xgboost-ci-windows\\src\\learner.cc:742: \n",
      "Parameters: { \"objectives\", \"verbose\" } are not used.\n",
      "\n",
      "  warnings.warn(smsg, UserWarning)\n"
     ]
    },
    {
     "name": "stdout",
     "output_type": "stream",
     "text": [
      "Train set RMSE: 0.42\n",
      "Test set RMSE: 0.48\n",
      "Tested on combination ['hosp', 'incid_rea', 'Count_accidents']\n"
     ]
    },
    {
     "name": "stderr",
     "output_type": "stream",
     "text": [
      "C:\\Users\\Thomas\\anaconda3\\envs\\bikes-count\\lib\\site-packages\\xgboost\\core.py:160: UserWarning: [02:40:11] WARNING: C:\\buildkite-agent\\builds\\buildkite-windows-cpu-autoscaling-group-i-0750514818a16474a-1\\xgboost\\xgboost-ci-windows\\src\\learner.cc:742: \n",
      "Parameters: { \"objectives\", \"verbose\" } are not used.\n",
      "\n",
      "  warnings.warn(smsg, UserWarning)\n"
     ]
    },
    {
     "name": "stdout",
     "output_type": "stream",
     "text": [
      "Train set RMSE: 0.41\n",
      "Test set RMSE: 0.50\n",
      "Tested on combination ['hosp', 'rad', 'Count_accidents']\n"
     ]
    },
    {
     "name": "stderr",
     "output_type": "stream",
     "text": [
      "C:\\Users\\Thomas\\anaconda3\\envs\\bikes-count\\lib\\site-packages\\xgboost\\core.py:160: UserWarning: [02:40:18] WARNING: C:\\buildkite-agent\\builds\\buildkite-windows-cpu-autoscaling-group-i-0750514818a16474a-1\\xgboost\\xgboost-ci-windows\\src\\learner.cc:742: \n",
      "Parameters: { \"objectives\", \"verbose\" } are not used.\n",
      "\n",
      "  warnings.warn(smsg, UserWarning)\n"
     ]
    },
    {
     "name": "stdout",
     "output_type": "stream",
     "text": [
      "Train set RMSE: 0.41\n",
      "Test set RMSE: 0.57\n",
      "Tested on combination ['rea', 'incid_rea', 'rad']\n"
     ]
    },
    {
     "name": "stderr",
     "output_type": "stream",
     "text": [
      "C:\\Users\\Thomas\\anaconda3\\envs\\bikes-count\\lib\\site-packages\\xgboost\\core.py:160: UserWarning: [02:40:25] WARNING: C:\\buildkite-agent\\builds\\buildkite-windows-cpu-autoscaling-group-i-0750514818a16474a-1\\xgboost\\xgboost-ci-windows\\src\\learner.cc:742: \n",
      "Parameters: { \"objectives\", \"verbose\" } are not used.\n",
      "\n",
      "  warnings.warn(smsg, UserWarning)\n"
     ]
    },
    {
     "name": "stdout",
     "output_type": "stream",
     "text": [
      "Train set RMSE: 0.42\n",
      "Test set RMSE: 0.51\n",
      "Tested on combination ['rea', 'incid_rea', 'Count_accidents']\n"
     ]
    },
    {
     "name": "stderr",
     "output_type": "stream",
     "text": [
      "C:\\Users\\Thomas\\anaconda3\\envs\\bikes-count\\lib\\site-packages\\xgboost\\core.py:160: UserWarning: [02:40:31] WARNING: C:\\buildkite-agent\\builds\\buildkite-windows-cpu-autoscaling-group-i-0750514818a16474a-1\\xgboost\\xgboost-ci-windows\\src\\learner.cc:742: \n",
      "Parameters: { \"objectives\", \"verbose\" } are not used.\n",
      "\n",
      "  warnings.warn(smsg, UserWarning)\n"
     ]
    },
    {
     "name": "stdout",
     "output_type": "stream",
     "text": [
      "Train set RMSE: 0.41\n",
      "Test set RMSE: 0.54\n",
      "Tested on combination ['rea', 'rad', 'Count_accidents']\n"
     ]
    },
    {
     "name": "stderr",
     "output_type": "stream",
     "text": [
      "C:\\Users\\Thomas\\anaconda3\\envs\\bikes-count\\lib\\site-packages\\xgboost\\core.py:160: UserWarning: [02:40:38] WARNING: C:\\buildkite-agent\\builds\\buildkite-windows-cpu-autoscaling-group-i-0750514818a16474a-1\\xgboost\\xgboost-ci-windows\\src\\learner.cc:742: \n",
      "Parameters: { \"objectives\", \"verbose\" } are not used.\n",
      "\n",
      "  warnings.warn(smsg, UserWarning)\n"
     ]
    },
    {
     "name": "stdout",
     "output_type": "stream",
     "text": [
      "Train set RMSE: 0.41\n",
      "Test set RMSE: 0.50\n",
      "Tested on combination ['incid_rea', 'rad', 'Count_accidents']\n"
     ]
    },
    {
     "name": "stderr",
     "output_type": "stream",
     "text": [
      "C:\\Users\\Thomas\\anaconda3\\envs\\bikes-count\\lib\\site-packages\\xgboost\\core.py:160: UserWarning: [02:40:45] WARNING: C:\\buildkite-agent\\builds\\buildkite-windows-cpu-autoscaling-group-i-0750514818a16474a-1\\xgboost\\xgboost-ci-windows\\src\\learner.cc:742: \n",
      "Parameters: { \"objectives\", \"verbose\" } are not used.\n",
      "\n",
      "  warnings.warn(smsg, UserWarning)\n"
     ]
    },
    {
     "name": "stdout",
     "output_type": "stream",
     "text": [
      "Train set RMSE: 0.43\n",
      "Test set RMSE: 0.50\n",
      "Tested on combination ['is_holiday', 'is_weekend', 'is_lockdown', 'is_curfew']\n"
     ]
    },
    {
     "name": "stderr",
     "output_type": "stream",
     "text": [
      "C:\\Users\\Thomas\\anaconda3\\envs\\bikes-count\\lib\\site-packages\\xgboost\\core.py:160: UserWarning: [02:40:52] WARNING: C:\\buildkite-agent\\builds\\buildkite-windows-cpu-autoscaling-group-i-0750514818a16474a-1\\xgboost\\xgboost-ci-windows\\src\\learner.cc:742: \n",
      "Parameters: { \"objectives\", \"verbose\" } are not used.\n",
      "\n",
      "  warnings.warn(smsg, UserWarning)\n"
     ]
    },
    {
     "name": "stdout",
     "output_type": "stream",
     "text": [
      "Train set RMSE: 0.43\n",
      "Test set RMSE: 0.48\n",
      "Tested on combination ['is_holiday', 'is_weekend', 'is_lockdown', 'Max_Grav_accidents']\n"
     ]
    },
    {
     "name": "stderr",
     "output_type": "stream",
     "text": [
      "C:\\Users\\Thomas\\anaconda3\\envs\\bikes-count\\lib\\site-packages\\xgboost\\core.py:160: UserWarning: [02:40:59] WARNING: C:\\buildkite-agent\\builds\\buildkite-windows-cpu-autoscaling-group-i-0750514818a16474a-1\\xgboost\\xgboost-ci-windows\\src\\learner.cc:742: \n",
      "Parameters: { \"objectives\", \"verbose\" } are not used.\n",
      "\n",
      "  warnings.warn(smsg, UserWarning)\n"
     ]
    },
    {
     "name": "stdout",
     "output_type": "stream",
     "text": [
      "Train set RMSE: 0.41\n",
      "Test set RMSE: 0.45\n",
      "Tested on combination ['is_holiday', 'is_weekend', 'is_lockdown', 'hosp']\n"
     ]
    },
    {
     "name": "stderr",
     "output_type": "stream",
     "text": [
      "C:\\Users\\Thomas\\anaconda3\\envs\\bikes-count\\lib\\site-packages\\xgboost\\core.py:160: UserWarning: [02:41:06] WARNING: C:\\buildkite-agent\\builds\\buildkite-windows-cpu-autoscaling-group-i-0750514818a16474a-1\\xgboost\\xgboost-ci-windows\\src\\learner.cc:742: \n",
      "Parameters: { \"objectives\", \"verbose\" } are not used.\n",
      "\n",
      "  warnings.warn(smsg, UserWarning)\n"
     ]
    },
    {
     "name": "stdout",
     "output_type": "stream",
     "text": [
      "Train set RMSE: 0.42\n",
      "Test set RMSE: 0.50\n",
      "Tested on combination ['is_holiday', 'is_weekend', 'is_lockdown', 'rea']\n"
     ]
    },
    {
     "name": "stderr",
     "output_type": "stream",
     "text": [
      "C:\\Users\\Thomas\\anaconda3\\envs\\bikes-count\\lib\\site-packages\\xgboost\\core.py:160: UserWarning: [02:41:13] WARNING: C:\\buildkite-agent\\builds\\buildkite-windows-cpu-autoscaling-group-i-0750514818a16474a-1\\xgboost\\xgboost-ci-windows\\src\\learner.cc:742: \n",
      "Parameters: { \"objectives\", \"verbose\" } are not used.\n",
      "\n",
      "  warnings.warn(smsg, UserWarning)\n"
     ]
    },
    {
     "name": "stdout",
     "output_type": "stream",
     "text": [
      "Train set RMSE: 0.43\n",
      "Test set RMSE: 0.49\n",
      "Tested on combination ['is_holiday', 'is_weekend', 'is_lockdown', 'incid_rea']\n"
     ]
    },
    {
     "name": "stderr",
     "output_type": "stream",
     "text": [
      "C:\\Users\\Thomas\\anaconda3\\envs\\bikes-count\\lib\\site-packages\\xgboost\\core.py:160: UserWarning: [02:41:20] WARNING: C:\\buildkite-agent\\builds\\buildkite-windows-cpu-autoscaling-group-i-0750514818a16474a-1\\xgboost\\xgboost-ci-windows\\src\\learner.cc:742: \n",
      "Parameters: { \"objectives\", \"verbose\" } are not used.\n",
      "\n",
      "  warnings.warn(smsg, UserWarning)\n"
     ]
    },
    {
     "name": "stdout",
     "output_type": "stream",
     "text": [
      "Train set RMSE: 0.41\n",
      "Test set RMSE: 0.51\n",
      "Tested on combination ['is_holiday', 'is_weekend', 'is_lockdown', 'rad']\n"
     ]
    },
    {
     "name": "stderr",
     "output_type": "stream",
     "text": [
      "C:\\Users\\Thomas\\anaconda3\\envs\\bikes-count\\lib\\site-packages\\xgboost\\core.py:160: UserWarning: [02:41:27] WARNING: C:\\buildkite-agent\\builds\\buildkite-windows-cpu-autoscaling-group-i-0750514818a16474a-1\\xgboost\\xgboost-ci-windows\\src\\learner.cc:742: \n",
      "Parameters: { \"objectives\", \"verbose\" } are not used.\n",
      "\n",
      "  warnings.warn(smsg, UserWarning)\n"
     ]
    },
    {
     "name": "stdout",
     "output_type": "stream",
     "text": [
      "Train set RMSE: 0.43\n",
      "Test set RMSE: 0.49\n",
      "Tested on combination ['is_holiday', 'is_weekend', 'is_lockdown', 'Count_accidents']\n"
     ]
    },
    {
     "name": "stderr",
     "output_type": "stream",
     "text": [
      "C:\\Users\\Thomas\\anaconda3\\envs\\bikes-count\\lib\\site-packages\\xgboost\\core.py:160: UserWarning: [02:41:34] WARNING: C:\\buildkite-agent\\builds\\buildkite-windows-cpu-autoscaling-group-i-0750514818a16474a-1\\xgboost\\xgboost-ci-windows\\src\\learner.cc:742: \n",
      "Parameters: { \"objectives\", \"verbose\" } are not used.\n",
      "\n",
      "  warnings.warn(smsg, UserWarning)\n"
     ]
    },
    {
     "name": "stdout",
     "output_type": "stream",
     "text": [
      "Train set RMSE: 0.43\n",
      "Test set RMSE: 0.49\n",
      "Tested on combination ['is_holiday', 'is_weekend', 'is_curfew', 'Max_Grav_accidents']\n"
     ]
    },
    {
     "name": "stderr",
     "output_type": "stream",
     "text": [
      "C:\\Users\\Thomas\\anaconda3\\envs\\bikes-count\\lib\\site-packages\\xgboost\\core.py:160: UserWarning: [02:41:41] WARNING: C:\\buildkite-agent\\builds\\buildkite-windows-cpu-autoscaling-group-i-0750514818a16474a-1\\xgboost\\xgboost-ci-windows\\src\\learner.cc:742: \n",
      "Parameters: { \"objectives\", \"verbose\" } are not used.\n",
      "\n",
      "  warnings.warn(smsg, UserWarning)\n"
     ]
    },
    {
     "name": "stdout",
     "output_type": "stream",
     "text": [
      "Train set RMSE: 0.42\n",
      "Test set RMSE: 0.47\n",
      "Tested on combination ['is_holiday', 'is_weekend', 'is_curfew', 'hosp']\n"
     ]
    },
    {
     "name": "stderr",
     "output_type": "stream",
     "text": [
      "C:\\Users\\Thomas\\anaconda3\\envs\\bikes-count\\lib\\site-packages\\xgboost\\core.py:160: UserWarning: [02:41:48] WARNING: C:\\buildkite-agent\\builds\\buildkite-windows-cpu-autoscaling-group-i-0750514818a16474a-1\\xgboost\\xgboost-ci-windows\\src\\learner.cc:742: \n",
      "Parameters: { \"objectives\", \"verbose\" } are not used.\n",
      "\n",
      "  warnings.warn(smsg, UserWarning)\n"
     ]
    },
    {
     "name": "stdout",
     "output_type": "stream",
     "text": [
      "Train set RMSE: 0.42\n",
      "Test set RMSE: 0.49\n",
      "Tested on combination ['is_holiday', 'is_weekend', 'is_curfew', 'rea']\n"
     ]
    },
    {
     "name": "stderr",
     "output_type": "stream",
     "text": [
      "C:\\Users\\Thomas\\anaconda3\\envs\\bikes-count\\lib\\site-packages\\xgboost\\core.py:160: UserWarning: [02:41:55] WARNING: C:\\buildkite-agent\\builds\\buildkite-windows-cpu-autoscaling-group-i-0750514818a16474a-1\\xgboost\\xgboost-ci-windows\\src\\learner.cc:742: \n",
      "Parameters: { \"objectives\", \"verbose\" } are not used.\n",
      "\n",
      "  warnings.warn(smsg, UserWarning)\n"
     ]
    },
    {
     "name": "stdout",
     "output_type": "stream",
     "text": [
      "Train set RMSE: 0.43\n",
      "Test set RMSE: 0.49\n",
      "Tested on combination ['is_holiday', 'is_weekend', 'is_curfew', 'incid_rea']\n"
     ]
    },
    {
     "name": "stderr",
     "output_type": "stream",
     "text": [
      "C:\\Users\\Thomas\\anaconda3\\envs\\bikes-count\\lib\\site-packages\\xgboost\\core.py:160: UserWarning: [02:42:01] WARNING: C:\\buildkite-agent\\builds\\buildkite-windows-cpu-autoscaling-group-i-0750514818a16474a-1\\xgboost\\xgboost-ci-windows\\src\\learner.cc:742: \n",
      "Parameters: { \"objectives\", \"verbose\" } are not used.\n",
      "\n",
      "  warnings.warn(smsg, UserWarning)\n"
     ]
    },
    {
     "name": "stdout",
     "output_type": "stream",
     "text": [
      "Train set RMSE: 0.41\n",
      "Test set RMSE: 0.50\n",
      "Tested on combination ['is_holiday', 'is_weekend', 'is_curfew', 'rad']\n"
     ]
    },
    {
     "name": "stderr",
     "output_type": "stream",
     "text": [
      "C:\\Users\\Thomas\\anaconda3\\envs\\bikes-count\\lib\\site-packages\\xgboost\\core.py:160: UserWarning: [02:42:08] WARNING: C:\\buildkite-agent\\builds\\buildkite-windows-cpu-autoscaling-group-i-0750514818a16474a-1\\xgboost\\xgboost-ci-windows\\src\\learner.cc:742: \n",
      "Parameters: { \"objectives\", \"verbose\" } are not used.\n",
      "\n",
      "  warnings.warn(smsg, UserWarning)\n"
     ]
    },
    {
     "name": "stdout",
     "output_type": "stream",
     "text": [
      "Train set RMSE: 0.43\n",
      "Test set RMSE: 0.48\n",
      "Tested on combination ['is_holiday', 'is_weekend', 'is_curfew', 'Count_accidents']\n"
     ]
    },
    {
     "name": "stderr",
     "output_type": "stream",
     "text": [
      "C:\\Users\\Thomas\\anaconda3\\envs\\bikes-count\\lib\\site-packages\\xgboost\\core.py:160: UserWarning: [02:42:15] WARNING: C:\\buildkite-agent\\builds\\buildkite-windows-cpu-autoscaling-group-i-0750514818a16474a-1\\xgboost\\xgboost-ci-windows\\src\\learner.cc:742: \n",
      "Parameters: { \"objectives\", \"verbose\" } are not used.\n",
      "\n",
      "  warnings.warn(smsg, UserWarning)\n"
     ]
    },
    {
     "name": "stdout",
     "output_type": "stream",
     "text": [
      "Train set RMSE: 0.41\n",
      "Test set RMSE: 0.48\n",
      "Tested on combination ['is_holiday', 'is_weekend', 'Max_Grav_accidents', 'hosp']\n"
     ]
    },
    {
     "name": "stderr",
     "output_type": "stream",
     "text": [
      "C:\\Users\\Thomas\\anaconda3\\envs\\bikes-count\\lib\\site-packages\\xgboost\\core.py:160: UserWarning: [02:42:22] WARNING: C:\\buildkite-agent\\builds\\buildkite-windows-cpu-autoscaling-group-i-0750514818a16474a-1\\xgboost\\xgboost-ci-windows\\src\\learner.cc:742: \n",
      "Parameters: { \"objectives\", \"verbose\" } are not used.\n",
      "\n",
      "  warnings.warn(smsg, UserWarning)\n"
     ]
    },
    {
     "name": "stdout",
     "output_type": "stream",
     "text": [
      "Train set RMSE: 0.42\n",
      "Test set RMSE: 0.50\n",
      "Tested on combination ['is_holiday', 'is_weekend', 'Max_Grav_accidents', 'rea']\n"
     ]
    },
    {
     "name": "stderr",
     "output_type": "stream",
     "text": [
      "C:\\Users\\Thomas\\anaconda3\\envs\\bikes-count\\lib\\site-packages\\xgboost\\core.py:160: UserWarning: [02:42:29] WARNING: C:\\buildkite-agent\\builds\\buildkite-windows-cpu-autoscaling-group-i-0750514818a16474a-1\\xgboost\\xgboost-ci-windows\\src\\learner.cc:742: \n",
      "Parameters: { \"objectives\", \"verbose\" } are not used.\n",
      "\n",
      "  warnings.warn(smsg, UserWarning)\n"
     ]
    },
    {
     "name": "stdout",
     "output_type": "stream",
     "text": [
      "Train set RMSE: 0.43\n",
      "Test set RMSE: 0.49\n",
      "Tested on combination ['is_holiday', 'is_weekend', 'Max_Grav_accidents', 'incid_rea']\n"
     ]
    },
    {
     "name": "stderr",
     "output_type": "stream",
     "text": [
      "C:\\Users\\Thomas\\anaconda3\\envs\\bikes-count\\lib\\site-packages\\xgboost\\core.py:160: UserWarning: [02:42:36] WARNING: C:\\buildkite-agent\\builds\\buildkite-windows-cpu-autoscaling-group-i-0750514818a16474a-1\\xgboost\\xgboost-ci-windows\\src\\learner.cc:742: \n",
      "Parameters: { \"objectives\", \"verbose\" } are not used.\n",
      "\n",
      "  warnings.warn(smsg, UserWarning)\n"
     ]
    },
    {
     "name": "stdout",
     "output_type": "stream",
     "text": [
      "Train set RMSE: 0.41\n",
      "Test set RMSE: 0.51\n",
      "Tested on combination ['is_holiday', 'is_weekend', 'Max_Grav_accidents', 'rad']\n"
     ]
    },
    {
     "name": "stderr",
     "output_type": "stream",
     "text": [
      "C:\\Users\\Thomas\\anaconda3\\envs\\bikes-count\\lib\\site-packages\\xgboost\\core.py:160: UserWarning: [02:42:43] WARNING: C:\\buildkite-agent\\builds\\buildkite-windows-cpu-autoscaling-group-i-0750514818a16474a-1\\xgboost\\xgboost-ci-windows\\src\\learner.cc:742: \n",
      "Parameters: { \"objectives\", \"verbose\" } are not used.\n",
      "\n",
      "  warnings.warn(smsg, UserWarning)\n"
     ]
    },
    {
     "name": "stdout",
     "output_type": "stream",
     "text": [
      "Train set RMSE: 0.43\n",
      "Test set RMSE: 0.49\n",
      "Tested on combination ['is_holiday', 'is_weekend', 'Max_Grav_accidents', 'Count_accidents']\n"
     ]
    },
    {
     "name": "stderr",
     "output_type": "stream",
     "text": [
      "C:\\Users\\Thomas\\anaconda3\\envs\\bikes-count\\lib\\site-packages\\xgboost\\core.py:160: UserWarning: [02:42:50] WARNING: C:\\buildkite-agent\\builds\\buildkite-windows-cpu-autoscaling-group-i-0750514818a16474a-1\\xgboost\\xgboost-ci-windows\\src\\learner.cc:742: \n",
      "Parameters: { \"objectives\", \"verbose\" } are not used.\n",
      "\n",
      "  warnings.warn(smsg, UserWarning)\n"
     ]
    },
    {
     "name": "stdout",
     "output_type": "stream",
     "text": [
      "Train set RMSE: 0.42\n",
      "Test set RMSE: 0.50\n",
      "Tested on combination ['is_holiday', 'is_weekend', 'hosp', 'rea']\n"
     ]
    },
    {
     "name": "stderr",
     "output_type": "stream",
     "text": [
      "C:\\Users\\Thomas\\anaconda3\\envs\\bikes-count\\lib\\site-packages\\xgboost\\core.py:160: UserWarning: [02:42:57] WARNING: C:\\buildkite-agent\\builds\\buildkite-windows-cpu-autoscaling-group-i-0750514818a16474a-1\\xgboost\\xgboost-ci-windows\\src\\learner.cc:742: \n",
      "Parameters: { \"objectives\", \"verbose\" } are not used.\n",
      "\n",
      "  warnings.warn(smsg, UserWarning)\n"
     ]
    },
    {
     "name": "stdout",
     "output_type": "stream",
     "text": [
      "Train set RMSE: 0.42\n",
      "Test set RMSE: 0.48\n",
      "Tested on combination ['is_holiday', 'is_weekend', 'hosp', 'incid_rea']\n"
     ]
    },
    {
     "name": "stderr",
     "output_type": "stream",
     "text": [
      "C:\\Users\\Thomas\\anaconda3\\envs\\bikes-count\\lib\\site-packages\\xgboost\\core.py:160: UserWarning: [02:43:04] WARNING: C:\\buildkite-agent\\builds\\buildkite-windows-cpu-autoscaling-group-i-0750514818a16474a-1\\xgboost\\xgboost-ci-windows\\src\\learner.cc:742: \n",
      "Parameters: { \"objectives\", \"verbose\" } are not used.\n",
      "\n",
      "  warnings.warn(smsg, UserWarning)\n"
     ]
    },
    {
     "name": "stdout",
     "output_type": "stream",
     "text": [
      "Train set RMSE: 0.41\n",
      "Test set RMSE: 0.51\n",
      "Tested on combination ['is_holiday', 'is_weekend', 'hosp', 'rad']\n"
     ]
    },
    {
     "name": "stderr",
     "output_type": "stream",
     "text": [
      "C:\\Users\\Thomas\\anaconda3\\envs\\bikes-count\\lib\\site-packages\\xgboost\\core.py:160: UserWarning: [02:43:11] WARNING: C:\\buildkite-agent\\builds\\buildkite-windows-cpu-autoscaling-group-i-0750514818a16474a-1\\xgboost\\xgboost-ci-windows\\src\\learner.cc:742: \n",
      "Parameters: { \"objectives\", \"verbose\" } are not used.\n",
      "\n",
      "  warnings.warn(smsg, UserWarning)\n"
     ]
    },
    {
     "name": "stdout",
     "output_type": "stream",
     "text": [
      "Train set RMSE: 0.42\n",
      "Test set RMSE: 0.47\n",
      "Tested on combination ['is_holiday', 'is_weekend', 'hosp', 'Count_accidents']\n"
     ]
    },
    {
     "name": "stderr",
     "output_type": "stream",
     "text": [
      "C:\\Users\\Thomas\\anaconda3\\envs\\bikes-count\\lib\\site-packages\\xgboost\\core.py:160: UserWarning: [02:43:18] WARNING: C:\\buildkite-agent\\builds\\buildkite-windows-cpu-autoscaling-group-i-0750514818a16474a-1\\xgboost\\xgboost-ci-windows\\src\\learner.cc:742: \n",
      "Parameters: { \"objectives\", \"verbose\" } are not used.\n",
      "\n",
      "  warnings.warn(smsg, UserWarning)\n"
     ]
    },
    {
     "name": "stdout",
     "output_type": "stream",
     "text": [
      "Train set RMSE: 0.42\n",
      "Test set RMSE: 0.53\n",
      "Tested on combination ['is_holiday', 'is_weekend', 'rea', 'incid_rea']\n"
     ]
    },
    {
     "name": "stderr",
     "output_type": "stream",
     "text": [
      "C:\\Users\\Thomas\\anaconda3\\envs\\bikes-count\\lib\\site-packages\\xgboost\\core.py:160: UserWarning: [02:43:24] WARNING: C:\\buildkite-agent\\builds\\buildkite-windows-cpu-autoscaling-group-i-0750514818a16474a-1\\xgboost\\xgboost-ci-windows\\src\\learner.cc:742: \n",
      "Parameters: { \"objectives\", \"verbose\" } are not used.\n",
      "\n",
      "  warnings.warn(smsg, UserWarning)\n"
     ]
    },
    {
     "name": "stdout",
     "output_type": "stream",
     "text": [
      "Train set RMSE: 0.41\n",
      "Test set RMSE: 0.54\n",
      "Tested on combination ['is_holiday', 'is_weekend', 'rea', 'rad']\n"
     ]
    },
    {
     "name": "stderr",
     "output_type": "stream",
     "text": [
      "C:\\Users\\Thomas\\anaconda3\\envs\\bikes-count\\lib\\site-packages\\xgboost\\core.py:160: UserWarning: [02:43:31] WARNING: C:\\buildkite-agent\\builds\\buildkite-windows-cpu-autoscaling-group-i-0750514818a16474a-1\\xgboost\\xgboost-ci-windows\\src\\learner.cc:742: \n",
      "Parameters: { \"objectives\", \"verbose\" } are not used.\n",
      "\n",
      "  warnings.warn(smsg, UserWarning)\n"
     ]
    },
    {
     "name": "stdout",
     "output_type": "stream",
     "text": [
      "Train set RMSE: 0.42\n",
      "Test set RMSE: 0.49\n",
      "Tested on combination ['is_holiday', 'is_weekend', 'rea', 'Count_accidents']\n"
     ]
    },
    {
     "name": "stderr",
     "output_type": "stream",
     "text": [
      "C:\\Users\\Thomas\\anaconda3\\envs\\bikes-count\\lib\\site-packages\\xgboost\\core.py:160: UserWarning: [02:43:38] WARNING: C:\\buildkite-agent\\builds\\buildkite-windows-cpu-autoscaling-group-i-0750514818a16474a-1\\xgboost\\xgboost-ci-windows\\src\\learner.cc:742: \n",
      "Parameters: { \"objectives\", \"verbose\" } are not used.\n",
      "\n",
      "  warnings.warn(smsg, UserWarning)\n"
     ]
    },
    {
     "name": "stdout",
     "output_type": "stream",
     "text": [
      "Train set RMSE: 0.41\n",
      "Test set RMSE: 0.52\n",
      "Tested on combination ['is_holiday', 'is_weekend', 'incid_rea', 'rad']\n"
     ]
    },
    {
     "name": "stderr",
     "output_type": "stream",
     "text": [
      "C:\\Users\\Thomas\\anaconda3\\envs\\bikes-count\\lib\\site-packages\\xgboost\\core.py:160: UserWarning: [02:43:46] WARNING: C:\\buildkite-agent\\builds\\buildkite-windows-cpu-autoscaling-group-i-0750514818a16474a-1\\xgboost\\xgboost-ci-windows\\src\\learner.cc:742: \n",
      "Parameters: { \"objectives\", \"verbose\" } are not used.\n",
      "\n",
      "  warnings.warn(smsg, UserWarning)\n"
     ]
    },
    {
     "name": "stdout",
     "output_type": "stream",
     "text": [
      "Train set RMSE: 0.43\n",
      "Test set RMSE: 0.48\n",
      "Tested on combination ['is_holiday', 'is_weekend', 'incid_rea', 'Count_accidents']\n"
     ]
    },
    {
     "name": "stderr",
     "output_type": "stream",
     "text": [
      "C:\\Users\\Thomas\\anaconda3\\envs\\bikes-count\\lib\\site-packages\\xgboost\\core.py:160: UserWarning: [02:43:52] WARNING: C:\\buildkite-agent\\builds\\buildkite-windows-cpu-autoscaling-group-i-0750514818a16474a-1\\xgboost\\xgboost-ci-windows\\src\\learner.cc:742: \n",
      "Parameters: { \"objectives\", \"verbose\" } are not used.\n",
      "\n",
      "  warnings.warn(smsg, UserWarning)\n"
     ]
    },
    {
     "name": "stdout",
     "output_type": "stream",
     "text": [
      "Train set RMSE: 0.41\n",
      "Test set RMSE: 0.51\n",
      "Tested on combination ['is_holiday', 'is_weekend', 'rad', 'Count_accidents']\n"
     ]
    },
    {
     "name": "stderr",
     "output_type": "stream",
     "text": [
      "C:\\Users\\Thomas\\anaconda3\\envs\\bikes-count\\lib\\site-packages\\xgboost\\core.py:160: UserWarning: [02:43:59] WARNING: C:\\buildkite-agent\\builds\\buildkite-windows-cpu-autoscaling-group-i-0750514818a16474a-1\\xgboost\\xgboost-ci-windows\\src\\learner.cc:742: \n",
      "Parameters: { \"objectives\", \"verbose\" } are not used.\n",
      "\n",
      "  warnings.warn(smsg, UserWarning)\n"
     ]
    },
    {
     "name": "stdout",
     "output_type": "stream",
     "text": [
      "Train set RMSE: 0.43\n",
      "Test set RMSE: 0.49\n",
      "Tested on combination ['is_holiday', 'is_lockdown', 'is_curfew', 'Max_Grav_accidents']\n"
     ]
    },
    {
     "name": "stderr",
     "output_type": "stream",
     "text": [
      "C:\\Users\\Thomas\\anaconda3\\envs\\bikes-count\\lib\\site-packages\\xgboost\\core.py:160: UserWarning: [02:44:06] WARNING: C:\\buildkite-agent\\builds\\buildkite-windows-cpu-autoscaling-group-i-0750514818a16474a-1\\xgboost\\xgboost-ci-windows\\src\\learner.cc:742: \n",
      "Parameters: { \"objectives\", \"verbose\" } are not used.\n",
      "\n",
      "  warnings.warn(smsg, UserWarning)\n"
     ]
    },
    {
     "name": "stdout",
     "output_type": "stream",
     "text": [
      "Train set RMSE: 0.42\n",
      "Test set RMSE: 0.48\n",
      "Tested on combination ['is_holiday', 'is_lockdown', 'is_curfew', 'hosp']\n"
     ]
    },
    {
     "name": "stderr",
     "output_type": "stream",
     "text": [
      "C:\\Users\\Thomas\\anaconda3\\envs\\bikes-count\\lib\\site-packages\\xgboost\\core.py:160: UserWarning: [02:44:13] WARNING: C:\\buildkite-agent\\builds\\buildkite-windows-cpu-autoscaling-group-i-0750514818a16474a-1\\xgboost\\xgboost-ci-windows\\src\\learner.cc:742: \n",
      "Parameters: { \"objectives\", \"verbose\" } are not used.\n",
      "\n",
      "  warnings.warn(smsg, UserWarning)\n"
     ]
    },
    {
     "name": "stdout",
     "output_type": "stream",
     "text": [
      "Train set RMSE: 0.42\n",
      "Test set RMSE: 0.50\n",
      "Tested on combination ['is_holiday', 'is_lockdown', 'is_curfew', 'rea']\n"
     ]
    },
    {
     "name": "stderr",
     "output_type": "stream",
     "text": [
      "C:\\Users\\Thomas\\anaconda3\\envs\\bikes-count\\lib\\site-packages\\xgboost\\core.py:160: UserWarning: [02:44:20] WARNING: C:\\buildkite-agent\\builds\\buildkite-windows-cpu-autoscaling-group-i-0750514818a16474a-1\\xgboost\\xgboost-ci-windows\\src\\learner.cc:742: \n",
      "Parameters: { \"objectives\", \"verbose\" } are not used.\n",
      "\n",
      "  warnings.warn(smsg, UserWarning)\n"
     ]
    },
    {
     "name": "stdout",
     "output_type": "stream",
     "text": [
      "Train set RMSE: 0.43\n",
      "Test set RMSE: 0.48\n",
      "Tested on combination ['is_holiday', 'is_lockdown', 'is_curfew', 'incid_rea']\n"
     ]
    },
    {
     "name": "stderr",
     "output_type": "stream",
     "text": [
      "C:\\Users\\Thomas\\anaconda3\\envs\\bikes-count\\lib\\site-packages\\xgboost\\core.py:160: UserWarning: [02:44:27] WARNING: C:\\buildkite-agent\\builds\\buildkite-windows-cpu-autoscaling-group-i-0750514818a16474a-1\\xgboost\\xgboost-ci-windows\\src\\learner.cc:742: \n",
      "Parameters: { \"objectives\", \"verbose\" } are not used.\n",
      "\n",
      "  warnings.warn(smsg, UserWarning)\n"
     ]
    },
    {
     "name": "stdout",
     "output_type": "stream",
     "text": [
      "Train set RMSE: 0.42\n",
      "Test set RMSE: 0.52\n",
      "Tested on combination ['is_holiday', 'is_lockdown', 'is_curfew', 'rad']\n"
     ]
    },
    {
     "name": "stderr",
     "output_type": "stream",
     "text": [
      "C:\\Users\\Thomas\\anaconda3\\envs\\bikes-count\\lib\\site-packages\\xgboost\\core.py:160: UserWarning: [02:44:34] WARNING: C:\\buildkite-agent\\builds\\buildkite-windows-cpu-autoscaling-group-i-0750514818a16474a-1\\xgboost\\xgboost-ci-windows\\src\\learner.cc:742: \n",
      "Parameters: { \"objectives\", \"verbose\" } are not used.\n",
      "\n",
      "  warnings.warn(smsg, UserWarning)\n"
     ]
    },
    {
     "name": "stdout",
     "output_type": "stream",
     "text": [
      "Train set RMSE: 0.43\n",
      "Test set RMSE: 0.49\n",
      "Tested on combination ['is_holiday', 'is_lockdown', 'is_curfew', 'Count_accidents']\n"
     ]
    },
    {
     "name": "stderr",
     "output_type": "stream",
     "text": [
      "C:\\Users\\Thomas\\anaconda3\\envs\\bikes-count\\lib\\site-packages\\xgboost\\core.py:160: UserWarning: [02:44:41] WARNING: C:\\buildkite-agent\\builds\\buildkite-windows-cpu-autoscaling-group-i-0750514818a16474a-1\\xgboost\\xgboost-ci-windows\\src\\learner.cc:742: \n",
      "Parameters: { \"objectives\", \"verbose\" } are not used.\n",
      "\n",
      "  warnings.warn(smsg, UserWarning)\n"
     ]
    },
    {
     "name": "stdout",
     "output_type": "stream",
     "text": [
      "Train set RMSE: 0.41\n",
      "Test set RMSE: 0.45\n",
      "Tested on combination ['is_holiday', 'is_lockdown', 'Max_Grav_accidents', 'hosp']\n"
     ]
    },
    {
     "name": "stderr",
     "output_type": "stream",
     "text": [
      "C:\\Users\\Thomas\\anaconda3\\envs\\bikes-count\\lib\\site-packages\\xgboost\\core.py:160: UserWarning: [02:44:48] WARNING: C:\\buildkite-agent\\builds\\buildkite-windows-cpu-autoscaling-group-i-0750514818a16474a-1\\xgboost\\xgboost-ci-windows\\src\\learner.cc:742: \n",
      "Parameters: { \"objectives\", \"verbose\" } are not used.\n",
      "\n",
      "  warnings.warn(smsg, UserWarning)\n"
     ]
    },
    {
     "name": "stdout",
     "output_type": "stream",
     "text": [
      "Train set RMSE: 0.42\n",
      "Test set RMSE: 0.50\n",
      "Tested on combination ['is_holiday', 'is_lockdown', 'Max_Grav_accidents', 'rea']\n"
     ]
    },
    {
     "name": "stderr",
     "output_type": "stream",
     "text": [
      "C:\\Users\\Thomas\\anaconda3\\envs\\bikes-count\\lib\\site-packages\\xgboost\\core.py:160: UserWarning: [02:44:55] WARNING: C:\\buildkite-agent\\builds\\buildkite-windows-cpu-autoscaling-group-i-0750514818a16474a-1\\xgboost\\xgboost-ci-windows\\src\\learner.cc:742: \n",
      "Parameters: { \"objectives\", \"verbose\" } are not used.\n",
      "\n",
      "  warnings.warn(smsg, UserWarning)\n"
     ]
    },
    {
     "name": "stdout",
     "output_type": "stream",
     "text": [
      "Train set RMSE: 0.43\n",
      "Test set RMSE: 0.49\n",
      "Tested on combination ['is_holiday', 'is_lockdown', 'Max_Grav_accidents', 'incid_rea']\n"
     ]
    },
    {
     "name": "stderr",
     "output_type": "stream",
     "text": [
      "C:\\Users\\Thomas\\anaconda3\\envs\\bikes-count\\lib\\site-packages\\xgboost\\core.py:160: UserWarning: [02:45:02] WARNING: C:\\buildkite-agent\\builds\\buildkite-windows-cpu-autoscaling-group-i-0750514818a16474a-1\\xgboost\\xgboost-ci-windows\\src\\learner.cc:742: \n",
      "Parameters: { \"objectives\", \"verbose\" } are not used.\n",
      "\n",
      "  warnings.warn(smsg, UserWarning)\n"
     ]
    },
    {
     "name": "stdout",
     "output_type": "stream",
     "text": [
      "Train set RMSE: 0.41\n",
      "Test set RMSE: 0.52\n",
      "Tested on combination ['is_holiday', 'is_lockdown', 'Max_Grav_accidents', 'rad']\n"
     ]
    },
    {
     "name": "stderr",
     "output_type": "stream",
     "text": [
      "C:\\Users\\Thomas\\anaconda3\\envs\\bikes-count\\lib\\site-packages\\xgboost\\core.py:160: UserWarning: [02:45:09] WARNING: C:\\buildkite-agent\\builds\\buildkite-windows-cpu-autoscaling-group-i-0750514818a16474a-1\\xgboost\\xgboost-ci-windows\\src\\learner.cc:742: \n",
      "Parameters: { \"objectives\", \"verbose\" } are not used.\n",
      "\n",
      "  warnings.warn(smsg, UserWarning)\n"
     ]
    },
    {
     "name": "stdout",
     "output_type": "stream",
     "text": [
      "Train set RMSE: 0.43\n",
      "Test set RMSE: 0.49\n",
      "Tested on combination ['is_holiday', 'is_lockdown', 'Max_Grav_accidents', 'Count_accidents']\n"
     ]
    },
    {
     "name": "stderr",
     "output_type": "stream",
     "text": [
      "C:\\Users\\Thomas\\anaconda3\\envs\\bikes-count\\lib\\site-packages\\xgboost\\core.py:160: UserWarning: [02:45:16] WARNING: C:\\buildkite-agent\\builds\\buildkite-windows-cpu-autoscaling-group-i-0750514818a16474a-1\\xgboost\\xgboost-ci-windows\\src\\learner.cc:742: \n",
      "Parameters: { \"objectives\", \"verbose\" } are not used.\n",
      "\n",
      "  warnings.warn(smsg, UserWarning)\n"
     ]
    },
    {
     "name": "stdout",
     "output_type": "stream",
     "text": [
      "Train set RMSE: 0.42\n",
      "Test set RMSE: 0.49\n",
      "Tested on combination ['is_holiday', 'is_lockdown', 'hosp', 'rea']\n"
     ]
    },
    {
     "name": "stderr",
     "output_type": "stream",
     "text": [
      "C:\\Users\\Thomas\\anaconda3\\envs\\bikes-count\\lib\\site-packages\\xgboost\\core.py:160: UserWarning: [02:45:23] WARNING: C:\\buildkite-agent\\builds\\buildkite-windows-cpu-autoscaling-group-i-0750514818a16474a-1\\xgboost\\xgboost-ci-windows\\src\\learner.cc:742: \n",
      "Parameters: { \"objectives\", \"verbose\" } are not used.\n",
      "\n",
      "  warnings.warn(smsg, UserWarning)\n"
     ]
    },
    {
     "name": "stdout",
     "output_type": "stream",
     "text": [
      "Train set RMSE: 0.42\n",
      "Test set RMSE: 0.53\n",
      "Tested on combination ['is_holiday', 'is_lockdown', 'hosp', 'incid_rea']\n"
     ]
    },
    {
     "name": "stderr",
     "output_type": "stream",
     "text": [
      "C:\\Users\\Thomas\\anaconda3\\envs\\bikes-count\\lib\\site-packages\\xgboost\\core.py:160: UserWarning: [02:45:30] WARNING: C:\\buildkite-agent\\builds\\buildkite-windows-cpu-autoscaling-group-i-0750514818a16474a-1\\xgboost\\xgboost-ci-windows\\src\\learner.cc:742: \n",
      "Parameters: { \"objectives\", \"verbose\" } are not used.\n",
      "\n",
      "  warnings.warn(smsg, UserWarning)\n"
     ]
    },
    {
     "name": "stdout",
     "output_type": "stream",
     "text": [
      "Train set RMSE: 0.41\n",
      "Test set RMSE: 0.49\n",
      "Tested on combination ['is_holiday', 'is_lockdown', 'hosp', 'rad']\n"
     ]
    },
    {
     "name": "stderr",
     "output_type": "stream",
     "text": [
      "C:\\Users\\Thomas\\anaconda3\\envs\\bikes-count\\lib\\site-packages\\xgboost\\core.py:160: UserWarning: [02:45:37] WARNING: C:\\buildkite-agent\\builds\\buildkite-windows-cpu-autoscaling-group-i-0750514818a16474a-1\\xgboost\\xgboost-ci-windows\\src\\learner.cc:742: \n",
      "Parameters: { \"objectives\", \"verbose\" } are not used.\n",
      "\n",
      "  warnings.warn(smsg, UserWarning)\n"
     ]
    },
    {
     "name": "stdout",
     "output_type": "stream",
     "text": [
      "Train set RMSE: 0.42\n",
      "Test set RMSE: 0.46\n",
      "Tested on combination ['is_holiday', 'is_lockdown', 'hosp', 'Count_accidents']\n"
     ]
    },
    {
     "name": "stderr",
     "output_type": "stream",
     "text": [
      "C:\\Users\\Thomas\\anaconda3\\envs\\bikes-count\\lib\\site-packages\\xgboost\\core.py:160: UserWarning: [02:45:44] WARNING: C:\\buildkite-agent\\builds\\buildkite-windows-cpu-autoscaling-group-i-0750514818a16474a-1\\xgboost\\xgboost-ci-windows\\src\\learner.cc:742: \n",
      "Parameters: { \"objectives\", \"verbose\" } are not used.\n",
      "\n",
      "  warnings.warn(smsg, UserWarning)\n"
     ]
    },
    {
     "name": "stdout",
     "output_type": "stream",
     "text": [
      "Train set RMSE: 0.42\n",
      "Test set RMSE: 0.53\n",
      "Tested on combination ['is_holiday', 'is_lockdown', 'rea', 'incid_rea']\n"
     ]
    },
    {
     "name": "stderr",
     "output_type": "stream",
     "text": [
      "C:\\Users\\Thomas\\anaconda3\\envs\\bikes-count\\lib\\site-packages\\xgboost\\core.py:160: UserWarning: [02:45:51] WARNING: C:\\buildkite-agent\\builds\\buildkite-windows-cpu-autoscaling-group-i-0750514818a16474a-1\\xgboost\\xgboost-ci-windows\\src\\learner.cc:742: \n",
      "Parameters: { \"objectives\", \"verbose\" } are not used.\n",
      "\n",
      "  warnings.warn(smsg, UserWarning)\n"
     ]
    },
    {
     "name": "stdout",
     "output_type": "stream",
     "text": [
      "Train set RMSE: 0.42\n",
      "Test set RMSE: 0.54\n",
      "Tested on combination ['is_holiday', 'is_lockdown', 'rea', 'rad']\n"
     ]
    },
    {
     "name": "stderr",
     "output_type": "stream",
     "text": [
      "C:\\Users\\Thomas\\anaconda3\\envs\\bikes-count\\lib\\site-packages\\xgboost\\core.py:160: UserWarning: [02:45:58] WARNING: C:\\buildkite-agent\\builds\\buildkite-windows-cpu-autoscaling-group-i-0750514818a16474a-1\\xgboost\\xgboost-ci-windows\\src\\learner.cc:742: \n",
      "Parameters: { \"objectives\", \"verbose\" } are not used.\n",
      "\n",
      "  warnings.warn(smsg, UserWarning)\n"
     ]
    },
    {
     "name": "stdout",
     "output_type": "stream",
     "text": [
      "Train set RMSE: 0.42\n",
      "Test set RMSE: 0.50\n",
      "Tested on combination ['is_holiday', 'is_lockdown', 'rea', 'Count_accidents']\n"
     ]
    },
    {
     "name": "stderr",
     "output_type": "stream",
     "text": [
      "C:\\Users\\Thomas\\anaconda3\\envs\\bikes-count\\lib\\site-packages\\xgboost\\core.py:160: UserWarning: [02:46:04] WARNING: C:\\buildkite-agent\\builds\\buildkite-windows-cpu-autoscaling-group-i-0750514818a16474a-1\\xgboost\\xgboost-ci-windows\\src\\learner.cc:742: \n",
      "Parameters: { \"objectives\", \"verbose\" } are not used.\n",
      "\n",
      "  warnings.warn(smsg, UserWarning)\n"
     ]
    },
    {
     "name": "stdout",
     "output_type": "stream",
     "text": [
      "Train set RMSE: 0.41\n",
      "Test set RMSE: 0.53\n",
      "Tested on combination ['is_holiday', 'is_lockdown', 'incid_rea', 'rad']\n"
     ]
    },
    {
     "name": "stderr",
     "output_type": "stream",
     "text": [
      "C:\\Users\\Thomas\\anaconda3\\envs\\bikes-count\\lib\\site-packages\\xgboost\\core.py:160: UserWarning: [02:46:11] WARNING: C:\\buildkite-agent\\builds\\buildkite-windows-cpu-autoscaling-group-i-0750514818a16474a-1\\xgboost\\xgboost-ci-windows\\src\\learner.cc:742: \n",
      "Parameters: { \"objectives\", \"verbose\" } are not used.\n",
      "\n",
      "  warnings.warn(smsg, UserWarning)\n"
     ]
    },
    {
     "name": "stdout",
     "output_type": "stream",
     "text": [
      "Train set RMSE: 0.43\n",
      "Test set RMSE: 0.49\n",
      "Tested on combination ['is_holiday', 'is_lockdown', 'incid_rea', 'Count_accidents']\n"
     ]
    },
    {
     "name": "stderr",
     "output_type": "stream",
     "text": [
      "C:\\Users\\Thomas\\anaconda3\\envs\\bikes-count\\lib\\site-packages\\xgboost\\core.py:160: UserWarning: [02:46:18] WARNING: C:\\buildkite-agent\\builds\\buildkite-windows-cpu-autoscaling-group-i-0750514818a16474a-1\\xgboost\\xgboost-ci-windows\\src\\learner.cc:742: \n",
      "Parameters: { \"objectives\", \"verbose\" } are not used.\n",
      "\n",
      "  warnings.warn(smsg, UserWarning)\n"
     ]
    },
    {
     "name": "stdout",
     "output_type": "stream",
     "text": [
      "Train set RMSE: 0.42\n",
      "Test set RMSE: 0.51\n",
      "Tested on combination ['is_holiday', 'is_lockdown', 'rad', 'Count_accidents']\n"
     ]
    },
    {
     "name": "stderr",
     "output_type": "stream",
     "text": [
      "C:\\Users\\Thomas\\anaconda3\\envs\\bikes-count\\lib\\site-packages\\xgboost\\core.py:160: UserWarning: [02:46:26] WARNING: C:\\buildkite-agent\\builds\\buildkite-windows-cpu-autoscaling-group-i-0750514818a16474a-1\\xgboost\\xgboost-ci-windows\\src\\learner.cc:742: \n",
      "Parameters: { \"objectives\", \"verbose\" } are not used.\n",
      "\n",
      "  warnings.warn(smsg, UserWarning)\n"
     ]
    },
    {
     "name": "stdout",
     "output_type": "stream",
     "text": [
      "Train set RMSE: 0.42\n",
      "Test set RMSE: 0.47\n",
      "Tested on combination ['is_holiday', 'is_curfew', 'Max_Grav_accidents', 'hosp']\n"
     ]
    },
    {
     "name": "stderr",
     "output_type": "stream",
     "text": [
      "C:\\Users\\Thomas\\anaconda3\\envs\\bikes-count\\lib\\site-packages\\xgboost\\core.py:160: UserWarning: [02:46:32] WARNING: C:\\buildkite-agent\\builds\\buildkite-windows-cpu-autoscaling-group-i-0750514818a16474a-1\\xgboost\\xgboost-ci-windows\\src\\learner.cc:742: \n",
      "Parameters: { \"objectives\", \"verbose\" } are not used.\n",
      "\n",
      "  warnings.warn(smsg, UserWarning)\n"
     ]
    },
    {
     "name": "stdout",
     "output_type": "stream",
     "text": [
      "Train set RMSE: 0.42\n",
      "Test set RMSE: 0.50\n",
      "Tested on combination ['is_holiday', 'is_curfew', 'Max_Grav_accidents', 'rea']\n"
     ]
    },
    {
     "name": "stderr",
     "output_type": "stream",
     "text": [
      "C:\\Users\\Thomas\\anaconda3\\envs\\bikes-count\\lib\\site-packages\\xgboost\\core.py:160: UserWarning: [02:46:39] WARNING: C:\\buildkite-agent\\builds\\buildkite-windows-cpu-autoscaling-group-i-0750514818a16474a-1\\xgboost\\xgboost-ci-windows\\src\\learner.cc:742: \n",
      "Parameters: { \"objectives\", \"verbose\" } are not used.\n",
      "\n",
      "  warnings.warn(smsg, UserWarning)\n"
     ]
    },
    {
     "name": "stdout",
     "output_type": "stream",
     "text": [
      "Train set RMSE: 0.43\n",
      "Test set RMSE: 0.48\n",
      "Tested on combination ['is_holiday', 'is_curfew', 'Max_Grav_accidents', 'incid_rea']\n"
     ]
    },
    {
     "name": "stderr",
     "output_type": "stream",
     "text": [
      "C:\\Users\\Thomas\\anaconda3\\envs\\bikes-count\\lib\\site-packages\\xgboost\\core.py:160: UserWarning: [02:46:46] WARNING: C:\\buildkite-agent\\builds\\buildkite-windows-cpu-autoscaling-group-i-0750514818a16474a-1\\xgboost\\xgboost-ci-windows\\src\\learner.cc:742: \n",
      "Parameters: { \"objectives\", \"verbose\" } are not used.\n",
      "\n",
      "  warnings.warn(smsg, UserWarning)\n"
     ]
    },
    {
     "name": "stdout",
     "output_type": "stream",
     "text": [
      "Train set RMSE: 0.41\n",
      "Test set RMSE: 0.53\n",
      "Tested on combination ['is_holiday', 'is_curfew', 'Max_Grav_accidents', 'rad']\n"
     ]
    },
    {
     "name": "stderr",
     "output_type": "stream",
     "text": [
      "C:\\Users\\Thomas\\anaconda3\\envs\\bikes-count\\lib\\site-packages\\xgboost\\core.py:160: UserWarning: [02:46:53] WARNING: C:\\buildkite-agent\\builds\\buildkite-windows-cpu-autoscaling-group-i-0750514818a16474a-1\\xgboost\\xgboost-ci-windows\\src\\learner.cc:742: \n",
      "Parameters: { \"objectives\", \"verbose\" } are not used.\n",
      "\n",
      "  warnings.warn(smsg, UserWarning)\n"
     ]
    },
    {
     "name": "stdout",
     "output_type": "stream",
     "text": [
      "Train set RMSE: 0.43\n",
      "Test set RMSE: 0.49\n",
      "Tested on combination ['is_holiday', 'is_curfew', 'Max_Grav_accidents', 'Count_accidents']\n"
     ]
    },
    {
     "name": "stderr",
     "output_type": "stream",
     "text": [
      "C:\\Users\\Thomas\\anaconda3\\envs\\bikes-count\\lib\\site-packages\\xgboost\\core.py:160: UserWarning: [02:47:00] WARNING: C:\\buildkite-agent\\builds\\buildkite-windows-cpu-autoscaling-group-i-0750514818a16474a-1\\xgboost\\xgboost-ci-windows\\src\\learner.cc:742: \n",
      "Parameters: { \"objectives\", \"verbose\" } are not used.\n",
      "\n",
      "  warnings.warn(smsg, UserWarning)\n"
     ]
    },
    {
     "name": "stdout",
     "output_type": "stream",
     "text": [
      "Train set RMSE: 0.42\n",
      "Test set RMSE: 0.48\n",
      "Tested on combination ['is_holiday', 'is_curfew', 'hosp', 'rea']\n"
     ]
    },
    {
     "name": "stderr",
     "output_type": "stream",
     "text": [
      "C:\\Users\\Thomas\\anaconda3\\envs\\bikes-count\\lib\\site-packages\\xgboost\\core.py:160: UserWarning: [02:47:07] WARNING: C:\\buildkite-agent\\builds\\buildkite-windows-cpu-autoscaling-group-i-0750514818a16474a-1\\xgboost\\xgboost-ci-windows\\src\\learner.cc:742: \n",
      "Parameters: { \"objectives\", \"verbose\" } are not used.\n",
      "\n",
      "  warnings.warn(smsg, UserWarning)\n"
     ]
    },
    {
     "name": "stdout",
     "output_type": "stream",
     "text": [
      "Train set RMSE: 0.42\n",
      "Test set RMSE: 0.49\n",
      "Tested on combination ['is_holiday', 'is_curfew', 'hosp', 'incid_rea']\n"
     ]
    },
    {
     "name": "stderr",
     "output_type": "stream",
     "text": [
      "C:\\Users\\Thomas\\anaconda3\\envs\\bikes-count\\lib\\site-packages\\xgboost\\core.py:160: UserWarning: [02:47:14] WARNING: C:\\buildkite-agent\\builds\\buildkite-windows-cpu-autoscaling-group-i-0750514818a16474a-1\\xgboost\\xgboost-ci-windows\\src\\learner.cc:742: \n",
      "Parameters: { \"objectives\", \"verbose\" } are not used.\n",
      "\n",
      "  warnings.warn(smsg, UserWarning)\n"
     ]
    },
    {
     "name": "stdout",
     "output_type": "stream",
     "text": [
      "Train set RMSE: 0.42\n",
      "Test set RMSE: 0.50\n",
      "Tested on combination ['is_holiday', 'is_curfew', 'hosp', 'rad']\n"
     ]
    },
    {
     "name": "stderr",
     "output_type": "stream",
     "text": [
      "C:\\Users\\Thomas\\anaconda3\\envs\\bikes-count\\lib\\site-packages\\xgboost\\core.py:160: UserWarning: [02:47:21] WARNING: C:\\buildkite-agent\\builds\\buildkite-windows-cpu-autoscaling-group-i-0750514818a16474a-1\\xgboost\\xgboost-ci-windows\\src\\learner.cc:742: \n",
      "Parameters: { \"objectives\", \"verbose\" } are not used.\n",
      "\n",
      "  warnings.warn(smsg, UserWarning)\n"
     ]
    },
    {
     "name": "stdout",
     "output_type": "stream",
     "text": [
      "Train set RMSE: 0.42\n",
      "Test set RMSE: 0.47\n",
      "Tested on combination ['is_holiday', 'is_curfew', 'hosp', 'Count_accidents']\n"
     ]
    },
    {
     "name": "stderr",
     "output_type": "stream",
     "text": [
      "C:\\Users\\Thomas\\anaconda3\\envs\\bikes-count\\lib\\site-packages\\xgboost\\core.py:160: UserWarning: [02:47:28] WARNING: C:\\buildkite-agent\\builds\\buildkite-windows-cpu-autoscaling-group-i-0750514818a16474a-1\\xgboost\\xgboost-ci-windows\\src\\learner.cc:742: \n",
      "Parameters: { \"objectives\", \"verbose\" } are not used.\n",
      "\n",
      "  warnings.warn(smsg, UserWarning)\n"
     ]
    },
    {
     "name": "stdout",
     "output_type": "stream",
     "text": [
      "Train set RMSE: 0.42\n",
      "Test set RMSE: 0.51\n",
      "Tested on combination ['is_holiday', 'is_curfew', 'rea', 'incid_rea']\n"
     ]
    },
    {
     "name": "stderr",
     "output_type": "stream",
     "text": [
      "C:\\Users\\Thomas\\anaconda3\\envs\\bikes-count\\lib\\site-packages\\xgboost\\core.py:160: UserWarning: [02:47:35] WARNING: C:\\buildkite-agent\\builds\\buildkite-windows-cpu-autoscaling-group-i-0750514818a16474a-1\\xgboost\\xgboost-ci-windows\\src\\learner.cc:742: \n",
      "Parameters: { \"objectives\", \"verbose\" } are not used.\n",
      "\n",
      "  warnings.warn(smsg, UserWarning)\n"
     ]
    },
    {
     "name": "stdout",
     "output_type": "stream",
     "text": [
      "Train set RMSE: 0.41\n",
      "Test set RMSE: 0.53\n",
      "Tested on combination ['is_holiday', 'is_curfew', 'rea', 'rad']\n"
     ]
    },
    {
     "name": "stderr",
     "output_type": "stream",
     "text": [
      "C:\\Users\\Thomas\\anaconda3\\envs\\bikes-count\\lib\\site-packages\\xgboost\\core.py:160: UserWarning: [02:47:42] WARNING: C:\\buildkite-agent\\builds\\buildkite-windows-cpu-autoscaling-group-i-0750514818a16474a-1\\xgboost\\xgboost-ci-windows\\src\\learner.cc:742: \n",
      "Parameters: { \"objectives\", \"verbose\" } are not used.\n",
      "\n",
      "  warnings.warn(smsg, UserWarning)\n"
     ]
    },
    {
     "name": "stdout",
     "output_type": "stream",
     "text": [
      "Train set RMSE: 0.42\n",
      "Test set RMSE: 0.50\n",
      "Tested on combination ['is_holiday', 'is_curfew', 'rea', 'Count_accidents']\n"
     ]
    },
    {
     "name": "stderr",
     "output_type": "stream",
     "text": [
      "C:\\Users\\Thomas\\anaconda3\\envs\\bikes-count\\lib\\site-packages\\xgboost\\core.py:160: UserWarning: [02:47:49] WARNING: C:\\buildkite-agent\\builds\\buildkite-windows-cpu-autoscaling-group-i-0750514818a16474a-1\\xgboost\\xgboost-ci-windows\\src\\learner.cc:742: \n",
      "Parameters: { \"objectives\", \"verbose\" } are not used.\n",
      "\n",
      "  warnings.warn(smsg, UserWarning)\n"
     ]
    },
    {
     "name": "stdout",
     "output_type": "stream",
     "text": [
      "Train set RMSE: 0.42\n",
      "Test set RMSE: 0.49\n",
      "Tested on combination ['is_holiday', 'is_curfew', 'incid_rea', 'rad']\n"
     ]
    },
    {
     "name": "stderr",
     "output_type": "stream",
     "text": [
      "C:\\Users\\Thomas\\anaconda3\\envs\\bikes-count\\lib\\site-packages\\xgboost\\core.py:160: UserWarning: [02:47:56] WARNING: C:\\buildkite-agent\\builds\\buildkite-windows-cpu-autoscaling-group-i-0750514818a16474a-1\\xgboost\\xgboost-ci-windows\\src\\learner.cc:742: \n",
      "Parameters: { \"objectives\", \"verbose\" } are not used.\n",
      "\n",
      "  warnings.warn(smsg, UserWarning)\n"
     ]
    },
    {
     "name": "stdout",
     "output_type": "stream",
     "text": [
      "Train set RMSE: 0.43\n",
      "Test set RMSE: 0.49\n",
      "Tested on combination ['is_holiday', 'is_curfew', 'incid_rea', 'Count_accidents']\n"
     ]
    },
    {
     "name": "stderr",
     "output_type": "stream",
     "text": [
      "C:\\Users\\Thomas\\anaconda3\\envs\\bikes-count\\lib\\site-packages\\xgboost\\core.py:160: UserWarning: [02:48:03] WARNING: C:\\buildkite-agent\\builds\\buildkite-windows-cpu-autoscaling-group-i-0750514818a16474a-1\\xgboost\\xgboost-ci-windows\\src\\learner.cc:742: \n",
      "Parameters: { \"objectives\", \"verbose\" } are not used.\n",
      "\n",
      "  warnings.warn(smsg, UserWarning)\n"
     ]
    },
    {
     "name": "stdout",
     "output_type": "stream",
     "text": [
      "Train set RMSE: 0.42\n",
      "Test set RMSE: 0.52\n",
      "Tested on combination ['is_holiday', 'is_curfew', 'rad', 'Count_accidents']\n"
     ]
    },
    {
     "name": "stderr",
     "output_type": "stream",
     "text": [
      "C:\\Users\\Thomas\\anaconda3\\envs\\bikes-count\\lib\\site-packages\\xgboost\\core.py:160: UserWarning: [02:48:10] WARNING: C:\\buildkite-agent\\builds\\buildkite-windows-cpu-autoscaling-group-i-0750514818a16474a-1\\xgboost\\xgboost-ci-windows\\src\\learner.cc:742: \n",
      "Parameters: { \"objectives\", \"verbose\" } are not used.\n",
      "\n",
      "  warnings.warn(smsg, UserWarning)\n"
     ]
    },
    {
     "name": "stdout",
     "output_type": "stream",
     "text": [
      "Train set RMSE: 0.42\n",
      "Test set RMSE: 0.50\n",
      "Tested on combination ['is_holiday', 'Max_Grav_accidents', 'hosp', 'rea']\n"
     ]
    },
    {
     "name": "stderr",
     "output_type": "stream",
     "text": [
      "C:\\Users\\Thomas\\anaconda3\\envs\\bikes-count\\lib\\site-packages\\xgboost\\core.py:160: UserWarning: [02:48:17] WARNING: C:\\buildkite-agent\\builds\\buildkite-windows-cpu-autoscaling-group-i-0750514818a16474a-1\\xgboost\\xgboost-ci-windows\\src\\learner.cc:742: \n",
      "Parameters: { \"objectives\", \"verbose\" } are not used.\n",
      "\n",
      "  warnings.warn(smsg, UserWarning)\n"
     ]
    },
    {
     "name": "stdout",
     "output_type": "stream",
     "text": [
      "Train set RMSE: 0.42\n",
      "Test set RMSE: 0.50\n",
      "Tested on combination ['is_holiday', 'Max_Grav_accidents', 'hosp', 'incid_rea']\n"
     ]
    },
    {
     "name": "stderr",
     "output_type": "stream",
     "text": [
      "C:\\Users\\Thomas\\anaconda3\\envs\\bikes-count\\lib\\site-packages\\xgboost\\core.py:160: UserWarning: [02:48:24] WARNING: C:\\buildkite-agent\\builds\\buildkite-windows-cpu-autoscaling-group-i-0750514818a16474a-1\\xgboost\\xgboost-ci-windows\\src\\learner.cc:742: \n",
      "Parameters: { \"objectives\", \"verbose\" } are not used.\n",
      "\n",
      "  warnings.warn(smsg, UserWarning)\n"
     ]
    },
    {
     "name": "stdout",
     "output_type": "stream",
     "text": [
      "Train set RMSE: 0.41\n",
      "Test set RMSE: 0.50\n",
      "Tested on combination ['is_holiday', 'Max_Grav_accidents', 'hosp', 'rad']\n"
     ]
    },
    {
     "name": "stderr",
     "output_type": "stream",
     "text": [
      "C:\\Users\\Thomas\\anaconda3\\envs\\bikes-count\\lib\\site-packages\\xgboost\\core.py:160: UserWarning: [02:48:31] WARNING: C:\\buildkite-agent\\builds\\buildkite-windows-cpu-autoscaling-group-i-0750514818a16474a-1\\xgboost\\xgboost-ci-windows\\src\\learner.cc:742: \n",
      "Parameters: { \"objectives\", \"verbose\" } are not used.\n",
      "\n",
      "  warnings.warn(smsg, UserWarning)\n"
     ]
    },
    {
     "name": "stdout",
     "output_type": "stream",
     "text": [
      "Train set RMSE: 0.41\n",
      "Test set RMSE: 0.46\n",
      "Tested on combination ['is_holiday', 'Max_Grav_accidents', 'hosp', 'Count_accidents']\n"
     ]
    },
    {
     "name": "stderr",
     "output_type": "stream",
     "text": [
      "C:\\Users\\Thomas\\anaconda3\\envs\\bikes-count\\lib\\site-packages\\xgboost\\core.py:160: UserWarning: [02:48:38] WARNING: C:\\buildkite-agent\\builds\\buildkite-windows-cpu-autoscaling-group-i-0750514818a16474a-1\\xgboost\\xgboost-ci-windows\\src\\learner.cc:742: \n",
      "Parameters: { \"objectives\", \"verbose\" } are not used.\n",
      "\n",
      "  warnings.warn(smsg, UserWarning)\n"
     ]
    },
    {
     "name": "stdout",
     "output_type": "stream",
     "text": [
      "Train set RMSE: 0.42\n",
      "Test set RMSE: 0.52\n",
      "Tested on combination ['is_holiday', 'Max_Grav_accidents', 'rea', 'incid_rea']\n"
     ]
    },
    {
     "name": "stderr",
     "output_type": "stream",
     "text": [
      "C:\\Users\\Thomas\\anaconda3\\envs\\bikes-count\\lib\\site-packages\\xgboost\\core.py:160: UserWarning: [02:48:45] WARNING: C:\\buildkite-agent\\builds\\buildkite-windows-cpu-autoscaling-group-i-0750514818a16474a-1\\xgboost\\xgboost-ci-windows\\src\\learner.cc:742: \n",
      "Parameters: { \"objectives\", \"verbose\" } are not used.\n",
      "\n",
      "  warnings.warn(smsg, UserWarning)\n"
     ]
    },
    {
     "name": "stdout",
     "output_type": "stream",
     "text": [
      "Train set RMSE: 0.41\n",
      "Test set RMSE: 0.53\n",
      "Tested on combination ['is_holiday', 'Max_Grav_accidents', 'rea', 'rad']\n"
     ]
    },
    {
     "name": "stderr",
     "output_type": "stream",
     "text": [
      "C:\\Users\\Thomas\\anaconda3\\envs\\bikes-count\\lib\\site-packages\\xgboost\\core.py:160: UserWarning: [02:48:52] WARNING: C:\\buildkite-agent\\builds\\buildkite-windows-cpu-autoscaling-group-i-0750514818a16474a-1\\xgboost\\xgboost-ci-windows\\src\\learner.cc:742: \n",
      "Parameters: { \"objectives\", \"verbose\" } are not used.\n",
      "\n",
      "  warnings.warn(smsg, UserWarning)\n"
     ]
    },
    {
     "name": "stdout",
     "output_type": "stream",
     "text": [
      "Train set RMSE: 0.42\n",
      "Test set RMSE: 0.49\n",
      "Tested on combination ['is_holiday', 'Max_Grav_accidents', 'rea', 'Count_accidents']\n"
     ]
    },
    {
     "name": "stderr",
     "output_type": "stream",
     "text": [
      "C:\\Users\\Thomas\\anaconda3\\envs\\bikes-count\\lib\\site-packages\\xgboost\\core.py:160: UserWarning: [02:48:59] WARNING: C:\\buildkite-agent\\builds\\buildkite-windows-cpu-autoscaling-group-i-0750514818a16474a-1\\xgboost\\xgboost-ci-windows\\src\\learner.cc:742: \n",
      "Parameters: { \"objectives\", \"verbose\" } are not used.\n",
      "\n",
      "  warnings.warn(smsg, UserWarning)\n"
     ]
    },
    {
     "name": "stdout",
     "output_type": "stream",
     "text": [
      "Train set RMSE: 0.41\n",
      "Test set RMSE: 0.50\n",
      "Tested on combination ['is_holiday', 'Max_Grav_accidents', 'incid_rea', 'rad']\n"
     ]
    },
    {
     "name": "stderr",
     "output_type": "stream",
     "text": [
      "C:\\Users\\Thomas\\anaconda3\\envs\\bikes-count\\lib\\site-packages\\xgboost\\core.py:160: UserWarning: [02:49:06] WARNING: C:\\buildkite-agent\\builds\\buildkite-windows-cpu-autoscaling-group-i-0750514818a16474a-1\\xgboost\\xgboost-ci-windows\\src\\learner.cc:742: \n",
      "Parameters: { \"objectives\", \"verbose\" } are not used.\n",
      "\n",
      "  warnings.warn(smsg, UserWarning)\n"
     ]
    },
    {
     "name": "stdout",
     "output_type": "stream",
     "text": [
      "Train set RMSE: 0.43\n",
      "Test set RMSE: 0.49\n",
      "Tested on combination ['is_holiday', 'Max_Grav_accidents', 'incid_rea', 'Count_accidents']\n"
     ]
    },
    {
     "name": "stderr",
     "output_type": "stream",
     "text": [
      "C:\\Users\\Thomas\\anaconda3\\envs\\bikes-count\\lib\\site-packages\\xgboost\\core.py:160: UserWarning: [02:49:13] WARNING: C:\\buildkite-agent\\builds\\buildkite-windows-cpu-autoscaling-group-i-0750514818a16474a-1\\xgboost\\xgboost-ci-windows\\src\\learner.cc:742: \n",
      "Parameters: { \"objectives\", \"verbose\" } are not used.\n",
      "\n",
      "  warnings.warn(smsg, UserWarning)\n"
     ]
    },
    {
     "name": "stdout",
     "output_type": "stream",
     "text": [
      "Train set RMSE: 0.41\n",
      "Test set RMSE: 0.51\n",
      "Tested on combination ['is_holiday', 'Max_Grav_accidents', 'rad', 'Count_accidents']\n"
     ]
    },
    {
     "name": "stderr",
     "output_type": "stream",
     "text": [
      "C:\\Users\\Thomas\\anaconda3\\envs\\bikes-count\\lib\\site-packages\\xgboost\\core.py:160: UserWarning: [02:49:20] WARNING: C:\\buildkite-agent\\builds\\buildkite-windows-cpu-autoscaling-group-i-0750514818a16474a-1\\xgboost\\xgboost-ci-windows\\src\\learner.cc:742: \n",
      "Parameters: { \"objectives\", \"verbose\" } are not used.\n",
      "\n",
      "  warnings.warn(smsg, UserWarning)\n"
     ]
    },
    {
     "name": "stdout",
     "output_type": "stream",
     "text": [
      "Train set RMSE: 0.42\n",
      "Test set RMSE: 0.48\n",
      "Tested on combination ['is_holiday', 'hosp', 'rea', 'incid_rea']\n"
     ]
    },
    {
     "name": "stderr",
     "output_type": "stream",
     "text": [
      "C:\\Users\\Thomas\\anaconda3\\envs\\bikes-count\\lib\\site-packages\\xgboost\\core.py:160: UserWarning: [02:49:27] WARNING: C:\\buildkite-agent\\builds\\buildkite-windows-cpu-autoscaling-group-i-0750514818a16474a-1\\xgboost\\xgboost-ci-windows\\src\\learner.cc:742: \n",
      "Parameters: { \"objectives\", \"verbose\" } are not used.\n",
      "\n",
      "  warnings.warn(smsg, UserWarning)\n"
     ]
    },
    {
     "name": "stdout",
     "output_type": "stream",
     "text": [
      "Train set RMSE: 0.41\n",
      "Test set RMSE: 0.48\n",
      "Tested on combination ['is_holiday', 'hosp', 'rea', 'rad']\n"
     ]
    },
    {
     "name": "stderr",
     "output_type": "stream",
     "text": [
      "C:\\Users\\Thomas\\anaconda3\\envs\\bikes-count\\lib\\site-packages\\xgboost\\core.py:160: UserWarning: [02:49:34] WARNING: C:\\buildkite-agent\\builds\\buildkite-windows-cpu-autoscaling-group-i-0750514818a16474a-1\\xgboost\\xgboost-ci-windows\\src\\learner.cc:742: \n",
      "Parameters: { \"objectives\", \"verbose\" } are not used.\n",
      "\n",
      "  warnings.warn(smsg, UserWarning)\n"
     ]
    },
    {
     "name": "stdout",
     "output_type": "stream",
     "text": [
      "Train set RMSE: 0.42\n",
      "Test set RMSE: 0.45\n",
      "Tested on combination ['is_holiday', 'hosp', 'rea', 'Count_accidents']\n"
     ]
    },
    {
     "name": "stderr",
     "output_type": "stream",
     "text": [
      "C:\\Users\\Thomas\\anaconda3\\envs\\bikes-count\\lib\\site-packages\\xgboost\\core.py:160: UserWarning: [02:49:41] WARNING: C:\\buildkite-agent\\builds\\buildkite-windows-cpu-autoscaling-group-i-0750514818a16474a-1\\xgboost\\xgboost-ci-windows\\src\\learner.cc:742: \n",
      "Parameters: { \"objectives\", \"verbose\" } are not used.\n",
      "\n",
      "  warnings.warn(smsg, UserWarning)\n"
     ]
    },
    {
     "name": "stdout",
     "output_type": "stream",
     "text": [
      "Train set RMSE: 0.41\n",
      "Test set RMSE: 0.49\n",
      "Tested on combination ['is_holiday', 'hosp', 'incid_rea', 'rad']\n"
     ]
    },
    {
     "name": "stderr",
     "output_type": "stream",
     "text": [
      "C:\\Users\\Thomas\\anaconda3\\envs\\bikes-count\\lib\\site-packages\\xgboost\\core.py:160: UserWarning: [02:49:48] WARNING: C:\\buildkite-agent\\builds\\buildkite-windows-cpu-autoscaling-group-i-0750514818a16474a-1\\xgboost\\xgboost-ci-windows\\src\\learner.cc:742: \n",
      "Parameters: { \"objectives\", \"verbose\" } are not used.\n",
      "\n",
      "  warnings.warn(smsg, UserWarning)\n"
     ]
    },
    {
     "name": "stdout",
     "output_type": "stream",
     "text": [
      "Train set RMSE: 0.42\n",
      "Test set RMSE: 0.50\n",
      "Tested on combination ['is_holiday', 'hosp', 'incid_rea', 'Count_accidents']\n"
     ]
    },
    {
     "name": "stderr",
     "output_type": "stream",
     "text": [
      "C:\\Users\\Thomas\\anaconda3\\envs\\bikes-count\\lib\\site-packages\\xgboost\\core.py:160: UserWarning: [02:49:55] WARNING: C:\\buildkite-agent\\builds\\buildkite-windows-cpu-autoscaling-group-i-0750514818a16474a-1\\xgboost\\xgboost-ci-windows\\src\\learner.cc:742: \n",
      "Parameters: { \"objectives\", \"verbose\" } are not used.\n",
      "\n",
      "  warnings.warn(smsg, UserWarning)\n"
     ]
    },
    {
     "name": "stdout",
     "output_type": "stream",
     "text": [
      "Train set RMSE: 0.41\n",
      "Test set RMSE: 0.48\n",
      "Tested on combination ['is_holiday', 'hosp', 'rad', 'Count_accidents']\n"
     ]
    },
    {
     "name": "stderr",
     "output_type": "stream",
     "text": [
      "C:\\Users\\Thomas\\anaconda3\\envs\\bikes-count\\lib\\site-packages\\xgboost\\core.py:160: UserWarning: [02:50:02] WARNING: C:\\buildkite-agent\\builds\\buildkite-windows-cpu-autoscaling-group-i-0750514818a16474a-1\\xgboost\\xgboost-ci-windows\\src\\learner.cc:742: \n",
      "Parameters: { \"objectives\", \"verbose\" } are not used.\n",
      "\n",
      "  warnings.warn(smsg, UserWarning)\n"
     ]
    },
    {
     "name": "stdout",
     "output_type": "stream",
     "text": [
      "Train set RMSE: 0.41\n",
      "Test set RMSE: 0.54\n",
      "Tested on combination ['is_holiday', 'rea', 'incid_rea', 'rad']\n"
     ]
    },
    {
     "name": "stderr",
     "output_type": "stream",
     "text": [
      "C:\\Users\\Thomas\\anaconda3\\envs\\bikes-count\\lib\\site-packages\\xgboost\\core.py:160: UserWarning: [02:50:08] WARNING: C:\\buildkite-agent\\builds\\buildkite-windows-cpu-autoscaling-group-i-0750514818a16474a-1\\xgboost\\xgboost-ci-windows\\src\\learner.cc:742: \n",
      "Parameters: { \"objectives\", \"verbose\" } are not used.\n",
      "\n",
      "  warnings.warn(smsg, UserWarning)\n"
     ]
    },
    {
     "name": "stdout",
     "output_type": "stream",
     "text": [
      "Train set RMSE: 0.42\n",
      "Test set RMSE: 0.52\n",
      "Tested on combination ['is_holiday', 'rea', 'incid_rea', 'Count_accidents']\n"
     ]
    },
    {
     "name": "stderr",
     "output_type": "stream",
     "text": [
      "C:\\Users\\Thomas\\anaconda3\\envs\\bikes-count\\lib\\site-packages\\xgboost\\core.py:160: UserWarning: [02:50:15] WARNING: C:\\buildkite-agent\\builds\\buildkite-windows-cpu-autoscaling-group-i-0750514818a16474a-1\\xgboost\\xgboost-ci-windows\\src\\learner.cc:742: \n",
      "Parameters: { \"objectives\", \"verbose\" } are not used.\n",
      "\n",
      "  warnings.warn(smsg, UserWarning)\n"
     ]
    },
    {
     "name": "stdout",
     "output_type": "stream",
     "text": [
      "Train set RMSE: 0.41\n",
      "Test set RMSE: 0.53\n",
      "Tested on combination ['is_holiday', 'rea', 'rad', 'Count_accidents']\n"
     ]
    },
    {
     "name": "stderr",
     "output_type": "stream",
     "text": [
      "C:\\Users\\Thomas\\anaconda3\\envs\\bikes-count\\lib\\site-packages\\xgboost\\core.py:160: UserWarning: [02:50:22] WARNING: C:\\buildkite-agent\\builds\\buildkite-windows-cpu-autoscaling-group-i-0750514818a16474a-1\\xgboost\\xgboost-ci-windows\\src\\learner.cc:742: \n",
      "Parameters: { \"objectives\", \"verbose\" } are not used.\n",
      "\n",
      "  warnings.warn(smsg, UserWarning)\n"
     ]
    },
    {
     "name": "stdout",
     "output_type": "stream",
     "text": [
      "Train set RMSE: 0.41\n",
      "Test set RMSE: 0.51\n",
      "Tested on combination ['is_holiday', 'incid_rea', 'rad', 'Count_accidents']\n"
     ]
    },
    {
     "name": "stderr",
     "output_type": "stream",
     "text": [
      "C:\\Users\\Thomas\\anaconda3\\envs\\bikes-count\\lib\\site-packages\\xgboost\\core.py:160: UserWarning: [02:50:29] WARNING: C:\\buildkite-agent\\builds\\buildkite-windows-cpu-autoscaling-group-i-0750514818a16474a-1\\xgboost\\xgboost-ci-windows\\src\\learner.cc:742: \n",
      "Parameters: { \"objectives\", \"verbose\" } are not used.\n",
      "\n",
      "  warnings.warn(smsg, UserWarning)\n"
     ]
    },
    {
     "name": "stdout",
     "output_type": "stream",
     "text": [
      "Train set RMSE: 0.43\n",
      "Test set RMSE: 0.48\n",
      "Tested on combination ['is_weekend', 'is_lockdown', 'is_curfew', 'Max_Grav_accidents']\n"
     ]
    },
    {
     "name": "stderr",
     "output_type": "stream",
     "text": [
      "C:\\Users\\Thomas\\anaconda3\\envs\\bikes-count\\lib\\site-packages\\xgboost\\core.py:160: UserWarning: [02:50:36] WARNING: C:\\buildkite-agent\\builds\\buildkite-windows-cpu-autoscaling-group-i-0750514818a16474a-1\\xgboost\\xgboost-ci-windows\\src\\learner.cc:742: \n",
      "Parameters: { \"objectives\", \"verbose\" } are not used.\n",
      "\n",
      "  warnings.warn(smsg, UserWarning)\n"
     ]
    },
    {
     "name": "stdout",
     "output_type": "stream",
     "text": [
      "Train set RMSE: 0.42\n",
      "Test set RMSE: 0.46\n",
      "Tested on combination ['is_weekend', 'is_lockdown', 'is_curfew', 'hosp']\n"
     ]
    },
    {
     "name": "stderr",
     "output_type": "stream",
     "text": [
      "C:\\Users\\Thomas\\anaconda3\\envs\\bikes-count\\lib\\site-packages\\xgboost\\core.py:160: UserWarning: [02:50:43] WARNING: C:\\buildkite-agent\\builds\\buildkite-windows-cpu-autoscaling-group-i-0750514818a16474a-1\\xgboost\\xgboost-ci-windows\\src\\learner.cc:742: \n",
      "Parameters: { \"objectives\", \"verbose\" } are not used.\n",
      "\n",
      "  warnings.warn(smsg, UserWarning)\n"
     ]
    },
    {
     "name": "stdout",
     "output_type": "stream",
     "text": [
      "Train set RMSE: 0.42\n",
      "Test set RMSE: 0.50\n",
      "Tested on combination ['is_weekend', 'is_lockdown', 'is_curfew', 'rea']\n"
     ]
    },
    {
     "name": "stderr",
     "output_type": "stream",
     "text": [
      "C:\\Users\\Thomas\\anaconda3\\envs\\bikes-count\\lib\\site-packages\\xgboost\\core.py:160: UserWarning: [02:50:50] WARNING: C:\\buildkite-agent\\builds\\buildkite-windows-cpu-autoscaling-group-i-0750514818a16474a-1\\xgboost\\xgboost-ci-windows\\src\\learner.cc:742: \n",
      "Parameters: { \"objectives\", \"verbose\" } are not used.\n",
      "\n",
      "  warnings.warn(smsg, UserWarning)\n"
     ]
    },
    {
     "name": "stdout",
     "output_type": "stream",
     "text": [
      "Train set RMSE: 0.43\n",
      "Test set RMSE: 0.49\n",
      "Tested on combination ['is_weekend', 'is_lockdown', 'is_curfew', 'incid_rea']\n"
     ]
    },
    {
     "name": "stderr",
     "output_type": "stream",
     "text": [
      "C:\\Users\\Thomas\\anaconda3\\envs\\bikes-count\\lib\\site-packages\\xgboost\\core.py:160: UserWarning: [02:50:57] WARNING: C:\\buildkite-agent\\builds\\buildkite-windows-cpu-autoscaling-group-i-0750514818a16474a-1\\xgboost\\xgboost-ci-windows\\src\\learner.cc:742: \n",
      "Parameters: { \"objectives\", \"verbose\" } are not used.\n",
      "\n",
      "  warnings.warn(smsg, UserWarning)\n"
     ]
    },
    {
     "name": "stdout",
     "output_type": "stream",
     "text": [
      "Train set RMSE: 0.41\n",
      "Test set RMSE: 0.51\n",
      "Tested on combination ['is_weekend', 'is_lockdown', 'is_curfew', 'rad']\n"
     ]
    },
    {
     "name": "stderr",
     "output_type": "stream",
     "text": [
      "C:\\Users\\Thomas\\anaconda3\\envs\\bikes-count\\lib\\site-packages\\xgboost\\core.py:160: UserWarning: [02:51:04] WARNING: C:\\buildkite-agent\\builds\\buildkite-windows-cpu-autoscaling-group-i-0750514818a16474a-1\\xgboost\\xgboost-ci-windows\\src\\learner.cc:742: \n",
      "Parameters: { \"objectives\", \"verbose\" } are not used.\n",
      "\n",
      "  warnings.warn(smsg, UserWarning)\n"
     ]
    },
    {
     "name": "stdout",
     "output_type": "stream",
     "text": [
      "Train set RMSE: 0.43\n",
      "Test set RMSE: 0.49\n",
      "Tested on combination ['is_weekend', 'is_lockdown', 'is_curfew', 'Count_accidents']\n"
     ]
    },
    {
     "name": "stderr",
     "output_type": "stream",
     "text": [
      "C:\\Users\\Thomas\\anaconda3\\envs\\bikes-count\\lib\\site-packages\\xgboost\\core.py:160: UserWarning: [02:51:11] WARNING: C:\\buildkite-agent\\builds\\buildkite-windows-cpu-autoscaling-group-i-0750514818a16474a-1\\xgboost\\xgboost-ci-windows\\src\\learner.cc:742: \n",
      "Parameters: { \"objectives\", \"verbose\" } are not used.\n",
      "\n",
      "  warnings.warn(smsg, UserWarning)\n"
     ]
    },
    {
     "name": "stdout",
     "output_type": "stream",
     "text": [
      "Train set RMSE: 0.42\n",
      "Test set RMSE: 0.46\n",
      "Tested on combination ['is_weekend', 'is_lockdown', 'Max_Grav_accidents', 'hosp']\n"
     ]
    },
    {
     "name": "stderr",
     "output_type": "stream",
     "text": [
      "C:\\Users\\Thomas\\anaconda3\\envs\\bikes-count\\lib\\site-packages\\xgboost\\core.py:160: UserWarning: [02:51:18] WARNING: C:\\buildkite-agent\\builds\\buildkite-windows-cpu-autoscaling-group-i-0750514818a16474a-1\\xgboost\\xgboost-ci-windows\\src\\learner.cc:742: \n",
      "Parameters: { \"objectives\", \"verbose\" } are not used.\n",
      "\n",
      "  warnings.warn(smsg, UserWarning)\n"
     ]
    },
    {
     "name": "stdout",
     "output_type": "stream",
     "text": [
      "Train set RMSE: 0.42\n",
      "Test set RMSE: 0.53\n",
      "Tested on combination ['is_weekend', 'is_lockdown', 'Max_Grav_accidents', 'rea']\n"
     ]
    },
    {
     "name": "stderr",
     "output_type": "stream",
     "text": [
      "C:\\Users\\Thomas\\anaconda3\\envs\\bikes-count\\lib\\site-packages\\xgboost\\core.py:160: UserWarning: [02:51:25] WARNING: C:\\buildkite-agent\\builds\\buildkite-windows-cpu-autoscaling-group-i-0750514818a16474a-1\\xgboost\\xgboost-ci-windows\\src\\learner.cc:742: \n",
      "Parameters: { \"objectives\", \"verbose\" } are not used.\n",
      "\n",
      "  warnings.warn(smsg, UserWarning)\n"
     ]
    },
    {
     "name": "stdout",
     "output_type": "stream",
     "text": [
      "Train set RMSE: 0.43\n",
      "Test set RMSE: 0.49\n",
      "Tested on combination ['is_weekend', 'is_lockdown', 'Max_Grav_accidents', 'incid_rea']\n"
     ]
    },
    {
     "name": "stderr",
     "output_type": "stream",
     "text": [
      "C:\\Users\\Thomas\\anaconda3\\envs\\bikes-count\\lib\\site-packages\\xgboost\\core.py:160: UserWarning: [02:51:32] WARNING: C:\\buildkite-agent\\builds\\buildkite-windows-cpu-autoscaling-group-i-0750514818a16474a-1\\xgboost\\xgboost-ci-windows\\src\\learner.cc:742: \n",
      "Parameters: { \"objectives\", \"verbose\" } are not used.\n",
      "\n",
      "  warnings.warn(smsg, UserWarning)\n"
     ]
    },
    {
     "name": "stdout",
     "output_type": "stream",
     "text": [
      "Train set RMSE: 0.42\n",
      "Test set RMSE: 0.51\n",
      "Tested on combination ['is_weekend', 'is_lockdown', 'Max_Grav_accidents', 'rad']\n"
     ]
    },
    {
     "name": "stderr",
     "output_type": "stream",
     "text": [
      "C:\\Users\\Thomas\\anaconda3\\envs\\bikes-count\\lib\\site-packages\\xgboost\\core.py:160: UserWarning: [02:51:39] WARNING: C:\\buildkite-agent\\builds\\buildkite-windows-cpu-autoscaling-group-i-0750514818a16474a-1\\xgboost\\xgboost-ci-windows\\src\\learner.cc:742: \n",
      "Parameters: { \"objectives\", \"verbose\" } are not used.\n",
      "\n",
      "  warnings.warn(smsg, UserWarning)\n"
     ]
    },
    {
     "name": "stdout",
     "output_type": "stream",
     "text": [
      "Train set RMSE: 0.43\n",
      "Test set RMSE: 0.49\n",
      "Tested on combination ['is_weekend', 'is_lockdown', 'Max_Grav_accidents', 'Count_accidents']\n"
     ]
    },
    {
     "name": "stderr",
     "output_type": "stream",
     "text": [
      "C:\\Users\\Thomas\\anaconda3\\envs\\bikes-count\\lib\\site-packages\\xgboost\\core.py:160: UserWarning: [02:51:46] WARNING: C:\\buildkite-agent\\builds\\buildkite-windows-cpu-autoscaling-group-i-0750514818a16474a-1\\xgboost\\xgboost-ci-windows\\src\\learner.cc:742: \n",
      "Parameters: { \"objectives\", \"verbose\" } are not used.\n",
      "\n",
      "  warnings.warn(smsg, UserWarning)\n"
     ]
    },
    {
     "name": "stdout",
     "output_type": "stream",
     "text": [
      "Train set RMSE: 0.42\n",
      "Test set RMSE: 0.48\n",
      "Tested on combination ['is_weekend', 'is_lockdown', 'hosp', 'rea']\n"
     ]
    },
    {
     "name": "stderr",
     "output_type": "stream",
     "text": [
      "C:\\Users\\Thomas\\anaconda3\\envs\\bikes-count\\lib\\site-packages\\xgboost\\core.py:160: UserWarning: [02:51:53] WARNING: C:\\buildkite-agent\\builds\\buildkite-windows-cpu-autoscaling-group-i-0750514818a16474a-1\\xgboost\\xgboost-ci-windows\\src\\learner.cc:742: \n",
      "Parameters: { \"objectives\", \"verbose\" } are not used.\n",
      "\n",
      "  warnings.warn(smsg, UserWarning)\n"
     ]
    },
    {
     "name": "stdout",
     "output_type": "stream",
     "text": [
      "Train set RMSE: 0.42\n",
      "Test set RMSE: 0.48\n",
      "Tested on combination ['is_weekend', 'is_lockdown', 'hosp', 'incid_rea']\n"
     ]
    },
    {
     "name": "stderr",
     "output_type": "stream",
     "text": [
      "C:\\Users\\Thomas\\anaconda3\\envs\\bikes-count\\lib\\site-packages\\xgboost\\core.py:160: UserWarning: [02:52:00] WARNING: C:\\buildkite-agent\\builds\\buildkite-windows-cpu-autoscaling-group-i-0750514818a16474a-1\\xgboost\\xgboost-ci-windows\\src\\learner.cc:742: \n",
      "Parameters: { \"objectives\", \"verbose\" } are not used.\n",
      "\n",
      "  warnings.warn(smsg, UserWarning)\n"
     ]
    },
    {
     "name": "stdout",
     "output_type": "stream",
     "text": [
      "Train set RMSE: 0.42\n",
      "Test set RMSE: 0.47\n",
      "Tested on combination ['is_weekend', 'is_lockdown', 'hosp', 'rad']\n"
     ]
    },
    {
     "name": "stderr",
     "output_type": "stream",
     "text": [
      "C:\\Users\\Thomas\\anaconda3\\envs\\bikes-count\\lib\\site-packages\\xgboost\\core.py:160: UserWarning: [02:52:06] WARNING: C:\\buildkite-agent\\builds\\buildkite-windows-cpu-autoscaling-group-i-0750514818a16474a-1\\xgboost\\xgboost-ci-windows\\src\\learner.cc:742: \n",
      "Parameters: { \"objectives\", \"verbose\" } are not used.\n",
      "\n",
      "  warnings.warn(smsg, UserWarning)\n"
     ]
    },
    {
     "name": "stdout",
     "output_type": "stream",
     "text": [
      "Train set RMSE: 0.42\n",
      "Test set RMSE: 0.46\n",
      "Tested on combination ['is_weekend', 'is_lockdown', 'hosp', 'Count_accidents']\n"
     ]
    },
    {
     "name": "stderr",
     "output_type": "stream",
     "text": [
      "C:\\Users\\Thomas\\anaconda3\\envs\\bikes-count\\lib\\site-packages\\xgboost\\core.py:160: UserWarning: [02:52:13] WARNING: C:\\buildkite-agent\\builds\\buildkite-windows-cpu-autoscaling-group-i-0750514818a16474a-1\\xgboost\\xgboost-ci-windows\\src\\learner.cc:742: \n",
      "Parameters: { \"objectives\", \"verbose\" } are not used.\n",
      "\n",
      "  warnings.warn(smsg, UserWarning)\n"
     ]
    },
    {
     "name": "stdout",
     "output_type": "stream",
     "text": [
      "Train set RMSE: 0.42\n",
      "Test set RMSE: 0.54\n",
      "Tested on combination ['is_weekend', 'is_lockdown', 'rea', 'incid_rea']\n"
     ]
    },
    {
     "name": "stderr",
     "output_type": "stream",
     "text": [
      "C:\\Users\\Thomas\\anaconda3\\envs\\bikes-count\\lib\\site-packages\\xgboost\\core.py:160: UserWarning: [02:52:20] WARNING: C:\\buildkite-agent\\builds\\buildkite-windows-cpu-autoscaling-group-i-0750514818a16474a-1\\xgboost\\xgboost-ci-windows\\src\\learner.cc:742: \n",
      "Parameters: { \"objectives\", \"verbose\" } are not used.\n",
      "\n",
      "  warnings.warn(smsg, UserWarning)\n"
     ]
    },
    {
     "name": "stdout",
     "output_type": "stream",
     "text": [
      "Train set RMSE: 0.41\n",
      "Test set RMSE: 0.52\n",
      "Tested on combination ['is_weekend', 'is_lockdown', 'rea', 'rad']\n"
     ]
    },
    {
     "name": "stderr",
     "output_type": "stream",
     "text": [
      "C:\\Users\\Thomas\\anaconda3\\envs\\bikes-count\\lib\\site-packages\\xgboost\\core.py:160: UserWarning: [02:52:27] WARNING: C:\\buildkite-agent\\builds\\buildkite-windows-cpu-autoscaling-group-i-0750514818a16474a-1\\xgboost\\xgboost-ci-windows\\src\\learner.cc:742: \n",
      "Parameters: { \"objectives\", \"verbose\" } are not used.\n",
      "\n",
      "  warnings.warn(smsg, UserWarning)\n"
     ]
    },
    {
     "name": "stdout",
     "output_type": "stream",
     "text": [
      "Train set RMSE: 0.42\n",
      "Test set RMSE: 0.50\n",
      "Tested on combination ['is_weekend', 'is_lockdown', 'rea', 'Count_accidents']\n"
     ]
    },
    {
     "name": "stderr",
     "output_type": "stream",
     "text": [
      "C:\\Users\\Thomas\\anaconda3\\envs\\bikes-count\\lib\\site-packages\\xgboost\\core.py:160: UserWarning: [02:52:34] WARNING: C:\\buildkite-agent\\builds\\buildkite-windows-cpu-autoscaling-group-i-0750514818a16474a-1\\xgboost\\xgboost-ci-windows\\src\\learner.cc:742: \n",
      "Parameters: { \"objectives\", \"verbose\" } are not used.\n",
      "\n",
      "  warnings.warn(smsg, UserWarning)\n"
     ]
    },
    {
     "name": "stdout",
     "output_type": "stream",
     "text": [
      "Train set RMSE: 0.41\n",
      "Test set RMSE: 0.51\n",
      "Tested on combination ['is_weekend', 'is_lockdown', 'incid_rea', 'rad']\n"
     ]
    },
    {
     "name": "stderr",
     "output_type": "stream",
     "text": [
      "C:\\Users\\Thomas\\anaconda3\\envs\\bikes-count\\lib\\site-packages\\xgboost\\core.py:160: UserWarning: [02:52:41] WARNING: C:\\buildkite-agent\\builds\\buildkite-windows-cpu-autoscaling-group-i-0750514818a16474a-1\\xgboost\\xgboost-ci-windows\\src\\learner.cc:742: \n",
      "Parameters: { \"objectives\", \"verbose\" } are not used.\n",
      "\n",
      "  warnings.warn(smsg, UserWarning)\n"
     ]
    },
    {
     "name": "stdout",
     "output_type": "stream",
     "text": [
      "Train set RMSE: 0.43\n",
      "Test set RMSE: 0.50\n",
      "Tested on combination ['is_weekend', 'is_lockdown', 'incid_rea', 'Count_accidents']\n"
     ]
    },
    {
     "name": "stderr",
     "output_type": "stream",
     "text": [
      "C:\\Users\\Thomas\\anaconda3\\envs\\bikes-count\\lib\\site-packages\\xgboost\\core.py:160: UserWarning: [02:52:48] WARNING: C:\\buildkite-agent\\builds\\buildkite-windows-cpu-autoscaling-group-i-0750514818a16474a-1\\xgboost\\xgboost-ci-windows\\src\\learner.cc:742: \n",
      "Parameters: { \"objectives\", \"verbose\" } are not used.\n",
      "\n",
      "  warnings.warn(smsg, UserWarning)\n"
     ]
    },
    {
     "name": "stdout",
     "output_type": "stream",
     "text": [
      "Train set RMSE: 0.42\n",
      "Test set RMSE: 0.51\n",
      "Tested on combination ['is_weekend', 'is_lockdown', 'rad', 'Count_accidents']\n"
     ]
    },
    {
     "name": "stderr",
     "output_type": "stream",
     "text": [
      "C:\\Users\\Thomas\\anaconda3\\envs\\bikes-count\\lib\\site-packages\\xgboost\\core.py:160: UserWarning: [02:52:55] WARNING: C:\\buildkite-agent\\builds\\buildkite-windows-cpu-autoscaling-group-i-0750514818a16474a-1\\xgboost\\xgboost-ci-windows\\src\\learner.cc:742: \n",
      "Parameters: { \"objectives\", \"verbose\" } are not used.\n",
      "\n",
      "  warnings.warn(smsg, UserWarning)\n"
     ]
    },
    {
     "name": "stdout",
     "output_type": "stream",
     "text": [
      "Train set RMSE: 0.42\n",
      "Test set RMSE: 0.46\n",
      "Tested on combination ['is_weekend', 'is_curfew', 'Max_Grav_accidents', 'hosp']\n"
     ]
    },
    {
     "name": "stderr",
     "output_type": "stream",
     "text": [
      "C:\\Users\\Thomas\\anaconda3\\envs\\bikes-count\\lib\\site-packages\\xgboost\\core.py:160: UserWarning: [02:53:02] WARNING: C:\\buildkite-agent\\builds\\buildkite-windows-cpu-autoscaling-group-i-0750514818a16474a-1\\xgboost\\xgboost-ci-windows\\src\\learner.cc:742: \n",
      "Parameters: { \"objectives\", \"verbose\" } are not used.\n",
      "\n",
      "  warnings.warn(smsg, UserWarning)\n"
     ]
    },
    {
     "name": "stdout",
     "output_type": "stream",
     "text": [
      "Train set RMSE: 0.42\n",
      "Test set RMSE: 0.50\n",
      "Tested on combination ['is_weekend', 'is_curfew', 'Max_Grav_accidents', 'rea']\n"
     ]
    },
    {
     "name": "stderr",
     "output_type": "stream",
     "text": [
      "C:\\Users\\Thomas\\anaconda3\\envs\\bikes-count\\lib\\site-packages\\xgboost\\core.py:160: UserWarning: [02:53:09] WARNING: C:\\buildkite-agent\\builds\\buildkite-windows-cpu-autoscaling-group-i-0750514818a16474a-1\\xgboost\\xgboost-ci-windows\\src\\learner.cc:742: \n",
      "Parameters: { \"objectives\", \"verbose\" } are not used.\n",
      "\n",
      "  warnings.warn(smsg, UserWarning)\n"
     ]
    },
    {
     "name": "stdout",
     "output_type": "stream",
     "text": [
      "Train set RMSE: 0.43\n",
      "Test set RMSE: 0.49\n",
      "Tested on combination ['is_weekend', 'is_curfew', 'Max_Grav_accidents', 'incid_rea']\n"
     ]
    },
    {
     "name": "stderr",
     "output_type": "stream",
     "text": [
      "C:\\Users\\Thomas\\anaconda3\\envs\\bikes-count\\lib\\site-packages\\xgboost\\core.py:160: UserWarning: [02:53:16] WARNING: C:\\buildkite-agent\\builds\\buildkite-windows-cpu-autoscaling-group-i-0750514818a16474a-1\\xgboost\\xgboost-ci-windows\\src\\learner.cc:742: \n",
      "Parameters: { \"objectives\", \"verbose\" } are not used.\n",
      "\n",
      "  warnings.warn(smsg, UserWarning)\n"
     ]
    },
    {
     "name": "stdout",
     "output_type": "stream",
     "text": [
      "Train set RMSE: 0.42\n",
      "Test set RMSE: 0.52\n",
      "Tested on combination ['is_weekend', 'is_curfew', 'Max_Grav_accidents', 'rad']\n"
     ]
    },
    {
     "name": "stderr",
     "output_type": "stream",
     "text": [
      "C:\\Users\\Thomas\\anaconda3\\envs\\bikes-count\\lib\\site-packages\\xgboost\\core.py:160: UserWarning: [02:53:23] WARNING: C:\\buildkite-agent\\builds\\buildkite-windows-cpu-autoscaling-group-i-0750514818a16474a-1\\xgboost\\xgboost-ci-windows\\src\\learner.cc:742: \n",
      "Parameters: { \"objectives\", \"verbose\" } are not used.\n",
      "\n",
      "  warnings.warn(smsg, UserWarning)\n"
     ]
    },
    {
     "name": "stdout",
     "output_type": "stream",
     "text": [
      "Train set RMSE: 0.43\n",
      "Test set RMSE: 0.49\n",
      "Tested on combination ['is_weekend', 'is_curfew', 'Max_Grav_accidents', 'Count_accidents']\n"
     ]
    },
    {
     "name": "stderr",
     "output_type": "stream",
     "text": [
      "C:\\Users\\Thomas\\anaconda3\\envs\\bikes-count\\lib\\site-packages\\xgboost\\core.py:160: UserWarning: [02:53:30] WARNING: C:\\buildkite-agent\\builds\\buildkite-windows-cpu-autoscaling-group-i-0750514818a16474a-1\\xgboost\\xgboost-ci-windows\\src\\learner.cc:742: \n",
      "Parameters: { \"objectives\", \"verbose\" } are not used.\n",
      "\n",
      "  warnings.warn(smsg, UserWarning)\n"
     ]
    },
    {
     "name": "stdout",
     "output_type": "stream",
     "text": [
      "Train set RMSE: 0.42\n",
      "Test set RMSE: 0.47\n",
      "Tested on combination ['is_weekend', 'is_curfew', 'hosp', 'rea']\n"
     ]
    },
    {
     "name": "stderr",
     "output_type": "stream",
     "text": [
      "C:\\Users\\Thomas\\anaconda3\\envs\\bikes-count\\lib\\site-packages\\xgboost\\core.py:160: UserWarning: [02:53:37] WARNING: C:\\buildkite-agent\\builds\\buildkite-windows-cpu-autoscaling-group-i-0750514818a16474a-1\\xgboost\\xgboost-ci-windows\\src\\learner.cc:742: \n",
      "Parameters: { \"objectives\", \"verbose\" } are not used.\n",
      "\n",
      "  warnings.warn(smsg, UserWarning)\n"
     ]
    },
    {
     "name": "stdout",
     "output_type": "stream",
     "text": [
      "Train set RMSE: 0.42\n",
      "Test set RMSE: 0.48\n",
      "Tested on combination ['is_weekend', 'is_curfew', 'hosp', 'incid_rea']\n"
     ]
    },
    {
     "name": "stderr",
     "output_type": "stream",
     "text": [
      "C:\\Users\\Thomas\\anaconda3\\envs\\bikes-count\\lib\\site-packages\\xgboost\\core.py:160: UserWarning: [02:53:44] WARNING: C:\\buildkite-agent\\builds\\buildkite-windows-cpu-autoscaling-group-i-0750514818a16474a-1\\xgboost\\xgboost-ci-windows\\src\\learner.cc:742: \n",
      "Parameters: { \"objectives\", \"verbose\" } are not used.\n",
      "\n",
      "  warnings.warn(smsg, UserWarning)\n"
     ]
    },
    {
     "name": "stdout",
     "output_type": "stream",
     "text": [
      "Train set RMSE: 0.41\n",
      "Test set RMSE: 0.48\n",
      "Tested on combination ['is_weekend', 'is_curfew', 'hosp', 'rad']\n"
     ]
    },
    {
     "name": "stderr",
     "output_type": "stream",
     "text": [
      "C:\\Users\\Thomas\\anaconda3\\envs\\bikes-count\\lib\\site-packages\\xgboost\\core.py:160: UserWarning: [02:53:51] WARNING: C:\\buildkite-agent\\builds\\buildkite-windows-cpu-autoscaling-group-i-0750514818a16474a-1\\xgboost\\xgboost-ci-windows\\src\\learner.cc:742: \n",
      "Parameters: { \"objectives\", \"verbose\" } are not used.\n",
      "\n",
      "  warnings.warn(smsg, UserWarning)\n"
     ]
    },
    {
     "name": "stdout",
     "output_type": "stream",
     "text": [
      "Train set RMSE: 0.42\n",
      "Test set RMSE: 0.46\n",
      "Tested on combination ['is_weekend', 'is_curfew', 'hosp', 'Count_accidents']\n"
     ]
    },
    {
     "name": "stderr",
     "output_type": "stream",
     "text": [
      "C:\\Users\\Thomas\\anaconda3\\envs\\bikes-count\\lib\\site-packages\\xgboost\\core.py:160: UserWarning: [02:53:58] WARNING: C:\\buildkite-agent\\builds\\buildkite-windows-cpu-autoscaling-group-i-0750514818a16474a-1\\xgboost\\xgboost-ci-windows\\src\\learner.cc:742: \n",
      "Parameters: { \"objectives\", \"verbose\" } are not used.\n",
      "\n",
      "  warnings.warn(smsg, UserWarning)\n"
     ]
    },
    {
     "name": "stdout",
     "output_type": "stream",
     "text": [
      "Train set RMSE: 0.42\n",
      "Test set RMSE: 0.49\n",
      "Tested on combination ['is_weekend', 'is_curfew', 'rea', 'incid_rea']\n"
     ]
    },
    {
     "name": "stderr",
     "output_type": "stream",
     "text": [
      "C:\\Users\\Thomas\\anaconda3\\envs\\bikes-count\\lib\\site-packages\\xgboost\\core.py:160: UserWarning: [02:54:05] WARNING: C:\\buildkite-agent\\builds\\buildkite-windows-cpu-autoscaling-group-i-0750514818a16474a-1\\xgboost\\xgboost-ci-windows\\src\\learner.cc:742: \n",
      "Parameters: { \"objectives\", \"verbose\" } are not used.\n",
      "\n",
      "  warnings.warn(smsg, UserWarning)\n"
     ]
    },
    {
     "name": "stdout",
     "output_type": "stream",
     "text": [
      "Train set RMSE: 0.41\n",
      "Test set RMSE: 0.51\n",
      "Tested on combination ['is_weekend', 'is_curfew', 'rea', 'rad']\n"
     ]
    },
    {
     "name": "stderr",
     "output_type": "stream",
     "text": [
      "C:\\Users\\Thomas\\anaconda3\\envs\\bikes-count\\lib\\site-packages\\xgboost\\core.py:160: UserWarning: [02:54:12] WARNING: C:\\buildkite-agent\\builds\\buildkite-windows-cpu-autoscaling-group-i-0750514818a16474a-1\\xgboost\\xgboost-ci-windows\\src\\learner.cc:742: \n",
      "Parameters: { \"objectives\", \"verbose\" } are not used.\n",
      "\n",
      "  warnings.warn(smsg, UserWarning)\n"
     ]
    },
    {
     "name": "stdout",
     "output_type": "stream",
     "text": [
      "Train set RMSE: 0.43\n",
      "Test set RMSE: 0.49\n",
      "Tested on combination ['is_weekend', 'is_curfew', 'rea', 'Count_accidents']\n"
     ]
    },
    {
     "name": "stderr",
     "output_type": "stream",
     "text": [
      "C:\\Users\\Thomas\\anaconda3\\envs\\bikes-count\\lib\\site-packages\\xgboost\\core.py:160: UserWarning: [02:54:19] WARNING: C:\\buildkite-agent\\builds\\buildkite-windows-cpu-autoscaling-group-i-0750514818a16474a-1\\xgboost\\xgboost-ci-windows\\src\\learner.cc:742: \n",
      "Parameters: { \"objectives\", \"verbose\" } are not used.\n",
      "\n",
      "  warnings.warn(smsg, UserWarning)\n"
     ]
    },
    {
     "name": "stdout",
     "output_type": "stream",
     "text": [
      "Train set RMSE: 0.42\n",
      "Test set RMSE: 0.51\n",
      "Tested on combination ['is_weekend', 'is_curfew', 'incid_rea', 'rad']\n"
     ]
    },
    {
     "name": "stderr",
     "output_type": "stream",
     "text": [
      "C:\\Users\\Thomas\\anaconda3\\envs\\bikes-count\\lib\\site-packages\\xgboost\\core.py:160: UserWarning: [02:54:26] WARNING: C:\\buildkite-agent\\builds\\buildkite-windows-cpu-autoscaling-group-i-0750514818a16474a-1\\xgboost\\xgboost-ci-windows\\src\\learner.cc:742: \n",
      "Parameters: { \"objectives\", \"verbose\" } are not used.\n",
      "\n",
      "  warnings.warn(smsg, UserWarning)\n"
     ]
    },
    {
     "name": "stdout",
     "output_type": "stream",
     "text": [
      "Train set RMSE: 0.43\n",
      "Test set RMSE: 0.50\n",
      "Tested on combination ['is_weekend', 'is_curfew', 'incid_rea', 'Count_accidents']\n"
     ]
    },
    {
     "name": "stderr",
     "output_type": "stream",
     "text": [
      "C:\\Users\\Thomas\\anaconda3\\envs\\bikes-count\\lib\\site-packages\\xgboost\\core.py:160: UserWarning: [02:54:32] WARNING: C:\\buildkite-agent\\builds\\buildkite-windows-cpu-autoscaling-group-i-0750514818a16474a-1\\xgboost\\xgboost-ci-windows\\src\\learner.cc:742: \n",
      "Parameters: { \"objectives\", \"verbose\" } are not used.\n",
      "\n",
      "  warnings.warn(smsg, UserWarning)\n"
     ]
    },
    {
     "name": "stdout",
     "output_type": "stream",
     "text": [
      "Train set RMSE: 0.41\n",
      "Test set RMSE: 0.51\n",
      "Tested on combination ['is_weekend', 'is_curfew', 'rad', 'Count_accidents']\n"
     ]
    },
    {
     "name": "stderr",
     "output_type": "stream",
     "text": [
      "C:\\Users\\Thomas\\anaconda3\\envs\\bikes-count\\lib\\site-packages\\xgboost\\core.py:160: UserWarning: [02:54:38] WARNING: C:\\buildkite-agent\\builds\\buildkite-windows-cpu-autoscaling-group-i-0750514818a16474a-1\\xgboost\\xgboost-ci-windows\\src\\learner.cc:742: \n",
      "Parameters: { \"objectives\", \"verbose\" } are not used.\n",
      "\n",
      "  warnings.warn(smsg, UserWarning)\n"
     ]
    },
    {
     "name": "stdout",
     "output_type": "stream",
     "text": [
      "Train set RMSE: 0.42\n",
      "Test set RMSE: 0.48\n",
      "Tested on combination ['is_weekend', 'Max_Grav_accidents', 'hosp', 'rea']\n"
     ]
    },
    {
     "name": "stderr",
     "output_type": "stream",
     "text": [
      "C:\\Users\\Thomas\\anaconda3\\envs\\bikes-count\\lib\\site-packages\\xgboost\\core.py:160: UserWarning: [02:54:45] WARNING: C:\\buildkite-agent\\builds\\buildkite-windows-cpu-autoscaling-group-i-0750514818a16474a-1\\xgboost\\xgboost-ci-windows\\src\\learner.cc:742: \n",
      "Parameters: { \"objectives\", \"verbose\" } are not used.\n",
      "\n",
      "  warnings.warn(smsg, UserWarning)\n"
     ]
    },
    {
     "name": "stdout",
     "output_type": "stream",
     "text": [
      "Train set RMSE: 0.42\n",
      "Test set RMSE: 0.47\n",
      "Tested on combination ['is_weekend', 'Max_Grav_accidents', 'hosp', 'incid_rea']\n"
     ]
    },
    {
     "name": "stderr",
     "output_type": "stream",
     "text": [
      "C:\\Users\\Thomas\\anaconda3\\envs\\bikes-count\\lib\\site-packages\\xgboost\\core.py:160: UserWarning: [02:54:51] WARNING: C:\\buildkite-agent\\builds\\buildkite-windows-cpu-autoscaling-group-i-0750514818a16474a-1\\xgboost\\xgboost-ci-windows\\src\\learner.cc:742: \n",
      "Parameters: { \"objectives\", \"verbose\" } are not used.\n",
      "\n",
      "  warnings.warn(smsg, UserWarning)\n"
     ]
    },
    {
     "name": "stdout",
     "output_type": "stream",
     "text": [
      "Train set RMSE: 0.42\n",
      "Test set RMSE: 0.47\n",
      "Tested on combination ['is_weekend', 'Max_Grav_accidents', 'hosp', 'rad']\n"
     ]
    },
    {
     "name": "stderr",
     "output_type": "stream",
     "text": [
      "C:\\Users\\Thomas\\anaconda3\\envs\\bikes-count\\lib\\site-packages\\xgboost\\core.py:160: UserWarning: [02:54:57] WARNING: C:\\buildkite-agent\\builds\\buildkite-windows-cpu-autoscaling-group-i-0750514818a16474a-1\\xgboost\\xgboost-ci-windows\\src\\learner.cc:742: \n",
      "Parameters: { \"objectives\", \"verbose\" } are not used.\n",
      "\n",
      "  warnings.warn(smsg, UserWarning)\n"
     ]
    },
    {
     "name": "stdout",
     "output_type": "stream",
     "text": [
      "Train set RMSE: 0.42\n",
      "Test set RMSE: 0.46\n",
      "Tested on combination ['is_weekend', 'Max_Grav_accidents', 'hosp', 'Count_accidents']\n"
     ]
    },
    {
     "name": "stderr",
     "output_type": "stream",
     "text": [
      "C:\\Users\\Thomas\\anaconda3\\envs\\bikes-count\\lib\\site-packages\\xgboost\\core.py:160: UserWarning: [02:55:04] WARNING: C:\\buildkite-agent\\builds\\buildkite-windows-cpu-autoscaling-group-i-0750514818a16474a-1\\xgboost\\xgboost-ci-windows\\src\\learner.cc:742: \n",
      "Parameters: { \"objectives\", \"verbose\" } are not used.\n",
      "\n",
      "  warnings.warn(smsg, UserWarning)\n"
     ]
    },
    {
     "name": "stdout",
     "output_type": "stream",
     "text": [
      "Train set RMSE: 0.42\n",
      "Test set RMSE: 0.50\n",
      "Tested on combination ['is_weekend', 'Max_Grav_accidents', 'rea', 'incid_rea']\n"
     ]
    },
    {
     "name": "stderr",
     "output_type": "stream",
     "text": [
      "C:\\Users\\Thomas\\anaconda3\\envs\\bikes-count\\lib\\site-packages\\xgboost\\core.py:160: UserWarning: [02:55:10] WARNING: C:\\buildkite-agent\\builds\\buildkite-windows-cpu-autoscaling-group-i-0750514818a16474a-1\\xgboost\\xgboost-ci-windows\\src\\learner.cc:742: \n",
      "Parameters: { \"objectives\", \"verbose\" } are not used.\n",
      "\n",
      "  warnings.warn(smsg, UserWarning)\n"
     ]
    },
    {
     "name": "stdout",
     "output_type": "stream",
     "text": [
      "Train set RMSE: 0.42\n",
      "Test set RMSE: 0.52\n",
      "Tested on combination ['is_weekend', 'Max_Grav_accidents', 'rea', 'rad']\n"
     ]
    },
    {
     "name": "stderr",
     "output_type": "stream",
     "text": [
      "C:\\Users\\Thomas\\anaconda3\\envs\\bikes-count\\lib\\site-packages\\xgboost\\core.py:160: UserWarning: [02:55:17] WARNING: C:\\buildkite-agent\\builds\\buildkite-windows-cpu-autoscaling-group-i-0750514818a16474a-1\\xgboost\\xgboost-ci-windows\\src\\learner.cc:742: \n",
      "Parameters: { \"objectives\", \"verbose\" } are not used.\n",
      "\n",
      "  warnings.warn(smsg, UserWarning)\n"
     ]
    },
    {
     "name": "stdout",
     "output_type": "stream",
     "text": [
      "Train set RMSE: 0.42\n",
      "Test set RMSE: 0.49\n",
      "Tested on combination ['is_weekend', 'Max_Grav_accidents', 'rea', 'Count_accidents']\n"
     ]
    },
    {
     "name": "stderr",
     "output_type": "stream",
     "text": [
      "C:\\Users\\Thomas\\anaconda3\\envs\\bikes-count\\lib\\site-packages\\xgboost\\core.py:160: UserWarning: [02:55:23] WARNING: C:\\buildkite-agent\\builds\\buildkite-windows-cpu-autoscaling-group-i-0750514818a16474a-1\\xgboost\\xgboost-ci-windows\\src\\learner.cc:742: \n",
      "Parameters: { \"objectives\", \"verbose\" } are not used.\n",
      "\n",
      "  warnings.warn(smsg, UserWarning)\n"
     ]
    },
    {
     "name": "stdout",
     "output_type": "stream",
     "text": [
      "Train set RMSE: 0.41\n",
      "Test set RMSE: 0.50\n",
      "Tested on combination ['is_weekend', 'Max_Grav_accidents', 'incid_rea', 'rad']\n"
     ]
    },
    {
     "name": "stderr",
     "output_type": "stream",
     "text": [
      "C:\\Users\\Thomas\\anaconda3\\envs\\bikes-count\\lib\\site-packages\\xgboost\\core.py:160: UserWarning: [02:55:30] WARNING: C:\\buildkite-agent\\builds\\buildkite-windows-cpu-autoscaling-group-i-0750514818a16474a-1\\xgboost\\xgboost-ci-windows\\src\\learner.cc:742: \n",
      "Parameters: { \"objectives\", \"verbose\" } are not used.\n",
      "\n",
      "  warnings.warn(smsg, UserWarning)\n"
     ]
    },
    {
     "name": "stdout",
     "output_type": "stream",
     "text": [
      "Train set RMSE: 0.43\n",
      "Test set RMSE: 0.49\n",
      "Tested on combination ['is_weekend', 'Max_Grav_accidents', 'incid_rea', 'Count_accidents']\n"
     ]
    },
    {
     "name": "stderr",
     "output_type": "stream",
     "text": [
      "C:\\Users\\Thomas\\anaconda3\\envs\\bikes-count\\lib\\site-packages\\xgboost\\core.py:160: UserWarning: [02:55:36] WARNING: C:\\buildkite-agent\\builds\\buildkite-windows-cpu-autoscaling-group-i-0750514818a16474a-1\\xgboost\\xgboost-ci-windows\\src\\learner.cc:742: \n",
      "Parameters: { \"objectives\", \"verbose\" } are not used.\n",
      "\n",
      "  warnings.warn(smsg, UserWarning)\n"
     ]
    },
    {
     "name": "stdout",
     "output_type": "stream",
     "text": [
      "Train set RMSE: 0.42\n",
      "Test set RMSE: 0.52\n",
      "Tested on combination ['is_weekend', 'Max_Grav_accidents', 'rad', 'Count_accidents']\n"
     ]
    },
    {
     "name": "stderr",
     "output_type": "stream",
     "text": [
      "C:\\Users\\Thomas\\anaconda3\\envs\\bikes-count\\lib\\site-packages\\xgboost\\core.py:160: UserWarning: [02:55:43] WARNING: C:\\buildkite-agent\\builds\\buildkite-windows-cpu-autoscaling-group-i-0750514818a16474a-1\\xgboost\\xgboost-ci-windows\\src\\learner.cc:742: \n",
      "Parameters: { \"objectives\", \"verbose\" } are not used.\n",
      "\n",
      "  warnings.warn(smsg, UserWarning)\n"
     ]
    },
    {
     "name": "stdout",
     "output_type": "stream",
     "text": [
      "Train set RMSE: 0.42\n",
      "Test set RMSE: 0.48\n",
      "Tested on combination ['is_weekend', 'hosp', 'rea', 'incid_rea']\n"
     ]
    },
    {
     "name": "stderr",
     "output_type": "stream",
     "text": [
      "C:\\Users\\Thomas\\anaconda3\\envs\\bikes-count\\lib\\site-packages\\xgboost\\core.py:160: UserWarning: [02:55:49] WARNING: C:\\buildkite-agent\\builds\\buildkite-windows-cpu-autoscaling-group-i-0750514818a16474a-1\\xgboost\\xgboost-ci-windows\\src\\learner.cc:742: \n",
      "Parameters: { \"objectives\", \"verbose\" } are not used.\n",
      "\n",
      "  warnings.warn(smsg, UserWarning)\n"
     ]
    },
    {
     "name": "stdout",
     "output_type": "stream",
     "text": [
      "Train set RMSE: 0.42\n",
      "Test set RMSE: 0.51\n",
      "Tested on combination ['is_weekend', 'hosp', 'rea', 'rad']\n"
     ]
    },
    {
     "name": "stderr",
     "output_type": "stream",
     "text": [
      "C:\\Users\\Thomas\\anaconda3\\envs\\bikes-count\\lib\\site-packages\\xgboost\\core.py:160: UserWarning: [02:55:56] WARNING: C:\\buildkite-agent\\builds\\buildkite-windows-cpu-autoscaling-group-i-0750514818a16474a-1\\xgboost\\xgboost-ci-windows\\src\\learner.cc:742: \n",
      "Parameters: { \"objectives\", \"verbose\" } are not used.\n",
      "\n",
      "  warnings.warn(smsg, UserWarning)\n"
     ]
    },
    {
     "name": "stdout",
     "output_type": "stream",
     "text": [
      "Train set RMSE: 0.42\n",
      "Test set RMSE: 0.47\n",
      "Tested on combination ['is_weekend', 'hosp', 'rea', 'Count_accidents']\n"
     ]
    },
    {
     "name": "stderr",
     "output_type": "stream",
     "text": [
      "C:\\Users\\Thomas\\anaconda3\\envs\\bikes-count\\lib\\site-packages\\xgboost\\core.py:160: UserWarning: [02:56:02] WARNING: C:\\buildkite-agent\\builds\\buildkite-windows-cpu-autoscaling-group-i-0750514818a16474a-1\\xgboost\\xgboost-ci-windows\\src\\learner.cc:742: \n",
      "Parameters: { \"objectives\", \"verbose\" } are not used.\n",
      "\n",
      "  warnings.warn(smsg, UserWarning)\n"
     ]
    },
    {
     "name": "stdout",
     "output_type": "stream",
     "text": [
      "Train set RMSE: 0.41\n",
      "Test set RMSE: 0.49\n",
      "Tested on combination ['is_weekend', 'hosp', 'incid_rea', 'rad']\n"
     ]
    },
    {
     "name": "stderr",
     "output_type": "stream",
     "text": [
      "C:\\Users\\Thomas\\anaconda3\\envs\\bikes-count\\lib\\site-packages\\xgboost\\core.py:160: UserWarning: [02:56:08] WARNING: C:\\buildkite-agent\\builds\\buildkite-windows-cpu-autoscaling-group-i-0750514818a16474a-1\\xgboost\\xgboost-ci-windows\\src\\learner.cc:742: \n",
      "Parameters: { \"objectives\", \"verbose\" } are not used.\n",
      "\n",
      "  warnings.warn(smsg, UserWarning)\n"
     ]
    },
    {
     "name": "stdout",
     "output_type": "stream",
     "text": [
      "Train set RMSE: 0.42\n",
      "Test set RMSE: 0.48\n",
      "Tested on combination ['is_weekend', 'hosp', 'incid_rea', 'Count_accidents']\n"
     ]
    },
    {
     "name": "stderr",
     "output_type": "stream",
     "text": [
      "C:\\Users\\Thomas\\anaconda3\\envs\\bikes-count\\lib\\site-packages\\xgboost\\core.py:160: UserWarning: [02:56:14] WARNING: C:\\buildkite-agent\\builds\\buildkite-windows-cpu-autoscaling-group-i-0750514818a16474a-1\\xgboost\\xgboost-ci-windows\\src\\learner.cc:742: \n",
      "Parameters: { \"objectives\", \"verbose\" } are not used.\n",
      "\n",
      "  warnings.warn(smsg, UserWarning)\n"
     ]
    },
    {
     "name": "stdout",
     "output_type": "stream",
     "text": [
      "Train set RMSE: 0.41\n",
      "Test set RMSE: 0.50\n",
      "Tested on combination ['is_weekend', 'hosp', 'rad', 'Count_accidents']\n"
     ]
    },
    {
     "name": "stderr",
     "output_type": "stream",
     "text": [
      "C:\\Users\\Thomas\\anaconda3\\envs\\bikes-count\\lib\\site-packages\\xgboost\\core.py:160: UserWarning: [02:56:21] WARNING: C:\\buildkite-agent\\builds\\buildkite-windows-cpu-autoscaling-group-i-0750514818a16474a-1\\xgboost\\xgboost-ci-windows\\src\\learner.cc:742: \n",
      "Parameters: { \"objectives\", \"verbose\" } are not used.\n",
      "\n",
      "  warnings.warn(smsg, UserWarning)\n"
     ]
    },
    {
     "name": "stdout",
     "output_type": "stream",
     "text": [
      "Train set RMSE: 0.41\n",
      "Test set RMSE: 0.57\n",
      "Tested on combination ['is_weekend', 'rea', 'incid_rea', 'rad']\n"
     ]
    },
    {
     "name": "stderr",
     "output_type": "stream",
     "text": [
      "C:\\Users\\Thomas\\anaconda3\\envs\\bikes-count\\lib\\site-packages\\xgboost\\core.py:160: UserWarning: [02:56:28] WARNING: C:\\buildkite-agent\\builds\\buildkite-windows-cpu-autoscaling-group-i-0750514818a16474a-1\\xgboost\\xgboost-ci-windows\\src\\learner.cc:742: \n",
      "Parameters: { \"objectives\", \"verbose\" } are not used.\n",
      "\n",
      "  warnings.warn(smsg, UserWarning)\n"
     ]
    },
    {
     "name": "stdout",
     "output_type": "stream",
     "text": [
      "Train set RMSE: 0.42\n",
      "Test set RMSE: 0.51\n",
      "Tested on combination ['is_weekend', 'rea', 'incid_rea', 'Count_accidents']\n"
     ]
    },
    {
     "name": "stderr",
     "output_type": "stream",
     "text": [
      "C:\\Users\\Thomas\\anaconda3\\envs\\bikes-count\\lib\\site-packages\\xgboost\\core.py:160: UserWarning: [02:56:34] WARNING: C:\\buildkite-agent\\builds\\buildkite-windows-cpu-autoscaling-group-i-0750514818a16474a-1\\xgboost\\xgboost-ci-windows\\src\\learner.cc:742: \n",
      "Parameters: { \"objectives\", \"verbose\" } are not used.\n",
      "\n",
      "  warnings.warn(smsg, UserWarning)\n"
     ]
    },
    {
     "name": "stdout",
     "output_type": "stream",
     "text": [
      "Train set RMSE: 0.41\n",
      "Test set RMSE: 0.54\n",
      "Tested on combination ['is_weekend', 'rea', 'rad', 'Count_accidents']\n"
     ]
    },
    {
     "name": "stderr",
     "output_type": "stream",
     "text": [
      "C:\\Users\\Thomas\\anaconda3\\envs\\bikes-count\\lib\\site-packages\\xgboost\\core.py:160: UserWarning: [02:56:40] WARNING: C:\\buildkite-agent\\builds\\buildkite-windows-cpu-autoscaling-group-i-0750514818a16474a-1\\xgboost\\xgboost-ci-windows\\src\\learner.cc:742: \n",
      "Parameters: { \"objectives\", \"verbose\" } are not used.\n",
      "\n",
      "  warnings.warn(smsg, UserWarning)\n"
     ]
    },
    {
     "name": "stdout",
     "output_type": "stream",
     "text": [
      "Train set RMSE: 0.41\n",
      "Test set RMSE: 0.50\n",
      "Tested on combination ['is_weekend', 'incid_rea', 'rad', 'Count_accidents']\n"
     ]
    },
    {
     "name": "stderr",
     "output_type": "stream",
     "text": [
      "C:\\Users\\Thomas\\anaconda3\\envs\\bikes-count\\lib\\site-packages\\xgboost\\core.py:160: UserWarning: [02:56:47] WARNING: C:\\buildkite-agent\\builds\\buildkite-windows-cpu-autoscaling-group-i-0750514818a16474a-1\\xgboost\\xgboost-ci-windows\\src\\learner.cc:742: \n",
      "Parameters: { \"objectives\", \"verbose\" } are not used.\n",
      "\n",
      "  warnings.warn(smsg, UserWarning)\n"
     ]
    },
    {
     "name": "stdout",
     "output_type": "stream",
     "text": [
      "Train set RMSE: 0.42\n",
      "Test set RMSE: 0.46\n",
      "Tested on combination ['is_lockdown', 'is_curfew', 'Max_Grav_accidents', 'hosp']\n"
     ]
    },
    {
     "name": "stderr",
     "output_type": "stream",
     "text": [
      "C:\\Users\\Thomas\\anaconda3\\envs\\bikes-count\\lib\\site-packages\\xgboost\\core.py:160: UserWarning: [02:56:53] WARNING: C:\\buildkite-agent\\builds\\buildkite-windows-cpu-autoscaling-group-i-0750514818a16474a-1\\xgboost\\xgboost-ci-windows\\src\\learner.cc:742: \n",
      "Parameters: { \"objectives\", \"verbose\" } are not used.\n",
      "\n",
      "  warnings.warn(smsg, UserWarning)\n"
     ]
    },
    {
     "name": "stdout",
     "output_type": "stream",
     "text": [
      "Train set RMSE: 0.42\n",
      "Test set RMSE: 0.51\n",
      "Tested on combination ['is_lockdown', 'is_curfew', 'Max_Grav_accidents', 'rea']\n"
     ]
    },
    {
     "name": "stderr",
     "output_type": "stream",
     "text": [
      "C:\\Users\\Thomas\\anaconda3\\envs\\bikes-count\\lib\\site-packages\\xgboost\\core.py:160: UserWarning: [02:57:00] WARNING: C:\\buildkite-agent\\builds\\buildkite-windows-cpu-autoscaling-group-i-0750514818a16474a-1\\xgboost\\xgboost-ci-windows\\src\\learner.cc:742: \n",
      "Parameters: { \"objectives\", \"verbose\" } are not used.\n",
      "\n",
      "  warnings.warn(smsg, UserWarning)\n"
     ]
    },
    {
     "name": "stdout",
     "output_type": "stream",
     "text": [
      "Train set RMSE: 0.42\n",
      "Test set RMSE: 0.49\n",
      "Tested on combination ['is_lockdown', 'is_curfew', 'Max_Grav_accidents', 'incid_rea']\n"
     ]
    },
    {
     "name": "stderr",
     "output_type": "stream",
     "text": [
      "C:\\Users\\Thomas\\anaconda3\\envs\\bikes-count\\lib\\site-packages\\xgboost\\core.py:160: UserWarning: [02:57:06] WARNING: C:\\buildkite-agent\\builds\\buildkite-windows-cpu-autoscaling-group-i-0750514818a16474a-1\\xgboost\\xgboost-ci-windows\\src\\learner.cc:742: \n",
      "Parameters: { \"objectives\", \"verbose\" } are not used.\n",
      "\n",
      "  warnings.warn(smsg, UserWarning)\n"
     ]
    },
    {
     "name": "stdout",
     "output_type": "stream",
     "text": [
      "Train set RMSE: 0.42\n",
      "Test set RMSE: 0.51\n",
      "Tested on combination ['is_lockdown', 'is_curfew', 'Max_Grav_accidents', 'rad']\n"
     ]
    },
    {
     "name": "stderr",
     "output_type": "stream",
     "text": [
      "C:\\Users\\Thomas\\anaconda3\\envs\\bikes-count\\lib\\site-packages\\xgboost\\core.py:160: UserWarning: [02:57:12] WARNING: C:\\buildkite-agent\\builds\\buildkite-windows-cpu-autoscaling-group-i-0750514818a16474a-1\\xgboost\\xgboost-ci-windows\\src\\learner.cc:742: \n",
      "Parameters: { \"objectives\", \"verbose\" } are not used.\n",
      "\n",
      "  warnings.warn(smsg, UserWarning)\n"
     ]
    },
    {
     "name": "stdout",
     "output_type": "stream",
     "text": [
      "Train set RMSE: 0.43\n",
      "Test set RMSE: 0.48\n",
      "Tested on combination ['is_lockdown', 'is_curfew', 'Max_Grav_accidents', 'Count_accidents']\n"
     ]
    },
    {
     "name": "stderr",
     "output_type": "stream",
     "text": [
      "C:\\Users\\Thomas\\anaconda3\\envs\\bikes-count\\lib\\site-packages\\xgboost\\core.py:160: UserWarning: [02:57:19] WARNING: C:\\buildkite-agent\\builds\\buildkite-windows-cpu-autoscaling-group-i-0750514818a16474a-1\\xgboost\\xgboost-ci-windows\\src\\learner.cc:742: \n",
      "Parameters: { \"objectives\", \"verbose\" } are not used.\n",
      "\n",
      "  warnings.warn(smsg, UserWarning)\n"
     ]
    },
    {
     "name": "stdout",
     "output_type": "stream",
     "text": [
      "Train set RMSE: 0.42\n",
      "Test set RMSE: 0.49\n",
      "Tested on combination ['is_lockdown', 'is_curfew', 'hosp', 'rea']\n"
     ]
    },
    {
     "name": "stderr",
     "output_type": "stream",
     "text": [
      "C:\\Users\\Thomas\\anaconda3\\envs\\bikes-count\\lib\\site-packages\\xgboost\\core.py:160: UserWarning: [02:57:25] WARNING: C:\\buildkite-agent\\builds\\buildkite-windows-cpu-autoscaling-group-i-0750514818a16474a-1\\xgboost\\xgboost-ci-windows\\src\\learner.cc:742: \n",
      "Parameters: { \"objectives\", \"verbose\" } are not used.\n",
      "\n",
      "  warnings.warn(smsg, UserWarning)\n"
     ]
    },
    {
     "name": "stdout",
     "output_type": "stream",
     "text": [
      "Train set RMSE: 0.42\n",
      "Test set RMSE: 0.48\n",
      "Tested on combination ['is_lockdown', 'is_curfew', 'hosp', 'incid_rea']\n"
     ]
    },
    {
     "name": "stderr",
     "output_type": "stream",
     "text": [
      "C:\\Users\\Thomas\\anaconda3\\envs\\bikes-count\\lib\\site-packages\\xgboost\\core.py:160: UserWarning: [02:57:32] WARNING: C:\\buildkite-agent\\builds\\buildkite-windows-cpu-autoscaling-group-i-0750514818a16474a-1\\xgboost\\xgboost-ci-windows\\src\\learner.cc:742: \n",
      "Parameters: { \"objectives\", \"verbose\" } are not used.\n",
      "\n",
      "  warnings.warn(smsg, UserWarning)\n"
     ]
    },
    {
     "name": "stdout",
     "output_type": "stream",
     "text": [
      "Train set RMSE: 0.42\n",
      "Test set RMSE: 0.50\n",
      "Tested on combination ['is_lockdown', 'is_curfew', 'hosp', 'rad']\n"
     ]
    },
    {
     "name": "stderr",
     "output_type": "stream",
     "text": [
      "C:\\Users\\Thomas\\anaconda3\\envs\\bikes-count\\lib\\site-packages\\xgboost\\core.py:160: UserWarning: [02:57:38] WARNING: C:\\buildkite-agent\\builds\\buildkite-windows-cpu-autoscaling-group-i-0750514818a16474a-1\\xgboost\\xgboost-ci-windows\\src\\learner.cc:742: \n",
      "Parameters: { \"objectives\", \"verbose\" } are not used.\n",
      "\n",
      "  warnings.warn(smsg, UserWarning)\n"
     ]
    },
    {
     "name": "stdout",
     "output_type": "stream",
     "text": [
      "Train set RMSE: 0.42\n",
      "Test set RMSE: 0.46\n",
      "Tested on combination ['is_lockdown', 'is_curfew', 'hosp', 'Count_accidents']\n"
     ]
    },
    {
     "name": "stderr",
     "output_type": "stream",
     "text": [
      "C:\\Users\\Thomas\\anaconda3\\envs\\bikes-count\\lib\\site-packages\\xgboost\\core.py:160: UserWarning: [02:57:44] WARNING: C:\\buildkite-agent\\builds\\buildkite-windows-cpu-autoscaling-group-i-0750514818a16474a-1\\xgboost\\xgboost-ci-windows\\src\\learner.cc:742: \n",
      "Parameters: { \"objectives\", \"verbose\" } are not used.\n",
      "\n",
      "  warnings.warn(smsg, UserWarning)\n"
     ]
    },
    {
     "name": "stdout",
     "output_type": "stream",
     "text": [
      "Train set RMSE: 0.42\n",
      "Test set RMSE: 0.53\n",
      "Tested on combination ['is_lockdown', 'is_curfew', 'rea', 'incid_rea']\n"
     ]
    },
    {
     "name": "stderr",
     "output_type": "stream",
     "text": [
      "C:\\Users\\Thomas\\anaconda3\\envs\\bikes-count\\lib\\site-packages\\xgboost\\core.py:160: UserWarning: [02:57:51] WARNING: C:\\buildkite-agent\\builds\\buildkite-windows-cpu-autoscaling-group-i-0750514818a16474a-1\\xgboost\\xgboost-ci-windows\\src\\learner.cc:742: \n",
      "Parameters: { \"objectives\", \"verbose\" } are not used.\n",
      "\n",
      "  warnings.warn(smsg, UserWarning)\n"
     ]
    },
    {
     "name": "stdout",
     "output_type": "stream",
     "text": [
      "Train set RMSE: 0.42\n",
      "Test set RMSE: 0.51\n",
      "Tested on combination ['is_lockdown', 'is_curfew', 'rea', 'rad']\n"
     ]
    },
    {
     "name": "stderr",
     "output_type": "stream",
     "text": [
      "C:\\Users\\Thomas\\anaconda3\\envs\\bikes-count\\lib\\site-packages\\xgboost\\core.py:160: UserWarning: [02:57:57] WARNING: C:\\buildkite-agent\\builds\\buildkite-windows-cpu-autoscaling-group-i-0750514818a16474a-1\\xgboost\\xgboost-ci-windows\\src\\learner.cc:742: \n",
      "Parameters: { \"objectives\", \"verbose\" } are not used.\n",
      "\n",
      "  warnings.warn(smsg, UserWarning)\n"
     ]
    },
    {
     "name": "stdout",
     "output_type": "stream",
     "text": [
      "Train set RMSE: 0.42\n",
      "Test set RMSE: 0.48\n",
      "Tested on combination ['is_lockdown', 'is_curfew', 'rea', 'Count_accidents']\n"
     ]
    },
    {
     "name": "stderr",
     "output_type": "stream",
     "text": [
      "C:\\Users\\Thomas\\anaconda3\\envs\\bikes-count\\lib\\site-packages\\xgboost\\core.py:160: UserWarning: [02:58:04] WARNING: C:\\buildkite-agent\\builds\\buildkite-windows-cpu-autoscaling-group-i-0750514818a16474a-1\\xgboost\\xgboost-ci-windows\\src\\learner.cc:742: \n",
      "Parameters: { \"objectives\", \"verbose\" } are not used.\n",
      "\n",
      "  warnings.warn(smsg, UserWarning)\n"
     ]
    },
    {
     "name": "stdout",
     "output_type": "stream",
     "text": [
      "Train set RMSE: 0.42\n",
      "Test set RMSE: 0.51\n",
      "Tested on combination ['is_lockdown', 'is_curfew', 'incid_rea', 'rad']\n"
     ]
    },
    {
     "name": "stderr",
     "output_type": "stream",
     "text": [
      "C:\\Users\\Thomas\\anaconda3\\envs\\bikes-count\\lib\\site-packages\\xgboost\\core.py:160: UserWarning: [02:58:10] WARNING: C:\\buildkite-agent\\builds\\buildkite-windows-cpu-autoscaling-group-i-0750514818a16474a-1\\xgboost\\xgboost-ci-windows\\src\\learner.cc:742: \n",
      "Parameters: { \"objectives\", \"verbose\" } are not used.\n",
      "\n",
      "  warnings.warn(smsg, UserWarning)\n"
     ]
    },
    {
     "name": "stdout",
     "output_type": "stream",
     "text": [
      "Train set RMSE: 0.43\n",
      "Test set RMSE: 0.51\n",
      "Tested on combination ['is_lockdown', 'is_curfew', 'incid_rea', 'Count_accidents']\n"
     ]
    },
    {
     "name": "stderr",
     "output_type": "stream",
     "text": [
      "C:\\Users\\Thomas\\anaconda3\\envs\\bikes-count\\lib\\site-packages\\xgboost\\core.py:160: UserWarning: [02:58:16] WARNING: C:\\buildkite-agent\\builds\\buildkite-windows-cpu-autoscaling-group-i-0750514818a16474a-1\\xgboost\\xgboost-ci-windows\\src\\learner.cc:742: \n",
      "Parameters: { \"objectives\", \"verbose\" } are not used.\n",
      "\n",
      "  warnings.warn(smsg, UserWarning)\n"
     ]
    },
    {
     "name": "stdout",
     "output_type": "stream",
     "text": [
      "Train set RMSE: 0.42\n",
      "Test set RMSE: 0.52\n",
      "Tested on combination ['is_lockdown', 'is_curfew', 'rad', 'Count_accidents']\n"
     ]
    },
    {
     "name": "stderr",
     "output_type": "stream",
     "text": [
      "C:\\Users\\Thomas\\anaconda3\\envs\\bikes-count\\lib\\site-packages\\xgboost\\core.py:160: UserWarning: [02:58:22] WARNING: C:\\buildkite-agent\\builds\\buildkite-windows-cpu-autoscaling-group-i-0750514818a16474a-1\\xgboost\\xgboost-ci-windows\\src\\learner.cc:742: \n",
      "Parameters: { \"objectives\", \"verbose\" } are not used.\n",
      "\n",
      "  warnings.warn(smsg, UserWarning)\n"
     ]
    },
    {
     "name": "stdout",
     "output_type": "stream",
     "text": [
      "Train set RMSE: 0.41\n",
      "Test set RMSE: 0.46\n",
      "Tested on combination ['is_lockdown', 'Max_Grav_accidents', 'hosp', 'rea']\n"
     ]
    },
    {
     "name": "stderr",
     "output_type": "stream",
     "text": [
      "C:\\Users\\Thomas\\anaconda3\\envs\\bikes-count\\lib\\site-packages\\xgboost\\core.py:160: UserWarning: [02:58:29] WARNING: C:\\buildkite-agent\\builds\\buildkite-windows-cpu-autoscaling-group-i-0750514818a16474a-1\\xgboost\\xgboost-ci-windows\\src\\learner.cc:742: \n",
      "Parameters: { \"objectives\", \"verbose\" } are not used.\n",
      "\n",
      "  warnings.warn(smsg, UserWarning)\n"
     ]
    },
    {
     "name": "stdout",
     "output_type": "stream",
     "text": [
      "Train set RMSE: 0.42\n",
      "Test set RMSE: 0.47\n",
      "Tested on combination ['is_lockdown', 'Max_Grav_accidents', 'hosp', 'incid_rea']\n"
     ]
    },
    {
     "name": "stderr",
     "output_type": "stream",
     "text": [
      "C:\\Users\\Thomas\\anaconda3\\envs\\bikes-count\\lib\\site-packages\\xgboost\\core.py:160: UserWarning: [02:58:35] WARNING: C:\\buildkite-agent\\builds\\buildkite-windows-cpu-autoscaling-group-i-0750514818a16474a-1\\xgboost\\xgboost-ci-windows\\src\\learner.cc:742: \n",
      "Parameters: { \"objectives\", \"verbose\" } are not used.\n",
      "\n",
      "  warnings.warn(smsg, UserWarning)\n"
     ]
    },
    {
     "name": "stdout",
     "output_type": "stream",
     "text": [
      "Train set RMSE: 0.41\n",
      "Test set RMSE: 0.48\n",
      "Tested on combination ['is_lockdown', 'Max_Grav_accidents', 'hosp', 'rad']\n"
     ]
    },
    {
     "name": "stderr",
     "output_type": "stream",
     "text": [
      "C:\\Users\\Thomas\\anaconda3\\envs\\bikes-count\\lib\\site-packages\\xgboost\\core.py:160: UserWarning: [02:58:42] WARNING: C:\\buildkite-agent\\builds\\buildkite-windows-cpu-autoscaling-group-i-0750514818a16474a-1\\xgboost\\xgboost-ci-windows\\src\\learner.cc:742: \n",
      "Parameters: { \"objectives\", \"verbose\" } are not used.\n",
      "\n",
      "  warnings.warn(smsg, UserWarning)\n"
     ]
    },
    {
     "name": "stdout",
     "output_type": "stream",
     "text": [
      "Train set RMSE: 0.42\n",
      "Test set RMSE: 0.46\n",
      "Tested on combination ['is_lockdown', 'Max_Grav_accidents', 'hosp', 'Count_accidents']\n"
     ]
    },
    {
     "name": "stderr",
     "output_type": "stream",
     "text": [
      "C:\\Users\\Thomas\\anaconda3\\envs\\bikes-count\\lib\\site-packages\\xgboost\\core.py:160: UserWarning: [02:58:49] WARNING: C:\\buildkite-agent\\builds\\buildkite-windows-cpu-autoscaling-group-i-0750514818a16474a-1\\xgboost\\xgboost-ci-windows\\src\\learner.cc:742: \n",
      "Parameters: { \"objectives\", \"verbose\" } are not used.\n",
      "\n",
      "  warnings.warn(smsg, UserWarning)\n"
     ]
    },
    {
     "name": "stdout",
     "output_type": "stream",
     "text": [
      "Train set RMSE: 0.42\n",
      "Test set RMSE: 0.51\n",
      "Tested on combination ['is_lockdown', 'Max_Grav_accidents', 'rea', 'incid_rea']\n"
     ]
    },
    {
     "name": "stderr",
     "output_type": "stream",
     "text": [
      "C:\\Users\\Thomas\\anaconda3\\envs\\bikes-count\\lib\\site-packages\\xgboost\\core.py:160: UserWarning: [02:58:55] WARNING: C:\\buildkite-agent\\builds\\buildkite-windows-cpu-autoscaling-group-i-0750514818a16474a-1\\xgboost\\xgboost-ci-windows\\src\\learner.cc:742: \n",
      "Parameters: { \"objectives\", \"verbose\" } are not used.\n",
      "\n",
      "  warnings.warn(smsg, UserWarning)\n"
     ]
    },
    {
     "name": "stdout",
     "output_type": "stream",
     "text": [
      "Train set RMSE: 0.42\n",
      "Test set RMSE: 0.52\n",
      "Tested on combination ['is_lockdown', 'Max_Grav_accidents', 'rea', 'rad']\n"
     ]
    },
    {
     "name": "stderr",
     "output_type": "stream",
     "text": [
      "C:\\Users\\Thomas\\anaconda3\\envs\\bikes-count\\lib\\site-packages\\xgboost\\core.py:160: UserWarning: [02:59:01] WARNING: C:\\buildkite-agent\\builds\\buildkite-windows-cpu-autoscaling-group-i-0750514818a16474a-1\\xgboost\\xgboost-ci-windows\\src\\learner.cc:742: \n",
      "Parameters: { \"objectives\", \"verbose\" } are not used.\n",
      "\n",
      "  warnings.warn(smsg, UserWarning)\n"
     ]
    },
    {
     "name": "stdout",
     "output_type": "stream",
     "text": [
      "Train set RMSE: 0.42\n",
      "Test set RMSE: 0.50\n",
      "Tested on combination ['is_lockdown', 'Max_Grav_accidents', 'rea', 'Count_accidents']\n"
     ]
    },
    {
     "name": "stderr",
     "output_type": "stream",
     "text": [
      "C:\\Users\\Thomas\\anaconda3\\envs\\bikes-count\\lib\\site-packages\\xgboost\\core.py:160: UserWarning: [02:59:08] WARNING: C:\\buildkite-agent\\builds\\buildkite-windows-cpu-autoscaling-group-i-0750514818a16474a-1\\xgboost\\xgboost-ci-windows\\src\\learner.cc:742: \n",
      "Parameters: { \"objectives\", \"verbose\" } are not used.\n",
      "\n",
      "  warnings.warn(smsg, UserWarning)\n"
     ]
    },
    {
     "name": "stdout",
     "output_type": "stream",
     "text": [
      "Train set RMSE: 0.41\n",
      "Test set RMSE: 0.51\n",
      "Tested on combination ['is_lockdown', 'Max_Grav_accidents', 'incid_rea', 'rad']\n"
     ]
    },
    {
     "name": "stderr",
     "output_type": "stream",
     "text": [
      "C:\\Users\\Thomas\\anaconda3\\envs\\bikes-count\\lib\\site-packages\\xgboost\\core.py:160: UserWarning: [02:59:14] WARNING: C:\\buildkite-agent\\builds\\buildkite-windows-cpu-autoscaling-group-i-0750514818a16474a-1\\xgboost\\xgboost-ci-windows\\src\\learner.cc:742: \n",
      "Parameters: { \"objectives\", \"verbose\" } are not used.\n",
      "\n",
      "  warnings.warn(smsg, UserWarning)\n"
     ]
    },
    {
     "name": "stdout",
     "output_type": "stream",
     "text": [
      "Train set RMSE: 0.43\n",
      "Test set RMSE: 0.48\n",
      "Tested on combination ['is_lockdown', 'Max_Grav_accidents', 'incid_rea', 'Count_accidents']\n"
     ]
    },
    {
     "name": "stderr",
     "output_type": "stream",
     "text": [
      "C:\\Users\\Thomas\\anaconda3\\envs\\bikes-count\\lib\\site-packages\\xgboost\\core.py:160: UserWarning: [02:59:20] WARNING: C:\\buildkite-agent\\builds\\buildkite-windows-cpu-autoscaling-group-i-0750514818a16474a-1\\xgboost\\xgboost-ci-windows\\src\\learner.cc:742: \n",
      "Parameters: { \"objectives\", \"verbose\" } are not used.\n",
      "\n",
      "  warnings.warn(smsg, UserWarning)\n"
     ]
    },
    {
     "name": "stdout",
     "output_type": "stream",
     "text": [
      "Train set RMSE: 0.42\n",
      "Test set RMSE: 0.50\n",
      "Tested on combination ['is_lockdown', 'Max_Grav_accidents', 'rad', 'Count_accidents']\n"
     ]
    },
    {
     "name": "stderr",
     "output_type": "stream",
     "text": [
      "C:\\Users\\Thomas\\anaconda3\\envs\\bikes-count\\lib\\site-packages\\xgboost\\core.py:160: UserWarning: [02:59:27] WARNING: C:\\buildkite-agent\\builds\\buildkite-windows-cpu-autoscaling-group-i-0750514818a16474a-1\\xgboost\\xgboost-ci-windows\\src\\learner.cc:742: \n",
      "Parameters: { \"objectives\", \"verbose\" } are not used.\n",
      "\n",
      "  warnings.warn(smsg, UserWarning)\n"
     ]
    },
    {
     "name": "stdout",
     "output_type": "stream",
     "text": [
      "Train set RMSE: 0.42\n",
      "Test set RMSE: 0.49\n",
      "Tested on combination ['is_lockdown', 'hosp', 'rea', 'incid_rea']\n"
     ]
    },
    {
     "name": "stderr",
     "output_type": "stream",
     "text": [
      "C:\\Users\\Thomas\\anaconda3\\envs\\bikes-count\\lib\\site-packages\\xgboost\\core.py:160: UserWarning: [02:59:33] WARNING: C:\\buildkite-agent\\builds\\buildkite-windows-cpu-autoscaling-group-i-0750514818a16474a-1\\xgboost\\xgboost-ci-windows\\src\\learner.cc:742: \n",
      "Parameters: { \"objectives\", \"verbose\" } are not used.\n",
      "\n",
      "  warnings.warn(smsg, UserWarning)\n"
     ]
    },
    {
     "name": "stdout",
     "output_type": "stream",
     "text": [
      "Train set RMSE: 0.41\n",
      "Test set RMSE: 0.51\n",
      "Tested on combination ['is_lockdown', 'hosp', 'rea', 'rad']\n"
     ]
    },
    {
     "name": "stderr",
     "output_type": "stream",
     "text": [
      "C:\\Users\\Thomas\\anaconda3\\envs\\bikes-count\\lib\\site-packages\\xgboost\\core.py:160: UserWarning: [02:59:39] WARNING: C:\\buildkite-agent\\builds\\buildkite-windows-cpu-autoscaling-group-i-0750514818a16474a-1\\xgboost\\xgboost-ci-windows\\src\\learner.cc:742: \n",
      "Parameters: { \"objectives\", \"verbose\" } are not used.\n",
      "\n",
      "  warnings.warn(smsg, UserWarning)\n"
     ]
    },
    {
     "name": "stdout",
     "output_type": "stream",
     "text": [
      "Train set RMSE: 0.42\n",
      "Test set RMSE: 0.46\n",
      "Tested on combination ['is_lockdown', 'hosp', 'rea', 'Count_accidents']\n"
     ]
    },
    {
     "name": "stderr",
     "output_type": "stream",
     "text": [
      "C:\\Users\\Thomas\\anaconda3\\envs\\bikes-count\\lib\\site-packages\\xgboost\\core.py:160: UserWarning: [02:59:46] WARNING: C:\\buildkite-agent\\builds\\buildkite-windows-cpu-autoscaling-group-i-0750514818a16474a-1\\xgboost\\xgboost-ci-windows\\src\\learner.cc:742: \n",
      "Parameters: { \"objectives\", \"verbose\" } are not used.\n",
      "\n",
      "  warnings.warn(smsg, UserWarning)\n"
     ]
    },
    {
     "name": "stdout",
     "output_type": "stream",
     "text": [
      "Train set RMSE: 0.41\n",
      "Test set RMSE: 0.48\n",
      "Tested on combination ['is_lockdown', 'hosp', 'incid_rea', 'rad']\n"
     ]
    },
    {
     "name": "stderr",
     "output_type": "stream",
     "text": [
      "C:\\Users\\Thomas\\anaconda3\\envs\\bikes-count\\lib\\site-packages\\xgboost\\core.py:160: UserWarning: [02:59:52] WARNING: C:\\buildkite-agent\\builds\\buildkite-windows-cpu-autoscaling-group-i-0750514818a16474a-1\\xgboost\\xgboost-ci-windows\\src\\learner.cc:742: \n",
      "Parameters: { \"objectives\", \"verbose\" } are not used.\n",
      "\n",
      "  warnings.warn(smsg, UserWarning)\n"
     ]
    },
    {
     "name": "stdout",
     "output_type": "stream",
     "text": [
      "Train set RMSE: 0.42\n",
      "Test set RMSE: 0.48\n",
      "Tested on combination ['is_lockdown', 'hosp', 'incid_rea', 'Count_accidents']\n"
     ]
    },
    {
     "name": "stderr",
     "output_type": "stream",
     "text": [
      "C:\\Users\\Thomas\\anaconda3\\envs\\bikes-count\\lib\\site-packages\\xgboost\\core.py:160: UserWarning: [02:59:58] WARNING: C:\\buildkite-agent\\builds\\buildkite-windows-cpu-autoscaling-group-i-0750514818a16474a-1\\xgboost\\xgboost-ci-windows\\src\\learner.cc:742: \n",
      "Parameters: { \"objectives\", \"verbose\" } are not used.\n",
      "\n",
      "  warnings.warn(smsg, UserWarning)\n"
     ]
    },
    {
     "name": "stdout",
     "output_type": "stream",
     "text": [
      "Train set RMSE: 0.42\n",
      "Test set RMSE: 0.47\n",
      "Tested on combination ['is_lockdown', 'hosp', 'rad', 'Count_accidents']\n"
     ]
    },
    {
     "name": "stderr",
     "output_type": "stream",
     "text": [
      "C:\\Users\\Thomas\\anaconda3\\envs\\bikes-count\\lib\\site-packages\\xgboost\\core.py:160: UserWarning: [03:00:05] WARNING: C:\\buildkite-agent\\builds\\buildkite-windows-cpu-autoscaling-group-i-0750514818a16474a-1\\xgboost\\xgboost-ci-windows\\src\\learner.cc:742: \n",
      "Parameters: { \"objectives\", \"verbose\" } are not used.\n",
      "\n",
      "  warnings.warn(smsg, UserWarning)\n"
     ]
    },
    {
     "name": "stdout",
     "output_type": "stream",
     "text": [
      "Train set RMSE: 0.41\n",
      "Test set RMSE: 0.58\n",
      "Tested on combination ['is_lockdown', 'rea', 'incid_rea', 'rad']\n"
     ]
    },
    {
     "name": "stderr",
     "output_type": "stream",
     "text": [
      "C:\\Users\\Thomas\\anaconda3\\envs\\bikes-count\\lib\\site-packages\\xgboost\\core.py:160: UserWarning: [03:00:11] WARNING: C:\\buildkite-agent\\builds\\buildkite-windows-cpu-autoscaling-group-i-0750514818a16474a-1\\xgboost\\xgboost-ci-windows\\src\\learner.cc:742: \n",
      "Parameters: { \"objectives\", \"verbose\" } are not used.\n",
      "\n",
      "  warnings.warn(smsg, UserWarning)\n"
     ]
    },
    {
     "name": "stdout",
     "output_type": "stream",
     "text": [
      "Train set RMSE: 0.42\n",
      "Test set RMSE: 0.49\n",
      "Tested on combination ['is_lockdown', 'rea', 'incid_rea', 'Count_accidents']\n"
     ]
    },
    {
     "name": "stderr",
     "output_type": "stream",
     "text": [
      "C:\\Users\\Thomas\\anaconda3\\envs\\bikes-count\\lib\\site-packages\\xgboost\\core.py:160: UserWarning: [03:00:18] WARNING: C:\\buildkite-agent\\builds\\buildkite-windows-cpu-autoscaling-group-i-0750514818a16474a-1\\xgboost\\xgboost-ci-windows\\src\\learner.cc:742: \n",
      "Parameters: { \"objectives\", \"verbose\" } are not used.\n",
      "\n",
      "  warnings.warn(smsg, UserWarning)\n"
     ]
    },
    {
     "name": "stdout",
     "output_type": "stream",
     "text": [
      "Train set RMSE: 0.41\n",
      "Test set RMSE: 0.54\n",
      "Tested on combination ['is_lockdown', 'rea', 'rad', 'Count_accidents']\n"
     ]
    },
    {
     "name": "stderr",
     "output_type": "stream",
     "text": [
      "C:\\Users\\Thomas\\anaconda3\\envs\\bikes-count\\lib\\site-packages\\xgboost\\core.py:160: UserWarning: [03:00:24] WARNING: C:\\buildkite-agent\\builds\\buildkite-windows-cpu-autoscaling-group-i-0750514818a16474a-1\\xgboost\\xgboost-ci-windows\\src\\learner.cc:742: \n",
      "Parameters: { \"objectives\", \"verbose\" } are not used.\n",
      "\n",
      "  warnings.warn(smsg, UserWarning)\n"
     ]
    },
    {
     "name": "stdout",
     "output_type": "stream",
     "text": [
      "Train set RMSE: 0.41\n",
      "Test set RMSE: 0.50\n",
      "Tested on combination ['is_lockdown', 'incid_rea', 'rad', 'Count_accidents']\n"
     ]
    },
    {
     "name": "stderr",
     "output_type": "stream",
     "text": [
      "C:\\Users\\Thomas\\anaconda3\\envs\\bikes-count\\lib\\site-packages\\xgboost\\core.py:160: UserWarning: [03:00:31] WARNING: C:\\buildkite-agent\\builds\\buildkite-windows-cpu-autoscaling-group-i-0750514818a16474a-1\\xgboost\\xgboost-ci-windows\\src\\learner.cc:742: \n",
      "Parameters: { \"objectives\", \"verbose\" } are not used.\n",
      "\n",
      "  warnings.warn(smsg, UserWarning)\n"
     ]
    },
    {
     "name": "stdout",
     "output_type": "stream",
     "text": [
      "Train set RMSE: 0.42\n",
      "Test set RMSE: 0.47\n",
      "Tested on combination ['is_curfew', 'Max_Grav_accidents', 'hosp', 'rea']\n"
     ]
    },
    {
     "name": "stderr",
     "output_type": "stream",
     "text": [
      "C:\\Users\\Thomas\\anaconda3\\envs\\bikes-count\\lib\\site-packages\\xgboost\\core.py:160: UserWarning: [03:00:37] WARNING: C:\\buildkite-agent\\builds\\buildkite-windows-cpu-autoscaling-group-i-0750514818a16474a-1\\xgboost\\xgboost-ci-windows\\src\\learner.cc:742: \n",
      "Parameters: { \"objectives\", \"verbose\" } are not used.\n",
      "\n",
      "  warnings.warn(smsg, UserWarning)\n"
     ]
    },
    {
     "name": "stdout",
     "output_type": "stream",
     "text": [
      "Train set RMSE: 0.42\n",
      "Test set RMSE: 0.48\n",
      "Tested on combination ['is_curfew', 'Max_Grav_accidents', 'hosp', 'incid_rea']\n"
     ]
    },
    {
     "name": "stderr",
     "output_type": "stream",
     "text": [
      "C:\\Users\\Thomas\\anaconda3\\envs\\bikes-count\\lib\\site-packages\\xgboost\\core.py:160: UserWarning: [03:00:43] WARNING: C:\\buildkite-agent\\builds\\buildkite-windows-cpu-autoscaling-group-i-0750514818a16474a-1\\xgboost\\xgboost-ci-windows\\src\\learner.cc:742: \n",
      "Parameters: { \"objectives\", \"verbose\" } are not used.\n",
      "\n",
      "  warnings.warn(smsg, UserWarning)\n"
     ]
    },
    {
     "name": "stdout",
     "output_type": "stream",
     "text": [
      "Train set RMSE: 0.42\n",
      "Test set RMSE: 0.47\n",
      "Tested on combination ['is_curfew', 'Max_Grav_accidents', 'hosp', 'rad']\n"
     ]
    },
    {
     "name": "stderr",
     "output_type": "stream",
     "text": [
      "C:\\Users\\Thomas\\anaconda3\\envs\\bikes-count\\lib\\site-packages\\xgboost\\core.py:160: UserWarning: [03:00:50] WARNING: C:\\buildkite-agent\\builds\\buildkite-windows-cpu-autoscaling-group-i-0750514818a16474a-1\\xgboost\\xgboost-ci-windows\\src\\learner.cc:742: \n",
      "Parameters: { \"objectives\", \"verbose\" } are not used.\n",
      "\n",
      "  warnings.warn(smsg, UserWarning)\n"
     ]
    },
    {
     "name": "stdout",
     "output_type": "stream",
     "text": [
      "Train set RMSE: 0.42\n",
      "Test set RMSE: 0.46\n",
      "Tested on combination ['is_curfew', 'Max_Grav_accidents', 'hosp', 'Count_accidents']\n"
     ]
    },
    {
     "name": "stderr",
     "output_type": "stream",
     "text": [
      "C:\\Users\\Thomas\\anaconda3\\envs\\bikes-count\\lib\\site-packages\\xgboost\\core.py:160: UserWarning: [03:00:56] WARNING: C:\\buildkite-agent\\builds\\buildkite-windows-cpu-autoscaling-group-i-0750514818a16474a-1\\xgboost\\xgboost-ci-windows\\src\\learner.cc:742: \n",
      "Parameters: { \"objectives\", \"verbose\" } are not used.\n",
      "\n",
      "  warnings.warn(smsg, UserWarning)\n"
     ]
    },
    {
     "name": "stdout",
     "output_type": "stream",
     "text": [
      "Train set RMSE: 0.42\n",
      "Test set RMSE: 0.50\n",
      "Tested on combination ['is_curfew', 'Max_Grav_accidents', 'rea', 'incid_rea']\n"
     ]
    },
    {
     "name": "stderr",
     "output_type": "stream",
     "text": [
      "C:\\Users\\Thomas\\anaconda3\\envs\\bikes-count\\lib\\site-packages\\xgboost\\core.py:160: UserWarning: [03:01:03] WARNING: C:\\buildkite-agent\\builds\\buildkite-windows-cpu-autoscaling-group-i-0750514818a16474a-1\\xgboost\\xgboost-ci-windows\\src\\learner.cc:742: \n",
      "Parameters: { \"objectives\", \"verbose\" } are not used.\n",
      "\n",
      "  warnings.warn(smsg, UserWarning)\n"
     ]
    },
    {
     "name": "stdout",
     "output_type": "stream",
     "text": [
      "Train set RMSE: 0.41\n",
      "Test set RMSE: 0.52\n",
      "Tested on combination ['is_curfew', 'Max_Grav_accidents', 'rea', 'rad']\n"
     ]
    },
    {
     "name": "stderr",
     "output_type": "stream",
     "text": [
      "C:\\Users\\Thomas\\anaconda3\\envs\\bikes-count\\lib\\site-packages\\xgboost\\core.py:160: UserWarning: [03:01:10] WARNING: C:\\buildkite-agent\\builds\\buildkite-windows-cpu-autoscaling-group-i-0750514818a16474a-1\\xgboost\\xgboost-ci-windows\\src\\learner.cc:742: \n",
      "Parameters: { \"objectives\", \"verbose\" } are not used.\n",
      "\n",
      "  warnings.warn(smsg, UserWarning)\n"
     ]
    },
    {
     "name": "stdout",
     "output_type": "stream",
     "text": [
      "Train set RMSE: 0.42\n",
      "Test set RMSE: 0.50\n",
      "Tested on combination ['is_curfew', 'Max_Grav_accidents', 'rea', 'Count_accidents']\n"
     ]
    },
    {
     "name": "stderr",
     "output_type": "stream",
     "text": [
      "C:\\Users\\Thomas\\anaconda3\\envs\\bikes-count\\lib\\site-packages\\xgboost\\core.py:160: UserWarning: [03:01:16] WARNING: C:\\buildkite-agent\\builds\\buildkite-windows-cpu-autoscaling-group-i-0750514818a16474a-1\\xgboost\\xgboost-ci-windows\\src\\learner.cc:742: \n",
      "Parameters: { \"objectives\", \"verbose\" } are not used.\n",
      "\n",
      "  warnings.warn(smsg, UserWarning)\n"
     ]
    },
    {
     "name": "stdout",
     "output_type": "stream",
     "text": [
      "Train set RMSE: 0.43\n",
      "Test set RMSE: 0.50\n",
      "Tested on combination ['is_curfew', 'Max_Grav_accidents', 'incid_rea', 'rad']\n"
     ]
    },
    {
     "name": "stderr",
     "output_type": "stream",
     "text": [
      "C:\\Users\\Thomas\\anaconda3\\envs\\bikes-count\\lib\\site-packages\\xgboost\\core.py:160: UserWarning: [03:01:22] WARNING: C:\\buildkite-agent\\builds\\buildkite-windows-cpu-autoscaling-group-i-0750514818a16474a-1\\xgboost\\xgboost-ci-windows\\src\\learner.cc:742: \n",
      "Parameters: { \"objectives\", \"verbose\" } are not used.\n",
      "\n",
      "  warnings.warn(smsg, UserWarning)\n"
     ]
    },
    {
     "name": "stdout",
     "output_type": "stream",
     "text": [
      "Train set RMSE: 0.43\n",
      "Test set RMSE: 0.48\n",
      "Tested on combination ['is_curfew', 'Max_Grav_accidents', 'incid_rea', 'Count_accidents']\n"
     ]
    },
    {
     "name": "stderr",
     "output_type": "stream",
     "text": [
      "C:\\Users\\Thomas\\anaconda3\\envs\\bikes-count\\lib\\site-packages\\xgboost\\core.py:160: UserWarning: [03:01:28] WARNING: C:\\buildkite-agent\\builds\\buildkite-windows-cpu-autoscaling-group-i-0750514818a16474a-1\\xgboost\\xgboost-ci-windows\\src\\learner.cc:742: \n",
      "Parameters: { \"objectives\", \"verbose\" } are not used.\n",
      "\n",
      "  warnings.warn(smsg, UserWarning)\n"
     ]
    },
    {
     "name": "stdout",
     "output_type": "stream",
     "text": [
      "Train set RMSE: 0.42\n",
      "Test set RMSE: 0.53\n",
      "Tested on combination ['is_curfew', 'Max_Grav_accidents', 'rad', 'Count_accidents']\n"
     ]
    },
    {
     "name": "stderr",
     "output_type": "stream",
     "text": [
      "C:\\Users\\Thomas\\anaconda3\\envs\\bikes-count\\lib\\site-packages\\xgboost\\core.py:160: UserWarning: [03:01:35] WARNING: C:\\buildkite-agent\\builds\\buildkite-windows-cpu-autoscaling-group-i-0750514818a16474a-1\\xgboost\\xgboost-ci-windows\\src\\learner.cc:742: \n",
      "Parameters: { \"objectives\", \"verbose\" } are not used.\n",
      "\n",
      "  warnings.warn(smsg, UserWarning)\n"
     ]
    },
    {
     "name": "stdout",
     "output_type": "stream",
     "text": [
      "Train set RMSE: 0.42\n",
      "Test set RMSE: 0.49\n",
      "Tested on combination ['is_curfew', 'hosp', 'rea', 'incid_rea']\n"
     ]
    },
    {
     "name": "stderr",
     "output_type": "stream",
     "text": [
      "C:\\Users\\Thomas\\anaconda3\\envs\\bikes-count\\lib\\site-packages\\xgboost\\core.py:160: UserWarning: [03:01:41] WARNING: C:\\buildkite-agent\\builds\\buildkite-windows-cpu-autoscaling-group-i-0750514818a16474a-1\\xgboost\\xgboost-ci-windows\\src\\learner.cc:742: \n",
      "Parameters: { \"objectives\", \"verbose\" } are not used.\n",
      "\n",
      "  warnings.warn(smsg, UserWarning)\n"
     ]
    },
    {
     "name": "stdout",
     "output_type": "stream",
     "text": [
      "Train set RMSE: 0.41\n",
      "Test set RMSE: 0.52\n",
      "Tested on combination ['is_curfew', 'hosp', 'rea', 'rad']\n"
     ]
    },
    {
     "name": "stderr",
     "output_type": "stream",
     "text": [
      "C:\\Users\\Thomas\\anaconda3\\envs\\bikes-count\\lib\\site-packages\\xgboost\\core.py:160: UserWarning: [03:01:48] WARNING: C:\\buildkite-agent\\builds\\buildkite-windows-cpu-autoscaling-group-i-0750514818a16474a-1\\xgboost\\xgboost-ci-windows\\src\\learner.cc:742: \n",
      "Parameters: { \"objectives\", \"verbose\" } are not used.\n",
      "\n",
      "  warnings.warn(smsg, UserWarning)\n"
     ]
    },
    {
     "name": "stdout",
     "output_type": "stream",
     "text": [
      "Train set RMSE: 0.42\n",
      "Test set RMSE: 0.47\n",
      "Tested on combination ['is_curfew', 'hosp', 'rea', 'Count_accidents']\n"
     ]
    },
    {
     "name": "stderr",
     "output_type": "stream",
     "text": [
      "C:\\Users\\Thomas\\anaconda3\\envs\\bikes-count\\lib\\site-packages\\xgboost\\core.py:160: UserWarning: [03:01:54] WARNING: C:\\buildkite-agent\\builds\\buildkite-windows-cpu-autoscaling-group-i-0750514818a16474a-1\\xgboost\\xgboost-ci-windows\\src\\learner.cc:742: \n",
      "Parameters: { \"objectives\", \"verbose\" } are not used.\n",
      "\n",
      "  warnings.warn(smsg, UserWarning)\n"
     ]
    },
    {
     "name": "stdout",
     "output_type": "stream",
     "text": [
      "Train set RMSE: 0.41\n",
      "Test set RMSE: 0.49\n",
      "Tested on combination ['is_curfew', 'hosp', 'incid_rea', 'rad']\n"
     ]
    },
    {
     "name": "stderr",
     "output_type": "stream",
     "text": [
      "C:\\Users\\Thomas\\anaconda3\\envs\\bikes-count\\lib\\site-packages\\xgboost\\core.py:160: UserWarning: [03:02:00] WARNING: C:\\buildkite-agent\\builds\\buildkite-windows-cpu-autoscaling-group-i-0750514818a16474a-1\\xgboost\\xgboost-ci-windows\\src\\learner.cc:742: \n",
      "Parameters: { \"objectives\", \"verbose\" } are not used.\n",
      "\n",
      "  warnings.warn(smsg, UserWarning)\n"
     ]
    },
    {
     "name": "stdout",
     "output_type": "stream",
     "text": [
      "Train set RMSE: 0.42\n",
      "Test set RMSE: 0.47\n",
      "Tested on combination ['is_curfew', 'hosp', 'incid_rea', 'Count_accidents']\n"
     ]
    },
    {
     "name": "stderr",
     "output_type": "stream",
     "text": [
      "C:\\Users\\Thomas\\anaconda3\\envs\\bikes-count\\lib\\site-packages\\xgboost\\core.py:160: UserWarning: [03:02:07] WARNING: C:\\buildkite-agent\\builds\\buildkite-windows-cpu-autoscaling-group-i-0750514818a16474a-1\\xgboost\\xgboost-ci-windows\\src\\learner.cc:742: \n",
      "Parameters: { \"objectives\", \"verbose\" } are not used.\n",
      "\n",
      "  warnings.warn(smsg, UserWarning)\n"
     ]
    },
    {
     "name": "stdout",
     "output_type": "stream",
     "text": [
      "Train set RMSE: 0.42\n",
      "Test set RMSE: 0.48\n",
      "Tested on combination ['is_curfew', 'hosp', 'rad', 'Count_accidents']\n"
     ]
    },
    {
     "name": "stderr",
     "output_type": "stream",
     "text": [
      "C:\\Users\\Thomas\\anaconda3\\envs\\bikes-count\\lib\\site-packages\\xgboost\\core.py:160: UserWarning: [03:02:13] WARNING: C:\\buildkite-agent\\builds\\buildkite-windows-cpu-autoscaling-group-i-0750514818a16474a-1\\xgboost\\xgboost-ci-windows\\src\\learner.cc:742: \n",
      "Parameters: { \"objectives\", \"verbose\" } are not used.\n",
      "\n",
      "  warnings.warn(smsg, UserWarning)\n"
     ]
    },
    {
     "name": "stdout",
     "output_type": "stream",
     "text": [
      "Train set RMSE: 0.41\n",
      "Test set RMSE: 0.56\n",
      "Tested on combination ['is_curfew', 'rea', 'incid_rea', 'rad']\n"
     ]
    },
    {
     "name": "stderr",
     "output_type": "stream",
     "text": [
      "C:\\Users\\Thomas\\anaconda3\\envs\\bikes-count\\lib\\site-packages\\xgboost\\core.py:160: UserWarning: [03:02:20] WARNING: C:\\buildkite-agent\\builds\\buildkite-windows-cpu-autoscaling-group-i-0750514818a16474a-1\\xgboost\\xgboost-ci-windows\\src\\learner.cc:742: \n",
      "Parameters: { \"objectives\", \"verbose\" } are not used.\n",
      "\n",
      "  warnings.warn(smsg, UserWarning)\n"
     ]
    },
    {
     "name": "stdout",
     "output_type": "stream",
     "text": [
      "Train set RMSE: 0.42\n",
      "Test set RMSE: 0.50\n",
      "Tested on combination ['is_curfew', 'rea', 'incid_rea', 'Count_accidents']\n"
     ]
    },
    {
     "name": "stderr",
     "output_type": "stream",
     "text": [
      "C:\\Users\\Thomas\\anaconda3\\envs\\bikes-count\\lib\\site-packages\\xgboost\\core.py:160: UserWarning: [03:02:26] WARNING: C:\\buildkite-agent\\builds\\buildkite-windows-cpu-autoscaling-group-i-0750514818a16474a-1\\xgboost\\xgboost-ci-windows\\src\\learner.cc:742: \n",
      "Parameters: { \"objectives\", \"verbose\" } are not used.\n",
      "\n",
      "  warnings.warn(smsg, UserWarning)\n"
     ]
    },
    {
     "name": "stdout",
     "output_type": "stream",
     "text": [
      "Train set RMSE: 0.42\n",
      "Test set RMSE: 0.53\n",
      "Tested on combination ['is_curfew', 'rea', 'rad', 'Count_accidents']\n"
     ]
    },
    {
     "name": "stderr",
     "output_type": "stream",
     "text": [
      "C:\\Users\\Thomas\\anaconda3\\envs\\bikes-count\\lib\\site-packages\\xgboost\\core.py:160: UserWarning: [03:02:33] WARNING: C:\\buildkite-agent\\builds\\buildkite-windows-cpu-autoscaling-group-i-0750514818a16474a-1\\xgboost\\xgboost-ci-windows\\src\\learner.cc:742: \n",
      "Parameters: { \"objectives\", \"verbose\" } are not used.\n",
      "\n",
      "  warnings.warn(smsg, UserWarning)\n"
     ]
    },
    {
     "name": "stdout",
     "output_type": "stream",
     "text": [
      "Train set RMSE: 0.42\n",
      "Test set RMSE: 0.51\n",
      "Tested on combination ['is_curfew', 'incid_rea', 'rad', 'Count_accidents']\n"
     ]
    },
    {
     "name": "stderr",
     "output_type": "stream",
     "text": [
      "C:\\Users\\Thomas\\anaconda3\\envs\\bikes-count\\lib\\site-packages\\xgboost\\core.py:160: UserWarning: [03:02:39] WARNING: C:\\buildkite-agent\\builds\\buildkite-windows-cpu-autoscaling-group-i-0750514818a16474a-1\\xgboost\\xgboost-ci-windows\\src\\learner.cc:742: \n",
      "Parameters: { \"objectives\", \"verbose\" } are not used.\n",
      "\n",
      "  warnings.warn(smsg, UserWarning)\n"
     ]
    },
    {
     "name": "stdout",
     "output_type": "stream",
     "text": [
      "Train set RMSE: 0.42\n",
      "Test set RMSE: 0.49\n",
      "Tested on combination ['Max_Grav_accidents', 'hosp', 'rea', 'incid_rea']\n"
     ]
    },
    {
     "name": "stderr",
     "output_type": "stream",
     "text": [
      "C:\\Users\\Thomas\\anaconda3\\envs\\bikes-count\\lib\\site-packages\\xgboost\\core.py:160: UserWarning: [03:02:46] WARNING: C:\\buildkite-agent\\builds\\buildkite-windows-cpu-autoscaling-group-i-0750514818a16474a-1\\xgboost\\xgboost-ci-windows\\src\\learner.cc:742: \n",
      "Parameters: { \"objectives\", \"verbose\" } are not used.\n",
      "\n",
      "  warnings.warn(smsg, UserWarning)\n"
     ]
    },
    {
     "name": "stdout",
     "output_type": "stream",
     "text": [
      "Train set RMSE: 0.41\n",
      "Test set RMSE: 0.49\n",
      "Tested on combination ['Max_Grav_accidents', 'hosp', 'rea', 'rad']\n"
     ]
    },
    {
     "name": "stderr",
     "output_type": "stream",
     "text": [
      "C:\\Users\\Thomas\\anaconda3\\envs\\bikes-count\\lib\\site-packages\\xgboost\\core.py:160: UserWarning: [03:02:52] WARNING: C:\\buildkite-agent\\builds\\buildkite-windows-cpu-autoscaling-group-i-0750514818a16474a-1\\xgboost\\xgboost-ci-windows\\src\\learner.cc:742: \n",
      "Parameters: { \"objectives\", \"verbose\" } are not used.\n",
      "\n",
      "  warnings.warn(smsg, UserWarning)\n"
     ]
    },
    {
     "name": "stdout",
     "output_type": "stream",
     "text": [
      "Train set RMSE: 0.42\n",
      "Test set RMSE: 0.48\n",
      "Tested on combination ['Max_Grav_accidents', 'hosp', 'rea', 'Count_accidents']\n"
     ]
    },
    {
     "name": "stderr",
     "output_type": "stream",
     "text": [
      "C:\\Users\\Thomas\\anaconda3\\envs\\bikes-count\\lib\\site-packages\\xgboost\\core.py:160: UserWarning: [03:02:59] WARNING: C:\\buildkite-agent\\builds\\buildkite-windows-cpu-autoscaling-group-i-0750514818a16474a-1\\xgboost\\xgboost-ci-windows\\src\\learner.cc:742: \n",
      "Parameters: { \"objectives\", \"verbose\" } are not used.\n",
      "\n",
      "  warnings.warn(smsg, UserWarning)\n"
     ]
    },
    {
     "name": "stdout",
     "output_type": "stream",
     "text": [
      "Train set RMSE: 0.42\n",
      "Test set RMSE: 0.47\n",
      "Tested on combination ['Max_Grav_accidents', 'hosp', 'incid_rea', 'rad']\n"
     ]
    },
    {
     "name": "stderr",
     "output_type": "stream",
     "text": [
      "C:\\Users\\Thomas\\anaconda3\\envs\\bikes-count\\lib\\site-packages\\xgboost\\core.py:160: UserWarning: [03:03:05] WARNING: C:\\buildkite-agent\\builds\\buildkite-windows-cpu-autoscaling-group-i-0750514818a16474a-1\\xgboost\\xgboost-ci-windows\\src\\learner.cc:742: \n",
      "Parameters: { \"objectives\", \"verbose\" } are not used.\n",
      "\n",
      "  warnings.warn(smsg, UserWarning)\n"
     ]
    },
    {
     "name": "stdout",
     "output_type": "stream",
     "text": [
      "Train set RMSE: 0.42\n",
      "Test set RMSE: 0.48\n",
      "Tested on combination ['Max_Grav_accidents', 'hosp', 'incid_rea', 'Count_accidents']\n"
     ]
    },
    {
     "name": "stderr",
     "output_type": "stream",
     "text": [
      "C:\\Users\\Thomas\\anaconda3\\envs\\bikes-count\\lib\\site-packages\\xgboost\\core.py:160: UserWarning: [03:03:12] WARNING: C:\\buildkite-agent\\builds\\buildkite-windows-cpu-autoscaling-group-i-0750514818a16474a-1\\xgboost\\xgboost-ci-windows\\src\\learner.cc:742: \n",
      "Parameters: { \"objectives\", \"verbose\" } are not used.\n",
      "\n",
      "  warnings.warn(smsg, UserWarning)\n"
     ]
    },
    {
     "name": "stdout",
     "output_type": "stream",
     "text": [
      "Train set RMSE: 0.41\n",
      "Test set RMSE: 0.48\n",
      "Tested on combination ['Max_Grav_accidents', 'hosp', 'rad', 'Count_accidents']\n"
     ]
    },
    {
     "name": "stderr",
     "output_type": "stream",
     "text": [
      "C:\\Users\\Thomas\\anaconda3\\envs\\bikes-count\\lib\\site-packages\\xgboost\\core.py:160: UserWarning: [03:03:18] WARNING: C:\\buildkite-agent\\builds\\buildkite-windows-cpu-autoscaling-group-i-0750514818a16474a-1\\xgboost\\xgboost-ci-windows\\src\\learner.cc:742: \n",
      "Parameters: { \"objectives\", \"verbose\" } are not used.\n",
      "\n",
      "  warnings.warn(smsg, UserWarning)\n"
     ]
    },
    {
     "name": "stdout",
     "output_type": "stream",
     "text": [
      "Train set RMSE: 0.41\n",
      "Test set RMSE: 0.56\n",
      "Tested on combination ['Max_Grav_accidents', 'rea', 'incid_rea', 'rad']\n"
     ]
    },
    {
     "name": "stderr",
     "output_type": "stream",
     "text": [
      "C:\\Users\\Thomas\\anaconda3\\envs\\bikes-count\\lib\\site-packages\\xgboost\\core.py:160: UserWarning: [03:03:25] WARNING: C:\\buildkite-agent\\builds\\buildkite-windows-cpu-autoscaling-group-i-0750514818a16474a-1\\xgboost\\xgboost-ci-windows\\src\\learner.cc:742: \n",
      "Parameters: { \"objectives\", \"verbose\" } are not used.\n",
      "\n",
      "  warnings.warn(smsg, UserWarning)\n"
     ]
    },
    {
     "name": "stdout",
     "output_type": "stream",
     "text": [
      "Train set RMSE: 0.42\n",
      "Test set RMSE: 0.50\n",
      "Tested on combination ['Max_Grav_accidents', 'rea', 'incid_rea', 'Count_accidents']\n"
     ]
    },
    {
     "name": "stderr",
     "output_type": "stream",
     "text": [
      "C:\\Users\\Thomas\\anaconda3\\envs\\bikes-count\\lib\\site-packages\\xgboost\\core.py:160: UserWarning: [03:03:31] WARNING: C:\\buildkite-agent\\builds\\buildkite-windows-cpu-autoscaling-group-i-0750514818a16474a-1\\xgboost\\xgboost-ci-windows\\src\\learner.cc:742: \n",
      "Parameters: { \"objectives\", \"verbose\" } are not used.\n",
      "\n",
      "  warnings.warn(smsg, UserWarning)\n"
     ]
    },
    {
     "name": "stdout",
     "output_type": "stream",
     "text": [
      "Train set RMSE: 0.41\n",
      "Test set RMSE: 0.52\n",
      "Tested on combination ['Max_Grav_accidents', 'rea', 'rad', 'Count_accidents']\n"
     ]
    },
    {
     "name": "stderr",
     "output_type": "stream",
     "text": [
      "C:\\Users\\Thomas\\anaconda3\\envs\\bikes-count\\lib\\site-packages\\xgboost\\core.py:160: UserWarning: [03:03:38] WARNING: C:\\buildkite-agent\\builds\\buildkite-windows-cpu-autoscaling-group-i-0750514818a16474a-1\\xgboost\\xgboost-ci-windows\\src\\learner.cc:742: \n",
      "Parameters: { \"objectives\", \"verbose\" } are not used.\n",
      "\n",
      "  warnings.warn(smsg, UserWarning)\n"
     ]
    },
    {
     "name": "stdout",
     "output_type": "stream",
     "text": [
      "Train set RMSE: 0.41\n",
      "Test set RMSE: 0.48\n",
      "Tested on combination ['Max_Grav_accidents', 'incid_rea', 'rad', 'Count_accidents']\n"
     ]
    },
    {
     "name": "stderr",
     "output_type": "stream",
     "text": [
      "C:\\Users\\Thomas\\anaconda3\\envs\\bikes-count\\lib\\site-packages\\xgboost\\core.py:160: UserWarning: [03:03:44] WARNING: C:\\buildkite-agent\\builds\\buildkite-windows-cpu-autoscaling-group-i-0750514818a16474a-1\\xgboost\\xgboost-ci-windows\\src\\learner.cc:742: \n",
      "Parameters: { \"objectives\", \"verbose\" } are not used.\n",
      "\n",
      "  warnings.warn(smsg, UserWarning)\n"
     ]
    },
    {
     "name": "stdout",
     "output_type": "stream",
     "text": [
      "Train set RMSE: 0.41\n",
      "Test set RMSE: 0.53\n",
      "Tested on combination ['hosp', 'rea', 'incid_rea', 'rad']\n"
     ]
    },
    {
     "name": "stderr",
     "output_type": "stream",
     "text": [
      "C:\\Users\\Thomas\\anaconda3\\envs\\bikes-count\\lib\\site-packages\\xgboost\\core.py:160: UserWarning: [03:03:51] WARNING: C:\\buildkite-agent\\builds\\buildkite-windows-cpu-autoscaling-group-i-0750514818a16474a-1\\xgboost\\xgboost-ci-windows\\src\\learner.cc:742: \n",
      "Parameters: { \"objectives\", \"verbose\" } are not used.\n",
      "\n",
      "  warnings.warn(smsg, UserWarning)\n"
     ]
    },
    {
     "name": "stdout",
     "output_type": "stream",
     "text": [
      "Train set RMSE: 0.42\n",
      "Test set RMSE: 0.50\n",
      "Tested on combination ['hosp', 'rea', 'incid_rea', 'Count_accidents']\n"
     ]
    },
    {
     "name": "stderr",
     "output_type": "stream",
     "text": [
      "C:\\Users\\Thomas\\anaconda3\\envs\\bikes-count\\lib\\site-packages\\xgboost\\core.py:160: UserWarning: [03:03:57] WARNING: C:\\buildkite-agent\\builds\\buildkite-windows-cpu-autoscaling-group-i-0750514818a16474a-1\\xgboost\\xgboost-ci-windows\\src\\learner.cc:742: \n",
      "Parameters: { \"objectives\", \"verbose\" } are not used.\n",
      "\n",
      "  warnings.warn(smsg, UserWarning)\n"
     ]
    },
    {
     "name": "stdout",
     "output_type": "stream",
     "text": [
      "Train set RMSE: 0.41\n",
      "Test set RMSE: 0.51\n",
      "Tested on combination ['hosp', 'rea', 'rad', 'Count_accidents']\n"
     ]
    },
    {
     "name": "stderr",
     "output_type": "stream",
     "text": [
      "C:\\Users\\Thomas\\anaconda3\\envs\\bikes-count\\lib\\site-packages\\xgboost\\core.py:160: UserWarning: [03:04:04] WARNING: C:\\buildkite-agent\\builds\\buildkite-windows-cpu-autoscaling-group-i-0750514818a16474a-1\\xgboost\\xgboost-ci-windows\\src\\learner.cc:742: \n",
      "Parameters: { \"objectives\", \"verbose\" } are not used.\n",
      "\n",
      "  warnings.warn(smsg, UserWarning)\n"
     ]
    },
    {
     "name": "stdout",
     "output_type": "stream",
     "text": [
      "Train set RMSE: 0.41\n",
      "Test set RMSE: 0.47\n",
      "Tested on combination ['hosp', 'incid_rea', 'rad', 'Count_accidents']\n"
     ]
    },
    {
     "name": "stderr",
     "output_type": "stream",
     "text": [
      "C:\\Users\\Thomas\\anaconda3\\envs\\bikes-count\\lib\\site-packages\\xgboost\\core.py:160: UserWarning: [03:04:10] WARNING: C:\\buildkite-agent\\builds\\buildkite-windows-cpu-autoscaling-group-i-0750514818a16474a-1\\xgboost\\xgboost-ci-windows\\src\\learner.cc:742: \n",
      "Parameters: { \"objectives\", \"verbose\" } are not used.\n",
      "\n",
      "  warnings.warn(smsg, UserWarning)\n"
     ]
    },
    {
     "name": "stdout",
     "output_type": "stream",
     "text": [
      "Train set RMSE: 0.41\n",
      "Test set RMSE: 0.58\n",
      "Tested on combination ['rea', 'incid_rea', 'rad', 'Count_accidents']\n"
     ]
    },
    {
     "name": "stderr",
     "output_type": "stream",
     "text": [
      "C:\\Users\\Thomas\\anaconda3\\envs\\bikes-count\\lib\\site-packages\\xgboost\\core.py:160: UserWarning: [03:04:16] WARNING: C:\\buildkite-agent\\builds\\buildkite-windows-cpu-autoscaling-group-i-0750514818a16474a-1\\xgboost\\xgboost-ci-windows\\src\\learner.cc:742: \n",
      "Parameters: { \"objectives\", \"verbose\" } are not used.\n",
      "\n",
      "  warnings.warn(smsg, UserWarning)\n"
     ]
    },
    {
     "name": "stdout",
     "output_type": "stream",
     "text": [
      "Train set RMSE: 0.43\n",
      "Test set RMSE: 0.49\n",
      "Tested on combination ['is_holiday', 'is_weekend', 'is_lockdown', 'is_curfew', 'Max_Grav_accidents']\n"
     ]
    },
    {
     "name": "stderr",
     "output_type": "stream",
     "text": [
      "C:\\Users\\Thomas\\anaconda3\\envs\\bikes-count\\lib\\site-packages\\xgboost\\core.py:160: UserWarning: [03:04:23] WARNING: C:\\buildkite-agent\\builds\\buildkite-windows-cpu-autoscaling-group-i-0750514818a16474a-1\\xgboost\\xgboost-ci-windows\\src\\learner.cc:742: \n",
      "Parameters: { \"objectives\", \"verbose\" } are not used.\n",
      "\n",
      "  warnings.warn(smsg, UserWarning)\n"
     ]
    },
    {
     "name": "stdout",
     "output_type": "stream",
     "text": [
      "Train set RMSE: 0.42\n",
      "Test set RMSE: 0.48\n",
      "Tested on combination ['is_holiday', 'is_weekend', 'is_lockdown', 'is_curfew', 'hosp']\n"
     ]
    },
    {
     "name": "stderr",
     "output_type": "stream",
     "text": [
      "C:\\Users\\Thomas\\anaconda3\\envs\\bikes-count\\lib\\site-packages\\xgboost\\core.py:160: UserWarning: [03:04:29] WARNING: C:\\buildkite-agent\\builds\\buildkite-windows-cpu-autoscaling-group-i-0750514818a16474a-1\\xgboost\\xgboost-ci-windows\\src\\learner.cc:742: \n",
      "Parameters: { \"objectives\", \"verbose\" } are not used.\n",
      "\n",
      "  warnings.warn(smsg, UserWarning)\n"
     ]
    },
    {
     "name": "stdout",
     "output_type": "stream",
     "text": [
      "Train set RMSE: 0.42\n",
      "Test set RMSE: 0.50\n",
      "Tested on combination ['is_holiday', 'is_weekend', 'is_lockdown', 'is_curfew', 'rea']\n"
     ]
    },
    {
     "name": "stderr",
     "output_type": "stream",
     "text": [
      "C:\\Users\\Thomas\\anaconda3\\envs\\bikes-count\\lib\\site-packages\\xgboost\\core.py:160: UserWarning: [03:04:35] WARNING: C:\\buildkite-agent\\builds\\buildkite-windows-cpu-autoscaling-group-i-0750514818a16474a-1\\xgboost\\xgboost-ci-windows\\src\\learner.cc:742: \n",
      "Parameters: { \"objectives\", \"verbose\" } are not used.\n",
      "\n",
      "  warnings.warn(smsg, UserWarning)\n"
     ]
    },
    {
     "name": "stdout",
     "output_type": "stream",
     "text": [
      "Train set RMSE: 0.43\n",
      "Test set RMSE: 0.48\n",
      "Tested on combination ['is_holiday', 'is_weekend', 'is_lockdown', 'is_curfew', 'incid_rea']\n"
     ]
    },
    {
     "name": "stderr",
     "output_type": "stream",
     "text": [
      "C:\\Users\\Thomas\\anaconda3\\envs\\bikes-count\\lib\\site-packages\\xgboost\\core.py:160: UserWarning: [03:04:42] WARNING: C:\\buildkite-agent\\builds\\buildkite-windows-cpu-autoscaling-group-i-0750514818a16474a-1\\xgboost\\xgboost-ci-windows\\src\\learner.cc:742: \n",
      "Parameters: { \"objectives\", \"verbose\" } are not used.\n",
      "\n",
      "  warnings.warn(smsg, UserWarning)\n"
     ]
    },
    {
     "name": "stdout",
     "output_type": "stream",
     "text": [
      "Train set RMSE: 0.42\n",
      "Test set RMSE: 0.52\n",
      "Tested on combination ['is_holiday', 'is_weekend', 'is_lockdown', 'is_curfew', 'rad']\n"
     ]
    },
    {
     "name": "stderr",
     "output_type": "stream",
     "text": [
      "C:\\Users\\Thomas\\anaconda3\\envs\\bikes-count\\lib\\site-packages\\xgboost\\core.py:160: UserWarning: [03:04:48] WARNING: C:\\buildkite-agent\\builds\\buildkite-windows-cpu-autoscaling-group-i-0750514818a16474a-1\\xgboost\\xgboost-ci-windows\\src\\learner.cc:742: \n",
      "Parameters: { \"objectives\", \"verbose\" } are not used.\n",
      "\n",
      "  warnings.warn(smsg, UserWarning)\n"
     ]
    },
    {
     "name": "stdout",
     "output_type": "stream",
     "text": [
      "Train set RMSE: 0.43\n",
      "Test set RMSE: 0.49\n",
      "Tested on combination ['is_holiday', 'is_weekend', 'is_lockdown', 'is_curfew', 'Count_accidents']\n"
     ]
    },
    {
     "name": "stderr",
     "output_type": "stream",
     "text": [
      "C:\\Users\\Thomas\\anaconda3\\envs\\bikes-count\\lib\\site-packages\\xgboost\\core.py:160: UserWarning: [03:04:55] WARNING: C:\\buildkite-agent\\builds\\buildkite-windows-cpu-autoscaling-group-i-0750514818a16474a-1\\xgboost\\xgboost-ci-windows\\src\\learner.cc:742: \n",
      "Parameters: { \"objectives\", \"verbose\" } are not used.\n",
      "\n",
      "  warnings.warn(smsg, UserWarning)\n"
     ]
    },
    {
     "name": "stdout",
     "output_type": "stream",
     "text": [
      "Train set RMSE: 0.41\n",
      "Test set RMSE: 0.45\n",
      "Tested on combination ['is_holiday', 'is_weekend', 'is_lockdown', 'Max_Grav_accidents', 'hosp']\n"
     ]
    },
    {
     "name": "stderr",
     "output_type": "stream",
     "text": [
      "C:\\Users\\Thomas\\anaconda3\\envs\\bikes-count\\lib\\site-packages\\xgboost\\core.py:160: UserWarning: [03:05:01] WARNING: C:\\buildkite-agent\\builds\\buildkite-windows-cpu-autoscaling-group-i-0750514818a16474a-1\\xgboost\\xgboost-ci-windows\\src\\learner.cc:742: \n",
      "Parameters: { \"objectives\", \"verbose\" } are not used.\n",
      "\n",
      "  warnings.warn(smsg, UserWarning)\n"
     ]
    },
    {
     "name": "stdout",
     "output_type": "stream",
     "text": [
      "Train set RMSE: 0.42\n",
      "Test set RMSE: 0.50\n",
      "Tested on combination ['is_holiday', 'is_weekend', 'is_lockdown', 'Max_Grav_accidents', 'rea']\n"
     ]
    },
    {
     "name": "stderr",
     "output_type": "stream",
     "text": [
      "C:\\Users\\Thomas\\anaconda3\\envs\\bikes-count\\lib\\site-packages\\xgboost\\core.py:160: UserWarning: [03:05:08] WARNING: C:\\buildkite-agent\\builds\\buildkite-windows-cpu-autoscaling-group-i-0750514818a16474a-1\\xgboost\\xgboost-ci-windows\\src\\learner.cc:742: \n",
      "Parameters: { \"objectives\", \"verbose\" } are not used.\n",
      "\n",
      "  warnings.warn(smsg, UserWarning)\n"
     ]
    },
    {
     "name": "stdout",
     "output_type": "stream",
     "text": [
      "Train set RMSE: 0.43\n",
      "Test set RMSE: 0.49\n",
      "Tested on combination ['is_holiday', 'is_weekend', 'is_lockdown', 'Max_Grav_accidents', 'incid_rea']\n"
     ]
    },
    {
     "name": "stderr",
     "output_type": "stream",
     "text": [
      "C:\\Users\\Thomas\\anaconda3\\envs\\bikes-count\\lib\\site-packages\\xgboost\\core.py:160: UserWarning: [03:05:15] WARNING: C:\\buildkite-agent\\builds\\buildkite-windows-cpu-autoscaling-group-i-0750514818a16474a-1\\xgboost\\xgboost-ci-windows\\src\\learner.cc:742: \n",
      "Parameters: { \"objectives\", \"verbose\" } are not used.\n",
      "\n",
      "  warnings.warn(smsg, UserWarning)\n"
     ]
    },
    {
     "name": "stdout",
     "output_type": "stream",
     "text": [
      "Train set RMSE: 0.41\n",
      "Test set RMSE: 0.52\n",
      "Tested on combination ['is_holiday', 'is_weekend', 'is_lockdown', 'Max_Grav_accidents', 'rad']\n"
     ]
    },
    {
     "name": "stderr",
     "output_type": "stream",
     "text": [
      "C:\\Users\\Thomas\\anaconda3\\envs\\bikes-count\\lib\\site-packages\\xgboost\\core.py:160: UserWarning: [03:05:21] WARNING: C:\\buildkite-agent\\builds\\buildkite-windows-cpu-autoscaling-group-i-0750514818a16474a-1\\xgboost\\xgboost-ci-windows\\src\\learner.cc:742: \n",
      "Parameters: { \"objectives\", \"verbose\" } are not used.\n",
      "\n",
      "  warnings.warn(smsg, UserWarning)\n"
     ]
    },
    {
     "name": "stdout",
     "output_type": "stream",
     "text": [
      "Train set RMSE: 0.43\n",
      "Test set RMSE: 0.49\n",
      "Tested on combination ['is_holiday', 'is_weekend', 'is_lockdown', 'Max_Grav_accidents', 'Count_accidents']\n"
     ]
    },
    {
     "name": "stderr",
     "output_type": "stream",
     "text": [
      "C:\\Users\\Thomas\\anaconda3\\envs\\bikes-count\\lib\\site-packages\\xgboost\\core.py:160: UserWarning: [03:05:28] WARNING: C:\\buildkite-agent\\builds\\buildkite-windows-cpu-autoscaling-group-i-0750514818a16474a-1\\xgboost\\xgboost-ci-windows\\src\\learner.cc:742: \n",
      "Parameters: { \"objectives\", \"verbose\" } are not used.\n",
      "\n",
      "  warnings.warn(smsg, UserWarning)\n"
     ]
    },
    {
     "name": "stdout",
     "output_type": "stream",
     "text": [
      "Train set RMSE: 0.42\n",
      "Test set RMSE: 0.49\n",
      "Tested on combination ['is_holiday', 'is_weekend', 'is_lockdown', 'hosp', 'rea']\n"
     ]
    },
    {
     "name": "stderr",
     "output_type": "stream",
     "text": [
      "C:\\Users\\Thomas\\anaconda3\\envs\\bikes-count\\lib\\site-packages\\xgboost\\core.py:160: UserWarning: [03:05:34] WARNING: C:\\buildkite-agent\\builds\\buildkite-windows-cpu-autoscaling-group-i-0750514818a16474a-1\\xgboost\\xgboost-ci-windows\\src\\learner.cc:742: \n",
      "Parameters: { \"objectives\", \"verbose\" } are not used.\n",
      "\n",
      "  warnings.warn(smsg, UserWarning)\n"
     ]
    },
    {
     "name": "stdout",
     "output_type": "stream",
     "text": [
      "Train set RMSE: 0.42\n",
      "Test set RMSE: 0.53\n",
      "Tested on combination ['is_holiday', 'is_weekend', 'is_lockdown', 'hosp', 'incid_rea']\n"
     ]
    },
    {
     "name": "stderr",
     "output_type": "stream",
     "text": [
      "C:\\Users\\Thomas\\anaconda3\\envs\\bikes-count\\lib\\site-packages\\xgboost\\core.py:160: UserWarning: [03:05:41] WARNING: C:\\buildkite-agent\\builds\\buildkite-windows-cpu-autoscaling-group-i-0750514818a16474a-1\\xgboost\\xgboost-ci-windows\\src\\learner.cc:742: \n",
      "Parameters: { \"objectives\", \"verbose\" } are not used.\n",
      "\n",
      "  warnings.warn(smsg, UserWarning)\n"
     ]
    },
    {
     "name": "stdout",
     "output_type": "stream",
     "text": [
      "Train set RMSE: 0.41\n",
      "Test set RMSE: 0.49\n",
      "Tested on combination ['is_holiday', 'is_weekend', 'is_lockdown', 'hosp', 'rad']\n"
     ]
    },
    {
     "name": "stderr",
     "output_type": "stream",
     "text": [
      "C:\\Users\\Thomas\\anaconda3\\envs\\bikes-count\\lib\\site-packages\\xgboost\\core.py:160: UserWarning: [03:05:47] WARNING: C:\\buildkite-agent\\builds\\buildkite-windows-cpu-autoscaling-group-i-0750514818a16474a-1\\xgboost\\xgboost-ci-windows\\src\\learner.cc:742: \n",
      "Parameters: { \"objectives\", \"verbose\" } are not used.\n",
      "\n",
      "  warnings.warn(smsg, UserWarning)\n"
     ]
    },
    {
     "name": "stdout",
     "output_type": "stream",
     "text": [
      "Train set RMSE: 0.42\n",
      "Test set RMSE: 0.46\n",
      "Tested on combination ['is_holiday', 'is_weekend', 'is_lockdown', 'hosp', 'Count_accidents']\n"
     ]
    },
    {
     "name": "stderr",
     "output_type": "stream",
     "text": [
      "C:\\Users\\Thomas\\anaconda3\\envs\\bikes-count\\lib\\site-packages\\xgboost\\core.py:160: UserWarning: [03:05:54] WARNING: C:\\buildkite-agent\\builds\\buildkite-windows-cpu-autoscaling-group-i-0750514818a16474a-1\\xgboost\\xgboost-ci-windows\\src\\learner.cc:742: \n",
      "Parameters: { \"objectives\", \"verbose\" } are not used.\n",
      "\n",
      "  warnings.warn(smsg, UserWarning)\n"
     ]
    },
    {
     "name": "stdout",
     "output_type": "stream",
     "text": [
      "Train set RMSE: 0.42\n",
      "Test set RMSE: 0.53\n",
      "Tested on combination ['is_holiday', 'is_weekend', 'is_lockdown', 'rea', 'incid_rea']\n"
     ]
    },
    {
     "name": "stderr",
     "output_type": "stream",
     "text": [
      "C:\\Users\\Thomas\\anaconda3\\envs\\bikes-count\\lib\\site-packages\\xgboost\\core.py:160: UserWarning: [03:06:00] WARNING: C:\\buildkite-agent\\builds\\buildkite-windows-cpu-autoscaling-group-i-0750514818a16474a-1\\xgboost\\xgboost-ci-windows\\src\\learner.cc:742: \n",
      "Parameters: { \"objectives\", \"verbose\" } are not used.\n",
      "\n",
      "  warnings.warn(smsg, UserWarning)\n"
     ]
    },
    {
     "name": "stdout",
     "output_type": "stream",
     "text": [
      "Train set RMSE: 0.42\n",
      "Test set RMSE: 0.54\n",
      "Tested on combination ['is_holiday', 'is_weekend', 'is_lockdown', 'rea', 'rad']\n"
     ]
    },
    {
     "name": "stderr",
     "output_type": "stream",
     "text": [
      "C:\\Users\\Thomas\\anaconda3\\envs\\bikes-count\\lib\\site-packages\\xgboost\\core.py:160: UserWarning: [03:06:06] WARNING: C:\\buildkite-agent\\builds\\buildkite-windows-cpu-autoscaling-group-i-0750514818a16474a-1\\xgboost\\xgboost-ci-windows\\src\\learner.cc:742: \n",
      "Parameters: { \"objectives\", \"verbose\" } are not used.\n",
      "\n",
      "  warnings.warn(smsg, UserWarning)\n"
     ]
    },
    {
     "name": "stdout",
     "output_type": "stream",
     "text": [
      "Train set RMSE: 0.42\n",
      "Test set RMSE: 0.50\n",
      "Tested on combination ['is_holiday', 'is_weekend', 'is_lockdown', 'rea', 'Count_accidents']\n"
     ]
    },
    {
     "name": "stderr",
     "output_type": "stream",
     "text": [
      "C:\\Users\\Thomas\\anaconda3\\envs\\bikes-count\\lib\\site-packages\\xgboost\\core.py:160: UserWarning: [03:06:13] WARNING: C:\\buildkite-agent\\builds\\buildkite-windows-cpu-autoscaling-group-i-0750514818a16474a-1\\xgboost\\xgboost-ci-windows\\src\\learner.cc:742: \n",
      "Parameters: { \"objectives\", \"verbose\" } are not used.\n",
      "\n",
      "  warnings.warn(smsg, UserWarning)\n"
     ]
    },
    {
     "name": "stdout",
     "output_type": "stream",
     "text": [
      "Train set RMSE: 0.41\n",
      "Test set RMSE: 0.53\n",
      "Tested on combination ['is_holiday', 'is_weekend', 'is_lockdown', 'incid_rea', 'rad']\n"
     ]
    },
    {
     "name": "stderr",
     "output_type": "stream",
     "text": [
      "C:\\Users\\Thomas\\anaconda3\\envs\\bikes-count\\lib\\site-packages\\xgboost\\core.py:160: UserWarning: [03:06:19] WARNING: C:\\buildkite-agent\\builds\\buildkite-windows-cpu-autoscaling-group-i-0750514818a16474a-1\\xgboost\\xgboost-ci-windows\\src\\learner.cc:742: \n",
      "Parameters: { \"objectives\", \"verbose\" } are not used.\n",
      "\n",
      "  warnings.warn(smsg, UserWarning)\n"
     ]
    },
    {
     "name": "stdout",
     "output_type": "stream",
     "text": [
      "Train set RMSE: 0.43\n",
      "Test set RMSE: 0.49\n",
      "Tested on combination ['is_holiday', 'is_weekend', 'is_lockdown', 'incid_rea', 'Count_accidents']\n"
     ]
    },
    {
     "name": "stderr",
     "output_type": "stream",
     "text": [
      "C:\\Users\\Thomas\\anaconda3\\envs\\bikes-count\\lib\\site-packages\\xgboost\\core.py:160: UserWarning: [03:06:26] WARNING: C:\\buildkite-agent\\builds\\buildkite-windows-cpu-autoscaling-group-i-0750514818a16474a-1\\xgboost\\xgboost-ci-windows\\src\\learner.cc:742: \n",
      "Parameters: { \"objectives\", \"verbose\" } are not used.\n",
      "\n",
      "  warnings.warn(smsg, UserWarning)\n"
     ]
    },
    {
     "name": "stdout",
     "output_type": "stream",
     "text": [
      "Train set RMSE: 0.42\n",
      "Test set RMSE: 0.51\n",
      "Tested on combination ['is_holiday', 'is_weekend', 'is_lockdown', 'rad', 'Count_accidents']\n"
     ]
    },
    {
     "name": "stderr",
     "output_type": "stream",
     "text": [
      "C:\\Users\\Thomas\\anaconda3\\envs\\bikes-count\\lib\\site-packages\\xgboost\\core.py:160: UserWarning: [03:06:32] WARNING: C:\\buildkite-agent\\builds\\buildkite-windows-cpu-autoscaling-group-i-0750514818a16474a-1\\xgboost\\xgboost-ci-windows\\src\\learner.cc:742: \n",
      "Parameters: { \"objectives\", \"verbose\" } are not used.\n",
      "\n",
      "  warnings.warn(smsg, UserWarning)\n"
     ]
    },
    {
     "name": "stdout",
     "output_type": "stream",
     "text": [
      "Train set RMSE: 0.42\n",
      "Test set RMSE: 0.47\n",
      "Tested on combination ['is_holiday', 'is_weekend', 'is_curfew', 'Max_Grav_accidents', 'hosp']\n"
     ]
    },
    {
     "name": "stderr",
     "output_type": "stream",
     "text": [
      "C:\\Users\\Thomas\\anaconda3\\envs\\bikes-count\\lib\\site-packages\\xgboost\\core.py:160: UserWarning: [03:06:38] WARNING: C:\\buildkite-agent\\builds\\buildkite-windows-cpu-autoscaling-group-i-0750514818a16474a-1\\xgboost\\xgboost-ci-windows\\src\\learner.cc:742: \n",
      "Parameters: { \"objectives\", \"verbose\" } are not used.\n",
      "\n",
      "  warnings.warn(smsg, UserWarning)\n"
     ]
    },
    {
     "name": "stdout",
     "output_type": "stream",
     "text": [
      "Train set RMSE: 0.42\n",
      "Test set RMSE: 0.50\n",
      "Tested on combination ['is_holiday', 'is_weekend', 'is_curfew', 'Max_Grav_accidents', 'rea']\n"
     ]
    },
    {
     "name": "stderr",
     "output_type": "stream",
     "text": [
      "C:\\Users\\Thomas\\anaconda3\\envs\\bikes-count\\lib\\site-packages\\xgboost\\core.py:160: UserWarning: [03:06:45] WARNING: C:\\buildkite-agent\\builds\\buildkite-windows-cpu-autoscaling-group-i-0750514818a16474a-1\\xgboost\\xgboost-ci-windows\\src\\learner.cc:742: \n",
      "Parameters: { \"objectives\", \"verbose\" } are not used.\n",
      "\n",
      "  warnings.warn(smsg, UserWarning)\n"
     ]
    },
    {
     "name": "stdout",
     "output_type": "stream",
     "text": [
      "Train set RMSE: 0.43\n",
      "Test set RMSE: 0.48\n",
      "Tested on combination ['is_holiday', 'is_weekend', 'is_curfew', 'Max_Grav_accidents', 'incid_rea']\n"
     ]
    },
    {
     "name": "stderr",
     "output_type": "stream",
     "text": [
      "C:\\Users\\Thomas\\anaconda3\\envs\\bikes-count\\lib\\site-packages\\xgboost\\core.py:160: UserWarning: [03:06:51] WARNING: C:\\buildkite-agent\\builds\\buildkite-windows-cpu-autoscaling-group-i-0750514818a16474a-1\\xgboost\\xgboost-ci-windows\\src\\learner.cc:742: \n",
      "Parameters: { \"objectives\", \"verbose\" } are not used.\n",
      "\n",
      "  warnings.warn(smsg, UserWarning)\n"
     ]
    },
    {
     "name": "stdout",
     "output_type": "stream",
     "text": [
      "Train set RMSE: 0.41\n",
      "Test set RMSE: 0.53\n",
      "Tested on combination ['is_holiday', 'is_weekend', 'is_curfew', 'Max_Grav_accidents', 'rad']\n"
     ]
    },
    {
     "name": "stderr",
     "output_type": "stream",
     "text": [
      "C:\\Users\\Thomas\\anaconda3\\envs\\bikes-count\\lib\\site-packages\\xgboost\\core.py:160: UserWarning: [03:06:58] WARNING: C:\\buildkite-agent\\builds\\buildkite-windows-cpu-autoscaling-group-i-0750514818a16474a-1\\xgboost\\xgboost-ci-windows\\src\\learner.cc:742: \n",
      "Parameters: { \"objectives\", \"verbose\" } are not used.\n",
      "\n",
      "  warnings.warn(smsg, UserWarning)\n"
     ]
    },
    {
     "name": "stdout",
     "output_type": "stream",
     "text": [
      "Train set RMSE: 0.43\n",
      "Test set RMSE: 0.49\n",
      "Tested on combination ['is_holiday', 'is_weekend', 'is_curfew', 'Max_Grav_accidents', 'Count_accidents']\n"
     ]
    },
    {
     "name": "stderr",
     "output_type": "stream",
     "text": [
      "C:\\Users\\Thomas\\anaconda3\\envs\\bikes-count\\lib\\site-packages\\xgboost\\core.py:160: UserWarning: [03:07:04] WARNING: C:\\buildkite-agent\\builds\\buildkite-windows-cpu-autoscaling-group-i-0750514818a16474a-1\\xgboost\\xgboost-ci-windows\\src\\learner.cc:742: \n",
      "Parameters: { \"objectives\", \"verbose\" } are not used.\n",
      "\n",
      "  warnings.warn(smsg, UserWarning)\n"
     ]
    },
    {
     "name": "stdout",
     "output_type": "stream",
     "text": [
      "Train set RMSE: 0.42\n",
      "Test set RMSE: 0.48\n",
      "Tested on combination ['is_holiday', 'is_weekend', 'is_curfew', 'hosp', 'rea']\n"
     ]
    },
    {
     "name": "stderr",
     "output_type": "stream",
     "text": [
      "C:\\Users\\Thomas\\anaconda3\\envs\\bikes-count\\lib\\site-packages\\xgboost\\core.py:160: UserWarning: [03:07:11] WARNING: C:\\buildkite-agent\\builds\\buildkite-windows-cpu-autoscaling-group-i-0750514818a16474a-1\\xgboost\\xgboost-ci-windows\\src\\learner.cc:742: \n",
      "Parameters: { \"objectives\", \"verbose\" } are not used.\n",
      "\n",
      "  warnings.warn(smsg, UserWarning)\n"
     ]
    },
    {
     "name": "stdout",
     "output_type": "stream",
     "text": [
      "Train set RMSE: 0.42\n",
      "Test set RMSE: 0.49\n",
      "Tested on combination ['is_holiday', 'is_weekend', 'is_curfew', 'hosp', 'incid_rea']\n"
     ]
    },
    {
     "name": "stderr",
     "output_type": "stream",
     "text": [
      "C:\\Users\\Thomas\\anaconda3\\envs\\bikes-count\\lib\\site-packages\\xgboost\\core.py:160: UserWarning: [03:07:17] WARNING: C:\\buildkite-agent\\builds\\buildkite-windows-cpu-autoscaling-group-i-0750514818a16474a-1\\xgboost\\xgboost-ci-windows\\src\\learner.cc:742: \n",
      "Parameters: { \"objectives\", \"verbose\" } are not used.\n",
      "\n",
      "  warnings.warn(smsg, UserWarning)\n"
     ]
    },
    {
     "name": "stdout",
     "output_type": "stream",
     "text": [
      "Train set RMSE: 0.42\n",
      "Test set RMSE: 0.50\n",
      "Tested on combination ['is_holiday', 'is_weekend', 'is_curfew', 'hosp', 'rad']\n"
     ]
    },
    {
     "name": "stderr",
     "output_type": "stream",
     "text": [
      "C:\\Users\\Thomas\\anaconda3\\envs\\bikes-count\\lib\\site-packages\\xgboost\\core.py:160: UserWarning: [03:07:24] WARNING: C:\\buildkite-agent\\builds\\buildkite-windows-cpu-autoscaling-group-i-0750514818a16474a-1\\xgboost\\xgboost-ci-windows\\src\\learner.cc:742: \n",
      "Parameters: { \"objectives\", \"verbose\" } are not used.\n",
      "\n",
      "  warnings.warn(smsg, UserWarning)\n"
     ]
    },
    {
     "name": "stdout",
     "output_type": "stream",
     "text": [
      "Train set RMSE: 0.42\n",
      "Test set RMSE: 0.47\n",
      "Tested on combination ['is_holiday', 'is_weekend', 'is_curfew', 'hosp', 'Count_accidents']\n"
     ]
    },
    {
     "name": "stderr",
     "output_type": "stream",
     "text": [
      "C:\\Users\\Thomas\\anaconda3\\envs\\bikes-count\\lib\\site-packages\\xgboost\\core.py:160: UserWarning: [03:07:30] WARNING: C:\\buildkite-agent\\builds\\buildkite-windows-cpu-autoscaling-group-i-0750514818a16474a-1\\xgboost\\xgboost-ci-windows\\src\\learner.cc:742: \n",
      "Parameters: { \"objectives\", \"verbose\" } are not used.\n",
      "\n",
      "  warnings.warn(smsg, UserWarning)\n"
     ]
    },
    {
     "name": "stdout",
     "output_type": "stream",
     "text": [
      "Train set RMSE: 0.42\n",
      "Test set RMSE: 0.51\n",
      "Tested on combination ['is_holiday', 'is_weekend', 'is_curfew', 'rea', 'incid_rea']\n"
     ]
    },
    {
     "name": "stderr",
     "output_type": "stream",
     "text": [
      "C:\\Users\\Thomas\\anaconda3\\envs\\bikes-count\\lib\\site-packages\\xgboost\\core.py:160: UserWarning: [03:07:36] WARNING: C:\\buildkite-agent\\builds\\buildkite-windows-cpu-autoscaling-group-i-0750514818a16474a-1\\xgboost\\xgboost-ci-windows\\src\\learner.cc:742: \n",
      "Parameters: { \"objectives\", \"verbose\" } are not used.\n",
      "\n",
      "  warnings.warn(smsg, UserWarning)\n"
     ]
    },
    {
     "name": "stdout",
     "output_type": "stream",
     "text": [
      "Train set RMSE: 0.41\n",
      "Test set RMSE: 0.53\n",
      "Tested on combination ['is_holiday', 'is_weekend', 'is_curfew', 'rea', 'rad']\n"
     ]
    },
    {
     "name": "stderr",
     "output_type": "stream",
     "text": [
      "C:\\Users\\Thomas\\anaconda3\\envs\\bikes-count\\lib\\site-packages\\xgboost\\core.py:160: UserWarning: [03:07:43] WARNING: C:\\buildkite-agent\\builds\\buildkite-windows-cpu-autoscaling-group-i-0750514818a16474a-1\\xgboost\\xgboost-ci-windows\\src\\learner.cc:742: \n",
      "Parameters: { \"objectives\", \"verbose\" } are not used.\n",
      "\n",
      "  warnings.warn(smsg, UserWarning)\n"
     ]
    },
    {
     "name": "stdout",
     "output_type": "stream",
     "text": [
      "Train set RMSE: 0.42\n",
      "Test set RMSE: 0.50\n",
      "Tested on combination ['is_holiday', 'is_weekend', 'is_curfew', 'rea', 'Count_accidents']\n"
     ]
    },
    {
     "name": "stderr",
     "output_type": "stream",
     "text": [
      "C:\\Users\\Thomas\\anaconda3\\envs\\bikes-count\\lib\\site-packages\\xgboost\\core.py:160: UserWarning: [03:07:49] WARNING: C:\\buildkite-agent\\builds\\buildkite-windows-cpu-autoscaling-group-i-0750514818a16474a-1\\xgboost\\xgboost-ci-windows\\src\\learner.cc:742: \n",
      "Parameters: { \"objectives\", \"verbose\" } are not used.\n",
      "\n",
      "  warnings.warn(smsg, UserWarning)\n"
     ]
    },
    {
     "name": "stdout",
     "output_type": "stream",
     "text": [
      "Train set RMSE: 0.42\n",
      "Test set RMSE: 0.49\n",
      "Tested on combination ['is_holiday', 'is_weekend', 'is_curfew', 'incid_rea', 'rad']\n"
     ]
    },
    {
     "name": "stderr",
     "output_type": "stream",
     "text": [
      "C:\\Users\\Thomas\\anaconda3\\envs\\bikes-count\\lib\\site-packages\\xgboost\\core.py:160: UserWarning: [03:07:56] WARNING: C:\\buildkite-agent\\builds\\buildkite-windows-cpu-autoscaling-group-i-0750514818a16474a-1\\xgboost\\xgboost-ci-windows\\src\\learner.cc:742: \n",
      "Parameters: { \"objectives\", \"verbose\" } are not used.\n",
      "\n",
      "  warnings.warn(smsg, UserWarning)\n"
     ]
    },
    {
     "name": "stdout",
     "output_type": "stream",
     "text": [
      "Train set RMSE: 0.43\n",
      "Test set RMSE: 0.49\n",
      "Tested on combination ['is_holiday', 'is_weekend', 'is_curfew', 'incid_rea', 'Count_accidents']\n"
     ]
    },
    {
     "name": "stderr",
     "output_type": "stream",
     "text": [
      "C:\\Users\\Thomas\\anaconda3\\envs\\bikes-count\\lib\\site-packages\\xgboost\\core.py:160: UserWarning: [03:08:02] WARNING: C:\\buildkite-agent\\builds\\buildkite-windows-cpu-autoscaling-group-i-0750514818a16474a-1\\xgboost\\xgboost-ci-windows\\src\\learner.cc:742: \n",
      "Parameters: { \"objectives\", \"verbose\" } are not used.\n",
      "\n",
      "  warnings.warn(smsg, UserWarning)\n"
     ]
    },
    {
     "name": "stdout",
     "output_type": "stream",
     "text": [
      "Train set RMSE: 0.42\n",
      "Test set RMSE: 0.52\n",
      "Tested on combination ['is_holiday', 'is_weekend', 'is_curfew', 'rad', 'Count_accidents']\n"
     ]
    },
    {
     "name": "stderr",
     "output_type": "stream",
     "text": [
      "C:\\Users\\Thomas\\anaconda3\\envs\\bikes-count\\lib\\site-packages\\xgboost\\core.py:160: UserWarning: [03:08:09] WARNING: C:\\buildkite-agent\\builds\\buildkite-windows-cpu-autoscaling-group-i-0750514818a16474a-1\\xgboost\\xgboost-ci-windows\\src\\learner.cc:742: \n",
      "Parameters: { \"objectives\", \"verbose\" } are not used.\n",
      "\n",
      "  warnings.warn(smsg, UserWarning)\n"
     ]
    },
    {
     "name": "stdout",
     "output_type": "stream",
     "text": [
      "Train set RMSE: 0.42\n",
      "Test set RMSE: 0.50\n",
      "Tested on combination ['is_holiday', 'is_weekend', 'Max_Grav_accidents', 'hosp', 'rea']\n"
     ]
    },
    {
     "name": "stderr",
     "output_type": "stream",
     "text": [
      "C:\\Users\\Thomas\\anaconda3\\envs\\bikes-count\\lib\\site-packages\\xgboost\\core.py:160: UserWarning: [03:08:15] WARNING: C:\\buildkite-agent\\builds\\buildkite-windows-cpu-autoscaling-group-i-0750514818a16474a-1\\xgboost\\xgboost-ci-windows\\src\\learner.cc:742: \n",
      "Parameters: { \"objectives\", \"verbose\" } are not used.\n",
      "\n",
      "  warnings.warn(smsg, UserWarning)\n"
     ]
    },
    {
     "name": "stdout",
     "output_type": "stream",
     "text": [
      "Train set RMSE: 0.42\n",
      "Test set RMSE: 0.50\n",
      "Tested on combination ['is_holiday', 'is_weekend', 'Max_Grav_accidents', 'hosp', 'incid_rea']\n"
     ]
    },
    {
     "name": "stderr",
     "output_type": "stream",
     "text": [
      "C:\\Users\\Thomas\\anaconda3\\envs\\bikes-count\\lib\\site-packages\\xgboost\\core.py:160: UserWarning: [03:08:22] WARNING: C:\\buildkite-agent\\builds\\buildkite-windows-cpu-autoscaling-group-i-0750514818a16474a-1\\xgboost\\xgboost-ci-windows\\src\\learner.cc:742: \n",
      "Parameters: { \"objectives\", \"verbose\" } are not used.\n",
      "\n",
      "  warnings.warn(smsg, UserWarning)\n"
     ]
    },
    {
     "name": "stdout",
     "output_type": "stream",
     "text": [
      "Train set RMSE: 0.41\n",
      "Test set RMSE: 0.50\n",
      "Tested on combination ['is_holiday', 'is_weekend', 'Max_Grav_accidents', 'hosp', 'rad']\n"
     ]
    },
    {
     "name": "stderr",
     "output_type": "stream",
     "text": [
      "C:\\Users\\Thomas\\anaconda3\\envs\\bikes-count\\lib\\site-packages\\xgboost\\core.py:160: UserWarning: [03:08:28] WARNING: C:\\buildkite-agent\\builds\\buildkite-windows-cpu-autoscaling-group-i-0750514818a16474a-1\\xgboost\\xgboost-ci-windows\\src\\learner.cc:742: \n",
      "Parameters: { \"objectives\", \"verbose\" } are not used.\n",
      "\n",
      "  warnings.warn(smsg, UserWarning)\n"
     ]
    },
    {
     "name": "stdout",
     "output_type": "stream",
     "text": [
      "Train set RMSE: 0.41\n",
      "Test set RMSE: 0.46\n",
      "Tested on combination ['is_holiday', 'is_weekend', 'Max_Grav_accidents', 'hosp', 'Count_accidents']\n"
     ]
    },
    {
     "name": "stderr",
     "output_type": "stream",
     "text": [
      "C:\\Users\\Thomas\\anaconda3\\envs\\bikes-count\\lib\\site-packages\\xgboost\\core.py:160: UserWarning: [03:08:35] WARNING: C:\\buildkite-agent\\builds\\buildkite-windows-cpu-autoscaling-group-i-0750514818a16474a-1\\xgboost\\xgboost-ci-windows\\src\\learner.cc:742: \n",
      "Parameters: { \"objectives\", \"verbose\" } are not used.\n",
      "\n",
      "  warnings.warn(smsg, UserWarning)\n"
     ]
    },
    {
     "name": "stdout",
     "output_type": "stream",
     "text": [
      "Train set RMSE: 0.42\n",
      "Test set RMSE: 0.52\n",
      "Tested on combination ['is_holiday', 'is_weekend', 'Max_Grav_accidents', 'rea', 'incid_rea']\n"
     ]
    },
    {
     "name": "stderr",
     "output_type": "stream",
     "text": [
      "C:\\Users\\Thomas\\anaconda3\\envs\\bikes-count\\lib\\site-packages\\xgboost\\core.py:160: UserWarning: [03:08:41] WARNING: C:\\buildkite-agent\\builds\\buildkite-windows-cpu-autoscaling-group-i-0750514818a16474a-1\\xgboost\\xgboost-ci-windows\\src\\learner.cc:742: \n",
      "Parameters: { \"objectives\", \"verbose\" } are not used.\n",
      "\n",
      "  warnings.warn(smsg, UserWarning)\n"
     ]
    },
    {
     "name": "stdout",
     "output_type": "stream",
     "text": [
      "Train set RMSE: 0.41\n",
      "Test set RMSE: 0.53\n",
      "Tested on combination ['is_holiday', 'is_weekend', 'Max_Grav_accidents', 'rea', 'rad']\n"
     ]
    },
    {
     "name": "stderr",
     "output_type": "stream",
     "text": [
      "C:\\Users\\Thomas\\anaconda3\\envs\\bikes-count\\lib\\site-packages\\xgboost\\core.py:160: UserWarning: [03:08:47] WARNING: C:\\buildkite-agent\\builds\\buildkite-windows-cpu-autoscaling-group-i-0750514818a16474a-1\\xgboost\\xgboost-ci-windows\\src\\learner.cc:742: \n",
      "Parameters: { \"objectives\", \"verbose\" } are not used.\n",
      "\n",
      "  warnings.warn(smsg, UserWarning)\n"
     ]
    },
    {
     "name": "stdout",
     "output_type": "stream",
     "text": [
      "Train set RMSE: 0.42\n",
      "Test set RMSE: 0.49\n",
      "Tested on combination ['is_holiday', 'is_weekend', 'Max_Grav_accidents', 'rea', 'Count_accidents']\n"
     ]
    },
    {
     "name": "stderr",
     "output_type": "stream",
     "text": [
      "C:\\Users\\Thomas\\anaconda3\\envs\\bikes-count\\lib\\site-packages\\xgboost\\core.py:160: UserWarning: [03:08:54] WARNING: C:\\buildkite-agent\\builds\\buildkite-windows-cpu-autoscaling-group-i-0750514818a16474a-1\\xgboost\\xgboost-ci-windows\\src\\learner.cc:742: \n",
      "Parameters: { \"objectives\", \"verbose\" } are not used.\n",
      "\n",
      "  warnings.warn(smsg, UserWarning)\n"
     ]
    },
    {
     "name": "stdout",
     "output_type": "stream",
     "text": [
      "Train set RMSE: 0.41\n",
      "Test set RMSE: 0.50\n",
      "Tested on combination ['is_holiday', 'is_weekend', 'Max_Grav_accidents', 'incid_rea', 'rad']\n"
     ]
    },
    {
     "name": "stderr",
     "output_type": "stream",
     "text": [
      "C:\\Users\\Thomas\\anaconda3\\envs\\bikes-count\\lib\\site-packages\\xgboost\\core.py:160: UserWarning: [03:09:00] WARNING: C:\\buildkite-agent\\builds\\buildkite-windows-cpu-autoscaling-group-i-0750514818a16474a-1\\xgboost\\xgboost-ci-windows\\src\\learner.cc:742: \n",
      "Parameters: { \"objectives\", \"verbose\" } are not used.\n",
      "\n",
      "  warnings.warn(smsg, UserWarning)\n"
     ]
    },
    {
     "name": "stdout",
     "output_type": "stream",
     "text": [
      "Train set RMSE: 0.43\n",
      "Test set RMSE: 0.49\n",
      "Tested on combination ['is_holiday', 'is_weekend', 'Max_Grav_accidents', 'incid_rea', 'Count_accidents']\n"
     ]
    },
    {
     "name": "stderr",
     "output_type": "stream",
     "text": [
      "C:\\Users\\Thomas\\anaconda3\\envs\\bikes-count\\lib\\site-packages\\xgboost\\core.py:160: UserWarning: [03:09:07] WARNING: C:\\buildkite-agent\\builds\\buildkite-windows-cpu-autoscaling-group-i-0750514818a16474a-1\\xgboost\\xgboost-ci-windows\\src\\learner.cc:742: \n",
      "Parameters: { \"objectives\", \"verbose\" } are not used.\n",
      "\n",
      "  warnings.warn(smsg, UserWarning)\n"
     ]
    },
    {
     "name": "stdout",
     "output_type": "stream",
     "text": [
      "Train set RMSE: 0.41\n",
      "Test set RMSE: 0.51\n",
      "Tested on combination ['is_holiday', 'is_weekend', 'Max_Grav_accidents', 'rad', 'Count_accidents']\n"
     ]
    },
    {
     "name": "stderr",
     "output_type": "stream",
     "text": [
      "C:\\Users\\Thomas\\anaconda3\\envs\\bikes-count\\lib\\site-packages\\xgboost\\core.py:160: UserWarning: [03:09:13] WARNING: C:\\buildkite-agent\\builds\\buildkite-windows-cpu-autoscaling-group-i-0750514818a16474a-1\\xgboost\\xgboost-ci-windows\\src\\learner.cc:742: \n",
      "Parameters: { \"objectives\", \"verbose\" } are not used.\n",
      "\n",
      "  warnings.warn(smsg, UserWarning)\n"
     ]
    },
    {
     "name": "stdout",
     "output_type": "stream",
     "text": [
      "Train set RMSE: 0.42\n",
      "Test set RMSE: 0.48\n",
      "Tested on combination ['is_holiday', 'is_weekend', 'hosp', 'rea', 'incid_rea']\n"
     ]
    },
    {
     "name": "stderr",
     "output_type": "stream",
     "text": [
      "C:\\Users\\Thomas\\anaconda3\\envs\\bikes-count\\lib\\site-packages\\xgboost\\core.py:160: UserWarning: [03:09:20] WARNING: C:\\buildkite-agent\\builds\\buildkite-windows-cpu-autoscaling-group-i-0750514818a16474a-1\\xgboost\\xgboost-ci-windows\\src\\learner.cc:742: \n",
      "Parameters: { \"objectives\", \"verbose\" } are not used.\n",
      "\n",
      "  warnings.warn(smsg, UserWarning)\n"
     ]
    },
    {
     "name": "stdout",
     "output_type": "stream",
     "text": [
      "Train set RMSE: 0.41\n",
      "Test set RMSE: 0.48\n",
      "Tested on combination ['is_holiday', 'is_weekend', 'hosp', 'rea', 'rad']\n"
     ]
    },
    {
     "name": "stderr",
     "output_type": "stream",
     "text": [
      "C:\\Users\\Thomas\\anaconda3\\envs\\bikes-count\\lib\\site-packages\\xgboost\\core.py:160: UserWarning: [03:09:26] WARNING: C:\\buildkite-agent\\builds\\buildkite-windows-cpu-autoscaling-group-i-0750514818a16474a-1\\xgboost\\xgboost-ci-windows\\src\\learner.cc:742: \n",
      "Parameters: { \"objectives\", \"verbose\" } are not used.\n",
      "\n",
      "  warnings.warn(smsg, UserWarning)\n"
     ]
    },
    {
     "name": "stdout",
     "output_type": "stream",
     "text": [
      "Train set RMSE: 0.42\n",
      "Test set RMSE: 0.45\n",
      "Tested on combination ['is_holiday', 'is_weekend', 'hosp', 'rea', 'Count_accidents']\n"
     ]
    },
    {
     "name": "stderr",
     "output_type": "stream",
     "text": [
      "C:\\Users\\Thomas\\anaconda3\\envs\\bikes-count\\lib\\site-packages\\xgboost\\core.py:160: UserWarning: [03:09:33] WARNING: C:\\buildkite-agent\\builds\\buildkite-windows-cpu-autoscaling-group-i-0750514818a16474a-1\\xgboost\\xgboost-ci-windows\\src\\learner.cc:742: \n",
      "Parameters: { \"objectives\", \"verbose\" } are not used.\n",
      "\n",
      "  warnings.warn(smsg, UserWarning)\n"
     ]
    },
    {
     "name": "stdout",
     "output_type": "stream",
     "text": [
      "Train set RMSE: 0.41\n",
      "Test set RMSE: 0.49\n",
      "Tested on combination ['is_holiday', 'is_weekend', 'hosp', 'incid_rea', 'rad']\n"
     ]
    },
    {
     "name": "stderr",
     "output_type": "stream",
     "text": [
      "C:\\Users\\Thomas\\anaconda3\\envs\\bikes-count\\lib\\site-packages\\xgboost\\core.py:160: UserWarning: [03:09:39] WARNING: C:\\buildkite-agent\\builds\\buildkite-windows-cpu-autoscaling-group-i-0750514818a16474a-1\\xgboost\\xgboost-ci-windows\\src\\learner.cc:742: \n",
      "Parameters: { \"objectives\", \"verbose\" } are not used.\n",
      "\n",
      "  warnings.warn(smsg, UserWarning)\n"
     ]
    },
    {
     "name": "stdout",
     "output_type": "stream",
     "text": [
      "Train set RMSE: 0.42\n",
      "Test set RMSE: 0.50\n",
      "Tested on combination ['is_holiday', 'is_weekend', 'hosp', 'incid_rea', 'Count_accidents']\n"
     ]
    },
    {
     "name": "stderr",
     "output_type": "stream",
     "text": [
      "C:\\Users\\Thomas\\anaconda3\\envs\\bikes-count\\lib\\site-packages\\xgboost\\core.py:160: UserWarning: [03:09:45] WARNING: C:\\buildkite-agent\\builds\\buildkite-windows-cpu-autoscaling-group-i-0750514818a16474a-1\\xgboost\\xgboost-ci-windows\\src\\learner.cc:742: \n",
      "Parameters: { \"objectives\", \"verbose\" } are not used.\n",
      "\n",
      "  warnings.warn(smsg, UserWarning)\n"
     ]
    },
    {
     "name": "stdout",
     "output_type": "stream",
     "text": [
      "Train set RMSE: 0.41\n",
      "Test set RMSE: 0.48\n",
      "Tested on combination ['is_holiday', 'is_weekend', 'hosp', 'rad', 'Count_accidents']\n"
     ]
    },
    {
     "name": "stderr",
     "output_type": "stream",
     "text": [
      "C:\\Users\\Thomas\\anaconda3\\envs\\bikes-count\\lib\\site-packages\\xgboost\\core.py:160: UserWarning: [03:09:52] WARNING: C:\\buildkite-agent\\builds\\buildkite-windows-cpu-autoscaling-group-i-0750514818a16474a-1\\xgboost\\xgboost-ci-windows\\src\\learner.cc:742: \n",
      "Parameters: { \"objectives\", \"verbose\" } are not used.\n",
      "\n",
      "  warnings.warn(smsg, UserWarning)\n"
     ]
    },
    {
     "name": "stdout",
     "output_type": "stream",
     "text": [
      "Train set RMSE: 0.41\n",
      "Test set RMSE: 0.54\n",
      "Tested on combination ['is_holiday', 'is_weekend', 'rea', 'incid_rea', 'rad']\n"
     ]
    },
    {
     "name": "stderr",
     "output_type": "stream",
     "text": [
      "C:\\Users\\Thomas\\anaconda3\\envs\\bikes-count\\lib\\site-packages\\xgboost\\core.py:160: UserWarning: [03:09:58] WARNING: C:\\buildkite-agent\\builds\\buildkite-windows-cpu-autoscaling-group-i-0750514818a16474a-1\\xgboost\\xgboost-ci-windows\\src\\learner.cc:742: \n",
      "Parameters: { \"objectives\", \"verbose\" } are not used.\n",
      "\n",
      "  warnings.warn(smsg, UserWarning)\n"
     ]
    },
    {
     "name": "stdout",
     "output_type": "stream",
     "text": [
      "Train set RMSE: 0.42\n",
      "Test set RMSE: 0.52\n",
      "Tested on combination ['is_holiday', 'is_weekend', 'rea', 'incid_rea', 'Count_accidents']\n"
     ]
    },
    {
     "name": "stderr",
     "output_type": "stream",
     "text": [
      "C:\\Users\\Thomas\\anaconda3\\envs\\bikes-count\\lib\\site-packages\\xgboost\\core.py:160: UserWarning: [03:10:05] WARNING: C:\\buildkite-agent\\builds\\buildkite-windows-cpu-autoscaling-group-i-0750514818a16474a-1\\xgboost\\xgboost-ci-windows\\src\\learner.cc:742: \n",
      "Parameters: { \"objectives\", \"verbose\" } are not used.\n",
      "\n",
      "  warnings.warn(smsg, UserWarning)\n"
     ]
    },
    {
     "name": "stdout",
     "output_type": "stream",
     "text": [
      "Train set RMSE: 0.41\n",
      "Test set RMSE: 0.53\n",
      "Tested on combination ['is_holiday', 'is_weekend', 'rea', 'rad', 'Count_accidents']\n"
     ]
    },
    {
     "name": "stderr",
     "output_type": "stream",
     "text": [
      "C:\\Users\\Thomas\\anaconda3\\envs\\bikes-count\\lib\\site-packages\\xgboost\\core.py:160: UserWarning: [03:10:12] WARNING: C:\\buildkite-agent\\builds\\buildkite-windows-cpu-autoscaling-group-i-0750514818a16474a-1\\xgboost\\xgboost-ci-windows\\src\\learner.cc:742: \n",
      "Parameters: { \"objectives\", \"verbose\" } are not used.\n",
      "\n",
      "  warnings.warn(smsg, UserWarning)\n"
     ]
    },
    {
     "name": "stdout",
     "output_type": "stream",
     "text": [
      "Train set RMSE: 0.41\n",
      "Test set RMSE: 0.51\n",
      "Tested on combination ['is_holiday', 'is_weekend', 'incid_rea', 'rad', 'Count_accidents']\n"
     ]
    },
    {
     "name": "stderr",
     "output_type": "stream",
     "text": [
      "C:\\Users\\Thomas\\anaconda3\\envs\\bikes-count\\lib\\site-packages\\xgboost\\core.py:160: UserWarning: [03:10:18] WARNING: C:\\buildkite-agent\\builds\\buildkite-windows-cpu-autoscaling-group-i-0750514818a16474a-1\\xgboost\\xgboost-ci-windows\\src\\learner.cc:742: \n",
      "Parameters: { \"objectives\", \"verbose\" } are not used.\n",
      "\n",
      "  warnings.warn(smsg, UserWarning)\n"
     ]
    },
    {
     "name": "stdout",
     "output_type": "stream",
     "text": [
      "Train set RMSE: 0.42\n",
      "Test set RMSE: 0.48\n",
      "Tested on combination ['is_holiday', 'is_lockdown', 'is_curfew', 'Max_Grav_accidents', 'hosp']\n"
     ]
    },
    {
     "name": "stderr",
     "output_type": "stream",
     "text": [
      "C:\\Users\\Thomas\\anaconda3\\envs\\bikes-count\\lib\\site-packages\\xgboost\\core.py:160: UserWarning: [03:10:25] WARNING: C:\\buildkite-agent\\builds\\buildkite-windows-cpu-autoscaling-group-i-0750514818a16474a-1\\xgboost\\xgboost-ci-windows\\src\\learner.cc:742: \n",
      "Parameters: { \"objectives\", \"verbose\" } are not used.\n",
      "\n",
      "  warnings.warn(smsg, UserWarning)\n"
     ]
    },
    {
     "name": "stdout",
     "output_type": "stream",
     "text": [
      "Train set RMSE: 0.42\n",
      "Test set RMSE: 0.50\n",
      "Tested on combination ['is_holiday', 'is_lockdown', 'is_curfew', 'Max_Grav_accidents', 'rea']\n"
     ]
    },
    {
     "name": "stderr",
     "output_type": "stream",
     "text": [
      "C:\\Users\\Thomas\\anaconda3\\envs\\bikes-count\\lib\\site-packages\\xgboost\\core.py:160: UserWarning: [03:10:31] WARNING: C:\\buildkite-agent\\builds\\buildkite-windows-cpu-autoscaling-group-i-0750514818a16474a-1\\xgboost\\xgboost-ci-windows\\src\\learner.cc:742: \n",
      "Parameters: { \"objectives\", \"verbose\" } are not used.\n",
      "\n",
      "  warnings.warn(smsg, UserWarning)\n"
     ]
    },
    {
     "name": "stdout",
     "output_type": "stream",
     "text": [
      "Train set RMSE: 0.43\n",
      "Test set RMSE: 0.49\n",
      "Tested on combination ['is_holiday', 'is_lockdown', 'is_curfew', 'Max_Grav_accidents', 'incid_rea']\n"
     ]
    },
    {
     "name": "stderr",
     "output_type": "stream",
     "text": [
      "C:\\Users\\Thomas\\anaconda3\\envs\\bikes-count\\lib\\site-packages\\xgboost\\core.py:160: UserWarning: [03:10:38] WARNING: C:\\buildkite-agent\\builds\\buildkite-windows-cpu-autoscaling-group-i-0750514818a16474a-1\\xgboost\\xgboost-ci-windows\\src\\learner.cc:742: \n",
      "Parameters: { \"objectives\", \"verbose\" } are not used.\n",
      "\n",
      "  warnings.warn(smsg, UserWarning)\n"
     ]
    },
    {
     "name": "stdout",
     "output_type": "stream",
     "text": [
      "Train set RMSE: 0.42\n",
      "Test set RMSE: 0.51\n",
      "Tested on combination ['is_holiday', 'is_lockdown', 'is_curfew', 'Max_Grav_accidents', 'rad']\n"
     ]
    },
    {
     "name": "stderr",
     "output_type": "stream",
     "text": [
      "C:\\Users\\Thomas\\anaconda3\\envs\\bikes-count\\lib\\site-packages\\xgboost\\core.py:160: UserWarning: [03:10:44] WARNING: C:\\buildkite-agent\\builds\\buildkite-windows-cpu-autoscaling-group-i-0750514818a16474a-1\\xgboost\\xgboost-ci-windows\\src\\learner.cc:742: \n",
      "Parameters: { \"objectives\", \"verbose\" } are not used.\n",
      "\n",
      "  warnings.warn(smsg, UserWarning)\n"
     ]
    },
    {
     "name": "stdout",
     "output_type": "stream",
     "text": [
      "Train set RMSE: 0.43\n",
      "Test set RMSE: 0.49\n",
      "Tested on combination ['is_holiday', 'is_lockdown', 'is_curfew', 'Max_Grav_accidents', 'Count_accidents']\n"
     ]
    },
    {
     "name": "stderr",
     "output_type": "stream",
     "text": [
      "C:\\Users\\Thomas\\anaconda3\\envs\\bikes-count\\lib\\site-packages\\xgboost\\core.py:160: UserWarning: [03:10:51] WARNING: C:\\buildkite-agent\\builds\\buildkite-windows-cpu-autoscaling-group-i-0750514818a16474a-1\\xgboost\\xgboost-ci-windows\\src\\learner.cc:742: \n",
      "Parameters: { \"objectives\", \"verbose\" } are not used.\n",
      "\n",
      "  warnings.warn(smsg, UserWarning)\n"
     ]
    },
    {
     "name": "stdout",
     "output_type": "stream",
     "text": [
      "Train set RMSE: 0.42\n",
      "Test set RMSE: 0.47\n",
      "Tested on combination ['is_holiday', 'is_lockdown', 'is_curfew', 'hosp', 'rea']\n"
     ]
    },
    {
     "name": "stderr",
     "output_type": "stream",
     "text": [
      "C:\\Users\\Thomas\\anaconda3\\envs\\bikes-count\\lib\\site-packages\\xgboost\\core.py:160: UserWarning: [03:10:57] WARNING: C:\\buildkite-agent\\builds\\buildkite-windows-cpu-autoscaling-group-i-0750514818a16474a-1\\xgboost\\xgboost-ci-windows\\src\\learner.cc:742: \n",
      "Parameters: { \"objectives\", \"verbose\" } are not used.\n",
      "\n",
      "  warnings.warn(smsg, UserWarning)\n"
     ]
    },
    {
     "name": "stdout",
     "output_type": "stream",
     "text": [
      "Train set RMSE: 0.42\n",
      "Test set RMSE: 0.50\n",
      "Tested on combination ['is_holiday', 'is_lockdown', 'is_curfew', 'hosp', 'incid_rea']\n"
     ]
    },
    {
     "name": "stderr",
     "output_type": "stream",
     "text": [
      "C:\\Users\\Thomas\\anaconda3\\envs\\bikes-count\\lib\\site-packages\\xgboost\\core.py:160: UserWarning: [03:11:04] WARNING: C:\\buildkite-agent\\builds\\buildkite-windows-cpu-autoscaling-group-i-0750514818a16474a-1\\xgboost\\xgboost-ci-windows\\src\\learner.cc:742: \n",
      "Parameters: { \"objectives\", \"verbose\" } are not used.\n",
      "\n",
      "  warnings.warn(smsg, UserWarning)\n"
     ]
    },
    {
     "name": "stdout",
     "output_type": "stream",
     "text": [
      "Train set RMSE: 0.41\n",
      "Test set RMSE: 0.50\n",
      "Tested on combination ['is_holiday', 'is_lockdown', 'is_curfew', 'hosp', 'rad']\n"
     ]
    },
    {
     "name": "stderr",
     "output_type": "stream",
     "text": [
      "C:\\Users\\Thomas\\anaconda3\\envs\\bikes-count\\lib\\site-packages\\xgboost\\core.py:160: UserWarning: [03:11:10] WARNING: C:\\buildkite-agent\\builds\\buildkite-windows-cpu-autoscaling-group-i-0750514818a16474a-1\\xgboost\\xgboost-ci-windows\\src\\learner.cc:742: \n",
      "Parameters: { \"objectives\", \"verbose\" } are not used.\n",
      "\n",
      "  warnings.warn(smsg, UserWarning)\n"
     ]
    },
    {
     "name": "stdout",
     "output_type": "stream",
     "text": [
      "Train set RMSE: 0.42\n",
      "Test set RMSE: 0.47\n",
      "Tested on combination ['is_holiday', 'is_lockdown', 'is_curfew', 'hosp', 'Count_accidents']\n"
     ]
    },
    {
     "name": "stderr",
     "output_type": "stream",
     "text": [
      "C:\\Users\\Thomas\\anaconda3\\envs\\bikes-count\\lib\\site-packages\\xgboost\\core.py:160: UserWarning: [03:11:17] WARNING: C:\\buildkite-agent\\builds\\buildkite-windows-cpu-autoscaling-group-i-0750514818a16474a-1\\xgboost\\xgboost-ci-windows\\src\\learner.cc:742: \n",
      "Parameters: { \"objectives\", \"verbose\" } are not used.\n",
      "\n",
      "  warnings.warn(smsg, UserWarning)\n"
     ]
    },
    {
     "name": "stdout",
     "output_type": "stream",
     "text": [
      "Train set RMSE: 0.42\n",
      "Test set RMSE: 0.53\n",
      "Tested on combination ['is_holiday', 'is_lockdown', 'is_curfew', 'rea', 'incid_rea']\n"
     ]
    },
    {
     "name": "stderr",
     "output_type": "stream",
     "text": [
      "C:\\Users\\Thomas\\anaconda3\\envs\\bikes-count\\lib\\site-packages\\xgboost\\core.py:160: UserWarning: [03:11:23] WARNING: C:\\buildkite-agent\\builds\\buildkite-windows-cpu-autoscaling-group-i-0750514818a16474a-1\\xgboost\\xgboost-ci-windows\\src\\learner.cc:742: \n",
      "Parameters: { \"objectives\", \"verbose\" } are not used.\n",
      "\n",
      "  warnings.warn(smsg, UserWarning)\n"
     ]
    },
    {
     "name": "stdout",
     "output_type": "stream",
     "text": [
      "Train set RMSE: 0.41\n",
      "Test set RMSE: 0.54\n",
      "Tested on combination ['is_holiday', 'is_lockdown', 'is_curfew', 'rea', 'rad']\n"
     ]
    },
    {
     "name": "stderr",
     "output_type": "stream",
     "text": [
      "C:\\Users\\Thomas\\anaconda3\\envs\\bikes-count\\lib\\site-packages\\xgboost\\core.py:160: UserWarning: [03:11:29] WARNING: C:\\buildkite-agent\\builds\\buildkite-windows-cpu-autoscaling-group-i-0750514818a16474a-1\\xgboost\\xgboost-ci-windows\\src\\learner.cc:742: \n",
      "Parameters: { \"objectives\", \"verbose\" } are not used.\n",
      "\n",
      "  warnings.warn(smsg, UserWarning)\n"
     ]
    },
    {
     "name": "stdout",
     "output_type": "stream",
     "text": [
      "Train set RMSE: 0.42\n",
      "Test set RMSE: 0.49\n",
      "Tested on combination ['is_holiday', 'is_lockdown', 'is_curfew', 'rea', 'Count_accidents']\n"
     ]
    },
    {
     "name": "stderr",
     "output_type": "stream",
     "text": [
      "C:\\Users\\Thomas\\anaconda3\\envs\\bikes-count\\lib\\site-packages\\xgboost\\core.py:160: UserWarning: [03:11:36] WARNING: C:\\buildkite-agent\\builds\\buildkite-windows-cpu-autoscaling-group-i-0750514818a16474a-1\\xgboost\\xgboost-ci-windows\\src\\learner.cc:742: \n",
      "Parameters: { \"objectives\", \"verbose\" } are not used.\n",
      "\n",
      "  warnings.warn(smsg, UserWarning)\n"
     ]
    },
    {
     "name": "stdout",
     "output_type": "stream",
     "text": [
      "Train set RMSE: 0.42\n",
      "Test set RMSE: 0.50\n",
      "Tested on combination ['is_holiday', 'is_lockdown', 'is_curfew', 'incid_rea', 'rad']\n"
     ]
    },
    {
     "name": "stderr",
     "output_type": "stream",
     "text": [
      "C:\\Users\\Thomas\\anaconda3\\envs\\bikes-count\\lib\\site-packages\\xgboost\\core.py:160: UserWarning: [03:11:42] WARNING: C:\\buildkite-agent\\builds\\buildkite-windows-cpu-autoscaling-group-i-0750514818a16474a-1\\xgboost\\xgboost-ci-windows\\src\\learner.cc:742: \n",
      "Parameters: { \"objectives\", \"verbose\" } are not used.\n",
      "\n",
      "  warnings.warn(smsg, UserWarning)\n"
     ]
    },
    {
     "name": "stdout",
     "output_type": "stream",
     "text": [
      "Train set RMSE: 0.43\n",
      "Test set RMSE: 0.49\n",
      "Tested on combination ['is_holiday', 'is_lockdown', 'is_curfew', 'incid_rea', 'Count_accidents']\n"
     ]
    },
    {
     "name": "stderr",
     "output_type": "stream",
     "text": [
      "C:\\Users\\Thomas\\anaconda3\\envs\\bikes-count\\lib\\site-packages\\xgboost\\core.py:160: UserWarning: [03:11:49] WARNING: C:\\buildkite-agent\\builds\\buildkite-windows-cpu-autoscaling-group-i-0750514818a16474a-1\\xgboost\\xgboost-ci-windows\\src\\learner.cc:742: \n",
      "Parameters: { \"objectives\", \"verbose\" } are not used.\n",
      "\n",
      "  warnings.warn(smsg, UserWarning)\n"
     ]
    },
    {
     "name": "stdout",
     "output_type": "stream",
     "text": [
      "Train set RMSE: 0.42\n",
      "Test set RMSE: 0.51\n",
      "Tested on combination ['is_holiday', 'is_lockdown', 'is_curfew', 'rad', 'Count_accidents']\n"
     ]
    },
    {
     "name": "stderr",
     "output_type": "stream",
     "text": [
      "C:\\Users\\Thomas\\anaconda3\\envs\\bikes-count\\lib\\site-packages\\xgboost\\core.py:160: UserWarning: [03:11:55] WARNING: C:\\buildkite-agent\\builds\\buildkite-windows-cpu-autoscaling-group-i-0750514818a16474a-1\\xgboost\\xgboost-ci-windows\\src\\learner.cc:742: \n",
      "Parameters: { \"objectives\", \"verbose\" } are not used.\n",
      "\n",
      "  warnings.warn(smsg, UserWarning)\n"
     ]
    },
    {
     "name": "stdout",
     "output_type": "stream",
     "text": [
      "Train set RMSE: 0.42\n",
      "Test set RMSE: 0.49\n",
      "Tested on combination ['is_holiday', 'is_lockdown', 'Max_Grav_accidents', 'hosp', 'rea']\n"
     ]
    },
    {
     "name": "stderr",
     "output_type": "stream",
     "text": [
      "C:\\Users\\Thomas\\anaconda3\\envs\\bikes-count\\lib\\site-packages\\xgboost\\core.py:160: UserWarning: [03:12:01] WARNING: C:\\buildkite-agent\\builds\\buildkite-windows-cpu-autoscaling-group-i-0750514818a16474a-1\\xgboost\\xgboost-ci-windows\\src\\learner.cc:742: \n",
      "Parameters: { \"objectives\", \"verbose\" } are not used.\n",
      "\n",
      "  warnings.warn(smsg, UserWarning)\n"
     ]
    },
    {
     "name": "stdout",
     "output_type": "stream",
     "text": [
      "Train set RMSE: 0.42\n",
      "Test set RMSE: 0.53\n",
      "Tested on combination ['is_holiday', 'is_lockdown', 'Max_Grav_accidents', 'hosp', 'incid_rea']\n"
     ]
    },
    {
     "name": "stderr",
     "output_type": "stream",
     "text": [
      "C:\\Users\\Thomas\\anaconda3\\envs\\bikes-count\\lib\\site-packages\\xgboost\\core.py:160: UserWarning: [03:12:08] WARNING: C:\\buildkite-agent\\builds\\buildkite-windows-cpu-autoscaling-group-i-0750514818a16474a-1\\xgboost\\xgboost-ci-windows\\src\\learner.cc:742: \n",
      "Parameters: { \"objectives\", \"verbose\" } are not used.\n",
      "\n",
      "  warnings.warn(smsg, UserWarning)\n"
     ]
    },
    {
     "name": "stdout",
     "output_type": "stream",
     "text": [
      "Train set RMSE: 0.41\n",
      "Test set RMSE: 0.49\n",
      "Tested on combination ['is_holiday', 'is_lockdown', 'Max_Grav_accidents', 'hosp', 'rad']\n"
     ]
    },
    {
     "name": "stderr",
     "output_type": "stream",
     "text": [
      "C:\\Users\\Thomas\\anaconda3\\envs\\bikes-count\\lib\\site-packages\\xgboost\\core.py:160: UserWarning: [03:12:14] WARNING: C:\\buildkite-agent\\builds\\buildkite-windows-cpu-autoscaling-group-i-0750514818a16474a-1\\xgboost\\xgboost-ci-windows\\src\\learner.cc:742: \n",
      "Parameters: { \"objectives\", \"verbose\" } are not used.\n",
      "\n",
      "  warnings.warn(smsg, UserWarning)\n"
     ]
    },
    {
     "name": "stdout",
     "output_type": "stream",
     "text": [
      "Train set RMSE: 0.42\n",
      "Test set RMSE: 0.46\n",
      "Tested on combination ['is_holiday', 'is_lockdown', 'Max_Grav_accidents', 'hosp', 'Count_accidents']\n"
     ]
    },
    {
     "name": "stderr",
     "output_type": "stream",
     "text": [
      "C:\\Users\\Thomas\\anaconda3\\envs\\bikes-count\\lib\\site-packages\\xgboost\\core.py:160: UserWarning: [03:12:21] WARNING: C:\\buildkite-agent\\builds\\buildkite-windows-cpu-autoscaling-group-i-0750514818a16474a-1\\xgboost\\xgboost-ci-windows\\src\\learner.cc:742: \n",
      "Parameters: { \"objectives\", \"verbose\" } are not used.\n",
      "\n",
      "  warnings.warn(smsg, UserWarning)\n"
     ]
    },
    {
     "name": "stdout",
     "output_type": "stream",
     "text": [
      "Train set RMSE: 0.42\n",
      "Test set RMSE: 0.53\n",
      "Tested on combination ['is_holiday', 'is_lockdown', 'Max_Grav_accidents', 'rea', 'incid_rea']\n"
     ]
    },
    {
     "name": "stderr",
     "output_type": "stream",
     "text": [
      "C:\\Users\\Thomas\\anaconda3\\envs\\bikes-count\\lib\\site-packages\\xgboost\\core.py:160: UserWarning: [03:12:27] WARNING: C:\\buildkite-agent\\builds\\buildkite-windows-cpu-autoscaling-group-i-0750514818a16474a-1\\xgboost\\xgboost-ci-windows\\src\\learner.cc:742: \n",
      "Parameters: { \"objectives\", \"verbose\" } are not used.\n",
      "\n",
      "  warnings.warn(smsg, UserWarning)\n"
     ]
    },
    {
     "name": "stdout",
     "output_type": "stream",
     "text": [
      "Train set RMSE: 0.41\n",
      "Test set RMSE: 0.54\n",
      "Tested on combination ['is_holiday', 'is_lockdown', 'Max_Grav_accidents', 'rea', 'rad']\n"
     ]
    },
    {
     "name": "stderr",
     "output_type": "stream",
     "text": [
      "C:\\Users\\Thomas\\anaconda3\\envs\\bikes-count\\lib\\site-packages\\xgboost\\core.py:160: UserWarning: [03:12:33] WARNING: C:\\buildkite-agent\\builds\\buildkite-windows-cpu-autoscaling-group-i-0750514818a16474a-1\\xgboost\\xgboost-ci-windows\\src\\learner.cc:742: \n",
      "Parameters: { \"objectives\", \"verbose\" } are not used.\n",
      "\n",
      "  warnings.warn(smsg, UserWarning)\n"
     ]
    },
    {
     "name": "stdout",
     "output_type": "stream",
     "text": [
      "Train set RMSE: 0.42\n",
      "Test set RMSE: 0.49\n",
      "Tested on combination ['is_holiday', 'is_lockdown', 'Max_Grav_accidents', 'rea', 'Count_accidents']\n"
     ]
    },
    {
     "name": "stderr",
     "output_type": "stream",
     "text": [
      "C:\\Users\\Thomas\\anaconda3\\envs\\bikes-count\\lib\\site-packages\\xgboost\\core.py:160: UserWarning: [03:12:40] WARNING: C:\\buildkite-agent\\builds\\buildkite-windows-cpu-autoscaling-group-i-0750514818a16474a-1\\xgboost\\xgboost-ci-windows\\src\\learner.cc:742: \n",
      "Parameters: { \"objectives\", \"verbose\" } are not used.\n",
      "\n",
      "  warnings.warn(smsg, UserWarning)\n"
     ]
    },
    {
     "name": "stdout",
     "output_type": "stream",
     "text": [
      "Train set RMSE: 0.41\n",
      "Test set RMSE: 0.53\n",
      "Tested on combination ['is_holiday', 'is_lockdown', 'Max_Grav_accidents', 'incid_rea', 'rad']\n"
     ]
    },
    {
     "name": "stderr",
     "output_type": "stream",
     "text": [
      "C:\\Users\\Thomas\\anaconda3\\envs\\bikes-count\\lib\\site-packages\\xgboost\\core.py:160: UserWarning: [03:12:46] WARNING: C:\\buildkite-agent\\builds\\buildkite-windows-cpu-autoscaling-group-i-0750514818a16474a-1\\xgboost\\xgboost-ci-windows\\src\\learner.cc:742: \n",
      "Parameters: { \"objectives\", \"verbose\" } are not used.\n",
      "\n",
      "  warnings.warn(smsg, UserWarning)\n"
     ]
    },
    {
     "name": "stdout",
     "output_type": "stream",
     "text": [
      "Train set RMSE: 0.43\n",
      "Test set RMSE: 0.49\n",
      "Tested on combination ['is_holiday', 'is_lockdown', 'Max_Grav_accidents', 'incid_rea', 'Count_accidents']\n"
     ]
    },
    {
     "name": "stderr",
     "output_type": "stream",
     "text": [
      "C:\\Users\\Thomas\\anaconda3\\envs\\bikes-count\\lib\\site-packages\\xgboost\\core.py:160: UserWarning: [03:12:53] WARNING: C:\\buildkite-agent\\builds\\buildkite-windows-cpu-autoscaling-group-i-0750514818a16474a-1\\xgboost\\xgboost-ci-windows\\src\\learner.cc:742: \n",
      "Parameters: { \"objectives\", \"verbose\" } are not used.\n",
      "\n",
      "  warnings.warn(smsg, UserWarning)\n"
     ]
    },
    {
     "name": "stdout",
     "output_type": "stream",
     "text": [
      "Train set RMSE: 0.42\n",
      "Test set RMSE: 0.51\n",
      "Tested on combination ['is_holiday', 'is_lockdown', 'Max_Grav_accidents', 'rad', 'Count_accidents']\n"
     ]
    },
    {
     "name": "stderr",
     "output_type": "stream",
     "text": [
      "C:\\Users\\Thomas\\anaconda3\\envs\\bikes-count\\lib\\site-packages\\xgboost\\core.py:160: UserWarning: [03:12:59] WARNING: C:\\buildkite-agent\\builds\\buildkite-windows-cpu-autoscaling-group-i-0750514818a16474a-1\\xgboost\\xgboost-ci-windows\\src\\learner.cc:742: \n",
      "Parameters: { \"objectives\", \"verbose\" } are not used.\n",
      "\n",
      "  warnings.warn(smsg, UserWarning)\n"
     ]
    },
    {
     "name": "stdout",
     "output_type": "stream",
     "text": [
      "Train set RMSE: 0.41\n",
      "Test set RMSE: 0.47\n",
      "Tested on combination ['is_holiday', 'is_lockdown', 'hosp', 'rea', 'incid_rea']\n"
     ]
    },
    {
     "name": "stderr",
     "output_type": "stream",
     "text": [
      "C:\\Users\\Thomas\\anaconda3\\envs\\bikes-count\\lib\\site-packages\\xgboost\\core.py:160: UserWarning: [03:13:06] WARNING: C:\\buildkite-agent\\builds\\buildkite-windows-cpu-autoscaling-group-i-0750514818a16474a-1\\xgboost\\xgboost-ci-windows\\src\\learner.cc:742: \n",
      "Parameters: { \"objectives\", \"verbose\" } are not used.\n",
      "\n",
      "  warnings.warn(smsg, UserWarning)\n"
     ]
    },
    {
     "name": "stdout",
     "output_type": "stream",
     "text": [
      "Train set RMSE: 0.41\n",
      "Test set RMSE: 0.51\n",
      "Tested on combination ['is_holiday', 'is_lockdown', 'hosp', 'rea', 'rad']\n"
     ]
    },
    {
     "name": "stderr",
     "output_type": "stream",
     "text": [
      "C:\\Users\\Thomas\\anaconda3\\envs\\bikes-count\\lib\\site-packages\\xgboost\\core.py:160: UserWarning: [03:13:12] WARNING: C:\\buildkite-agent\\builds\\buildkite-windows-cpu-autoscaling-group-i-0750514818a16474a-1\\xgboost\\xgboost-ci-windows\\src\\learner.cc:742: \n",
      "Parameters: { \"objectives\", \"verbose\" } are not used.\n",
      "\n",
      "  warnings.warn(smsg, UserWarning)\n"
     ]
    },
    {
     "name": "stdout",
     "output_type": "stream",
     "text": [
      "Train set RMSE: 0.42\n",
      "Test set RMSE: 0.49\n",
      "Tested on combination ['is_holiday', 'is_lockdown', 'hosp', 'rea', 'Count_accidents']\n"
     ]
    },
    {
     "name": "stderr",
     "output_type": "stream",
     "text": [
      "C:\\Users\\Thomas\\anaconda3\\envs\\bikes-count\\lib\\site-packages\\xgboost\\core.py:160: UserWarning: [03:13:19] WARNING: C:\\buildkite-agent\\builds\\buildkite-windows-cpu-autoscaling-group-i-0750514818a16474a-1\\xgboost\\xgboost-ci-windows\\src\\learner.cc:742: \n",
      "Parameters: { \"objectives\", \"verbose\" } are not used.\n",
      "\n",
      "  warnings.warn(smsg, UserWarning)\n"
     ]
    },
    {
     "name": "stdout",
     "output_type": "stream",
     "text": [
      "Train set RMSE: 0.41\n",
      "Test set RMSE: 0.50\n",
      "Tested on combination ['is_holiday', 'is_lockdown', 'hosp', 'incid_rea', 'rad']\n"
     ]
    },
    {
     "name": "stderr",
     "output_type": "stream",
     "text": [
      "C:\\Users\\Thomas\\anaconda3\\envs\\bikes-count\\lib\\site-packages\\xgboost\\core.py:160: UserWarning: [03:13:25] WARNING: C:\\buildkite-agent\\builds\\buildkite-windows-cpu-autoscaling-group-i-0750514818a16474a-1\\xgboost\\xgboost-ci-windows\\src\\learner.cc:742: \n",
      "Parameters: { \"objectives\", \"verbose\" } are not used.\n",
      "\n",
      "  warnings.warn(smsg, UserWarning)\n"
     ]
    },
    {
     "name": "stdout",
     "output_type": "stream",
     "text": [
      "Train set RMSE: 0.42\n",
      "Test set RMSE: 0.51\n",
      "Tested on combination ['is_holiday', 'is_lockdown', 'hosp', 'incid_rea', 'Count_accidents']\n"
     ]
    },
    {
     "name": "stderr",
     "output_type": "stream",
     "text": [
      "C:\\Users\\Thomas\\anaconda3\\envs\\bikes-count\\lib\\site-packages\\xgboost\\core.py:160: UserWarning: [03:13:31] WARNING: C:\\buildkite-agent\\builds\\buildkite-windows-cpu-autoscaling-group-i-0750514818a16474a-1\\xgboost\\xgboost-ci-windows\\src\\learner.cc:742: \n",
      "Parameters: { \"objectives\", \"verbose\" } are not used.\n",
      "\n",
      "  warnings.warn(smsg, UserWarning)\n"
     ]
    },
    {
     "name": "stdout",
     "output_type": "stream",
     "text": [
      "Train set RMSE: 0.41\n",
      "Test set RMSE: 0.49\n",
      "Tested on combination ['is_holiday', 'is_lockdown', 'hosp', 'rad', 'Count_accidents']\n"
     ]
    },
    {
     "name": "stderr",
     "output_type": "stream",
     "text": [
      "C:\\Users\\Thomas\\anaconda3\\envs\\bikes-count\\lib\\site-packages\\xgboost\\core.py:160: UserWarning: [03:13:38] WARNING: C:\\buildkite-agent\\builds\\buildkite-windows-cpu-autoscaling-group-i-0750514818a16474a-1\\xgboost\\xgboost-ci-windows\\src\\learner.cc:742: \n",
      "Parameters: { \"objectives\", \"verbose\" } are not used.\n",
      "\n",
      "  warnings.warn(smsg, UserWarning)\n"
     ]
    },
    {
     "name": "stdout",
     "output_type": "stream",
     "text": [
      "Train set RMSE: 0.41\n",
      "Test set RMSE: 0.55\n",
      "Tested on combination ['is_holiday', 'is_lockdown', 'rea', 'incid_rea', 'rad']\n"
     ]
    },
    {
     "name": "stderr",
     "output_type": "stream",
     "text": [
      "C:\\Users\\Thomas\\anaconda3\\envs\\bikes-count\\lib\\site-packages\\xgboost\\core.py:160: UserWarning: [03:13:44] WARNING: C:\\buildkite-agent\\builds\\buildkite-windows-cpu-autoscaling-group-i-0750514818a16474a-1\\xgboost\\xgboost-ci-windows\\src\\learner.cc:742: \n",
      "Parameters: { \"objectives\", \"verbose\" } are not used.\n",
      "\n",
      "  warnings.warn(smsg, UserWarning)\n"
     ]
    },
    {
     "name": "stdout",
     "output_type": "stream",
     "text": [
      "Train set RMSE: 0.42\n",
      "Test set RMSE: 0.53\n",
      "Tested on combination ['is_holiday', 'is_lockdown', 'rea', 'incid_rea', 'Count_accidents']\n"
     ]
    },
    {
     "name": "stderr",
     "output_type": "stream",
     "text": [
      "C:\\Users\\Thomas\\anaconda3\\envs\\bikes-count\\lib\\site-packages\\xgboost\\core.py:160: UserWarning: [03:13:51] WARNING: C:\\buildkite-agent\\builds\\buildkite-windows-cpu-autoscaling-group-i-0750514818a16474a-1\\xgboost\\xgboost-ci-windows\\src\\learner.cc:742: \n",
      "Parameters: { \"objectives\", \"verbose\" } are not used.\n",
      "\n",
      "  warnings.warn(smsg, UserWarning)\n"
     ]
    },
    {
     "name": "stdout",
     "output_type": "stream",
     "text": [
      "Train set RMSE: 0.41\n",
      "Test set RMSE: 0.55\n",
      "Tested on combination ['is_holiday', 'is_lockdown', 'rea', 'rad', 'Count_accidents']\n"
     ]
    },
    {
     "name": "stderr",
     "output_type": "stream",
     "text": [
      "C:\\Users\\Thomas\\anaconda3\\envs\\bikes-count\\lib\\site-packages\\xgboost\\core.py:160: UserWarning: [03:13:57] WARNING: C:\\buildkite-agent\\builds\\buildkite-windows-cpu-autoscaling-group-i-0750514818a16474a-1\\xgboost\\xgboost-ci-windows\\src\\learner.cc:742: \n",
      "Parameters: { \"objectives\", \"verbose\" } are not used.\n",
      "\n",
      "  warnings.warn(smsg, UserWarning)\n"
     ]
    },
    {
     "name": "stdout",
     "output_type": "stream",
     "text": [
      "Train set RMSE: 0.41\n",
      "Test set RMSE: 0.50\n",
      "Tested on combination ['is_holiday', 'is_lockdown', 'incid_rea', 'rad', 'Count_accidents']\n"
     ]
    },
    {
     "name": "stderr",
     "output_type": "stream",
     "text": [
      "C:\\Users\\Thomas\\anaconda3\\envs\\bikes-count\\lib\\site-packages\\xgboost\\core.py:160: UserWarning: [03:14:04] WARNING: C:\\buildkite-agent\\builds\\buildkite-windows-cpu-autoscaling-group-i-0750514818a16474a-1\\xgboost\\xgboost-ci-windows\\src\\learner.cc:742: \n",
      "Parameters: { \"objectives\", \"verbose\" } are not used.\n",
      "\n",
      "  warnings.warn(smsg, UserWarning)\n"
     ]
    },
    {
     "name": "stdout",
     "output_type": "stream",
     "text": [
      "Train set RMSE: 0.42\n",
      "Test set RMSE: 0.49\n",
      "Tested on combination ['is_holiday', 'is_curfew', 'Max_Grav_accidents', 'hosp', 'rea']\n"
     ]
    },
    {
     "name": "stderr",
     "output_type": "stream",
     "text": [
      "C:\\Users\\Thomas\\anaconda3\\envs\\bikes-count\\lib\\site-packages\\xgboost\\core.py:160: UserWarning: [03:14:10] WARNING: C:\\buildkite-agent\\builds\\buildkite-windows-cpu-autoscaling-group-i-0750514818a16474a-1\\xgboost\\xgboost-ci-windows\\src\\learner.cc:742: \n",
      "Parameters: { \"objectives\", \"verbose\" } are not used.\n",
      "\n",
      "  warnings.warn(smsg, UserWarning)\n"
     ]
    },
    {
     "name": "stdout",
     "output_type": "stream",
     "text": [
      "Train set RMSE: 0.42\n",
      "Test set RMSE: 0.49\n",
      "Tested on combination ['is_holiday', 'is_curfew', 'Max_Grav_accidents', 'hosp', 'incid_rea']\n"
     ]
    },
    {
     "name": "stderr",
     "output_type": "stream",
     "text": [
      "C:\\Users\\Thomas\\anaconda3\\envs\\bikes-count\\lib\\site-packages\\xgboost\\core.py:160: UserWarning: [03:14:17] WARNING: C:\\buildkite-agent\\builds\\buildkite-windows-cpu-autoscaling-group-i-0750514818a16474a-1\\xgboost\\xgboost-ci-windows\\src\\learner.cc:742: \n",
      "Parameters: { \"objectives\", \"verbose\" } are not used.\n",
      "\n",
      "  warnings.warn(smsg, UserWarning)\n"
     ]
    },
    {
     "name": "stdout",
     "output_type": "stream",
     "text": [
      "Train set RMSE: 0.41\n",
      "Test set RMSE: 0.49\n",
      "Tested on combination ['is_holiday', 'is_curfew', 'Max_Grav_accidents', 'hosp', 'rad']\n"
     ]
    },
    {
     "name": "stderr",
     "output_type": "stream",
     "text": [
      "C:\\Users\\Thomas\\anaconda3\\envs\\bikes-count\\lib\\site-packages\\xgboost\\core.py:160: UserWarning: [03:14:23] WARNING: C:\\buildkite-agent\\builds\\buildkite-windows-cpu-autoscaling-group-i-0750514818a16474a-1\\xgboost\\xgboost-ci-windows\\src\\learner.cc:742: \n",
      "Parameters: { \"objectives\", \"verbose\" } are not used.\n",
      "\n",
      "  warnings.warn(smsg, UserWarning)\n"
     ]
    },
    {
     "name": "stdout",
     "output_type": "stream",
     "text": [
      "Train set RMSE: 0.42\n",
      "Test set RMSE: 0.48\n",
      "Tested on combination ['is_holiday', 'is_curfew', 'Max_Grav_accidents', 'hosp', 'Count_accidents']\n"
     ]
    },
    {
     "name": "stderr",
     "output_type": "stream",
     "text": [
      "C:\\Users\\Thomas\\anaconda3\\envs\\bikes-count\\lib\\site-packages\\xgboost\\core.py:160: UserWarning: [03:14:30] WARNING: C:\\buildkite-agent\\builds\\buildkite-windows-cpu-autoscaling-group-i-0750514818a16474a-1\\xgboost\\xgboost-ci-windows\\src\\learner.cc:742: \n",
      "Parameters: { \"objectives\", \"verbose\" } are not used.\n",
      "\n",
      "  warnings.warn(smsg, UserWarning)\n"
     ]
    },
    {
     "name": "stdout",
     "output_type": "stream",
     "text": [
      "Train set RMSE: 0.42\n",
      "Test set RMSE: 0.53\n",
      "Tested on combination ['is_holiday', 'is_curfew', 'Max_Grav_accidents', 'rea', 'incid_rea']\n"
     ]
    },
    {
     "name": "stderr",
     "output_type": "stream",
     "text": [
      "C:\\Users\\Thomas\\anaconda3\\envs\\bikes-count\\lib\\site-packages\\xgboost\\core.py:160: UserWarning: [03:14:37] WARNING: C:\\buildkite-agent\\builds\\buildkite-windows-cpu-autoscaling-group-i-0750514818a16474a-1\\xgboost\\xgboost-ci-windows\\src\\learner.cc:742: \n",
      "Parameters: { \"objectives\", \"verbose\" } are not used.\n",
      "\n",
      "  warnings.warn(smsg, UserWarning)\n"
     ]
    },
    {
     "name": "stdout",
     "output_type": "stream",
     "text": [
      "Train set RMSE: 0.41\n",
      "Test set RMSE: 0.53\n",
      "Tested on combination ['is_holiday', 'is_curfew', 'Max_Grav_accidents', 'rea', 'rad']\n"
     ]
    },
    {
     "name": "stderr",
     "output_type": "stream",
     "text": [
      "C:\\Users\\Thomas\\anaconda3\\envs\\bikes-count\\lib\\site-packages\\xgboost\\core.py:160: UserWarning: [03:14:43] WARNING: C:\\buildkite-agent\\builds\\buildkite-windows-cpu-autoscaling-group-i-0750514818a16474a-1\\xgboost\\xgboost-ci-windows\\src\\learner.cc:742: \n",
      "Parameters: { \"objectives\", \"verbose\" } are not used.\n",
      "\n",
      "  warnings.warn(smsg, UserWarning)\n"
     ]
    },
    {
     "name": "stdout",
     "output_type": "stream",
     "text": [
      "Train set RMSE: 0.42\n",
      "Test set RMSE: 0.50\n",
      "Tested on combination ['is_holiday', 'is_curfew', 'Max_Grav_accidents', 'rea', 'Count_accidents']\n"
     ]
    },
    {
     "name": "stderr",
     "output_type": "stream",
     "text": [
      "C:\\Users\\Thomas\\anaconda3\\envs\\bikes-count\\lib\\site-packages\\xgboost\\core.py:160: UserWarning: [03:14:50] WARNING: C:\\buildkite-agent\\builds\\buildkite-windows-cpu-autoscaling-group-i-0750514818a16474a-1\\xgboost\\xgboost-ci-windows\\src\\learner.cc:742: \n",
      "Parameters: { \"objectives\", \"verbose\" } are not used.\n",
      "\n",
      "  warnings.warn(smsg, UserWarning)\n"
     ]
    },
    {
     "name": "stdout",
     "output_type": "stream",
     "text": [
      "Train set RMSE: 0.41\n",
      "Test set RMSE: 0.51\n",
      "Tested on combination ['is_holiday', 'is_curfew', 'Max_Grav_accidents', 'incid_rea', 'rad']\n"
     ]
    },
    {
     "name": "stderr",
     "output_type": "stream",
     "text": [
      "C:\\Users\\Thomas\\anaconda3\\envs\\bikes-count\\lib\\site-packages\\xgboost\\core.py:160: UserWarning: [03:14:56] WARNING: C:\\buildkite-agent\\builds\\buildkite-windows-cpu-autoscaling-group-i-0750514818a16474a-1\\xgboost\\xgboost-ci-windows\\src\\learner.cc:742: \n",
      "Parameters: { \"objectives\", \"verbose\" } are not used.\n",
      "\n",
      "  warnings.warn(smsg, UserWarning)\n"
     ]
    },
    {
     "name": "stdout",
     "output_type": "stream",
     "text": [
      "Train set RMSE: 0.43\n",
      "Test set RMSE: 0.48\n",
      "Tested on combination ['is_holiday', 'is_curfew', 'Max_Grav_accidents', 'incid_rea', 'Count_accidents']\n"
     ]
    },
    {
     "name": "stderr",
     "output_type": "stream",
     "text": [
      "C:\\Users\\Thomas\\anaconda3\\envs\\bikes-count\\lib\\site-packages\\xgboost\\core.py:160: UserWarning: [03:15:03] WARNING: C:\\buildkite-agent\\builds\\buildkite-windows-cpu-autoscaling-group-i-0750514818a16474a-1\\xgboost\\xgboost-ci-windows\\src\\learner.cc:742: \n",
      "Parameters: { \"objectives\", \"verbose\" } are not used.\n",
      "\n",
      "  warnings.warn(smsg, UserWarning)\n"
     ]
    },
    {
     "name": "stdout",
     "output_type": "stream",
     "text": [
      "Train set RMSE: 0.41\n",
      "Test set RMSE: 0.53\n",
      "Tested on combination ['is_holiday', 'is_curfew', 'Max_Grav_accidents', 'rad', 'Count_accidents']\n"
     ]
    },
    {
     "name": "stderr",
     "output_type": "stream",
     "text": [
      "C:\\Users\\Thomas\\anaconda3\\envs\\bikes-count\\lib\\site-packages\\xgboost\\core.py:160: UserWarning: [03:15:09] WARNING: C:\\buildkite-agent\\builds\\buildkite-windows-cpu-autoscaling-group-i-0750514818a16474a-1\\xgboost\\xgboost-ci-windows\\src\\learner.cc:742: \n",
      "Parameters: { \"objectives\", \"verbose\" } are not used.\n",
      "\n",
      "  warnings.warn(smsg, UserWarning)\n"
     ]
    },
    {
     "name": "stdout",
     "output_type": "stream",
     "text": [
      "Train set RMSE: 0.41\n",
      "Test set RMSE: 0.48\n",
      "Tested on combination ['is_holiday', 'is_curfew', 'hosp', 'rea', 'incid_rea']\n"
     ]
    },
    {
     "name": "stderr",
     "output_type": "stream",
     "text": [
      "C:\\Users\\Thomas\\anaconda3\\envs\\bikes-count\\lib\\site-packages\\xgboost\\core.py:160: UserWarning: [03:15:15] WARNING: C:\\buildkite-agent\\builds\\buildkite-windows-cpu-autoscaling-group-i-0750514818a16474a-1\\xgboost\\xgboost-ci-windows\\src\\learner.cc:742: \n",
      "Parameters: { \"objectives\", \"verbose\" } are not used.\n",
      "\n",
      "  warnings.warn(smsg, UserWarning)\n"
     ]
    },
    {
     "name": "stdout",
     "output_type": "stream",
     "text": [
      "Train set RMSE: 0.41\n",
      "Test set RMSE: 0.50\n",
      "Tested on combination ['is_holiday', 'is_curfew', 'hosp', 'rea', 'rad']\n"
     ]
    },
    {
     "name": "stderr",
     "output_type": "stream",
     "text": [
      "C:\\Users\\Thomas\\anaconda3\\envs\\bikes-count\\lib\\site-packages\\xgboost\\core.py:160: UserWarning: [03:15:22] WARNING: C:\\buildkite-agent\\builds\\buildkite-windows-cpu-autoscaling-group-i-0750514818a16474a-1\\xgboost\\xgboost-ci-windows\\src\\learner.cc:742: \n",
      "Parameters: { \"objectives\", \"verbose\" } are not used.\n",
      "\n",
      "  warnings.warn(smsg, UserWarning)\n"
     ]
    },
    {
     "name": "stdout",
     "output_type": "stream",
     "text": [
      "Train set RMSE: 0.42\n",
      "Test set RMSE: 0.50\n",
      "Tested on combination ['is_holiday', 'is_curfew', 'hosp', 'rea', 'Count_accidents']\n"
     ]
    },
    {
     "name": "stderr",
     "output_type": "stream",
     "text": [
      "C:\\Users\\Thomas\\anaconda3\\envs\\bikes-count\\lib\\site-packages\\xgboost\\core.py:160: UserWarning: [03:15:28] WARNING: C:\\buildkite-agent\\builds\\buildkite-windows-cpu-autoscaling-group-i-0750514818a16474a-1\\xgboost\\xgboost-ci-windows\\src\\learner.cc:742: \n",
      "Parameters: { \"objectives\", \"verbose\" } are not used.\n",
      "\n",
      "  warnings.warn(smsg, UserWarning)\n"
     ]
    },
    {
     "name": "stdout",
     "output_type": "stream",
     "text": [
      "Train set RMSE: 0.41\n",
      "Test set RMSE: 0.51\n",
      "Tested on combination ['is_holiday', 'is_curfew', 'hosp', 'incid_rea', 'rad']\n"
     ]
    },
    {
     "name": "stderr",
     "output_type": "stream",
     "text": [
      "C:\\Users\\Thomas\\anaconda3\\envs\\bikes-count\\lib\\site-packages\\xgboost\\core.py:160: UserWarning: [03:15:35] WARNING: C:\\buildkite-agent\\builds\\buildkite-windows-cpu-autoscaling-group-i-0750514818a16474a-1\\xgboost\\xgboost-ci-windows\\src\\learner.cc:742: \n",
      "Parameters: { \"objectives\", \"verbose\" } are not used.\n",
      "\n",
      "  warnings.warn(smsg, UserWarning)\n"
     ]
    },
    {
     "name": "stdout",
     "output_type": "stream",
     "text": [
      "Train set RMSE: 0.42\n",
      "Test set RMSE: 0.51\n",
      "Tested on combination ['is_holiday', 'is_curfew', 'hosp', 'incid_rea', 'Count_accidents']\n"
     ]
    },
    {
     "name": "stderr",
     "output_type": "stream",
     "text": [
      "C:\\Users\\Thomas\\anaconda3\\envs\\bikes-count\\lib\\site-packages\\xgboost\\core.py:160: UserWarning: [03:15:42] WARNING: C:\\buildkite-agent\\builds\\buildkite-windows-cpu-autoscaling-group-i-0750514818a16474a-1\\xgboost\\xgboost-ci-windows\\src\\learner.cc:742: \n",
      "Parameters: { \"objectives\", \"verbose\" } are not used.\n",
      "\n",
      "  warnings.warn(smsg, UserWarning)\n"
     ]
    },
    {
     "name": "stdout",
     "output_type": "stream",
     "text": [
      "Train set RMSE: 0.41\n",
      "Test set RMSE: 0.50\n",
      "Tested on combination ['is_holiday', 'is_curfew', 'hosp', 'rad', 'Count_accidents']\n"
     ]
    },
    {
     "name": "stderr",
     "output_type": "stream",
     "text": [
      "C:\\Users\\Thomas\\anaconda3\\envs\\bikes-count\\lib\\site-packages\\xgboost\\core.py:160: UserWarning: [03:15:50] WARNING: C:\\buildkite-agent\\builds\\buildkite-windows-cpu-autoscaling-group-i-0750514818a16474a-1\\xgboost\\xgboost-ci-windows\\src\\learner.cc:742: \n",
      "Parameters: { \"objectives\", \"verbose\" } are not used.\n",
      "\n",
      "  warnings.warn(smsg, UserWarning)\n"
     ]
    },
    {
     "name": "stdout",
     "output_type": "stream",
     "text": [
      "Train set RMSE: 0.41\n",
      "Test set RMSE: 0.56\n",
      "Tested on combination ['is_holiday', 'is_curfew', 'rea', 'incid_rea', 'rad']\n"
     ]
    },
    {
     "name": "stderr",
     "output_type": "stream",
     "text": [
      "C:\\Users\\Thomas\\anaconda3\\envs\\bikes-count\\lib\\site-packages\\xgboost\\core.py:160: UserWarning: [03:15:57] WARNING: C:\\buildkite-agent\\builds\\buildkite-windows-cpu-autoscaling-group-i-0750514818a16474a-1\\xgboost\\xgboost-ci-windows\\src\\learner.cc:742: \n",
      "Parameters: { \"objectives\", \"verbose\" } are not used.\n",
      "\n",
      "  warnings.warn(smsg, UserWarning)\n"
     ]
    },
    {
     "name": "stdout",
     "output_type": "stream",
     "text": [
      "Train set RMSE: 0.42\n",
      "Test set RMSE: 0.52\n",
      "Tested on combination ['is_holiday', 'is_curfew', 'rea', 'incid_rea', 'Count_accidents']\n"
     ]
    },
    {
     "name": "stderr",
     "output_type": "stream",
     "text": [
      "C:\\Users\\Thomas\\anaconda3\\envs\\bikes-count\\lib\\site-packages\\xgboost\\core.py:160: UserWarning: [03:16:03] WARNING: C:\\buildkite-agent\\builds\\buildkite-windows-cpu-autoscaling-group-i-0750514818a16474a-1\\xgboost\\xgboost-ci-windows\\src\\learner.cc:742: \n",
      "Parameters: { \"objectives\", \"verbose\" } are not used.\n",
      "\n",
      "  warnings.warn(smsg, UserWarning)\n"
     ]
    },
    {
     "name": "stdout",
     "output_type": "stream",
     "text": [
      "Train set RMSE: 0.41\n",
      "Test set RMSE: 0.55\n",
      "Tested on combination ['is_holiday', 'is_curfew', 'rea', 'rad', 'Count_accidents']\n"
     ]
    },
    {
     "name": "stderr",
     "output_type": "stream",
     "text": [
      "C:\\Users\\Thomas\\anaconda3\\envs\\bikes-count\\lib\\site-packages\\xgboost\\core.py:160: UserWarning: [03:16:10] WARNING: C:\\buildkite-agent\\builds\\buildkite-windows-cpu-autoscaling-group-i-0750514818a16474a-1\\xgboost\\xgboost-ci-windows\\src\\learner.cc:742: \n",
      "Parameters: { \"objectives\", \"verbose\" } are not used.\n",
      "\n",
      "  warnings.warn(smsg, UserWarning)\n"
     ]
    },
    {
     "name": "stdout",
     "output_type": "stream",
     "text": [
      "Train set RMSE: 0.41\n",
      "Test set RMSE: 0.52\n",
      "Tested on combination ['is_holiday', 'is_curfew', 'incid_rea', 'rad', 'Count_accidents']\n"
     ]
    },
    {
     "name": "stderr",
     "output_type": "stream",
     "text": [
      "C:\\Users\\Thomas\\anaconda3\\envs\\bikes-count\\lib\\site-packages\\xgboost\\core.py:160: UserWarning: [03:16:16] WARNING: C:\\buildkite-agent\\builds\\buildkite-windows-cpu-autoscaling-group-i-0750514818a16474a-1\\xgboost\\xgboost-ci-windows\\src\\learner.cc:742: \n",
      "Parameters: { \"objectives\", \"verbose\" } are not used.\n",
      "\n",
      "  warnings.warn(smsg, UserWarning)\n"
     ]
    },
    {
     "name": "stdout",
     "output_type": "stream",
     "text": [
      "Train set RMSE: 0.42\n",
      "Test set RMSE: 0.48\n",
      "Tested on combination ['is_holiday', 'Max_Grav_accidents', 'hosp', 'rea', 'incid_rea']\n"
     ]
    },
    {
     "name": "stderr",
     "output_type": "stream",
     "text": [
      "C:\\Users\\Thomas\\anaconda3\\envs\\bikes-count\\lib\\site-packages\\xgboost\\core.py:160: UserWarning: [03:16:23] WARNING: C:\\buildkite-agent\\builds\\buildkite-windows-cpu-autoscaling-group-i-0750514818a16474a-1\\xgboost\\xgboost-ci-windows\\src\\learner.cc:742: \n",
      "Parameters: { \"objectives\", \"verbose\" } are not used.\n",
      "\n",
      "  warnings.warn(smsg, UserWarning)\n"
     ]
    },
    {
     "name": "stdout",
     "output_type": "stream",
     "text": [
      "Train set RMSE: 0.41\n",
      "Test set RMSE: 0.51\n",
      "Tested on combination ['is_holiday', 'Max_Grav_accidents', 'hosp', 'rea', 'rad']\n"
     ]
    },
    {
     "name": "stderr",
     "output_type": "stream",
     "text": [
      "C:\\Users\\Thomas\\anaconda3\\envs\\bikes-count\\lib\\site-packages\\xgboost\\core.py:160: UserWarning: [03:16:29] WARNING: C:\\buildkite-agent\\builds\\buildkite-windows-cpu-autoscaling-group-i-0750514818a16474a-1\\xgboost\\xgboost-ci-windows\\src\\learner.cc:742: \n",
      "Parameters: { \"objectives\", \"verbose\" } are not used.\n",
      "\n",
      "  warnings.warn(smsg, UserWarning)\n"
     ]
    },
    {
     "name": "stdout",
     "output_type": "stream",
     "text": [
      "Train set RMSE: 0.41\n",
      "Test set RMSE: 0.46\n",
      "Tested on combination ['is_holiday', 'Max_Grav_accidents', 'hosp', 'rea', 'Count_accidents']\n"
     ]
    },
    {
     "name": "stderr",
     "output_type": "stream",
     "text": [
      "C:\\Users\\Thomas\\anaconda3\\envs\\bikes-count\\lib\\site-packages\\xgboost\\core.py:160: UserWarning: [03:16:36] WARNING: C:\\buildkite-agent\\builds\\buildkite-windows-cpu-autoscaling-group-i-0750514818a16474a-1\\xgboost\\xgboost-ci-windows\\src\\learner.cc:742: \n",
      "Parameters: { \"objectives\", \"verbose\" } are not used.\n",
      "\n",
      "  warnings.warn(smsg, UserWarning)\n"
     ]
    },
    {
     "name": "stdout",
     "output_type": "stream",
     "text": [
      "Train set RMSE: 0.41\n",
      "Test set RMSE: 0.49\n",
      "Tested on combination ['is_holiday', 'Max_Grav_accidents', 'hosp', 'incid_rea', 'rad']\n"
     ]
    },
    {
     "name": "stderr",
     "output_type": "stream",
     "text": [
      "C:\\Users\\Thomas\\anaconda3\\envs\\bikes-count\\lib\\site-packages\\xgboost\\core.py:160: UserWarning: [03:16:42] WARNING: C:\\buildkite-agent\\builds\\buildkite-windows-cpu-autoscaling-group-i-0750514818a16474a-1\\xgboost\\xgboost-ci-windows\\src\\learner.cc:742: \n",
      "Parameters: { \"objectives\", \"verbose\" } are not used.\n",
      "\n",
      "  warnings.warn(smsg, UserWarning)\n"
     ]
    },
    {
     "name": "stdout",
     "output_type": "stream",
     "text": [
      "Train set RMSE: 0.41\n",
      "Test set RMSE: 0.48\n",
      "Tested on combination ['is_holiday', 'Max_Grav_accidents', 'hosp', 'incid_rea', 'Count_accidents']\n"
     ]
    },
    {
     "name": "stderr",
     "output_type": "stream",
     "text": [
      "C:\\Users\\Thomas\\anaconda3\\envs\\bikes-count\\lib\\site-packages\\xgboost\\core.py:160: UserWarning: [03:16:49] WARNING: C:\\buildkite-agent\\builds\\buildkite-windows-cpu-autoscaling-group-i-0750514818a16474a-1\\xgboost\\xgboost-ci-windows\\src\\learner.cc:742: \n",
      "Parameters: { \"objectives\", \"verbose\" } are not used.\n",
      "\n",
      "  warnings.warn(smsg, UserWarning)\n"
     ]
    },
    {
     "name": "stdout",
     "output_type": "stream",
     "text": [
      "Train set RMSE: 0.42\n",
      "Test set RMSE: 0.48\n",
      "Tested on combination ['is_holiday', 'Max_Grav_accidents', 'hosp', 'rad', 'Count_accidents']\n"
     ]
    },
    {
     "name": "stderr",
     "output_type": "stream",
     "text": [
      "C:\\Users\\Thomas\\anaconda3\\envs\\bikes-count\\lib\\site-packages\\xgboost\\core.py:160: UserWarning: [03:16:55] WARNING: C:\\buildkite-agent\\builds\\buildkite-windows-cpu-autoscaling-group-i-0750514818a16474a-1\\xgboost\\xgboost-ci-windows\\src\\learner.cc:742: \n",
      "Parameters: { \"objectives\", \"verbose\" } are not used.\n",
      "\n",
      "  warnings.warn(smsg, UserWarning)\n"
     ]
    },
    {
     "name": "stdout",
     "output_type": "stream",
     "text": [
      "Train set RMSE: 0.41\n",
      "Test set RMSE: 0.55\n",
      "Tested on combination ['is_holiday', 'Max_Grav_accidents', 'rea', 'incid_rea', 'rad']\n"
     ]
    },
    {
     "name": "stderr",
     "output_type": "stream",
     "text": [
      "C:\\Users\\Thomas\\anaconda3\\envs\\bikes-count\\lib\\site-packages\\xgboost\\core.py:160: UserWarning: [03:17:02] WARNING: C:\\buildkite-agent\\builds\\buildkite-windows-cpu-autoscaling-group-i-0750514818a16474a-1\\xgboost\\xgboost-ci-windows\\src\\learner.cc:742: \n",
      "Parameters: { \"objectives\", \"verbose\" } are not used.\n",
      "\n",
      "  warnings.warn(smsg, UserWarning)\n"
     ]
    },
    {
     "name": "stdout",
     "output_type": "stream",
     "text": [
      "Train set RMSE: 0.42\n",
      "Test set RMSE: 0.53\n",
      "Tested on combination ['is_holiday', 'Max_Grav_accidents', 'rea', 'incid_rea', 'Count_accidents']\n"
     ]
    },
    {
     "name": "stderr",
     "output_type": "stream",
     "text": [
      "C:\\Users\\Thomas\\anaconda3\\envs\\bikes-count\\lib\\site-packages\\xgboost\\core.py:160: UserWarning: [03:17:09] WARNING: C:\\buildkite-agent\\builds\\buildkite-windows-cpu-autoscaling-group-i-0750514818a16474a-1\\xgboost\\xgboost-ci-windows\\src\\learner.cc:742: \n",
      "Parameters: { \"objectives\", \"verbose\" } are not used.\n",
      "\n",
      "  warnings.warn(smsg, UserWarning)\n"
     ]
    },
    {
     "name": "stdout",
     "output_type": "stream",
     "text": [
      "Train set RMSE: 0.41\n",
      "Test set RMSE: 0.53\n",
      "Tested on combination ['is_holiday', 'Max_Grav_accidents', 'rea', 'rad', 'Count_accidents']\n"
     ]
    },
    {
     "name": "stderr",
     "output_type": "stream",
     "text": [
      "C:\\Users\\Thomas\\anaconda3\\envs\\bikes-count\\lib\\site-packages\\xgboost\\core.py:160: UserWarning: [03:17:15] WARNING: C:\\buildkite-agent\\builds\\buildkite-windows-cpu-autoscaling-group-i-0750514818a16474a-1\\xgboost\\xgboost-ci-windows\\src\\learner.cc:742: \n",
      "Parameters: { \"objectives\", \"verbose\" } are not used.\n",
      "\n",
      "  warnings.warn(smsg, UserWarning)\n"
     ]
    },
    {
     "name": "stdout",
     "output_type": "stream",
     "text": [
      "Train set RMSE: 0.41\n",
      "Test set RMSE: 0.52\n",
      "Tested on combination ['is_holiday', 'Max_Grav_accidents', 'incid_rea', 'rad', 'Count_accidents']\n"
     ]
    },
    {
     "name": "stderr",
     "output_type": "stream",
     "text": [
      "C:\\Users\\Thomas\\anaconda3\\envs\\bikes-count\\lib\\site-packages\\xgboost\\core.py:160: UserWarning: [03:17:22] WARNING: C:\\buildkite-agent\\builds\\buildkite-windows-cpu-autoscaling-group-i-0750514818a16474a-1\\xgboost\\xgboost-ci-windows\\src\\learner.cc:742: \n",
      "Parameters: { \"objectives\", \"verbose\" } are not used.\n",
      "\n",
      "  warnings.warn(smsg, UserWarning)\n"
     ]
    },
    {
     "name": "stdout",
     "output_type": "stream",
     "text": [
      "Train set RMSE: 0.41\n",
      "Test set RMSE: 0.49\n",
      "Tested on combination ['is_holiday', 'hosp', 'rea', 'incid_rea', 'rad']\n"
     ]
    },
    {
     "name": "stderr",
     "output_type": "stream",
     "text": [
      "C:\\Users\\Thomas\\anaconda3\\envs\\bikes-count\\lib\\site-packages\\xgboost\\core.py:160: UserWarning: [03:17:28] WARNING: C:\\buildkite-agent\\builds\\buildkite-windows-cpu-autoscaling-group-i-0750514818a16474a-1\\xgboost\\xgboost-ci-windows\\src\\learner.cc:742: \n",
      "Parameters: { \"objectives\", \"verbose\" } are not used.\n",
      "\n",
      "  warnings.warn(smsg, UserWarning)\n"
     ]
    },
    {
     "name": "stdout",
     "output_type": "stream",
     "text": [
      "Train set RMSE: 0.42\n",
      "Test set RMSE: 0.47\n",
      "Tested on combination ['is_holiday', 'hosp', 'rea', 'incid_rea', 'Count_accidents']\n"
     ]
    },
    {
     "name": "stderr",
     "output_type": "stream",
     "text": [
      "C:\\Users\\Thomas\\anaconda3\\envs\\bikes-count\\lib\\site-packages\\xgboost\\core.py:160: UserWarning: [03:17:34] WARNING: C:\\buildkite-agent\\builds\\buildkite-windows-cpu-autoscaling-group-i-0750514818a16474a-1\\xgboost\\xgboost-ci-windows\\src\\learner.cc:742: \n",
      "Parameters: { \"objectives\", \"verbose\" } are not used.\n",
      "\n",
      "  warnings.warn(smsg, UserWarning)\n"
     ]
    },
    {
     "name": "stdout",
     "output_type": "stream",
     "text": [
      "Train set RMSE: 0.41\n",
      "Test set RMSE: 0.54\n",
      "Tested on combination ['is_holiday', 'hosp', 'rea', 'rad', 'Count_accidents']\n"
     ]
    },
    {
     "name": "stderr",
     "output_type": "stream",
     "text": [
      "C:\\Users\\Thomas\\anaconda3\\envs\\bikes-count\\lib\\site-packages\\xgboost\\core.py:160: UserWarning: [03:17:42] WARNING: C:\\buildkite-agent\\builds\\buildkite-windows-cpu-autoscaling-group-i-0750514818a16474a-1\\xgboost\\xgboost-ci-windows\\src\\learner.cc:742: \n",
      "Parameters: { \"objectives\", \"verbose\" } are not used.\n",
      "\n",
      "  warnings.warn(smsg, UserWarning)\n"
     ]
    },
    {
     "name": "stdout",
     "output_type": "stream",
     "text": [
      "Train set RMSE: 0.41\n",
      "Test set RMSE: 0.50\n",
      "Tested on combination ['is_holiday', 'hosp', 'incid_rea', 'rad', 'Count_accidents']\n"
     ]
    },
    {
     "name": "stderr",
     "output_type": "stream",
     "text": [
      "C:\\Users\\Thomas\\anaconda3\\envs\\bikes-count\\lib\\site-packages\\xgboost\\core.py:160: UserWarning: [03:17:48] WARNING: C:\\buildkite-agent\\builds\\buildkite-windows-cpu-autoscaling-group-i-0750514818a16474a-1\\xgboost\\xgboost-ci-windows\\src\\learner.cc:742: \n",
      "Parameters: { \"objectives\", \"verbose\" } are not used.\n",
      "\n",
      "  warnings.warn(smsg, UserWarning)\n"
     ]
    },
    {
     "name": "stdout",
     "output_type": "stream",
     "text": [
      "Train set RMSE: 0.41\n",
      "Test set RMSE: 0.53\n",
      "Tested on combination ['is_holiday', 'rea', 'incid_rea', 'rad', 'Count_accidents']\n"
     ]
    },
    {
     "name": "stderr",
     "output_type": "stream",
     "text": [
      "C:\\Users\\Thomas\\anaconda3\\envs\\bikes-count\\lib\\site-packages\\xgboost\\core.py:160: UserWarning: [03:17:55] WARNING: C:\\buildkite-agent\\builds\\buildkite-windows-cpu-autoscaling-group-i-0750514818a16474a-1\\xgboost\\xgboost-ci-windows\\src\\learner.cc:742: \n",
      "Parameters: { \"objectives\", \"verbose\" } are not used.\n",
      "\n",
      "  warnings.warn(smsg, UserWarning)\n"
     ]
    },
    {
     "name": "stdout",
     "output_type": "stream",
     "text": [
      "Train set RMSE: 0.42\n",
      "Test set RMSE: 0.46\n",
      "Tested on combination ['is_weekend', 'is_lockdown', 'is_curfew', 'Max_Grav_accidents', 'hosp']\n"
     ]
    },
    {
     "name": "stderr",
     "output_type": "stream",
     "text": [
      "C:\\Users\\Thomas\\anaconda3\\envs\\bikes-count\\lib\\site-packages\\xgboost\\core.py:160: UserWarning: [03:18:01] WARNING: C:\\buildkite-agent\\builds\\buildkite-windows-cpu-autoscaling-group-i-0750514818a16474a-1\\xgboost\\xgboost-ci-windows\\src\\learner.cc:742: \n",
      "Parameters: { \"objectives\", \"verbose\" } are not used.\n",
      "\n",
      "  warnings.warn(smsg, UserWarning)\n"
     ]
    },
    {
     "name": "stdout",
     "output_type": "stream",
     "text": [
      "Train set RMSE: 0.42\n",
      "Test set RMSE: 0.51\n",
      "Tested on combination ['is_weekend', 'is_lockdown', 'is_curfew', 'Max_Grav_accidents', 'rea']\n"
     ]
    },
    {
     "name": "stderr",
     "output_type": "stream",
     "text": [
      "C:\\Users\\Thomas\\anaconda3\\envs\\bikes-count\\lib\\site-packages\\xgboost\\core.py:160: UserWarning: [03:18:07] WARNING: C:\\buildkite-agent\\builds\\buildkite-windows-cpu-autoscaling-group-i-0750514818a16474a-1\\xgboost\\xgboost-ci-windows\\src\\learner.cc:742: \n",
      "Parameters: { \"objectives\", \"verbose\" } are not used.\n",
      "\n",
      "  warnings.warn(smsg, UserWarning)\n"
     ]
    },
    {
     "name": "stdout",
     "output_type": "stream",
     "text": [
      "Train set RMSE: 0.42\n",
      "Test set RMSE: 0.49\n",
      "Tested on combination ['is_weekend', 'is_lockdown', 'is_curfew', 'Max_Grav_accidents', 'incid_rea']\n"
     ]
    },
    {
     "name": "stderr",
     "output_type": "stream",
     "text": [
      "C:\\Users\\Thomas\\anaconda3\\envs\\bikes-count\\lib\\site-packages\\xgboost\\core.py:160: UserWarning: [03:18:14] WARNING: C:\\buildkite-agent\\builds\\buildkite-windows-cpu-autoscaling-group-i-0750514818a16474a-1\\xgboost\\xgboost-ci-windows\\src\\learner.cc:742: \n",
      "Parameters: { \"objectives\", \"verbose\" } are not used.\n",
      "\n",
      "  warnings.warn(smsg, UserWarning)\n"
     ]
    },
    {
     "name": "stdout",
     "output_type": "stream",
     "text": [
      "Train set RMSE: 0.42\n",
      "Test set RMSE: 0.51\n",
      "Tested on combination ['is_weekend', 'is_lockdown', 'is_curfew', 'Max_Grav_accidents', 'rad']\n"
     ]
    },
    {
     "name": "stderr",
     "output_type": "stream",
     "text": [
      "C:\\Users\\Thomas\\anaconda3\\envs\\bikes-count\\lib\\site-packages\\xgboost\\core.py:160: UserWarning: [03:18:20] WARNING: C:\\buildkite-agent\\builds\\buildkite-windows-cpu-autoscaling-group-i-0750514818a16474a-1\\xgboost\\xgboost-ci-windows\\src\\learner.cc:742: \n",
      "Parameters: { \"objectives\", \"verbose\" } are not used.\n",
      "\n",
      "  warnings.warn(smsg, UserWarning)\n"
     ]
    },
    {
     "name": "stdout",
     "output_type": "stream",
     "text": [
      "Train set RMSE: 0.43\n",
      "Test set RMSE: 0.48\n",
      "Tested on combination ['is_weekend', 'is_lockdown', 'is_curfew', 'Max_Grav_accidents', 'Count_accidents']\n"
     ]
    },
    {
     "name": "stderr",
     "output_type": "stream",
     "text": [
      "C:\\Users\\Thomas\\anaconda3\\envs\\bikes-count\\lib\\site-packages\\xgboost\\core.py:160: UserWarning: [03:18:27] WARNING: C:\\buildkite-agent\\builds\\buildkite-windows-cpu-autoscaling-group-i-0750514818a16474a-1\\xgboost\\xgboost-ci-windows\\src\\learner.cc:742: \n",
      "Parameters: { \"objectives\", \"verbose\" } are not used.\n",
      "\n",
      "  warnings.warn(smsg, UserWarning)\n"
     ]
    },
    {
     "name": "stdout",
     "output_type": "stream",
     "text": [
      "Train set RMSE: 0.42\n",
      "Test set RMSE: 0.49\n",
      "Tested on combination ['is_weekend', 'is_lockdown', 'is_curfew', 'hosp', 'rea']\n"
     ]
    },
    {
     "name": "stderr",
     "output_type": "stream",
     "text": [
      "C:\\Users\\Thomas\\anaconda3\\envs\\bikes-count\\lib\\site-packages\\xgboost\\core.py:160: UserWarning: [03:18:33] WARNING: C:\\buildkite-agent\\builds\\buildkite-windows-cpu-autoscaling-group-i-0750514818a16474a-1\\xgboost\\xgboost-ci-windows\\src\\learner.cc:742: \n",
      "Parameters: { \"objectives\", \"verbose\" } are not used.\n",
      "\n",
      "  warnings.warn(smsg, UserWarning)\n"
     ]
    },
    {
     "name": "stdout",
     "output_type": "stream",
     "text": [
      "Train set RMSE: 0.42\n",
      "Test set RMSE: 0.48\n",
      "Tested on combination ['is_weekend', 'is_lockdown', 'is_curfew', 'hosp', 'incid_rea']\n"
     ]
    },
    {
     "name": "stderr",
     "output_type": "stream",
     "text": [
      "C:\\Users\\Thomas\\anaconda3\\envs\\bikes-count\\lib\\site-packages\\xgboost\\core.py:160: UserWarning: [03:18:39] WARNING: C:\\buildkite-agent\\builds\\buildkite-windows-cpu-autoscaling-group-i-0750514818a16474a-1\\xgboost\\xgboost-ci-windows\\src\\learner.cc:742: \n",
      "Parameters: { \"objectives\", \"verbose\" } are not used.\n",
      "\n",
      "  warnings.warn(smsg, UserWarning)\n"
     ]
    },
    {
     "name": "stdout",
     "output_type": "stream",
     "text": [
      "Train set RMSE: 0.42\n",
      "Test set RMSE: 0.50\n",
      "Tested on combination ['is_weekend', 'is_lockdown', 'is_curfew', 'hosp', 'rad']\n"
     ]
    },
    {
     "name": "stderr",
     "output_type": "stream",
     "text": [
      "C:\\Users\\Thomas\\anaconda3\\envs\\bikes-count\\lib\\site-packages\\xgboost\\core.py:160: UserWarning: [03:18:46] WARNING: C:\\buildkite-agent\\builds\\buildkite-windows-cpu-autoscaling-group-i-0750514818a16474a-1\\xgboost\\xgboost-ci-windows\\src\\learner.cc:742: \n",
      "Parameters: { \"objectives\", \"verbose\" } are not used.\n",
      "\n",
      "  warnings.warn(smsg, UserWarning)\n"
     ]
    },
    {
     "name": "stdout",
     "output_type": "stream",
     "text": [
      "Train set RMSE: 0.42\n",
      "Test set RMSE: 0.46\n",
      "Tested on combination ['is_weekend', 'is_lockdown', 'is_curfew', 'hosp', 'Count_accidents']\n"
     ]
    },
    {
     "name": "stderr",
     "output_type": "stream",
     "text": [
      "C:\\Users\\Thomas\\anaconda3\\envs\\bikes-count\\lib\\site-packages\\xgboost\\core.py:160: UserWarning: [03:18:52] WARNING: C:\\buildkite-agent\\builds\\buildkite-windows-cpu-autoscaling-group-i-0750514818a16474a-1\\xgboost\\xgboost-ci-windows\\src\\learner.cc:742: \n",
      "Parameters: { \"objectives\", \"verbose\" } are not used.\n",
      "\n",
      "  warnings.warn(smsg, UserWarning)\n"
     ]
    },
    {
     "name": "stdout",
     "output_type": "stream",
     "text": [
      "Train set RMSE: 0.42\n",
      "Test set RMSE: 0.53\n",
      "Tested on combination ['is_weekend', 'is_lockdown', 'is_curfew', 'rea', 'incid_rea']\n"
     ]
    },
    {
     "name": "stderr",
     "output_type": "stream",
     "text": [
      "C:\\Users\\Thomas\\anaconda3\\envs\\bikes-count\\lib\\site-packages\\xgboost\\core.py:160: UserWarning: [03:18:59] WARNING: C:\\buildkite-agent\\builds\\buildkite-windows-cpu-autoscaling-group-i-0750514818a16474a-1\\xgboost\\xgboost-ci-windows\\src\\learner.cc:742: \n",
      "Parameters: { \"objectives\", \"verbose\" } are not used.\n",
      "\n",
      "  warnings.warn(smsg, UserWarning)\n"
     ]
    },
    {
     "name": "stdout",
     "output_type": "stream",
     "text": [
      "Train set RMSE: 0.42\n",
      "Test set RMSE: 0.51\n",
      "Tested on combination ['is_weekend', 'is_lockdown', 'is_curfew', 'rea', 'rad']\n"
     ]
    },
    {
     "name": "stderr",
     "output_type": "stream",
     "text": [
      "C:\\Users\\Thomas\\anaconda3\\envs\\bikes-count\\lib\\site-packages\\xgboost\\core.py:160: UserWarning: [03:19:05] WARNING: C:\\buildkite-agent\\builds\\buildkite-windows-cpu-autoscaling-group-i-0750514818a16474a-1\\xgboost\\xgboost-ci-windows\\src\\learner.cc:742: \n",
      "Parameters: { \"objectives\", \"verbose\" } are not used.\n",
      "\n",
      "  warnings.warn(smsg, UserWarning)\n"
     ]
    },
    {
     "name": "stdout",
     "output_type": "stream",
     "text": [
      "Train set RMSE: 0.42\n",
      "Test set RMSE: 0.48\n",
      "Tested on combination ['is_weekend', 'is_lockdown', 'is_curfew', 'rea', 'Count_accidents']\n"
     ]
    },
    {
     "name": "stderr",
     "output_type": "stream",
     "text": [
      "C:\\Users\\Thomas\\anaconda3\\envs\\bikes-count\\lib\\site-packages\\xgboost\\core.py:160: UserWarning: [03:19:11] WARNING: C:\\buildkite-agent\\builds\\buildkite-windows-cpu-autoscaling-group-i-0750514818a16474a-1\\xgboost\\xgboost-ci-windows\\src\\learner.cc:742: \n",
      "Parameters: { \"objectives\", \"verbose\" } are not used.\n",
      "\n",
      "  warnings.warn(smsg, UserWarning)\n"
     ]
    },
    {
     "name": "stdout",
     "output_type": "stream",
     "text": [
      "Train set RMSE: 0.42\n",
      "Test set RMSE: 0.51\n",
      "Tested on combination ['is_weekend', 'is_lockdown', 'is_curfew', 'incid_rea', 'rad']\n"
     ]
    },
    {
     "name": "stderr",
     "output_type": "stream",
     "text": [
      "C:\\Users\\Thomas\\anaconda3\\envs\\bikes-count\\lib\\site-packages\\xgboost\\core.py:160: UserWarning: [03:19:18] WARNING: C:\\buildkite-agent\\builds\\buildkite-windows-cpu-autoscaling-group-i-0750514818a16474a-1\\xgboost\\xgboost-ci-windows\\src\\learner.cc:742: \n",
      "Parameters: { \"objectives\", \"verbose\" } are not used.\n",
      "\n",
      "  warnings.warn(smsg, UserWarning)\n"
     ]
    },
    {
     "name": "stdout",
     "output_type": "stream",
     "text": [
      "Train set RMSE: 0.43\n",
      "Test set RMSE: 0.51\n",
      "Tested on combination ['is_weekend', 'is_lockdown', 'is_curfew', 'incid_rea', 'Count_accidents']\n"
     ]
    },
    {
     "name": "stderr",
     "output_type": "stream",
     "text": [
      "C:\\Users\\Thomas\\anaconda3\\envs\\bikes-count\\lib\\site-packages\\xgboost\\core.py:160: UserWarning: [03:19:24] WARNING: C:\\buildkite-agent\\builds\\buildkite-windows-cpu-autoscaling-group-i-0750514818a16474a-1\\xgboost\\xgboost-ci-windows\\src\\learner.cc:742: \n",
      "Parameters: { \"objectives\", \"verbose\" } are not used.\n",
      "\n",
      "  warnings.warn(smsg, UserWarning)\n"
     ]
    },
    {
     "name": "stdout",
     "output_type": "stream",
     "text": [
      "Train set RMSE: 0.42\n",
      "Test set RMSE: 0.52\n",
      "Tested on combination ['is_weekend', 'is_lockdown', 'is_curfew', 'rad', 'Count_accidents']\n"
     ]
    },
    {
     "name": "stderr",
     "output_type": "stream",
     "text": [
      "C:\\Users\\Thomas\\anaconda3\\envs\\bikes-count\\lib\\site-packages\\xgboost\\core.py:160: UserWarning: [03:19:31] WARNING: C:\\buildkite-agent\\builds\\buildkite-windows-cpu-autoscaling-group-i-0750514818a16474a-1\\xgboost\\xgboost-ci-windows\\src\\learner.cc:742: \n",
      "Parameters: { \"objectives\", \"verbose\" } are not used.\n",
      "\n",
      "  warnings.warn(smsg, UserWarning)\n"
     ]
    },
    {
     "name": "stdout",
     "output_type": "stream",
     "text": [
      "Train set RMSE: 0.41\n",
      "Test set RMSE: 0.46\n",
      "Tested on combination ['is_weekend', 'is_lockdown', 'Max_Grav_accidents', 'hosp', 'rea']\n"
     ]
    },
    {
     "name": "stderr",
     "output_type": "stream",
     "text": [
      "C:\\Users\\Thomas\\anaconda3\\envs\\bikes-count\\lib\\site-packages\\xgboost\\core.py:160: UserWarning: [03:19:37] WARNING: C:\\buildkite-agent\\builds\\buildkite-windows-cpu-autoscaling-group-i-0750514818a16474a-1\\xgboost\\xgboost-ci-windows\\src\\learner.cc:742: \n",
      "Parameters: { \"objectives\", \"verbose\" } are not used.\n",
      "\n",
      "  warnings.warn(smsg, UserWarning)\n"
     ]
    },
    {
     "name": "stdout",
     "output_type": "stream",
     "text": [
      "Train set RMSE: 0.42\n",
      "Test set RMSE: 0.47\n",
      "Tested on combination ['is_weekend', 'is_lockdown', 'Max_Grav_accidents', 'hosp', 'incid_rea']\n"
     ]
    },
    {
     "name": "stderr",
     "output_type": "stream",
     "text": [
      "C:\\Users\\Thomas\\anaconda3\\envs\\bikes-count\\lib\\site-packages\\xgboost\\core.py:160: UserWarning: [03:19:44] WARNING: C:\\buildkite-agent\\builds\\buildkite-windows-cpu-autoscaling-group-i-0750514818a16474a-1\\xgboost\\xgboost-ci-windows\\src\\learner.cc:742: \n",
      "Parameters: { \"objectives\", \"verbose\" } are not used.\n",
      "\n",
      "  warnings.warn(smsg, UserWarning)\n"
     ]
    },
    {
     "name": "stdout",
     "output_type": "stream",
     "text": [
      "Train set RMSE: 0.41\n",
      "Test set RMSE: 0.48\n",
      "Tested on combination ['is_weekend', 'is_lockdown', 'Max_Grav_accidents', 'hosp', 'rad']\n"
     ]
    },
    {
     "name": "stderr",
     "output_type": "stream",
     "text": [
      "C:\\Users\\Thomas\\anaconda3\\envs\\bikes-count\\lib\\site-packages\\xgboost\\core.py:160: UserWarning: [03:19:50] WARNING: C:\\buildkite-agent\\builds\\buildkite-windows-cpu-autoscaling-group-i-0750514818a16474a-1\\xgboost\\xgboost-ci-windows\\src\\learner.cc:742: \n",
      "Parameters: { \"objectives\", \"verbose\" } are not used.\n",
      "\n",
      "  warnings.warn(smsg, UserWarning)\n"
     ]
    },
    {
     "name": "stdout",
     "output_type": "stream",
     "text": [
      "Train set RMSE: 0.42\n",
      "Test set RMSE: 0.46\n",
      "Tested on combination ['is_weekend', 'is_lockdown', 'Max_Grav_accidents', 'hosp', 'Count_accidents']\n"
     ]
    },
    {
     "name": "stderr",
     "output_type": "stream",
     "text": [
      "C:\\Users\\Thomas\\anaconda3\\envs\\bikes-count\\lib\\site-packages\\xgboost\\core.py:160: UserWarning: [03:19:57] WARNING: C:\\buildkite-agent\\builds\\buildkite-windows-cpu-autoscaling-group-i-0750514818a16474a-1\\xgboost\\xgboost-ci-windows\\src\\learner.cc:742: \n",
      "Parameters: { \"objectives\", \"verbose\" } are not used.\n",
      "\n",
      "  warnings.warn(smsg, UserWarning)\n"
     ]
    },
    {
     "name": "stdout",
     "output_type": "stream",
     "text": [
      "Train set RMSE: 0.42\n",
      "Test set RMSE: 0.51\n",
      "Tested on combination ['is_weekend', 'is_lockdown', 'Max_Grav_accidents', 'rea', 'incid_rea']\n"
     ]
    },
    {
     "name": "stderr",
     "output_type": "stream",
     "text": [
      "C:\\Users\\Thomas\\anaconda3\\envs\\bikes-count\\lib\\site-packages\\xgboost\\core.py:160: UserWarning: [03:20:03] WARNING: C:\\buildkite-agent\\builds\\buildkite-windows-cpu-autoscaling-group-i-0750514818a16474a-1\\xgboost\\xgboost-ci-windows\\src\\learner.cc:742: \n",
      "Parameters: { \"objectives\", \"verbose\" } are not used.\n",
      "\n",
      "  warnings.warn(smsg, UserWarning)\n"
     ]
    },
    {
     "name": "stdout",
     "output_type": "stream",
     "text": [
      "Train set RMSE: 0.42\n",
      "Test set RMSE: 0.52\n",
      "Tested on combination ['is_weekend', 'is_lockdown', 'Max_Grav_accidents', 'rea', 'rad']\n"
     ]
    },
    {
     "name": "stderr",
     "output_type": "stream",
     "text": [
      "C:\\Users\\Thomas\\anaconda3\\envs\\bikes-count\\lib\\site-packages\\xgboost\\core.py:160: UserWarning: [03:20:09] WARNING: C:\\buildkite-agent\\builds\\buildkite-windows-cpu-autoscaling-group-i-0750514818a16474a-1\\xgboost\\xgboost-ci-windows\\src\\learner.cc:742: \n",
      "Parameters: { \"objectives\", \"verbose\" } are not used.\n",
      "\n",
      "  warnings.warn(smsg, UserWarning)\n"
     ]
    },
    {
     "name": "stdout",
     "output_type": "stream",
     "text": [
      "Train set RMSE: 0.42\n",
      "Test set RMSE: 0.50\n",
      "Tested on combination ['is_weekend', 'is_lockdown', 'Max_Grav_accidents', 'rea', 'Count_accidents']\n"
     ]
    },
    {
     "name": "stderr",
     "output_type": "stream",
     "text": [
      "C:\\Users\\Thomas\\anaconda3\\envs\\bikes-count\\lib\\site-packages\\xgboost\\core.py:160: UserWarning: [03:20:16] WARNING: C:\\buildkite-agent\\builds\\buildkite-windows-cpu-autoscaling-group-i-0750514818a16474a-1\\xgboost\\xgboost-ci-windows\\src\\learner.cc:742: \n",
      "Parameters: { \"objectives\", \"verbose\" } are not used.\n",
      "\n",
      "  warnings.warn(smsg, UserWarning)\n"
     ]
    },
    {
     "name": "stdout",
     "output_type": "stream",
     "text": [
      "Train set RMSE: 0.41\n",
      "Test set RMSE: 0.51\n",
      "Tested on combination ['is_weekend', 'is_lockdown', 'Max_Grav_accidents', 'incid_rea', 'rad']\n"
     ]
    },
    {
     "name": "stderr",
     "output_type": "stream",
     "text": [
      "C:\\Users\\Thomas\\anaconda3\\envs\\bikes-count\\lib\\site-packages\\xgboost\\core.py:160: UserWarning: [03:20:23] WARNING: C:\\buildkite-agent\\builds\\buildkite-windows-cpu-autoscaling-group-i-0750514818a16474a-1\\xgboost\\xgboost-ci-windows\\src\\learner.cc:742: \n",
      "Parameters: { \"objectives\", \"verbose\" } are not used.\n",
      "\n",
      "  warnings.warn(smsg, UserWarning)\n"
     ]
    },
    {
     "name": "stdout",
     "output_type": "stream",
     "text": [
      "Train set RMSE: 0.43\n",
      "Test set RMSE: 0.48\n",
      "Tested on combination ['is_weekend', 'is_lockdown', 'Max_Grav_accidents', 'incid_rea', 'Count_accidents']\n"
     ]
    },
    {
     "name": "stderr",
     "output_type": "stream",
     "text": [
      "C:\\Users\\Thomas\\anaconda3\\envs\\bikes-count\\lib\\site-packages\\xgboost\\core.py:160: UserWarning: [03:20:29] WARNING: C:\\buildkite-agent\\builds\\buildkite-windows-cpu-autoscaling-group-i-0750514818a16474a-1\\xgboost\\xgboost-ci-windows\\src\\learner.cc:742: \n",
      "Parameters: { \"objectives\", \"verbose\" } are not used.\n",
      "\n",
      "  warnings.warn(smsg, UserWarning)\n"
     ]
    },
    {
     "name": "stdout",
     "output_type": "stream",
     "text": [
      "Train set RMSE: 0.42\n",
      "Test set RMSE: 0.50\n",
      "Tested on combination ['is_weekend', 'is_lockdown', 'Max_Grav_accidents', 'rad', 'Count_accidents']\n"
     ]
    },
    {
     "name": "stderr",
     "output_type": "stream",
     "text": [
      "C:\\Users\\Thomas\\anaconda3\\envs\\bikes-count\\lib\\site-packages\\xgboost\\core.py:160: UserWarning: [03:20:36] WARNING: C:\\buildkite-agent\\builds\\buildkite-windows-cpu-autoscaling-group-i-0750514818a16474a-1\\xgboost\\xgboost-ci-windows\\src\\learner.cc:742: \n",
      "Parameters: { \"objectives\", \"verbose\" } are not used.\n",
      "\n",
      "  warnings.warn(smsg, UserWarning)\n"
     ]
    },
    {
     "name": "stdout",
     "output_type": "stream",
     "text": [
      "Train set RMSE: 0.42\n",
      "Test set RMSE: 0.49\n",
      "Tested on combination ['is_weekend', 'is_lockdown', 'hosp', 'rea', 'incid_rea']\n"
     ]
    },
    {
     "name": "stderr",
     "output_type": "stream",
     "text": [
      "C:\\Users\\Thomas\\anaconda3\\envs\\bikes-count\\lib\\site-packages\\xgboost\\core.py:160: UserWarning: [03:20:42] WARNING: C:\\buildkite-agent\\builds\\buildkite-windows-cpu-autoscaling-group-i-0750514818a16474a-1\\xgboost\\xgboost-ci-windows\\src\\learner.cc:742: \n",
      "Parameters: { \"objectives\", \"verbose\" } are not used.\n",
      "\n",
      "  warnings.warn(smsg, UserWarning)\n"
     ]
    },
    {
     "name": "stdout",
     "output_type": "stream",
     "text": [
      "Train set RMSE: 0.41\n",
      "Test set RMSE: 0.51\n",
      "Tested on combination ['is_weekend', 'is_lockdown', 'hosp', 'rea', 'rad']\n"
     ]
    },
    {
     "name": "stderr",
     "output_type": "stream",
     "text": [
      "C:\\Users\\Thomas\\anaconda3\\envs\\bikes-count\\lib\\site-packages\\xgboost\\core.py:160: UserWarning: [03:20:49] WARNING: C:\\buildkite-agent\\builds\\buildkite-windows-cpu-autoscaling-group-i-0750514818a16474a-1\\xgboost\\xgboost-ci-windows\\src\\learner.cc:742: \n",
      "Parameters: { \"objectives\", \"verbose\" } are not used.\n",
      "\n",
      "  warnings.warn(smsg, UserWarning)\n"
     ]
    },
    {
     "name": "stdout",
     "output_type": "stream",
     "text": [
      "Train set RMSE: 0.42\n",
      "Test set RMSE: 0.46\n",
      "Tested on combination ['is_weekend', 'is_lockdown', 'hosp', 'rea', 'Count_accidents']\n"
     ]
    },
    {
     "name": "stderr",
     "output_type": "stream",
     "text": [
      "C:\\Users\\Thomas\\anaconda3\\envs\\bikes-count\\lib\\site-packages\\xgboost\\core.py:160: UserWarning: [03:20:56] WARNING: C:\\buildkite-agent\\builds\\buildkite-windows-cpu-autoscaling-group-i-0750514818a16474a-1\\xgboost\\xgboost-ci-windows\\src\\learner.cc:742: \n",
      "Parameters: { \"objectives\", \"verbose\" } are not used.\n",
      "\n",
      "  warnings.warn(smsg, UserWarning)\n"
     ]
    },
    {
     "name": "stdout",
     "output_type": "stream",
     "text": [
      "Train set RMSE: 0.41\n",
      "Test set RMSE: 0.48\n",
      "Tested on combination ['is_weekend', 'is_lockdown', 'hosp', 'incid_rea', 'rad']\n"
     ]
    },
    {
     "name": "stderr",
     "output_type": "stream",
     "text": [
      "C:\\Users\\Thomas\\anaconda3\\envs\\bikes-count\\lib\\site-packages\\xgboost\\core.py:160: UserWarning: [03:21:02] WARNING: C:\\buildkite-agent\\builds\\buildkite-windows-cpu-autoscaling-group-i-0750514818a16474a-1\\xgboost\\xgboost-ci-windows\\src\\learner.cc:742: \n",
      "Parameters: { \"objectives\", \"verbose\" } are not used.\n",
      "\n",
      "  warnings.warn(smsg, UserWarning)\n"
     ]
    },
    {
     "name": "stdout",
     "output_type": "stream",
     "text": [
      "Train set RMSE: 0.42\n",
      "Test set RMSE: 0.48\n",
      "Tested on combination ['is_weekend', 'is_lockdown', 'hosp', 'incid_rea', 'Count_accidents']\n"
     ]
    },
    {
     "name": "stderr",
     "output_type": "stream",
     "text": [
      "C:\\Users\\Thomas\\anaconda3\\envs\\bikes-count\\lib\\site-packages\\xgboost\\core.py:160: UserWarning: [03:21:09] WARNING: C:\\buildkite-agent\\builds\\buildkite-windows-cpu-autoscaling-group-i-0750514818a16474a-1\\xgboost\\xgboost-ci-windows\\src\\learner.cc:742: \n",
      "Parameters: { \"objectives\", \"verbose\" } are not used.\n",
      "\n",
      "  warnings.warn(smsg, UserWarning)\n"
     ]
    },
    {
     "name": "stdout",
     "output_type": "stream",
     "text": [
      "Train set RMSE: 0.42\n",
      "Test set RMSE: 0.47\n",
      "Tested on combination ['is_weekend', 'is_lockdown', 'hosp', 'rad', 'Count_accidents']\n"
     ]
    },
    {
     "name": "stderr",
     "output_type": "stream",
     "text": [
      "C:\\Users\\Thomas\\anaconda3\\envs\\bikes-count\\lib\\site-packages\\xgboost\\core.py:160: UserWarning: [03:21:15] WARNING: C:\\buildkite-agent\\builds\\buildkite-windows-cpu-autoscaling-group-i-0750514818a16474a-1\\xgboost\\xgboost-ci-windows\\src\\learner.cc:742: \n",
      "Parameters: { \"objectives\", \"verbose\" } are not used.\n",
      "\n",
      "  warnings.warn(smsg, UserWarning)\n"
     ]
    },
    {
     "name": "stdout",
     "output_type": "stream",
     "text": [
      "Train set RMSE: 0.41\n",
      "Test set RMSE: 0.58\n",
      "Tested on combination ['is_weekend', 'is_lockdown', 'rea', 'incid_rea', 'rad']\n"
     ]
    },
    {
     "name": "stderr",
     "output_type": "stream",
     "text": [
      "C:\\Users\\Thomas\\anaconda3\\envs\\bikes-count\\lib\\site-packages\\xgboost\\core.py:160: UserWarning: [03:21:21] WARNING: C:\\buildkite-agent\\builds\\buildkite-windows-cpu-autoscaling-group-i-0750514818a16474a-1\\xgboost\\xgboost-ci-windows\\src\\learner.cc:742: \n",
      "Parameters: { \"objectives\", \"verbose\" } are not used.\n",
      "\n",
      "  warnings.warn(smsg, UserWarning)\n"
     ]
    },
    {
     "name": "stdout",
     "output_type": "stream",
     "text": [
      "Train set RMSE: 0.42\n",
      "Test set RMSE: 0.49\n",
      "Tested on combination ['is_weekend', 'is_lockdown', 'rea', 'incid_rea', 'Count_accidents']\n"
     ]
    },
    {
     "name": "stderr",
     "output_type": "stream",
     "text": [
      "C:\\Users\\Thomas\\anaconda3\\envs\\bikes-count\\lib\\site-packages\\xgboost\\core.py:160: UserWarning: [03:21:28] WARNING: C:\\buildkite-agent\\builds\\buildkite-windows-cpu-autoscaling-group-i-0750514818a16474a-1\\xgboost\\xgboost-ci-windows\\src\\learner.cc:742: \n",
      "Parameters: { \"objectives\", \"verbose\" } are not used.\n",
      "\n",
      "  warnings.warn(smsg, UserWarning)\n"
     ]
    },
    {
     "name": "stdout",
     "output_type": "stream",
     "text": [
      "Train set RMSE: 0.41\n",
      "Test set RMSE: 0.54\n",
      "Tested on combination ['is_weekend', 'is_lockdown', 'rea', 'rad', 'Count_accidents']\n"
     ]
    },
    {
     "name": "stderr",
     "output_type": "stream",
     "text": [
      "C:\\Users\\Thomas\\anaconda3\\envs\\bikes-count\\lib\\site-packages\\xgboost\\core.py:160: UserWarning: [03:21:34] WARNING: C:\\buildkite-agent\\builds\\buildkite-windows-cpu-autoscaling-group-i-0750514818a16474a-1\\xgboost\\xgboost-ci-windows\\src\\learner.cc:742: \n",
      "Parameters: { \"objectives\", \"verbose\" } are not used.\n",
      "\n",
      "  warnings.warn(smsg, UserWarning)\n"
     ]
    },
    {
     "name": "stdout",
     "output_type": "stream",
     "text": [
      "Train set RMSE: 0.41\n",
      "Test set RMSE: 0.50\n",
      "Tested on combination ['is_weekend', 'is_lockdown', 'incid_rea', 'rad', 'Count_accidents']\n"
     ]
    },
    {
     "name": "stderr",
     "output_type": "stream",
     "text": [
      "C:\\Users\\Thomas\\anaconda3\\envs\\bikes-count\\lib\\site-packages\\xgboost\\core.py:160: UserWarning: [03:21:41] WARNING: C:\\buildkite-agent\\builds\\buildkite-windows-cpu-autoscaling-group-i-0750514818a16474a-1\\xgboost\\xgboost-ci-windows\\src\\learner.cc:742: \n",
      "Parameters: { \"objectives\", \"verbose\" } are not used.\n",
      "\n",
      "  warnings.warn(smsg, UserWarning)\n"
     ]
    },
    {
     "name": "stdout",
     "output_type": "stream",
     "text": [
      "Train set RMSE: 0.42\n",
      "Test set RMSE: 0.47\n",
      "Tested on combination ['is_weekend', 'is_curfew', 'Max_Grav_accidents', 'hosp', 'rea']\n"
     ]
    },
    {
     "name": "stderr",
     "output_type": "stream",
     "text": [
      "C:\\Users\\Thomas\\anaconda3\\envs\\bikes-count\\lib\\site-packages\\xgboost\\core.py:160: UserWarning: [03:21:47] WARNING: C:\\buildkite-agent\\builds\\buildkite-windows-cpu-autoscaling-group-i-0750514818a16474a-1\\xgboost\\xgboost-ci-windows\\src\\learner.cc:742: \n",
      "Parameters: { \"objectives\", \"verbose\" } are not used.\n",
      "\n",
      "  warnings.warn(smsg, UserWarning)\n"
     ]
    },
    {
     "name": "stdout",
     "output_type": "stream",
     "text": [
      "Train set RMSE: 0.42\n",
      "Test set RMSE: 0.48\n",
      "Tested on combination ['is_weekend', 'is_curfew', 'Max_Grav_accidents', 'hosp', 'incid_rea']\n"
     ]
    },
    {
     "name": "stderr",
     "output_type": "stream",
     "text": [
      "C:\\Users\\Thomas\\anaconda3\\envs\\bikes-count\\lib\\site-packages\\xgboost\\core.py:160: UserWarning: [03:21:54] WARNING: C:\\buildkite-agent\\builds\\buildkite-windows-cpu-autoscaling-group-i-0750514818a16474a-1\\xgboost\\xgboost-ci-windows\\src\\learner.cc:742: \n",
      "Parameters: { \"objectives\", \"verbose\" } are not used.\n",
      "\n",
      "  warnings.warn(smsg, UserWarning)\n"
     ]
    },
    {
     "name": "stdout",
     "output_type": "stream",
     "text": [
      "Train set RMSE: 0.42\n",
      "Test set RMSE: 0.47\n",
      "Tested on combination ['is_weekend', 'is_curfew', 'Max_Grav_accidents', 'hosp', 'rad']\n"
     ]
    },
    {
     "name": "stderr",
     "output_type": "stream",
     "text": [
      "C:\\Users\\Thomas\\anaconda3\\envs\\bikes-count\\lib\\site-packages\\xgboost\\core.py:160: UserWarning: [03:22:00] WARNING: C:\\buildkite-agent\\builds\\buildkite-windows-cpu-autoscaling-group-i-0750514818a16474a-1\\xgboost\\xgboost-ci-windows\\src\\learner.cc:742: \n",
      "Parameters: { \"objectives\", \"verbose\" } are not used.\n",
      "\n",
      "  warnings.warn(smsg, UserWarning)\n"
     ]
    },
    {
     "name": "stdout",
     "output_type": "stream",
     "text": [
      "Train set RMSE: 0.42\n",
      "Test set RMSE: 0.46\n",
      "Tested on combination ['is_weekend', 'is_curfew', 'Max_Grav_accidents', 'hosp', 'Count_accidents']\n"
     ]
    },
    {
     "name": "stderr",
     "output_type": "stream",
     "text": [
      "C:\\Users\\Thomas\\anaconda3\\envs\\bikes-count\\lib\\site-packages\\xgboost\\core.py:160: UserWarning: [03:22:07] WARNING: C:\\buildkite-agent\\builds\\buildkite-windows-cpu-autoscaling-group-i-0750514818a16474a-1\\xgboost\\xgboost-ci-windows\\src\\learner.cc:742: \n",
      "Parameters: { \"objectives\", \"verbose\" } are not used.\n",
      "\n",
      "  warnings.warn(smsg, UserWarning)\n"
     ]
    },
    {
     "name": "stdout",
     "output_type": "stream",
     "text": [
      "Train set RMSE: 0.42\n",
      "Test set RMSE: 0.50\n",
      "Tested on combination ['is_weekend', 'is_curfew', 'Max_Grav_accidents', 'rea', 'incid_rea']\n"
     ]
    },
    {
     "name": "stderr",
     "output_type": "stream",
     "text": [
      "C:\\Users\\Thomas\\anaconda3\\envs\\bikes-count\\lib\\site-packages\\xgboost\\core.py:160: UserWarning: [03:22:14] WARNING: C:\\buildkite-agent\\builds\\buildkite-windows-cpu-autoscaling-group-i-0750514818a16474a-1\\xgboost\\xgboost-ci-windows\\src\\learner.cc:742: \n",
      "Parameters: { \"objectives\", \"verbose\" } are not used.\n",
      "\n",
      "  warnings.warn(smsg, UserWarning)\n"
     ]
    },
    {
     "name": "stdout",
     "output_type": "stream",
     "text": [
      "Train set RMSE: 0.41\n",
      "Test set RMSE: 0.52\n",
      "Tested on combination ['is_weekend', 'is_curfew', 'Max_Grav_accidents', 'rea', 'rad']\n"
     ]
    },
    {
     "name": "stderr",
     "output_type": "stream",
     "text": [
      "C:\\Users\\Thomas\\anaconda3\\envs\\bikes-count\\lib\\site-packages\\xgboost\\core.py:160: UserWarning: [03:22:20] WARNING: C:\\buildkite-agent\\builds\\buildkite-windows-cpu-autoscaling-group-i-0750514818a16474a-1\\xgboost\\xgboost-ci-windows\\src\\learner.cc:742: \n",
      "Parameters: { \"objectives\", \"verbose\" } are not used.\n",
      "\n",
      "  warnings.warn(smsg, UserWarning)\n"
     ]
    },
    {
     "name": "stdout",
     "output_type": "stream",
     "text": [
      "Train set RMSE: 0.42\n",
      "Test set RMSE: 0.50\n",
      "Tested on combination ['is_weekend', 'is_curfew', 'Max_Grav_accidents', 'rea', 'Count_accidents']\n"
     ]
    },
    {
     "name": "stderr",
     "output_type": "stream",
     "text": [
      "C:\\Users\\Thomas\\anaconda3\\envs\\bikes-count\\lib\\site-packages\\xgboost\\core.py:160: UserWarning: [03:22:26] WARNING: C:\\buildkite-agent\\builds\\buildkite-windows-cpu-autoscaling-group-i-0750514818a16474a-1\\xgboost\\xgboost-ci-windows\\src\\learner.cc:742: \n",
      "Parameters: { \"objectives\", \"verbose\" } are not used.\n",
      "\n",
      "  warnings.warn(smsg, UserWarning)\n"
     ]
    },
    {
     "name": "stdout",
     "output_type": "stream",
     "text": [
      "Train set RMSE: 0.43\n",
      "Test set RMSE: 0.50\n",
      "Tested on combination ['is_weekend', 'is_curfew', 'Max_Grav_accidents', 'incid_rea', 'rad']\n"
     ]
    },
    {
     "name": "stderr",
     "output_type": "stream",
     "text": [
      "C:\\Users\\Thomas\\anaconda3\\envs\\bikes-count\\lib\\site-packages\\xgboost\\core.py:160: UserWarning: [03:22:32] WARNING: C:\\buildkite-agent\\builds\\buildkite-windows-cpu-autoscaling-group-i-0750514818a16474a-1\\xgboost\\xgboost-ci-windows\\src\\learner.cc:742: \n",
      "Parameters: { \"objectives\", \"verbose\" } are not used.\n",
      "\n",
      "  warnings.warn(smsg, UserWarning)\n"
     ]
    },
    {
     "name": "stdout",
     "output_type": "stream",
     "text": [
      "Train set RMSE: 0.43\n",
      "Test set RMSE: 0.48\n",
      "Tested on combination ['is_weekend', 'is_curfew', 'Max_Grav_accidents', 'incid_rea', 'Count_accidents']\n"
     ]
    },
    {
     "name": "stderr",
     "output_type": "stream",
     "text": [
      "C:\\Users\\Thomas\\anaconda3\\envs\\bikes-count\\lib\\site-packages\\xgboost\\core.py:160: UserWarning: [03:22:39] WARNING: C:\\buildkite-agent\\builds\\buildkite-windows-cpu-autoscaling-group-i-0750514818a16474a-1\\xgboost\\xgboost-ci-windows\\src\\learner.cc:742: \n",
      "Parameters: { \"objectives\", \"verbose\" } are not used.\n",
      "\n",
      "  warnings.warn(smsg, UserWarning)\n"
     ]
    },
    {
     "name": "stdout",
     "output_type": "stream",
     "text": [
      "Train set RMSE: 0.42\n",
      "Test set RMSE: 0.53\n",
      "Tested on combination ['is_weekend', 'is_curfew', 'Max_Grav_accidents', 'rad', 'Count_accidents']\n"
     ]
    },
    {
     "name": "stderr",
     "output_type": "stream",
     "text": [
      "C:\\Users\\Thomas\\anaconda3\\envs\\bikes-count\\lib\\site-packages\\xgboost\\core.py:160: UserWarning: [03:22:45] WARNING: C:\\buildkite-agent\\builds\\buildkite-windows-cpu-autoscaling-group-i-0750514818a16474a-1\\xgboost\\xgboost-ci-windows\\src\\learner.cc:742: \n",
      "Parameters: { \"objectives\", \"verbose\" } are not used.\n",
      "\n",
      "  warnings.warn(smsg, UserWarning)\n"
     ]
    },
    {
     "name": "stdout",
     "output_type": "stream",
     "text": [
      "Train set RMSE: 0.42\n",
      "Test set RMSE: 0.49\n",
      "Tested on combination ['is_weekend', 'is_curfew', 'hosp', 'rea', 'incid_rea']\n"
     ]
    },
    {
     "name": "stderr",
     "output_type": "stream",
     "text": [
      "C:\\Users\\Thomas\\anaconda3\\envs\\bikes-count\\lib\\site-packages\\xgboost\\core.py:160: UserWarning: [03:22:52] WARNING: C:\\buildkite-agent\\builds\\buildkite-windows-cpu-autoscaling-group-i-0750514818a16474a-1\\xgboost\\xgboost-ci-windows\\src\\learner.cc:742: \n",
      "Parameters: { \"objectives\", \"verbose\" } are not used.\n",
      "\n",
      "  warnings.warn(smsg, UserWarning)\n"
     ]
    },
    {
     "name": "stdout",
     "output_type": "stream",
     "text": [
      "Train set RMSE: 0.41\n",
      "Test set RMSE: 0.52\n",
      "Tested on combination ['is_weekend', 'is_curfew', 'hosp', 'rea', 'rad']\n"
     ]
    },
    {
     "name": "stderr",
     "output_type": "stream",
     "text": [
      "C:\\Users\\Thomas\\anaconda3\\envs\\bikes-count\\lib\\site-packages\\xgboost\\core.py:160: UserWarning: [03:22:58] WARNING: C:\\buildkite-agent\\builds\\buildkite-windows-cpu-autoscaling-group-i-0750514818a16474a-1\\xgboost\\xgboost-ci-windows\\src\\learner.cc:742: \n",
      "Parameters: { \"objectives\", \"verbose\" } are not used.\n",
      "\n",
      "  warnings.warn(smsg, UserWarning)\n"
     ]
    },
    {
     "name": "stdout",
     "output_type": "stream",
     "text": [
      "Train set RMSE: 0.42\n",
      "Test set RMSE: 0.47\n",
      "Tested on combination ['is_weekend', 'is_curfew', 'hosp', 'rea', 'Count_accidents']\n"
     ]
    },
    {
     "name": "stderr",
     "output_type": "stream",
     "text": [
      "C:\\Users\\Thomas\\anaconda3\\envs\\bikes-count\\lib\\site-packages\\xgboost\\core.py:160: UserWarning: [03:23:04] WARNING: C:\\buildkite-agent\\builds\\buildkite-windows-cpu-autoscaling-group-i-0750514818a16474a-1\\xgboost\\xgboost-ci-windows\\src\\learner.cc:742: \n",
      "Parameters: { \"objectives\", \"verbose\" } are not used.\n",
      "\n",
      "  warnings.warn(smsg, UserWarning)\n"
     ]
    },
    {
     "name": "stdout",
     "output_type": "stream",
     "text": [
      "Train set RMSE: 0.41\n",
      "Test set RMSE: 0.49\n",
      "Tested on combination ['is_weekend', 'is_curfew', 'hosp', 'incid_rea', 'rad']\n"
     ]
    },
    {
     "name": "stderr",
     "output_type": "stream",
     "text": [
      "C:\\Users\\Thomas\\anaconda3\\envs\\bikes-count\\lib\\site-packages\\xgboost\\core.py:160: UserWarning: [03:23:11] WARNING: C:\\buildkite-agent\\builds\\buildkite-windows-cpu-autoscaling-group-i-0750514818a16474a-1\\xgboost\\xgboost-ci-windows\\src\\learner.cc:742: \n",
      "Parameters: { \"objectives\", \"verbose\" } are not used.\n",
      "\n",
      "  warnings.warn(smsg, UserWarning)\n"
     ]
    },
    {
     "name": "stdout",
     "output_type": "stream",
     "text": [
      "Train set RMSE: 0.42\n",
      "Test set RMSE: 0.47\n",
      "Tested on combination ['is_weekend', 'is_curfew', 'hosp', 'incid_rea', 'Count_accidents']\n"
     ]
    },
    {
     "name": "stderr",
     "output_type": "stream",
     "text": [
      "C:\\Users\\Thomas\\anaconda3\\envs\\bikes-count\\lib\\site-packages\\xgboost\\core.py:160: UserWarning: [03:23:17] WARNING: C:\\buildkite-agent\\builds\\buildkite-windows-cpu-autoscaling-group-i-0750514818a16474a-1\\xgboost\\xgboost-ci-windows\\src\\learner.cc:742: \n",
      "Parameters: { \"objectives\", \"verbose\" } are not used.\n",
      "\n",
      "  warnings.warn(smsg, UserWarning)\n"
     ]
    },
    {
     "name": "stdout",
     "output_type": "stream",
     "text": [
      "Train set RMSE: 0.42\n",
      "Test set RMSE: 0.48\n",
      "Tested on combination ['is_weekend', 'is_curfew', 'hosp', 'rad', 'Count_accidents']\n"
     ]
    },
    {
     "name": "stderr",
     "output_type": "stream",
     "text": [
      "C:\\Users\\Thomas\\anaconda3\\envs\\bikes-count\\lib\\site-packages\\xgboost\\core.py:160: UserWarning: [03:23:24] WARNING: C:\\buildkite-agent\\builds\\buildkite-windows-cpu-autoscaling-group-i-0750514818a16474a-1\\xgboost\\xgboost-ci-windows\\src\\learner.cc:742: \n",
      "Parameters: { \"objectives\", \"verbose\" } are not used.\n",
      "\n",
      "  warnings.warn(smsg, UserWarning)\n"
     ]
    },
    {
     "name": "stdout",
     "output_type": "stream",
     "text": [
      "Train set RMSE: 0.41\n",
      "Test set RMSE: 0.56\n",
      "Tested on combination ['is_weekend', 'is_curfew', 'rea', 'incid_rea', 'rad']\n"
     ]
    },
    {
     "name": "stderr",
     "output_type": "stream",
     "text": [
      "C:\\Users\\Thomas\\anaconda3\\envs\\bikes-count\\lib\\site-packages\\xgboost\\core.py:160: UserWarning: [03:23:30] WARNING: C:\\buildkite-agent\\builds\\buildkite-windows-cpu-autoscaling-group-i-0750514818a16474a-1\\xgboost\\xgboost-ci-windows\\src\\learner.cc:742: \n",
      "Parameters: { \"objectives\", \"verbose\" } are not used.\n",
      "\n",
      "  warnings.warn(smsg, UserWarning)\n"
     ]
    },
    {
     "name": "stdout",
     "output_type": "stream",
     "text": [
      "Train set RMSE: 0.42\n",
      "Test set RMSE: 0.50\n",
      "Tested on combination ['is_weekend', 'is_curfew', 'rea', 'incid_rea', 'Count_accidents']\n"
     ]
    },
    {
     "name": "stderr",
     "output_type": "stream",
     "text": [
      "C:\\Users\\Thomas\\anaconda3\\envs\\bikes-count\\lib\\site-packages\\xgboost\\core.py:160: UserWarning: [03:23:36] WARNING: C:\\buildkite-agent\\builds\\buildkite-windows-cpu-autoscaling-group-i-0750514818a16474a-1\\xgboost\\xgboost-ci-windows\\src\\learner.cc:742: \n",
      "Parameters: { \"objectives\", \"verbose\" } are not used.\n",
      "\n",
      "  warnings.warn(smsg, UserWarning)\n"
     ]
    },
    {
     "name": "stdout",
     "output_type": "stream",
     "text": [
      "Train set RMSE: 0.42\n",
      "Test set RMSE: 0.53\n",
      "Tested on combination ['is_weekend', 'is_curfew', 'rea', 'rad', 'Count_accidents']\n"
     ]
    },
    {
     "name": "stderr",
     "output_type": "stream",
     "text": [
      "C:\\Users\\Thomas\\anaconda3\\envs\\bikes-count\\lib\\site-packages\\xgboost\\core.py:160: UserWarning: [03:23:43] WARNING: C:\\buildkite-agent\\builds\\buildkite-windows-cpu-autoscaling-group-i-0750514818a16474a-1\\xgboost\\xgboost-ci-windows\\src\\learner.cc:742: \n",
      "Parameters: { \"objectives\", \"verbose\" } are not used.\n",
      "\n",
      "  warnings.warn(smsg, UserWarning)\n"
     ]
    },
    {
     "name": "stdout",
     "output_type": "stream",
     "text": [
      "Train set RMSE: 0.42\n",
      "Test set RMSE: 0.51\n",
      "Tested on combination ['is_weekend', 'is_curfew', 'incid_rea', 'rad', 'Count_accidents']\n"
     ]
    },
    {
     "name": "stderr",
     "output_type": "stream",
     "text": [
      "C:\\Users\\Thomas\\anaconda3\\envs\\bikes-count\\lib\\site-packages\\xgboost\\core.py:160: UserWarning: [03:23:49] WARNING: C:\\buildkite-agent\\builds\\buildkite-windows-cpu-autoscaling-group-i-0750514818a16474a-1\\xgboost\\xgboost-ci-windows\\src\\learner.cc:742: \n",
      "Parameters: { \"objectives\", \"verbose\" } are not used.\n",
      "\n",
      "  warnings.warn(smsg, UserWarning)\n"
     ]
    },
    {
     "name": "stdout",
     "output_type": "stream",
     "text": [
      "Train set RMSE: 0.42\n",
      "Test set RMSE: 0.49\n",
      "Tested on combination ['is_weekend', 'Max_Grav_accidents', 'hosp', 'rea', 'incid_rea']\n"
     ]
    },
    {
     "name": "stderr",
     "output_type": "stream",
     "text": [
      "C:\\Users\\Thomas\\anaconda3\\envs\\bikes-count\\lib\\site-packages\\xgboost\\core.py:160: UserWarning: [03:23:56] WARNING: C:\\buildkite-agent\\builds\\buildkite-windows-cpu-autoscaling-group-i-0750514818a16474a-1\\xgboost\\xgboost-ci-windows\\src\\learner.cc:742: \n",
      "Parameters: { \"objectives\", \"verbose\" } are not used.\n",
      "\n",
      "  warnings.warn(smsg, UserWarning)\n"
     ]
    },
    {
     "name": "stdout",
     "output_type": "stream",
     "text": [
      "Train set RMSE: 0.41\n",
      "Test set RMSE: 0.49\n",
      "Tested on combination ['is_weekend', 'Max_Grav_accidents', 'hosp', 'rea', 'rad']\n"
     ]
    },
    {
     "name": "stderr",
     "output_type": "stream",
     "text": [
      "C:\\Users\\Thomas\\anaconda3\\envs\\bikes-count\\lib\\site-packages\\xgboost\\core.py:160: UserWarning: [03:24:02] WARNING: C:\\buildkite-agent\\builds\\buildkite-windows-cpu-autoscaling-group-i-0750514818a16474a-1\\xgboost\\xgboost-ci-windows\\src\\learner.cc:742: \n",
      "Parameters: { \"objectives\", \"verbose\" } are not used.\n",
      "\n",
      "  warnings.warn(smsg, UserWarning)\n"
     ]
    },
    {
     "name": "stdout",
     "output_type": "stream",
     "text": [
      "Train set RMSE: 0.42\n",
      "Test set RMSE: 0.48\n",
      "Tested on combination ['is_weekend', 'Max_Grav_accidents', 'hosp', 'rea', 'Count_accidents']\n"
     ]
    },
    {
     "name": "stderr",
     "output_type": "stream",
     "text": [
      "C:\\Users\\Thomas\\anaconda3\\envs\\bikes-count\\lib\\site-packages\\xgboost\\core.py:160: UserWarning: [03:24:09] WARNING: C:\\buildkite-agent\\builds\\buildkite-windows-cpu-autoscaling-group-i-0750514818a16474a-1\\xgboost\\xgboost-ci-windows\\src\\learner.cc:742: \n",
      "Parameters: { \"objectives\", \"verbose\" } are not used.\n",
      "\n",
      "  warnings.warn(smsg, UserWarning)\n"
     ]
    },
    {
     "name": "stdout",
     "output_type": "stream",
     "text": [
      "Train set RMSE: 0.42\n",
      "Test set RMSE: 0.47\n",
      "Tested on combination ['is_weekend', 'Max_Grav_accidents', 'hosp', 'incid_rea', 'rad']\n"
     ]
    },
    {
     "name": "stderr",
     "output_type": "stream",
     "text": [
      "C:\\Users\\Thomas\\anaconda3\\envs\\bikes-count\\lib\\site-packages\\xgboost\\core.py:160: UserWarning: [03:24:15] WARNING: C:\\buildkite-agent\\builds\\buildkite-windows-cpu-autoscaling-group-i-0750514818a16474a-1\\xgboost\\xgboost-ci-windows\\src\\learner.cc:742: \n",
      "Parameters: { \"objectives\", \"verbose\" } are not used.\n",
      "\n",
      "  warnings.warn(smsg, UserWarning)\n"
     ]
    },
    {
     "name": "stdout",
     "output_type": "stream",
     "text": [
      "Train set RMSE: 0.42\n",
      "Test set RMSE: 0.48\n",
      "Tested on combination ['is_weekend', 'Max_Grav_accidents', 'hosp', 'incid_rea', 'Count_accidents']\n"
     ]
    },
    {
     "name": "stderr",
     "output_type": "stream",
     "text": [
      "C:\\Users\\Thomas\\anaconda3\\envs\\bikes-count\\lib\\site-packages\\xgboost\\core.py:160: UserWarning: [03:24:22] WARNING: C:\\buildkite-agent\\builds\\buildkite-windows-cpu-autoscaling-group-i-0750514818a16474a-1\\xgboost\\xgboost-ci-windows\\src\\learner.cc:742: \n",
      "Parameters: { \"objectives\", \"verbose\" } are not used.\n",
      "\n",
      "  warnings.warn(smsg, UserWarning)\n"
     ]
    },
    {
     "name": "stdout",
     "output_type": "stream",
     "text": [
      "Train set RMSE: 0.41\n",
      "Test set RMSE: 0.48\n",
      "Tested on combination ['is_weekend', 'Max_Grav_accidents', 'hosp', 'rad', 'Count_accidents']\n"
     ]
    },
    {
     "name": "stderr",
     "output_type": "stream",
     "text": [
      "C:\\Users\\Thomas\\anaconda3\\envs\\bikes-count\\lib\\site-packages\\xgboost\\core.py:160: UserWarning: [03:24:28] WARNING: C:\\buildkite-agent\\builds\\buildkite-windows-cpu-autoscaling-group-i-0750514818a16474a-1\\xgboost\\xgboost-ci-windows\\src\\learner.cc:742: \n",
      "Parameters: { \"objectives\", \"verbose\" } are not used.\n",
      "\n",
      "  warnings.warn(smsg, UserWarning)\n"
     ]
    },
    {
     "name": "stdout",
     "output_type": "stream",
     "text": [
      "Train set RMSE: 0.41\n",
      "Test set RMSE: 0.56\n",
      "Tested on combination ['is_weekend', 'Max_Grav_accidents', 'rea', 'incid_rea', 'rad']\n"
     ]
    },
    {
     "name": "stderr",
     "output_type": "stream",
     "text": [
      "C:\\Users\\Thomas\\anaconda3\\envs\\bikes-count\\lib\\site-packages\\xgboost\\core.py:160: UserWarning: [03:24:34] WARNING: C:\\buildkite-agent\\builds\\buildkite-windows-cpu-autoscaling-group-i-0750514818a16474a-1\\xgboost\\xgboost-ci-windows\\src\\learner.cc:742: \n",
      "Parameters: { \"objectives\", \"verbose\" } are not used.\n",
      "\n",
      "  warnings.warn(smsg, UserWarning)\n"
     ]
    },
    {
     "name": "stdout",
     "output_type": "stream",
     "text": [
      "Train set RMSE: 0.42\n",
      "Test set RMSE: 0.50\n",
      "Tested on combination ['is_weekend', 'Max_Grav_accidents', 'rea', 'incid_rea', 'Count_accidents']\n"
     ]
    },
    {
     "name": "stderr",
     "output_type": "stream",
     "text": [
      "C:\\Users\\Thomas\\anaconda3\\envs\\bikes-count\\lib\\site-packages\\xgboost\\core.py:160: UserWarning: [03:24:41] WARNING: C:\\buildkite-agent\\builds\\buildkite-windows-cpu-autoscaling-group-i-0750514818a16474a-1\\xgboost\\xgboost-ci-windows\\src\\learner.cc:742: \n",
      "Parameters: { \"objectives\", \"verbose\" } are not used.\n",
      "\n",
      "  warnings.warn(smsg, UserWarning)\n"
     ]
    },
    {
     "name": "stdout",
     "output_type": "stream",
     "text": [
      "Train set RMSE: 0.41\n",
      "Test set RMSE: 0.52\n",
      "Tested on combination ['is_weekend', 'Max_Grav_accidents', 'rea', 'rad', 'Count_accidents']\n"
     ]
    },
    {
     "name": "stderr",
     "output_type": "stream",
     "text": [
      "C:\\Users\\Thomas\\anaconda3\\envs\\bikes-count\\lib\\site-packages\\xgboost\\core.py:160: UserWarning: [03:24:47] WARNING: C:\\buildkite-agent\\builds\\buildkite-windows-cpu-autoscaling-group-i-0750514818a16474a-1\\xgboost\\xgboost-ci-windows\\src\\learner.cc:742: \n",
      "Parameters: { \"objectives\", \"verbose\" } are not used.\n",
      "\n",
      "  warnings.warn(smsg, UserWarning)\n"
     ]
    },
    {
     "name": "stdout",
     "output_type": "stream",
     "text": [
      "Train set RMSE: 0.41\n",
      "Test set RMSE: 0.48\n",
      "Tested on combination ['is_weekend', 'Max_Grav_accidents', 'incid_rea', 'rad', 'Count_accidents']\n"
     ]
    },
    {
     "name": "stderr",
     "output_type": "stream",
     "text": [
      "C:\\Users\\Thomas\\anaconda3\\envs\\bikes-count\\lib\\site-packages\\xgboost\\core.py:160: UserWarning: [03:24:54] WARNING: C:\\buildkite-agent\\builds\\buildkite-windows-cpu-autoscaling-group-i-0750514818a16474a-1\\xgboost\\xgboost-ci-windows\\src\\learner.cc:742: \n",
      "Parameters: { \"objectives\", \"verbose\" } are not used.\n",
      "\n",
      "  warnings.warn(smsg, UserWarning)\n"
     ]
    },
    {
     "name": "stdout",
     "output_type": "stream",
     "text": [
      "Train set RMSE: 0.41\n",
      "Test set RMSE: 0.53\n",
      "Tested on combination ['is_weekend', 'hosp', 'rea', 'incid_rea', 'rad']\n"
     ]
    },
    {
     "name": "stderr",
     "output_type": "stream",
     "text": [
      "C:\\Users\\Thomas\\anaconda3\\envs\\bikes-count\\lib\\site-packages\\xgboost\\core.py:160: UserWarning: [03:25:00] WARNING: C:\\buildkite-agent\\builds\\buildkite-windows-cpu-autoscaling-group-i-0750514818a16474a-1\\xgboost\\xgboost-ci-windows\\src\\learner.cc:742: \n",
      "Parameters: { \"objectives\", \"verbose\" } are not used.\n",
      "\n",
      "  warnings.warn(smsg, UserWarning)\n"
     ]
    },
    {
     "name": "stdout",
     "output_type": "stream",
     "text": [
      "Train set RMSE: 0.42\n",
      "Test set RMSE: 0.50\n",
      "Tested on combination ['is_weekend', 'hosp', 'rea', 'incid_rea', 'Count_accidents']\n"
     ]
    },
    {
     "name": "stderr",
     "output_type": "stream",
     "text": [
      "C:\\Users\\Thomas\\anaconda3\\envs\\bikes-count\\lib\\site-packages\\xgboost\\core.py:160: UserWarning: [03:25:07] WARNING: C:\\buildkite-agent\\builds\\buildkite-windows-cpu-autoscaling-group-i-0750514818a16474a-1\\xgboost\\xgboost-ci-windows\\src\\learner.cc:742: \n",
      "Parameters: { \"objectives\", \"verbose\" } are not used.\n",
      "\n",
      "  warnings.warn(smsg, UserWarning)\n"
     ]
    },
    {
     "name": "stdout",
     "output_type": "stream",
     "text": [
      "Train set RMSE: 0.41\n",
      "Test set RMSE: 0.51\n",
      "Tested on combination ['is_weekend', 'hosp', 'rea', 'rad', 'Count_accidents']\n"
     ]
    },
    {
     "name": "stderr",
     "output_type": "stream",
     "text": [
      "C:\\Users\\Thomas\\anaconda3\\envs\\bikes-count\\lib\\site-packages\\xgboost\\core.py:160: UserWarning: [03:25:13] WARNING: C:\\buildkite-agent\\builds\\buildkite-windows-cpu-autoscaling-group-i-0750514818a16474a-1\\xgboost\\xgboost-ci-windows\\src\\learner.cc:742: \n",
      "Parameters: { \"objectives\", \"verbose\" } are not used.\n",
      "\n",
      "  warnings.warn(smsg, UserWarning)\n"
     ]
    },
    {
     "name": "stdout",
     "output_type": "stream",
     "text": [
      "Train set RMSE: 0.41\n",
      "Test set RMSE: 0.47\n",
      "Tested on combination ['is_weekend', 'hosp', 'incid_rea', 'rad', 'Count_accidents']\n"
     ]
    },
    {
     "name": "stderr",
     "output_type": "stream",
     "text": [
      "C:\\Users\\Thomas\\anaconda3\\envs\\bikes-count\\lib\\site-packages\\xgboost\\core.py:160: UserWarning: [03:25:20] WARNING: C:\\buildkite-agent\\builds\\buildkite-windows-cpu-autoscaling-group-i-0750514818a16474a-1\\xgboost\\xgboost-ci-windows\\src\\learner.cc:742: \n",
      "Parameters: { \"objectives\", \"verbose\" } are not used.\n",
      "\n",
      "  warnings.warn(smsg, UserWarning)\n"
     ]
    },
    {
     "name": "stdout",
     "output_type": "stream",
     "text": [
      "Train set RMSE: 0.41\n",
      "Test set RMSE: 0.58\n",
      "Tested on combination ['is_weekend', 'rea', 'incid_rea', 'rad', 'Count_accidents']\n"
     ]
    },
    {
     "name": "stderr",
     "output_type": "stream",
     "text": [
      "C:\\Users\\Thomas\\anaconda3\\envs\\bikes-count\\lib\\site-packages\\xgboost\\core.py:160: UserWarning: [03:25:26] WARNING: C:\\buildkite-agent\\builds\\buildkite-windows-cpu-autoscaling-group-i-0750514818a16474a-1\\xgboost\\xgboost-ci-windows\\src\\learner.cc:742: \n",
      "Parameters: { \"objectives\", \"verbose\" } are not used.\n",
      "\n",
      "  warnings.warn(smsg, UserWarning)\n"
     ]
    },
    {
     "name": "stdout",
     "output_type": "stream",
     "text": [
      "Train set RMSE: 0.42\n",
      "Test set RMSE: 0.47\n",
      "Tested on combination ['is_lockdown', 'is_curfew', 'Max_Grav_accidents', 'hosp', 'rea']\n"
     ]
    },
    {
     "name": "stderr",
     "output_type": "stream",
     "text": [
      "C:\\Users\\Thomas\\anaconda3\\envs\\bikes-count\\lib\\site-packages\\xgboost\\core.py:160: UserWarning: [03:25:33] WARNING: C:\\buildkite-agent\\builds\\buildkite-windows-cpu-autoscaling-group-i-0750514818a16474a-1\\xgboost\\xgboost-ci-windows\\src\\learner.cc:742: \n",
      "Parameters: { \"objectives\", \"verbose\" } are not used.\n",
      "\n",
      "  warnings.warn(smsg, UserWarning)\n"
     ]
    },
    {
     "name": "stdout",
     "output_type": "stream",
     "text": [
      "Train set RMSE: 0.42\n",
      "Test set RMSE: 0.47\n",
      "Tested on combination ['is_lockdown', 'is_curfew', 'Max_Grav_accidents', 'hosp', 'incid_rea']\n"
     ]
    },
    {
     "name": "stderr",
     "output_type": "stream",
     "text": [
      "C:\\Users\\Thomas\\anaconda3\\envs\\bikes-count\\lib\\site-packages\\xgboost\\core.py:160: UserWarning: [03:25:39] WARNING: C:\\buildkite-agent\\builds\\buildkite-windows-cpu-autoscaling-group-i-0750514818a16474a-1\\xgboost\\xgboost-ci-windows\\src\\learner.cc:742: \n",
      "Parameters: { \"objectives\", \"verbose\" } are not used.\n",
      "\n",
      "  warnings.warn(smsg, UserWarning)\n"
     ]
    },
    {
     "name": "stdout",
     "output_type": "stream",
     "text": [
      "Train set RMSE: 0.42\n",
      "Test set RMSE: 0.47\n",
      "Tested on combination ['is_lockdown', 'is_curfew', 'Max_Grav_accidents', 'hosp', 'rad']\n"
     ]
    },
    {
     "name": "stderr",
     "output_type": "stream",
     "text": [
      "C:\\Users\\Thomas\\anaconda3\\envs\\bikes-count\\lib\\site-packages\\xgboost\\core.py:160: UserWarning: [03:25:46] WARNING: C:\\buildkite-agent\\builds\\buildkite-windows-cpu-autoscaling-group-i-0750514818a16474a-1\\xgboost\\xgboost-ci-windows\\src\\learner.cc:742: \n",
      "Parameters: { \"objectives\", \"verbose\" } are not used.\n",
      "\n",
      "  warnings.warn(smsg, UserWarning)\n"
     ]
    },
    {
     "name": "stdout",
     "output_type": "stream",
     "text": [
      "Train set RMSE: 0.42\n",
      "Test set RMSE: 0.46\n",
      "Tested on combination ['is_lockdown', 'is_curfew', 'Max_Grav_accidents', 'hosp', 'Count_accidents']\n"
     ]
    },
    {
     "name": "stderr",
     "output_type": "stream",
     "text": [
      "C:\\Users\\Thomas\\anaconda3\\envs\\bikes-count\\lib\\site-packages\\xgboost\\core.py:160: UserWarning: [03:25:52] WARNING: C:\\buildkite-agent\\builds\\buildkite-windows-cpu-autoscaling-group-i-0750514818a16474a-1\\xgboost\\xgboost-ci-windows\\src\\learner.cc:742: \n",
      "Parameters: { \"objectives\", \"verbose\" } are not used.\n",
      "\n",
      "  warnings.warn(smsg, UserWarning)\n"
     ]
    },
    {
     "name": "stdout",
     "output_type": "stream",
     "text": [
      "Train set RMSE: 0.42\n",
      "Test set RMSE: 0.50\n",
      "Tested on combination ['is_lockdown', 'is_curfew', 'Max_Grav_accidents', 'rea', 'incid_rea']\n"
     ]
    },
    {
     "name": "stderr",
     "output_type": "stream",
     "text": [
      "C:\\Users\\Thomas\\anaconda3\\envs\\bikes-count\\lib\\site-packages\\xgboost\\core.py:160: UserWarning: [03:25:59] WARNING: C:\\buildkite-agent\\builds\\buildkite-windows-cpu-autoscaling-group-i-0750514818a16474a-1\\xgboost\\xgboost-ci-windows\\src\\learner.cc:742: \n",
      "Parameters: { \"objectives\", \"verbose\" } are not used.\n",
      "\n",
      "  warnings.warn(smsg, UserWarning)\n"
     ]
    },
    {
     "name": "stdout",
     "output_type": "stream",
     "text": [
      "Train set RMSE: 0.41\n",
      "Test set RMSE: 0.52\n",
      "Tested on combination ['is_lockdown', 'is_curfew', 'Max_Grav_accidents', 'rea', 'rad']\n"
     ]
    },
    {
     "name": "stderr",
     "output_type": "stream",
     "text": [
      "C:\\Users\\Thomas\\anaconda3\\envs\\bikes-count\\lib\\site-packages\\xgboost\\core.py:160: UserWarning: [03:26:05] WARNING: C:\\buildkite-agent\\builds\\buildkite-windows-cpu-autoscaling-group-i-0750514818a16474a-1\\xgboost\\xgboost-ci-windows\\src\\learner.cc:742: \n",
      "Parameters: { \"objectives\", \"verbose\" } are not used.\n",
      "\n",
      "  warnings.warn(smsg, UserWarning)\n"
     ]
    },
    {
     "name": "stdout",
     "output_type": "stream",
     "text": [
      "Train set RMSE: 0.42\n",
      "Test set RMSE: 0.49\n",
      "Tested on combination ['is_lockdown', 'is_curfew', 'Max_Grav_accidents', 'rea', 'Count_accidents']\n"
     ]
    },
    {
     "name": "stderr",
     "output_type": "stream",
     "text": [
      "C:\\Users\\Thomas\\anaconda3\\envs\\bikes-count\\lib\\site-packages\\xgboost\\core.py:160: UserWarning: [03:26:11] WARNING: C:\\buildkite-agent\\builds\\buildkite-windows-cpu-autoscaling-group-i-0750514818a16474a-1\\xgboost\\xgboost-ci-windows\\src\\learner.cc:742: \n",
      "Parameters: { \"objectives\", \"verbose\" } are not used.\n",
      "\n",
      "  warnings.warn(smsg, UserWarning)\n"
     ]
    },
    {
     "name": "stdout",
     "output_type": "stream",
     "text": [
      "Train set RMSE: 0.42\n",
      "Test set RMSE: 0.51\n",
      "Tested on combination ['is_lockdown', 'is_curfew', 'Max_Grav_accidents', 'incid_rea', 'rad']\n"
     ]
    },
    {
     "name": "stderr",
     "output_type": "stream",
     "text": [
      "C:\\Users\\Thomas\\anaconda3\\envs\\bikes-count\\lib\\site-packages\\xgboost\\core.py:160: UserWarning: [03:26:18] WARNING: C:\\buildkite-agent\\builds\\buildkite-windows-cpu-autoscaling-group-i-0750514818a16474a-1\\xgboost\\xgboost-ci-windows\\src\\learner.cc:742: \n",
      "Parameters: { \"objectives\", \"verbose\" } are not used.\n",
      "\n",
      "  warnings.warn(smsg, UserWarning)\n"
     ]
    },
    {
     "name": "stdout",
     "output_type": "stream",
     "text": [
      "Train set RMSE: 0.43\n",
      "Test set RMSE: 0.48\n",
      "Tested on combination ['is_lockdown', 'is_curfew', 'Max_Grav_accidents', 'incid_rea', 'Count_accidents']\n"
     ]
    },
    {
     "name": "stderr",
     "output_type": "stream",
     "text": [
      "C:\\Users\\Thomas\\anaconda3\\envs\\bikes-count\\lib\\site-packages\\xgboost\\core.py:160: UserWarning: [03:26:25] WARNING: C:\\buildkite-agent\\builds\\buildkite-windows-cpu-autoscaling-group-i-0750514818a16474a-1\\xgboost\\xgboost-ci-windows\\src\\learner.cc:742: \n",
      "Parameters: { \"objectives\", \"verbose\" } are not used.\n",
      "\n",
      "  warnings.warn(smsg, UserWarning)\n"
     ]
    },
    {
     "name": "stdout",
     "output_type": "stream",
     "text": [
      "Train set RMSE: 0.42\n",
      "Test set RMSE: 0.52\n",
      "Tested on combination ['is_lockdown', 'is_curfew', 'Max_Grav_accidents', 'rad', 'Count_accidents']\n"
     ]
    },
    {
     "name": "stderr",
     "output_type": "stream",
     "text": [
      "C:\\Users\\Thomas\\anaconda3\\envs\\bikes-count\\lib\\site-packages\\xgboost\\core.py:160: UserWarning: [03:26:31] WARNING: C:\\buildkite-agent\\builds\\buildkite-windows-cpu-autoscaling-group-i-0750514818a16474a-1\\xgboost\\xgboost-ci-windows\\src\\learner.cc:742: \n",
      "Parameters: { \"objectives\", \"verbose\" } are not used.\n",
      "\n",
      "  warnings.warn(smsg, UserWarning)\n"
     ]
    },
    {
     "name": "stdout",
     "output_type": "stream",
     "text": [
      "Train set RMSE: 0.42\n",
      "Test set RMSE: 0.48\n",
      "Tested on combination ['is_lockdown', 'is_curfew', 'hosp', 'rea', 'incid_rea']\n"
     ]
    },
    {
     "name": "stderr",
     "output_type": "stream",
     "text": [
      "C:\\Users\\Thomas\\anaconda3\\envs\\bikes-count\\lib\\site-packages\\xgboost\\core.py:160: UserWarning: [03:26:38] WARNING: C:\\buildkite-agent\\builds\\buildkite-windows-cpu-autoscaling-group-i-0750514818a16474a-1\\xgboost\\xgboost-ci-windows\\src\\learner.cc:742: \n",
      "Parameters: { \"objectives\", \"verbose\" } are not used.\n",
      "\n",
      "  warnings.warn(smsg, UserWarning)\n"
     ]
    },
    {
     "name": "stdout",
     "output_type": "stream",
     "text": [
      "Train set RMSE: 0.41\n",
      "Test set RMSE: 0.52\n",
      "Tested on combination ['is_lockdown', 'is_curfew', 'hosp', 'rea', 'rad']\n"
     ]
    },
    {
     "name": "stderr",
     "output_type": "stream",
     "text": [
      "C:\\Users\\Thomas\\anaconda3\\envs\\bikes-count\\lib\\site-packages\\xgboost\\core.py:160: UserWarning: [03:26:44] WARNING: C:\\buildkite-agent\\builds\\buildkite-windows-cpu-autoscaling-group-i-0750514818a16474a-1\\xgboost\\xgboost-ci-windows\\src\\learner.cc:742: \n",
      "Parameters: { \"objectives\", \"verbose\" } are not used.\n",
      "\n",
      "  warnings.warn(smsg, UserWarning)\n"
     ]
    },
    {
     "name": "stdout",
     "output_type": "stream",
     "text": [
      "Train set RMSE: 0.42\n",
      "Test set RMSE: 0.48\n",
      "Tested on combination ['is_lockdown', 'is_curfew', 'hosp', 'rea', 'Count_accidents']\n"
     ]
    },
    {
     "name": "stderr",
     "output_type": "stream",
     "text": [
      "C:\\Users\\Thomas\\anaconda3\\envs\\bikes-count\\lib\\site-packages\\xgboost\\core.py:160: UserWarning: [03:26:51] WARNING: C:\\buildkite-agent\\builds\\buildkite-windows-cpu-autoscaling-group-i-0750514818a16474a-1\\xgboost\\xgboost-ci-windows\\src\\learner.cc:742: \n",
      "Parameters: { \"objectives\", \"verbose\" } are not used.\n",
      "\n",
      "  warnings.warn(smsg, UserWarning)\n"
     ]
    },
    {
     "name": "stdout",
     "output_type": "stream",
     "text": [
      "Train set RMSE: 0.41\n",
      "Test set RMSE: 0.48\n",
      "Tested on combination ['is_lockdown', 'is_curfew', 'hosp', 'incid_rea', 'rad']\n"
     ]
    },
    {
     "name": "stderr",
     "output_type": "stream",
     "text": [
      "C:\\Users\\Thomas\\anaconda3\\envs\\bikes-count\\lib\\site-packages\\xgboost\\core.py:160: UserWarning: [03:26:57] WARNING: C:\\buildkite-agent\\builds\\buildkite-windows-cpu-autoscaling-group-i-0750514818a16474a-1\\xgboost\\xgboost-ci-windows\\src\\learner.cc:742: \n",
      "Parameters: { \"objectives\", \"verbose\" } are not used.\n",
      "\n",
      "  warnings.warn(smsg, UserWarning)\n"
     ]
    },
    {
     "name": "stdout",
     "output_type": "stream",
     "text": [
      "Train set RMSE: 0.42\n",
      "Test set RMSE: 0.49\n",
      "Tested on combination ['is_lockdown', 'is_curfew', 'hosp', 'incid_rea', 'Count_accidents']\n"
     ]
    },
    {
     "name": "stderr",
     "output_type": "stream",
     "text": [
      "C:\\Users\\Thomas\\anaconda3\\envs\\bikes-count\\lib\\site-packages\\xgboost\\core.py:160: UserWarning: [03:27:04] WARNING: C:\\buildkite-agent\\builds\\buildkite-windows-cpu-autoscaling-group-i-0750514818a16474a-1\\xgboost\\xgboost-ci-windows\\src\\learner.cc:742: \n",
      "Parameters: { \"objectives\", \"verbose\" } are not used.\n",
      "\n",
      "  warnings.warn(smsg, UserWarning)\n"
     ]
    },
    {
     "name": "stdout",
     "output_type": "stream",
     "text": [
      "Train set RMSE: 0.41\n",
      "Test set RMSE: 0.50\n",
      "Tested on combination ['is_lockdown', 'is_curfew', 'hosp', 'rad', 'Count_accidents']\n"
     ]
    },
    {
     "name": "stderr",
     "output_type": "stream",
     "text": [
      "C:\\Users\\Thomas\\anaconda3\\envs\\bikes-count\\lib\\site-packages\\xgboost\\core.py:160: UserWarning: [03:27:10] WARNING: C:\\buildkite-agent\\builds\\buildkite-windows-cpu-autoscaling-group-i-0750514818a16474a-1\\xgboost\\xgboost-ci-windows\\src\\learner.cc:742: \n",
      "Parameters: { \"objectives\", \"verbose\" } are not used.\n",
      "\n",
      "  warnings.warn(smsg, UserWarning)\n"
     ]
    },
    {
     "name": "stdout",
     "output_type": "stream",
     "text": [
      "Train set RMSE: 0.41\n",
      "Test set RMSE: 0.57\n",
      "Tested on combination ['is_lockdown', 'is_curfew', 'rea', 'incid_rea', 'rad']\n"
     ]
    },
    {
     "name": "stderr",
     "output_type": "stream",
     "text": [
      "C:\\Users\\Thomas\\anaconda3\\envs\\bikes-count\\lib\\site-packages\\xgboost\\core.py:160: UserWarning: [03:27:16] WARNING: C:\\buildkite-agent\\builds\\buildkite-windows-cpu-autoscaling-group-i-0750514818a16474a-1\\xgboost\\xgboost-ci-windows\\src\\learner.cc:742: \n",
      "Parameters: { \"objectives\", \"verbose\" } are not used.\n",
      "\n",
      "  warnings.warn(smsg, UserWarning)\n"
     ]
    },
    {
     "name": "stdout",
     "output_type": "stream",
     "text": [
      "Train set RMSE: 0.42\n",
      "Test set RMSE: 0.50\n",
      "Tested on combination ['is_lockdown', 'is_curfew', 'rea', 'incid_rea', 'Count_accidents']\n"
     ]
    },
    {
     "name": "stderr",
     "output_type": "stream",
     "text": [
      "C:\\Users\\Thomas\\anaconda3\\envs\\bikes-count\\lib\\site-packages\\xgboost\\core.py:160: UserWarning: [03:27:23] WARNING: C:\\buildkite-agent\\builds\\buildkite-windows-cpu-autoscaling-group-i-0750514818a16474a-1\\xgboost\\xgboost-ci-windows\\src\\learner.cc:742: \n",
      "Parameters: { \"objectives\", \"verbose\" } are not used.\n",
      "\n",
      "  warnings.warn(smsg, UserWarning)\n"
     ]
    },
    {
     "name": "stdout",
     "output_type": "stream",
     "text": [
      "Train set RMSE: 0.41\n",
      "Test set RMSE: 0.54\n",
      "Tested on combination ['is_lockdown', 'is_curfew', 'rea', 'rad', 'Count_accidents']\n"
     ]
    },
    {
     "name": "stderr",
     "output_type": "stream",
     "text": [
      "C:\\Users\\Thomas\\anaconda3\\envs\\bikes-count\\lib\\site-packages\\xgboost\\core.py:160: UserWarning: [03:27:29] WARNING: C:\\buildkite-agent\\builds\\buildkite-windows-cpu-autoscaling-group-i-0750514818a16474a-1\\xgboost\\xgboost-ci-windows\\src\\learner.cc:742: \n",
      "Parameters: { \"objectives\", \"verbose\" } are not used.\n",
      "\n",
      "  warnings.warn(smsg, UserWarning)\n"
     ]
    },
    {
     "name": "stdout",
     "output_type": "stream",
     "text": [
      "Train set RMSE: 0.42\n",
      "Test set RMSE: 0.51\n",
      "Tested on combination ['is_lockdown', 'is_curfew', 'incid_rea', 'rad', 'Count_accidents']\n"
     ]
    },
    {
     "name": "stderr",
     "output_type": "stream",
     "text": [
      "C:\\Users\\Thomas\\anaconda3\\envs\\bikes-count\\lib\\site-packages\\xgboost\\core.py:160: UserWarning: [03:27:36] WARNING: C:\\buildkite-agent\\builds\\buildkite-windows-cpu-autoscaling-group-i-0750514818a16474a-1\\xgboost\\xgboost-ci-windows\\src\\learner.cc:742: \n",
      "Parameters: { \"objectives\", \"verbose\" } are not used.\n",
      "\n",
      "  warnings.warn(smsg, UserWarning)\n"
     ]
    },
    {
     "name": "stdout",
     "output_type": "stream",
     "text": [
      "Train set RMSE: 0.42\n",
      "Test set RMSE: 0.48\n",
      "Tested on combination ['is_lockdown', 'Max_Grav_accidents', 'hosp', 'rea', 'incid_rea']\n"
     ]
    },
    {
     "name": "stderr",
     "output_type": "stream",
     "text": [
      "C:\\Users\\Thomas\\anaconda3\\envs\\bikes-count\\lib\\site-packages\\xgboost\\core.py:160: UserWarning: [03:27:42] WARNING: C:\\buildkite-agent\\builds\\buildkite-windows-cpu-autoscaling-group-i-0750514818a16474a-1\\xgboost\\xgboost-ci-windows\\src\\learner.cc:742: \n",
      "Parameters: { \"objectives\", \"verbose\" } are not used.\n",
      "\n",
      "  warnings.warn(smsg, UserWarning)\n"
     ]
    },
    {
     "name": "stdout",
     "output_type": "stream",
     "text": [
      "Train set RMSE: 0.41\n",
      "Test set RMSE: 0.53\n",
      "Tested on combination ['is_lockdown', 'Max_Grav_accidents', 'hosp', 'rea', 'rad']\n"
     ]
    },
    {
     "name": "stderr",
     "output_type": "stream",
     "text": [
      "C:\\Users\\Thomas\\anaconda3\\envs\\bikes-count\\lib\\site-packages\\xgboost\\core.py:160: UserWarning: [03:27:49] WARNING: C:\\buildkite-agent\\builds\\buildkite-windows-cpu-autoscaling-group-i-0750514818a16474a-1\\xgboost\\xgboost-ci-windows\\src\\learner.cc:742: \n",
      "Parameters: { \"objectives\", \"verbose\" } are not used.\n",
      "\n",
      "  warnings.warn(smsg, UserWarning)\n"
     ]
    },
    {
     "name": "stdout",
     "output_type": "stream",
     "text": [
      "Train set RMSE: 0.42\n",
      "Test set RMSE: 0.47\n",
      "Tested on combination ['is_lockdown', 'Max_Grav_accidents', 'hosp', 'rea', 'Count_accidents']\n"
     ]
    },
    {
     "name": "stderr",
     "output_type": "stream",
     "text": [
      "C:\\Users\\Thomas\\anaconda3\\envs\\bikes-count\\lib\\site-packages\\xgboost\\core.py:160: UserWarning: [03:27:55] WARNING: C:\\buildkite-agent\\builds\\buildkite-windows-cpu-autoscaling-group-i-0750514818a16474a-1\\xgboost\\xgboost-ci-windows\\src\\learner.cc:742: \n",
      "Parameters: { \"objectives\", \"verbose\" } are not used.\n",
      "\n",
      "  warnings.warn(smsg, UserWarning)\n"
     ]
    },
    {
     "name": "stdout",
     "output_type": "stream",
     "text": [
      "Train set RMSE: 0.41\n",
      "Test set RMSE: 0.48\n",
      "Tested on combination ['is_lockdown', 'Max_Grav_accidents', 'hosp', 'incid_rea', 'rad']\n"
     ]
    },
    {
     "name": "stderr",
     "output_type": "stream",
     "text": [
      "C:\\Users\\Thomas\\anaconda3\\envs\\bikes-count\\lib\\site-packages\\xgboost\\core.py:160: UserWarning: [03:28:01] WARNING: C:\\buildkite-agent\\builds\\buildkite-windows-cpu-autoscaling-group-i-0750514818a16474a-1\\xgboost\\xgboost-ci-windows\\src\\learner.cc:742: \n",
      "Parameters: { \"objectives\", \"verbose\" } are not used.\n",
      "\n",
      "  warnings.warn(smsg, UserWarning)\n"
     ]
    },
    {
     "name": "stdout",
     "output_type": "stream",
     "text": [
      "Train set RMSE: 0.42\n",
      "Test set RMSE: 0.48\n",
      "Tested on combination ['is_lockdown', 'Max_Grav_accidents', 'hosp', 'incid_rea', 'Count_accidents']\n"
     ]
    },
    {
     "name": "stderr",
     "output_type": "stream",
     "text": [
      "C:\\Users\\Thomas\\anaconda3\\envs\\bikes-count\\lib\\site-packages\\xgboost\\core.py:160: UserWarning: [03:28:08] WARNING: C:\\buildkite-agent\\builds\\buildkite-windows-cpu-autoscaling-group-i-0750514818a16474a-1\\xgboost\\xgboost-ci-windows\\src\\learner.cc:742: \n",
      "Parameters: { \"objectives\", \"verbose\" } are not used.\n",
      "\n",
      "  warnings.warn(smsg, UserWarning)\n"
     ]
    },
    {
     "name": "stdout",
     "output_type": "stream",
     "text": [
      "Train set RMSE: 0.42\n",
      "Test set RMSE: 0.48\n",
      "Tested on combination ['is_lockdown', 'Max_Grav_accidents', 'hosp', 'rad', 'Count_accidents']\n"
     ]
    },
    {
     "name": "stderr",
     "output_type": "stream",
     "text": [
      "C:\\Users\\Thomas\\anaconda3\\envs\\bikes-count\\lib\\site-packages\\xgboost\\core.py:160: UserWarning: [03:28:14] WARNING: C:\\buildkite-agent\\builds\\buildkite-windows-cpu-autoscaling-group-i-0750514818a16474a-1\\xgboost\\xgboost-ci-windows\\src\\learner.cc:742: \n",
      "Parameters: { \"objectives\", \"verbose\" } are not used.\n",
      "\n",
      "  warnings.warn(smsg, UserWarning)\n"
     ]
    },
    {
     "name": "stdout",
     "output_type": "stream",
     "text": [
      "Train set RMSE: 0.41\n",
      "Test set RMSE: 0.55\n",
      "Tested on combination ['is_lockdown', 'Max_Grav_accidents', 'rea', 'incid_rea', 'rad']\n"
     ]
    },
    {
     "name": "stderr",
     "output_type": "stream",
     "text": [
      "C:\\Users\\Thomas\\anaconda3\\envs\\bikes-count\\lib\\site-packages\\xgboost\\core.py:160: UserWarning: [03:28:21] WARNING: C:\\buildkite-agent\\builds\\buildkite-windows-cpu-autoscaling-group-i-0750514818a16474a-1\\xgboost\\xgboost-ci-windows\\src\\learner.cc:742: \n",
      "Parameters: { \"objectives\", \"verbose\" } are not used.\n",
      "\n",
      "  warnings.warn(smsg, UserWarning)\n"
     ]
    },
    {
     "name": "stdout",
     "output_type": "stream",
     "text": [
      "Train set RMSE: 0.42\n",
      "Test set RMSE: 0.51\n",
      "Tested on combination ['is_lockdown', 'Max_Grav_accidents', 'rea', 'incid_rea', 'Count_accidents']\n"
     ]
    },
    {
     "name": "stderr",
     "output_type": "stream",
     "text": [
      "C:\\Users\\Thomas\\anaconda3\\envs\\bikes-count\\lib\\site-packages\\xgboost\\core.py:160: UserWarning: [03:28:28] WARNING: C:\\buildkite-agent\\builds\\buildkite-windows-cpu-autoscaling-group-i-0750514818a16474a-1\\xgboost\\xgboost-ci-windows\\src\\learner.cc:742: \n",
      "Parameters: { \"objectives\", \"verbose\" } are not used.\n",
      "\n",
      "  warnings.warn(smsg, UserWarning)\n"
     ]
    },
    {
     "name": "stdout",
     "output_type": "stream",
     "text": [
      "Train set RMSE: 0.41\n",
      "Test set RMSE: 0.54\n",
      "Tested on combination ['is_lockdown', 'Max_Grav_accidents', 'rea', 'rad', 'Count_accidents']\n"
     ]
    },
    {
     "name": "stderr",
     "output_type": "stream",
     "text": [
      "C:\\Users\\Thomas\\anaconda3\\envs\\bikes-count\\lib\\site-packages\\xgboost\\core.py:160: UserWarning: [03:28:35] WARNING: C:\\buildkite-agent\\builds\\buildkite-windows-cpu-autoscaling-group-i-0750514818a16474a-1\\xgboost\\xgboost-ci-windows\\src\\learner.cc:742: \n",
      "Parameters: { \"objectives\", \"verbose\" } are not used.\n",
      "\n",
      "  warnings.warn(smsg, UserWarning)\n"
     ]
    },
    {
     "name": "stdout",
     "output_type": "stream",
     "text": [
      "Train set RMSE: 0.41\n",
      "Test set RMSE: 0.50\n",
      "Tested on combination ['is_lockdown', 'Max_Grav_accidents', 'incid_rea', 'rad', 'Count_accidents']\n"
     ]
    },
    {
     "name": "stderr",
     "output_type": "stream",
     "text": [
      "C:\\Users\\Thomas\\anaconda3\\envs\\bikes-count\\lib\\site-packages\\xgboost\\core.py:160: UserWarning: [03:28:41] WARNING: C:\\buildkite-agent\\builds\\buildkite-windows-cpu-autoscaling-group-i-0750514818a16474a-1\\xgboost\\xgboost-ci-windows\\src\\learner.cc:742: \n",
      "Parameters: { \"objectives\", \"verbose\" } are not used.\n",
      "\n",
      "  warnings.warn(smsg, UserWarning)\n"
     ]
    },
    {
     "name": "stdout",
     "output_type": "stream",
     "text": [
      "Train set RMSE: 0.41\n",
      "Test set RMSE: 0.51\n",
      "Tested on combination ['is_lockdown', 'hosp', 'rea', 'incid_rea', 'rad']\n"
     ]
    },
    {
     "name": "stderr",
     "output_type": "stream",
     "text": [
      "C:\\Users\\Thomas\\anaconda3\\envs\\bikes-count\\lib\\site-packages\\xgboost\\core.py:160: UserWarning: [03:28:47] WARNING: C:\\buildkite-agent\\builds\\buildkite-windows-cpu-autoscaling-group-i-0750514818a16474a-1\\xgboost\\xgboost-ci-windows\\src\\learner.cc:742: \n",
      "Parameters: { \"objectives\", \"verbose\" } are not used.\n",
      "\n",
      "  warnings.warn(smsg, UserWarning)\n"
     ]
    },
    {
     "name": "stdout",
     "output_type": "stream",
     "text": [
      "Train set RMSE: 0.42\n",
      "Test set RMSE: 0.50\n",
      "Tested on combination ['is_lockdown', 'hosp', 'rea', 'incid_rea', 'Count_accidents']\n"
     ]
    },
    {
     "name": "stderr",
     "output_type": "stream",
     "text": [
      "C:\\Users\\Thomas\\anaconda3\\envs\\bikes-count\\lib\\site-packages\\xgboost\\core.py:160: UserWarning: [03:28:54] WARNING: C:\\buildkite-agent\\builds\\buildkite-windows-cpu-autoscaling-group-i-0750514818a16474a-1\\xgboost\\xgboost-ci-windows\\src\\learner.cc:742: \n",
      "Parameters: { \"objectives\", \"verbose\" } are not used.\n",
      "\n",
      "  warnings.warn(smsg, UserWarning)\n"
     ]
    },
    {
     "name": "stdout",
     "output_type": "stream",
     "text": [
      "Train set RMSE: 0.41\n",
      "Test set RMSE: 0.50\n",
      "Tested on combination ['is_lockdown', 'hosp', 'rea', 'rad', 'Count_accidents']\n"
     ]
    },
    {
     "name": "stderr",
     "output_type": "stream",
     "text": [
      "C:\\Users\\Thomas\\anaconda3\\envs\\bikes-count\\lib\\site-packages\\xgboost\\core.py:160: UserWarning: [03:29:01] WARNING: C:\\buildkite-agent\\builds\\buildkite-windows-cpu-autoscaling-group-i-0750514818a16474a-1\\xgboost\\xgboost-ci-windows\\src\\learner.cc:742: \n",
      "Parameters: { \"objectives\", \"verbose\" } are not used.\n",
      "\n",
      "  warnings.warn(smsg, UserWarning)\n"
     ]
    },
    {
     "name": "stdout",
     "output_type": "stream",
     "text": [
      "Train set RMSE: 0.41\n",
      "Test set RMSE: 0.48\n",
      "Tested on combination ['is_lockdown', 'hosp', 'incid_rea', 'rad', 'Count_accidents']\n"
     ]
    },
    {
     "name": "stderr",
     "output_type": "stream",
     "text": [
      "C:\\Users\\Thomas\\anaconda3\\envs\\bikes-count\\lib\\site-packages\\xgboost\\core.py:160: UserWarning: [03:29:08] WARNING: C:\\buildkite-agent\\builds\\buildkite-windows-cpu-autoscaling-group-i-0750514818a16474a-1\\xgboost\\xgboost-ci-windows\\src\\learner.cc:742: \n",
      "Parameters: { \"objectives\", \"verbose\" } are not used.\n",
      "\n",
      "  warnings.warn(smsg, UserWarning)\n"
     ]
    },
    {
     "name": "stdout",
     "output_type": "stream",
     "text": [
      "Train set RMSE: 0.41\n",
      "Test set RMSE: 0.57\n",
      "Tested on combination ['is_lockdown', 'rea', 'incid_rea', 'rad', 'Count_accidents']\n"
     ]
    },
    {
     "name": "stderr",
     "output_type": "stream",
     "text": [
      "C:\\Users\\Thomas\\anaconda3\\envs\\bikes-count\\lib\\site-packages\\xgboost\\core.py:160: UserWarning: [03:29:14] WARNING: C:\\buildkite-agent\\builds\\buildkite-windows-cpu-autoscaling-group-i-0750514818a16474a-1\\xgboost\\xgboost-ci-windows\\src\\learner.cc:742: \n",
      "Parameters: { \"objectives\", \"verbose\" } are not used.\n",
      "\n",
      "  warnings.warn(smsg, UserWarning)\n"
     ]
    },
    {
     "name": "stdout",
     "output_type": "stream",
     "text": [
      "Train set RMSE: 0.42\n",
      "Test set RMSE: 0.48\n",
      "Tested on combination ['is_curfew', 'Max_Grav_accidents', 'hosp', 'rea', 'incid_rea']\n"
     ]
    },
    {
     "name": "stderr",
     "output_type": "stream",
     "text": [
      "C:\\Users\\Thomas\\anaconda3\\envs\\bikes-count\\lib\\site-packages\\xgboost\\core.py:160: UserWarning: [03:29:20] WARNING: C:\\buildkite-agent\\builds\\buildkite-windows-cpu-autoscaling-group-i-0750514818a16474a-1\\xgboost\\xgboost-ci-windows\\src\\learner.cc:742: \n",
      "Parameters: { \"objectives\", \"verbose\" } are not used.\n",
      "\n",
      "  warnings.warn(smsg, UserWarning)\n"
     ]
    },
    {
     "name": "stdout",
     "output_type": "stream",
     "text": [
      "Train set RMSE: 0.41\n",
      "Test set RMSE: 0.51\n",
      "Tested on combination ['is_curfew', 'Max_Grav_accidents', 'hosp', 'rea', 'rad']\n"
     ]
    },
    {
     "name": "stderr",
     "output_type": "stream",
     "text": [
      "C:\\Users\\Thomas\\anaconda3\\envs\\bikes-count\\lib\\site-packages\\xgboost\\core.py:160: UserWarning: [03:29:27] WARNING: C:\\buildkite-agent\\builds\\buildkite-windows-cpu-autoscaling-group-i-0750514818a16474a-1\\xgboost\\xgboost-ci-windows\\src\\learner.cc:742: \n",
      "Parameters: { \"objectives\", \"verbose\" } are not used.\n",
      "\n",
      "  warnings.warn(smsg, UserWarning)\n"
     ]
    },
    {
     "name": "stdout",
     "output_type": "stream",
     "text": [
      "Train set RMSE: 0.42\n",
      "Test set RMSE: 0.46\n",
      "Tested on combination ['is_curfew', 'Max_Grav_accidents', 'hosp', 'rea', 'Count_accidents']\n"
     ]
    },
    {
     "name": "stderr",
     "output_type": "stream",
     "text": [
      "C:\\Users\\Thomas\\anaconda3\\envs\\bikes-count\\lib\\site-packages\\xgboost\\core.py:160: UserWarning: [03:29:33] WARNING: C:\\buildkite-agent\\builds\\buildkite-windows-cpu-autoscaling-group-i-0750514818a16474a-1\\xgboost\\xgboost-ci-windows\\src\\learner.cc:742: \n",
      "Parameters: { \"objectives\", \"verbose\" } are not used.\n",
      "\n",
      "  warnings.warn(smsg, UserWarning)\n"
     ]
    },
    {
     "name": "stdout",
     "output_type": "stream",
     "text": [
      "Train set RMSE: 0.41\n",
      "Test set RMSE: 0.47\n",
      "Tested on combination ['is_curfew', 'Max_Grav_accidents', 'hosp', 'incid_rea', 'rad']\n"
     ]
    },
    {
     "name": "stderr",
     "output_type": "stream",
     "text": [
      "C:\\Users\\Thomas\\anaconda3\\envs\\bikes-count\\lib\\site-packages\\xgboost\\core.py:160: UserWarning: [03:29:40] WARNING: C:\\buildkite-agent\\builds\\buildkite-windows-cpu-autoscaling-group-i-0750514818a16474a-1\\xgboost\\xgboost-ci-windows\\src\\learner.cc:742: \n",
      "Parameters: { \"objectives\", \"verbose\" } are not used.\n",
      "\n",
      "  warnings.warn(smsg, UserWarning)\n"
     ]
    },
    {
     "name": "stdout",
     "output_type": "stream",
     "text": [
      "Train set RMSE: 0.42\n",
      "Test set RMSE: 0.48\n",
      "Tested on combination ['is_curfew', 'Max_Grav_accidents', 'hosp', 'incid_rea', 'Count_accidents']\n"
     ]
    },
    {
     "name": "stderr",
     "output_type": "stream",
     "text": [
      "C:\\Users\\Thomas\\anaconda3\\envs\\bikes-count\\lib\\site-packages\\xgboost\\core.py:160: UserWarning: [03:29:46] WARNING: C:\\buildkite-agent\\builds\\buildkite-windows-cpu-autoscaling-group-i-0750514818a16474a-1\\xgboost\\xgboost-ci-windows\\src\\learner.cc:742: \n",
      "Parameters: { \"objectives\", \"verbose\" } are not used.\n",
      "\n",
      "  warnings.warn(smsg, UserWarning)\n"
     ]
    },
    {
     "name": "stdout",
     "output_type": "stream",
     "text": [
      "Train set RMSE: 0.42\n",
      "Test set RMSE: 0.48\n",
      "Tested on combination ['is_curfew', 'Max_Grav_accidents', 'hosp', 'rad', 'Count_accidents']\n"
     ]
    },
    {
     "name": "stderr",
     "output_type": "stream",
     "text": [
      "C:\\Users\\Thomas\\anaconda3\\envs\\bikes-count\\lib\\site-packages\\xgboost\\core.py:160: UserWarning: [03:29:53] WARNING: C:\\buildkite-agent\\builds\\buildkite-windows-cpu-autoscaling-group-i-0750514818a16474a-1\\xgboost\\xgboost-ci-windows\\src\\learner.cc:742: \n",
      "Parameters: { \"objectives\", \"verbose\" } are not used.\n",
      "\n",
      "  warnings.warn(smsg, UserWarning)\n"
     ]
    },
    {
     "name": "stdout",
     "output_type": "stream",
     "text": [
      "Train set RMSE: 0.41\n",
      "Test set RMSE: 0.56\n",
      "Tested on combination ['is_curfew', 'Max_Grav_accidents', 'rea', 'incid_rea', 'rad']\n"
     ]
    },
    {
     "name": "stderr",
     "output_type": "stream",
     "text": [
      "C:\\Users\\Thomas\\anaconda3\\envs\\bikes-count\\lib\\site-packages\\xgboost\\core.py:160: UserWarning: [03:29:59] WARNING: C:\\buildkite-agent\\builds\\buildkite-windows-cpu-autoscaling-group-i-0750514818a16474a-1\\xgboost\\xgboost-ci-windows\\src\\learner.cc:742: \n",
      "Parameters: { \"objectives\", \"verbose\" } are not used.\n",
      "\n",
      "  warnings.warn(smsg, UserWarning)\n"
     ]
    },
    {
     "name": "stdout",
     "output_type": "stream",
     "text": [
      "Train set RMSE: 0.42\n",
      "Test set RMSE: 0.50\n",
      "Tested on combination ['is_curfew', 'Max_Grav_accidents', 'rea', 'incid_rea', 'Count_accidents']\n"
     ]
    },
    {
     "name": "stderr",
     "output_type": "stream",
     "text": [
      "C:\\Users\\Thomas\\anaconda3\\envs\\bikes-count\\lib\\site-packages\\xgboost\\core.py:160: UserWarning: [03:30:06] WARNING: C:\\buildkite-agent\\builds\\buildkite-windows-cpu-autoscaling-group-i-0750514818a16474a-1\\xgboost\\xgboost-ci-windows\\src\\learner.cc:742: \n",
      "Parameters: { \"objectives\", \"verbose\" } are not used.\n",
      "\n",
      "  warnings.warn(smsg, UserWarning)\n"
     ]
    },
    {
     "name": "stdout",
     "output_type": "stream",
     "text": [
      "Train set RMSE: 0.41\n",
      "Test set RMSE: 0.53\n",
      "Tested on combination ['is_curfew', 'Max_Grav_accidents', 'rea', 'rad', 'Count_accidents']\n"
     ]
    },
    {
     "name": "stderr",
     "output_type": "stream",
     "text": [
      "C:\\Users\\Thomas\\anaconda3\\envs\\bikes-count\\lib\\site-packages\\xgboost\\core.py:160: UserWarning: [03:30:13] WARNING: C:\\buildkite-agent\\builds\\buildkite-windows-cpu-autoscaling-group-i-0750514818a16474a-1\\xgboost\\xgboost-ci-windows\\src\\learner.cc:742: \n",
      "Parameters: { \"objectives\", \"verbose\" } are not used.\n",
      "\n",
      "  warnings.warn(smsg, UserWarning)\n"
     ]
    },
    {
     "name": "stdout",
     "output_type": "stream",
     "text": [
      "Train set RMSE: 0.42\n",
      "Test set RMSE: 0.51\n",
      "Tested on combination ['is_curfew', 'Max_Grav_accidents', 'incid_rea', 'rad', 'Count_accidents']\n"
     ]
    },
    {
     "name": "stderr",
     "output_type": "stream",
     "text": [
      "C:\\Users\\Thomas\\anaconda3\\envs\\bikes-count\\lib\\site-packages\\xgboost\\core.py:160: UserWarning: [03:30:19] WARNING: C:\\buildkite-agent\\builds\\buildkite-windows-cpu-autoscaling-group-i-0750514818a16474a-1\\xgboost\\xgboost-ci-windows\\src\\learner.cc:742: \n",
      "Parameters: { \"objectives\", \"verbose\" } are not used.\n",
      "\n",
      "  warnings.warn(smsg, UserWarning)\n"
     ]
    },
    {
     "name": "stdout",
     "output_type": "stream",
     "text": [
      "Train set RMSE: 0.41\n",
      "Test set RMSE: 0.51\n",
      "Tested on combination ['is_curfew', 'hosp', 'rea', 'incid_rea', 'rad']\n"
     ]
    },
    {
     "name": "stderr",
     "output_type": "stream",
     "text": [
      "C:\\Users\\Thomas\\anaconda3\\envs\\bikes-count\\lib\\site-packages\\xgboost\\core.py:160: UserWarning: [03:30:26] WARNING: C:\\buildkite-agent\\builds\\buildkite-windows-cpu-autoscaling-group-i-0750514818a16474a-1\\xgboost\\xgboost-ci-windows\\src\\learner.cc:742: \n",
      "Parameters: { \"objectives\", \"verbose\" } are not used.\n",
      "\n",
      "  warnings.warn(smsg, UserWarning)\n"
     ]
    },
    {
     "name": "stdout",
     "output_type": "stream",
     "text": [
      "Train set RMSE: 0.42\n",
      "Test set RMSE: 0.49\n",
      "Tested on combination ['is_curfew', 'hosp', 'rea', 'incid_rea', 'Count_accidents']\n"
     ]
    },
    {
     "name": "stderr",
     "output_type": "stream",
     "text": [
      "C:\\Users\\Thomas\\anaconda3\\envs\\bikes-count\\lib\\site-packages\\xgboost\\core.py:160: UserWarning: [03:30:32] WARNING: C:\\buildkite-agent\\builds\\buildkite-windows-cpu-autoscaling-group-i-0750514818a16474a-1\\xgboost\\xgboost-ci-windows\\src\\learner.cc:742: \n",
      "Parameters: { \"objectives\", \"verbose\" } are not used.\n",
      "\n",
      "  warnings.warn(smsg, UserWarning)\n"
     ]
    },
    {
     "name": "stdout",
     "output_type": "stream",
     "text": [
      "Train set RMSE: 0.41\n",
      "Test set RMSE: 0.51\n",
      "Tested on combination ['is_curfew', 'hosp', 'rea', 'rad', 'Count_accidents']\n"
     ]
    },
    {
     "name": "stderr",
     "output_type": "stream",
     "text": [
      "C:\\Users\\Thomas\\anaconda3\\envs\\bikes-count\\lib\\site-packages\\xgboost\\core.py:160: UserWarning: [03:30:38] WARNING: C:\\buildkite-agent\\builds\\buildkite-windows-cpu-autoscaling-group-i-0750514818a16474a-1\\xgboost\\xgboost-ci-windows\\src\\learner.cc:742: \n",
      "Parameters: { \"objectives\", \"verbose\" } are not used.\n",
      "\n",
      "  warnings.warn(smsg, UserWarning)\n"
     ]
    },
    {
     "name": "stdout",
     "output_type": "stream",
     "text": [
      "Train set RMSE: 0.42\n",
      "Test set RMSE: 0.47\n",
      "Tested on combination ['is_curfew', 'hosp', 'incid_rea', 'rad', 'Count_accidents']\n"
     ]
    },
    {
     "name": "stderr",
     "output_type": "stream",
     "text": [
      "C:\\Users\\Thomas\\anaconda3\\envs\\bikes-count\\lib\\site-packages\\xgboost\\core.py:160: UserWarning: [03:30:45] WARNING: C:\\buildkite-agent\\builds\\buildkite-windows-cpu-autoscaling-group-i-0750514818a16474a-1\\xgboost\\xgboost-ci-windows\\src\\learner.cc:742: \n",
      "Parameters: { \"objectives\", \"verbose\" } are not used.\n",
      "\n",
      "  warnings.warn(smsg, UserWarning)\n"
     ]
    },
    {
     "name": "stdout",
     "output_type": "stream",
     "text": [
      "Train set RMSE: 0.41\n",
      "Test set RMSE: 0.59\n",
      "Tested on combination ['is_curfew', 'rea', 'incid_rea', 'rad', 'Count_accidents']\n"
     ]
    },
    {
     "name": "stderr",
     "output_type": "stream",
     "text": [
      "C:\\Users\\Thomas\\anaconda3\\envs\\bikes-count\\lib\\site-packages\\xgboost\\core.py:160: UserWarning: [03:30:51] WARNING: C:\\buildkite-agent\\builds\\buildkite-windows-cpu-autoscaling-group-i-0750514818a16474a-1\\xgboost\\xgboost-ci-windows\\src\\learner.cc:742: \n",
      "Parameters: { \"objectives\", \"verbose\" } are not used.\n",
      "\n",
      "  warnings.warn(smsg, UserWarning)\n"
     ]
    },
    {
     "name": "stdout",
     "output_type": "stream",
     "text": [
      "Train set RMSE: 0.41\n",
      "Test set RMSE: 0.52\n",
      "Tested on combination ['Max_Grav_accidents', 'hosp', 'rea', 'incid_rea', 'rad']\n"
     ]
    },
    {
     "name": "stderr",
     "output_type": "stream",
     "text": [
      "C:\\Users\\Thomas\\anaconda3\\envs\\bikes-count\\lib\\site-packages\\xgboost\\core.py:160: UserWarning: [03:30:58] WARNING: C:\\buildkite-agent\\builds\\buildkite-windows-cpu-autoscaling-group-i-0750514818a16474a-1\\xgboost\\xgboost-ci-windows\\src\\learner.cc:742: \n",
      "Parameters: { \"objectives\", \"verbose\" } are not used.\n",
      "\n",
      "  warnings.warn(smsg, UserWarning)\n"
     ]
    },
    {
     "name": "stdout",
     "output_type": "stream",
     "text": [
      "Train set RMSE: 0.42\n",
      "Test set RMSE: 0.48\n",
      "Tested on combination ['Max_Grav_accidents', 'hosp', 'rea', 'incid_rea', 'Count_accidents']\n"
     ]
    },
    {
     "name": "stderr",
     "output_type": "stream",
     "text": [
      "C:\\Users\\Thomas\\anaconda3\\envs\\bikes-count\\lib\\site-packages\\xgboost\\core.py:160: UserWarning: [03:31:04] WARNING: C:\\buildkite-agent\\builds\\buildkite-windows-cpu-autoscaling-group-i-0750514818a16474a-1\\xgboost\\xgboost-ci-windows\\src\\learner.cc:742: \n",
      "Parameters: { \"objectives\", \"verbose\" } are not used.\n",
      "\n",
      "  warnings.warn(smsg, UserWarning)\n"
     ]
    },
    {
     "name": "stdout",
     "output_type": "stream",
     "text": [
      "Train set RMSE: 0.41\n",
      "Test set RMSE: 0.53\n",
      "Tested on combination ['Max_Grav_accidents', 'hosp', 'rea', 'rad', 'Count_accidents']\n"
     ]
    },
    {
     "name": "stderr",
     "output_type": "stream",
     "text": [
      "C:\\Users\\Thomas\\anaconda3\\envs\\bikes-count\\lib\\site-packages\\xgboost\\core.py:160: UserWarning: [03:31:11] WARNING: C:\\buildkite-agent\\builds\\buildkite-windows-cpu-autoscaling-group-i-0750514818a16474a-1\\xgboost\\xgboost-ci-windows\\src\\learner.cc:742: \n",
      "Parameters: { \"objectives\", \"verbose\" } are not used.\n",
      "\n",
      "  warnings.warn(smsg, UserWarning)\n"
     ]
    },
    {
     "name": "stdout",
     "output_type": "stream",
     "text": [
      "Train set RMSE: 0.42\n",
      "Test set RMSE: 0.48\n",
      "Tested on combination ['Max_Grav_accidents', 'hosp', 'incid_rea', 'rad', 'Count_accidents']\n"
     ]
    },
    {
     "name": "stderr",
     "output_type": "stream",
     "text": [
      "C:\\Users\\Thomas\\anaconda3\\envs\\bikes-count\\lib\\site-packages\\xgboost\\core.py:160: UserWarning: [03:31:18] WARNING: C:\\buildkite-agent\\builds\\buildkite-windows-cpu-autoscaling-group-i-0750514818a16474a-1\\xgboost\\xgboost-ci-windows\\src\\learner.cc:742: \n",
      "Parameters: { \"objectives\", \"verbose\" } are not used.\n",
      "\n",
      "  warnings.warn(smsg, UserWarning)\n"
     ]
    },
    {
     "name": "stdout",
     "output_type": "stream",
     "text": [
      "Train set RMSE: 0.41\n",
      "Test set RMSE: 0.59\n",
      "Tested on combination ['Max_Grav_accidents', 'rea', 'incid_rea', 'rad', 'Count_accidents']\n"
     ]
    },
    {
     "name": "stderr",
     "output_type": "stream",
     "text": [
      "C:\\Users\\Thomas\\anaconda3\\envs\\bikes-count\\lib\\site-packages\\xgboost\\core.py:160: UserWarning: [03:31:24] WARNING: C:\\buildkite-agent\\builds\\buildkite-windows-cpu-autoscaling-group-i-0750514818a16474a-1\\xgboost\\xgboost-ci-windows\\src\\learner.cc:742: \n",
      "Parameters: { \"objectives\", \"verbose\" } are not used.\n",
      "\n",
      "  warnings.warn(smsg, UserWarning)\n"
     ]
    },
    {
     "name": "stdout",
     "output_type": "stream",
     "text": [
      "Train set RMSE: 0.41\n",
      "Test set RMSE: 0.51\n",
      "Tested on combination ['hosp', 'rea', 'incid_rea', 'rad', 'Count_accidents']\n"
     ]
    },
    {
     "name": "stderr",
     "output_type": "stream",
     "text": [
      "C:\\Users\\Thomas\\anaconda3\\envs\\bikes-count\\lib\\site-packages\\xgboost\\core.py:160: UserWarning: [03:31:31] WARNING: C:\\buildkite-agent\\builds\\buildkite-windows-cpu-autoscaling-group-i-0750514818a16474a-1\\xgboost\\xgboost-ci-windows\\src\\learner.cc:742: \n",
      "Parameters: { \"objectives\", \"verbose\" } are not used.\n",
      "\n",
      "  warnings.warn(smsg, UserWarning)\n"
     ]
    },
    {
     "name": "stdout",
     "output_type": "stream",
     "text": [
      "Train set RMSE: 0.42\n",
      "Test set RMSE: 0.48\n",
      "Tested on combination ['is_holiday', 'is_weekend', 'is_lockdown', 'is_curfew', 'Max_Grav_accidents', 'hosp']\n"
     ]
    },
    {
     "name": "stderr",
     "output_type": "stream",
     "text": [
      "C:\\Users\\Thomas\\anaconda3\\envs\\bikes-count\\lib\\site-packages\\xgboost\\core.py:160: UserWarning: [03:31:37] WARNING: C:\\buildkite-agent\\builds\\buildkite-windows-cpu-autoscaling-group-i-0750514818a16474a-1\\xgboost\\xgboost-ci-windows\\src\\learner.cc:742: \n",
      "Parameters: { \"objectives\", \"verbose\" } are not used.\n",
      "\n",
      "  warnings.warn(smsg, UserWarning)\n"
     ]
    },
    {
     "name": "stdout",
     "output_type": "stream",
     "text": [
      "Train set RMSE: 0.42\n",
      "Test set RMSE: 0.50\n",
      "Tested on combination ['is_holiday', 'is_weekend', 'is_lockdown', 'is_curfew', 'Max_Grav_accidents', 'rea']\n"
     ]
    },
    {
     "name": "stderr",
     "output_type": "stream",
     "text": [
      "C:\\Users\\Thomas\\anaconda3\\envs\\bikes-count\\lib\\site-packages\\xgboost\\core.py:160: UserWarning: [03:31:43] WARNING: C:\\buildkite-agent\\builds\\buildkite-windows-cpu-autoscaling-group-i-0750514818a16474a-1\\xgboost\\xgboost-ci-windows\\src\\learner.cc:742: \n",
      "Parameters: { \"objectives\", \"verbose\" } are not used.\n",
      "\n",
      "  warnings.warn(smsg, UserWarning)\n"
     ]
    },
    {
     "name": "stdout",
     "output_type": "stream",
     "text": [
      "Train set RMSE: 0.43\n",
      "Test set RMSE: 0.49\n",
      "Tested on combination ['is_holiday', 'is_weekend', 'is_lockdown', 'is_curfew', 'Max_Grav_accidents', 'incid_rea']\n"
     ]
    },
    {
     "name": "stderr",
     "output_type": "stream",
     "text": [
      "C:\\Users\\Thomas\\anaconda3\\envs\\bikes-count\\lib\\site-packages\\xgboost\\core.py:160: UserWarning: [03:31:50] WARNING: C:\\buildkite-agent\\builds\\buildkite-windows-cpu-autoscaling-group-i-0750514818a16474a-1\\xgboost\\xgboost-ci-windows\\src\\learner.cc:742: \n",
      "Parameters: { \"objectives\", \"verbose\" } are not used.\n",
      "\n",
      "  warnings.warn(smsg, UserWarning)\n"
     ]
    },
    {
     "name": "stdout",
     "output_type": "stream",
     "text": [
      "Train set RMSE: 0.42\n",
      "Test set RMSE: 0.51\n",
      "Tested on combination ['is_holiday', 'is_weekend', 'is_lockdown', 'is_curfew', 'Max_Grav_accidents', 'rad']\n"
     ]
    },
    {
     "name": "stderr",
     "output_type": "stream",
     "text": [
      "C:\\Users\\Thomas\\anaconda3\\envs\\bikes-count\\lib\\site-packages\\xgboost\\core.py:160: UserWarning: [03:31:57] WARNING: C:\\buildkite-agent\\builds\\buildkite-windows-cpu-autoscaling-group-i-0750514818a16474a-1\\xgboost\\xgboost-ci-windows\\src\\learner.cc:742: \n",
      "Parameters: { \"objectives\", \"verbose\" } are not used.\n",
      "\n",
      "  warnings.warn(smsg, UserWarning)\n"
     ]
    },
    {
     "name": "stdout",
     "output_type": "stream",
     "text": [
      "Train set RMSE: 0.43\n",
      "Test set RMSE: 0.49\n",
      "Tested on combination ['is_holiday', 'is_weekend', 'is_lockdown', 'is_curfew', 'Max_Grav_accidents', 'Count_accidents']\n"
     ]
    },
    {
     "name": "stderr",
     "output_type": "stream",
     "text": [
      "C:\\Users\\Thomas\\anaconda3\\envs\\bikes-count\\lib\\site-packages\\xgboost\\core.py:160: UserWarning: [03:32:03] WARNING: C:\\buildkite-agent\\builds\\buildkite-windows-cpu-autoscaling-group-i-0750514818a16474a-1\\xgboost\\xgboost-ci-windows\\src\\learner.cc:742: \n",
      "Parameters: { \"objectives\", \"verbose\" } are not used.\n",
      "\n",
      "  warnings.warn(smsg, UserWarning)\n"
     ]
    },
    {
     "name": "stdout",
     "output_type": "stream",
     "text": [
      "Train set RMSE: 0.42\n",
      "Test set RMSE: 0.47\n",
      "Tested on combination ['is_holiday', 'is_weekend', 'is_lockdown', 'is_curfew', 'hosp', 'rea']\n"
     ]
    },
    {
     "name": "stderr",
     "output_type": "stream",
     "text": [
      "C:\\Users\\Thomas\\anaconda3\\envs\\bikes-count\\lib\\site-packages\\xgboost\\core.py:160: UserWarning: [03:32:09] WARNING: C:\\buildkite-agent\\builds\\buildkite-windows-cpu-autoscaling-group-i-0750514818a16474a-1\\xgboost\\xgboost-ci-windows\\src\\learner.cc:742: \n",
      "Parameters: { \"objectives\", \"verbose\" } are not used.\n",
      "\n",
      "  warnings.warn(smsg, UserWarning)\n"
     ]
    },
    {
     "name": "stdout",
     "output_type": "stream",
     "text": [
      "Train set RMSE: 0.42\n",
      "Test set RMSE: 0.50\n",
      "Tested on combination ['is_holiday', 'is_weekend', 'is_lockdown', 'is_curfew', 'hosp', 'incid_rea']\n"
     ]
    },
    {
     "name": "stderr",
     "output_type": "stream",
     "text": [
      "C:\\Users\\Thomas\\anaconda3\\envs\\bikes-count\\lib\\site-packages\\xgboost\\core.py:160: UserWarning: [03:32:16] WARNING: C:\\buildkite-agent\\builds\\buildkite-windows-cpu-autoscaling-group-i-0750514818a16474a-1\\xgboost\\xgboost-ci-windows\\src\\learner.cc:742: \n",
      "Parameters: { \"objectives\", \"verbose\" } are not used.\n",
      "\n",
      "  warnings.warn(smsg, UserWarning)\n"
     ]
    },
    {
     "name": "stdout",
     "output_type": "stream",
     "text": [
      "Train set RMSE: 0.41\n",
      "Test set RMSE: 0.50\n",
      "Tested on combination ['is_holiday', 'is_weekend', 'is_lockdown', 'is_curfew', 'hosp', 'rad']\n"
     ]
    },
    {
     "name": "stderr",
     "output_type": "stream",
     "text": [
      "C:\\Users\\Thomas\\anaconda3\\envs\\bikes-count\\lib\\site-packages\\xgboost\\core.py:160: UserWarning: [03:32:23] WARNING: C:\\buildkite-agent\\builds\\buildkite-windows-cpu-autoscaling-group-i-0750514818a16474a-1\\xgboost\\xgboost-ci-windows\\src\\learner.cc:742: \n",
      "Parameters: { \"objectives\", \"verbose\" } are not used.\n",
      "\n",
      "  warnings.warn(smsg, UserWarning)\n"
     ]
    },
    {
     "name": "stdout",
     "output_type": "stream",
     "text": [
      "Train set RMSE: 0.42\n",
      "Test set RMSE: 0.47\n",
      "Tested on combination ['is_holiday', 'is_weekend', 'is_lockdown', 'is_curfew', 'hosp', 'Count_accidents']\n"
     ]
    },
    {
     "name": "stderr",
     "output_type": "stream",
     "text": [
      "C:\\Users\\Thomas\\anaconda3\\envs\\bikes-count\\lib\\site-packages\\xgboost\\core.py:160: UserWarning: [03:32:29] WARNING: C:\\buildkite-agent\\builds\\buildkite-windows-cpu-autoscaling-group-i-0750514818a16474a-1\\xgboost\\xgboost-ci-windows\\src\\learner.cc:742: \n",
      "Parameters: { \"objectives\", \"verbose\" } are not used.\n",
      "\n",
      "  warnings.warn(smsg, UserWarning)\n"
     ]
    },
    {
     "name": "stdout",
     "output_type": "stream",
     "text": [
      "Train set RMSE: 0.42\n",
      "Test set RMSE: 0.53\n",
      "Tested on combination ['is_holiday', 'is_weekend', 'is_lockdown', 'is_curfew', 'rea', 'incid_rea']\n"
     ]
    },
    {
     "name": "stderr",
     "output_type": "stream",
     "text": [
      "C:\\Users\\Thomas\\anaconda3\\envs\\bikes-count\\lib\\site-packages\\xgboost\\core.py:160: UserWarning: [03:32:36] WARNING: C:\\buildkite-agent\\builds\\buildkite-windows-cpu-autoscaling-group-i-0750514818a16474a-1\\xgboost\\xgboost-ci-windows\\src\\learner.cc:742: \n",
      "Parameters: { \"objectives\", \"verbose\" } are not used.\n",
      "\n",
      "  warnings.warn(smsg, UserWarning)\n"
     ]
    },
    {
     "name": "stdout",
     "output_type": "stream",
     "text": [
      "Train set RMSE: 0.41\n",
      "Test set RMSE: 0.54\n",
      "Tested on combination ['is_holiday', 'is_weekend', 'is_lockdown', 'is_curfew', 'rea', 'rad']\n"
     ]
    },
    {
     "name": "stderr",
     "output_type": "stream",
     "text": [
      "C:\\Users\\Thomas\\anaconda3\\envs\\bikes-count\\lib\\site-packages\\xgboost\\core.py:160: UserWarning: [03:32:42] WARNING: C:\\buildkite-agent\\builds\\buildkite-windows-cpu-autoscaling-group-i-0750514818a16474a-1\\xgboost\\xgboost-ci-windows\\src\\learner.cc:742: \n",
      "Parameters: { \"objectives\", \"verbose\" } are not used.\n",
      "\n",
      "  warnings.warn(smsg, UserWarning)\n"
     ]
    },
    {
     "name": "stdout",
     "output_type": "stream",
     "text": [
      "Train set RMSE: 0.42\n",
      "Test set RMSE: 0.49\n",
      "Tested on combination ['is_holiday', 'is_weekend', 'is_lockdown', 'is_curfew', 'rea', 'Count_accidents']\n"
     ]
    },
    {
     "name": "stderr",
     "output_type": "stream",
     "text": [
      "C:\\Users\\Thomas\\anaconda3\\envs\\bikes-count\\lib\\site-packages\\xgboost\\core.py:160: UserWarning: [03:32:48] WARNING: C:\\buildkite-agent\\builds\\buildkite-windows-cpu-autoscaling-group-i-0750514818a16474a-1\\xgboost\\xgboost-ci-windows\\src\\learner.cc:742: \n",
      "Parameters: { \"objectives\", \"verbose\" } are not used.\n",
      "\n",
      "  warnings.warn(smsg, UserWarning)\n"
     ]
    },
    {
     "name": "stdout",
     "output_type": "stream",
     "text": [
      "Train set RMSE: 0.42\n",
      "Test set RMSE: 0.50\n",
      "Tested on combination ['is_holiday', 'is_weekend', 'is_lockdown', 'is_curfew', 'incid_rea', 'rad']\n"
     ]
    },
    {
     "name": "stderr",
     "output_type": "stream",
     "text": [
      "C:\\Users\\Thomas\\anaconda3\\envs\\bikes-count\\lib\\site-packages\\xgboost\\core.py:160: UserWarning: [03:32:55] WARNING: C:\\buildkite-agent\\builds\\buildkite-windows-cpu-autoscaling-group-i-0750514818a16474a-1\\xgboost\\xgboost-ci-windows\\src\\learner.cc:742: \n",
      "Parameters: { \"objectives\", \"verbose\" } are not used.\n",
      "\n",
      "  warnings.warn(smsg, UserWarning)\n"
     ]
    },
    {
     "name": "stdout",
     "output_type": "stream",
     "text": [
      "Train set RMSE: 0.43\n",
      "Test set RMSE: 0.49\n",
      "Tested on combination ['is_holiday', 'is_weekend', 'is_lockdown', 'is_curfew', 'incid_rea', 'Count_accidents']\n"
     ]
    },
    {
     "name": "stderr",
     "output_type": "stream",
     "text": [
      "C:\\Users\\Thomas\\anaconda3\\envs\\bikes-count\\lib\\site-packages\\xgboost\\core.py:160: UserWarning: [03:33:01] WARNING: C:\\buildkite-agent\\builds\\buildkite-windows-cpu-autoscaling-group-i-0750514818a16474a-1\\xgboost\\xgboost-ci-windows\\src\\learner.cc:742: \n",
      "Parameters: { \"objectives\", \"verbose\" } are not used.\n",
      "\n",
      "  warnings.warn(smsg, UserWarning)\n"
     ]
    },
    {
     "name": "stdout",
     "output_type": "stream",
     "text": [
      "Train set RMSE: 0.42\n",
      "Test set RMSE: 0.51\n",
      "Tested on combination ['is_holiday', 'is_weekend', 'is_lockdown', 'is_curfew', 'rad', 'Count_accidents']\n"
     ]
    },
    {
     "name": "stderr",
     "output_type": "stream",
     "text": [
      "C:\\Users\\Thomas\\anaconda3\\envs\\bikes-count\\lib\\site-packages\\xgboost\\core.py:160: UserWarning: [03:33:08] WARNING: C:\\buildkite-agent\\builds\\buildkite-windows-cpu-autoscaling-group-i-0750514818a16474a-1\\xgboost\\xgboost-ci-windows\\src\\learner.cc:742: \n",
      "Parameters: { \"objectives\", \"verbose\" } are not used.\n",
      "\n",
      "  warnings.warn(smsg, UserWarning)\n"
     ]
    },
    {
     "name": "stdout",
     "output_type": "stream",
     "text": [
      "Train set RMSE: 0.42\n",
      "Test set RMSE: 0.49\n",
      "Tested on combination ['is_holiday', 'is_weekend', 'is_lockdown', 'Max_Grav_accidents', 'hosp', 'rea']\n"
     ]
    },
    {
     "name": "stderr",
     "output_type": "stream",
     "text": [
      "C:\\Users\\Thomas\\anaconda3\\envs\\bikes-count\\lib\\site-packages\\xgboost\\core.py:160: UserWarning: [03:33:15] WARNING: C:\\buildkite-agent\\builds\\buildkite-windows-cpu-autoscaling-group-i-0750514818a16474a-1\\xgboost\\xgboost-ci-windows\\src\\learner.cc:742: \n",
      "Parameters: { \"objectives\", \"verbose\" } are not used.\n",
      "\n",
      "  warnings.warn(smsg, UserWarning)\n"
     ]
    },
    {
     "name": "stdout",
     "output_type": "stream",
     "text": [
      "Train set RMSE: 0.42\n",
      "Test set RMSE: 0.53\n",
      "Tested on combination ['is_holiday', 'is_weekend', 'is_lockdown', 'Max_Grav_accidents', 'hosp', 'incid_rea']\n"
     ]
    },
    {
     "name": "stderr",
     "output_type": "stream",
     "text": [
      "C:\\Users\\Thomas\\anaconda3\\envs\\bikes-count\\lib\\site-packages\\xgboost\\core.py:160: UserWarning: [03:33:21] WARNING: C:\\buildkite-agent\\builds\\buildkite-windows-cpu-autoscaling-group-i-0750514818a16474a-1\\xgboost\\xgboost-ci-windows\\src\\learner.cc:742: \n",
      "Parameters: { \"objectives\", \"verbose\" } are not used.\n",
      "\n",
      "  warnings.warn(smsg, UserWarning)\n"
     ]
    },
    {
     "name": "stdout",
     "output_type": "stream",
     "text": [
      "Train set RMSE: 0.41\n",
      "Test set RMSE: 0.49\n",
      "Tested on combination ['is_holiday', 'is_weekend', 'is_lockdown', 'Max_Grav_accidents', 'hosp', 'rad']\n"
     ]
    },
    {
     "name": "stderr",
     "output_type": "stream",
     "text": [
      "C:\\Users\\Thomas\\anaconda3\\envs\\bikes-count\\lib\\site-packages\\xgboost\\core.py:160: UserWarning: [03:33:28] WARNING: C:\\buildkite-agent\\builds\\buildkite-windows-cpu-autoscaling-group-i-0750514818a16474a-1\\xgboost\\xgboost-ci-windows\\src\\learner.cc:742: \n",
      "Parameters: { \"objectives\", \"verbose\" } are not used.\n",
      "\n",
      "  warnings.warn(smsg, UserWarning)\n"
     ]
    },
    {
     "name": "stdout",
     "output_type": "stream",
     "text": [
      "Train set RMSE: 0.42\n",
      "Test set RMSE: 0.46\n",
      "Tested on combination ['is_holiday', 'is_weekend', 'is_lockdown', 'Max_Grav_accidents', 'hosp', 'Count_accidents']\n"
     ]
    },
    {
     "name": "stderr",
     "output_type": "stream",
     "text": [
      "C:\\Users\\Thomas\\anaconda3\\envs\\bikes-count\\lib\\site-packages\\xgboost\\core.py:160: UserWarning: [03:33:34] WARNING: C:\\buildkite-agent\\builds\\buildkite-windows-cpu-autoscaling-group-i-0750514818a16474a-1\\xgboost\\xgboost-ci-windows\\src\\learner.cc:742: \n",
      "Parameters: { \"objectives\", \"verbose\" } are not used.\n",
      "\n",
      "  warnings.warn(smsg, UserWarning)\n"
     ]
    },
    {
     "name": "stdout",
     "output_type": "stream",
     "text": [
      "Train set RMSE: 0.42\n",
      "Test set RMSE: 0.53\n",
      "Tested on combination ['is_holiday', 'is_weekend', 'is_lockdown', 'Max_Grav_accidents', 'rea', 'incid_rea']\n"
     ]
    },
    {
     "name": "stderr",
     "output_type": "stream",
     "text": [
      "C:\\Users\\Thomas\\anaconda3\\envs\\bikes-count\\lib\\site-packages\\xgboost\\core.py:160: UserWarning: [03:33:41] WARNING: C:\\buildkite-agent\\builds\\buildkite-windows-cpu-autoscaling-group-i-0750514818a16474a-1\\xgboost\\xgboost-ci-windows\\src\\learner.cc:742: \n",
      "Parameters: { \"objectives\", \"verbose\" } are not used.\n",
      "\n",
      "  warnings.warn(smsg, UserWarning)\n"
     ]
    },
    {
     "name": "stdout",
     "output_type": "stream",
     "text": [
      "Train set RMSE: 0.41\n",
      "Test set RMSE: 0.54\n",
      "Tested on combination ['is_holiday', 'is_weekend', 'is_lockdown', 'Max_Grav_accidents', 'rea', 'rad']\n"
     ]
    },
    {
     "name": "stderr",
     "output_type": "stream",
     "text": [
      "C:\\Users\\Thomas\\anaconda3\\envs\\bikes-count\\lib\\site-packages\\xgboost\\core.py:160: UserWarning: [03:33:47] WARNING: C:\\buildkite-agent\\builds\\buildkite-windows-cpu-autoscaling-group-i-0750514818a16474a-1\\xgboost\\xgboost-ci-windows\\src\\learner.cc:742: \n",
      "Parameters: { \"objectives\", \"verbose\" } are not used.\n",
      "\n",
      "  warnings.warn(smsg, UserWarning)\n"
     ]
    },
    {
     "name": "stdout",
     "output_type": "stream",
     "text": [
      "Train set RMSE: 0.42\n",
      "Test set RMSE: 0.49\n",
      "Tested on combination ['is_holiday', 'is_weekend', 'is_lockdown', 'Max_Grav_accidents', 'rea', 'Count_accidents']\n"
     ]
    },
    {
     "name": "stderr",
     "output_type": "stream",
     "text": [
      "C:\\Users\\Thomas\\anaconda3\\envs\\bikes-count\\lib\\site-packages\\xgboost\\core.py:160: UserWarning: [03:33:54] WARNING: C:\\buildkite-agent\\builds\\buildkite-windows-cpu-autoscaling-group-i-0750514818a16474a-1\\xgboost\\xgboost-ci-windows\\src\\learner.cc:742: \n",
      "Parameters: { \"objectives\", \"verbose\" } are not used.\n",
      "\n",
      "  warnings.warn(smsg, UserWarning)\n"
     ]
    },
    {
     "name": "stdout",
     "output_type": "stream",
     "text": [
      "Train set RMSE: 0.41\n",
      "Test set RMSE: 0.53\n",
      "Tested on combination ['is_holiday', 'is_weekend', 'is_lockdown', 'Max_Grav_accidents', 'incid_rea', 'rad']\n"
     ]
    },
    {
     "name": "stderr",
     "output_type": "stream",
     "text": [
      "C:\\Users\\Thomas\\anaconda3\\envs\\bikes-count\\lib\\site-packages\\xgboost\\core.py:160: UserWarning: [03:34:00] WARNING: C:\\buildkite-agent\\builds\\buildkite-windows-cpu-autoscaling-group-i-0750514818a16474a-1\\xgboost\\xgboost-ci-windows\\src\\learner.cc:742: \n",
      "Parameters: { \"objectives\", \"verbose\" } are not used.\n",
      "\n",
      "  warnings.warn(smsg, UserWarning)\n"
     ]
    },
    {
     "name": "stdout",
     "output_type": "stream",
     "text": [
      "Train set RMSE: 0.43\n",
      "Test set RMSE: 0.49\n",
      "Tested on combination ['is_holiday', 'is_weekend', 'is_lockdown', 'Max_Grav_accidents', 'incid_rea', 'Count_accidents']\n"
     ]
    },
    {
     "name": "stderr",
     "output_type": "stream",
     "text": [
      "C:\\Users\\Thomas\\anaconda3\\envs\\bikes-count\\lib\\site-packages\\xgboost\\core.py:160: UserWarning: [03:34:06] WARNING: C:\\buildkite-agent\\builds\\buildkite-windows-cpu-autoscaling-group-i-0750514818a16474a-1\\xgboost\\xgboost-ci-windows\\src\\learner.cc:742: \n",
      "Parameters: { \"objectives\", \"verbose\" } are not used.\n",
      "\n",
      "  warnings.warn(smsg, UserWarning)\n"
     ]
    },
    {
     "name": "stdout",
     "output_type": "stream",
     "text": [
      "Train set RMSE: 0.42\n",
      "Test set RMSE: 0.51\n",
      "Tested on combination ['is_holiday', 'is_weekend', 'is_lockdown', 'Max_Grav_accidents', 'rad', 'Count_accidents']\n"
     ]
    },
    {
     "name": "stderr",
     "output_type": "stream",
     "text": [
      "C:\\Users\\Thomas\\anaconda3\\envs\\bikes-count\\lib\\site-packages\\xgboost\\core.py:160: UserWarning: [03:34:13] WARNING: C:\\buildkite-agent\\builds\\buildkite-windows-cpu-autoscaling-group-i-0750514818a16474a-1\\xgboost\\xgboost-ci-windows\\src\\learner.cc:742: \n",
      "Parameters: { \"objectives\", \"verbose\" } are not used.\n",
      "\n",
      "  warnings.warn(smsg, UserWarning)\n"
     ]
    },
    {
     "name": "stdout",
     "output_type": "stream",
     "text": [
      "Train set RMSE: 0.41\n",
      "Test set RMSE: 0.48\n",
      "Tested on combination ['is_holiday', 'is_weekend', 'is_lockdown', 'hosp', 'rea', 'incid_rea']\n"
     ]
    },
    {
     "name": "stderr",
     "output_type": "stream",
     "text": [
      "C:\\Users\\Thomas\\anaconda3\\envs\\bikes-count\\lib\\site-packages\\xgboost\\core.py:160: UserWarning: [03:34:19] WARNING: C:\\buildkite-agent\\builds\\buildkite-windows-cpu-autoscaling-group-i-0750514818a16474a-1\\xgboost\\xgboost-ci-windows\\src\\learner.cc:742: \n",
      "Parameters: { \"objectives\", \"verbose\" } are not used.\n",
      "\n",
      "  warnings.warn(smsg, UserWarning)\n"
     ]
    },
    {
     "name": "stdout",
     "output_type": "stream",
     "text": [
      "Train set RMSE: 0.41\n",
      "Test set RMSE: 0.51\n",
      "Tested on combination ['is_holiday', 'is_weekend', 'is_lockdown', 'hosp', 'rea', 'rad']\n"
     ]
    },
    {
     "name": "stderr",
     "output_type": "stream",
     "text": [
      "C:\\Users\\Thomas\\anaconda3\\envs\\bikes-count\\lib\\site-packages\\xgboost\\core.py:160: UserWarning: [03:34:26] WARNING: C:\\buildkite-agent\\builds\\buildkite-windows-cpu-autoscaling-group-i-0750514818a16474a-1\\xgboost\\xgboost-ci-windows\\src\\learner.cc:742: \n",
      "Parameters: { \"objectives\", \"verbose\" } are not used.\n",
      "\n",
      "  warnings.warn(smsg, UserWarning)\n"
     ]
    },
    {
     "name": "stdout",
     "output_type": "stream",
     "text": [
      "Train set RMSE: 0.42\n",
      "Test set RMSE: 0.49\n",
      "Tested on combination ['is_holiday', 'is_weekend', 'is_lockdown', 'hosp', 'rea', 'Count_accidents']\n"
     ]
    },
    {
     "name": "stderr",
     "output_type": "stream",
     "text": [
      "C:\\Users\\Thomas\\anaconda3\\envs\\bikes-count\\lib\\site-packages\\xgboost\\core.py:160: UserWarning: [03:34:32] WARNING: C:\\buildkite-agent\\builds\\buildkite-windows-cpu-autoscaling-group-i-0750514818a16474a-1\\xgboost\\xgboost-ci-windows\\src\\learner.cc:742: \n",
      "Parameters: { \"objectives\", \"verbose\" } are not used.\n",
      "\n",
      "  warnings.warn(smsg, UserWarning)\n"
     ]
    },
    {
     "name": "stdout",
     "output_type": "stream",
     "text": [
      "Train set RMSE: 0.41\n",
      "Test set RMSE: 0.50\n",
      "Tested on combination ['is_holiday', 'is_weekend', 'is_lockdown', 'hosp', 'incid_rea', 'rad']\n"
     ]
    },
    {
     "name": "stderr",
     "output_type": "stream",
     "text": [
      "C:\\Users\\Thomas\\anaconda3\\envs\\bikes-count\\lib\\site-packages\\xgboost\\core.py:160: UserWarning: [03:34:38] WARNING: C:\\buildkite-agent\\builds\\buildkite-windows-cpu-autoscaling-group-i-0750514818a16474a-1\\xgboost\\xgboost-ci-windows\\src\\learner.cc:742: \n",
      "Parameters: { \"objectives\", \"verbose\" } are not used.\n",
      "\n",
      "  warnings.warn(smsg, UserWarning)\n"
     ]
    },
    {
     "name": "stdout",
     "output_type": "stream",
     "text": [
      "Train set RMSE: 0.42\n",
      "Test set RMSE: 0.51\n",
      "Tested on combination ['is_holiday', 'is_weekend', 'is_lockdown', 'hosp', 'incid_rea', 'Count_accidents']\n"
     ]
    },
    {
     "name": "stderr",
     "output_type": "stream",
     "text": [
      "C:\\Users\\Thomas\\anaconda3\\envs\\bikes-count\\lib\\site-packages\\xgboost\\core.py:160: UserWarning: [03:34:45] WARNING: C:\\buildkite-agent\\builds\\buildkite-windows-cpu-autoscaling-group-i-0750514818a16474a-1\\xgboost\\xgboost-ci-windows\\src\\learner.cc:742: \n",
      "Parameters: { \"objectives\", \"verbose\" } are not used.\n",
      "\n",
      "  warnings.warn(smsg, UserWarning)\n"
     ]
    },
    {
     "name": "stdout",
     "output_type": "stream",
     "text": [
      "Train set RMSE: 0.41\n",
      "Test set RMSE: 0.49\n",
      "Tested on combination ['is_holiday', 'is_weekend', 'is_lockdown', 'hosp', 'rad', 'Count_accidents']\n"
     ]
    },
    {
     "name": "stderr",
     "output_type": "stream",
     "text": [
      "C:\\Users\\Thomas\\anaconda3\\envs\\bikes-count\\lib\\site-packages\\xgboost\\core.py:160: UserWarning: [03:34:52] WARNING: C:\\buildkite-agent\\builds\\buildkite-windows-cpu-autoscaling-group-i-0750514818a16474a-1\\xgboost\\xgboost-ci-windows\\src\\learner.cc:742: \n",
      "Parameters: { \"objectives\", \"verbose\" } are not used.\n",
      "\n",
      "  warnings.warn(smsg, UserWarning)\n"
     ]
    },
    {
     "name": "stdout",
     "output_type": "stream",
     "text": [
      "Train set RMSE: 0.41\n",
      "Test set RMSE: 0.55\n",
      "Tested on combination ['is_holiday', 'is_weekend', 'is_lockdown', 'rea', 'incid_rea', 'rad']\n"
     ]
    },
    {
     "name": "stderr",
     "output_type": "stream",
     "text": [
      "C:\\Users\\Thomas\\anaconda3\\envs\\bikes-count\\lib\\site-packages\\xgboost\\core.py:160: UserWarning: [03:34:58] WARNING: C:\\buildkite-agent\\builds\\buildkite-windows-cpu-autoscaling-group-i-0750514818a16474a-1\\xgboost\\xgboost-ci-windows\\src\\learner.cc:742: \n",
      "Parameters: { \"objectives\", \"verbose\" } are not used.\n",
      "\n",
      "  warnings.warn(smsg, UserWarning)\n"
     ]
    },
    {
     "name": "stdout",
     "output_type": "stream",
     "text": [
      "Train set RMSE: 0.42\n",
      "Test set RMSE: 0.53\n",
      "Tested on combination ['is_holiday', 'is_weekend', 'is_lockdown', 'rea', 'incid_rea', 'Count_accidents']\n"
     ]
    },
    {
     "name": "stderr",
     "output_type": "stream",
     "text": [
      "C:\\Users\\Thomas\\anaconda3\\envs\\bikes-count\\lib\\site-packages\\xgboost\\core.py:160: UserWarning: [03:35:04] WARNING: C:\\buildkite-agent\\builds\\buildkite-windows-cpu-autoscaling-group-i-0750514818a16474a-1\\xgboost\\xgboost-ci-windows\\src\\learner.cc:742: \n",
      "Parameters: { \"objectives\", \"verbose\" } are not used.\n",
      "\n",
      "  warnings.warn(smsg, UserWarning)\n"
     ]
    },
    {
     "name": "stdout",
     "output_type": "stream",
     "text": [
      "Train set RMSE: 0.41\n",
      "Test set RMSE: 0.54\n",
      "Tested on combination ['is_holiday', 'is_weekend', 'is_lockdown', 'rea', 'rad', 'Count_accidents']\n"
     ]
    },
    {
     "name": "stderr",
     "output_type": "stream",
     "text": [
      "C:\\Users\\Thomas\\anaconda3\\envs\\bikes-count\\lib\\site-packages\\xgboost\\core.py:160: UserWarning: [03:35:11] WARNING: C:\\buildkite-agent\\builds\\buildkite-windows-cpu-autoscaling-group-i-0750514818a16474a-1\\xgboost\\xgboost-ci-windows\\src\\learner.cc:742: \n",
      "Parameters: { \"objectives\", \"verbose\" } are not used.\n",
      "\n",
      "  warnings.warn(smsg, UserWarning)\n"
     ]
    },
    {
     "name": "stdout",
     "output_type": "stream",
     "text": [
      "Train set RMSE: 0.41\n",
      "Test set RMSE: 0.50\n",
      "Tested on combination ['is_holiday', 'is_weekend', 'is_lockdown', 'incid_rea', 'rad', 'Count_accidents']\n"
     ]
    },
    {
     "name": "stderr",
     "output_type": "stream",
     "text": [
      "C:\\Users\\Thomas\\anaconda3\\envs\\bikes-count\\lib\\site-packages\\xgboost\\core.py:160: UserWarning: [03:35:17] WARNING: C:\\buildkite-agent\\builds\\buildkite-windows-cpu-autoscaling-group-i-0750514818a16474a-1\\xgboost\\xgboost-ci-windows\\src\\learner.cc:742: \n",
      "Parameters: { \"objectives\", \"verbose\" } are not used.\n",
      "\n",
      "  warnings.warn(smsg, UserWarning)\n"
     ]
    },
    {
     "name": "stdout",
     "output_type": "stream",
     "text": [
      "Train set RMSE: 0.42\n",
      "Test set RMSE: 0.49\n",
      "Tested on combination ['is_holiday', 'is_weekend', 'is_curfew', 'Max_Grav_accidents', 'hosp', 'rea']\n"
     ]
    },
    {
     "name": "stderr",
     "output_type": "stream",
     "text": [
      "C:\\Users\\Thomas\\anaconda3\\envs\\bikes-count\\lib\\site-packages\\xgboost\\core.py:160: UserWarning: [03:35:24] WARNING: C:\\buildkite-agent\\builds\\buildkite-windows-cpu-autoscaling-group-i-0750514818a16474a-1\\xgboost\\xgboost-ci-windows\\src\\learner.cc:742: \n",
      "Parameters: { \"objectives\", \"verbose\" } are not used.\n",
      "\n",
      "  warnings.warn(smsg, UserWarning)\n"
     ]
    },
    {
     "name": "stdout",
     "output_type": "stream",
     "text": [
      "Train set RMSE: 0.42\n",
      "Test set RMSE: 0.49\n",
      "Tested on combination ['is_holiday', 'is_weekend', 'is_curfew', 'Max_Grav_accidents', 'hosp', 'incid_rea']\n"
     ]
    },
    {
     "name": "stderr",
     "output_type": "stream",
     "text": [
      "C:\\Users\\Thomas\\anaconda3\\envs\\bikes-count\\lib\\site-packages\\xgboost\\core.py:160: UserWarning: [03:35:30] WARNING: C:\\buildkite-agent\\builds\\buildkite-windows-cpu-autoscaling-group-i-0750514818a16474a-1\\xgboost\\xgboost-ci-windows\\src\\learner.cc:742: \n",
      "Parameters: { \"objectives\", \"verbose\" } are not used.\n",
      "\n",
      "  warnings.warn(smsg, UserWarning)\n"
     ]
    },
    {
     "name": "stdout",
     "output_type": "stream",
     "text": [
      "Train set RMSE: 0.41\n",
      "Test set RMSE: 0.49\n",
      "Tested on combination ['is_holiday', 'is_weekend', 'is_curfew', 'Max_Grav_accidents', 'hosp', 'rad']\n"
     ]
    },
    {
     "name": "stderr",
     "output_type": "stream",
     "text": [
      "C:\\Users\\Thomas\\anaconda3\\envs\\bikes-count\\lib\\site-packages\\xgboost\\core.py:160: UserWarning: [03:35:37] WARNING: C:\\buildkite-agent\\builds\\buildkite-windows-cpu-autoscaling-group-i-0750514818a16474a-1\\xgboost\\xgboost-ci-windows\\src\\learner.cc:742: \n",
      "Parameters: { \"objectives\", \"verbose\" } are not used.\n",
      "\n",
      "  warnings.warn(smsg, UserWarning)\n"
     ]
    },
    {
     "name": "stdout",
     "output_type": "stream",
     "text": [
      "Train set RMSE: 0.42\n",
      "Test set RMSE: 0.48\n",
      "Tested on combination ['is_holiday', 'is_weekend', 'is_curfew', 'Max_Grav_accidents', 'hosp', 'Count_accidents']\n"
     ]
    },
    {
     "name": "stderr",
     "output_type": "stream",
     "text": [
      "C:\\Users\\Thomas\\anaconda3\\envs\\bikes-count\\lib\\site-packages\\xgboost\\core.py:160: UserWarning: [03:35:43] WARNING: C:\\buildkite-agent\\builds\\buildkite-windows-cpu-autoscaling-group-i-0750514818a16474a-1\\xgboost\\xgboost-ci-windows\\src\\learner.cc:742: \n",
      "Parameters: { \"objectives\", \"verbose\" } are not used.\n",
      "\n",
      "  warnings.warn(smsg, UserWarning)\n"
     ]
    },
    {
     "name": "stdout",
     "output_type": "stream",
     "text": [
      "Train set RMSE: 0.42\n",
      "Test set RMSE: 0.53\n",
      "Tested on combination ['is_holiday', 'is_weekend', 'is_curfew', 'Max_Grav_accidents', 'rea', 'incid_rea']\n"
     ]
    },
    {
     "name": "stderr",
     "output_type": "stream",
     "text": [
      "C:\\Users\\Thomas\\anaconda3\\envs\\bikes-count\\lib\\site-packages\\xgboost\\core.py:160: UserWarning: [03:35:50] WARNING: C:\\buildkite-agent\\builds\\buildkite-windows-cpu-autoscaling-group-i-0750514818a16474a-1\\xgboost\\xgboost-ci-windows\\src\\learner.cc:742: \n",
      "Parameters: { \"objectives\", \"verbose\" } are not used.\n",
      "\n",
      "  warnings.warn(smsg, UserWarning)\n"
     ]
    },
    {
     "name": "stdout",
     "output_type": "stream",
     "text": [
      "Train set RMSE: 0.41\n",
      "Test set RMSE: 0.53\n",
      "Tested on combination ['is_holiday', 'is_weekend', 'is_curfew', 'Max_Grav_accidents', 'rea', 'rad']\n"
     ]
    },
    {
     "name": "stderr",
     "output_type": "stream",
     "text": [
      "C:\\Users\\Thomas\\anaconda3\\envs\\bikes-count\\lib\\site-packages\\xgboost\\core.py:160: UserWarning: [03:35:56] WARNING: C:\\buildkite-agent\\builds\\buildkite-windows-cpu-autoscaling-group-i-0750514818a16474a-1\\xgboost\\xgboost-ci-windows\\src\\learner.cc:742: \n",
      "Parameters: { \"objectives\", \"verbose\" } are not used.\n",
      "\n",
      "  warnings.warn(smsg, UserWarning)\n"
     ]
    },
    {
     "name": "stdout",
     "output_type": "stream",
     "text": [
      "Train set RMSE: 0.42\n",
      "Test set RMSE: 0.49\n",
      "Tested on combination ['is_holiday', 'is_weekend', 'is_curfew', 'Max_Grav_accidents', 'rea', 'Count_accidents']\n"
     ]
    },
    {
     "name": "stderr",
     "output_type": "stream",
     "text": [
      "C:\\Users\\Thomas\\anaconda3\\envs\\bikes-count\\lib\\site-packages\\xgboost\\core.py:160: UserWarning: [03:36:03] WARNING: C:\\buildkite-agent\\builds\\buildkite-windows-cpu-autoscaling-group-i-0750514818a16474a-1\\xgboost\\xgboost-ci-windows\\src\\learner.cc:742: \n",
      "Parameters: { \"objectives\", \"verbose\" } are not used.\n",
      "\n",
      "  warnings.warn(smsg, UserWarning)\n"
     ]
    },
    {
     "name": "stdout",
     "output_type": "stream",
     "text": [
      "Train set RMSE: 0.41\n",
      "Test set RMSE: 0.51\n",
      "Tested on combination ['is_holiday', 'is_weekend', 'is_curfew', 'Max_Grav_accidents', 'incid_rea', 'rad']\n"
     ]
    },
    {
     "name": "stderr",
     "output_type": "stream",
     "text": [
      "C:\\Users\\Thomas\\anaconda3\\envs\\bikes-count\\lib\\site-packages\\xgboost\\core.py:160: UserWarning: [03:36:09] WARNING: C:\\buildkite-agent\\builds\\buildkite-windows-cpu-autoscaling-group-i-0750514818a16474a-1\\xgboost\\xgboost-ci-windows\\src\\learner.cc:742: \n",
      "Parameters: { \"objectives\", \"verbose\" } are not used.\n",
      "\n",
      "  warnings.warn(smsg, UserWarning)\n"
     ]
    },
    {
     "name": "stdout",
     "output_type": "stream",
     "text": [
      "Train set RMSE: 0.43\n",
      "Test set RMSE: 0.48\n",
      "Tested on combination ['is_holiday', 'is_weekend', 'is_curfew', 'Max_Grav_accidents', 'incid_rea', 'Count_accidents']\n"
     ]
    },
    {
     "name": "stderr",
     "output_type": "stream",
     "text": [
      "C:\\Users\\Thomas\\anaconda3\\envs\\bikes-count\\lib\\site-packages\\xgboost\\core.py:160: UserWarning: [03:36:16] WARNING: C:\\buildkite-agent\\builds\\buildkite-windows-cpu-autoscaling-group-i-0750514818a16474a-1\\xgboost\\xgboost-ci-windows\\src\\learner.cc:742: \n",
      "Parameters: { \"objectives\", \"verbose\" } are not used.\n",
      "\n",
      "  warnings.warn(smsg, UserWarning)\n"
     ]
    },
    {
     "name": "stdout",
     "output_type": "stream",
     "text": [
      "Train set RMSE: 0.41\n",
      "Test set RMSE: 0.53\n",
      "Tested on combination ['is_holiday', 'is_weekend', 'is_curfew', 'Max_Grav_accidents', 'rad', 'Count_accidents']\n"
     ]
    },
    {
     "name": "stderr",
     "output_type": "stream",
     "text": [
      "C:\\Users\\Thomas\\anaconda3\\envs\\bikes-count\\lib\\site-packages\\xgboost\\core.py:160: UserWarning: [03:36:22] WARNING: C:\\buildkite-agent\\builds\\buildkite-windows-cpu-autoscaling-group-i-0750514818a16474a-1\\xgboost\\xgboost-ci-windows\\src\\learner.cc:742: \n",
      "Parameters: { \"objectives\", \"verbose\" } are not used.\n",
      "\n",
      "  warnings.warn(smsg, UserWarning)\n"
     ]
    },
    {
     "name": "stdout",
     "output_type": "stream",
     "text": [
      "Train set RMSE: 0.41\n",
      "Test set RMSE: 0.48\n",
      "Tested on combination ['is_holiday', 'is_weekend', 'is_curfew', 'hosp', 'rea', 'incid_rea']\n"
     ]
    },
    {
     "name": "stderr",
     "output_type": "stream",
     "text": [
      "C:\\Users\\Thomas\\anaconda3\\envs\\bikes-count\\lib\\site-packages\\xgboost\\core.py:160: UserWarning: [03:36:29] WARNING: C:\\buildkite-agent\\builds\\buildkite-windows-cpu-autoscaling-group-i-0750514818a16474a-1\\xgboost\\xgboost-ci-windows\\src\\learner.cc:742: \n",
      "Parameters: { \"objectives\", \"verbose\" } are not used.\n",
      "\n",
      "  warnings.warn(smsg, UserWarning)\n"
     ]
    },
    {
     "name": "stdout",
     "output_type": "stream",
     "text": [
      "Train set RMSE: 0.41\n",
      "Test set RMSE: 0.50\n",
      "Tested on combination ['is_holiday', 'is_weekend', 'is_curfew', 'hosp', 'rea', 'rad']\n"
     ]
    },
    {
     "name": "stderr",
     "output_type": "stream",
     "text": [
      "C:\\Users\\Thomas\\anaconda3\\envs\\bikes-count\\lib\\site-packages\\xgboost\\core.py:160: UserWarning: [03:36:35] WARNING: C:\\buildkite-agent\\builds\\buildkite-windows-cpu-autoscaling-group-i-0750514818a16474a-1\\xgboost\\xgboost-ci-windows\\src\\learner.cc:742: \n",
      "Parameters: { \"objectives\", \"verbose\" } are not used.\n",
      "\n",
      "  warnings.warn(smsg, UserWarning)\n"
     ]
    },
    {
     "name": "stdout",
     "output_type": "stream",
     "text": [
      "Train set RMSE: 0.42\n",
      "Test set RMSE: 0.50\n",
      "Tested on combination ['is_holiday', 'is_weekend', 'is_curfew', 'hosp', 'rea', 'Count_accidents']\n"
     ]
    },
    {
     "name": "stderr",
     "output_type": "stream",
     "text": [
      "C:\\Users\\Thomas\\anaconda3\\envs\\bikes-count\\lib\\site-packages\\xgboost\\core.py:160: UserWarning: [03:36:42] WARNING: C:\\buildkite-agent\\builds\\buildkite-windows-cpu-autoscaling-group-i-0750514818a16474a-1\\xgboost\\xgboost-ci-windows\\src\\learner.cc:742: \n",
      "Parameters: { \"objectives\", \"verbose\" } are not used.\n",
      "\n",
      "  warnings.warn(smsg, UserWarning)\n"
     ]
    },
    {
     "name": "stdout",
     "output_type": "stream",
     "text": [
      "Train set RMSE: 0.41\n",
      "Test set RMSE: 0.51\n",
      "Tested on combination ['is_holiday', 'is_weekend', 'is_curfew', 'hosp', 'incid_rea', 'rad']\n"
     ]
    },
    {
     "name": "stderr",
     "output_type": "stream",
     "text": [
      "C:\\Users\\Thomas\\anaconda3\\envs\\bikes-count\\lib\\site-packages\\xgboost\\core.py:160: UserWarning: [03:36:48] WARNING: C:\\buildkite-agent\\builds\\buildkite-windows-cpu-autoscaling-group-i-0750514818a16474a-1\\xgboost\\xgboost-ci-windows\\src\\learner.cc:742: \n",
      "Parameters: { \"objectives\", \"verbose\" } are not used.\n",
      "\n",
      "  warnings.warn(smsg, UserWarning)\n"
     ]
    },
    {
     "name": "stdout",
     "output_type": "stream",
     "text": [
      "Train set RMSE: 0.42\n",
      "Test set RMSE: 0.51\n",
      "Tested on combination ['is_holiday', 'is_weekend', 'is_curfew', 'hosp', 'incid_rea', 'Count_accidents']\n"
     ]
    },
    {
     "name": "stderr",
     "output_type": "stream",
     "text": [
      "C:\\Users\\Thomas\\anaconda3\\envs\\bikes-count\\lib\\site-packages\\xgboost\\core.py:160: UserWarning: [03:36:55] WARNING: C:\\buildkite-agent\\builds\\buildkite-windows-cpu-autoscaling-group-i-0750514818a16474a-1\\xgboost\\xgboost-ci-windows\\src\\learner.cc:742: \n",
      "Parameters: { \"objectives\", \"verbose\" } are not used.\n",
      "\n",
      "  warnings.warn(smsg, UserWarning)\n"
     ]
    },
    {
     "name": "stdout",
     "output_type": "stream",
     "text": [
      "Train set RMSE: 0.41\n",
      "Test set RMSE: 0.50\n",
      "Tested on combination ['is_holiday', 'is_weekend', 'is_curfew', 'hosp', 'rad', 'Count_accidents']\n"
     ]
    },
    {
     "name": "stderr",
     "output_type": "stream",
     "text": [
      "C:\\Users\\Thomas\\anaconda3\\envs\\bikes-count\\lib\\site-packages\\xgboost\\core.py:160: UserWarning: [03:37:01] WARNING: C:\\buildkite-agent\\builds\\buildkite-windows-cpu-autoscaling-group-i-0750514818a16474a-1\\xgboost\\xgboost-ci-windows\\src\\learner.cc:742: \n",
      "Parameters: { \"objectives\", \"verbose\" } are not used.\n",
      "\n",
      "  warnings.warn(smsg, UserWarning)\n"
     ]
    },
    {
     "name": "stdout",
     "output_type": "stream",
     "text": [
      "Train set RMSE: 0.41\n",
      "Test set RMSE: 0.56\n",
      "Tested on combination ['is_holiday', 'is_weekend', 'is_curfew', 'rea', 'incid_rea', 'rad']\n"
     ]
    },
    {
     "name": "stderr",
     "output_type": "stream",
     "text": [
      "C:\\Users\\Thomas\\anaconda3\\envs\\bikes-count\\lib\\site-packages\\xgboost\\core.py:160: UserWarning: [03:37:08] WARNING: C:\\buildkite-agent\\builds\\buildkite-windows-cpu-autoscaling-group-i-0750514818a16474a-1\\xgboost\\xgboost-ci-windows\\src\\learner.cc:742: \n",
      "Parameters: { \"objectives\", \"verbose\" } are not used.\n",
      "\n",
      "  warnings.warn(smsg, UserWarning)\n"
     ]
    },
    {
     "name": "stdout",
     "output_type": "stream",
     "text": [
      "Train set RMSE: 0.42\n",
      "Test set RMSE: 0.52\n",
      "Tested on combination ['is_holiday', 'is_weekend', 'is_curfew', 'rea', 'incid_rea', 'Count_accidents']\n"
     ]
    },
    {
     "name": "stderr",
     "output_type": "stream",
     "text": [
      "C:\\Users\\Thomas\\anaconda3\\envs\\bikes-count\\lib\\site-packages\\xgboost\\core.py:160: UserWarning: [03:37:14] WARNING: C:\\buildkite-agent\\builds\\buildkite-windows-cpu-autoscaling-group-i-0750514818a16474a-1\\xgboost\\xgboost-ci-windows\\src\\learner.cc:742: \n",
      "Parameters: { \"objectives\", \"verbose\" } are not used.\n",
      "\n",
      "  warnings.warn(smsg, UserWarning)\n"
     ]
    },
    {
     "name": "stdout",
     "output_type": "stream",
     "text": [
      "Train set RMSE: 0.41\n",
      "Test set RMSE: 0.55\n",
      "Tested on combination ['is_holiday', 'is_weekend', 'is_curfew', 'rea', 'rad', 'Count_accidents']\n"
     ]
    },
    {
     "name": "stderr",
     "output_type": "stream",
     "text": [
      "C:\\Users\\Thomas\\anaconda3\\envs\\bikes-count\\lib\\site-packages\\xgboost\\core.py:160: UserWarning: [03:37:21] WARNING: C:\\buildkite-agent\\builds\\buildkite-windows-cpu-autoscaling-group-i-0750514818a16474a-1\\xgboost\\xgboost-ci-windows\\src\\learner.cc:742: \n",
      "Parameters: { \"objectives\", \"verbose\" } are not used.\n",
      "\n",
      "  warnings.warn(smsg, UserWarning)\n"
     ]
    },
    {
     "name": "stdout",
     "output_type": "stream",
     "text": [
      "Train set RMSE: 0.41\n",
      "Test set RMSE: 0.52\n",
      "Tested on combination ['is_holiday', 'is_weekend', 'is_curfew', 'incid_rea', 'rad', 'Count_accidents']\n"
     ]
    },
    {
     "name": "stderr",
     "output_type": "stream",
     "text": [
      "C:\\Users\\Thomas\\anaconda3\\envs\\bikes-count\\lib\\site-packages\\xgboost\\core.py:160: UserWarning: [03:37:27] WARNING: C:\\buildkite-agent\\builds\\buildkite-windows-cpu-autoscaling-group-i-0750514818a16474a-1\\xgboost\\xgboost-ci-windows\\src\\learner.cc:742: \n",
      "Parameters: { \"objectives\", \"verbose\" } are not used.\n",
      "\n",
      "  warnings.warn(smsg, UserWarning)\n"
     ]
    },
    {
     "name": "stdout",
     "output_type": "stream",
     "text": [
      "Train set RMSE: 0.42\n",
      "Test set RMSE: 0.48\n",
      "Tested on combination ['is_holiday', 'is_weekend', 'Max_Grav_accidents', 'hosp', 'rea', 'incid_rea']\n"
     ]
    },
    {
     "name": "stderr",
     "output_type": "stream",
     "text": [
      "C:\\Users\\Thomas\\anaconda3\\envs\\bikes-count\\lib\\site-packages\\xgboost\\core.py:160: UserWarning: [03:37:34] WARNING: C:\\buildkite-agent\\builds\\buildkite-windows-cpu-autoscaling-group-i-0750514818a16474a-1\\xgboost\\xgboost-ci-windows\\src\\learner.cc:742: \n",
      "Parameters: { \"objectives\", \"verbose\" } are not used.\n",
      "\n",
      "  warnings.warn(smsg, UserWarning)\n"
     ]
    },
    {
     "name": "stdout",
     "output_type": "stream",
     "text": [
      "Train set RMSE: 0.41\n",
      "Test set RMSE: 0.51\n",
      "Tested on combination ['is_holiday', 'is_weekend', 'Max_Grav_accidents', 'hosp', 'rea', 'rad']\n"
     ]
    },
    {
     "name": "stderr",
     "output_type": "stream",
     "text": [
      "C:\\Users\\Thomas\\anaconda3\\envs\\bikes-count\\lib\\site-packages\\xgboost\\core.py:160: UserWarning: [03:37:40] WARNING: C:\\buildkite-agent\\builds\\buildkite-windows-cpu-autoscaling-group-i-0750514818a16474a-1\\xgboost\\xgboost-ci-windows\\src\\learner.cc:742: \n",
      "Parameters: { \"objectives\", \"verbose\" } are not used.\n",
      "\n",
      "  warnings.warn(smsg, UserWarning)\n"
     ]
    },
    {
     "name": "stdout",
     "output_type": "stream",
     "text": [
      "Train set RMSE: 0.41\n",
      "Test set RMSE: 0.46\n",
      "Tested on combination ['is_holiday', 'is_weekend', 'Max_Grav_accidents', 'hosp', 'rea', 'Count_accidents']\n"
     ]
    },
    {
     "name": "stderr",
     "output_type": "stream",
     "text": [
      "C:\\Users\\Thomas\\anaconda3\\envs\\bikes-count\\lib\\site-packages\\xgboost\\core.py:160: UserWarning: [03:37:47] WARNING: C:\\buildkite-agent\\builds\\buildkite-windows-cpu-autoscaling-group-i-0750514818a16474a-1\\xgboost\\xgboost-ci-windows\\src\\learner.cc:742: \n",
      "Parameters: { \"objectives\", \"verbose\" } are not used.\n",
      "\n",
      "  warnings.warn(smsg, UserWarning)\n"
     ]
    },
    {
     "name": "stdout",
     "output_type": "stream",
     "text": [
      "Train set RMSE: 0.41\n",
      "Test set RMSE: 0.49\n",
      "Tested on combination ['is_holiday', 'is_weekend', 'Max_Grav_accidents', 'hosp', 'incid_rea', 'rad']\n"
     ]
    },
    {
     "name": "stderr",
     "output_type": "stream",
     "text": [
      "C:\\Users\\Thomas\\anaconda3\\envs\\bikes-count\\lib\\site-packages\\xgboost\\core.py:160: UserWarning: [03:37:53] WARNING: C:\\buildkite-agent\\builds\\buildkite-windows-cpu-autoscaling-group-i-0750514818a16474a-1\\xgboost\\xgboost-ci-windows\\src\\learner.cc:742: \n",
      "Parameters: { \"objectives\", \"verbose\" } are not used.\n",
      "\n",
      "  warnings.warn(smsg, UserWarning)\n"
     ]
    },
    {
     "name": "stdout",
     "output_type": "stream",
     "text": [
      "Train set RMSE: 0.41\n",
      "Test set RMSE: 0.48\n",
      "Tested on combination ['is_holiday', 'is_weekend', 'Max_Grav_accidents', 'hosp', 'incid_rea', 'Count_accidents']\n"
     ]
    },
    {
     "name": "stderr",
     "output_type": "stream",
     "text": [
      "C:\\Users\\Thomas\\anaconda3\\envs\\bikes-count\\lib\\site-packages\\xgboost\\core.py:160: UserWarning: [03:38:00] WARNING: C:\\buildkite-agent\\builds\\buildkite-windows-cpu-autoscaling-group-i-0750514818a16474a-1\\xgboost\\xgboost-ci-windows\\src\\learner.cc:742: \n",
      "Parameters: { \"objectives\", \"verbose\" } are not used.\n",
      "\n",
      "  warnings.warn(smsg, UserWarning)\n"
     ]
    },
    {
     "name": "stdout",
     "output_type": "stream",
     "text": [
      "Train set RMSE: 0.42\n",
      "Test set RMSE: 0.48\n",
      "Tested on combination ['is_holiday', 'is_weekend', 'Max_Grav_accidents', 'hosp', 'rad', 'Count_accidents']\n"
     ]
    },
    {
     "name": "stderr",
     "output_type": "stream",
     "text": [
      "C:\\Users\\Thomas\\anaconda3\\envs\\bikes-count\\lib\\site-packages\\xgboost\\core.py:160: UserWarning: [03:38:06] WARNING: C:\\buildkite-agent\\builds\\buildkite-windows-cpu-autoscaling-group-i-0750514818a16474a-1\\xgboost\\xgboost-ci-windows\\src\\learner.cc:742: \n",
      "Parameters: { \"objectives\", \"verbose\" } are not used.\n",
      "\n",
      "  warnings.warn(smsg, UserWarning)\n"
     ]
    },
    {
     "name": "stdout",
     "output_type": "stream",
     "text": [
      "Train set RMSE: 0.41\n",
      "Test set RMSE: 0.55\n",
      "Tested on combination ['is_holiday', 'is_weekend', 'Max_Grav_accidents', 'rea', 'incid_rea', 'rad']\n"
     ]
    },
    {
     "name": "stderr",
     "output_type": "stream",
     "text": [
      "C:\\Users\\Thomas\\anaconda3\\envs\\bikes-count\\lib\\site-packages\\xgboost\\core.py:160: UserWarning: [03:38:13] WARNING: C:\\buildkite-agent\\builds\\buildkite-windows-cpu-autoscaling-group-i-0750514818a16474a-1\\xgboost\\xgboost-ci-windows\\src\\learner.cc:742: \n",
      "Parameters: { \"objectives\", \"verbose\" } are not used.\n",
      "\n",
      "  warnings.warn(smsg, UserWarning)\n"
     ]
    },
    {
     "name": "stdout",
     "output_type": "stream",
     "text": [
      "Train set RMSE: 0.42\n",
      "Test set RMSE: 0.53\n",
      "Tested on combination ['is_holiday', 'is_weekend', 'Max_Grav_accidents', 'rea', 'incid_rea', 'Count_accidents']\n"
     ]
    },
    {
     "name": "stderr",
     "output_type": "stream",
     "text": [
      "C:\\Users\\Thomas\\anaconda3\\envs\\bikes-count\\lib\\site-packages\\xgboost\\core.py:160: UserWarning: [03:38:20] WARNING: C:\\buildkite-agent\\builds\\buildkite-windows-cpu-autoscaling-group-i-0750514818a16474a-1\\xgboost\\xgboost-ci-windows\\src\\learner.cc:742: \n",
      "Parameters: { \"objectives\", \"verbose\" } are not used.\n",
      "\n",
      "  warnings.warn(smsg, UserWarning)\n"
     ]
    },
    {
     "name": "stdout",
     "output_type": "stream",
     "text": [
      "Train set RMSE: 0.41\n",
      "Test set RMSE: 0.53\n",
      "Tested on combination ['is_holiday', 'is_weekend', 'Max_Grav_accidents', 'rea', 'rad', 'Count_accidents']\n"
     ]
    },
    {
     "name": "stderr",
     "output_type": "stream",
     "text": [
      "C:\\Users\\Thomas\\anaconda3\\envs\\bikes-count\\lib\\site-packages\\xgboost\\core.py:160: UserWarning: [03:38:27] WARNING: C:\\buildkite-agent\\builds\\buildkite-windows-cpu-autoscaling-group-i-0750514818a16474a-1\\xgboost\\xgboost-ci-windows\\src\\learner.cc:742: \n",
      "Parameters: { \"objectives\", \"verbose\" } are not used.\n",
      "\n",
      "  warnings.warn(smsg, UserWarning)\n"
     ]
    },
    {
     "name": "stdout",
     "output_type": "stream",
     "text": [
      "Train set RMSE: 0.41\n",
      "Test set RMSE: 0.52\n",
      "Tested on combination ['is_holiday', 'is_weekend', 'Max_Grav_accidents', 'incid_rea', 'rad', 'Count_accidents']\n"
     ]
    },
    {
     "name": "stderr",
     "output_type": "stream",
     "text": [
      "C:\\Users\\Thomas\\anaconda3\\envs\\bikes-count\\lib\\site-packages\\xgboost\\core.py:160: UserWarning: [03:38:33] WARNING: C:\\buildkite-agent\\builds\\buildkite-windows-cpu-autoscaling-group-i-0750514818a16474a-1\\xgboost\\xgboost-ci-windows\\src\\learner.cc:742: \n",
      "Parameters: { \"objectives\", \"verbose\" } are not used.\n",
      "\n",
      "  warnings.warn(smsg, UserWarning)\n"
     ]
    },
    {
     "name": "stdout",
     "output_type": "stream",
     "text": [
      "Train set RMSE: 0.41\n",
      "Test set RMSE: 0.49\n",
      "Tested on combination ['is_holiday', 'is_weekend', 'hosp', 'rea', 'incid_rea', 'rad']\n"
     ]
    },
    {
     "name": "stderr",
     "output_type": "stream",
     "text": [
      "C:\\Users\\Thomas\\anaconda3\\envs\\bikes-count\\lib\\site-packages\\xgboost\\core.py:160: UserWarning: [03:38:40] WARNING: C:\\buildkite-agent\\builds\\buildkite-windows-cpu-autoscaling-group-i-0750514818a16474a-1\\xgboost\\xgboost-ci-windows\\src\\learner.cc:742: \n",
      "Parameters: { \"objectives\", \"verbose\" } are not used.\n",
      "\n",
      "  warnings.warn(smsg, UserWarning)\n"
     ]
    },
    {
     "name": "stdout",
     "output_type": "stream",
     "text": [
      "Train set RMSE: 0.42\n",
      "Test set RMSE: 0.47\n",
      "Tested on combination ['is_holiday', 'is_weekend', 'hosp', 'rea', 'incid_rea', 'Count_accidents']\n"
     ]
    },
    {
     "name": "stderr",
     "output_type": "stream",
     "text": [
      "C:\\Users\\Thomas\\anaconda3\\envs\\bikes-count\\lib\\site-packages\\xgboost\\core.py:160: UserWarning: [03:38:46] WARNING: C:\\buildkite-agent\\builds\\buildkite-windows-cpu-autoscaling-group-i-0750514818a16474a-1\\xgboost\\xgboost-ci-windows\\src\\learner.cc:742: \n",
      "Parameters: { \"objectives\", \"verbose\" } are not used.\n",
      "\n",
      "  warnings.warn(smsg, UserWarning)\n"
     ]
    },
    {
     "name": "stdout",
     "output_type": "stream",
     "text": [
      "Train set RMSE: 0.41\n",
      "Test set RMSE: 0.54\n",
      "Tested on combination ['is_holiday', 'is_weekend', 'hosp', 'rea', 'rad', 'Count_accidents']\n"
     ]
    },
    {
     "name": "stderr",
     "output_type": "stream",
     "text": [
      "C:\\Users\\Thomas\\anaconda3\\envs\\bikes-count\\lib\\site-packages\\xgboost\\core.py:160: UserWarning: [03:38:53] WARNING: C:\\buildkite-agent\\builds\\buildkite-windows-cpu-autoscaling-group-i-0750514818a16474a-1\\xgboost\\xgboost-ci-windows\\src\\learner.cc:742: \n",
      "Parameters: { \"objectives\", \"verbose\" } are not used.\n",
      "\n",
      "  warnings.warn(smsg, UserWarning)\n"
     ]
    },
    {
     "name": "stdout",
     "output_type": "stream",
     "text": [
      "Train set RMSE: 0.41\n",
      "Test set RMSE: 0.50\n",
      "Tested on combination ['is_holiday', 'is_weekend', 'hosp', 'incid_rea', 'rad', 'Count_accidents']\n"
     ]
    },
    {
     "name": "stderr",
     "output_type": "stream",
     "text": [
      "C:\\Users\\Thomas\\anaconda3\\envs\\bikes-count\\lib\\site-packages\\xgboost\\core.py:160: UserWarning: [03:38:59] WARNING: C:\\buildkite-agent\\builds\\buildkite-windows-cpu-autoscaling-group-i-0750514818a16474a-1\\xgboost\\xgboost-ci-windows\\src\\learner.cc:742: \n",
      "Parameters: { \"objectives\", \"verbose\" } are not used.\n",
      "\n",
      "  warnings.warn(smsg, UserWarning)\n"
     ]
    },
    {
     "name": "stdout",
     "output_type": "stream",
     "text": [
      "Train set RMSE: 0.41\n",
      "Test set RMSE: 0.53\n",
      "Tested on combination ['is_holiday', 'is_weekend', 'rea', 'incid_rea', 'rad', 'Count_accidents']\n"
     ]
    },
    {
     "name": "stderr",
     "output_type": "stream",
     "text": [
      "C:\\Users\\Thomas\\anaconda3\\envs\\bikes-count\\lib\\site-packages\\xgboost\\core.py:160: UserWarning: [03:39:06] WARNING: C:\\buildkite-agent\\builds\\buildkite-windows-cpu-autoscaling-group-i-0750514818a16474a-1\\xgboost\\xgboost-ci-windows\\src\\learner.cc:742: \n",
      "Parameters: { \"objectives\", \"verbose\" } are not used.\n",
      "\n",
      "  warnings.warn(smsg, UserWarning)\n"
     ]
    },
    {
     "name": "stdout",
     "output_type": "stream",
     "text": [
      "Train set RMSE: 0.42\n",
      "Test set RMSE: 0.48\n",
      "Tested on combination ['is_holiday', 'is_lockdown', 'is_curfew', 'Max_Grav_accidents', 'hosp', 'rea']\n"
     ]
    },
    {
     "name": "stderr",
     "output_type": "stream",
     "text": [
      "C:\\Users\\Thomas\\anaconda3\\envs\\bikes-count\\lib\\site-packages\\xgboost\\core.py:160: UserWarning: [03:39:12] WARNING: C:\\buildkite-agent\\builds\\buildkite-windows-cpu-autoscaling-group-i-0750514818a16474a-1\\xgboost\\xgboost-ci-windows\\src\\learner.cc:742: \n",
      "Parameters: { \"objectives\", \"verbose\" } are not used.\n",
      "\n",
      "  warnings.warn(smsg, UserWarning)\n"
     ]
    },
    {
     "name": "stdout",
     "output_type": "stream",
     "text": [
      "Train set RMSE: 0.42\n",
      "Test set RMSE: 0.51\n",
      "Tested on combination ['is_holiday', 'is_lockdown', 'is_curfew', 'Max_Grav_accidents', 'hosp', 'incid_rea']\n"
     ]
    },
    {
     "name": "stderr",
     "output_type": "stream",
     "text": [
      "C:\\Users\\Thomas\\anaconda3\\envs\\bikes-count\\lib\\site-packages\\xgboost\\core.py:160: UserWarning: [03:39:19] WARNING: C:\\buildkite-agent\\builds\\buildkite-windows-cpu-autoscaling-group-i-0750514818a16474a-1\\xgboost\\xgboost-ci-windows\\src\\learner.cc:742: \n",
      "Parameters: { \"objectives\", \"verbose\" } are not used.\n",
      "\n",
      "  warnings.warn(smsg, UserWarning)\n"
     ]
    },
    {
     "name": "stdout",
     "output_type": "stream",
     "text": [
      "Train set RMSE: 0.41\n",
      "Test set RMSE: 0.49\n",
      "Tested on combination ['is_holiday', 'is_lockdown', 'is_curfew', 'Max_Grav_accidents', 'hosp', 'rad']\n"
     ]
    },
    {
     "name": "stderr",
     "output_type": "stream",
     "text": [
      "C:\\Users\\Thomas\\anaconda3\\envs\\bikes-count\\lib\\site-packages\\xgboost\\core.py:160: UserWarning: [03:39:25] WARNING: C:\\buildkite-agent\\builds\\buildkite-windows-cpu-autoscaling-group-i-0750514818a16474a-1\\xgboost\\xgboost-ci-windows\\src\\learner.cc:742: \n",
      "Parameters: { \"objectives\", \"verbose\" } are not used.\n",
      "\n",
      "  warnings.warn(smsg, UserWarning)\n"
     ]
    },
    {
     "name": "stdout",
     "output_type": "stream",
     "text": [
      "Train set RMSE: 0.42\n",
      "Test set RMSE: 0.47\n",
      "Tested on combination ['is_holiday', 'is_lockdown', 'is_curfew', 'Max_Grav_accidents', 'hosp', 'Count_accidents']\n"
     ]
    },
    {
     "name": "stderr",
     "output_type": "stream",
     "text": [
      "C:\\Users\\Thomas\\anaconda3\\envs\\bikes-count\\lib\\site-packages\\xgboost\\core.py:160: UserWarning: [03:39:32] WARNING: C:\\buildkite-agent\\builds\\buildkite-windows-cpu-autoscaling-group-i-0750514818a16474a-1\\xgboost\\xgboost-ci-windows\\src\\learner.cc:742: \n",
      "Parameters: { \"objectives\", \"verbose\" } are not used.\n",
      "\n",
      "  warnings.warn(smsg, UserWarning)\n"
     ]
    },
    {
     "name": "stdout",
     "output_type": "stream",
     "text": [
      "Train set RMSE: 0.42\n",
      "Test set RMSE: 0.54\n",
      "Tested on combination ['is_holiday', 'is_lockdown', 'is_curfew', 'Max_Grav_accidents', 'rea', 'incid_rea']\n"
     ]
    },
    {
     "name": "stderr",
     "output_type": "stream",
     "text": [
      "C:\\Users\\Thomas\\anaconda3\\envs\\bikes-count\\lib\\site-packages\\xgboost\\core.py:160: UserWarning: [03:39:38] WARNING: C:\\buildkite-agent\\builds\\buildkite-windows-cpu-autoscaling-group-i-0750514818a16474a-1\\xgboost\\xgboost-ci-windows\\src\\learner.cc:742: \n",
      "Parameters: { \"objectives\", \"verbose\" } are not used.\n",
      "\n",
      "  warnings.warn(smsg, UserWarning)\n"
     ]
    },
    {
     "name": "stdout",
     "output_type": "stream",
     "text": [
      "Train set RMSE: 0.41\n",
      "Test set RMSE: 0.55\n",
      "Tested on combination ['is_holiday', 'is_lockdown', 'is_curfew', 'Max_Grav_accidents', 'rea', 'rad']\n"
     ]
    },
    {
     "name": "stderr",
     "output_type": "stream",
     "text": [
      "C:\\Users\\Thomas\\anaconda3\\envs\\bikes-count\\lib\\site-packages\\xgboost\\core.py:160: UserWarning: [03:39:45] WARNING: C:\\buildkite-agent\\builds\\buildkite-windows-cpu-autoscaling-group-i-0750514818a16474a-1\\xgboost\\xgboost-ci-windows\\src\\learner.cc:742: \n",
      "Parameters: { \"objectives\", \"verbose\" } are not used.\n",
      "\n",
      "  warnings.warn(smsg, UserWarning)\n"
     ]
    },
    {
     "name": "stdout",
     "output_type": "stream",
     "text": [
      "Train set RMSE: 0.42\n",
      "Test set RMSE: 0.50\n",
      "Tested on combination ['is_holiday', 'is_lockdown', 'is_curfew', 'Max_Grav_accidents', 'rea', 'Count_accidents']\n"
     ]
    },
    {
     "name": "stderr",
     "output_type": "stream",
     "text": [
      "C:\\Users\\Thomas\\anaconda3\\envs\\bikes-count\\lib\\site-packages\\xgboost\\core.py:160: UserWarning: [03:39:51] WARNING: C:\\buildkite-agent\\builds\\buildkite-windows-cpu-autoscaling-group-i-0750514818a16474a-1\\xgboost\\xgboost-ci-windows\\src\\learner.cc:742: \n",
      "Parameters: { \"objectives\", \"verbose\" } are not used.\n",
      "\n",
      "  warnings.warn(smsg, UserWarning)\n"
     ]
    },
    {
     "name": "stdout",
     "output_type": "stream",
     "text": [
      "Train set RMSE: 0.42\n",
      "Test set RMSE: 0.51\n",
      "Tested on combination ['is_holiday', 'is_lockdown', 'is_curfew', 'Max_Grav_accidents', 'incid_rea', 'rad']\n"
     ]
    },
    {
     "name": "stderr",
     "output_type": "stream",
     "text": [
      "C:\\Users\\Thomas\\anaconda3\\envs\\bikes-count\\lib\\site-packages\\xgboost\\core.py:160: UserWarning: [03:39:57] WARNING: C:\\buildkite-agent\\builds\\buildkite-windows-cpu-autoscaling-group-i-0750514818a16474a-1\\xgboost\\xgboost-ci-windows\\src\\learner.cc:742: \n",
      "Parameters: { \"objectives\", \"verbose\" } are not used.\n",
      "\n",
      "  warnings.warn(smsg, UserWarning)\n"
     ]
    },
    {
     "name": "stdout",
     "output_type": "stream",
     "text": [
      "Train set RMSE: 0.43\n",
      "Test set RMSE: 0.48\n",
      "Tested on combination ['is_holiday', 'is_lockdown', 'is_curfew', 'Max_Grav_accidents', 'incid_rea', 'Count_accidents']\n"
     ]
    },
    {
     "name": "stderr",
     "output_type": "stream",
     "text": [
      "C:\\Users\\Thomas\\anaconda3\\envs\\bikes-count\\lib\\site-packages\\xgboost\\core.py:160: UserWarning: [03:40:04] WARNING: C:\\buildkite-agent\\builds\\buildkite-windows-cpu-autoscaling-group-i-0750514818a16474a-1\\xgboost\\xgboost-ci-windows\\src\\learner.cc:742: \n",
      "Parameters: { \"objectives\", \"verbose\" } are not used.\n",
      "\n",
      "  warnings.warn(smsg, UserWarning)\n"
     ]
    },
    {
     "name": "stdout",
     "output_type": "stream",
     "text": [
      "Train set RMSE: 0.42\n",
      "Test set RMSE: 0.51\n",
      "Tested on combination ['is_holiday', 'is_lockdown', 'is_curfew', 'Max_Grav_accidents', 'rad', 'Count_accidents']\n"
     ]
    },
    {
     "name": "stderr",
     "output_type": "stream",
     "text": [
      "C:\\Users\\Thomas\\anaconda3\\envs\\bikes-count\\lib\\site-packages\\xgboost\\core.py:160: UserWarning: [03:40:11] WARNING: C:\\buildkite-agent\\builds\\buildkite-windows-cpu-autoscaling-group-i-0750514818a16474a-1\\xgboost\\xgboost-ci-windows\\src\\learner.cc:742: \n",
      "Parameters: { \"objectives\", \"verbose\" } are not used.\n",
      "\n",
      "  warnings.warn(smsg, UserWarning)\n"
     ]
    },
    {
     "name": "stdout",
     "output_type": "stream",
     "text": [
      "Train set RMSE: 0.42\n",
      "Test set RMSE: 0.49\n",
      "Tested on combination ['is_holiday', 'is_lockdown', 'is_curfew', 'hosp', 'rea', 'incid_rea']\n"
     ]
    },
    {
     "name": "stderr",
     "output_type": "stream",
     "text": [
      "C:\\Users\\Thomas\\anaconda3\\envs\\bikes-count\\lib\\site-packages\\xgboost\\core.py:160: UserWarning: [03:40:17] WARNING: C:\\buildkite-agent\\builds\\buildkite-windows-cpu-autoscaling-group-i-0750514818a16474a-1\\xgboost\\xgboost-ci-windows\\src\\learner.cc:742: \n",
      "Parameters: { \"objectives\", \"verbose\" } are not used.\n",
      "\n",
      "  warnings.warn(smsg, UserWarning)\n"
     ]
    },
    {
     "name": "stdout",
     "output_type": "stream",
     "text": [
      "Train set RMSE: 0.41\n",
      "Test set RMSE: 0.51\n",
      "Tested on combination ['is_holiday', 'is_lockdown', 'is_curfew', 'hosp', 'rea', 'rad']\n"
     ]
    },
    {
     "name": "stderr",
     "output_type": "stream",
     "text": [
      "C:\\Users\\Thomas\\anaconda3\\envs\\bikes-count\\lib\\site-packages\\xgboost\\core.py:160: UserWarning: [03:40:23] WARNING: C:\\buildkite-agent\\builds\\buildkite-windows-cpu-autoscaling-group-i-0750514818a16474a-1\\xgboost\\xgboost-ci-windows\\src\\learner.cc:742: \n",
      "Parameters: { \"objectives\", \"verbose\" } are not used.\n",
      "\n",
      "  warnings.warn(smsg, UserWarning)\n"
     ]
    },
    {
     "name": "stdout",
     "output_type": "stream",
     "text": [
      "Train set RMSE: 0.42\n",
      "Test set RMSE: 0.48\n",
      "Tested on combination ['is_holiday', 'is_lockdown', 'is_curfew', 'hosp', 'rea', 'Count_accidents']\n"
     ]
    },
    {
     "name": "stderr",
     "output_type": "stream",
     "text": [
      "C:\\Users\\Thomas\\anaconda3\\envs\\bikes-count\\lib\\site-packages\\xgboost\\core.py:160: UserWarning: [03:40:30] WARNING: C:\\buildkite-agent\\builds\\buildkite-windows-cpu-autoscaling-group-i-0750514818a16474a-1\\xgboost\\xgboost-ci-windows\\src\\learner.cc:742: \n",
      "Parameters: { \"objectives\", \"verbose\" } are not used.\n",
      "\n",
      "  warnings.warn(smsg, UserWarning)\n"
     ]
    },
    {
     "name": "stdout",
     "output_type": "stream",
     "text": [
      "Train set RMSE: 0.41\n",
      "Test set RMSE: 0.50\n",
      "Tested on combination ['is_holiday', 'is_lockdown', 'is_curfew', 'hosp', 'incid_rea', 'rad']\n"
     ]
    },
    {
     "name": "stderr",
     "output_type": "stream",
     "text": [
      "C:\\Users\\Thomas\\anaconda3\\envs\\bikes-count\\lib\\site-packages\\xgboost\\core.py:160: UserWarning: [03:40:37] WARNING: C:\\buildkite-agent\\builds\\buildkite-windows-cpu-autoscaling-group-i-0750514818a16474a-1\\xgboost\\xgboost-ci-windows\\src\\learner.cc:742: \n",
      "Parameters: { \"objectives\", \"verbose\" } are not used.\n",
      "\n",
      "  warnings.warn(smsg, UserWarning)\n"
     ]
    },
    {
     "name": "stdout",
     "output_type": "stream",
     "text": [
      "Train set RMSE: 0.42\n",
      "Test set RMSE: 0.53\n",
      "Tested on combination ['is_holiday', 'is_lockdown', 'is_curfew', 'hosp', 'incid_rea', 'Count_accidents']\n"
     ]
    },
    {
     "name": "stderr",
     "output_type": "stream",
     "text": [
      "C:\\Users\\Thomas\\anaconda3\\envs\\bikes-count\\lib\\site-packages\\xgboost\\core.py:160: UserWarning: [03:40:43] WARNING: C:\\buildkite-agent\\builds\\buildkite-windows-cpu-autoscaling-group-i-0750514818a16474a-1\\xgboost\\xgboost-ci-windows\\src\\learner.cc:742: \n",
      "Parameters: { \"objectives\", \"verbose\" } are not used.\n",
      "\n",
      "  warnings.warn(smsg, UserWarning)\n"
     ]
    },
    {
     "name": "stdout",
     "output_type": "stream",
     "text": [
      "Train set RMSE: 0.41\n",
      "Test set RMSE: 0.51\n",
      "Tested on combination ['is_holiday', 'is_lockdown', 'is_curfew', 'hosp', 'rad', 'Count_accidents']\n"
     ]
    },
    {
     "name": "stderr",
     "output_type": "stream",
     "text": [
      "C:\\Users\\Thomas\\anaconda3\\envs\\bikes-count\\lib\\site-packages\\xgboost\\core.py:160: UserWarning: [03:40:49] WARNING: C:\\buildkite-agent\\builds\\buildkite-windows-cpu-autoscaling-group-i-0750514818a16474a-1\\xgboost\\xgboost-ci-windows\\src\\learner.cc:742: \n",
      "Parameters: { \"objectives\", \"verbose\" } are not used.\n",
      "\n",
      "  warnings.warn(smsg, UserWarning)\n"
     ]
    },
    {
     "name": "stdout",
     "output_type": "stream",
     "text": [
      "Train set RMSE: 0.41\n",
      "Test set RMSE: 0.55\n",
      "Tested on combination ['is_holiday', 'is_lockdown', 'is_curfew', 'rea', 'incid_rea', 'rad']\n"
     ]
    },
    {
     "name": "stderr",
     "output_type": "stream",
     "text": [
      "C:\\Users\\Thomas\\anaconda3\\envs\\bikes-count\\lib\\site-packages\\xgboost\\core.py:160: UserWarning: [03:40:56] WARNING: C:\\buildkite-agent\\builds\\buildkite-windows-cpu-autoscaling-group-i-0750514818a16474a-1\\xgboost\\xgboost-ci-windows\\src\\learner.cc:742: \n",
      "Parameters: { \"objectives\", \"verbose\" } are not used.\n",
      "\n",
      "  warnings.warn(smsg, UserWarning)\n"
     ]
    },
    {
     "name": "stdout",
     "output_type": "stream",
     "text": [
      "Train set RMSE: 0.42\n",
      "Test set RMSE: 0.52\n",
      "Tested on combination ['is_holiday', 'is_lockdown', 'is_curfew', 'rea', 'incid_rea', 'Count_accidents']\n"
     ]
    },
    {
     "name": "stderr",
     "output_type": "stream",
     "text": [
      "C:\\Users\\Thomas\\anaconda3\\envs\\bikes-count\\lib\\site-packages\\xgboost\\core.py:160: UserWarning: [03:41:02] WARNING: C:\\buildkite-agent\\builds\\buildkite-windows-cpu-autoscaling-group-i-0750514818a16474a-1\\xgboost\\xgboost-ci-windows\\src\\learner.cc:742: \n",
      "Parameters: { \"objectives\", \"verbose\" } are not used.\n",
      "\n",
      "  warnings.warn(smsg, UserWarning)\n"
     ]
    },
    {
     "name": "stdout",
     "output_type": "stream",
     "text": [
      "Train set RMSE: 0.41\n",
      "Test set RMSE: 0.55\n",
      "Tested on combination ['is_holiday', 'is_lockdown', 'is_curfew', 'rea', 'rad', 'Count_accidents']\n"
     ]
    },
    {
     "name": "stderr",
     "output_type": "stream",
     "text": [
      "C:\\Users\\Thomas\\anaconda3\\envs\\bikes-count\\lib\\site-packages\\xgboost\\core.py:160: UserWarning: [03:41:09] WARNING: C:\\buildkite-agent\\builds\\buildkite-windows-cpu-autoscaling-group-i-0750514818a16474a-1\\xgboost\\xgboost-ci-windows\\src\\learner.cc:742: \n",
      "Parameters: { \"objectives\", \"verbose\" } are not used.\n",
      "\n",
      "  warnings.warn(smsg, UserWarning)\n"
     ]
    },
    {
     "name": "stdout",
     "output_type": "stream",
     "text": [
      "Train set RMSE: 0.41\n",
      "Test set RMSE: 0.51\n",
      "Tested on combination ['is_holiday', 'is_lockdown', 'is_curfew', 'incid_rea', 'rad', 'Count_accidents']\n"
     ]
    },
    {
     "name": "stderr",
     "output_type": "stream",
     "text": [
      "C:\\Users\\Thomas\\anaconda3\\envs\\bikes-count\\lib\\site-packages\\xgboost\\core.py:160: UserWarning: [03:41:15] WARNING: C:\\buildkite-agent\\builds\\buildkite-windows-cpu-autoscaling-group-i-0750514818a16474a-1\\xgboost\\xgboost-ci-windows\\src\\learner.cc:742: \n",
      "Parameters: { \"objectives\", \"verbose\" } are not used.\n",
      "\n",
      "  warnings.warn(smsg, UserWarning)\n"
     ]
    },
    {
     "name": "stdout",
     "output_type": "stream",
     "text": [
      "Train set RMSE: 0.42\n",
      "Test set RMSE: 0.48\n",
      "Tested on combination ['is_holiday', 'is_lockdown', 'Max_Grav_accidents', 'hosp', 'rea', 'incid_rea']\n"
     ]
    },
    {
     "name": "stderr",
     "output_type": "stream",
     "text": [
      "C:\\Users\\Thomas\\anaconda3\\envs\\bikes-count\\lib\\site-packages\\xgboost\\core.py:160: UserWarning: [03:41:22] WARNING: C:\\buildkite-agent\\builds\\buildkite-windows-cpu-autoscaling-group-i-0750514818a16474a-1\\xgboost\\xgboost-ci-windows\\src\\learner.cc:742: \n",
      "Parameters: { \"objectives\", \"verbose\" } are not used.\n",
      "\n",
      "  warnings.warn(smsg, UserWarning)\n"
     ]
    },
    {
     "name": "stdout",
     "output_type": "stream",
     "text": [
      "Train set RMSE: 0.41\n",
      "Test set RMSE: 0.49\n",
      "Tested on combination ['is_holiday', 'is_lockdown', 'Max_Grav_accidents', 'hosp', 'rea', 'rad']\n"
     ]
    },
    {
     "name": "stderr",
     "output_type": "stream",
     "text": [
      "C:\\Users\\Thomas\\anaconda3\\envs\\bikes-count\\lib\\site-packages\\xgboost\\core.py:160: UserWarning: [03:41:28] WARNING: C:\\buildkite-agent\\builds\\buildkite-windows-cpu-autoscaling-group-i-0750514818a16474a-1\\xgboost\\xgboost-ci-windows\\src\\learner.cc:742: \n",
      "Parameters: { \"objectives\", \"verbose\" } are not used.\n",
      "\n",
      "  warnings.warn(smsg, UserWarning)\n"
     ]
    },
    {
     "name": "stdout",
     "output_type": "stream",
     "text": [
      "Train set RMSE: 0.41\n",
      "Test set RMSE: 0.46\n",
      "Tested on combination ['is_holiday', 'is_lockdown', 'Max_Grav_accidents', 'hosp', 'rea', 'Count_accidents']\n"
     ]
    },
    {
     "name": "stderr",
     "output_type": "stream",
     "text": [
      "C:\\Users\\Thomas\\anaconda3\\envs\\bikes-count\\lib\\site-packages\\xgboost\\core.py:160: UserWarning: [03:41:35] WARNING: C:\\buildkite-agent\\builds\\buildkite-windows-cpu-autoscaling-group-i-0750514818a16474a-1\\xgboost\\xgboost-ci-windows\\src\\learner.cc:742: \n",
      "Parameters: { \"objectives\", \"verbose\" } are not used.\n",
      "\n",
      "  warnings.warn(smsg, UserWarning)\n"
     ]
    },
    {
     "name": "stdout",
     "output_type": "stream",
     "text": [
      "Train set RMSE: 0.41\n",
      "Test set RMSE: 0.49\n",
      "Tested on combination ['is_holiday', 'is_lockdown', 'Max_Grav_accidents', 'hosp', 'incid_rea', 'rad']\n"
     ]
    },
    {
     "name": "stderr",
     "output_type": "stream",
     "text": [
      "C:\\Users\\Thomas\\anaconda3\\envs\\bikes-count\\lib\\site-packages\\xgboost\\core.py:160: UserWarning: [03:41:42] WARNING: C:\\buildkite-agent\\builds\\buildkite-windows-cpu-autoscaling-group-i-0750514818a16474a-1\\xgboost\\xgboost-ci-windows\\src\\learner.cc:742: \n",
      "Parameters: { \"objectives\", \"verbose\" } are not used.\n",
      "\n",
      "  warnings.warn(smsg, UserWarning)\n"
     ]
    },
    {
     "name": "stdout",
     "output_type": "stream",
     "text": [
      "Train set RMSE: 0.42\n",
      "Test set RMSE: 0.51\n",
      "Tested on combination ['is_holiday', 'is_lockdown', 'Max_Grav_accidents', 'hosp', 'incid_rea', 'Count_accidents']\n"
     ]
    },
    {
     "name": "stderr",
     "output_type": "stream",
     "text": [
      "C:\\Users\\Thomas\\anaconda3\\envs\\bikes-count\\lib\\site-packages\\xgboost\\core.py:160: UserWarning: [03:41:48] WARNING: C:\\buildkite-agent\\builds\\buildkite-windows-cpu-autoscaling-group-i-0750514818a16474a-1\\xgboost\\xgboost-ci-windows\\src\\learner.cc:742: \n",
      "Parameters: { \"objectives\", \"verbose\" } are not used.\n",
      "\n",
      "  warnings.warn(smsg, UserWarning)\n"
     ]
    },
    {
     "name": "stdout",
     "output_type": "stream",
     "text": [
      "Train set RMSE: 0.41\n",
      "Test set RMSE: 0.50\n",
      "Tested on combination ['is_holiday', 'is_lockdown', 'Max_Grav_accidents', 'hosp', 'rad', 'Count_accidents']\n"
     ]
    },
    {
     "name": "stderr",
     "output_type": "stream",
     "text": [
      "C:\\Users\\Thomas\\anaconda3\\envs\\bikes-count\\lib\\site-packages\\xgboost\\core.py:160: UserWarning: [03:41:55] WARNING: C:\\buildkite-agent\\builds\\buildkite-windows-cpu-autoscaling-group-i-0750514818a16474a-1\\xgboost\\xgboost-ci-windows\\src\\learner.cc:742: \n",
      "Parameters: { \"objectives\", \"verbose\" } are not used.\n",
      "\n",
      "  warnings.warn(smsg, UserWarning)\n"
     ]
    },
    {
     "name": "stdout",
     "output_type": "stream",
     "text": [
      "Train set RMSE: 0.41\n",
      "Test set RMSE: 0.55\n",
      "Tested on combination ['is_holiday', 'is_lockdown', 'Max_Grav_accidents', 'rea', 'incid_rea', 'rad']\n"
     ]
    },
    {
     "name": "stderr",
     "output_type": "stream",
     "text": [
      "C:\\Users\\Thomas\\anaconda3\\envs\\bikes-count\\lib\\site-packages\\xgboost\\core.py:160: UserWarning: [03:42:01] WARNING: C:\\buildkite-agent\\builds\\buildkite-windows-cpu-autoscaling-group-i-0750514818a16474a-1\\xgboost\\xgboost-ci-windows\\src\\learner.cc:742: \n",
      "Parameters: { \"objectives\", \"verbose\" } are not used.\n",
      "\n",
      "  warnings.warn(smsg, UserWarning)\n"
     ]
    },
    {
     "name": "stdout",
     "output_type": "stream",
     "text": [
      "Train set RMSE: 0.42\n",
      "Test set RMSE: 0.52\n",
      "Tested on combination ['is_holiday', 'is_lockdown', 'Max_Grav_accidents', 'rea', 'incid_rea', 'Count_accidents']\n"
     ]
    },
    {
     "name": "stderr",
     "output_type": "stream",
     "text": [
      "C:\\Users\\Thomas\\anaconda3\\envs\\bikes-count\\lib\\site-packages\\xgboost\\core.py:160: UserWarning: [03:42:08] WARNING: C:\\buildkite-agent\\builds\\buildkite-windows-cpu-autoscaling-group-i-0750514818a16474a-1\\xgboost\\xgboost-ci-windows\\src\\learner.cc:742: \n",
      "Parameters: { \"objectives\", \"verbose\" } are not used.\n",
      "\n",
      "  warnings.warn(smsg, UserWarning)\n"
     ]
    },
    {
     "name": "stdout",
     "output_type": "stream",
     "text": [
      "Train set RMSE: 0.41\n",
      "Test set RMSE: 0.55\n",
      "Tested on combination ['is_holiday', 'is_lockdown', 'Max_Grav_accidents', 'rea', 'rad', 'Count_accidents']\n"
     ]
    },
    {
     "name": "stderr",
     "output_type": "stream",
     "text": [
      "C:\\Users\\Thomas\\anaconda3\\envs\\bikes-count\\lib\\site-packages\\xgboost\\core.py:160: UserWarning: [03:42:15] WARNING: C:\\buildkite-agent\\builds\\buildkite-windows-cpu-autoscaling-group-i-0750514818a16474a-1\\xgboost\\xgboost-ci-windows\\src\\learner.cc:742: \n",
      "Parameters: { \"objectives\", \"verbose\" } are not used.\n",
      "\n",
      "  warnings.warn(smsg, UserWarning)\n"
     ]
    },
    {
     "name": "stdout",
     "output_type": "stream",
     "text": [
      "Train set RMSE: 0.41\n",
      "Test set RMSE: 0.49\n",
      "Tested on combination ['is_holiday', 'is_lockdown', 'Max_Grav_accidents', 'incid_rea', 'rad', 'Count_accidents']\n"
     ]
    },
    {
     "name": "stderr",
     "output_type": "stream",
     "text": [
      "C:\\Users\\Thomas\\anaconda3\\envs\\bikes-count\\lib\\site-packages\\xgboost\\core.py:160: UserWarning: [03:42:21] WARNING: C:\\buildkite-agent\\builds\\buildkite-windows-cpu-autoscaling-group-i-0750514818a16474a-1\\xgboost\\xgboost-ci-windows\\src\\learner.cc:742: \n",
      "Parameters: { \"objectives\", \"verbose\" } are not used.\n",
      "\n",
      "  warnings.warn(smsg, UserWarning)\n"
     ]
    },
    {
     "name": "stdout",
     "output_type": "stream",
     "text": [
      "Train set RMSE: 0.41\n",
      "Test set RMSE: 0.50\n",
      "Tested on combination ['is_holiday', 'is_lockdown', 'hosp', 'rea', 'incid_rea', 'rad']\n"
     ]
    },
    {
     "name": "stderr",
     "output_type": "stream",
     "text": [
      "C:\\Users\\Thomas\\anaconda3\\envs\\bikes-count\\lib\\site-packages\\xgboost\\core.py:160: UserWarning: [03:42:28] WARNING: C:\\buildkite-agent\\builds\\buildkite-windows-cpu-autoscaling-group-i-0750514818a16474a-1\\xgboost\\xgboost-ci-windows\\src\\learner.cc:742: \n",
      "Parameters: { \"objectives\", \"verbose\" } are not used.\n",
      "\n",
      "  warnings.warn(smsg, UserWarning)\n"
     ]
    },
    {
     "name": "stdout",
     "output_type": "stream",
     "text": [
      "Train set RMSE: 0.42\n",
      "Test set RMSE: 0.50\n",
      "Tested on combination ['is_holiday', 'is_lockdown', 'hosp', 'rea', 'incid_rea', 'Count_accidents']\n"
     ]
    },
    {
     "name": "stderr",
     "output_type": "stream",
     "text": [
      "C:\\Users\\Thomas\\anaconda3\\envs\\bikes-count\\lib\\site-packages\\xgboost\\core.py:160: UserWarning: [03:42:34] WARNING: C:\\buildkite-agent\\builds\\buildkite-windows-cpu-autoscaling-group-i-0750514818a16474a-1\\xgboost\\xgboost-ci-windows\\src\\learner.cc:742: \n",
      "Parameters: { \"objectives\", \"verbose\" } are not used.\n",
      "\n",
      "  warnings.warn(smsg, UserWarning)\n"
     ]
    },
    {
     "name": "stdout",
     "output_type": "stream",
     "text": [
      "Train set RMSE: 0.41\n",
      "Test set RMSE: 0.49\n",
      "Tested on combination ['is_holiday', 'is_lockdown', 'hosp', 'rea', 'rad', 'Count_accidents']\n"
     ]
    },
    {
     "name": "stderr",
     "output_type": "stream",
     "text": [
      "C:\\Users\\Thomas\\anaconda3\\envs\\bikes-count\\lib\\site-packages\\xgboost\\core.py:160: UserWarning: [03:42:41] WARNING: C:\\buildkite-agent\\builds\\buildkite-windows-cpu-autoscaling-group-i-0750514818a16474a-1\\xgboost\\xgboost-ci-windows\\src\\learner.cc:742: \n",
      "Parameters: { \"objectives\", \"verbose\" } are not used.\n",
      "\n",
      "  warnings.warn(smsg, UserWarning)\n"
     ]
    },
    {
     "name": "stdout",
     "output_type": "stream",
     "text": [
      "Train set RMSE: 0.41\n",
      "Test set RMSE: 0.50\n",
      "Tested on combination ['is_holiday', 'is_lockdown', 'hosp', 'incid_rea', 'rad', 'Count_accidents']\n"
     ]
    },
    {
     "name": "stderr",
     "output_type": "stream",
     "text": [
      "C:\\Users\\Thomas\\anaconda3\\envs\\bikes-count\\lib\\site-packages\\xgboost\\core.py:160: UserWarning: [03:42:47] WARNING: C:\\buildkite-agent\\builds\\buildkite-windows-cpu-autoscaling-group-i-0750514818a16474a-1\\xgboost\\xgboost-ci-windows\\src\\learner.cc:742: \n",
      "Parameters: { \"objectives\", \"verbose\" } are not used.\n",
      "\n",
      "  warnings.warn(smsg, UserWarning)\n"
     ]
    },
    {
     "name": "stdout",
     "output_type": "stream",
     "text": [
      "Train set RMSE: 0.41\n",
      "Test set RMSE: 0.54\n",
      "Tested on combination ['is_holiday', 'is_lockdown', 'rea', 'incid_rea', 'rad', 'Count_accidents']\n"
     ]
    },
    {
     "name": "stderr",
     "output_type": "stream",
     "text": [
      "C:\\Users\\Thomas\\anaconda3\\envs\\bikes-count\\lib\\site-packages\\xgboost\\core.py:160: UserWarning: [03:42:54] WARNING: C:\\buildkite-agent\\builds\\buildkite-windows-cpu-autoscaling-group-i-0750514818a16474a-1\\xgboost\\xgboost-ci-windows\\src\\learner.cc:742: \n",
      "Parameters: { \"objectives\", \"verbose\" } are not used.\n",
      "\n",
      "  warnings.warn(smsg, UserWarning)\n"
     ]
    },
    {
     "name": "stdout",
     "output_type": "stream",
     "text": [
      "Train set RMSE: 0.42\n",
      "Test set RMSE: 0.47\n",
      "Tested on combination ['is_holiday', 'is_curfew', 'Max_Grav_accidents', 'hosp', 'rea', 'incid_rea']\n"
     ]
    },
    {
     "name": "stderr",
     "output_type": "stream",
     "text": [
      "C:\\Users\\Thomas\\anaconda3\\envs\\bikes-count\\lib\\site-packages\\xgboost\\core.py:160: UserWarning: [03:43:01] WARNING: C:\\buildkite-agent\\builds\\buildkite-windows-cpu-autoscaling-group-i-0750514818a16474a-1\\xgboost\\xgboost-ci-windows\\src\\learner.cc:742: \n",
      "Parameters: { \"objectives\", \"verbose\" } are not used.\n",
      "\n",
      "  warnings.warn(smsg, UserWarning)\n"
     ]
    },
    {
     "name": "stdout",
     "output_type": "stream",
     "text": [
      "Train set RMSE: 0.41\n",
      "Test set RMSE: 0.50\n",
      "Tested on combination ['is_holiday', 'is_curfew', 'Max_Grav_accidents', 'hosp', 'rea', 'rad']\n"
     ]
    },
    {
     "name": "stderr",
     "output_type": "stream",
     "text": [
      "C:\\Users\\Thomas\\anaconda3\\envs\\bikes-count\\lib\\site-packages\\xgboost\\core.py:160: UserWarning: [03:43:07] WARNING: C:\\buildkite-agent\\builds\\buildkite-windows-cpu-autoscaling-group-i-0750514818a16474a-1\\xgboost\\xgboost-ci-windows\\src\\learner.cc:742: \n",
      "Parameters: { \"objectives\", \"verbose\" } are not used.\n",
      "\n",
      "  warnings.warn(smsg, UserWarning)\n"
     ]
    },
    {
     "name": "stdout",
     "output_type": "stream",
     "text": [
      "Train set RMSE: 0.42\n",
      "Test set RMSE: 0.49\n",
      "Tested on combination ['is_holiday', 'is_curfew', 'Max_Grav_accidents', 'hosp', 'rea', 'Count_accidents']\n"
     ]
    },
    {
     "name": "stderr",
     "output_type": "stream",
     "text": [
      "C:\\Users\\Thomas\\anaconda3\\envs\\bikes-count\\lib\\site-packages\\xgboost\\core.py:160: UserWarning: [03:43:14] WARNING: C:\\buildkite-agent\\builds\\buildkite-windows-cpu-autoscaling-group-i-0750514818a16474a-1\\xgboost\\xgboost-ci-windows\\src\\learner.cc:742: \n",
      "Parameters: { \"objectives\", \"verbose\" } are not used.\n",
      "\n",
      "  warnings.warn(smsg, UserWarning)\n"
     ]
    },
    {
     "name": "stdout",
     "output_type": "stream",
     "text": [
      "Train set RMSE: 0.41\n",
      "Test set RMSE: 0.52\n",
      "Tested on combination ['is_holiday', 'is_curfew', 'Max_Grav_accidents', 'hosp', 'incid_rea', 'rad']\n"
     ]
    },
    {
     "name": "stderr",
     "output_type": "stream",
     "text": [
      "C:\\Users\\Thomas\\anaconda3\\envs\\bikes-count\\lib\\site-packages\\xgboost\\core.py:160: UserWarning: [03:43:20] WARNING: C:\\buildkite-agent\\builds\\buildkite-windows-cpu-autoscaling-group-i-0750514818a16474a-1\\xgboost\\xgboost-ci-windows\\src\\learner.cc:742: \n",
      "Parameters: { \"objectives\", \"verbose\" } are not used.\n",
      "\n",
      "  warnings.warn(smsg, UserWarning)\n"
     ]
    },
    {
     "name": "stdout",
     "output_type": "stream",
     "text": [
      "Train set RMSE: 0.42\n",
      "Test set RMSE: 0.49\n",
      "Tested on combination ['is_holiday', 'is_curfew', 'Max_Grav_accidents', 'hosp', 'incid_rea', 'Count_accidents']\n"
     ]
    },
    {
     "name": "stderr",
     "output_type": "stream",
     "text": [
      "C:\\Users\\Thomas\\anaconda3\\envs\\bikes-count\\lib\\site-packages\\xgboost\\core.py:160: UserWarning: [03:43:27] WARNING: C:\\buildkite-agent\\builds\\buildkite-windows-cpu-autoscaling-group-i-0750514818a16474a-1\\xgboost\\xgboost-ci-windows\\src\\learner.cc:742: \n",
      "Parameters: { \"objectives\", \"verbose\" } are not used.\n",
      "\n",
      "  warnings.warn(smsg, UserWarning)\n"
     ]
    },
    {
     "name": "stdout",
     "output_type": "stream",
     "text": [
      "Train set RMSE: 0.41\n",
      "Test set RMSE: 0.49\n",
      "Tested on combination ['is_holiday', 'is_curfew', 'Max_Grav_accidents', 'hosp', 'rad', 'Count_accidents']\n"
     ]
    },
    {
     "name": "stderr",
     "output_type": "stream",
     "text": [
      "C:\\Users\\Thomas\\anaconda3\\envs\\bikes-count\\lib\\site-packages\\xgboost\\core.py:160: UserWarning: [03:43:34] WARNING: C:\\buildkite-agent\\builds\\buildkite-windows-cpu-autoscaling-group-i-0750514818a16474a-1\\xgboost\\xgboost-ci-windows\\src\\learner.cc:742: \n",
      "Parameters: { \"objectives\", \"verbose\" } are not used.\n",
      "\n",
      "  warnings.warn(smsg, UserWarning)\n"
     ]
    },
    {
     "name": "stdout",
     "output_type": "stream",
     "text": [
      "Train set RMSE: 0.41\n",
      "Test set RMSE: 0.54\n",
      "Tested on combination ['is_holiday', 'is_curfew', 'Max_Grav_accidents', 'rea', 'incid_rea', 'rad']\n"
     ]
    },
    {
     "name": "stderr",
     "output_type": "stream",
     "text": [
      "C:\\Users\\Thomas\\anaconda3\\envs\\bikes-count\\lib\\site-packages\\xgboost\\core.py:160: UserWarning: [03:43:40] WARNING: C:\\buildkite-agent\\builds\\buildkite-windows-cpu-autoscaling-group-i-0750514818a16474a-1\\xgboost\\xgboost-ci-windows\\src\\learner.cc:742: \n",
      "Parameters: { \"objectives\", \"verbose\" } are not used.\n",
      "\n",
      "  warnings.warn(smsg, UserWarning)\n"
     ]
    },
    {
     "name": "stdout",
     "output_type": "stream",
     "text": [
      "Train set RMSE: 0.42\n",
      "Test set RMSE: 0.52\n",
      "Tested on combination ['is_holiday', 'is_curfew', 'Max_Grav_accidents', 'rea', 'incid_rea', 'Count_accidents']\n"
     ]
    },
    {
     "name": "stderr",
     "output_type": "stream",
     "text": [
      "C:\\Users\\Thomas\\anaconda3\\envs\\bikes-count\\lib\\site-packages\\xgboost\\core.py:160: UserWarning: [03:43:47] WARNING: C:\\buildkite-agent\\builds\\buildkite-windows-cpu-autoscaling-group-i-0750514818a16474a-1\\xgboost\\xgboost-ci-windows\\src\\learner.cc:742: \n",
      "Parameters: { \"objectives\", \"verbose\" } are not used.\n",
      "\n",
      "  warnings.warn(smsg, UserWarning)\n"
     ]
    },
    {
     "name": "stdout",
     "output_type": "stream",
     "text": [
      "Train set RMSE: 0.41\n",
      "Test set RMSE: 0.56\n",
      "Tested on combination ['is_holiday', 'is_curfew', 'Max_Grav_accidents', 'rea', 'rad', 'Count_accidents']\n"
     ]
    },
    {
     "name": "stderr",
     "output_type": "stream",
     "text": [
      "C:\\Users\\Thomas\\anaconda3\\envs\\bikes-count\\lib\\site-packages\\xgboost\\core.py:160: UserWarning: [03:43:53] WARNING: C:\\buildkite-agent\\builds\\buildkite-windows-cpu-autoscaling-group-i-0750514818a16474a-1\\xgboost\\xgboost-ci-windows\\src\\learner.cc:742: \n",
      "Parameters: { \"objectives\", \"verbose\" } are not used.\n",
      "\n",
      "  warnings.warn(smsg, UserWarning)\n"
     ]
    },
    {
     "name": "stdout",
     "output_type": "stream",
     "text": [
      "Train set RMSE: 0.41\n",
      "Test set RMSE: 0.51\n",
      "Tested on combination ['is_holiday', 'is_curfew', 'Max_Grav_accidents', 'incid_rea', 'rad', 'Count_accidents']\n"
     ]
    },
    {
     "name": "stderr",
     "output_type": "stream",
     "text": [
      "C:\\Users\\Thomas\\anaconda3\\envs\\bikes-count\\lib\\site-packages\\xgboost\\core.py:160: UserWarning: [03:44:00] WARNING: C:\\buildkite-agent\\builds\\buildkite-windows-cpu-autoscaling-group-i-0750514818a16474a-1\\xgboost\\xgboost-ci-windows\\src\\learner.cc:742: \n",
      "Parameters: { \"objectives\", \"verbose\" } are not used.\n",
      "\n",
      "  warnings.warn(smsg, UserWarning)\n"
     ]
    },
    {
     "name": "stdout",
     "output_type": "stream",
     "text": [
      "Train set RMSE: 0.41\n",
      "Test set RMSE: 0.51\n",
      "Tested on combination ['is_holiday', 'is_curfew', 'hosp', 'rea', 'incid_rea', 'rad']\n"
     ]
    },
    {
     "name": "stderr",
     "output_type": "stream",
     "text": [
      "C:\\Users\\Thomas\\anaconda3\\envs\\bikes-count\\lib\\site-packages\\xgboost\\core.py:160: UserWarning: [03:44:07] WARNING: C:\\buildkite-agent\\builds\\buildkite-windows-cpu-autoscaling-group-i-0750514818a16474a-1\\xgboost\\xgboost-ci-windows\\src\\learner.cc:742: \n",
      "Parameters: { \"objectives\", \"verbose\" } are not used.\n",
      "\n",
      "  warnings.warn(smsg, UserWarning)\n"
     ]
    },
    {
     "name": "stdout",
     "output_type": "stream",
     "text": [
      "Train set RMSE: 0.42\n",
      "Test set RMSE: 0.48\n",
      "Tested on combination ['is_holiday', 'is_curfew', 'hosp', 'rea', 'incid_rea', 'Count_accidents']\n"
     ]
    },
    {
     "name": "stderr",
     "output_type": "stream",
     "text": [
      "C:\\Users\\Thomas\\anaconda3\\envs\\bikes-count\\lib\\site-packages\\xgboost\\core.py:160: UserWarning: [03:44:13] WARNING: C:\\buildkite-agent\\builds\\buildkite-windows-cpu-autoscaling-group-i-0750514818a16474a-1\\xgboost\\xgboost-ci-windows\\src\\learner.cc:742: \n",
      "Parameters: { \"objectives\", \"verbose\" } are not used.\n",
      "\n",
      "  warnings.warn(smsg, UserWarning)\n"
     ]
    },
    {
     "name": "stdout",
     "output_type": "stream",
     "text": [
      "Train set RMSE: 0.41\n",
      "Test set RMSE: 0.53\n",
      "Tested on combination ['is_holiday', 'is_curfew', 'hosp', 'rea', 'rad', 'Count_accidents']\n"
     ]
    },
    {
     "name": "stderr",
     "output_type": "stream",
     "text": [
      "C:\\Users\\Thomas\\anaconda3\\envs\\bikes-count\\lib\\site-packages\\xgboost\\core.py:160: UserWarning: [03:44:20] WARNING: C:\\buildkite-agent\\builds\\buildkite-windows-cpu-autoscaling-group-i-0750514818a16474a-1\\xgboost\\xgboost-ci-windows\\src\\learner.cc:742: \n",
      "Parameters: { \"objectives\", \"verbose\" } are not used.\n",
      "\n",
      "  warnings.warn(smsg, UserWarning)\n"
     ]
    },
    {
     "name": "stdout",
     "output_type": "stream",
     "text": [
      "Train set RMSE: 0.41\n",
      "Test set RMSE: 0.50\n",
      "Tested on combination ['is_holiday', 'is_curfew', 'hosp', 'incid_rea', 'rad', 'Count_accidents']\n"
     ]
    },
    {
     "name": "stderr",
     "output_type": "stream",
     "text": [
      "C:\\Users\\Thomas\\anaconda3\\envs\\bikes-count\\lib\\site-packages\\xgboost\\core.py:160: UserWarning: [03:44:26] WARNING: C:\\buildkite-agent\\builds\\buildkite-windows-cpu-autoscaling-group-i-0750514818a16474a-1\\xgboost\\xgboost-ci-windows\\src\\learner.cc:742: \n",
      "Parameters: { \"objectives\", \"verbose\" } are not used.\n",
      "\n",
      "  warnings.warn(smsg, UserWarning)\n"
     ]
    },
    {
     "name": "stdout",
     "output_type": "stream",
     "text": [
      "Train set RMSE: 0.41\n",
      "Test set RMSE: 0.55\n",
      "Tested on combination ['is_holiday', 'is_curfew', 'rea', 'incid_rea', 'rad', 'Count_accidents']\n"
     ]
    },
    {
     "name": "stderr",
     "output_type": "stream",
     "text": [
      "C:\\Users\\Thomas\\anaconda3\\envs\\bikes-count\\lib\\site-packages\\xgboost\\core.py:160: UserWarning: [03:44:33] WARNING: C:\\buildkite-agent\\builds\\buildkite-windows-cpu-autoscaling-group-i-0750514818a16474a-1\\xgboost\\xgboost-ci-windows\\src\\learner.cc:742: \n",
      "Parameters: { \"objectives\", \"verbose\" } are not used.\n",
      "\n",
      "  warnings.warn(smsg, UserWarning)\n"
     ]
    },
    {
     "name": "stdout",
     "output_type": "stream",
     "text": [
      "Train set RMSE: 0.41\n",
      "Test set RMSE: 0.49\n",
      "Tested on combination ['is_holiday', 'Max_Grav_accidents', 'hosp', 'rea', 'incid_rea', 'rad']\n"
     ]
    },
    {
     "name": "stderr",
     "output_type": "stream",
     "text": [
      "C:\\Users\\Thomas\\anaconda3\\envs\\bikes-count\\lib\\site-packages\\xgboost\\core.py:160: UserWarning: [03:44:40] WARNING: C:\\buildkite-agent\\builds\\buildkite-windows-cpu-autoscaling-group-i-0750514818a16474a-1\\xgboost\\xgboost-ci-windows\\src\\learner.cc:742: \n",
      "Parameters: { \"objectives\", \"verbose\" } are not used.\n",
      "\n",
      "  warnings.warn(smsg, UserWarning)\n"
     ]
    },
    {
     "name": "stdout",
     "output_type": "stream",
     "text": [
      "Train set RMSE: 0.42\n",
      "Test set RMSE: 0.49\n",
      "Tested on combination ['is_holiday', 'Max_Grav_accidents', 'hosp', 'rea', 'incid_rea', 'Count_accidents']\n"
     ]
    },
    {
     "name": "stderr",
     "output_type": "stream",
     "text": [
      "C:\\Users\\Thomas\\anaconda3\\envs\\bikes-count\\lib\\site-packages\\xgboost\\core.py:160: UserWarning: [03:44:46] WARNING: C:\\buildkite-agent\\builds\\buildkite-windows-cpu-autoscaling-group-i-0750514818a16474a-1\\xgboost\\xgboost-ci-windows\\src\\learner.cc:742: \n",
      "Parameters: { \"objectives\", \"verbose\" } are not used.\n",
      "\n",
      "  warnings.warn(smsg, UserWarning)\n"
     ]
    },
    {
     "name": "stdout",
     "output_type": "stream",
     "text": [
      "Train set RMSE: 0.41\n",
      "Test set RMSE: 0.52\n",
      "Tested on combination ['is_holiday', 'Max_Grav_accidents', 'hosp', 'rea', 'rad', 'Count_accidents']\n"
     ]
    },
    {
     "name": "stderr",
     "output_type": "stream",
     "text": [
      "C:\\Users\\Thomas\\anaconda3\\envs\\bikes-count\\lib\\site-packages\\xgboost\\core.py:160: UserWarning: [03:44:53] WARNING: C:\\buildkite-agent\\builds\\buildkite-windows-cpu-autoscaling-group-i-0750514818a16474a-1\\xgboost\\xgboost-ci-windows\\src\\learner.cc:742: \n",
      "Parameters: { \"objectives\", \"verbose\" } are not used.\n",
      "\n",
      "  warnings.warn(smsg, UserWarning)\n"
     ]
    },
    {
     "name": "stdout",
     "output_type": "stream",
     "text": [
      "Train set RMSE: 0.41\n",
      "Test set RMSE: 0.49\n",
      "Tested on combination ['is_holiday', 'Max_Grav_accidents', 'hosp', 'incid_rea', 'rad', 'Count_accidents']\n"
     ]
    },
    {
     "name": "stderr",
     "output_type": "stream",
     "text": [
      "C:\\Users\\Thomas\\anaconda3\\envs\\bikes-count\\lib\\site-packages\\xgboost\\core.py:160: UserWarning: [03:44:59] WARNING: C:\\buildkite-agent\\builds\\buildkite-windows-cpu-autoscaling-group-i-0750514818a16474a-1\\xgboost\\xgboost-ci-windows\\src\\learner.cc:742: \n",
      "Parameters: { \"objectives\", \"verbose\" } are not used.\n",
      "\n",
      "  warnings.warn(smsg, UserWarning)\n"
     ]
    },
    {
     "name": "stdout",
     "output_type": "stream",
     "text": [
      "Train set RMSE: 0.41\n",
      "Test set RMSE: 0.56\n",
      "Tested on combination ['is_holiday', 'Max_Grav_accidents', 'rea', 'incid_rea', 'rad', 'Count_accidents']\n"
     ]
    },
    {
     "name": "stderr",
     "output_type": "stream",
     "text": [
      "C:\\Users\\Thomas\\anaconda3\\envs\\bikes-count\\lib\\site-packages\\xgboost\\core.py:160: UserWarning: [03:45:06] WARNING: C:\\buildkite-agent\\builds\\buildkite-windows-cpu-autoscaling-group-i-0750514818a16474a-1\\xgboost\\xgboost-ci-windows\\src\\learner.cc:742: \n",
      "Parameters: { \"objectives\", \"verbose\" } are not used.\n",
      "\n",
      "  warnings.warn(smsg, UserWarning)\n"
     ]
    },
    {
     "name": "stdout",
     "output_type": "stream",
     "text": [
      "Train set RMSE: 0.41\n",
      "Test set RMSE: 0.51\n",
      "Tested on combination ['is_holiday', 'hosp', 'rea', 'incid_rea', 'rad', 'Count_accidents']\n"
     ]
    },
    {
     "name": "stderr",
     "output_type": "stream",
     "text": [
      "C:\\Users\\Thomas\\anaconda3\\envs\\bikes-count\\lib\\site-packages\\xgboost\\core.py:160: UserWarning: [03:45:12] WARNING: C:\\buildkite-agent\\builds\\buildkite-windows-cpu-autoscaling-group-i-0750514818a16474a-1\\xgboost\\xgboost-ci-windows\\src\\learner.cc:742: \n",
      "Parameters: { \"objectives\", \"verbose\" } are not used.\n",
      "\n",
      "  warnings.warn(smsg, UserWarning)\n"
     ]
    },
    {
     "name": "stdout",
     "output_type": "stream",
     "text": [
      "Train set RMSE: 0.42\n",
      "Test set RMSE: 0.47\n",
      "Tested on combination ['is_weekend', 'is_lockdown', 'is_curfew', 'Max_Grav_accidents', 'hosp', 'rea']\n"
     ]
    },
    {
     "name": "stderr",
     "output_type": "stream",
     "text": [
      "C:\\Users\\Thomas\\anaconda3\\envs\\bikes-count\\lib\\site-packages\\xgboost\\core.py:160: UserWarning: [03:45:19] WARNING: C:\\buildkite-agent\\builds\\buildkite-windows-cpu-autoscaling-group-i-0750514818a16474a-1\\xgboost\\xgboost-ci-windows\\src\\learner.cc:742: \n",
      "Parameters: { \"objectives\", \"verbose\" } are not used.\n",
      "\n",
      "  warnings.warn(smsg, UserWarning)\n"
     ]
    },
    {
     "name": "stdout",
     "output_type": "stream",
     "text": [
      "Train set RMSE: 0.42\n",
      "Test set RMSE: 0.47\n",
      "Tested on combination ['is_weekend', 'is_lockdown', 'is_curfew', 'Max_Grav_accidents', 'hosp', 'incid_rea']\n"
     ]
    },
    {
     "name": "stderr",
     "output_type": "stream",
     "text": [
      "C:\\Users\\Thomas\\anaconda3\\envs\\bikes-count\\lib\\site-packages\\xgboost\\core.py:160: UserWarning: [03:45:26] WARNING: C:\\buildkite-agent\\builds\\buildkite-windows-cpu-autoscaling-group-i-0750514818a16474a-1\\xgboost\\xgboost-ci-windows\\src\\learner.cc:742: \n",
      "Parameters: { \"objectives\", \"verbose\" } are not used.\n",
      "\n",
      "  warnings.warn(smsg, UserWarning)\n"
     ]
    },
    {
     "name": "stdout",
     "output_type": "stream",
     "text": [
      "Train set RMSE: 0.42\n",
      "Test set RMSE: 0.47\n",
      "Tested on combination ['is_weekend', 'is_lockdown', 'is_curfew', 'Max_Grav_accidents', 'hosp', 'rad']\n"
     ]
    },
    {
     "name": "stderr",
     "output_type": "stream",
     "text": [
      "C:\\Users\\Thomas\\anaconda3\\envs\\bikes-count\\lib\\site-packages\\xgboost\\core.py:160: UserWarning: [03:45:32] WARNING: C:\\buildkite-agent\\builds\\buildkite-windows-cpu-autoscaling-group-i-0750514818a16474a-1\\xgboost\\xgboost-ci-windows\\src\\learner.cc:742: \n",
      "Parameters: { \"objectives\", \"verbose\" } are not used.\n",
      "\n",
      "  warnings.warn(smsg, UserWarning)\n"
     ]
    },
    {
     "name": "stdout",
     "output_type": "stream",
     "text": [
      "Train set RMSE: 0.42\n",
      "Test set RMSE: 0.46\n",
      "Tested on combination ['is_weekend', 'is_lockdown', 'is_curfew', 'Max_Grav_accidents', 'hosp', 'Count_accidents']\n"
     ]
    },
    {
     "name": "stderr",
     "output_type": "stream",
     "text": [
      "C:\\Users\\Thomas\\anaconda3\\envs\\bikes-count\\lib\\site-packages\\xgboost\\core.py:160: UserWarning: [03:45:39] WARNING: C:\\buildkite-agent\\builds\\buildkite-windows-cpu-autoscaling-group-i-0750514818a16474a-1\\xgboost\\xgboost-ci-windows\\src\\learner.cc:742: \n",
      "Parameters: { \"objectives\", \"verbose\" } are not used.\n",
      "\n",
      "  warnings.warn(smsg, UserWarning)\n"
     ]
    },
    {
     "name": "stdout",
     "output_type": "stream",
     "text": [
      "Train set RMSE: 0.42\n",
      "Test set RMSE: 0.50\n",
      "Tested on combination ['is_weekend', 'is_lockdown', 'is_curfew', 'Max_Grav_accidents', 'rea', 'incid_rea']\n"
     ]
    },
    {
     "name": "stderr",
     "output_type": "stream",
     "text": [
      "C:\\Users\\Thomas\\anaconda3\\envs\\bikes-count\\lib\\site-packages\\xgboost\\core.py:160: UserWarning: [03:45:45] WARNING: C:\\buildkite-agent\\builds\\buildkite-windows-cpu-autoscaling-group-i-0750514818a16474a-1\\xgboost\\xgboost-ci-windows\\src\\learner.cc:742: \n",
      "Parameters: { \"objectives\", \"verbose\" } are not used.\n",
      "\n",
      "  warnings.warn(smsg, UserWarning)\n"
     ]
    },
    {
     "name": "stdout",
     "output_type": "stream",
     "text": [
      "Train set RMSE: 0.41\n",
      "Test set RMSE: 0.52\n",
      "Tested on combination ['is_weekend', 'is_lockdown', 'is_curfew', 'Max_Grav_accidents', 'rea', 'rad']\n"
     ]
    },
    {
     "name": "stderr",
     "output_type": "stream",
     "text": [
      "C:\\Users\\Thomas\\anaconda3\\envs\\bikes-count\\lib\\site-packages\\xgboost\\core.py:160: UserWarning: [03:45:52] WARNING: C:\\buildkite-agent\\builds\\buildkite-windows-cpu-autoscaling-group-i-0750514818a16474a-1\\xgboost\\xgboost-ci-windows\\src\\learner.cc:742: \n",
      "Parameters: { \"objectives\", \"verbose\" } are not used.\n",
      "\n",
      "  warnings.warn(smsg, UserWarning)\n"
     ]
    },
    {
     "name": "stdout",
     "output_type": "stream",
     "text": [
      "Train set RMSE: 0.42\n",
      "Test set RMSE: 0.49\n",
      "Tested on combination ['is_weekend', 'is_lockdown', 'is_curfew', 'Max_Grav_accidents', 'rea', 'Count_accidents']\n"
     ]
    },
    {
     "name": "stderr",
     "output_type": "stream",
     "text": [
      "C:\\Users\\Thomas\\anaconda3\\envs\\bikes-count\\lib\\site-packages\\xgboost\\core.py:160: UserWarning: [03:45:58] WARNING: C:\\buildkite-agent\\builds\\buildkite-windows-cpu-autoscaling-group-i-0750514818a16474a-1\\xgboost\\xgboost-ci-windows\\src\\learner.cc:742: \n",
      "Parameters: { \"objectives\", \"verbose\" } are not used.\n",
      "\n",
      "  warnings.warn(smsg, UserWarning)\n"
     ]
    },
    {
     "name": "stdout",
     "output_type": "stream",
     "text": [
      "Train set RMSE: 0.42\n",
      "Test set RMSE: 0.51\n",
      "Tested on combination ['is_weekend', 'is_lockdown', 'is_curfew', 'Max_Grav_accidents', 'incid_rea', 'rad']\n"
     ]
    },
    {
     "name": "stderr",
     "output_type": "stream",
     "text": [
      "C:\\Users\\Thomas\\anaconda3\\envs\\bikes-count\\lib\\site-packages\\xgboost\\core.py:160: UserWarning: [03:46:05] WARNING: C:\\buildkite-agent\\builds\\buildkite-windows-cpu-autoscaling-group-i-0750514818a16474a-1\\xgboost\\xgboost-ci-windows\\src\\learner.cc:742: \n",
      "Parameters: { \"objectives\", \"verbose\" } are not used.\n",
      "\n",
      "  warnings.warn(smsg, UserWarning)\n"
     ]
    },
    {
     "name": "stdout",
     "output_type": "stream",
     "text": [
      "Train set RMSE: 0.43\n",
      "Test set RMSE: 0.48\n",
      "Tested on combination ['is_weekend', 'is_lockdown', 'is_curfew', 'Max_Grav_accidents', 'incid_rea', 'Count_accidents']\n"
     ]
    },
    {
     "name": "stderr",
     "output_type": "stream",
     "text": [
      "C:\\Users\\Thomas\\anaconda3\\envs\\bikes-count\\lib\\site-packages\\xgboost\\core.py:160: UserWarning: [03:46:11] WARNING: C:\\buildkite-agent\\builds\\buildkite-windows-cpu-autoscaling-group-i-0750514818a16474a-1\\xgboost\\xgboost-ci-windows\\src\\learner.cc:742: \n",
      "Parameters: { \"objectives\", \"verbose\" } are not used.\n",
      "\n",
      "  warnings.warn(smsg, UserWarning)\n"
     ]
    },
    {
     "name": "stdout",
     "output_type": "stream",
     "text": [
      "Train set RMSE: 0.42\n",
      "Test set RMSE: 0.52\n",
      "Tested on combination ['is_weekend', 'is_lockdown', 'is_curfew', 'Max_Grav_accidents', 'rad', 'Count_accidents']\n"
     ]
    },
    {
     "name": "stderr",
     "output_type": "stream",
     "text": [
      "C:\\Users\\Thomas\\anaconda3\\envs\\bikes-count\\lib\\site-packages\\xgboost\\core.py:160: UserWarning: [03:46:18] WARNING: C:\\buildkite-agent\\builds\\buildkite-windows-cpu-autoscaling-group-i-0750514818a16474a-1\\xgboost\\xgboost-ci-windows\\src\\learner.cc:742: \n",
      "Parameters: { \"objectives\", \"verbose\" } are not used.\n",
      "\n",
      "  warnings.warn(smsg, UserWarning)\n"
     ]
    },
    {
     "name": "stdout",
     "output_type": "stream",
     "text": [
      "Train set RMSE: 0.42\n",
      "Test set RMSE: 0.48\n",
      "Tested on combination ['is_weekend', 'is_lockdown', 'is_curfew', 'hosp', 'rea', 'incid_rea']\n"
     ]
    },
    {
     "name": "stderr",
     "output_type": "stream",
     "text": [
      "C:\\Users\\Thomas\\anaconda3\\envs\\bikes-count\\lib\\site-packages\\xgboost\\core.py:160: UserWarning: [03:46:24] WARNING: C:\\buildkite-agent\\builds\\buildkite-windows-cpu-autoscaling-group-i-0750514818a16474a-1\\xgboost\\xgboost-ci-windows\\src\\learner.cc:742: \n",
      "Parameters: { \"objectives\", \"verbose\" } are not used.\n",
      "\n",
      "  warnings.warn(smsg, UserWarning)\n"
     ]
    },
    {
     "name": "stdout",
     "output_type": "stream",
     "text": [
      "Train set RMSE: 0.41\n",
      "Test set RMSE: 0.52\n",
      "Tested on combination ['is_weekend', 'is_lockdown', 'is_curfew', 'hosp', 'rea', 'rad']\n"
     ]
    },
    {
     "name": "stderr",
     "output_type": "stream",
     "text": [
      "C:\\Users\\Thomas\\anaconda3\\envs\\bikes-count\\lib\\site-packages\\xgboost\\core.py:160: UserWarning: [03:46:31] WARNING: C:\\buildkite-agent\\builds\\buildkite-windows-cpu-autoscaling-group-i-0750514818a16474a-1\\xgboost\\xgboost-ci-windows\\src\\learner.cc:742: \n",
      "Parameters: { \"objectives\", \"verbose\" } are not used.\n",
      "\n",
      "  warnings.warn(smsg, UserWarning)\n"
     ]
    },
    {
     "name": "stdout",
     "output_type": "stream",
     "text": [
      "Train set RMSE: 0.42\n",
      "Test set RMSE: 0.48\n",
      "Tested on combination ['is_weekend', 'is_lockdown', 'is_curfew', 'hosp', 'rea', 'Count_accidents']\n"
     ]
    },
    {
     "name": "stderr",
     "output_type": "stream",
     "text": [
      "C:\\Users\\Thomas\\anaconda3\\envs\\bikes-count\\lib\\site-packages\\xgboost\\core.py:160: UserWarning: [03:46:37] WARNING: C:\\buildkite-agent\\builds\\buildkite-windows-cpu-autoscaling-group-i-0750514818a16474a-1\\xgboost\\xgboost-ci-windows\\src\\learner.cc:742: \n",
      "Parameters: { \"objectives\", \"verbose\" } are not used.\n",
      "\n",
      "  warnings.warn(smsg, UserWarning)\n"
     ]
    },
    {
     "name": "stdout",
     "output_type": "stream",
     "text": [
      "Train set RMSE: 0.41\n",
      "Test set RMSE: 0.48\n",
      "Tested on combination ['is_weekend', 'is_lockdown', 'is_curfew', 'hosp', 'incid_rea', 'rad']\n"
     ]
    },
    {
     "name": "stderr",
     "output_type": "stream",
     "text": [
      "C:\\Users\\Thomas\\anaconda3\\envs\\bikes-count\\lib\\site-packages\\xgboost\\core.py:160: UserWarning: [03:46:44] WARNING: C:\\buildkite-agent\\builds\\buildkite-windows-cpu-autoscaling-group-i-0750514818a16474a-1\\xgboost\\xgboost-ci-windows\\src\\learner.cc:742: \n",
      "Parameters: { \"objectives\", \"verbose\" } are not used.\n",
      "\n",
      "  warnings.warn(smsg, UserWarning)\n"
     ]
    },
    {
     "name": "stdout",
     "output_type": "stream",
     "text": [
      "Train set RMSE: 0.42\n",
      "Test set RMSE: 0.49\n",
      "Tested on combination ['is_weekend', 'is_lockdown', 'is_curfew', 'hosp', 'incid_rea', 'Count_accidents']\n"
     ]
    },
    {
     "name": "stderr",
     "output_type": "stream",
     "text": [
      "C:\\Users\\Thomas\\anaconda3\\envs\\bikes-count\\lib\\site-packages\\xgboost\\core.py:160: UserWarning: [03:46:51] WARNING: C:\\buildkite-agent\\builds\\buildkite-windows-cpu-autoscaling-group-i-0750514818a16474a-1\\xgboost\\xgboost-ci-windows\\src\\learner.cc:742: \n",
      "Parameters: { \"objectives\", \"verbose\" } are not used.\n",
      "\n",
      "  warnings.warn(smsg, UserWarning)\n"
     ]
    },
    {
     "name": "stdout",
     "output_type": "stream",
     "text": [
      "Train set RMSE: 0.41\n",
      "Test set RMSE: 0.50\n",
      "Tested on combination ['is_weekend', 'is_lockdown', 'is_curfew', 'hosp', 'rad', 'Count_accidents']\n"
     ]
    },
    {
     "name": "stderr",
     "output_type": "stream",
     "text": [
      "C:\\Users\\Thomas\\anaconda3\\envs\\bikes-count\\lib\\site-packages\\xgboost\\core.py:160: UserWarning: [03:46:57] WARNING: C:\\buildkite-agent\\builds\\buildkite-windows-cpu-autoscaling-group-i-0750514818a16474a-1\\xgboost\\xgboost-ci-windows\\src\\learner.cc:742: \n",
      "Parameters: { \"objectives\", \"verbose\" } are not used.\n",
      "\n",
      "  warnings.warn(smsg, UserWarning)\n"
     ]
    },
    {
     "name": "stdout",
     "output_type": "stream",
     "text": [
      "Train set RMSE: 0.41\n",
      "Test set RMSE: 0.57\n",
      "Tested on combination ['is_weekend', 'is_lockdown', 'is_curfew', 'rea', 'incid_rea', 'rad']\n"
     ]
    },
    {
     "name": "stderr",
     "output_type": "stream",
     "text": [
      "C:\\Users\\Thomas\\anaconda3\\envs\\bikes-count\\lib\\site-packages\\xgboost\\core.py:160: UserWarning: [03:47:04] WARNING: C:\\buildkite-agent\\builds\\buildkite-windows-cpu-autoscaling-group-i-0750514818a16474a-1\\xgboost\\xgboost-ci-windows\\src\\learner.cc:742: \n",
      "Parameters: { \"objectives\", \"verbose\" } are not used.\n",
      "\n",
      "  warnings.warn(smsg, UserWarning)\n"
     ]
    },
    {
     "name": "stdout",
     "output_type": "stream",
     "text": [
      "Train set RMSE: 0.42\n",
      "Test set RMSE: 0.50\n",
      "Tested on combination ['is_weekend', 'is_lockdown', 'is_curfew', 'rea', 'incid_rea', 'Count_accidents']\n"
     ]
    },
    {
     "name": "stderr",
     "output_type": "stream",
     "text": [
      "C:\\Users\\Thomas\\anaconda3\\envs\\bikes-count\\lib\\site-packages\\xgboost\\core.py:160: UserWarning: [03:47:10] WARNING: C:\\buildkite-agent\\builds\\buildkite-windows-cpu-autoscaling-group-i-0750514818a16474a-1\\xgboost\\xgboost-ci-windows\\src\\learner.cc:742: \n",
      "Parameters: { \"objectives\", \"verbose\" } are not used.\n",
      "\n",
      "  warnings.warn(smsg, UserWarning)\n"
     ]
    },
    {
     "name": "stdout",
     "output_type": "stream",
     "text": [
      "Train set RMSE: 0.41\n",
      "Test set RMSE: 0.54\n",
      "Tested on combination ['is_weekend', 'is_lockdown', 'is_curfew', 'rea', 'rad', 'Count_accidents']\n"
     ]
    },
    {
     "name": "stderr",
     "output_type": "stream",
     "text": [
      "C:\\Users\\Thomas\\anaconda3\\envs\\bikes-count\\lib\\site-packages\\xgboost\\core.py:160: UserWarning: [03:47:17] WARNING: C:\\buildkite-agent\\builds\\buildkite-windows-cpu-autoscaling-group-i-0750514818a16474a-1\\xgboost\\xgboost-ci-windows\\src\\learner.cc:742: \n",
      "Parameters: { \"objectives\", \"verbose\" } are not used.\n",
      "\n",
      "  warnings.warn(smsg, UserWarning)\n"
     ]
    },
    {
     "name": "stdout",
     "output_type": "stream",
     "text": [
      "Train set RMSE: 0.42\n",
      "Test set RMSE: 0.51\n",
      "Tested on combination ['is_weekend', 'is_lockdown', 'is_curfew', 'incid_rea', 'rad', 'Count_accidents']\n"
     ]
    },
    {
     "name": "stderr",
     "output_type": "stream",
     "text": [
      "C:\\Users\\Thomas\\anaconda3\\envs\\bikes-count\\lib\\site-packages\\xgboost\\core.py:160: UserWarning: [03:47:23] WARNING: C:\\buildkite-agent\\builds\\buildkite-windows-cpu-autoscaling-group-i-0750514818a16474a-1\\xgboost\\xgboost-ci-windows\\src\\learner.cc:742: \n",
      "Parameters: { \"objectives\", \"verbose\" } are not used.\n",
      "\n",
      "  warnings.warn(smsg, UserWarning)\n"
     ]
    },
    {
     "name": "stdout",
     "output_type": "stream",
     "text": [
      "Train set RMSE: 0.42\n",
      "Test set RMSE: 0.48\n",
      "Tested on combination ['is_weekend', 'is_lockdown', 'Max_Grav_accidents', 'hosp', 'rea', 'incid_rea']\n"
     ]
    },
    {
     "name": "stderr",
     "output_type": "stream",
     "text": [
      "C:\\Users\\Thomas\\anaconda3\\envs\\bikes-count\\lib\\site-packages\\xgboost\\core.py:160: UserWarning: [03:47:30] WARNING: C:\\buildkite-agent\\builds\\buildkite-windows-cpu-autoscaling-group-i-0750514818a16474a-1\\xgboost\\xgboost-ci-windows\\src\\learner.cc:742: \n",
      "Parameters: { \"objectives\", \"verbose\" } are not used.\n",
      "\n",
      "  warnings.warn(smsg, UserWarning)\n"
     ]
    },
    {
     "name": "stdout",
     "output_type": "stream",
     "text": [
      "Train set RMSE: 0.41\n",
      "Test set RMSE: 0.52\n",
      "Tested on combination ['is_weekend', 'is_lockdown', 'Max_Grav_accidents', 'hosp', 'rea', 'rad']\n"
     ]
    },
    {
     "name": "stderr",
     "output_type": "stream",
     "text": [
      "C:\\Users\\Thomas\\anaconda3\\envs\\bikes-count\\lib\\site-packages\\xgboost\\core.py:160: UserWarning: [03:47:36] WARNING: C:\\buildkite-agent\\builds\\buildkite-windows-cpu-autoscaling-group-i-0750514818a16474a-1\\xgboost\\xgboost-ci-windows\\src\\learner.cc:742: \n",
      "Parameters: { \"objectives\", \"verbose\" } are not used.\n",
      "\n",
      "  warnings.warn(smsg, UserWarning)\n"
     ]
    },
    {
     "name": "stdout",
     "output_type": "stream",
     "text": [
      "Train set RMSE: 0.42\n",
      "Test set RMSE: 0.47\n",
      "Tested on combination ['is_weekend', 'is_lockdown', 'Max_Grav_accidents', 'hosp', 'rea', 'Count_accidents']\n"
     ]
    },
    {
     "name": "stderr",
     "output_type": "stream",
     "text": [
      "C:\\Users\\Thomas\\anaconda3\\envs\\bikes-count\\lib\\site-packages\\xgboost\\core.py:160: UserWarning: [03:47:42] WARNING: C:\\buildkite-agent\\builds\\buildkite-windows-cpu-autoscaling-group-i-0750514818a16474a-1\\xgboost\\xgboost-ci-windows\\src\\learner.cc:742: \n",
      "Parameters: { \"objectives\", \"verbose\" } are not used.\n",
      "\n",
      "  warnings.warn(smsg, UserWarning)\n"
     ]
    },
    {
     "name": "stdout",
     "output_type": "stream",
     "text": [
      "Train set RMSE: 0.41\n",
      "Test set RMSE: 0.48\n",
      "Tested on combination ['is_weekend', 'is_lockdown', 'Max_Grav_accidents', 'hosp', 'incid_rea', 'rad']\n"
     ]
    },
    {
     "name": "stderr",
     "output_type": "stream",
     "text": [
      "C:\\Users\\Thomas\\anaconda3\\envs\\bikes-count\\lib\\site-packages\\xgboost\\core.py:160: UserWarning: [03:47:49] WARNING: C:\\buildkite-agent\\builds\\buildkite-windows-cpu-autoscaling-group-i-0750514818a16474a-1\\xgboost\\xgboost-ci-windows\\src\\learner.cc:742: \n",
      "Parameters: { \"objectives\", \"verbose\" } are not used.\n",
      "\n",
      "  warnings.warn(smsg, UserWarning)\n"
     ]
    },
    {
     "name": "stdout",
     "output_type": "stream",
     "text": [
      "Train set RMSE: 0.42\n",
      "Test set RMSE: 0.48\n",
      "Tested on combination ['is_weekend', 'is_lockdown', 'Max_Grav_accidents', 'hosp', 'incid_rea', 'Count_accidents']\n"
     ]
    },
    {
     "name": "stderr",
     "output_type": "stream",
     "text": [
      "C:\\Users\\Thomas\\anaconda3\\envs\\bikes-count\\lib\\site-packages\\xgboost\\core.py:160: UserWarning: [03:47:56] WARNING: C:\\buildkite-agent\\builds\\buildkite-windows-cpu-autoscaling-group-i-0750514818a16474a-1\\xgboost\\xgboost-ci-windows\\src\\learner.cc:742: \n",
      "Parameters: { \"objectives\", \"verbose\" } are not used.\n",
      "\n",
      "  warnings.warn(smsg, UserWarning)\n"
     ]
    },
    {
     "name": "stdout",
     "output_type": "stream",
     "text": [
      "Train set RMSE: 0.42\n",
      "Test set RMSE: 0.48\n",
      "Tested on combination ['is_weekend', 'is_lockdown', 'Max_Grav_accidents', 'hosp', 'rad', 'Count_accidents']\n"
     ]
    },
    {
     "name": "stderr",
     "output_type": "stream",
     "text": [
      "C:\\Users\\Thomas\\anaconda3\\envs\\bikes-count\\lib\\site-packages\\xgboost\\core.py:160: UserWarning: [03:48:03] WARNING: C:\\buildkite-agent\\builds\\buildkite-windows-cpu-autoscaling-group-i-0750514818a16474a-1\\xgboost\\xgboost-ci-windows\\src\\learner.cc:742: \n",
      "Parameters: { \"objectives\", \"verbose\" } are not used.\n",
      "\n",
      "  warnings.warn(smsg, UserWarning)\n"
     ]
    },
    {
     "name": "stdout",
     "output_type": "stream",
     "text": [
      "Train set RMSE: 0.41\n",
      "Test set RMSE: 0.55\n",
      "Tested on combination ['is_weekend', 'is_lockdown', 'Max_Grav_accidents', 'rea', 'incid_rea', 'rad']\n"
     ]
    },
    {
     "name": "stderr",
     "output_type": "stream",
     "text": [
      "C:\\Users\\Thomas\\anaconda3\\envs\\bikes-count\\lib\\site-packages\\xgboost\\core.py:160: UserWarning: [03:48:09] WARNING: C:\\buildkite-agent\\builds\\buildkite-windows-cpu-autoscaling-group-i-0750514818a16474a-1\\xgboost\\xgboost-ci-windows\\src\\learner.cc:742: \n",
      "Parameters: { \"objectives\", \"verbose\" } are not used.\n",
      "\n",
      "  warnings.warn(smsg, UserWarning)\n"
     ]
    },
    {
     "name": "stdout",
     "output_type": "stream",
     "text": [
      "Train set RMSE: 0.42\n",
      "Test set RMSE: 0.51\n",
      "Tested on combination ['is_weekend', 'is_lockdown', 'Max_Grav_accidents', 'rea', 'incid_rea', 'Count_accidents']\n"
     ]
    },
    {
     "name": "stderr",
     "output_type": "stream",
     "text": [
      "C:\\Users\\Thomas\\anaconda3\\envs\\bikes-count\\lib\\site-packages\\xgboost\\core.py:160: UserWarning: [03:48:15] WARNING: C:\\buildkite-agent\\builds\\buildkite-windows-cpu-autoscaling-group-i-0750514818a16474a-1\\xgboost\\xgboost-ci-windows\\src\\learner.cc:742: \n",
      "Parameters: { \"objectives\", \"verbose\" } are not used.\n",
      "\n",
      "  warnings.warn(smsg, UserWarning)\n"
     ]
    },
    {
     "name": "stdout",
     "output_type": "stream",
     "text": [
      "Train set RMSE: 0.41\n",
      "Test set RMSE: 0.54\n",
      "Tested on combination ['is_weekend', 'is_lockdown', 'Max_Grav_accidents', 'rea', 'rad', 'Count_accidents']\n"
     ]
    },
    {
     "name": "stderr",
     "output_type": "stream",
     "text": [
      "C:\\Users\\Thomas\\anaconda3\\envs\\bikes-count\\lib\\site-packages\\xgboost\\core.py:160: UserWarning: [03:48:22] WARNING: C:\\buildkite-agent\\builds\\buildkite-windows-cpu-autoscaling-group-i-0750514818a16474a-1\\xgboost\\xgboost-ci-windows\\src\\learner.cc:742: \n",
      "Parameters: { \"objectives\", \"verbose\" } are not used.\n",
      "\n",
      "  warnings.warn(smsg, UserWarning)\n"
     ]
    },
    {
     "name": "stdout",
     "output_type": "stream",
     "text": [
      "Train set RMSE: 0.41\n",
      "Test set RMSE: 0.50\n",
      "Tested on combination ['is_weekend', 'is_lockdown', 'Max_Grav_accidents', 'incid_rea', 'rad', 'Count_accidents']\n"
     ]
    },
    {
     "name": "stderr",
     "output_type": "stream",
     "text": [
      "C:\\Users\\Thomas\\anaconda3\\envs\\bikes-count\\lib\\site-packages\\xgboost\\core.py:160: UserWarning: [03:48:29] WARNING: C:\\buildkite-agent\\builds\\buildkite-windows-cpu-autoscaling-group-i-0750514818a16474a-1\\xgboost\\xgboost-ci-windows\\src\\learner.cc:742: \n",
      "Parameters: { \"objectives\", \"verbose\" } are not used.\n",
      "\n",
      "  warnings.warn(smsg, UserWarning)\n"
     ]
    },
    {
     "name": "stdout",
     "output_type": "stream",
     "text": [
      "Train set RMSE: 0.41\n",
      "Test set RMSE: 0.51\n",
      "Tested on combination ['is_weekend', 'is_lockdown', 'hosp', 'rea', 'incid_rea', 'rad']\n"
     ]
    },
    {
     "name": "stderr",
     "output_type": "stream",
     "text": [
      "C:\\Users\\Thomas\\anaconda3\\envs\\bikes-count\\lib\\site-packages\\xgboost\\core.py:160: UserWarning: [03:48:36] WARNING: C:\\buildkite-agent\\builds\\buildkite-windows-cpu-autoscaling-group-i-0750514818a16474a-1\\xgboost\\xgboost-ci-windows\\src\\learner.cc:742: \n",
      "Parameters: { \"objectives\", \"verbose\" } are not used.\n",
      "\n",
      "  warnings.warn(smsg, UserWarning)\n"
     ]
    },
    {
     "name": "stdout",
     "output_type": "stream",
     "text": [
      "Train set RMSE: 0.42\n",
      "Test set RMSE: 0.50\n",
      "Tested on combination ['is_weekend', 'is_lockdown', 'hosp', 'rea', 'incid_rea', 'Count_accidents']\n"
     ]
    },
    {
     "name": "stderr",
     "output_type": "stream",
     "text": [
      "C:\\Users\\Thomas\\anaconda3\\envs\\bikes-count\\lib\\site-packages\\xgboost\\core.py:160: UserWarning: [03:48:42] WARNING: C:\\buildkite-agent\\builds\\buildkite-windows-cpu-autoscaling-group-i-0750514818a16474a-1\\xgboost\\xgboost-ci-windows\\src\\learner.cc:742: \n",
      "Parameters: { \"objectives\", \"verbose\" } are not used.\n",
      "\n",
      "  warnings.warn(smsg, UserWarning)\n"
     ]
    },
    {
     "name": "stdout",
     "output_type": "stream",
     "text": [
      "Train set RMSE: 0.41\n",
      "Test set RMSE: 0.50\n",
      "Tested on combination ['is_weekend', 'is_lockdown', 'hosp', 'rea', 'rad', 'Count_accidents']\n"
     ]
    },
    {
     "name": "stderr",
     "output_type": "stream",
     "text": [
      "C:\\Users\\Thomas\\anaconda3\\envs\\bikes-count\\lib\\site-packages\\xgboost\\core.py:160: UserWarning: [03:48:48] WARNING: C:\\buildkite-agent\\builds\\buildkite-windows-cpu-autoscaling-group-i-0750514818a16474a-1\\xgboost\\xgboost-ci-windows\\src\\learner.cc:742: \n",
      "Parameters: { \"objectives\", \"verbose\" } are not used.\n",
      "\n",
      "  warnings.warn(smsg, UserWarning)\n"
     ]
    },
    {
     "name": "stdout",
     "output_type": "stream",
     "text": [
      "Train set RMSE: 0.41\n",
      "Test set RMSE: 0.48\n",
      "Tested on combination ['is_weekend', 'is_lockdown', 'hosp', 'incid_rea', 'rad', 'Count_accidents']\n"
     ]
    },
    {
     "name": "stderr",
     "output_type": "stream",
     "text": [
      "C:\\Users\\Thomas\\anaconda3\\envs\\bikes-count\\lib\\site-packages\\xgboost\\core.py:160: UserWarning: [03:48:55] WARNING: C:\\buildkite-agent\\builds\\buildkite-windows-cpu-autoscaling-group-i-0750514818a16474a-1\\xgboost\\xgboost-ci-windows\\src\\learner.cc:742: \n",
      "Parameters: { \"objectives\", \"verbose\" } are not used.\n",
      "\n",
      "  warnings.warn(smsg, UserWarning)\n"
     ]
    },
    {
     "name": "stdout",
     "output_type": "stream",
     "text": [
      "Train set RMSE: 0.41\n",
      "Test set RMSE: 0.57\n",
      "Tested on combination ['is_weekend', 'is_lockdown', 'rea', 'incid_rea', 'rad', 'Count_accidents']\n"
     ]
    },
    {
     "name": "stderr",
     "output_type": "stream",
     "text": [
      "C:\\Users\\Thomas\\anaconda3\\envs\\bikes-count\\lib\\site-packages\\xgboost\\core.py:160: UserWarning: [03:49:02] WARNING: C:\\buildkite-agent\\builds\\buildkite-windows-cpu-autoscaling-group-i-0750514818a16474a-1\\xgboost\\xgboost-ci-windows\\src\\learner.cc:742: \n",
      "Parameters: { \"objectives\", \"verbose\" } are not used.\n",
      "\n",
      "  warnings.warn(smsg, UserWarning)\n"
     ]
    },
    {
     "name": "stdout",
     "output_type": "stream",
     "text": [
      "Train set RMSE: 0.42\n",
      "Test set RMSE: 0.48\n",
      "Tested on combination ['is_weekend', 'is_curfew', 'Max_Grav_accidents', 'hosp', 'rea', 'incid_rea']\n"
     ]
    },
    {
     "name": "stderr",
     "output_type": "stream",
     "text": [
      "C:\\Users\\Thomas\\anaconda3\\envs\\bikes-count\\lib\\site-packages\\xgboost\\core.py:160: UserWarning: [03:49:08] WARNING: C:\\buildkite-agent\\builds\\buildkite-windows-cpu-autoscaling-group-i-0750514818a16474a-1\\xgboost\\xgboost-ci-windows\\src\\learner.cc:742: \n",
      "Parameters: { \"objectives\", \"verbose\" } are not used.\n",
      "\n",
      "  warnings.warn(smsg, UserWarning)\n"
     ]
    },
    {
     "name": "stdout",
     "output_type": "stream",
     "text": [
      "Train set RMSE: 0.41\n",
      "Test set RMSE: 0.51\n",
      "Tested on combination ['is_weekend', 'is_curfew', 'Max_Grav_accidents', 'hosp', 'rea', 'rad']\n"
     ]
    },
    {
     "name": "stderr",
     "output_type": "stream",
     "text": [
      "C:\\Users\\Thomas\\anaconda3\\envs\\bikes-count\\lib\\site-packages\\xgboost\\core.py:160: UserWarning: [03:49:15] WARNING: C:\\buildkite-agent\\builds\\buildkite-windows-cpu-autoscaling-group-i-0750514818a16474a-1\\xgboost\\xgboost-ci-windows\\src\\learner.cc:742: \n",
      "Parameters: { \"objectives\", \"verbose\" } are not used.\n",
      "\n",
      "  warnings.warn(smsg, UserWarning)\n"
     ]
    },
    {
     "name": "stdout",
     "output_type": "stream",
     "text": [
      "Train set RMSE: 0.42\n",
      "Test set RMSE: 0.46\n",
      "Tested on combination ['is_weekend', 'is_curfew', 'Max_Grav_accidents', 'hosp', 'rea', 'Count_accidents']\n"
     ]
    },
    {
     "name": "stderr",
     "output_type": "stream",
     "text": [
      "C:\\Users\\Thomas\\anaconda3\\envs\\bikes-count\\lib\\site-packages\\xgboost\\core.py:160: UserWarning: [03:49:22] WARNING: C:\\buildkite-agent\\builds\\buildkite-windows-cpu-autoscaling-group-i-0750514818a16474a-1\\xgboost\\xgboost-ci-windows\\src\\learner.cc:742: \n",
      "Parameters: { \"objectives\", \"verbose\" } are not used.\n",
      "\n",
      "  warnings.warn(smsg, UserWarning)\n"
     ]
    },
    {
     "name": "stdout",
     "output_type": "stream",
     "text": [
      "Train set RMSE: 0.41\n",
      "Test set RMSE: 0.47\n",
      "Tested on combination ['is_weekend', 'is_curfew', 'Max_Grav_accidents', 'hosp', 'incid_rea', 'rad']\n"
     ]
    },
    {
     "name": "stderr",
     "output_type": "stream",
     "text": [
      "C:\\Users\\Thomas\\anaconda3\\envs\\bikes-count\\lib\\site-packages\\xgboost\\core.py:160: UserWarning: [03:49:28] WARNING: C:\\buildkite-agent\\builds\\buildkite-windows-cpu-autoscaling-group-i-0750514818a16474a-1\\xgboost\\xgboost-ci-windows\\src\\learner.cc:742: \n",
      "Parameters: { \"objectives\", \"verbose\" } are not used.\n",
      "\n",
      "  warnings.warn(smsg, UserWarning)\n"
     ]
    },
    {
     "name": "stdout",
     "output_type": "stream",
     "text": [
      "Train set RMSE: 0.42\n",
      "Test set RMSE: 0.48\n",
      "Tested on combination ['is_weekend', 'is_curfew', 'Max_Grav_accidents', 'hosp', 'incid_rea', 'Count_accidents']\n"
     ]
    },
    {
     "name": "stderr",
     "output_type": "stream",
     "text": [
      "C:\\Users\\Thomas\\anaconda3\\envs\\bikes-count\\lib\\site-packages\\xgboost\\core.py:160: UserWarning: [03:49:35] WARNING: C:\\buildkite-agent\\builds\\buildkite-windows-cpu-autoscaling-group-i-0750514818a16474a-1\\xgboost\\xgboost-ci-windows\\src\\learner.cc:742: \n",
      "Parameters: { \"objectives\", \"verbose\" } are not used.\n",
      "\n",
      "  warnings.warn(smsg, UserWarning)\n"
     ]
    },
    {
     "name": "stdout",
     "output_type": "stream",
     "text": [
      "Train set RMSE: 0.42\n",
      "Test set RMSE: 0.48\n",
      "Tested on combination ['is_weekend', 'is_curfew', 'Max_Grav_accidents', 'hosp', 'rad', 'Count_accidents']\n"
     ]
    },
    {
     "name": "stderr",
     "output_type": "stream",
     "text": [
      "C:\\Users\\Thomas\\anaconda3\\envs\\bikes-count\\lib\\site-packages\\xgboost\\core.py:160: UserWarning: [03:49:41] WARNING: C:\\buildkite-agent\\builds\\buildkite-windows-cpu-autoscaling-group-i-0750514818a16474a-1\\xgboost\\xgboost-ci-windows\\src\\learner.cc:742: \n",
      "Parameters: { \"objectives\", \"verbose\" } are not used.\n",
      "\n",
      "  warnings.warn(smsg, UserWarning)\n"
     ]
    },
    {
     "name": "stdout",
     "output_type": "stream",
     "text": [
      "Train set RMSE: 0.41\n",
      "Test set RMSE: 0.56\n",
      "Tested on combination ['is_weekend', 'is_curfew', 'Max_Grav_accidents', 'rea', 'incid_rea', 'rad']\n"
     ]
    },
    {
     "name": "stderr",
     "output_type": "stream",
     "text": [
      "C:\\Users\\Thomas\\anaconda3\\envs\\bikes-count\\lib\\site-packages\\xgboost\\core.py:160: UserWarning: [03:49:48] WARNING: C:\\buildkite-agent\\builds\\buildkite-windows-cpu-autoscaling-group-i-0750514818a16474a-1\\xgboost\\xgboost-ci-windows\\src\\learner.cc:742: \n",
      "Parameters: { \"objectives\", \"verbose\" } are not used.\n",
      "\n",
      "  warnings.warn(smsg, UserWarning)\n"
     ]
    },
    {
     "name": "stdout",
     "output_type": "stream",
     "text": [
      "Train set RMSE: 0.42\n",
      "Test set RMSE: 0.50\n",
      "Tested on combination ['is_weekend', 'is_curfew', 'Max_Grav_accidents', 'rea', 'incid_rea', 'Count_accidents']\n"
     ]
    },
    {
     "name": "stderr",
     "output_type": "stream",
     "text": [
      "C:\\Users\\Thomas\\anaconda3\\envs\\bikes-count\\lib\\site-packages\\xgboost\\core.py:160: UserWarning: [03:49:54] WARNING: C:\\buildkite-agent\\builds\\buildkite-windows-cpu-autoscaling-group-i-0750514818a16474a-1\\xgboost\\xgboost-ci-windows\\src\\learner.cc:742: \n",
      "Parameters: { \"objectives\", \"verbose\" } are not used.\n",
      "\n",
      "  warnings.warn(smsg, UserWarning)\n"
     ]
    },
    {
     "name": "stdout",
     "output_type": "stream",
     "text": [
      "Train set RMSE: 0.41\n",
      "Test set RMSE: 0.53\n",
      "Tested on combination ['is_weekend', 'is_curfew', 'Max_Grav_accidents', 'rea', 'rad', 'Count_accidents']\n"
     ]
    },
    {
     "name": "stderr",
     "output_type": "stream",
     "text": [
      "C:\\Users\\Thomas\\anaconda3\\envs\\bikes-count\\lib\\site-packages\\xgboost\\core.py:160: UserWarning: [03:50:01] WARNING: C:\\buildkite-agent\\builds\\buildkite-windows-cpu-autoscaling-group-i-0750514818a16474a-1\\xgboost\\xgboost-ci-windows\\src\\learner.cc:742: \n",
      "Parameters: { \"objectives\", \"verbose\" } are not used.\n",
      "\n",
      "  warnings.warn(smsg, UserWarning)\n"
     ]
    },
    {
     "name": "stdout",
     "output_type": "stream",
     "text": [
      "Train set RMSE: 0.42\n",
      "Test set RMSE: 0.51\n",
      "Tested on combination ['is_weekend', 'is_curfew', 'Max_Grav_accidents', 'incid_rea', 'rad', 'Count_accidents']\n"
     ]
    },
    {
     "name": "stderr",
     "output_type": "stream",
     "text": [
      "C:\\Users\\Thomas\\anaconda3\\envs\\bikes-count\\lib\\site-packages\\xgboost\\core.py:160: UserWarning: [03:50:07] WARNING: C:\\buildkite-agent\\builds\\buildkite-windows-cpu-autoscaling-group-i-0750514818a16474a-1\\xgboost\\xgboost-ci-windows\\src\\learner.cc:742: \n",
      "Parameters: { \"objectives\", \"verbose\" } are not used.\n",
      "\n",
      "  warnings.warn(smsg, UserWarning)\n"
     ]
    },
    {
     "name": "stdout",
     "output_type": "stream",
     "text": [
      "Train set RMSE: 0.41\n",
      "Test set RMSE: 0.51\n",
      "Tested on combination ['is_weekend', 'is_curfew', 'hosp', 'rea', 'incid_rea', 'rad']\n"
     ]
    },
    {
     "name": "stderr",
     "output_type": "stream",
     "text": [
      "C:\\Users\\Thomas\\anaconda3\\envs\\bikes-count\\lib\\site-packages\\xgboost\\core.py:160: UserWarning: [03:50:14] WARNING: C:\\buildkite-agent\\builds\\buildkite-windows-cpu-autoscaling-group-i-0750514818a16474a-1\\xgboost\\xgboost-ci-windows\\src\\learner.cc:742: \n",
      "Parameters: { \"objectives\", \"verbose\" } are not used.\n",
      "\n",
      "  warnings.warn(smsg, UserWarning)\n"
     ]
    },
    {
     "name": "stdout",
     "output_type": "stream",
     "text": [
      "Train set RMSE: 0.42\n",
      "Test set RMSE: 0.49\n",
      "Tested on combination ['is_weekend', 'is_curfew', 'hosp', 'rea', 'incid_rea', 'Count_accidents']\n"
     ]
    },
    {
     "name": "stderr",
     "output_type": "stream",
     "text": [
      "C:\\Users\\Thomas\\anaconda3\\envs\\bikes-count\\lib\\site-packages\\xgboost\\core.py:160: UserWarning: [03:50:20] WARNING: C:\\buildkite-agent\\builds\\buildkite-windows-cpu-autoscaling-group-i-0750514818a16474a-1\\xgboost\\xgboost-ci-windows\\src\\learner.cc:742: \n",
      "Parameters: { \"objectives\", \"verbose\" } are not used.\n",
      "\n",
      "  warnings.warn(smsg, UserWarning)\n"
     ]
    },
    {
     "name": "stdout",
     "output_type": "stream",
     "text": [
      "Train set RMSE: 0.41\n",
      "Test set RMSE: 0.51\n",
      "Tested on combination ['is_weekend', 'is_curfew', 'hosp', 'rea', 'rad', 'Count_accidents']\n"
     ]
    },
    {
     "name": "stderr",
     "output_type": "stream",
     "text": [
      "C:\\Users\\Thomas\\anaconda3\\envs\\bikes-count\\lib\\site-packages\\xgboost\\core.py:160: UserWarning: [03:50:26] WARNING: C:\\buildkite-agent\\builds\\buildkite-windows-cpu-autoscaling-group-i-0750514818a16474a-1\\xgboost\\xgboost-ci-windows\\src\\learner.cc:742: \n",
      "Parameters: { \"objectives\", \"verbose\" } are not used.\n",
      "\n",
      "  warnings.warn(smsg, UserWarning)\n"
     ]
    },
    {
     "name": "stdout",
     "output_type": "stream",
     "text": [
      "Train set RMSE: 0.42\n",
      "Test set RMSE: 0.47\n",
      "Tested on combination ['is_weekend', 'is_curfew', 'hosp', 'incid_rea', 'rad', 'Count_accidents']\n"
     ]
    },
    {
     "name": "stderr",
     "output_type": "stream",
     "text": [
      "C:\\Users\\Thomas\\anaconda3\\envs\\bikes-count\\lib\\site-packages\\xgboost\\core.py:160: UserWarning: [03:50:33] WARNING: C:\\buildkite-agent\\builds\\buildkite-windows-cpu-autoscaling-group-i-0750514818a16474a-1\\xgboost\\xgboost-ci-windows\\src\\learner.cc:742: \n",
      "Parameters: { \"objectives\", \"verbose\" } are not used.\n",
      "\n",
      "  warnings.warn(smsg, UserWarning)\n"
     ]
    },
    {
     "name": "stdout",
     "output_type": "stream",
     "text": [
      "Train set RMSE: 0.41\n",
      "Test set RMSE: 0.59\n",
      "Tested on combination ['is_weekend', 'is_curfew', 'rea', 'incid_rea', 'rad', 'Count_accidents']\n"
     ]
    },
    {
     "name": "stderr",
     "output_type": "stream",
     "text": [
      "C:\\Users\\Thomas\\anaconda3\\envs\\bikes-count\\lib\\site-packages\\xgboost\\core.py:160: UserWarning: [03:50:39] WARNING: C:\\buildkite-agent\\builds\\buildkite-windows-cpu-autoscaling-group-i-0750514818a16474a-1\\xgboost\\xgboost-ci-windows\\src\\learner.cc:742: \n",
      "Parameters: { \"objectives\", \"verbose\" } are not used.\n",
      "\n",
      "  warnings.warn(smsg, UserWarning)\n"
     ]
    },
    {
     "name": "stdout",
     "output_type": "stream",
     "text": [
      "Train set RMSE: 0.41\n",
      "Test set RMSE: 0.52\n",
      "Tested on combination ['is_weekend', 'Max_Grav_accidents', 'hosp', 'rea', 'incid_rea', 'rad']\n"
     ]
    },
    {
     "name": "stderr",
     "output_type": "stream",
     "text": [
      "C:\\Users\\Thomas\\anaconda3\\envs\\bikes-count\\lib\\site-packages\\xgboost\\core.py:160: UserWarning: [03:50:46] WARNING: C:\\buildkite-agent\\builds\\buildkite-windows-cpu-autoscaling-group-i-0750514818a16474a-1\\xgboost\\xgboost-ci-windows\\src\\learner.cc:742: \n",
      "Parameters: { \"objectives\", \"verbose\" } are not used.\n",
      "\n",
      "  warnings.warn(smsg, UserWarning)\n"
     ]
    },
    {
     "name": "stdout",
     "output_type": "stream",
     "text": [
      "Train set RMSE: 0.42\n",
      "Test set RMSE: 0.48\n",
      "Tested on combination ['is_weekend', 'Max_Grav_accidents', 'hosp', 'rea', 'incid_rea', 'Count_accidents']\n"
     ]
    },
    {
     "name": "stderr",
     "output_type": "stream",
     "text": [
      "C:\\Users\\Thomas\\anaconda3\\envs\\bikes-count\\lib\\site-packages\\xgboost\\core.py:160: UserWarning: [03:50:52] WARNING: C:\\buildkite-agent\\builds\\buildkite-windows-cpu-autoscaling-group-i-0750514818a16474a-1\\xgboost\\xgboost-ci-windows\\src\\learner.cc:742: \n",
      "Parameters: { \"objectives\", \"verbose\" } are not used.\n",
      "\n",
      "  warnings.warn(smsg, UserWarning)\n"
     ]
    },
    {
     "name": "stdout",
     "output_type": "stream",
     "text": [
      "Train set RMSE: 0.41\n",
      "Test set RMSE: 0.53\n",
      "Tested on combination ['is_weekend', 'Max_Grav_accidents', 'hosp', 'rea', 'rad', 'Count_accidents']\n"
     ]
    },
    {
     "name": "stderr",
     "output_type": "stream",
     "text": [
      "C:\\Users\\Thomas\\anaconda3\\envs\\bikes-count\\lib\\site-packages\\xgboost\\core.py:160: UserWarning: [03:50:59] WARNING: C:\\buildkite-agent\\builds\\buildkite-windows-cpu-autoscaling-group-i-0750514818a16474a-1\\xgboost\\xgboost-ci-windows\\src\\learner.cc:742: \n",
      "Parameters: { \"objectives\", \"verbose\" } are not used.\n",
      "\n",
      "  warnings.warn(smsg, UserWarning)\n"
     ]
    },
    {
     "name": "stdout",
     "output_type": "stream",
     "text": [
      "Train set RMSE: 0.42\n",
      "Test set RMSE: 0.48\n",
      "Tested on combination ['is_weekend', 'Max_Grav_accidents', 'hosp', 'incid_rea', 'rad', 'Count_accidents']\n"
     ]
    },
    {
     "name": "stderr",
     "output_type": "stream",
     "text": [
      "C:\\Users\\Thomas\\anaconda3\\envs\\bikes-count\\lib\\site-packages\\xgboost\\core.py:160: UserWarning: [03:51:05] WARNING: C:\\buildkite-agent\\builds\\buildkite-windows-cpu-autoscaling-group-i-0750514818a16474a-1\\xgboost\\xgboost-ci-windows\\src\\learner.cc:742: \n",
      "Parameters: { \"objectives\", \"verbose\" } are not used.\n",
      "\n",
      "  warnings.warn(smsg, UserWarning)\n"
     ]
    },
    {
     "name": "stdout",
     "output_type": "stream",
     "text": [
      "Train set RMSE: 0.41\n",
      "Test set RMSE: 0.59\n",
      "Tested on combination ['is_weekend', 'Max_Grav_accidents', 'rea', 'incid_rea', 'rad', 'Count_accidents']\n"
     ]
    },
    {
     "name": "stderr",
     "output_type": "stream",
     "text": [
      "C:\\Users\\Thomas\\anaconda3\\envs\\bikes-count\\lib\\site-packages\\xgboost\\core.py:160: UserWarning: [03:51:12] WARNING: C:\\buildkite-agent\\builds\\buildkite-windows-cpu-autoscaling-group-i-0750514818a16474a-1\\xgboost\\xgboost-ci-windows\\src\\learner.cc:742: \n",
      "Parameters: { \"objectives\", \"verbose\" } are not used.\n",
      "\n",
      "  warnings.warn(smsg, UserWarning)\n"
     ]
    },
    {
     "name": "stdout",
     "output_type": "stream",
     "text": [
      "Train set RMSE: 0.41\n",
      "Test set RMSE: 0.51\n",
      "Tested on combination ['is_weekend', 'hosp', 'rea', 'incid_rea', 'rad', 'Count_accidents']\n"
     ]
    },
    {
     "name": "stderr",
     "output_type": "stream",
     "text": [
      "C:\\Users\\Thomas\\anaconda3\\envs\\bikes-count\\lib\\site-packages\\xgboost\\core.py:160: UserWarning: [03:51:18] WARNING: C:\\buildkite-agent\\builds\\buildkite-windows-cpu-autoscaling-group-i-0750514818a16474a-1\\xgboost\\xgboost-ci-windows\\src\\learner.cc:742: \n",
      "Parameters: { \"objectives\", \"verbose\" } are not used.\n",
      "\n",
      "  warnings.warn(smsg, UserWarning)\n"
     ]
    },
    {
     "name": "stdout",
     "output_type": "stream",
     "text": [
      "Train set RMSE: 0.42\n",
      "Test set RMSE: 0.48\n",
      "Tested on combination ['is_lockdown', 'is_curfew', 'Max_Grav_accidents', 'hosp', 'rea', 'incid_rea']\n"
     ]
    },
    {
     "name": "stderr",
     "output_type": "stream",
     "text": [
      "C:\\Users\\Thomas\\anaconda3\\envs\\bikes-count\\lib\\site-packages\\xgboost\\core.py:160: UserWarning: [03:51:25] WARNING: C:\\buildkite-agent\\builds\\buildkite-windows-cpu-autoscaling-group-i-0750514818a16474a-1\\xgboost\\xgboost-ci-windows\\src\\learner.cc:742: \n",
      "Parameters: { \"objectives\", \"verbose\" } are not used.\n",
      "\n",
      "  warnings.warn(smsg, UserWarning)\n"
     ]
    },
    {
     "name": "stdout",
     "output_type": "stream",
     "text": [
      "Train set RMSE: 0.41\n",
      "Test set RMSE: 0.54\n",
      "Tested on combination ['is_lockdown', 'is_curfew', 'Max_Grav_accidents', 'hosp', 'rea', 'rad']\n"
     ]
    },
    {
     "name": "stderr",
     "output_type": "stream",
     "text": [
      "C:\\Users\\Thomas\\anaconda3\\envs\\bikes-count\\lib\\site-packages\\xgboost\\core.py:160: UserWarning: [03:51:32] WARNING: C:\\buildkite-agent\\builds\\buildkite-windows-cpu-autoscaling-group-i-0750514818a16474a-1\\xgboost\\xgboost-ci-windows\\src\\learner.cc:742: \n",
      "Parameters: { \"objectives\", \"verbose\" } are not used.\n",
      "\n",
      "  warnings.warn(smsg, UserWarning)\n"
     ]
    },
    {
     "name": "stdout",
     "output_type": "stream",
     "text": [
      "Train set RMSE: 0.42\n",
      "Test set RMSE: 0.48\n",
      "Tested on combination ['is_lockdown', 'is_curfew', 'Max_Grav_accidents', 'hosp', 'rea', 'Count_accidents']\n"
     ]
    },
    {
     "name": "stderr",
     "output_type": "stream",
     "text": [
      "C:\\Users\\Thomas\\anaconda3\\envs\\bikes-count\\lib\\site-packages\\xgboost\\core.py:160: UserWarning: [03:51:38] WARNING: C:\\buildkite-agent\\builds\\buildkite-windows-cpu-autoscaling-group-i-0750514818a16474a-1\\xgboost\\xgboost-ci-windows\\src\\learner.cc:742: \n",
      "Parameters: { \"objectives\", \"verbose\" } are not used.\n",
      "\n",
      "  warnings.warn(smsg, UserWarning)\n"
     ]
    },
    {
     "name": "stdout",
     "output_type": "stream",
     "text": [
      "Train set RMSE: 0.41\n",
      "Test set RMSE: 0.49\n",
      "Tested on combination ['is_lockdown', 'is_curfew', 'Max_Grav_accidents', 'hosp', 'incid_rea', 'rad']\n"
     ]
    },
    {
     "name": "stderr",
     "output_type": "stream",
     "text": [
      "C:\\Users\\Thomas\\anaconda3\\envs\\bikes-count\\lib\\site-packages\\xgboost\\core.py:160: UserWarning: [03:51:45] WARNING: C:\\buildkite-agent\\builds\\buildkite-windows-cpu-autoscaling-group-i-0750514818a16474a-1\\xgboost\\xgboost-ci-windows\\src\\learner.cc:742: \n",
      "Parameters: { \"objectives\", \"verbose\" } are not used.\n",
      "\n",
      "  warnings.warn(smsg, UserWarning)\n"
     ]
    },
    {
     "name": "stdout",
     "output_type": "stream",
     "text": [
      "Train set RMSE: 0.42\n",
      "Test set RMSE: 0.49\n",
      "Tested on combination ['is_lockdown', 'is_curfew', 'Max_Grav_accidents', 'hosp', 'incid_rea', 'Count_accidents']\n"
     ]
    },
    {
     "name": "stderr",
     "output_type": "stream",
     "text": [
      "C:\\Users\\Thomas\\anaconda3\\envs\\bikes-count\\lib\\site-packages\\xgboost\\core.py:160: UserWarning: [03:51:52] WARNING: C:\\buildkite-agent\\builds\\buildkite-windows-cpu-autoscaling-group-i-0750514818a16474a-1\\xgboost\\xgboost-ci-windows\\src\\learner.cc:742: \n",
      "Parameters: { \"objectives\", \"verbose\" } are not used.\n",
      "\n",
      "  warnings.warn(smsg, UserWarning)\n"
     ]
    },
    {
     "name": "stdout",
     "output_type": "stream",
     "text": [
      "Train set RMSE: 0.41\n",
      "Test set RMSE: 0.48\n",
      "Tested on combination ['is_lockdown', 'is_curfew', 'Max_Grav_accidents', 'hosp', 'rad', 'Count_accidents']\n"
     ]
    },
    {
     "name": "stderr",
     "output_type": "stream",
     "text": [
      "C:\\Users\\Thomas\\anaconda3\\envs\\bikes-count\\lib\\site-packages\\xgboost\\core.py:160: UserWarning: [03:51:58] WARNING: C:\\buildkite-agent\\builds\\buildkite-windows-cpu-autoscaling-group-i-0750514818a16474a-1\\xgboost\\xgboost-ci-windows\\src\\learner.cc:742: \n",
      "Parameters: { \"objectives\", \"verbose\" } are not used.\n",
      "\n",
      "  warnings.warn(smsg, UserWarning)\n"
     ]
    },
    {
     "name": "stdout",
     "output_type": "stream",
     "text": [
      "Train set RMSE: 0.41\n",
      "Test set RMSE: 0.56\n",
      "Tested on combination ['is_lockdown', 'is_curfew', 'Max_Grav_accidents', 'rea', 'incid_rea', 'rad']\n"
     ]
    },
    {
     "name": "stderr",
     "output_type": "stream",
     "text": [
      "C:\\Users\\Thomas\\anaconda3\\envs\\bikes-count\\lib\\site-packages\\xgboost\\core.py:160: UserWarning: [03:52:05] WARNING: C:\\buildkite-agent\\builds\\buildkite-windows-cpu-autoscaling-group-i-0750514818a16474a-1\\xgboost\\xgboost-ci-windows\\src\\learner.cc:742: \n",
      "Parameters: { \"objectives\", \"verbose\" } are not used.\n",
      "\n",
      "  warnings.warn(smsg, UserWarning)\n"
     ]
    },
    {
     "name": "stdout",
     "output_type": "stream",
     "text": [
      "Train set RMSE: 0.42\n",
      "Test set RMSE: 0.51\n",
      "Tested on combination ['is_lockdown', 'is_curfew', 'Max_Grav_accidents', 'rea', 'incid_rea', 'Count_accidents']\n"
     ]
    },
    {
     "name": "stderr",
     "output_type": "stream",
     "text": [
      "C:\\Users\\Thomas\\anaconda3\\envs\\bikes-count\\lib\\site-packages\\xgboost\\core.py:160: UserWarning: [03:52:11] WARNING: C:\\buildkite-agent\\builds\\buildkite-windows-cpu-autoscaling-group-i-0750514818a16474a-1\\xgboost\\xgboost-ci-windows\\src\\learner.cc:742: \n",
      "Parameters: { \"objectives\", \"verbose\" } are not used.\n",
      "\n",
      "  warnings.warn(smsg, UserWarning)\n"
     ]
    },
    {
     "name": "stdout",
     "output_type": "stream",
     "text": [
      "Train set RMSE: 0.41\n",
      "Test set RMSE: 0.54\n",
      "Tested on combination ['is_lockdown', 'is_curfew', 'Max_Grav_accidents', 'rea', 'rad', 'Count_accidents']\n"
     ]
    },
    {
     "name": "stderr",
     "output_type": "stream",
     "text": [
      "C:\\Users\\Thomas\\anaconda3\\envs\\bikes-count\\lib\\site-packages\\xgboost\\core.py:160: UserWarning: [03:52:18] WARNING: C:\\buildkite-agent\\builds\\buildkite-windows-cpu-autoscaling-group-i-0750514818a16474a-1\\xgboost\\xgboost-ci-windows\\src\\learner.cc:742: \n",
      "Parameters: { \"objectives\", \"verbose\" } are not used.\n",
      "\n",
      "  warnings.warn(smsg, UserWarning)\n"
     ]
    },
    {
     "name": "stdout",
     "output_type": "stream",
     "text": [
      "Train set RMSE: 0.42\n",
      "Test set RMSE: 0.51\n",
      "Tested on combination ['is_lockdown', 'is_curfew', 'Max_Grav_accidents', 'incid_rea', 'rad', 'Count_accidents']\n"
     ]
    },
    {
     "name": "stderr",
     "output_type": "stream",
     "text": [
      "C:\\Users\\Thomas\\anaconda3\\envs\\bikes-count\\lib\\site-packages\\xgboost\\core.py:160: UserWarning: [03:52:24] WARNING: C:\\buildkite-agent\\builds\\buildkite-windows-cpu-autoscaling-group-i-0750514818a16474a-1\\xgboost\\xgboost-ci-windows\\src\\learner.cc:742: \n",
      "Parameters: { \"objectives\", \"verbose\" } are not used.\n",
      "\n",
      "  warnings.warn(smsg, UserWarning)\n"
     ]
    },
    {
     "name": "stdout",
     "output_type": "stream",
     "text": [
      "Train set RMSE: 0.41\n",
      "Test set RMSE: 0.51\n",
      "Tested on combination ['is_lockdown', 'is_curfew', 'hosp', 'rea', 'incid_rea', 'rad']\n"
     ]
    },
    {
     "name": "stderr",
     "output_type": "stream",
     "text": [
      "C:\\Users\\Thomas\\anaconda3\\envs\\bikes-count\\lib\\site-packages\\xgboost\\core.py:160: UserWarning: [03:52:31] WARNING: C:\\buildkite-agent\\builds\\buildkite-windows-cpu-autoscaling-group-i-0750514818a16474a-1\\xgboost\\xgboost-ci-windows\\src\\learner.cc:742: \n",
      "Parameters: { \"objectives\", \"verbose\" } are not used.\n",
      "\n",
      "  warnings.warn(smsg, UserWarning)\n"
     ]
    },
    {
     "name": "stdout",
     "output_type": "stream",
     "text": [
      "Train set RMSE: 0.42\n",
      "Test set RMSE: 0.49\n",
      "Tested on combination ['is_lockdown', 'is_curfew', 'hosp', 'rea', 'incid_rea', 'Count_accidents']\n"
     ]
    },
    {
     "name": "stderr",
     "output_type": "stream",
     "text": [
      "C:\\Users\\Thomas\\anaconda3\\envs\\bikes-count\\lib\\site-packages\\xgboost\\core.py:160: UserWarning: [03:52:37] WARNING: C:\\buildkite-agent\\builds\\buildkite-windows-cpu-autoscaling-group-i-0750514818a16474a-1\\xgboost\\xgboost-ci-windows\\src\\learner.cc:742: \n",
      "Parameters: { \"objectives\", \"verbose\" } are not used.\n",
      "\n",
      "  warnings.warn(smsg, UserWarning)\n"
     ]
    },
    {
     "name": "stdout",
     "output_type": "stream",
     "text": [
      "Train set RMSE: 0.41\n",
      "Test set RMSE: 0.51\n",
      "Tested on combination ['is_lockdown', 'is_curfew', 'hosp', 'rea', 'rad', 'Count_accidents']\n"
     ]
    },
    {
     "name": "stderr",
     "output_type": "stream",
     "text": [
      "C:\\Users\\Thomas\\anaconda3\\envs\\bikes-count\\lib\\site-packages\\xgboost\\core.py:160: UserWarning: [03:52:44] WARNING: C:\\buildkite-agent\\builds\\buildkite-windows-cpu-autoscaling-group-i-0750514818a16474a-1\\xgboost\\xgboost-ci-windows\\src\\learner.cc:742: \n",
      "Parameters: { \"objectives\", \"verbose\" } are not used.\n",
      "\n",
      "  warnings.warn(smsg, UserWarning)\n"
     ]
    },
    {
     "name": "stdout",
     "output_type": "stream",
     "text": [
      "Train set RMSE: 0.41\n",
      "Test set RMSE: 0.47\n",
      "Tested on combination ['is_lockdown', 'is_curfew', 'hosp', 'incid_rea', 'rad', 'Count_accidents']\n"
     ]
    },
    {
     "name": "stderr",
     "output_type": "stream",
     "text": [
      "C:\\Users\\Thomas\\anaconda3\\envs\\bikes-count\\lib\\site-packages\\xgboost\\core.py:160: UserWarning: [03:52:50] WARNING: C:\\buildkite-agent\\builds\\buildkite-windows-cpu-autoscaling-group-i-0750514818a16474a-1\\xgboost\\xgboost-ci-windows\\src\\learner.cc:742: \n",
      "Parameters: { \"objectives\", \"verbose\" } are not used.\n",
      "\n",
      "  warnings.warn(smsg, UserWarning)\n"
     ]
    },
    {
     "name": "stdout",
     "output_type": "stream",
     "text": [
      "Train set RMSE: 0.41\n",
      "Test set RMSE: 0.55\n",
      "Tested on combination ['is_lockdown', 'is_curfew', 'rea', 'incid_rea', 'rad', 'Count_accidents']\n"
     ]
    },
    {
     "name": "stderr",
     "output_type": "stream",
     "text": [
      "C:\\Users\\Thomas\\anaconda3\\envs\\bikes-count\\lib\\site-packages\\xgboost\\core.py:160: UserWarning: [03:52:56] WARNING: C:\\buildkite-agent\\builds\\buildkite-windows-cpu-autoscaling-group-i-0750514818a16474a-1\\xgboost\\xgboost-ci-windows\\src\\learner.cc:742: \n",
      "Parameters: { \"objectives\", \"verbose\" } are not used.\n",
      "\n",
      "  warnings.warn(smsg, UserWarning)\n"
     ]
    },
    {
     "name": "stdout",
     "output_type": "stream",
     "text": [
      "Train set RMSE: 0.41\n",
      "Test set RMSE: 0.51\n",
      "Tested on combination ['is_lockdown', 'Max_Grav_accidents', 'hosp', 'rea', 'incid_rea', 'rad']\n"
     ]
    },
    {
     "name": "stderr",
     "output_type": "stream",
     "text": [
      "C:\\Users\\Thomas\\anaconda3\\envs\\bikes-count\\lib\\site-packages\\xgboost\\core.py:160: UserWarning: [03:53:03] WARNING: C:\\buildkite-agent\\builds\\buildkite-windows-cpu-autoscaling-group-i-0750514818a16474a-1\\xgboost\\xgboost-ci-windows\\src\\learner.cc:742: \n",
      "Parameters: { \"objectives\", \"verbose\" } are not used.\n",
      "\n",
      "  warnings.warn(smsg, UserWarning)\n"
     ]
    },
    {
     "name": "stdout",
     "output_type": "stream",
     "text": [
      "Train set RMSE: 0.42\n",
      "Test set RMSE: 0.50\n",
      "Tested on combination ['is_lockdown', 'Max_Grav_accidents', 'hosp', 'rea', 'incid_rea', 'Count_accidents']\n"
     ]
    },
    {
     "name": "stderr",
     "output_type": "stream",
     "text": [
      "C:\\Users\\Thomas\\anaconda3\\envs\\bikes-count\\lib\\site-packages\\xgboost\\core.py:160: UserWarning: [03:53:10] WARNING: C:\\buildkite-agent\\builds\\buildkite-windows-cpu-autoscaling-group-i-0750514818a16474a-1\\xgboost\\xgboost-ci-windows\\src\\learner.cc:742: \n",
      "Parameters: { \"objectives\", \"verbose\" } are not used.\n",
      "\n",
      "  warnings.warn(smsg, UserWarning)\n"
     ]
    },
    {
     "name": "stdout",
     "output_type": "stream",
     "text": [
      "Train set RMSE: 0.41\n",
      "Test set RMSE: 0.50\n",
      "Tested on combination ['is_lockdown', 'Max_Grav_accidents', 'hosp', 'rea', 'rad', 'Count_accidents']\n"
     ]
    },
    {
     "name": "stderr",
     "output_type": "stream",
     "text": [
      "C:\\Users\\Thomas\\anaconda3\\envs\\bikes-count\\lib\\site-packages\\xgboost\\core.py:160: UserWarning: [03:53:16] WARNING: C:\\buildkite-agent\\builds\\buildkite-windows-cpu-autoscaling-group-i-0750514818a16474a-1\\xgboost\\xgboost-ci-windows\\src\\learner.cc:742: \n",
      "Parameters: { \"objectives\", \"verbose\" } are not used.\n",
      "\n",
      "  warnings.warn(smsg, UserWarning)\n"
     ]
    },
    {
     "name": "stdout",
     "output_type": "stream",
     "text": [
      "Train set RMSE: 0.41\n",
      "Test set RMSE: 0.48\n",
      "Tested on combination ['is_lockdown', 'Max_Grav_accidents', 'hosp', 'incid_rea', 'rad', 'Count_accidents']\n"
     ]
    },
    {
     "name": "stderr",
     "output_type": "stream",
     "text": [
      "C:\\Users\\Thomas\\anaconda3\\envs\\bikes-count\\lib\\site-packages\\xgboost\\core.py:160: UserWarning: [03:53:22] WARNING: C:\\buildkite-agent\\builds\\buildkite-windows-cpu-autoscaling-group-i-0750514818a16474a-1\\xgboost\\xgboost-ci-windows\\src\\learner.cc:742: \n",
      "Parameters: { \"objectives\", \"verbose\" } are not used.\n",
      "\n",
      "  warnings.warn(smsg, UserWarning)\n"
     ]
    },
    {
     "name": "stdout",
     "output_type": "stream",
     "text": [
      "Train set RMSE: 0.41\n",
      "Test set RMSE: 0.56\n",
      "Tested on combination ['is_lockdown', 'Max_Grav_accidents', 'rea', 'incid_rea', 'rad', 'Count_accidents']\n"
     ]
    },
    {
     "name": "stderr",
     "output_type": "stream",
     "text": [
      "C:\\Users\\Thomas\\anaconda3\\envs\\bikes-count\\lib\\site-packages\\xgboost\\core.py:160: UserWarning: [03:53:29] WARNING: C:\\buildkite-agent\\builds\\buildkite-windows-cpu-autoscaling-group-i-0750514818a16474a-1\\xgboost\\xgboost-ci-windows\\src\\learner.cc:742: \n",
      "Parameters: { \"objectives\", \"verbose\" } are not used.\n",
      "\n",
      "  warnings.warn(smsg, UserWarning)\n"
     ]
    },
    {
     "name": "stdout",
     "output_type": "stream",
     "text": [
      "Train set RMSE: 0.41\n",
      "Test set RMSE: 0.52\n",
      "Tested on combination ['is_lockdown', 'hosp', 'rea', 'incid_rea', 'rad', 'Count_accidents']\n"
     ]
    },
    {
     "name": "stderr",
     "output_type": "stream",
     "text": [
      "C:\\Users\\Thomas\\anaconda3\\envs\\bikes-count\\lib\\site-packages\\xgboost\\core.py:160: UserWarning: [03:53:35] WARNING: C:\\buildkite-agent\\builds\\buildkite-windows-cpu-autoscaling-group-i-0750514818a16474a-1\\xgboost\\xgboost-ci-windows\\src\\learner.cc:742: \n",
      "Parameters: { \"objectives\", \"verbose\" } are not used.\n",
      "\n",
      "  warnings.warn(smsg, UserWarning)\n"
     ]
    },
    {
     "name": "stdout",
     "output_type": "stream",
     "text": [
      "Train set RMSE: 0.42\n",
      "Test set RMSE: 0.51\n",
      "Tested on combination ['is_curfew', 'Max_Grav_accidents', 'hosp', 'rea', 'incid_rea', 'rad']\n"
     ]
    },
    {
     "name": "stderr",
     "output_type": "stream",
     "text": [
      "C:\\Users\\Thomas\\anaconda3\\envs\\bikes-count\\lib\\site-packages\\xgboost\\core.py:160: UserWarning: [03:53:42] WARNING: C:\\buildkite-agent\\builds\\buildkite-windows-cpu-autoscaling-group-i-0750514818a16474a-1\\xgboost\\xgboost-ci-windows\\src\\learner.cc:742: \n",
      "Parameters: { \"objectives\", \"verbose\" } are not used.\n",
      "\n",
      "  warnings.warn(smsg, UserWarning)\n"
     ]
    },
    {
     "name": "stdout",
     "output_type": "stream",
     "text": [
      "Train set RMSE: 0.42\n",
      "Test set RMSE: 0.48\n",
      "Tested on combination ['is_curfew', 'Max_Grav_accidents', 'hosp', 'rea', 'incid_rea', 'Count_accidents']\n"
     ]
    },
    {
     "name": "stderr",
     "output_type": "stream",
     "text": [
      "C:\\Users\\Thomas\\anaconda3\\envs\\bikes-count\\lib\\site-packages\\xgboost\\core.py:160: UserWarning: [03:53:48] WARNING: C:\\buildkite-agent\\builds\\buildkite-windows-cpu-autoscaling-group-i-0750514818a16474a-1\\xgboost\\xgboost-ci-windows\\src\\learner.cc:742: \n",
      "Parameters: { \"objectives\", \"verbose\" } are not used.\n",
      "\n",
      "  warnings.warn(smsg, UserWarning)\n"
     ]
    },
    {
     "name": "stdout",
     "output_type": "stream",
     "text": [
      "Train set RMSE: 0.41\n",
      "Test set RMSE: 0.52\n",
      "Tested on combination ['is_curfew', 'Max_Grav_accidents', 'hosp', 'rea', 'rad', 'Count_accidents']\n"
     ]
    },
    {
     "name": "stderr",
     "output_type": "stream",
     "text": [
      "C:\\Users\\Thomas\\anaconda3\\envs\\bikes-count\\lib\\site-packages\\xgboost\\core.py:160: UserWarning: [03:53:55] WARNING: C:\\buildkite-agent\\builds\\buildkite-windows-cpu-autoscaling-group-i-0750514818a16474a-1\\xgboost\\xgboost-ci-windows\\src\\learner.cc:742: \n",
      "Parameters: { \"objectives\", \"verbose\" } are not used.\n",
      "\n",
      "  warnings.warn(smsg, UserWarning)\n"
     ]
    },
    {
     "name": "stdout",
     "output_type": "stream",
     "text": [
      "Train set RMSE: 0.41\n",
      "Test set RMSE: 0.48\n",
      "Tested on combination ['is_curfew', 'Max_Grav_accidents', 'hosp', 'incid_rea', 'rad', 'Count_accidents']\n"
     ]
    },
    {
     "name": "stderr",
     "output_type": "stream",
     "text": [
      "C:\\Users\\Thomas\\anaconda3\\envs\\bikes-count\\lib\\site-packages\\xgboost\\core.py:160: UserWarning: [03:54:01] WARNING: C:\\buildkite-agent\\builds\\buildkite-windows-cpu-autoscaling-group-i-0750514818a16474a-1\\xgboost\\xgboost-ci-windows\\src\\learner.cc:742: \n",
      "Parameters: { \"objectives\", \"verbose\" } are not used.\n",
      "\n",
      "  warnings.warn(smsg, UserWarning)\n"
     ]
    },
    {
     "name": "stdout",
     "output_type": "stream",
     "text": [
      "Train set RMSE: 0.41\n",
      "Test set RMSE: 0.56\n",
      "Tested on combination ['is_curfew', 'Max_Grav_accidents', 'rea', 'incid_rea', 'rad', 'Count_accidents']\n"
     ]
    },
    {
     "name": "stderr",
     "output_type": "stream",
     "text": [
      "C:\\Users\\Thomas\\anaconda3\\envs\\bikes-count\\lib\\site-packages\\xgboost\\core.py:160: UserWarning: [03:54:08] WARNING: C:\\buildkite-agent\\builds\\buildkite-windows-cpu-autoscaling-group-i-0750514818a16474a-1\\xgboost\\xgboost-ci-windows\\src\\learner.cc:742: \n",
      "Parameters: { \"objectives\", \"verbose\" } are not used.\n",
      "\n",
      "  warnings.warn(smsg, UserWarning)\n"
     ]
    },
    {
     "name": "stdout",
     "output_type": "stream",
     "text": [
      "Train set RMSE: 0.41\n",
      "Test set RMSE: 0.52\n",
      "Tested on combination ['is_curfew', 'hosp', 'rea', 'incid_rea', 'rad', 'Count_accidents']\n"
     ]
    },
    {
     "name": "stderr",
     "output_type": "stream",
     "text": [
      "C:\\Users\\Thomas\\anaconda3\\envs\\bikes-count\\lib\\site-packages\\xgboost\\core.py:160: UserWarning: [03:54:15] WARNING: C:\\buildkite-agent\\builds\\buildkite-windows-cpu-autoscaling-group-i-0750514818a16474a-1\\xgboost\\xgboost-ci-windows\\src\\learner.cc:742: \n",
      "Parameters: { \"objectives\", \"verbose\" } are not used.\n",
      "\n",
      "  warnings.warn(smsg, UserWarning)\n"
     ]
    },
    {
     "name": "stdout",
     "output_type": "stream",
     "text": [
      "Train set RMSE: 0.42\n",
      "Test set RMSE: 0.52\n",
      "Tested on combination ['Max_Grav_accidents', 'hosp', 'rea', 'incid_rea', 'rad', 'Count_accidents']\n"
     ]
    },
    {
     "name": "stderr",
     "output_type": "stream",
     "text": [
      "C:\\Users\\Thomas\\anaconda3\\envs\\bikes-count\\lib\\site-packages\\xgboost\\core.py:160: UserWarning: [03:54:21] WARNING: C:\\buildkite-agent\\builds\\buildkite-windows-cpu-autoscaling-group-i-0750514818a16474a-1\\xgboost\\xgboost-ci-windows\\src\\learner.cc:742: \n",
      "Parameters: { \"objectives\", \"verbose\" } are not used.\n",
      "\n",
      "  warnings.warn(smsg, UserWarning)\n"
     ]
    },
    {
     "name": "stdout",
     "output_type": "stream",
     "text": [
      "Train set RMSE: 0.42\n",
      "Test set RMSE: 0.48\n",
      "Tested on combination ['is_holiday', 'is_weekend', 'is_lockdown', 'is_curfew', 'Max_Grav_accidents', 'hosp', 'rea']\n"
     ]
    },
    {
     "name": "stderr",
     "output_type": "stream",
     "text": [
      "C:\\Users\\Thomas\\anaconda3\\envs\\bikes-count\\lib\\site-packages\\xgboost\\core.py:160: UserWarning: [03:54:28] WARNING: C:\\buildkite-agent\\builds\\buildkite-windows-cpu-autoscaling-group-i-0750514818a16474a-1\\xgboost\\xgboost-ci-windows\\src\\learner.cc:742: \n",
      "Parameters: { \"objectives\", \"verbose\" } are not used.\n",
      "\n",
      "  warnings.warn(smsg, UserWarning)\n"
     ]
    },
    {
     "name": "stdout",
     "output_type": "stream",
     "text": [
      "Train set RMSE: 0.42\n",
      "Test set RMSE: 0.51\n",
      "Tested on combination ['is_holiday', 'is_weekend', 'is_lockdown', 'is_curfew', 'Max_Grav_accidents', 'hosp', 'incid_rea']\n"
     ]
    },
    {
     "name": "stderr",
     "output_type": "stream",
     "text": [
      "C:\\Users\\Thomas\\anaconda3\\envs\\bikes-count\\lib\\site-packages\\xgboost\\core.py:160: UserWarning: [03:54:35] WARNING: C:\\buildkite-agent\\builds\\buildkite-windows-cpu-autoscaling-group-i-0750514818a16474a-1\\xgboost\\xgboost-ci-windows\\src\\learner.cc:742: \n",
      "Parameters: { \"objectives\", \"verbose\" } are not used.\n",
      "\n",
      "  warnings.warn(smsg, UserWarning)\n"
     ]
    },
    {
     "name": "stdout",
     "output_type": "stream",
     "text": [
      "Train set RMSE: 0.41\n",
      "Test set RMSE: 0.49\n",
      "Tested on combination ['is_holiday', 'is_weekend', 'is_lockdown', 'is_curfew', 'Max_Grav_accidents', 'hosp', 'rad']\n"
     ]
    },
    {
     "name": "stderr",
     "output_type": "stream",
     "text": [
      "C:\\Users\\Thomas\\anaconda3\\envs\\bikes-count\\lib\\site-packages\\xgboost\\core.py:160: UserWarning: [03:54:41] WARNING: C:\\buildkite-agent\\builds\\buildkite-windows-cpu-autoscaling-group-i-0750514818a16474a-1\\xgboost\\xgboost-ci-windows\\src\\learner.cc:742: \n",
      "Parameters: { \"objectives\", \"verbose\" } are not used.\n",
      "\n",
      "  warnings.warn(smsg, UserWarning)\n"
     ]
    },
    {
     "name": "stdout",
     "output_type": "stream",
     "text": [
      "Train set RMSE: 0.42\n",
      "Test set RMSE: 0.47\n",
      "Tested on combination ['is_holiday', 'is_weekend', 'is_lockdown', 'is_curfew', 'Max_Grav_accidents', 'hosp', 'Count_accidents']\n"
     ]
    },
    {
     "name": "stderr",
     "output_type": "stream",
     "text": [
      "C:\\Users\\Thomas\\anaconda3\\envs\\bikes-count\\lib\\site-packages\\xgboost\\core.py:160: UserWarning: [03:54:48] WARNING: C:\\buildkite-agent\\builds\\buildkite-windows-cpu-autoscaling-group-i-0750514818a16474a-1\\xgboost\\xgboost-ci-windows\\src\\learner.cc:742: \n",
      "Parameters: { \"objectives\", \"verbose\" } are not used.\n",
      "\n",
      "  warnings.warn(smsg, UserWarning)\n"
     ]
    },
    {
     "name": "stdout",
     "output_type": "stream",
     "text": [
      "Train set RMSE: 0.42\n",
      "Test set RMSE: 0.54\n",
      "Tested on combination ['is_holiday', 'is_weekend', 'is_lockdown', 'is_curfew', 'Max_Grav_accidents', 'rea', 'incid_rea']\n"
     ]
    },
    {
     "name": "stderr",
     "output_type": "stream",
     "text": [
      "C:\\Users\\Thomas\\anaconda3\\envs\\bikes-count\\lib\\site-packages\\xgboost\\core.py:160: UserWarning: [03:54:55] WARNING: C:\\buildkite-agent\\builds\\buildkite-windows-cpu-autoscaling-group-i-0750514818a16474a-1\\xgboost\\xgboost-ci-windows\\src\\learner.cc:742: \n",
      "Parameters: { \"objectives\", \"verbose\" } are not used.\n",
      "\n",
      "  warnings.warn(smsg, UserWarning)\n"
     ]
    },
    {
     "name": "stdout",
     "output_type": "stream",
     "text": [
      "Train set RMSE: 0.41\n",
      "Test set RMSE: 0.55\n",
      "Tested on combination ['is_holiday', 'is_weekend', 'is_lockdown', 'is_curfew', 'Max_Grav_accidents', 'rea', 'rad']\n"
     ]
    },
    {
     "name": "stderr",
     "output_type": "stream",
     "text": [
      "C:\\Users\\Thomas\\anaconda3\\envs\\bikes-count\\lib\\site-packages\\xgboost\\core.py:160: UserWarning: [03:55:01] WARNING: C:\\buildkite-agent\\builds\\buildkite-windows-cpu-autoscaling-group-i-0750514818a16474a-1\\xgboost\\xgboost-ci-windows\\src\\learner.cc:742: \n",
      "Parameters: { \"objectives\", \"verbose\" } are not used.\n",
      "\n",
      "  warnings.warn(smsg, UserWarning)\n"
     ]
    },
    {
     "name": "stdout",
     "output_type": "stream",
     "text": [
      "Train set RMSE: 0.42\n",
      "Test set RMSE: 0.50\n",
      "Tested on combination ['is_holiday', 'is_weekend', 'is_lockdown', 'is_curfew', 'Max_Grav_accidents', 'rea', 'Count_accidents']\n"
     ]
    },
    {
     "name": "stderr",
     "output_type": "stream",
     "text": [
      "C:\\Users\\Thomas\\anaconda3\\envs\\bikes-count\\lib\\site-packages\\xgboost\\core.py:160: UserWarning: [03:55:08] WARNING: C:\\buildkite-agent\\builds\\buildkite-windows-cpu-autoscaling-group-i-0750514818a16474a-1\\xgboost\\xgboost-ci-windows\\src\\learner.cc:742: \n",
      "Parameters: { \"objectives\", \"verbose\" } are not used.\n",
      "\n",
      "  warnings.warn(smsg, UserWarning)\n"
     ]
    },
    {
     "name": "stdout",
     "output_type": "stream",
     "text": [
      "Train set RMSE: 0.42\n",
      "Test set RMSE: 0.51\n",
      "Tested on combination ['is_holiday', 'is_weekend', 'is_lockdown', 'is_curfew', 'Max_Grav_accidents', 'incid_rea', 'rad']\n"
     ]
    },
    {
     "name": "stderr",
     "output_type": "stream",
     "text": [
      "C:\\Users\\Thomas\\anaconda3\\envs\\bikes-count\\lib\\site-packages\\xgboost\\core.py:160: UserWarning: [03:55:15] WARNING: C:\\buildkite-agent\\builds\\buildkite-windows-cpu-autoscaling-group-i-0750514818a16474a-1\\xgboost\\xgboost-ci-windows\\src\\learner.cc:742: \n",
      "Parameters: { \"objectives\", \"verbose\" } are not used.\n",
      "\n",
      "  warnings.warn(smsg, UserWarning)\n"
     ]
    },
    {
     "name": "stdout",
     "output_type": "stream",
     "text": [
      "Train set RMSE: 0.43\n",
      "Test set RMSE: 0.48\n",
      "Tested on combination ['is_holiday', 'is_weekend', 'is_lockdown', 'is_curfew', 'Max_Grav_accidents', 'incid_rea', 'Count_accidents']\n"
     ]
    },
    {
     "name": "stderr",
     "output_type": "stream",
     "text": [
      "C:\\Users\\Thomas\\anaconda3\\envs\\bikes-count\\lib\\site-packages\\xgboost\\core.py:160: UserWarning: [03:55:22] WARNING: C:\\buildkite-agent\\builds\\buildkite-windows-cpu-autoscaling-group-i-0750514818a16474a-1\\xgboost\\xgboost-ci-windows\\src\\learner.cc:742: \n",
      "Parameters: { \"objectives\", \"verbose\" } are not used.\n",
      "\n",
      "  warnings.warn(smsg, UserWarning)\n"
     ]
    },
    {
     "name": "stdout",
     "output_type": "stream",
     "text": [
      "Train set RMSE: 0.42\n",
      "Test set RMSE: 0.51\n",
      "Tested on combination ['is_holiday', 'is_weekend', 'is_lockdown', 'is_curfew', 'Max_Grav_accidents', 'rad', 'Count_accidents']\n"
     ]
    },
    {
     "name": "stderr",
     "output_type": "stream",
     "text": [
      "C:\\Users\\Thomas\\anaconda3\\envs\\bikes-count\\lib\\site-packages\\xgboost\\core.py:160: UserWarning: [03:55:28] WARNING: C:\\buildkite-agent\\builds\\buildkite-windows-cpu-autoscaling-group-i-0750514818a16474a-1\\xgboost\\xgboost-ci-windows\\src\\learner.cc:742: \n",
      "Parameters: { \"objectives\", \"verbose\" } are not used.\n",
      "\n",
      "  warnings.warn(smsg, UserWarning)\n"
     ]
    },
    {
     "name": "stdout",
     "output_type": "stream",
     "text": [
      "Train set RMSE: 0.42\n",
      "Test set RMSE: 0.49\n",
      "Tested on combination ['is_holiday', 'is_weekend', 'is_lockdown', 'is_curfew', 'hosp', 'rea', 'incid_rea']\n"
     ]
    },
    {
     "name": "stderr",
     "output_type": "stream",
     "text": [
      "C:\\Users\\Thomas\\anaconda3\\envs\\bikes-count\\lib\\site-packages\\xgboost\\core.py:160: UserWarning: [03:55:35] WARNING: C:\\buildkite-agent\\builds\\buildkite-windows-cpu-autoscaling-group-i-0750514818a16474a-1\\xgboost\\xgboost-ci-windows\\src\\learner.cc:742: \n",
      "Parameters: { \"objectives\", \"verbose\" } are not used.\n",
      "\n",
      "  warnings.warn(smsg, UserWarning)\n"
     ]
    },
    {
     "name": "stdout",
     "output_type": "stream",
     "text": [
      "Train set RMSE: 0.41\n",
      "Test set RMSE: 0.51\n",
      "Tested on combination ['is_holiday', 'is_weekend', 'is_lockdown', 'is_curfew', 'hosp', 'rea', 'rad']\n"
     ]
    },
    {
     "name": "stderr",
     "output_type": "stream",
     "text": [
      "C:\\Users\\Thomas\\anaconda3\\envs\\bikes-count\\lib\\site-packages\\xgboost\\core.py:160: UserWarning: [03:55:41] WARNING: C:\\buildkite-agent\\builds\\buildkite-windows-cpu-autoscaling-group-i-0750514818a16474a-1\\xgboost\\xgboost-ci-windows\\src\\learner.cc:742: \n",
      "Parameters: { \"objectives\", \"verbose\" } are not used.\n",
      "\n",
      "  warnings.warn(smsg, UserWarning)\n"
     ]
    },
    {
     "name": "stdout",
     "output_type": "stream",
     "text": [
      "Train set RMSE: 0.42\n",
      "Test set RMSE: 0.48\n",
      "Tested on combination ['is_holiday', 'is_weekend', 'is_lockdown', 'is_curfew', 'hosp', 'rea', 'Count_accidents']\n"
     ]
    },
    {
     "name": "stderr",
     "output_type": "stream",
     "text": [
      "C:\\Users\\Thomas\\anaconda3\\envs\\bikes-count\\lib\\site-packages\\xgboost\\core.py:160: UserWarning: [03:55:48] WARNING: C:\\buildkite-agent\\builds\\buildkite-windows-cpu-autoscaling-group-i-0750514818a16474a-1\\xgboost\\xgboost-ci-windows\\src\\learner.cc:742: \n",
      "Parameters: { \"objectives\", \"verbose\" } are not used.\n",
      "\n",
      "  warnings.warn(smsg, UserWarning)\n"
     ]
    },
    {
     "name": "stdout",
     "output_type": "stream",
     "text": [
      "Train set RMSE: 0.41\n",
      "Test set RMSE: 0.50\n",
      "Tested on combination ['is_holiday', 'is_weekend', 'is_lockdown', 'is_curfew', 'hosp', 'incid_rea', 'rad']\n"
     ]
    },
    {
     "name": "stderr",
     "output_type": "stream",
     "text": [
      "C:\\Users\\Thomas\\anaconda3\\envs\\bikes-count\\lib\\site-packages\\xgboost\\core.py:160: UserWarning: [03:55:54] WARNING: C:\\buildkite-agent\\builds\\buildkite-windows-cpu-autoscaling-group-i-0750514818a16474a-1\\xgboost\\xgboost-ci-windows\\src\\learner.cc:742: \n",
      "Parameters: { \"objectives\", \"verbose\" } are not used.\n",
      "\n",
      "  warnings.warn(smsg, UserWarning)\n"
     ]
    },
    {
     "name": "stdout",
     "output_type": "stream",
     "text": [
      "Train set RMSE: 0.42\n",
      "Test set RMSE: 0.53\n",
      "Tested on combination ['is_holiday', 'is_weekend', 'is_lockdown', 'is_curfew', 'hosp', 'incid_rea', 'Count_accidents']\n"
     ]
    },
    {
     "name": "stderr",
     "output_type": "stream",
     "text": [
      "C:\\Users\\Thomas\\anaconda3\\envs\\bikes-count\\lib\\site-packages\\xgboost\\core.py:160: UserWarning: [03:56:01] WARNING: C:\\buildkite-agent\\builds\\buildkite-windows-cpu-autoscaling-group-i-0750514818a16474a-1\\xgboost\\xgboost-ci-windows\\src\\learner.cc:742: \n",
      "Parameters: { \"objectives\", \"verbose\" } are not used.\n",
      "\n",
      "  warnings.warn(smsg, UserWarning)\n"
     ]
    },
    {
     "name": "stdout",
     "output_type": "stream",
     "text": [
      "Train set RMSE: 0.41\n",
      "Test set RMSE: 0.51\n",
      "Tested on combination ['is_holiday', 'is_weekend', 'is_lockdown', 'is_curfew', 'hosp', 'rad', 'Count_accidents']\n"
     ]
    },
    {
     "name": "stderr",
     "output_type": "stream",
     "text": [
      "C:\\Users\\Thomas\\anaconda3\\envs\\bikes-count\\lib\\site-packages\\xgboost\\core.py:160: UserWarning: [03:56:08] WARNING: C:\\buildkite-agent\\builds\\buildkite-windows-cpu-autoscaling-group-i-0750514818a16474a-1\\xgboost\\xgboost-ci-windows\\src\\learner.cc:742: \n",
      "Parameters: { \"objectives\", \"verbose\" } are not used.\n",
      "\n",
      "  warnings.warn(smsg, UserWarning)\n"
     ]
    },
    {
     "name": "stdout",
     "output_type": "stream",
     "text": [
      "Train set RMSE: 0.41\n",
      "Test set RMSE: 0.55\n",
      "Tested on combination ['is_holiday', 'is_weekend', 'is_lockdown', 'is_curfew', 'rea', 'incid_rea', 'rad']\n"
     ]
    },
    {
     "name": "stderr",
     "output_type": "stream",
     "text": [
      "C:\\Users\\Thomas\\anaconda3\\envs\\bikes-count\\lib\\site-packages\\xgboost\\core.py:160: UserWarning: [03:56:14] WARNING: C:\\buildkite-agent\\builds\\buildkite-windows-cpu-autoscaling-group-i-0750514818a16474a-1\\xgboost\\xgboost-ci-windows\\src\\learner.cc:742: \n",
      "Parameters: { \"objectives\", \"verbose\" } are not used.\n",
      "\n",
      "  warnings.warn(smsg, UserWarning)\n"
     ]
    },
    {
     "name": "stdout",
     "output_type": "stream",
     "text": [
      "Train set RMSE: 0.42\n",
      "Test set RMSE: 0.52\n",
      "Tested on combination ['is_holiday', 'is_weekend', 'is_lockdown', 'is_curfew', 'rea', 'incid_rea', 'Count_accidents']\n"
     ]
    },
    {
     "name": "stderr",
     "output_type": "stream",
     "text": [
      "C:\\Users\\Thomas\\anaconda3\\envs\\bikes-count\\lib\\site-packages\\xgboost\\core.py:160: UserWarning: [03:56:21] WARNING: C:\\buildkite-agent\\builds\\buildkite-windows-cpu-autoscaling-group-i-0750514818a16474a-1\\xgboost\\xgboost-ci-windows\\src\\learner.cc:742: \n",
      "Parameters: { \"objectives\", \"verbose\" } are not used.\n",
      "\n",
      "  warnings.warn(smsg, UserWarning)\n"
     ]
    },
    {
     "name": "stdout",
     "output_type": "stream",
     "text": [
      "Train set RMSE: 0.41\n",
      "Test set RMSE: 0.55\n",
      "Tested on combination ['is_holiday', 'is_weekend', 'is_lockdown', 'is_curfew', 'rea', 'rad', 'Count_accidents']\n"
     ]
    },
    {
     "name": "stderr",
     "output_type": "stream",
     "text": [
      "C:\\Users\\Thomas\\anaconda3\\envs\\bikes-count\\lib\\site-packages\\xgboost\\core.py:160: UserWarning: [03:56:27] WARNING: C:\\buildkite-agent\\builds\\buildkite-windows-cpu-autoscaling-group-i-0750514818a16474a-1\\xgboost\\xgboost-ci-windows\\src\\learner.cc:742: \n",
      "Parameters: { \"objectives\", \"verbose\" } are not used.\n",
      "\n",
      "  warnings.warn(smsg, UserWarning)\n"
     ]
    },
    {
     "name": "stdout",
     "output_type": "stream",
     "text": [
      "Train set RMSE: 0.41\n",
      "Test set RMSE: 0.51\n",
      "Tested on combination ['is_holiday', 'is_weekend', 'is_lockdown', 'is_curfew', 'incid_rea', 'rad', 'Count_accidents']\n"
     ]
    },
    {
     "name": "stderr",
     "output_type": "stream",
     "text": [
      "C:\\Users\\Thomas\\anaconda3\\envs\\bikes-count\\lib\\site-packages\\xgboost\\core.py:160: UserWarning: [03:56:34] WARNING: C:\\buildkite-agent\\builds\\buildkite-windows-cpu-autoscaling-group-i-0750514818a16474a-1\\xgboost\\xgboost-ci-windows\\src\\learner.cc:742: \n",
      "Parameters: { \"objectives\", \"verbose\" } are not used.\n",
      "\n",
      "  warnings.warn(smsg, UserWarning)\n"
     ]
    },
    {
     "name": "stdout",
     "output_type": "stream",
     "text": [
      "Train set RMSE: 0.42\n",
      "Test set RMSE: 0.48\n",
      "Tested on combination ['is_holiday', 'is_weekend', 'is_lockdown', 'Max_Grav_accidents', 'hosp', 'rea', 'incid_rea']\n"
     ]
    },
    {
     "name": "stderr",
     "output_type": "stream",
     "text": [
      "C:\\Users\\Thomas\\anaconda3\\envs\\bikes-count\\lib\\site-packages\\xgboost\\core.py:160: UserWarning: [03:56:41] WARNING: C:\\buildkite-agent\\builds\\buildkite-windows-cpu-autoscaling-group-i-0750514818a16474a-1\\xgboost\\xgboost-ci-windows\\src\\learner.cc:742: \n",
      "Parameters: { \"objectives\", \"verbose\" } are not used.\n",
      "\n",
      "  warnings.warn(smsg, UserWarning)\n"
     ]
    },
    {
     "name": "stdout",
     "output_type": "stream",
     "text": [
      "Train set RMSE: 0.41\n",
      "Test set RMSE: 0.49\n",
      "Tested on combination ['is_holiday', 'is_weekend', 'is_lockdown', 'Max_Grav_accidents', 'hosp', 'rea', 'rad']\n"
     ]
    },
    {
     "name": "stderr",
     "output_type": "stream",
     "text": [
      "C:\\Users\\Thomas\\anaconda3\\envs\\bikes-count\\lib\\site-packages\\xgboost\\core.py:160: UserWarning: [03:56:48] WARNING: C:\\buildkite-agent\\builds\\buildkite-windows-cpu-autoscaling-group-i-0750514818a16474a-1\\xgboost\\xgboost-ci-windows\\src\\learner.cc:742: \n",
      "Parameters: { \"objectives\", \"verbose\" } are not used.\n",
      "\n",
      "  warnings.warn(smsg, UserWarning)\n"
     ]
    },
    {
     "name": "stdout",
     "output_type": "stream",
     "text": [
      "Train set RMSE: 0.41\n",
      "Test set RMSE: 0.46\n",
      "Tested on combination ['is_holiday', 'is_weekend', 'is_lockdown', 'Max_Grav_accidents', 'hosp', 'rea', 'Count_accidents']\n"
     ]
    },
    {
     "name": "stderr",
     "output_type": "stream",
     "text": [
      "C:\\Users\\Thomas\\anaconda3\\envs\\bikes-count\\lib\\site-packages\\xgboost\\core.py:160: UserWarning: [03:56:54] WARNING: C:\\buildkite-agent\\builds\\buildkite-windows-cpu-autoscaling-group-i-0750514818a16474a-1\\xgboost\\xgboost-ci-windows\\src\\learner.cc:742: \n",
      "Parameters: { \"objectives\", \"verbose\" } are not used.\n",
      "\n",
      "  warnings.warn(smsg, UserWarning)\n"
     ]
    },
    {
     "name": "stdout",
     "output_type": "stream",
     "text": [
      "Train set RMSE: 0.41\n",
      "Test set RMSE: 0.49\n",
      "Tested on combination ['is_holiday', 'is_weekend', 'is_lockdown', 'Max_Grav_accidents', 'hosp', 'incid_rea', 'rad']\n"
     ]
    },
    {
     "name": "stderr",
     "output_type": "stream",
     "text": [
      "C:\\Users\\Thomas\\anaconda3\\envs\\bikes-count\\lib\\site-packages\\xgboost\\core.py:160: UserWarning: [03:57:01] WARNING: C:\\buildkite-agent\\builds\\buildkite-windows-cpu-autoscaling-group-i-0750514818a16474a-1\\xgboost\\xgboost-ci-windows\\src\\learner.cc:742: \n",
      "Parameters: { \"objectives\", \"verbose\" } are not used.\n",
      "\n",
      "  warnings.warn(smsg, UserWarning)\n"
     ]
    },
    {
     "name": "stdout",
     "output_type": "stream",
     "text": [
      "Train set RMSE: 0.42\n",
      "Test set RMSE: 0.51\n",
      "Tested on combination ['is_holiday', 'is_weekend', 'is_lockdown', 'Max_Grav_accidents', 'hosp', 'incid_rea', 'Count_accidents']\n"
     ]
    },
    {
     "name": "stderr",
     "output_type": "stream",
     "text": [
      "C:\\Users\\Thomas\\anaconda3\\envs\\bikes-count\\lib\\site-packages\\xgboost\\core.py:160: UserWarning: [03:57:08] WARNING: C:\\buildkite-agent\\builds\\buildkite-windows-cpu-autoscaling-group-i-0750514818a16474a-1\\xgboost\\xgboost-ci-windows\\src\\learner.cc:742: \n",
      "Parameters: { \"objectives\", \"verbose\" } are not used.\n",
      "\n",
      "  warnings.warn(smsg, UserWarning)\n"
     ]
    },
    {
     "name": "stdout",
     "output_type": "stream",
     "text": [
      "Train set RMSE: 0.41\n",
      "Test set RMSE: 0.50\n",
      "Tested on combination ['is_holiday', 'is_weekend', 'is_lockdown', 'Max_Grav_accidents', 'hosp', 'rad', 'Count_accidents']\n"
     ]
    },
    {
     "name": "stderr",
     "output_type": "stream",
     "text": [
      "C:\\Users\\Thomas\\anaconda3\\envs\\bikes-count\\lib\\site-packages\\xgboost\\core.py:160: UserWarning: [03:57:14] WARNING: C:\\buildkite-agent\\builds\\buildkite-windows-cpu-autoscaling-group-i-0750514818a16474a-1\\xgboost\\xgboost-ci-windows\\src\\learner.cc:742: \n",
      "Parameters: { \"objectives\", \"verbose\" } are not used.\n",
      "\n",
      "  warnings.warn(smsg, UserWarning)\n"
     ]
    },
    {
     "name": "stdout",
     "output_type": "stream",
     "text": [
      "Train set RMSE: 0.41\n",
      "Test set RMSE: 0.55\n",
      "Tested on combination ['is_holiday', 'is_weekend', 'is_lockdown', 'Max_Grav_accidents', 'rea', 'incid_rea', 'rad']\n"
     ]
    },
    {
     "name": "stderr",
     "output_type": "stream",
     "text": [
      "C:\\Users\\Thomas\\anaconda3\\envs\\bikes-count\\lib\\site-packages\\xgboost\\core.py:160: UserWarning: [03:57:21] WARNING: C:\\buildkite-agent\\builds\\buildkite-windows-cpu-autoscaling-group-i-0750514818a16474a-1\\xgboost\\xgboost-ci-windows\\src\\learner.cc:742: \n",
      "Parameters: { \"objectives\", \"verbose\" } are not used.\n",
      "\n",
      "  warnings.warn(smsg, UserWarning)\n"
     ]
    },
    {
     "name": "stdout",
     "output_type": "stream",
     "text": [
      "Train set RMSE: 0.42\n",
      "Test set RMSE: 0.52\n",
      "Tested on combination ['is_holiday', 'is_weekend', 'is_lockdown', 'Max_Grav_accidents', 'rea', 'incid_rea', 'Count_accidents']\n"
     ]
    },
    {
     "name": "stderr",
     "output_type": "stream",
     "text": [
      "C:\\Users\\Thomas\\anaconda3\\envs\\bikes-count\\lib\\site-packages\\xgboost\\core.py:160: UserWarning: [03:57:27] WARNING: C:\\buildkite-agent\\builds\\buildkite-windows-cpu-autoscaling-group-i-0750514818a16474a-1\\xgboost\\xgboost-ci-windows\\src\\learner.cc:742: \n",
      "Parameters: { \"objectives\", \"verbose\" } are not used.\n",
      "\n",
      "  warnings.warn(smsg, UserWarning)\n"
     ]
    },
    {
     "name": "stdout",
     "output_type": "stream",
     "text": [
      "Train set RMSE: 0.41\n",
      "Test set RMSE: 0.55\n",
      "Tested on combination ['is_holiday', 'is_weekend', 'is_lockdown', 'Max_Grav_accidents', 'rea', 'rad', 'Count_accidents']\n"
     ]
    },
    {
     "name": "stderr",
     "output_type": "stream",
     "text": [
      "C:\\Users\\Thomas\\anaconda3\\envs\\bikes-count\\lib\\site-packages\\xgboost\\core.py:160: UserWarning: [03:57:34] WARNING: C:\\buildkite-agent\\builds\\buildkite-windows-cpu-autoscaling-group-i-0750514818a16474a-1\\xgboost\\xgboost-ci-windows\\src\\learner.cc:742: \n",
      "Parameters: { \"objectives\", \"verbose\" } are not used.\n",
      "\n",
      "  warnings.warn(smsg, UserWarning)\n"
     ]
    },
    {
     "name": "stdout",
     "output_type": "stream",
     "text": [
      "Train set RMSE: 0.41\n",
      "Test set RMSE: 0.50\n",
      "Tested on combination ['is_holiday', 'is_weekend', 'is_lockdown', 'Max_Grav_accidents', 'incid_rea', 'rad', 'Count_accidents']\n"
     ]
    },
    {
     "name": "stderr",
     "output_type": "stream",
     "text": [
      "C:\\Users\\Thomas\\anaconda3\\envs\\bikes-count\\lib\\site-packages\\xgboost\\core.py:160: UserWarning: [03:57:41] WARNING: C:\\buildkite-agent\\builds\\buildkite-windows-cpu-autoscaling-group-i-0750514818a16474a-1\\xgboost\\xgboost-ci-windows\\src\\learner.cc:742: \n",
      "Parameters: { \"objectives\", \"verbose\" } are not used.\n",
      "\n",
      "  warnings.warn(smsg, UserWarning)\n"
     ]
    },
    {
     "name": "stdout",
     "output_type": "stream",
     "text": [
      "Train set RMSE: 0.41\n",
      "Test set RMSE: 0.51\n",
      "Tested on combination ['is_holiday', 'is_weekend', 'is_lockdown', 'hosp', 'rea', 'incid_rea', 'rad']\n"
     ]
    },
    {
     "name": "stderr",
     "output_type": "stream",
     "text": [
      "C:\\Users\\Thomas\\anaconda3\\envs\\bikes-count\\lib\\site-packages\\xgboost\\core.py:160: UserWarning: [03:57:47] WARNING: C:\\buildkite-agent\\builds\\buildkite-windows-cpu-autoscaling-group-i-0750514818a16474a-1\\xgboost\\xgboost-ci-windows\\src\\learner.cc:742: \n",
      "Parameters: { \"objectives\", \"verbose\" } are not used.\n",
      "\n",
      "  warnings.warn(smsg, UserWarning)\n"
     ]
    },
    {
     "name": "stdout",
     "output_type": "stream",
     "text": [
      "Train set RMSE: 0.42\n",
      "Test set RMSE: 0.50\n",
      "Tested on combination ['is_holiday', 'is_weekend', 'is_lockdown', 'hosp', 'rea', 'incid_rea', 'Count_accidents']\n"
     ]
    },
    {
     "name": "stderr",
     "output_type": "stream",
     "text": [
      "C:\\Users\\Thomas\\anaconda3\\envs\\bikes-count\\lib\\site-packages\\xgboost\\core.py:160: UserWarning: [03:57:54] WARNING: C:\\buildkite-agent\\builds\\buildkite-windows-cpu-autoscaling-group-i-0750514818a16474a-1\\xgboost\\xgboost-ci-windows\\src\\learner.cc:742: \n",
      "Parameters: { \"objectives\", \"verbose\" } are not used.\n",
      "\n",
      "  warnings.warn(smsg, UserWarning)\n"
     ]
    },
    {
     "name": "stdout",
     "output_type": "stream",
     "text": [
      "Train set RMSE: 0.41\n",
      "Test set RMSE: 0.49\n",
      "Tested on combination ['is_holiday', 'is_weekend', 'is_lockdown', 'hosp', 'rea', 'rad', 'Count_accidents']\n"
     ]
    },
    {
     "name": "stderr",
     "output_type": "stream",
     "text": [
      "C:\\Users\\Thomas\\anaconda3\\envs\\bikes-count\\lib\\site-packages\\xgboost\\core.py:160: UserWarning: [03:58:00] WARNING: C:\\buildkite-agent\\builds\\buildkite-windows-cpu-autoscaling-group-i-0750514818a16474a-1\\xgboost\\xgboost-ci-windows\\src\\learner.cc:742: \n",
      "Parameters: { \"objectives\", \"verbose\" } are not used.\n",
      "\n",
      "  warnings.warn(smsg, UserWarning)\n"
     ]
    },
    {
     "name": "stdout",
     "output_type": "stream",
     "text": [
      "Train set RMSE: 0.41\n",
      "Test set RMSE: 0.50\n",
      "Tested on combination ['is_holiday', 'is_weekend', 'is_lockdown', 'hosp', 'incid_rea', 'rad', 'Count_accidents']\n"
     ]
    },
    {
     "name": "stderr",
     "output_type": "stream",
     "text": [
      "C:\\Users\\Thomas\\anaconda3\\envs\\bikes-count\\lib\\site-packages\\xgboost\\core.py:160: UserWarning: [03:58:07] WARNING: C:\\buildkite-agent\\builds\\buildkite-windows-cpu-autoscaling-group-i-0750514818a16474a-1\\xgboost\\xgboost-ci-windows\\src\\learner.cc:742: \n",
      "Parameters: { \"objectives\", \"verbose\" } are not used.\n",
      "\n",
      "  warnings.warn(smsg, UserWarning)\n"
     ]
    },
    {
     "name": "stdout",
     "output_type": "stream",
     "text": [
      "Train set RMSE: 0.41\n",
      "Test set RMSE: 0.54\n",
      "Tested on combination ['is_holiday', 'is_weekend', 'is_lockdown', 'rea', 'incid_rea', 'rad', 'Count_accidents']\n"
     ]
    },
    {
     "name": "stderr",
     "output_type": "stream",
     "text": [
      "C:\\Users\\Thomas\\anaconda3\\envs\\bikes-count\\lib\\site-packages\\xgboost\\core.py:160: UserWarning: [03:58:13] WARNING: C:\\buildkite-agent\\builds\\buildkite-windows-cpu-autoscaling-group-i-0750514818a16474a-1\\xgboost\\xgboost-ci-windows\\src\\learner.cc:742: \n",
      "Parameters: { \"objectives\", \"verbose\" } are not used.\n",
      "\n",
      "  warnings.warn(smsg, UserWarning)\n"
     ]
    },
    {
     "name": "stdout",
     "output_type": "stream",
     "text": [
      "Train set RMSE: 0.42\n",
      "Test set RMSE: 0.47\n",
      "Tested on combination ['is_holiday', 'is_weekend', 'is_curfew', 'Max_Grav_accidents', 'hosp', 'rea', 'incid_rea']\n"
     ]
    },
    {
     "name": "stderr",
     "output_type": "stream",
     "text": [
      "C:\\Users\\Thomas\\anaconda3\\envs\\bikes-count\\lib\\site-packages\\xgboost\\core.py:160: UserWarning: [03:58:20] WARNING: C:\\buildkite-agent\\builds\\buildkite-windows-cpu-autoscaling-group-i-0750514818a16474a-1\\xgboost\\xgboost-ci-windows\\src\\learner.cc:742: \n",
      "Parameters: { \"objectives\", \"verbose\" } are not used.\n",
      "\n",
      "  warnings.warn(smsg, UserWarning)\n"
     ]
    },
    {
     "name": "stdout",
     "output_type": "stream",
     "text": [
      "Train set RMSE: 0.41\n",
      "Test set RMSE: 0.50\n",
      "Tested on combination ['is_holiday', 'is_weekend', 'is_curfew', 'Max_Grav_accidents', 'hosp', 'rea', 'rad']\n"
     ]
    },
    {
     "name": "stderr",
     "output_type": "stream",
     "text": [
      "C:\\Users\\Thomas\\anaconda3\\envs\\bikes-count\\lib\\site-packages\\xgboost\\core.py:160: UserWarning: [03:58:27] WARNING: C:\\buildkite-agent\\builds\\buildkite-windows-cpu-autoscaling-group-i-0750514818a16474a-1\\xgboost\\xgboost-ci-windows\\src\\learner.cc:742: \n",
      "Parameters: { \"objectives\", \"verbose\" } are not used.\n",
      "\n",
      "  warnings.warn(smsg, UserWarning)\n"
     ]
    },
    {
     "name": "stdout",
     "output_type": "stream",
     "text": [
      "Train set RMSE: 0.42\n",
      "Test set RMSE: 0.49\n",
      "Tested on combination ['is_holiday', 'is_weekend', 'is_curfew', 'Max_Grav_accidents', 'hosp', 'rea', 'Count_accidents']\n"
     ]
    },
    {
     "name": "stderr",
     "output_type": "stream",
     "text": [
      "C:\\Users\\Thomas\\anaconda3\\envs\\bikes-count\\lib\\site-packages\\xgboost\\core.py:160: UserWarning: [03:58:33] WARNING: C:\\buildkite-agent\\builds\\buildkite-windows-cpu-autoscaling-group-i-0750514818a16474a-1\\xgboost\\xgboost-ci-windows\\src\\learner.cc:742: \n",
      "Parameters: { \"objectives\", \"verbose\" } are not used.\n",
      "\n",
      "  warnings.warn(smsg, UserWarning)\n"
     ]
    },
    {
     "name": "stdout",
     "output_type": "stream",
     "text": [
      "Train set RMSE: 0.41\n",
      "Test set RMSE: 0.52\n",
      "Tested on combination ['is_holiday', 'is_weekend', 'is_curfew', 'Max_Grav_accidents', 'hosp', 'incid_rea', 'rad']\n"
     ]
    },
    {
     "name": "stderr",
     "output_type": "stream",
     "text": [
      "C:\\Users\\Thomas\\anaconda3\\envs\\bikes-count\\lib\\site-packages\\xgboost\\core.py:160: UserWarning: [03:58:39] WARNING: C:\\buildkite-agent\\builds\\buildkite-windows-cpu-autoscaling-group-i-0750514818a16474a-1\\xgboost\\xgboost-ci-windows\\src\\learner.cc:742: \n",
      "Parameters: { \"objectives\", \"verbose\" } are not used.\n",
      "\n",
      "  warnings.warn(smsg, UserWarning)\n"
     ]
    },
    {
     "name": "stdout",
     "output_type": "stream",
     "text": [
      "Train set RMSE: 0.42\n",
      "Test set RMSE: 0.49\n",
      "Tested on combination ['is_holiday', 'is_weekend', 'is_curfew', 'Max_Grav_accidents', 'hosp', 'incid_rea', 'Count_accidents']\n"
     ]
    },
    {
     "name": "stderr",
     "output_type": "stream",
     "text": [
      "C:\\Users\\Thomas\\anaconda3\\envs\\bikes-count\\lib\\site-packages\\xgboost\\core.py:160: UserWarning: [03:58:46] WARNING: C:\\buildkite-agent\\builds\\buildkite-windows-cpu-autoscaling-group-i-0750514818a16474a-1\\xgboost\\xgboost-ci-windows\\src\\learner.cc:742: \n",
      "Parameters: { \"objectives\", \"verbose\" } are not used.\n",
      "\n",
      "  warnings.warn(smsg, UserWarning)\n"
     ]
    },
    {
     "name": "stdout",
     "output_type": "stream",
     "text": [
      "Train set RMSE: 0.41\n",
      "Test set RMSE: 0.49\n",
      "Tested on combination ['is_holiday', 'is_weekend', 'is_curfew', 'Max_Grav_accidents', 'hosp', 'rad', 'Count_accidents']\n"
     ]
    },
    {
     "name": "stderr",
     "output_type": "stream",
     "text": [
      "C:\\Users\\Thomas\\anaconda3\\envs\\bikes-count\\lib\\site-packages\\xgboost\\core.py:160: UserWarning: [03:58:53] WARNING: C:\\buildkite-agent\\builds\\buildkite-windows-cpu-autoscaling-group-i-0750514818a16474a-1\\xgboost\\xgboost-ci-windows\\src\\learner.cc:742: \n",
      "Parameters: { \"objectives\", \"verbose\" } are not used.\n",
      "\n",
      "  warnings.warn(smsg, UserWarning)\n"
     ]
    },
    {
     "name": "stdout",
     "output_type": "stream",
     "text": [
      "Train set RMSE: 0.41\n",
      "Test set RMSE: 0.54\n",
      "Tested on combination ['is_holiday', 'is_weekend', 'is_curfew', 'Max_Grav_accidents', 'rea', 'incid_rea', 'rad']\n"
     ]
    },
    {
     "name": "stderr",
     "output_type": "stream",
     "text": [
      "C:\\Users\\Thomas\\anaconda3\\envs\\bikes-count\\lib\\site-packages\\xgboost\\core.py:160: UserWarning: [03:59:00] WARNING: C:\\buildkite-agent\\builds\\buildkite-windows-cpu-autoscaling-group-i-0750514818a16474a-1\\xgboost\\xgboost-ci-windows\\src\\learner.cc:742: \n",
      "Parameters: { \"objectives\", \"verbose\" } are not used.\n",
      "\n",
      "  warnings.warn(smsg, UserWarning)\n"
     ]
    },
    {
     "name": "stdout",
     "output_type": "stream",
     "text": [
      "Train set RMSE: 0.42\n",
      "Test set RMSE: 0.52\n",
      "Tested on combination ['is_holiday', 'is_weekend', 'is_curfew', 'Max_Grav_accidents', 'rea', 'incid_rea', 'Count_accidents']\n"
     ]
    },
    {
     "name": "stderr",
     "output_type": "stream",
     "text": [
      "C:\\Users\\Thomas\\anaconda3\\envs\\bikes-count\\lib\\site-packages\\xgboost\\core.py:160: UserWarning: [03:59:07] WARNING: C:\\buildkite-agent\\builds\\buildkite-windows-cpu-autoscaling-group-i-0750514818a16474a-1\\xgboost\\xgboost-ci-windows\\src\\learner.cc:742: \n",
      "Parameters: { \"objectives\", \"verbose\" } are not used.\n",
      "\n",
      "  warnings.warn(smsg, UserWarning)\n"
     ]
    },
    {
     "name": "stdout",
     "output_type": "stream",
     "text": [
      "Train set RMSE: 0.41\n",
      "Test set RMSE: 0.56\n",
      "Tested on combination ['is_holiday', 'is_weekend', 'is_curfew', 'Max_Grav_accidents', 'rea', 'rad', 'Count_accidents']\n"
     ]
    },
    {
     "name": "stderr",
     "output_type": "stream",
     "text": [
      "C:\\Users\\Thomas\\anaconda3\\envs\\bikes-count\\lib\\site-packages\\xgboost\\core.py:160: UserWarning: [03:59:13] WARNING: C:\\buildkite-agent\\builds\\buildkite-windows-cpu-autoscaling-group-i-0750514818a16474a-1\\xgboost\\xgboost-ci-windows\\src\\learner.cc:742: \n",
      "Parameters: { \"objectives\", \"verbose\" } are not used.\n",
      "\n",
      "  warnings.warn(smsg, UserWarning)\n"
     ]
    },
    {
     "name": "stdout",
     "output_type": "stream",
     "text": [
      "Train set RMSE: 0.41\n",
      "Test set RMSE: 0.51\n",
      "Tested on combination ['is_holiday', 'is_weekend', 'is_curfew', 'Max_Grav_accidents', 'incid_rea', 'rad', 'Count_accidents']\n"
     ]
    },
    {
     "name": "stderr",
     "output_type": "stream",
     "text": [
      "C:\\Users\\Thomas\\anaconda3\\envs\\bikes-count\\lib\\site-packages\\xgboost\\core.py:160: UserWarning: [03:59:20] WARNING: C:\\buildkite-agent\\builds\\buildkite-windows-cpu-autoscaling-group-i-0750514818a16474a-1\\xgboost\\xgboost-ci-windows\\src\\learner.cc:742: \n",
      "Parameters: { \"objectives\", \"verbose\" } are not used.\n",
      "\n",
      "  warnings.warn(smsg, UserWarning)\n"
     ]
    },
    {
     "name": "stdout",
     "output_type": "stream",
     "text": [
      "Train set RMSE: 0.41\n",
      "Test set RMSE: 0.51\n",
      "Tested on combination ['is_holiday', 'is_weekend', 'is_curfew', 'hosp', 'rea', 'incid_rea', 'rad']\n"
     ]
    },
    {
     "name": "stderr",
     "output_type": "stream",
     "text": [
      "C:\\Users\\Thomas\\anaconda3\\envs\\bikes-count\\lib\\site-packages\\xgboost\\core.py:160: UserWarning: [03:59:26] WARNING: C:\\buildkite-agent\\builds\\buildkite-windows-cpu-autoscaling-group-i-0750514818a16474a-1\\xgboost\\xgboost-ci-windows\\src\\learner.cc:742: \n",
      "Parameters: { \"objectives\", \"verbose\" } are not used.\n",
      "\n",
      "  warnings.warn(smsg, UserWarning)\n"
     ]
    },
    {
     "name": "stdout",
     "output_type": "stream",
     "text": [
      "Train set RMSE: 0.42\n",
      "Test set RMSE: 0.48\n",
      "Tested on combination ['is_holiday', 'is_weekend', 'is_curfew', 'hosp', 'rea', 'incid_rea', 'Count_accidents']\n"
     ]
    },
    {
     "name": "stderr",
     "output_type": "stream",
     "text": [
      "C:\\Users\\Thomas\\anaconda3\\envs\\bikes-count\\lib\\site-packages\\xgboost\\core.py:160: UserWarning: [03:59:33] WARNING: C:\\buildkite-agent\\builds\\buildkite-windows-cpu-autoscaling-group-i-0750514818a16474a-1\\xgboost\\xgboost-ci-windows\\src\\learner.cc:742: \n",
      "Parameters: { \"objectives\", \"verbose\" } are not used.\n",
      "\n",
      "  warnings.warn(smsg, UserWarning)\n"
     ]
    },
    {
     "name": "stdout",
     "output_type": "stream",
     "text": [
      "Train set RMSE: 0.41\n",
      "Test set RMSE: 0.53\n",
      "Tested on combination ['is_holiday', 'is_weekend', 'is_curfew', 'hosp', 'rea', 'rad', 'Count_accidents']\n"
     ]
    },
    {
     "name": "stderr",
     "output_type": "stream",
     "text": [
      "C:\\Users\\Thomas\\anaconda3\\envs\\bikes-count\\lib\\site-packages\\xgboost\\core.py:160: UserWarning: [03:59:40] WARNING: C:\\buildkite-agent\\builds\\buildkite-windows-cpu-autoscaling-group-i-0750514818a16474a-1\\xgboost\\xgboost-ci-windows\\src\\learner.cc:742: \n",
      "Parameters: { \"objectives\", \"verbose\" } are not used.\n",
      "\n",
      "  warnings.warn(smsg, UserWarning)\n"
     ]
    },
    {
     "name": "stdout",
     "output_type": "stream",
     "text": [
      "Train set RMSE: 0.41\n",
      "Test set RMSE: 0.50\n",
      "Tested on combination ['is_holiday', 'is_weekend', 'is_curfew', 'hosp', 'incid_rea', 'rad', 'Count_accidents']\n"
     ]
    },
    {
     "name": "stderr",
     "output_type": "stream",
     "text": [
      "C:\\Users\\Thomas\\anaconda3\\envs\\bikes-count\\lib\\site-packages\\xgboost\\core.py:160: UserWarning: [03:59:46] WARNING: C:\\buildkite-agent\\builds\\buildkite-windows-cpu-autoscaling-group-i-0750514818a16474a-1\\xgboost\\xgboost-ci-windows\\src\\learner.cc:742: \n",
      "Parameters: { \"objectives\", \"verbose\" } are not used.\n",
      "\n",
      "  warnings.warn(smsg, UserWarning)\n"
     ]
    },
    {
     "name": "stdout",
     "output_type": "stream",
     "text": [
      "Train set RMSE: 0.41\n",
      "Test set RMSE: 0.55\n",
      "Tested on combination ['is_holiday', 'is_weekend', 'is_curfew', 'rea', 'incid_rea', 'rad', 'Count_accidents']\n"
     ]
    },
    {
     "name": "stderr",
     "output_type": "stream",
     "text": [
      "C:\\Users\\Thomas\\anaconda3\\envs\\bikes-count\\lib\\site-packages\\xgboost\\core.py:160: UserWarning: [03:59:53] WARNING: C:\\buildkite-agent\\builds\\buildkite-windows-cpu-autoscaling-group-i-0750514818a16474a-1\\xgboost\\xgboost-ci-windows\\src\\learner.cc:742: \n",
      "Parameters: { \"objectives\", \"verbose\" } are not used.\n",
      "\n",
      "  warnings.warn(smsg, UserWarning)\n"
     ]
    },
    {
     "name": "stdout",
     "output_type": "stream",
     "text": [
      "Train set RMSE: 0.41\n",
      "Test set RMSE: 0.49\n",
      "Tested on combination ['is_holiday', 'is_weekend', 'Max_Grav_accidents', 'hosp', 'rea', 'incid_rea', 'rad']\n"
     ]
    },
    {
     "name": "stderr",
     "output_type": "stream",
     "text": [
      "C:\\Users\\Thomas\\anaconda3\\envs\\bikes-count\\lib\\site-packages\\xgboost\\core.py:160: UserWarning: [04:00:00] WARNING: C:\\buildkite-agent\\builds\\buildkite-windows-cpu-autoscaling-group-i-0750514818a16474a-1\\xgboost\\xgboost-ci-windows\\src\\learner.cc:742: \n",
      "Parameters: { \"objectives\", \"verbose\" } are not used.\n",
      "\n",
      "  warnings.warn(smsg, UserWarning)\n"
     ]
    },
    {
     "name": "stdout",
     "output_type": "stream",
     "text": [
      "Train set RMSE: 0.42\n",
      "Test set RMSE: 0.49\n",
      "Tested on combination ['is_holiday', 'is_weekend', 'Max_Grav_accidents', 'hosp', 'rea', 'incid_rea', 'Count_accidents']\n"
     ]
    },
    {
     "name": "stderr",
     "output_type": "stream",
     "text": [
      "C:\\Users\\Thomas\\anaconda3\\envs\\bikes-count\\lib\\site-packages\\xgboost\\core.py:160: UserWarning: [04:00:06] WARNING: C:\\buildkite-agent\\builds\\buildkite-windows-cpu-autoscaling-group-i-0750514818a16474a-1\\xgboost\\xgboost-ci-windows\\src\\learner.cc:742: \n",
      "Parameters: { \"objectives\", \"verbose\" } are not used.\n",
      "\n",
      "  warnings.warn(smsg, UserWarning)\n"
     ]
    },
    {
     "name": "stdout",
     "output_type": "stream",
     "text": [
      "Train set RMSE: 0.41\n",
      "Test set RMSE: 0.52\n",
      "Tested on combination ['is_holiday', 'is_weekend', 'Max_Grav_accidents', 'hosp', 'rea', 'rad', 'Count_accidents']\n"
     ]
    },
    {
     "name": "stderr",
     "output_type": "stream",
     "text": [
      "C:\\Users\\Thomas\\anaconda3\\envs\\bikes-count\\lib\\site-packages\\xgboost\\core.py:160: UserWarning: [04:00:13] WARNING: C:\\buildkite-agent\\builds\\buildkite-windows-cpu-autoscaling-group-i-0750514818a16474a-1\\xgboost\\xgboost-ci-windows\\src\\learner.cc:742: \n",
      "Parameters: { \"objectives\", \"verbose\" } are not used.\n",
      "\n",
      "  warnings.warn(smsg, UserWarning)\n"
     ]
    },
    {
     "name": "stdout",
     "output_type": "stream",
     "text": [
      "Train set RMSE: 0.41\n",
      "Test set RMSE: 0.49\n",
      "Tested on combination ['is_holiday', 'is_weekend', 'Max_Grav_accidents', 'hosp', 'incid_rea', 'rad', 'Count_accidents']\n"
     ]
    },
    {
     "name": "stderr",
     "output_type": "stream",
     "text": [
      "C:\\Users\\Thomas\\anaconda3\\envs\\bikes-count\\lib\\site-packages\\xgboost\\core.py:160: UserWarning: [04:00:19] WARNING: C:\\buildkite-agent\\builds\\buildkite-windows-cpu-autoscaling-group-i-0750514818a16474a-1\\xgboost\\xgboost-ci-windows\\src\\learner.cc:742: \n",
      "Parameters: { \"objectives\", \"verbose\" } are not used.\n",
      "\n",
      "  warnings.warn(smsg, UserWarning)\n"
     ]
    },
    {
     "name": "stdout",
     "output_type": "stream",
     "text": [
      "Train set RMSE: 0.41\n",
      "Test set RMSE: 0.56\n",
      "Tested on combination ['is_holiday', 'is_weekend', 'Max_Grav_accidents', 'rea', 'incid_rea', 'rad', 'Count_accidents']\n"
     ]
    },
    {
     "name": "stderr",
     "output_type": "stream",
     "text": [
      "C:\\Users\\Thomas\\anaconda3\\envs\\bikes-count\\lib\\site-packages\\xgboost\\core.py:160: UserWarning: [04:00:26] WARNING: C:\\buildkite-agent\\builds\\buildkite-windows-cpu-autoscaling-group-i-0750514818a16474a-1\\xgboost\\xgboost-ci-windows\\src\\learner.cc:742: \n",
      "Parameters: { \"objectives\", \"verbose\" } are not used.\n",
      "\n",
      "  warnings.warn(smsg, UserWarning)\n"
     ]
    },
    {
     "name": "stdout",
     "output_type": "stream",
     "text": [
      "Train set RMSE: 0.41\n",
      "Test set RMSE: 0.51\n",
      "Tested on combination ['is_holiday', 'is_weekend', 'hosp', 'rea', 'incid_rea', 'rad', 'Count_accidents']\n"
     ]
    },
    {
     "name": "stderr",
     "output_type": "stream",
     "text": [
      "C:\\Users\\Thomas\\anaconda3\\envs\\bikes-count\\lib\\site-packages\\xgboost\\core.py:160: UserWarning: [04:00:32] WARNING: C:\\buildkite-agent\\builds\\buildkite-windows-cpu-autoscaling-group-i-0750514818a16474a-1\\xgboost\\xgboost-ci-windows\\src\\learner.cc:742: \n",
      "Parameters: { \"objectives\", \"verbose\" } are not used.\n",
      "\n",
      "  warnings.warn(smsg, UserWarning)\n"
     ]
    },
    {
     "name": "stdout",
     "output_type": "stream",
     "text": [
      "Train set RMSE: 0.41\n",
      "Test set RMSE: 0.48\n",
      "Tested on combination ['is_holiday', 'is_lockdown', 'is_curfew', 'Max_Grav_accidents', 'hosp', 'rea', 'incid_rea']\n"
     ]
    },
    {
     "name": "stderr",
     "output_type": "stream",
     "text": [
      "C:\\Users\\Thomas\\anaconda3\\envs\\bikes-count\\lib\\site-packages\\xgboost\\core.py:160: UserWarning: [04:00:39] WARNING: C:\\buildkite-agent\\builds\\buildkite-windows-cpu-autoscaling-group-i-0750514818a16474a-1\\xgboost\\xgboost-ci-windows\\src\\learner.cc:742: \n",
      "Parameters: { \"objectives\", \"verbose\" } are not used.\n",
      "\n",
      "  warnings.warn(smsg, UserWarning)\n"
     ]
    },
    {
     "name": "stdout",
     "output_type": "stream",
     "text": [
      "Train set RMSE: 0.41\n",
      "Test set RMSE: 0.50\n",
      "Tested on combination ['is_holiday', 'is_lockdown', 'is_curfew', 'Max_Grav_accidents', 'hosp', 'rea', 'rad']\n"
     ]
    },
    {
     "name": "stderr",
     "output_type": "stream",
     "text": [
      "C:\\Users\\Thomas\\anaconda3\\envs\\bikes-count\\lib\\site-packages\\xgboost\\core.py:160: UserWarning: [04:00:45] WARNING: C:\\buildkite-agent\\builds\\buildkite-windows-cpu-autoscaling-group-i-0750514818a16474a-1\\xgboost\\xgboost-ci-windows\\src\\learner.cc:742: \n",
      "Parameters: { \"objectives\", \"verbose\" } are not used.\n",
      "\n",
      "  warnings.warn(smsg, UserWarning)\n"
     ]
    },
    {
     "name": "stdout",
     "output_type": "stream",
     "text": [
      "Train set RMSE: 0.42\n",
      "Test set RMSE: 0.48\n",
      "Tested on combination ['is_holiday', 'is_lockdown', 'is_curfew', 'Max_Grav_accidents', 'hosp', 'rea', 'Count_accidents']\n"
     ]
    },
    {
     "name": "stderr",
     "output_type": "stream",
     "text": [
      "C:\\Users\\Thomas\\anaconda3\\envs\\bikes-count\\lib\\site-packages\\xgboost\\core.py:160: UserWarning: [04:00:52] WARNING: C:\\buildkite-agent\\builds\\buildkite-windows-cpu-autoscaling-group-i-0750514818a16474a-1\\xgboost\\xgboost-ci-windows\\src\\learner.cc:742: \n",
      "Parameters: { \"objectives\", \"verbose\" } are not used.\n",
      "\n",
      "  warnings.warn(smsg, UserWarning)\n"
     ]
    },
    {
     "name": "stdout",
     "output_type": "stream",
     "text": [
      "Train set RMSE: 0.41\n",
      "Test set RMSE: 0.49\n",
      "Tested on combination ['is_holiday', 'is_lockdown', 'is_curfew', 'Max_Grav_accidents', 'hosp', 'incid_rea', 'rad']\n"
     ]
    },
    {
     "name": "stderr",
     "output_type": "stream",
     "text": [
      "C:\\Users\\Thomas\\anaconda3\\envs\\bikes-count\\lib\\site-packages\\xgboost\\core.py:160: UserWarning: [04:00:59] WARNING: C:\\buildkite-agent\\builds\\buildkite-windows-cpu-autoscaling-group-i-0750514818a16474a-1\\xgboost\\xgboost-ci-windows\\src\\learner.cc:742: \n",
      "Parameters: { \"objectives\", \"verbose\" } are not used.\n",
      "\n",
      "  warnings.warn(smsg, UserWarning)\n"
     ]
    },
    {
     "name": "stdout",
     "output_type": "stream",
     "text": [
      "Train set RMSE: 0.42\n",
      "Test set RMSE: 0.50\n",
      "Tested on combination ['is_holiday', 'is_lockdown', 'is_curfew', 'Max_Grav_accidents', 'hosp', 'incid_rea', 'Count_accidents']\n"
     ]
    },
    {
     "name": "stderr",
     "output_type": "stream",
     "text": [
      "C:\\Users\\Thomas\\anaconda3\\envs\\bikes-count\\lib\\site-packages\\xgboost\\core.py:160: UserWarning: [04:01:06] WARNING: C:\\buildkite-agent\\builds\\buildkite-windows-cpu-autoscaling-group-i-0750514818a16474a-1\\xgboost\\xgboost-ci-windows\\src\\learner.cc:742: \n",
      "Parameters: { \"objectives\", \"verbose\" } are not used.\n",
      "\n",
      "  warnings.warn(smsg, UserWarning)\n"
     ]
    },
    {
     "name": "stdout",
     "output_type": "stream",
     "text": [
      "Train set RMSE: 0.41\n",
      "Test set RMSE: 0.49\n",
      "Tested on combination ['is_holiday', 'is_lockdown', 'is_curfew', 'Max_Grav_accidents', 'hosp', 'rad', 'Count_accidents']\n"
     ]
    },
    {
     "name": "stderr",
     "output_type": "stream",
     "text": [
      "C:\\Users\\Thomas\\anaconda3\\envs\\bikes-count\\lib\\site-packages\\xgboost\\core.py:160: UserWarning: [04:01:12] WARNING: C:\\buildkite-agent\\builds\\buildkite-windows-cpu-autoscaling-group-i-0750514818a16474a-1\\xgboost\\xgboost-ci-windows\\src\\learner.cc:742: \n",
      "Parameters: { \"objectives\", \"verbose\" } are not used.\n",
      "\n",
      "  warnings.warn(smsg, UserWarning)\n"
     ]
    },
    {
     "name": "stdout",
     "output_type": "stream",
     "text": [
      "Train set RMSE: 0.42\n",
      "Test set RMSE: 0.54\n",
      "Tested on combination ['is_holiday', 'is_lockdown', 'is_curfew', 'Max_Grav_accidents', 'rea', 'incid_rea', 'rad']\n"
     ]
    },
    {
     "name": "stderr",
     "output_type": "stream",
     "text": [
      "C:\\Users\\Thomas\\anaconda3\\envs\\bikes-count\\lib\\site-packages\\xgboost\\core.py:160: UserWarning: [04:01:19] WARNING: C:\\buildkite-agent\\builds\\buildkite-windows-cpu-autoscaling-group-i-0750514818a16474a-1\\xgboost\\xgboost-ci-windows\\src\\learner.cc:742: \n",
      "Parameters: { \"objectives\", \"verbose\" } are not used.\n",
      "\n",
      "  warnings.warn(smsg, UserWarning)\n"
     ]
    },
    {
     "name": "stdout",
     "output_type": "stream",
     "text": [
      "Train set RMSE: 0.42\n",
      "Test set RMSE: 0.52\n",
      "Tested on combination ['is_holiday', 'is_lockdown', 'is_curfew', 'Max_Grav_accidents', 'rea', 'incid_rea', 'Count_accidents']\n"
     ]
    },
    {
     "name": "stderr",
     "output_type": "stream",
     "text": [
      "C:\\Users\\Thomas\\anaconda3\\envs\\bikes-count\\lib\\site-packages\\xgboost\\core.py:160: UserWarning: [04:01:26] WARNING: C:\\buildkite-agent\\builds\\buildkite-windows-cpu-autoscaling-group-i-0750514818a16474a-1\\xgboost\\xgboost-ci-windows\\src\\learner.cc:742: \n",
      "Parameters: { \"objectives\", \"verbose\" } are not used.\n",
      "\n",
      "  warnings.warn(smsg, UserWarning)\n"
     ]
    },
    {
     "name": "stdout",
     "output_type": "stream",
     "text": [
      "Train set RMSE: 0.41\n",
      "Test set RMSE: 0.55\n",
      "Tested on combination ['is_holiday', 'is_lockdown', 'is_curfew', 'Max_Grav_accidents', 'rea', 'rad', 'Count_accidents']\n"
     ]
    },
    {
     "name": "stderr",
     "output_type": "stream",
     "text": [
      "C:\\Users\\Thomas\\anaconda3\\envs\\bikes-count\\lib\\site-packages\\xgboost\\core.py:160: UserWarning: [04:01:32] WARNING: C:\\buildkite-agent\\builds\\buildkite-windows-cpu-autoscaling-group-i-0750514818a16474a-1\\xgboost\\xgboost-ci-windows\\src\\learner.cc:742: \n",
      "Parameters: { \"objectives\", \"verbose\" } are not used.\n",
      "\n",
      "  warnings.warn(smsg, UserWarning)\n"
     ]
    },
    {
     "name": "stdout",
     "output_type": "stream",
     "text": [
      "Train set RMSE: 0.41\n",
      "Test set RMSE: 0.51\n",
      "Tested on combination ['is_holiday', 'is_lockdown', 'is_curfew', 'Max_Grav_accidents', 'incid_rea', 'rad', 'Count_accidents']\n"
     ]
    },
    {
     "name": "stderr",
     "output_type": "stream",
     "text": [
      "C:\\Users\\Thomas\\anaconda3\\envs\\bikes-count\\lib\\site-packages\\xgboost\\core.py:160: UserWarning: [04:01:39] WARNING: C:\\buildkite-agent\\builds\\buildkite-windows-cpu-autoscaling-group-i-0750514818a16474a-1\\xgboost\\xgboost-ci-windows\\src\\learner.cc:742: \n",
      "Parameters: { \"objectives\", \"verbose\" } are not used.\n",
      "\n",
      "  warnings.warn(smsg, UserWarning)\n"
     ]
    },
    {
     "name": "stdout",
     "output_type": "stream",
     "text": [
      "Train set RMSE: 0.40\n",
      "Test set RMSE: 0.49\n",
      "Tested on combination ['is_holiday', 'is_lockdown', 'is_curfew', 'hosp', 'rea', 'incid_rea', 'rad']\n"
     ]
    },
    {
     "name": "stderr",
     "output_type": "stream",
     "text": [
      "C:\\Users\\Thomas\\anaconda3\\envs\\bikes-count\\lib\\site-packages\\xgboost\\core.py:160: UserWarning: [04:01:46] WARNING: C:\\buildkite-agent\\builds\\buildkite-windows-cpu-autoscaling-group-i-0750514818a16474a-1\\xgboost\\xgboost-ci-windows\\src\\learner.cc:742: \n",
      "Parameters: { \"objectives\", \"verbose\" } are not used.\n",
      "\n",
      "  warnings.warn(smsg, UserWarning)\n"
     ]
    },
    {
     "name": "stdout",
     "output_type": "stream",
     "text": [
      "Train set RMSE: 0.42\n",
      "Test set RMSE: 0.49\n",
      "Tested on combination ['is_holiday', 'is_lockdown', 'is_curfew', 'hosp', 'rea', 'incid_rea', 'Count_accidents']\n"
     ]
    },
    {
     "name": "stderr",
     "output_type": "stream",
     "text": [
      "C:\\Users\\Thomas\\anaconda3\\envs\\bikes-count\\lib\\site-packages\\xgboost\\core.py:160: UserWarning: [04:01:52] WARNING: C:\\buildkite-agent\\builds\\buildkite-windows-cpu-autoscaling-group-i-0750514818a16474a-1\\xgboost\\xgboost-ci-windows\\src\\learner.cc:742: \n",
      "Parameters: { \"objectives\", \"verbose\" } are not used.\n",
      "\n",
      "  warnings.warn(smsg, UserWarning)\n"
     ]
    },
    {
     "name": "stdout",
     "output_type": "stream",
     "text": [
      "Train set RMSE: 0.41\n",
      "Test set RMSE: 0.48\n",
      "Tested on combination ['is_holiday', 'is_lockdown', 'is_curfew', 'hosp', 'rea', 'rad', 'Count_accidents']\n"
     ]
    },
    {
     "name": "stderr",
     "output_type": "stream",
     "text": [
      "C:\\Users\\Thomas\\anaconda3\\envs\\bikes-count\\lib\\site-packages\\xgboost\\core.py:160: UserWarning: [04:01:59] WARNING: C:\\buildkite-agent\\builds\\buildkite-windows-cpu-autoscaling-group-i-0750514818a16474a-1\\xgboost\\xgboost-ci-windows\\src\\learner.cc:742: \n",
      "Parameters: { \"objectives\", \"verbose\" } are not used.\n",
      "\n",
      "  warnings.warn(smsg, UserWarning)\n"
     ]
    },
    {
     "name": "stdout",
     "output_type": "stream",
     "text": [
      "Train set RMSE: 0.41\n",
      "Test set RMSE: 0.51\n",
      "Tested on combination ['is_holiday', 'is_lockdown', 'is_curfew', 'hosp', 'incid_rea', 'rad', 'Count_accidents']\n"
     ]
    },
    {
     "name": "stderr",
     "output_type": "stream",
     "text": [
      "C:\\Users\\Thomas\\anaconda3\\envs\\bikes-count\\lib\\site-packages\\xgboost\\core.py:160: UserWarning: [04:02:06] WARNING: C:\\buildkite-agent\\builds\\buildkite-windows-cpu-autoscaling-group-i-0750514818a16474a-1\\xgboost\\xgboost-ci-windows\\src\\learner.cc:742: \n",
      "Parameters: { \"objectives\", \"verbose\" } are not used.\n",
      "\n",
      "  warnings.warn(smsg, UserWarning)\n"
     ]
    },
    {
     "name": "stdout",
     "output_type": "stream",
     "text": [
      "Train set RMSE: 0.41\n",
      "Test set RMSE: 0.51\n",
      "Tested on combination ['is_holiday', 'is_lockdown', 'is_curfew', 'rea', 'incid_rea', 'rad', 'Count_accidents']\n"
     ]
    },
    {
     "name": "stderr",
     "output_type": "stream",
     "text": [
      "C:\\Users\\Thomas\\anaconda3\\envs\\bikes-count\\lib\\site-packages\\xgboost\\core.py:160: UserWarning: [04:02:12] WARNING: C:\\buildkite-agent\\builds\\buildkite-windows-cpu-autoscaling-group-i-0750514818a16474a-1\\xgboost\\xgboost-ci-windows\\src\\learner.cc:742: \n",
      "Parameters: { \"objectives\", \"verbose\" } are not used.\n",
      "\n",
      "  warnings.warn(smsg, UserWarning)\n"
     ]
    },
    {
     "name": "stdout",
     "output_type": "stream",
     "text": [
      "Train set RMSE: 0.41\n",
      "Test set RMSE: 0.50\n",
      "Tested on combination ['is_holiday', 'is_lockdown', 'Max_Grav_accidents', 'hosp', 'rea', 'incid_rea', 'rad']\n"
     ]
    },
    {
     "name": "stderr",
     "output_type": "stream",
     "text": [
      "C:\\Users\\Thomas\\anaconda3\\envs\\bikes-count\\lib\\site-packages\\xgboost\\core.py:160: UserWarning: [04:02:19] WARNING: C:\\buildkite-agent\\builds\\buildkite-windows-cpu-autoscaling-group-i-0750514818a16474a-1\\xgboost\\xgboost-ci-windows\\src\\learner.cc:742: \n",
      "Parameters: { \"objectives\", \"verbose\" } are not used.\n",
      "\n",
      "  warnings.warn(smsg, UserWarning)\n"
     ]
    },
    {
     "name": "stdout",
     "output_type": "stream",
     "text": [
      "Train set RMSE: 0.42\n",
      "Test set RMSE: 0.49\n",
      "Tested on combination ['is_holiday', 'is_lockdown', 'Max_Grav_accidents', 'hosp', 'rea', 'incid_rea', 'Count_accidents']\n"
     ]
    },
    {
     "name": "stderr",
     "output_type": "stream",
     "text": [
      "C:\\Users\\Thomas\\anaconda3\\envs\\bikes-count\\lib\\site-packages\\xgboost\\core.py:160: UserWarning: [04:02:26] WARNING: C:\\buildkite-agent\\builds\\buildkite-windows-cpu-autoscaling-group-i-0750514818a16474a-1\\xgboost\\xgboost-ci-windows\\src\\learner.cc:742: \n",
      "Parameters: { \"objectives\", \"verbose\" } are not used.\n",
      "\n",
      "  warnings.warn(smsg, UserWarning)\n"
     ]
    },
    {
     "name": "stdout",
     "output_type": "stream",
     "text": [
      "Train set RMSE: 0.41\n",
      "Test set RMSE: 0.49\n",
      "Tested on combination ['is_holiday', 'is_lockdown', 'Max_Grav_accidents', 'hosp', 'rea', 'rad', 'Count_accidents']\n"
     ]
    },
    {
     "name": "stderr",
     "output_type": "stream",
     "text": [
      "C:\\Users\\Thomas\\anaconda3\\envs\\bikes-count\\lib\\site-packages\\xgboost\\core.py:160: UserWarning: [04:02:32] WARNING: C:\\buildkite-agent\\builds\\buildkite-windows-cpu-autoscaling-group-i-0750514818a16474a-1\\xgboost\\xgboost-ci-windows\\src\\learner.cc:742: \n",
      "Parameters: { \"objectives\", \"verbose\" } are not used.\n",
      "\n",
      "  warnings.warn(smsg, UserWarning)\n"
     ]
    },
    {
     "name": "stdout",
     "output_type": "stream",
     "text": [
      "Train set RMSE: 0.41\n",
      "Test set RMSE: 0.48\n",
      "Tested on combination ['is_holiday', 'is_lockdown', 'Max_Grav_accidents', 'hosp', 'incid_rea', 'rad', 'Count_accidents']\n"
     ]
    },
    {
     "name": "stderr",
     "output_type": "stream",
     "text": [
      "C:\\Users\\Thomas\\anaconda3\\envs\\bikes-count\\lib\\site-packages\\xgboost\\core.py:160: UserWarning: [04:02:39] WARNING: C:\\buildkite-agent\\builds\\buildkite-windows-cpu-autoscaling-group-i-0750514818a16474a-1\\xgboost\\xgboost-ci-windows\\src\\learner.cc:742: \n",
      "Parameters: { \"objectives\", \"verbose\" } are not used.\n",
      "\n",
      "  warnings.warn(smsg, UserWarning)\n"
     ]
    },
    {
     "name": "stdout",
     "output_type": "stream",
     "text": [
      "Train set RMSE: 0.42\n",
      "Test set RMSE: 0.53\n",
      "Tested on combination ['is_holiday', 'is_lockdown', 'Max_Grav_accidents', 'rea', 'incid_rea', 'rad', 'Count_accidents']\n"
     ]
    },
    {
     "name": "stderr",
     "output_type": "stream",
     "text": [
      "C:\\Users\\Thomas\\anaconda3\\envs\\bikes-count\\lib\\site-packages\\xgboost\\core.py:160: UserWarning: [04:02:46] WARNING: C:\\buildkite-agent\\builds\\buildkite-windows-cpu-autoscaling-group-i-0750514818a16474a-1\\xgboost\\xgboost-ci-windows\\src\\learner.cc:742: \n",
      "Parameters: { \"objectives\", \"verbose\" } are not used.\n",
      "\n",
      "  warnings.warn(smsg, UserWarning)\n"
     ]
    },
    {
     "name": "stdout",
     "output_type": "stream",
     "text": [
      "Train set RMSE: 0.41\n",
      "Test set RMSE: 0.49\n",
      "Tested on combination ['is_holiday', 'is_lockdown', 'hosp', 'rea', 'incid_rea', 'rad', 'Count_accidents']\n"
     ]
    },
    {
     "name": "stderr",
     "output_type": "stream",
     "text": [
      "C:\\Users\\Thomas\\anaconda3\\envs\\bikes-count\\lib\\site-packages\\xgboost\\core.py:160: UserWarning: [04:02:52] WARNING: C:\\buildkite-agent\\builds\\buildkite-windows-cpu-autoscaling-group-i-0750514818a16474a-1\\xgboost\\xgboost-ci-windows\\src\\learner.cc:742: \n",
      "Parameters: { \"objectives\", \"verbose\" } are not used.\n",
      "\n",
      "  warnings.warn(smsg, UserWarning)\n"
     ]
    },
    {
     "name": "stdout",
     "output_type": "stream",
     "text": [
      "Train set RMSE: 0.41\n",
      "Test set RMSE: 0.50\n",
      "Tested on combination ['is_holiday', 'is_curfew', 'Max_Grav_accidents', 'hosp', 'rea', 'incid_rea', 'rad']\n"
     ]
    },
    {
     "name": "stderr",
     "output_type": "stream",
     "text": [
      "C:\\Users\\Thomas\\anaconda3\\envs\\bikes-count\\lib\\site-packages\\xgboost\\core.py:160: UserWarning: [04:02:59] WARNING: C:\\buildkite-agent\\builds\\buildkite-windows-cpu-autoscaling-group-i-0750514818a16474a-1\\xgboost\\xgboost-ci-windows\\src\\learner.cc:742: \n",
      "Parameters: { \"objectives\", \"verbose\" } are not used.\n",
      "\n",
      "  warnings.warn(smsg, UserWarning)\n"
     ]
    },
    {
     "name": "stdout",
     "output_type": "stream",
     "text": [
      "Train set RMSE: 0.41\n",
      "Test set RMSE: 0.48\n",
      "Tested on combination ['is_holiday', 'is_curfew', 'Max_Grav_accidents', 'hosp', 'rea', 'incid_rea', 'Count_accidents']\n"
     ]
    },
    {
     "name": "stderr",
     "output_type": "stream",
     "text": [
      "C:\\Users\\Thomas\\anaconda3\\envs\\bikes-count\\lib\\site-packages\\xgboost\\core.py:160: UserWarning: [04:03:06] WARNING: C:\\buildkite-agent\\builds\\buildkite-windows-cpu-autoscaling-group-i-0750514818a16474a-1\\xgboost\\xgboost-ci-windows\\src\\learner.cc:742: \n",
      "Parameters: { \"objectives\", \"verbose\" } are not used.\n",
      "\n",
      "  warnings.warn(smsg, UserWarning)\n"
     ]
    },
    {
     "name": "stdout",
     "output_type": "stream",
     "text": [
      "Train set RMSE: 0.41\n",
      "Test set RMSE: 0.54\n",
      "Tested on combination ['is_holiday', 'is_curfew', 'Max_Grav_accidents', 'hosp', 'rea', 'rad', 'Count_accidents']\n"
     ]
    },
    {
     "name": "stderr",
     "output_type": "stream",
     "text": [
      "C:\\Users\\Thomas\\anaconda3\\envs\\bikes-count\\lib\\site-packages\\xgboost\\core.py:160: UserWarning: [04:03:12] WARNING: C:\\buildkite-agent\\builds\\buildkite-windows-cpu-autoscaling-group-i-0750514818a16474a-1\\xgboost\\xgboost-ci-windows\\src\\learner.cc:742: \n",
      "Parameters: { \"objectives\", \"verbose\" } are not used.\n",
      "\n",
      "  warnings.warn(smsg, UserWarning)\n"
     ]
    },
    {
     "name": "stdout",
     "output_type": "stream",
     "text": [
      "Train set RMSE: 0.41\n",
      "Test set RMSE: 0.50\n",
      "Tested on combination ['is_holiday', 'is_curfew', 'Max_Grav_accidents', 'hosp', 'incid_rea', 'rad', 'Count_accidents']\n"
     ]
    },
    {
     "name": "stderr",
     "output_type": "stream",
     "text": [
      "C:\\Users\\Thomas\\anaconda3\\envs\\bikes-count\\lib\\site-packages\\xgboost\\core.py:160: UserWarning: [04:03:19] WARNING: C:\\buildkite-agent\\builds\\buildkite-windows-cpu-autoscaling-group-i-0750514818a16474a-1\\xgboost\\xgboost-ci-windows\\src\\learner.cc:742: \n",
      "Parameters: { \"objectives\", \"verbose\" } are not used.\n",
      "\n",
      "  warnings.warn(smsg, UserWarning)\n"
     ]
    },
    {
     "name": "stdout",
     "output_type": "stream",
     "text": [
      "Train set RMSE: 0.41\n",
      "Test set RMSE: 0.54\n",
      "Tested on combination ['is_holiday', 'is_curfew', 'Max_Grav_accidents', 'rea', 'incid_rea', 'rad', 'Count_accidents']\n"
     ]
    },
    {
     "name": "stderr",
     "output_type": "stream",
     "text": [
      "C:\\Users\\Thomas\\anaconda3\\envs\\bikes-count\\lib\\site-packages\\xgboost\\core.py:160: UserWarning: [04:03:25] WARNING: C:\\buildkite-agent\\builds\\buildkite-windows-cpu-autoscaling-group-i-0750514818a16474a-1\\xgboost\\xgboost-ci-windows\\src\\learner.cc:742: \n",
      "Parameters: { \"objectives\", \"verbose\" } are not used.\n",
      "\n",
      "  warnings.warn(smsg, UserWarning)\n"
     ]
    },
    {
     "name": "stdout",
     "output_type": "stream",
     "text": [
      "Train set RMSE: 0.41\n",
      "Test set RMSE: 0.50\n",
      "Tested on combination ['is_holiday', 'is_curfew', 'hosp', 'rea', 'incid_rea', 'rad', 'Count_accidents']\n"
     ]
    },
    {
     "name": "stderr",
     "output_type": "stream",
     "text": [
      "C:\\Users\\Thomas\\anaconda3\\envs\\bikes-count\\lib\\site-packages\\xgboost\\core.py:160: UserWarning: [04:03:32] WARNING: C:\\buildkite-agent\\builds\\buildkite-windows-cpu-autoscaling-group-i-0750514818a16474a-1\\xgboost\\xgboost-ci-windows\\src\\learner.cc:742: \n",
      "Parameters: { \"objectives\", \"verbose\" } are not used.\n",
      "\n",
      "  warnings.warn(smsg, UserWarning)\n"
     ]
    },
    {
     "name": "stdout",
     "output_type": "stream",
     "text": [
      "Train set RMSE: 0.41\n",
      "Test set RMSE: 0.51\n",
      "Tested on combination ['is_holiday', 'Max_Grav_accidents', 'hosp', 'rea', 'incid_rea', 'rad', 'Count_accidents']\n"
     ]
    },
    {
     "name": "stderr",
     "output_type": "stream",
     "text": [
      "C:\\Users\\Thomas\\anaconda3\\envs\\bikes-count\\lib\\site-packages\\xgboost\\core.py:160: UserWarning: [04:03:39] WARNING: C:\\buildkite-agent\\builds\\buildkite-windows-cpu-autoscaling-group-i-0750514818a16474a-1\\xgboost\\xgboost-ci-windows\\src\\learner.cc:742: \n",
      "Parameters: { \"objectives\", \"verbose\" } are not used.\n",
      "\n",
      "  warnings.warn(smsg, UserWarning)\n"
     ]
    },
    {
     "name": "stdout",
     "output_type": "stream",
     "text": [
      "Train set RMSE: 0.42\n",
      "Test set RMSE: 0.48\n",
      "Tested on combination ['is_weekend', 'is_lockdown', 'is_curfew', 'Max_Grav_accidents', 'hosp', 'rea', 'incid_rea']\n"
     ]
    },
    {
     "name": "stderr",
     "output_type": "stream",
     "text": [
      "C:\\Users\\Thomas\\anaconda3\\envs\\bikes-count\\lib\\site-packages\\xgboost\\core.py:160: UserWarning: [04:03:45] WARNING: C:\\buildkite-agent\\builds\\buildkite-windows-cpu-autoscaling-group-i-0750514818a16474a-1\\xgboost\\xgboost-ci-windows\\src\\learner.cc:742: \n",
      "Parameters: { \"objectives\", \"verbose\" } are not used.\n",
      "\n",
      "  warnings.warn(smsg, UserWarning)\n"
     ]
    },
    {
     "name": "stdout",
     "output_type": "stream",
     "text": [
      "Train set RMSE: 0.41\n",
      "Test set RMSE: 0.54\n",
      "Tested on combination ['is_weekend', 'is_lockdown', 'is_curfew', 'Max_Grav_accidents', 'hosp', 'rea', 'rad']\n"
     ]
    },
    {
     "name": "stderr",
     "output_type": "stream",
     "text": [
      "C:\\Users\\Thomas\\anaconda3\\envs\\bikes-count\\lib\\site-packages\\xgboost\\core.py:160: UserWarning: [04:03:52] WARNING: C:\\buildkite-agent\\builds\\buildkite-windows-cpu-autoscaling-group-i-0750514818a16474a-1\\xgboost\\xgboost-ci-windows\\src\\learner.cc:742: \n",
      "Parameters: { \"objectives\", \"verbose\" } are not used.\n",
      "\n",
      "  warnings.warn(smsg, UserWarning)\n"
     ]
    },
    {
     "name": "stdout",
     "output_type": "stream",
     "text": [
      "Train set RMSE: 0.42\n",
      "Test set RMSE: 0.48\n",
      "Tested on combination ['is_weekend', 'is_lockdown', 'is_curfew', 'Max_Grav_accidents', 'hosp', 'rea', 'Count_accidents']\n"
     ]
    },
    {
     "name": "stderr",
     "output_type": "stream",
     "text": [
      "C:\\Users\\Thomas\\anaconda3\\envs\\bikes-count\\lib\\site-packages\\xgboost\\core.py:160: UserWarning: [04:03:58] WARNING: C:\\buildkite-agent\\builds\\buildkite-windows-cpu-autoscaling-group-i-0750514818a16474a-1\\xgboost\\xgboost-ci-windows\\src\\learner.cc:742: \n",
      "Parameters: { \"objectives\", \"verbose\" } are not used.\n",
      "\n",
      "  warnings.warn(smsg, UserWarning)\n"
     ]
    },
    {
     "name": "stdout",
     "output_type": "stream",
     "text": [
      "Train set RMSE: 0.41\n",
      "Test set RMSE: 0.49\n",
      "Tested on combination ['is_weekend', 'is_lockdown', 'is_curfew', 'Max_Grav_accidents', 'hosp', 'incid_rea', 'rad']\n"
     ]
    },
    {
     "name": "stderr",
     "output_type": "stream",
     "text": [
      "C:\\Users\\Thomas\\anaconda3\\envs\\bikes-count\\lib\\site-packages\\xgboost\\core.py:160: UserWarning: [04:04:05] WARNING: C:\\buildkite-agent\\builds\\buildkite-windows-cpu-autoscaling-group-i-0750514818a16474a-1\\xgboost\\xgboost-ci-windows\\src\\learner.cc:742: \n",
      "Parameters: { \"objectives\", \"verbose\" } are not used.\n",
      "\n",
      "  warnings.warn(smsg, UserWarning)\n"
     ]
    },
    {
     "name": "stdout",
     "output_type": "stream",
     "text": [
      "Train set RMSE: 0.42\n",
      "Test set RMSE: 0.49\n",
      "Tested on combination ['is_weekend', 'is_lockdown', 'is_curfew', 'Max_Grav_accidents', 'hosp', 'incid_rea', 'Count_accidents']\n"
     ]
    },
    {
     "name": "stderr",
     "output_type": "stream",
     "text": [
      "C:\\Users\\Thomas\\anaconda3\\envs\\bikes-count\\lib\\site-packages\\xgboost\\core.py:160: UserWarning: [04:04:11] WARNING: C:\\buildkite-agent\\builds\\buildkite-windows-cpu-autoscaling-group-i-0750514818a16474a-1\\xgboost\\xgboost-ci-windows\\src\\learner.cc:742: \n",
      "Parameters: { \"objectives\", \"verbose\" } are not used.\n",
      "\n",
      "  warnings.warn(smsg, UserWarning)\n"
     ]
    },
    {
     "name": "stdout",
     "output_type": "stream",
     "text": [
      "Train set RMSE: 0.41\n",
      "Test set RMSE: 0.48\n",
      "Tested on combination ['is_weekend', 'is_lockdown', 'is_curfew', 'Max_Grav_accidents', 'hosp', 'rad', 'Count_accidents']\n"
     ]
    },
    {
     "name": "stderr",
     "output_type": "stream",
     "text": [
      "C:\\Users\\Thomas\\anaconda3\\envs\\bikes-count\\lib\\site-packages\\xgboost\\core.py:160: UserWarning: [04:04:18] WARNING: C:\\buildkite-agent\\builds\\buildkite-windows-cpu-autoscaling-group-i-0750514818a16474a-1\\xgboost\\xgboost-ci-windows\\src\\learner.cc:742: \n",
      "Parameters: { \"objectives\", \"verbose\" } are not used.\n",
      "\n",
      "  warnings.warn(smsg, UserWarning)\n"
     ]
    },
    {
     "name": "stdout",
     "output_type": "stream",
     "text": [
      "Train set RMSE: 0.41\n",
      "Test set RMSE: 0.56\n",
      "Tested on combination ['is_weekend', 'is_lockdown', 'is_curfew', 'Max_Grav_accidents', 'rea', 'incid_rea', 'rad']\n"
     ]
    },
    {
     "name": "stderr",
     "output_type": "stream",
     "text": [
      "C:\\Users\\Thomas\\anaconda3\\envs\\bikes-count\\lib\\site-packages\\xgboost\\core.py:160: UserWarning: [04:04:24] WARNING: C:\\buildkite-agent\\builds\\buildkite-windows-cpu-autoscaling-group-i-0750514818a16474a-1\\xgboost\\xgboost-ci-windows\\src\\learner.cc:742: \n",
      "Parameters: { \"objectives\", \"verbose\" } are not used.\n",
      "\n",
      "  warnings.warn(smsg, UserWarning)\n"
     ]
    },
    {
     "name": "stdout",
     "output_type": "stream",
     "text": [
      "Train set RMSE: 0.42\n",
      "Test set RMSE: 0.51\n",
      "Tested on combination ['is_weekend', 'is_lockdown', 'is_curfew', 'Max_Grav_accidents', 'rea', 'incid_rea', 'Count_accidents']\n"
     ]
    },
    {
     "name": "stderr",
     "output_type": "stream",
     "text": [
      "C:\\Users\\Thomas\\anaconda3\\envs\\bikes-count\\lib\\site-packages\\xgboost\\core.py:160: UserWarning: [04:04:31] WARNING: C:\\buildkite-agent\\builds\\buildkite-windows-cpu-autoscaling-group-i-0750514818a16474a-1\\xgboost\\xgboost-ci-windows\\src\\learner.cc:742: \n",
      "Parameters: { \"objectives\", \"verbose\" } are not used.\n",
      "\n",
      "  warnings.warn(smsg, UserWarning)\n"
     ]
    },
    {
     "name": "stdout",
     "output_type": "stream",
     "text": [
      "Train set RMSE: 0.41\n",
      "Test set RMSE: 0.54\n",
      "Tested on combination ['is_weekend', 'is_lockdown', 'is_curfew', 'Max_Grav_accidents', 'rea', 'rad', 'Count_accidents']\n"
     ]
    },
    {
     "name": "stderr",
     "output_type": "stream",
     "text": [
      "C:\\Users\\Thomas\\anaconda3\\envs\\bikes-count\\lib\\site-packages\\xgboost\\core.py:160: UserWarning: [04:04:38] WARNING: C:\\buildkite-agent\\builds\\buildkite-windows-cpu-autoscaling-group-i-0750514818a16474a-1\\xgboost\\xgboost-ci-windows\\src\\learner.cc:742: \n",
      "Parameters: { \"objectives\", \"verbose\" } are not used.\n",
      "\n",
      "  warnings.warn(smsg, UserWarning)\n"
     ]
    },
    {
     "name": "stdout",
     "output_type": "stream",
     "text": [
      "Train set RMSE: 0.42\n",
      "Test set RMSE: 0.51\n",
      "Tested on combination ['is_weekend', 'is_lockdown', 'is_curfew', 'Max_Grav_accidents', 'incid_rea', 'rad', 'Count_accidents']\n"
     ]
    },
    {
     "name": "stderr",
     "output_type": "stream",
     "text": [
      "C:\\Users\\Thomas\\anaconda3\\envs\\bikes-count\\lib\\site-packages\\xgboost\\core.py:160: UserWarning: [04:04:44] WARNING: C:\\buildkite-agent\\builds\\buildkite-windows-cpu-autoscaling-group-i-0750514818a16474a-1\\xgboost\\xgboost-ci-windows\\src\\learner.cc:742: \n",
      "Parameters: { \"objectives\", \"verbose\" } are not used.\n",
      "\n",
      "  warnings.warn(smsg, UserWarning)\n"
     ]
    },
    {
     "name": "stdout",
     "output_type": "stream",
     "text": [
      "Train set RMSE: 0.41\n",
      "Test set RMSE: 0.51\n",
      "Tested on combination ['is_weekend', 'is_lockdown', 'is_curfew', 'hosp', 'rea', 'incid_rea', 'rad']\n"
     ]
    },
    {
     "name": "stderr",
     "output_type": "stream",
     "text": [
      "C:\\Users\\Thomas\\anaconda3\\envs\\bikes-count\\lib\\site-packages\\xgboost\\core.py:160: UserWarning: [04:04:51] WARNING: C:\\buildkite-agent\\builds\\buildkite-windows-cpu-autoscaling-group-i-0750514818a16474a-1\\xgboost\\xgboost-ci-windows\\src\\learner.cc:742: \n",
      "Parameters: { \"objectives\", \"verbose\" } are not used.\n",
      "\n",
      "  warnings.warn(smsg, UserWarning)\n"
     ]
    },
    {
     "name": "stdout",
     "output_type": "stream",
     "text": [
      "Train set RMSE: 0.42\n",
      "Test set RMSE: 0.49\n",
      "Tested on combination ['is_weekend', 'is_lockdown', 'is_curfew', 'hosp', 'rea', 'incid_rea', 'Count_accidents']\n"
     ]
    },
    {
     "name": "stderr",
     "output_type": "stream",
     "text": [
      "C:\\Users\\Thomas\\anaconda3\\envs\\bikes-count\\lib\\site-packages\\xgboost\\core.py:160: UserWarning: [04:04:57] WARNING: C:\\buildkite-agent\\builds\\buildkite-windows-cpu-autoscaling-group-i-0750514818a16474a-1\\xgboost\\xgboost-ci-windows\\src\\learner.cc:742: \n",
      "Parameters: { \"objectives\", \"verbose\" } are not used.\n",
      "\n",
      "  warnings.warn(smsg, UserWarning)\n"
     ]
    },
    {
     "name": "stdout",
     "output_type": "stream",
     "text": [
      "Train set RMSE: 0.41\n",
      "Test set RMSE: 0.51\n",
      "Tested on combination ['is_weekend', 'is_lockdown', 'is_curfew', 'hosp', 'rea', 'rad', 'Count_accidents']\n"
     ]
    },
    {
     "name": "stderr",
     "output_type": "stream",
     "text": [
      "C:\\Users\\Thomas\\anaconda3\\envs\\bikes-count\\lib\\site-packages\\xgboost\\core.py:160: UserWarning: [04:05:04] WARNING: C:\\buildkite-agent\\builds\\buildkite-windows-cpu-autoscaling-group-i-0750514818a16474a-1\\xgboost\\xgboost-ci-windows\\src\\learner.cc:742: \n",
      "Parameters: { \"objectives\", \"verbose\" } are not used.\n",
      "\n",
      "  warnings.warn(smsg, UserWarning)\n"
     ]
    },
    {
     "name": "stdout",
     "output_type": "stream",
     "text": [
      "Train set RMSE: 0.41\n",
      "Test set RMSE: 0.47\n",
      "Tested on combination ['is_weekend', 'is_lockdown', 'is_curfew', 'hosp', 'incid_rea', 'rad', 'Count_accidents']\n"
     ]
    },
    {
     "name": "stderr",
     "output_type": "stream",
     "text": [
      "C:\\Users\\Thomas\\anaconda3\\envs\\bikes-count\\lib\\site-packages\\xgboost\\core.py:160: UserWarning: [04:05:10] WARNING: C:\\buildkite-agent\\builds\\buildkite-windows-cpu-autoscaling-group-i-0750514818a16474a-1\\xgboost\\xgboost-ci-windows\\src\\learner.cc:742: \n",
      "Parameters: { \"objectives\", \"verbose\" } are not used.\n",
      "\n",
      "  warnings.warn(smsg, UserWarning)\n"
     ]
    },
    {
     "name": "stdout",
     "output_type": "stream",
     "text": [
      "Train set RMSE: 0.41\n",
      "Test set RMSE: 0.55\n",
      "Tested on combination ['is_weekend', 'is_lockdown', 'is_curfew', 'rea', 'incid_rea', 'rad', 'Count_accidents']\n"
     ]
    },
    {
     "name": "stderr",
     "output_type": "stream",
     "text": [
      "C:\\Users\\Thomas\\anaconda3\\envs\\bikes-count\\lib\\site-packages\\xgboost\\core.py:160: UserWarning: [04:05:17] WARNING: C:\\buildkite-agent\\builds\\buildkite-windows-cpu-autoscaling-group-i-0750514818a16474a-1\\xgboost\\xgboost-ci-windows\\src\\learner.cc:742: \n",
      "Parameters: { \"objectives\", \"verbose\" } are not used.\n",
      "\n",
      "  warnings.warn(smsg, UserWarning)\n"
     ]
    },
    {
     "name": "stdout",
     "output_type": "stream",
     "text": [
      "Train set RMSE: 0.41\n",
      "Test set RMSE: 0.51\n",
      "Tested on combination ['is_weekend', 'is_lockdown', 'Max_Grav_accidents', 'hosp', 'rea', 'incid_rea', 'rad']\n"
     ]
    },
    {
     "name": "stderr",
     "output_type": "stream",
     "text": [
      "C:\\Users\\Thomas\\anaconda3\\envs\\bikes-count\\lib\\site-packages\\xgboost\\core.py:160: UserWarning: [04:05:24] WARNING: C:\\buildkite-agent\\builds\\buildkite-windows-cpu-autoscaling-group-i-0750514818a16474a-1\\xgboost\\xgboost-ci-windows\\src\\learner.cc:742: \n",
      "Parameters: { \"objectives\", \"verbose\" } are not used.\n",
      "\n",
      "  warnings.warn(smsg, UserWarning)\n"
     ]
    },
    {
     "name": "stdout",
     "output_type": "stream",
     "text": [
      "Train set RMSE: 0.42\n",
      "Test set RMSE: 0.50\n",
      "Tested on combination ['is_weekend', 'is_lockdown', 'Max_Grav_accidents', 'hosp', 'rea', 'incid_rea', 'Count_accidents']\n"
     ]
    },
    {
     "name": "stderr",
     "output_type": "stream",
     "text": [
      "C:\\Users\\Thomas\\anaconda3\\envs\\bikes-count\\lib\\site-packages\\xgboost\\core.py:160: UserWarning: [04:05:30] WARNING: C:\\buildkite-agent\\builds\\buildkite-windows-cpu-autoscaling-group-i-0750514818a16474a-1\\xgboost\\xgboost-ci-windows\\src\\learner.cc:742: \n",
      "Parameters: { \"objectives\", \"verbose\" } are not used.\n",
      "\n",
      "  warnings.warn(smsg, UserWarning)\n"
     ]
    },
    {
     "name": "stdout",
     "output_type": "stream",
     "text": [
      "Train set RMSE: 0.41\n",
      "Test set RMSE: 0.50\n",
      "Tested on combination ['is_weekend', 'is_lockdown', 'Max_Grav_accidents', 'hosp', 'rea', 'rad', 'Count_accidents']\n"
     ]
    },
    {
     "name": "stderr",
     "output_type": "stream",
     "text": [
      "C:\\Users\\Thomas\\anaconda3\\envs\\bikes-count\\lib\\site-packages\\xgboost\\core.py:160: UserWarning: [04:05:37] WARNING: C:\\buildkite-agent\\builds\\buildkite-windows-cpu-autoscaling-group-i-0750514818a16474a-1\\xgboost\\xgboost-ci-windows\\src\\learner.cc:742: \n",
      "Parameters: { \"objectives\", \"verbose\" } are not used.\n",
      "\n",
      "  warnings.warn(smsg, UserWarning)\n"
     ]
    },
    {
     "name": "stdout",
     "output_type": "stream",
     "text": [
      "Train set RMSE: 0.41\n",
      "Test set RMSE: 0.48\n",
      "Tested on combination ['is_weekend', 'is_lockdown', 'Max_Grav_accidents', 'hosp', 'incid_rea', 'rad', 'Count_accidents']\n"
     ]
    },
    {
     "name": "stderr",
     "output_type": "stream",
     "text": [
      "C:\\Users\\Thomas\\anaconda3\\envs\\bikes-count\\lib\\site-packages\\xgboost\\core.py:160: UserWarning: [04:05:43] WARNING: C:\\buildkite-agent\\builds\\buildkite-windows-cpu-autoscaling-group-i-0750514818a16474a-1\\xgboost\\xgboost-ci-windows\\src\\learner.cc:742: \n",
      "Parameters: { \"objectives\", \"verbose\" } are not used.\n",
      "\n",
      "  warnings.warn(smsg, UserWarning)\n"
     ]
    },
    {
     "name": "stdout",
     "output_type": "stream",
     "text": [
      "Train set RMSE: 0.41\n",
      "Test set RMSE: 0.56\n",
      "Tested on combination ['is_weekend', 'is_lockdown', 'Max_Grav_accidents', 'rea', 'incid_rea', 'rad', 'Count_accidents']\n"
     ]
    },
    {
     "name": "stderr",
     "output_type": "stream",
     "text": [
      "C:\\Users\\Thomas\\anaconda3\\envs\\bikes-count\\lib\\site-packages\\xgboost\\core.py:160: UserWarning: [04:05:50] WARNING: C:\\buildkite-agent\\builds\\buildkite-windows-cpu-autoscaling-group-i-0750514818a16474a-1\\xgboost\\xgboost-ci-windows\\src\\learner.cc:742: \n",
      "Parameters: { \"objectives\", \"verbose\" } are not used.\n",
      "\n",
      "  warnings.warn(smsg, UserWarning)\n"
     ]
    },
    {
     "name": "stdout",
     "output_type": "stream",
     "text": [
      "Train set RMSE: 0.41\n",
      "Test set RMSE: 0.52\n",
      "Tested on combination ['is_weekend', 'is_lockdown', 'hosp', 'rea', 'incid_rea', 'rad', 'Count_accidents']\n"
     ]
    },
    {
     "name": "stderr",
     "output_type": "stream",
     "text": [
      "C:\\Users\\Thomas\\anaconda3\\envs\\bikes-count\\lib\\site-packages\\xgboost\\core.py:160: UserWarning: [04:05:57] WARNING: C:\\buildkite-agent\\builds\\buildkite-windows-cpu-autoscaling-group-i-0750514818a16474a-1\\xgboost\\xgboost-ci-windows\\src\\learner.cc:742: \n",
      "Parameters: { \"objectives\", \"verbose\" } are not used.\n",
      "\n",
      "  warnings.warn(smsg, UserWarning)\n"
     ]
    },
    {
     "name": "stdout",
     "output_type": "stream",
     "text": [
      "Train set RMSE: 0.42\n",
      "Test set RMSE: 0.51\n",
      "Tested on combination ['is_weekend', 'is_curfew', 'Max_Grav_accidents', 'hosp', 'rea', 'incid_rea', 'rad']\n"
     ]
    },
    {
     "name": "stderr",
     "output_type": "stream",
     "text": [
      "C:\\Users\\Thomas\\anaconda3\\envs\\bikes-count\\lib\\site-packages\\xgboost\\core.py:160: UserWarning: [04:06:04] WARNING: C:\\buildkite-agent\\builds\\buildkite-windows-cpu-autoscaling-group-i-0750514818a16474a-1\\xgboost\\xgboost-ci-windows\\src\\learner.cc:742: \n",
      "Parameters: { \"objectives\", \"verbose\" } are not used.\n",
      "\n",
      "  warnings.warn(smsg, UserWarning)\n"
     ]
    },
    {
     "name": "stdout",
     "output_type": "stream",
     "text": [
      "Train set RMSE: 0.42\n",
      "Test set RMSE: 0.48\n",
      "Tested on combination ['is_weekend', 'is_curfew', 'Max_Grav_accidents', 'hosp', 'rea', 'incid_rea', 'Count_accidents']\n"
     ]
    },
    {
     "name": "stderr",
     "output_type": "stream",
     "text": [
      "C:\\Users\\Thomas\\anaconda3\\envs\\bikes-count\\lib\\site-packages\\xgboost\\core.py:160: UserWarning: [04:06:10] WARNING: C:\\buildkite-agent\\builds\\buildkite-windows-cpu-autoscaling-group-i-0750514818a16474a-1\\xgboost\\xgboost-ci-windows\\src\\learner.cc:742: \n",
      "Parameters: { \"objectives\", \"verbose\" } are not used.\n",
      "\n",
      "  warnings.warn(smsg, UserWarning)\n"
     ]
    },
    {
     "name": "stdout",
     "output_type": "stream",
     "text": [
      "Train set RMSE: 0.41\n",
      "Test set RMSE: 0.52\n",
      "Tested on combination ['is_weekend', 'is_curfew', 'Max_Grav_accidents', 'hosp', 'rea', 'rad', 'Count_accidents']\n"
     ]
    },
    {
     "name": "stderr",
     "output_type": "stream",
     "text": [
      "C:\\Users\\Thomas\\anaconda3\\envs\\bikes-count\\lib\\site-packages\\xgboost\\core.py:160: UserWarning: [04:06:17] WARNING: C:\\buildkite-agent\\builds\\buildkite-windows-cpu-autoscaling-group-i-0750514818a16474a-1\\xgboost\\xgboost-ci-windows\\src\\learner.cc:742: \n",
      "Parameters: { \"objectives\", \"verbose\" } are not used.\n",
      "\n",
      "  warnings.warn(smsg, UserWarning)\n"
     ]
    },
    {
     "name": "stdout",
     "output_type": "stream",
     "text": [
      "Train set RMSE: 0.41\n",
      "Test set RMSE: 0.48\n",
      "Tested on combination ['is_weekend', 'is_curfew', 'Max_Grav_accidents', 'hosp', 'incid_rea', 'rad', 'Count_accidents']\n"
     ]
    },
    {
     "name": "stderr",
     "output_type": "stream",
     "text": [
      "C:\\Users\\Thomas\\anaconda3\\envs\\bikes-count\\lib\\site-packages\\xgboost\\core.py:160: UserWarning: [04:06:23] WARNING: C:\\buildkite-agent\\builds\\buildkite-windows-cpu-autoscaling-group-i-0750514818a16474a-1\\xgboost\\xgboost-ci-windows\\src\\learner.cc:742: \n",
      "Parameters: { \"objectives\", \"verbose\" } are not used.\n",
      "\n",
      "  warnings.warn(smsg, UserWarning)\n"
     ]
    },
    {
     "name": "stdout",
     "output_type": "stream",
     "text": [
      "Train set RMSE: 0.41\n",
      "Test set RMSE: 0.56\n",
      "Tested on combination ['is_weekend', 'is_curfew', 'Max_Grav_accidents', 'rea', 'incid_rea', 'rad', 'Count_accidents']\n"
     ]
    },
    {
     "name": "stderr",
     "output_type": "stream",
     "text": [
      "C:\\Users\\Thomas\\anaconda3\\envs\\bikes-count\\lib\\site-packages\\xgboost\\core.py:160: UserWarning: [04:06:30] WARNING: C:\\buildkite-agent\\builds\\buildkite-windows-cpu-autoscaling-group-i-0750514818a16474a-1\\xgboost\\xgboost-ci-windows\\src\\learner.cc:742: \n",
      "Parameters: { \"objectives\", \"verbose\" } are not used.\n",
      "\n",
      "  warnings.warn(smsg, UserWarning)\n"
     ]
    },
    {
     "name": "stdout",
     "output_type": "stream",
     "text": [
      "Train set RMSE: 0.41\n",
      "Test set RMSE: 0.52\n",
      "Tested on combination ['is_weekend', 'is_curfew', 'hosp', 'rea', 'incid_rea', 'rad', 'Count_accidents']\n"
     ]
    },
    {
     "name": "stderr",
     "output_type": "stream",
     "text": [
      "C:\\Users\\Thomas\\anaconda3\\envs\\bikes-count\\lib\\site-packages\\xgboost\\core.py:160: UserWarning: [04:06:36] WARNING: C:\\buildkite-agent\\builds\\buildkite-windows-cpu-autoscaling-group-i-0750514818a16474a-1\\xgboost\\xgboost-ci-windows\\src\\learner.cc:742: \n",
      "Parameters: { \"objectives\", \"verbose\" } are not used.\n",
      "\n",
      "  warnings.warn(smsg, UserWarning)\n"
     ]
    },
    {
     "name": "stdout",
     "output_type": "stream",
     "text": [
      "Train set RMSE: 0.42\n",
      "Test set RMSE: 0.52\n",
      "Tested on combination ['is_weekend', 'Max_Grav_accidents', 'hosp', 'rea', 'incid_rea', 'rad', 'Count_accidents']\n"
     ]
    },
    {
     "name": "stderr",
     "output_type": "stream",
     "text": [
      "C:\\Users\\Thomas\\anaconda3\\envs\\bikes-count\\lib\\site-packages\\xgboost\\core.py:160: UserWarning: [04:06:43] WARNING: C:\\buildkite-agent\\builds\\buildkite-windows-cpu-autoscaling-group-i-0750514818a16474a-1\\xgboost\\xgboost-ci-windows\\src\\learner.cc:742: \n",
      "Parameters: { \"objectives\", \"verbose\" } are not used.\n",
      "\n",
      "  warnings.warn(smsg, UserWarning)\n"
     ]
    },
    {
     "name": "stdout",
     "output_type": "stream",
     "text": [
      "Train set RMSE: 0.41\n",
      "Test set RMSE: 0.51\n",
      "Tested on combination ['is_lockdown', 'is_curfew', 'Max_Grav_accidents', 'hosp', 'rea', 'incid_rea', 'rad']\n"
     ]
    },
    {
     "name": "stderr",
     "output_type": "stream",
     "text": [
      "C:\\Users\\Thomas\\anaconda3\\envs\\bikes-count\\lib\\site-packages\\xgboost\\core.py:160: UserWarning: [04:06:49] WARNING: C:\\buildkite-agent\\builds\\buildkite-windows-cpu-autoscaling-group-i-0750514818a16474a-1\\xgboost\\xgboost-ci-windows\\src\\learner.cc:742: \n",
      "Parameters: { \"objectives\", \"verbose\" } are not used.\n",
      "\n",
      "  warnings.warn(smsg, UserWarning)\n"
     ]
    },
    {
     "name": "stdout",
     "output_type": "stream",
     "text": [
      "Train set RMSE: 0.42\n",
      "Test set RMSE: 0.49\n",
      "Tested on combination ['is_lockdown', 'is_curfew', 'Max_Grav_accidents', 'hosp', 'rea', 'incid_rea', 'Count_accidents']\n"
     ]
    },
    {
     "name": "stderr",
     "output_type": "stream",
     "text": [
      "C:\\Users\\Thomas\\anaconda3\\envs\\bikes-count\\lib\\site-packages\\xgboost\\core.py:160: UserWarning: [04:06:56] WARNING: C:\\buildkite-agent\\builds\\buildkite-windows-cpu-autoscaling-group-i-0750514818a16474a-1\\xgboost\\xgboost-ci-windows\\src\\learner.cc:742: \n",
      "Parameters: { \"objectives\", \"verbose\" } are not used.\n",
      "\n",
      "  warnings.warn(smsg, UserWarning)\n"
     ]
    },
    {
     "name": "stdout",
     "output_type": "stream",
     "text": [
      "Train set RMSE: 0.41\n",
      "Test set RMSE: 0.52\n",
      "Tested on combination ['is_lockdown', 'is_curfew', 'Max_Grav_accidents', 'hosp', 'rea', 'rad', 'Count_accidents']\n"
     ]
    },
    {
     "name": "stderr",
     "output_type": "stream",
     "text": [
      "C:\\Users\\Thomas\\anaconda3\\envs\\bikes-count\\lib\\site-packages\\xgboost\\core.py:160: UserWarning: [04:07:03] WARNING: C:\\buildkite-agent\\builds\\buildkite-windows-cpu-autoscaling-group-i-0750514818a16474a-1\\xgboost\\xgboost-ci-windows\\src\\learner.cc:742: \n",
      "Parameters: { \"objectives\", \"verbose\" } are not used.\n",
      "\n",
      "  warnings.warn(smsg, UserWarning)\n"
     ]
    },
    {
     "name": "stdout",
     "output_type": "stream",
     "text": [
      "Train set RMSE: 0.41\n",
      "Test set RMSE: 0.48\n",
      "Tested on combination ['is_lockdown', 'is_curfew', 'Max_Grav_accidents', 'hosp', 'incid_rea', 'rad', 'Count_accidents']\n"
     ]
    },
    {
     "name": "stderr",
     "output_type": "stream",
     "text": [
      "C:\\Users\\Thomas\\anaconda3\\envs\\bikes-count\\lib\\site-packages\\xgboost\\core.py:160: UserWarning: [04:07:09] WARNING: C:\\buildkite-agent\\builds\\buildkite-windows-cpu-autoscaling-group-i-0750514818a16474a-1\\xgboost\\xgboost-ci-windows\\src\\learner.cc:742: \n",
      "Parameters: { \"objectives\", \"verbose\" } are not used.\n",
      "\n",
      "  warnings.warn(smsg, UserWarning)\n"
     ]
    },
    {
     "name": "stdout",
     "output_type": "stream",
     "text": [
      "Train set RMSE: 0.41\n",
      "Test set RMSE: 0.58\n",
      "Tested on combination ['is_lockdown', 'is_curfew', 'Max_Grav_accidents', 'rea', 'incid_rea', 'rad', 'Count_accidents']\n"
     ]
    },
    {
     "name": "stderr",
     "output_type": "stream",
     "text": [
      "C:\\Users\\Thomas\\anaconda3\\envs\\bikes-count\\lib\\site-packages\\xgboost\\core.py:160: UserWarning: [04:07:16] WARNING: C:\\buildkite-agent\\builds\\buildkite-windows-cpu-autoscaling-group-i-0750514818a16474a-1\\xgboost\\xgboost-ci-windows\\src\\learner.cc:742: \n",
      "Parameters: { \"objectives\", \"verbose\" } are not used.\n",
      "\n",
      "  warnings.warn(smsg, UserWarning)\n"
     ]
    },
    {
     "name": "stdout",
     "output_type": "stream",
     "text": [
      "Train set RMSE: 0.42\n",
      "Test set RMSE: 0.53\n",
      "Tested on combination ['is_lockdown', 'is_curfew', 'hosp', 'rea', 'incid_rea', 'rad', 'Count_accidents']\n"
     ]
    },
    {
     "name": "stderr",
     "output_type": "stream",
     "text": [
      "C:\\Users\\Thomas\\anaconda3\\envs\\bikes-count\\lib\\site-packages\\xgboost\\core.py:160: UserWarning: [04:07:22] WARNING: C:\\buildkite-agent\\builds\\buildkite-windows-cpu-autoscaling-group-i-0750514818a16474a-1\\xgboost\\xgboost-ci-windows\\src\\learner.cc:742: \n",
      "Parameters: { \"objectives\", \"verbose\" } are not used.\n",
      "\n",
      "  warnings.warn(smsg, UserWarning)\n"
     ]
    },
    {
     "name": "stdout",
     "output_type": "stream",
     "text": [
      "Train set RMSE: 0.41\n",
      "Test set RMSE: 0.51\n",
      "Tested on combination ['is_lockdown', 'Max_Grav_accidents', 'hosp', 'rea', 'incid_rea', 'rad', 'Count_accidents']\n"
     ]
    },
    {
     "name": "stderr",
     "output_type": "stream",
     "text": [
      "C:\\Users\\Thomas\\anaconda3\\envs\\bikes-count\\lib\\site-packages\\xgboost\\core.py:160: UserWarning: [04:07:29] WARNING: C:\\buildkite-agent\\builds\\buildkite-windows-cpu-autoscaling-group-i-0750514818a16474a-1\\xgboost\\xgboost-ci-windows\\src\\learner.cc:742: \n",
      "Parameters: { \"objectives\", \"verbose\" } are not used.\n",
      "\n",
      "  warnings.warn(smsg, UserWarning)\n"
     ]
    },
    {
     "name": "stdout",
     "output_type": "stream",
     "text": [
      "Train set RMSE: 0.41\n",
      "Test set RMSE: 0.52\n",
      "Tested on combination ['is_curfew', 'Max_Grav_accidents', 'hosp', 'rea', 'incid_rea', 'rad', 'Count_accidents']\n"
     ]
    },
    {
     "name": "stderr",
     "output_type": "stream",
     "text": [
      "C:\\Users\\Thomas\\anaconda3\\envs\\bikes-count\\lib\\site-packages\\xgboost\\core.py:160: UserWarning: [04:07:36] WARNING: C:\\buildkite-agent\\builds\\buildkite-windows-cpu-autoscaling-group-i-0750514818a16474a-1\\xgboost\\xgboost-ci-windows\\src\\learner.cc:742: \n",
      "Parameters: { \"objectives\", \"verbose\" } are not used.\n",
      "\n",
      "  warnings.warn(smsg, UserWarning)\n"
     ]
    },
    {
     "name": "stdout",
     "output_type": "stream",
     "text": [
      "Train set RMSE: 0.41\n",
      "Test set RMSE: 0.48\n",
      "Tested on combination ['is_holiday', 'is_weekend', 'is_lockdown', 'is_curfew', 'Max_Grav_accidents', 'hosp', 'rea', 'incid_rea']\n"
     ]
    },
    {
     "name": "stderr",
     "output_type": "stream",
     "text": [
      "C:\\Users\\Thomas\\anaconda3\\envs\\bikes-count\\lib\\site-packages\\xgboost\\core.py:160: UserWarning: [04:07:42] WARNING: C:\\buildkite-agent\\builds\\buildkite-windows-cpu-autoscaling-group-i-0750514818a16474a-1\\xgboost\\xgboost-ci-windows\\src\\learner.cc:742: \n",
      "Parameters: { \"objectives\", \"verbose\" } are not used.\n",
      "\n",
      "  warnings.warn(smsg, UserWarning)\n"
     ]
    },
    {
     "name": "stdout",
     "output_type": "stream",
     "text": [
      "Train set RMSE: 0.41\n",
      "Test set RMSE: 0.50\n",
      "Tested on combination ['is_holiday', 'is_weekend', 'is_lockdown', 'is_curfew', 'Max_Grav_accidents', 'hosp', 'rea', 'rad']\n"
     ]
    },
    {
     "name": "stderr",
     "output_type": "stream",
     "text": [
      "C:\\Users\\Thomas\\anaconda3\\envs\\bikes-count\\lib\\site-packages\\xgboost\\core.py:160: UserWarning: [04:07:49] WARNING: C:\\buildkite-agent\\builds\\buildkite-windows-cpu-autoscaling-group-i-0750514818a16474a-1\\xgboost\\xgboost-ci-windows\\src\\learner.cc:742: \n",
      "Parameters: { \"objectives\", \"verbose\" } are not used.\n",
      "\n",
      "  warnings.warn(smsg, UserWarning)\n"
     ]
    },
    {
     "name": "stdout",
     "output_type": "stream",
     "text": [
      "Train set RMSE: 0.42\n",
      "Test set RMSE: 0.48\n",
      "Tested on combination ['is_holiday', 'is_weekend', 'is_lockdown', 'is_curfew', 'Max_Grav_accidents', 'hosp', 'rea', 'Count_accidents']\n"
     ]
    },
    {
     "name": "stderr",
     "output_type": "stream",
     "text": [
      "C:\\Users\\Thomas\\anaconda3\\envs\\bikes-count\\lib\\site-packages\\xgboost\\core.py:160: UserWarning: [04:07:56] WARNING: C:\\buildkite-agent\\builds\\buildkite-windows-cpu-autoscaling-group-i-0750514818a16474a-1\\xgboost\\xgboost-ci-windows\\src\\learner.cc:742: \n",
      "Parameters: { \"objectives\", \"verbose\" } are not used.\n",
      "\n",
      "  warnings.warn(smsg, UserWarning)\n"
     ]
    },
    {
     "name": "stdout",
     "output_type": "stream",
     "text": [
      "Train set RMSE: 0.41\n",
      "Test set RMSE: 0.49\n",
      "Tested on combination ['is_holiday', 'is_weekend', 'is_lockdown', 'is_curfew', 'Max_Grav_accidents', 'hosp', 'incid_rea', 'rad']\n"
     ]
    },
    {
     "name": "stderr",
     "output_type": "stream",
     "text": [
      "C:\\Users\\Thomas\\anaconda3\\envs\\bikes-count\\lib\\site-packages\\xgboost\\core.py:160: UserWarning: [04:08:02] WARNING: C:\\buildkite-agent\\builds\\buildkite-windows-cpu-autoscaling-group-i-0750514818a16474a-1\\xgboost\\xgboost-ci-windows\\src\\learner.cc:742: \n",
      "Parameters: { \"objectives\", \"verbose\" } are not used.\n",
      "\n",
      "  warnings.warn(smsg, UserWarning)\n"
     ]
    },
    {
     "name": "stdout",
     "output_type": "stream",
     "text": [
      "Train set RMSE: 0.42\n",
      "Test set RMSE: 0.50\n",
      "Tested on combination ['is_holiday', 'is_weekend', 'is_lockdown', 'is_curfew', 'Max_Grav_accidents', 'hosp', 'incid_rea', 'Count_accidents']\n"
     ]
    },
    {
     "name": "stderr",
     "output_type": "stream",
     "text": [
      "C:\\Users\\Thomas\\anaconda3\\envs\\bikes-count\\lib\\site-packages\\xgboost\\core.py:160: UserWarning: [04:08:09] WARNING: C:\\buildkite-agent\\builds\\buildkite-windows-cpu-autoscaling-group-i-0750514818a16474a-1\\xgboost\\xgboost-ci-windows\\src\\learner.cc:742: \n",
      "Parameters: { \"objectives\", \"verbose\" } are not used.\n",
      "\n",
      "  warnings.warn(smsg, UserWarning)\n"
     ]
    },
    {
     "name": "stdout",
     "output_type": "stream",
     "text": [
      "Train set RMSE: 0.41\n",
      "Test set RMSE: 0.49\n",
      "Tested on combination ['is_holiday', 'is_weekend', 'is_lockdown', 'is_curfew', 'Max_Grav_accidents', 'hosp', 'rad', 'Count_accidents']\n"
     ]
    },
    {
     "name": "stderr",
     "output_type": "stream",
     "text": [
      "C:\\Users\\Thomas\\anaconda3\\envs\\bikes-count\\lib\\site-packages\\xgboost\\core.py:160: UserWarning: [04:08:15] WARNING: C:\\buildkite-agent\\builds\\buildkite-windows-cpu-autoscaling-group-i-0750514818a16474a-1\\xgboost\\xgboost-ci-windows\\src\\learner.cc:742: \n",
      "Parameters: { \"objectives\", \"verbose\" } are not used.\n",
      "\n",
      "  warnings.warn(smsg, UserWarning)\n"
     ]
    },
    {
     "name": "stdout",
     "output_type": "stream",
     "text": [
      "Train set RMSE: 0.42\n",
      "Test set RMSE: 0.54\n",
      "Tested on combination ['is_holiday', 'is_weekend', 'is_lockdown', 'is_curfew', 'Max_Grav_accidents', 'rea', 'incid_rea', 'rad']\n"
     ]
    },
    {
     "name": "stderr",
     "output_type": "stream",
     "text": [
      "C:\\Users\\Thomas\\anaconda3\\envs\\bikes-count\\lib\\site-packages\\xgboost\\core.py:160: UserWarning: [04:08:22] WARNING: C:\\buildkite-agent\\builds\\buildkite-windows-cpu-autoscaling-group-i-0750514818a16474a-1\\xgboost\\xgboost-ci-windows\\src\\learner.cc:742: \n",
      "Parameters: { \"objectives\", \"verbose\" } are not used.\n",
      "\n",
      "  warnings.warn(smsg, UserWarning)\n"
     ]
    },
    {
     "name": "stdout",
     "output_type": "stream",
     "text": [
      "Train set RMSE: 0.42\n",
      "Test set RMSE: 0.52\n",
      "Tested on combination ['is_holiday', 'is_weekend', 'is_lockdown', 'is_curfew', 'Max_Grav_accidents', 'rea', 'incid_rea', 'Count_accidents']\n"
     ]
    },
    {
     "name": "stderr",
     "output_type": "stream",
     "text": [
      "C:\\Users\\Thomas\\anaconda3\\envs\\bikes-count\\lib\\site-packages\\xgboost\\core.py:160: UserWarning: [04:08:29] WARNING: C:\\buildkite-agent\\builds\\buildkite-windows-cpu-autoscaling-group-i-0750514818a16474a-1\\xgboost\\xgboost-ci-windows\\src\\learner.cc:742: \n",
      "Parameters: { \"objectives\", \"verbose\" } are not used.\n",
      "\n",
      "  warnings.warn(smsg, UserWarning)\n"
     ]
    },
    {
     "name": "stdout",
     "output_type": "stream",
     "text": [
      "Train set RMSE: 0.41\n",
      "Test set RMSE: 0.55\n",
      "Tested on combination ['is_holiday', 'is_weekend', 'is_lockdown', 'is_curfew', 'Max_Grav_accidents', 'rea', 'rad', 'Count_accidents']\n"
     ]
    },
    {
     "name": "stderr",
     "output_type": "stream",
     "text": [
      "C:\\Users\\Thomas\\anaconda3\\envs\\bikes-count\\lib\\site-packages\\xgboost\\core.py:160: UserWarning: [04:08:35] WARNING: C:\\buildkite-agent\\builds\\buildkite-windows-cpu-autoscaling-group-i-0750514818a16474a-1\\xgboost\\xgboost-ci-windows\\src\\learner.cc:742: \n",
      "Parameters: { \"objectives\", \"verbose\" } are not used.\n",
      "\n",
      "  warnings.warn(smsg, UserWarning)\n"
     ]
    },
    {
     "name": "stdout",
     "output_type": "stream",
     "text": [
      "Train set RMSE: 0.41\n",
      "Test set RMSE: 0.51\n",
      "Tested on combination ['is_holiday', 'is_weekend', 'is_lockdown', 'is_curfew', 'Max_Grav_accidents', 'incid_rea', 'rad', 'Count_accidents']\n"
     ]
    },
    {
     "name": "stderr",
     "output_type": "stream",
     "text": [
      "C:\\Users\\Thomas\\anaconda3\\envs\\bikes-count\\lib\\site-packages\\xgboost\\core.py:160: UserWarning: [04:08:42] WARNING: C:\\buildkite-agent\\builds\\buildkite-windows-cpu-autoscaling-group-i-0750514818a16474a-1\\xgboost\\xgboost-ci-windows\\src\\learner.cc:742: \n",
      "Parameters: { \"objectives\", \"verbose\" } are not used.\n",
      "\n",
      "  warnings.warn(smsg, UserWarning)\n"
     ]
    },
    {
     "name": "stdout",
     "output_type": "stream",
     "text": [
      "Train set RMSE: 0.40\n",
      "Test set RMSE: 0.49\n",
      "Tested on combination ['is_holiday', 'is_weekend', 'is_lockdown', 'is_curfew', 'hosp', 'rea', 'incid_rea', 'rad']\n"
     ]
    },
    {
     "name": "stderr",
     "output_type": "stream",
     "text": [
      "C:\\Users\\Thomas\\anaconda3\\envs\\bikes-count\\lib\\site-packages\\xgboost\\core.py:160: UserWarning: [04:08:49] WARNING: C:\\buildkite-agent\\builds\\buildkite-windows-cpu-autoscaling-group-i-0750514818a16474a-1\\xgboost\\xgboost-ci-windows\\src\\learner.cc:742: \n",
      "Parameters: { \"objectives\", \"verbose\" } are not used.\n",
      "\n",
      "  warnings.warn(smsg, UserWarning)\n"
     ]
    },
    {
     "name": "stdout",
     "output_type": "stream",
     "text": [
      "Train set RMSE: 0.42\n",
      "Test set RMSE: 0.49\n",
      "Tested on combination ['is_holiday', 'is_weekend', 'is_lockdown', 'is_curfew', 'hosp', 'rea', 'incid_rea', 'Count_accidents']\n"
     ]
    },
    {
     "name": "stderr",
     "output_type": "stream",
     "text": [
      "C:\\Users\\Thomas\\anaconda3\\envs\\bikes-count\\lib\\site-packages\\xgboost\\core.py:160: UserWarning: [04:08:56] WARNING: C:\\buildkite-agent\\builds\\buildkite-windows-cpu-autoscaling-group-i-0750514818a16474a-1\\xgboost\\xgboost-ci-windows\\src\\learner.cc:742: \n",
      "Parameters: { \"objectives\", \"verbose\" } are not used.\n",
      "\n",
      "  warnings.warn(smsg, UserWarning)\n"
     ]
    },
    {
     "name": "stdout",
     "output_type": "stream",
     "text": [
      "Train set RMSE: 0.41\n",
      "Test set RMSE: 0.48\n",
      "Tested on combination ['is_holiday', 'is_weekend', 'is_lockdown', 'is_curfew', 'hosp', 'rea', 'rad', 'Count_accidents']\n"
     ]
    },
    {
     "name": "stderr",
     "output_type": "stream",
     "text": [
      "C:\\Users\\Thomas\\anaconda3\\envs\\bikes-count\\lib\\site-packages\\xgboost\\core.py:160: UserWarning: [04:09:02] WARNING: C:\\buildkite-agent\\builds\\buildkite-windows-cpu-autoscaling-group-i-0750514818a16474a-1\\xgboost\\xgboost-ci-windows\\src\\learner.cc:742: \n",
      "Parameters: { \"objectives\", \"verbose\" } are not used.\n",
      "\n",
      "  warnings.warn(smsg, UserWarning)\n"
     ]
    },
    {
     "name": "stdout",
     "output_type": "stream",
     "text": [
      "Train set RMSE: 0.41\n",
      "Test set RMSE: 0.51\n",
      "Tested on combination ['is_holiday', 'is_weekend', 'is_lockdown', 'is_curfew', 'hosp', 'incid_rea', 'rad', 'Count_accidents']\n"
     ]
    },
    {
     "name": "stderr",
     "output_type": "stream",
     "text": [
      "C:\\Users\\Thomas\\anaconda3\\envs\\bikes-count\\lib\\site-packages\\xgboost\\core.py:160: UserWarning: [04:09:09] WARNING: C:\\buildkite-agent\\builds\\buildkite-windows-cpu-autoscaling-group-i-0750514818a16474a-1\\xgboost\\xgboost-ci-windows\\src\\learner.cc:742: \n",
      "Parameters: { \"objectives\", \"verbose\" } are not used.\n",
      "\n",
      "  warnings.warn(smsg, UserWarning)\n"
     ]
    },
    {
     "name": "stdout",
     "output_type": "stream",
     "text": [
      "Train set RMSE: 0.41\n",
      "Test set RMSE: 0.51\n",
      "Tested on combination ['is_holiday', 'is_weekend', 'is_lockdown', 'is_curfew', 'rea', 'incid_rea', 'rad', 'Count_accidents']\n"
     ]
    },
    {
     "name": "stderr",
     "output_type": "stream",
     "text": [
      "C:\\Users\\Thomas\\anaconda3\\envs\\bikes-count\\lib\\site-packages\\xgboost\\core.py:160: UserWarning: [04:09:16] WARNING: C:\\buildkite-agent\\builds\\buildkite-windows-cpu-autoscaling-group-i-0750514818a16474a-1\\xgboost\\xgboost-ci-windows\\src\\learner.cc:742: \n",
      "Parameters: { \"objectives\", \"verbose\" } are not used.\n",
      "\n",
      "  warnings.warn(smsg, UserWarning)\n"
     ]
    },
    {
     "name": "stdout",
     "output_type": "stream",
     "text": [
      "Train set RMSE: 0.41\n",
      "Test set RMSE: 0.50\n",
      "Tested on combination ['is_holiday', 'is_weekend', 'is_lockdown', 'Max_Grav_accidents', 'hosp', 'rea', 'incid_rea', 'rad']\n"
     ]
    },
    {
     "name": "stderr",
     "output_type": "stream",
     "text": [
      "C:\\Users\\Thomas\\anaconda3\\envs\\bikes-count\\lib\\site-packages\\xgboost\\core.py:160: UserWarning: [04:09:22] WARNING: C:\\buildkite-agent\\builds\\buildkite-windows-cpu-autoscaling-group-i-0750514818a16474a-1\\xgboost\\xgboost-ci-windows\\src\\learner.cc:742: \n",
      "Parameters: { \"objectives\", \"verbose\" } are not used.\n",
      "\n",
      "  warnings.warn(smsg, UserWarning)\n"
     ]
    },
    {
     "name": "stdout",
     "output_type": "stream",
     "text": [
      "Train set RMSE: 0.42\n",
      "Test set RMSE: 0.49\n",
      "Tested on combination ['is_holiday', 'is_weekend', 'is_lockdown', 'Max_Grav_accidents', 'hosp', 'rea', 'incid_rea', 'Count_accidents']\n"
     ]
    },
    {
     "name": "stderr",
     "output_type": "stream",
     "text": [
      "C:\\Users\\Thomas\\anaconda3\\envs\\bikes-count\\lib\\site-packages\\xgboost\\core.py:160: UserWarning: [04:09:29] WARNING: C:\\buildkite-agent\\builds\\buildkite-windows-cpu-autoscaling-group-i-0750514818a16474a-1\\xgboost\\xgboost-ci-windows\\src\\learner.cc:742: \n",
      "Parameters: { \"objectives\", \"verbose\" } are not used.\n",
      "\n",
      "  warnings.warn(smsg, UserWarning)\n"
     ]
    },
    {
     "name": "stdout",
     "output_type": "stream",
     "text": [
      "Train set RMSE: 0.41\n",
      "Test set RMSE: 0.49\n",
      "Tested on combination ['is_holiday', 'is_weekend', 'is_lockdown', 'Max_Grav_accidents', 'hosp', 'rea', 'rad', 'Count_accidents']\n"
     ]
    },
    {
     "name": "stderr",
     "output_type": "stream",
     "text": [
      "C:\\Users\\Thomas\\anaconda3\\envs\\bikes-count\\lib\\site-packages\\xgboost\\core.py:160: UserWarning: [04:09:36] WARNING: C:\\buildkite-agent\\builds\\buildkite-windows-cpu-autoscaling-group-i-0750514818a16474a-1\\xgboost\\xgboost-ci-windows\\src\\learner.cc:742: \n",
      "Parameters: { \"objectives\", \"verbose\" } are not used.\n",
      "\n",
      "  warnings.warn(smsg, UserWarning)\n"
     ]
    },
    {
     "name": "stdout",
     "output_type": "stream",
     "text": [
      "Train set RMSE: 0.41\n",
      "Test set RMSE: 0.48\n",
      "Tested on combination ['is_holiday', 'is_weekend', 'is_lockdown', 'Max_Grav_accidents', 'hosp', 'incid_rea', 'rad', 'Count_accidents']\n"
     ]
    },
    {
     "name": "stderr",
     "output_type": "stream",
     "text": [
      "C:\\Users\\Thomas\\anaconda3\\envs\\bikes-count\\lib\\site-packages\\xgboost\\core.py:160: UserWarning: [04:09:43] WARNING: C:\\buildkite-agent\\builds\\buildkite-windows-cpu-autoscaling-group-i-0750514818a16474a-1\\xgboost\\xgboost-ci-windows\\src\\learner.cc:742: \n",
      "Parameters: { \"objectives\", \"verbose\" } are not used.\n",
      "\n",
      "  warnings.warn(smsg, UserWarning)\n"
     ]
    },
    {
     "name": "stdout",
     "output_type": "stream",
     "text": [
      "Train set RMSE: 0.42\n",
      "Test set RMSE: 0.53\n",
      "Tested on combination ['is_holiday', 'is_weekend', 'is_lockdown', 'Max_Grav_accidents', 'rea', 'incid_rea', 'rad', 'Count_accidents']\n"
     ]
    },
    {
     "name": "stderr",
     "output_type": "stream",
     "text": [
      "C:\\Users\\Thomas\\anaconda3\\envs\\bikes-count\\lib\\site-packages\\xgboost\\core.py:160: UserWarning: [04:09:49] WARNING: C:\\buildkite-agent\\builds\\buildkite-windows-cpu-autoscaling-group-i-0750514818a16474a-1\\xgboost\\xgboost-ci-windows\\src\\learner.cc:742: \n",
      "Parameters: { \"objectives\", \"verbose\" } are not used.\n",
      "\n",
      "  warnings.warn(smsg, UserWarning)\n"
     ]
    },
    {
     "name": "stdout",
     "output_type": "stream",
     "text": [
      "Train set RMSE: 0.41\n",
      "Test set RMSE: 0.49\n",
      "Tested on combination ['is_holiday', 'is_weekend', 'is_lockdown', 'hosp', 'rea', 'incid_rea', 'rad', 'Count_accidents']\n"
     ]
    },
    {
     "name": "stderr",
     "output_type": "stream",
     "text": [
      "C:\\Users\\Thomas\\anaconda3\\envs\\bikes-count\\lib\\site-packages\\xgboost\\core.py:160: UserWarning: [04:09:56] WARNING: C:\\buildkite-agent\\builds\\buildkite-windows-cpu-autoscaling-group-i-0750514818a16474a-1\\xgboost\\xgboost-ci-windows\\src\\learner.cc:742: \n",
      "Parameters: { \"objectives\", \"verbose\" } are not used.\n",
      "\n",
      "  warnings.warn(smsg, UserWarning)\n"
     ]
    },
    {
     "name": "stdout",
     "output_type": "stream",
     "text": [
      "Train set RMSE: 0.41\n",
      "Test set RMSE: 0.50\n",
      "Tested on combination ['is_holiday', 'is_weekend', 'is_curfew', 'Max_Grav_accidents', 'hosp', 'rea', 'incid_rea', 'rad']\n"
     ]
    },
    {
     "name": "stderr",
     "output_type": "stream",
     "text": [
      "C:\\Users\\Thomas\\anaconda3\\envs\\bikes-count\\lib\\site-packages\\xgboost\\core.py:160: UserWarning: [04:10:03] WARNING: C:\\buildkite-agent\\builds\\buildkite-windows-cpu-autoscaling-group-i-0750514818a16474a-1\\xgboost\\xgboost-ci-windows\\src\\learner.cc:742: \n",
      "Parameters: { \"objectives\", \"verbose\" } are not used.\n",
      "\n",
      "  warnings.warn(smsg, UserWarning)\n"
     ]
    },
    {
     "name": "stdout",
     "output_type": "stream",
     "text": [
      "Train set RMSE: 0.41\n",
      "Test set RMSE: 0.48\n",
      "Tested on combination ['is_holiday', 'is_weekend', 'is_curfew', 'Max_Grav_accidents', 'hosp', 'rea', 'incid_rea', 'Count_accidents']\n"
     ]
    },
    {
     "name": "stderr",
     "output_type": "stream",
     "text": [
      "C:\\Users\\Thomas\\anaconda3\\envs\\bikes-count\\lib\\site-packages\\xgboost\\core.py:160: UserWarning: [04:10:09] WARNING: C:\\buildkite-agent\\builds\\buildkite-windows-cpu-autoscaling-group-i-0750514818a16474a-1\\xgboost\\xgboost-ci-windows\\src\\learner.cc:742: \n",
      "Parameters: { \"objectives\", \"verbose\" } are not used.\n",
      "\n",
      "  warnings.warn(smsg, UserWarning)\n"
     ]
    },
    {
     "name": "stdout",
     "output_type": "stream",
     "text": [
      "Train set RMSE: 0.41\n",
      "Test set RMSE: 0.54\n",
      "Tested on combination ['is_holiday', 'is_weekend', 'is_curfew', 'Max_Grav_accidents', 'hosp', 'rea', 'rad', 'Count_accidents']\n"
     ]
    },
    {
     "name": "stderr",
     "output_type": "stream",
     "text": [
      "C:\\Users\\Thomas\\anaconda3\\envs\\bikes-count\\lib\\site-packages\\xgboost\\core.py:160: UserWarning: [04:10:16] WARNING: C:\\buildkite-agent\\builds\\buildkite-windows-cpu-autoscaling-group-i-0750514818a16474a-1\\xgboost\\xgboost-ci-windows\\src\\learner.cc:742: \n",
      "Parameters: { \"objectives\", \"verbose\" } are not used.\n",
      "\n",
      "  warnings.warn(smsg, UserWarning)\n"
     ]
    },
    {
     "name": "stdout",
     "output_type": "stream",
     "text": [
      "Train set RMSE: 0.41\n",
      "Test set RMSE: 0.50\n",
      "Tested on combination ['is_holiday', 'is_weekend', 'is_curfew', 'Max_Grav_accidents', 'hosp', 'incid_rea', 'rad', 'Count_accidents']\n"
     ]
    },
    {
     "name": "stderr",
     "output_type": "stream",
     "text": [
      "C:\\Users\\Thomas\\anaconda3\\envs\\bikes-count\\lib\\site-packages\\xgboost\\core.py:160: UserWarning: [04:10:23] WARNING: C:\\buildkite-agent\\builds\\buildkite-windows-cpu-autoscaling-group-i-0750514818a16474a-1\\xgboost\\xgboost-ci-windows\\src\\learner.cc:742: \n",
      "Parameters: { \"objectives\", \"verbose\" } are not used.\n",
      "\n",
      "  warnings.warn(smsg, UserWarning)\n"
     ]
    },
    {
     "name": "stdout",
     "output_type": "stream",
     "text": [
      "Train set RMSE: 0.41\n",
      "Test set RMSE: 0.54\n",
      "Tested on combination ['is_holiday', 'is_weekend', 'is_curfew', 'Max_Grav_accidents', 'rea', 'incid_rea', 'rad', 'Count_accidents']\n"
     ]
    },
    {
     "name": "stderr",
     "output_type": "stream",
     "text": [
      "C:\\Users\\Thomas\\anaconda3\\envs\\bikes-count\\lib\\site-packages\\xgboost\\core.py:160: UserWarning: [04:10:30] WARNING: C:\\buildkite-agent\\builds\\buildkite-windows-cpu-autoscaling-group-i-0750514818a16474a-1\\xgboost\\xgboost-ci-windows\\src\\learner.cc:742: \n",
      "Parameters: { \"objectives\", \"verbose\" } are not used.\n",
      "\n",
      "  warnings.warn(smsg, UserWarning)\n"
     ]
    },
    {
     "name": "stdout",
     "output_type": "stream",
     "text": [
      "Train set RMSE: 0.41\n",
      "Test set RMSE: 0.50\n",
      "Tested on combination ['is_holiday', 'is_weekend', 'is_curfew', 'hosp', 'rea', 'incid_rea', 'rad', 'Count_accidents']\n"
     ]
    },
    {
     "name": "stderr",
     "output_type": "stream",
     "text": [
      "C:\\Users\\Thomas\\anaconda3\\envs\\bikes-count\\lib\\site-packages\\xgboost\\core.py:160: UserWarning: [04:10:36] WARNING: C:\\buildkite-agent\\builds\\buildkite-windows-cpu-autoscaling-group-i-0750514818a16474a-1\\xgboost\\xgboost-ci-windows\\src\\learner.cc:742: \n",
      "Parameters: { \"objectives\", \"verbose\" } are not used.\n",
      "\n",
      "  warnings.warn(smsg, UserWarning)\n"
     ]
    },
    {
     "name": "stdout",
     "output_type": "stream",
     "text": [
      "Train set RMSE: 0.41\n",
      "Test set RMSE: 0.51\n",
      "Tested on combination ['is_holiday', 'is_weekend', 'Max_Grav_accidents', 'hosp', 'rea', 'incid_rea', 'rad', 'Count_accidents']\n"
     ]
    },
    {
     "name": "stderr",
     "output_type": "stream",
     "text": [
      "C:\\Users\\Thomas\\anaconda3\\envs\\bikes-count\\lib\\site-packages\\xgboost\\core.py:160: UserWarning: [04:10:43] WARNING: C:\\buildkite-agent\\builds\\buildkite-windows-cpu-autoscaling-group-i-0750514818a16474a-1\\xgboost\\xgboost-ci-windows\\src\\learner.cc:742: \n",
      "Parameters: { \"objectives\", \"verbose\" } are not used.\n",
      "\n",
      "  warnings.warn(smsg, UserWarning)\n"
     ]
    },
    {
     "name": "stdout",
     "output_type": "stream",
     "text": [
      "Train set RMSE: 0.40\n",
      "Test set RMSE: 0.49\n",
      "Tested on combination ['is_holiday', 'is_lockdown', 'is_curfew', 'Max_Grav_accidents', 'hosp', 'rea', 'incid_rea', 'rad']\n"
     ]
    },
    {
     "name": "stderr",
     "output_type": "stream",
     "text": [
      "C:\\Users\\Thomas\\anaconda3\\envs\\bikes-count\\lib\\site-packages\\xgboost\\core.py:160: UserWarning: [04:10:50] WARNING: C:\\buildkite-agent\\builds\\buildkite-windows-cpu-autoscaling-group-i-0750514818a16474a-1\\xgboost\\xgboost-ci-windows\\src\\learner.cc:742: \n",
      "Parameters: { \"objectives\", \"verbose\" } are not used.\n",
      "\n",
      "  warnings.warn(smsg, UserWarning)\n"
     ]
    },
    {
     "name": "stdout",
     "output_type": "stream",
     "text": [
      "Train set RMSE: 0.41\n",
      "Test set RMSE: 0.49\n",
      "Tested on combination ['is_holiday', 'is_lockdown', 'is_curfew', 'Max_Grav_accidents', 'hosp', 'rea', 'incid_rea', 'Count_accidents']\n"
     ]
    },
    {
     "name": "stderr",
     "output_type": "stream",
     "text": [
      "C:\\Users\\Thomas\\anaconda3\\envs\\bikes-count\\lib\\site-packages\\xgboost\\core.py:160: UserWarning: [04:10:57] WARNING: C:\\buildkite-agent\\builds\\buildkite-windows-cpu-autoscaling-group-i-0750514818a16474a-1\\xgboost\\xgboost-ci-windows\\src\\learner.cc:742: \n",
      "Parameters: { \"objectives\", \"verbose\" } are not used.\n",
      "\n",
      "  warnings.warn(smsg, UserWarning)\n"
     ]
    },
    {
     "name": "stdout",
     "output_type": "stream",
     "text": [
      "Train set RMSE: 0.41\n",
      "Test set RMSE: 0.50\n",
      "Tested on combination ['is_holiday', 'is_lockdown', 'is_curfew', 'Max_Grav_accidents', 'hosp', 'rea', 'rad', 'Count_accidents']\n"
     ]
    },
    {
     "name": "stderr",
     "output_type": "stream",
     "text": [
      "C:\\Users\\Thomas\\anaconda3\\envs\\bikes-count\\lib\\site-packages\\xgboost\\core.py:160: UserWarning: [04:11:04] WARNING: C:\\buildkite-agent\\builds\\buildkite-windows-cpu-autoscaling-group-i-0750514818a16474a-1\\xgboost\\xgboost-ci-windows\\src\\learner.cc:742: \n",
      "Parameters: { \"objectives\", \"verbose\" } are not used.\n",
      "\n",
      "  warnings.warn(smsg, UserWarning)\n"
     ]
    },
    {
     "name": "stdout",
     "output_type": "stream",
     "text": [
      "Train set RMSE: 0.41\n",
      "Test set RMSE: 0.50\n",
      "Tested on combination ['is_holiday', 'is_lockdown', 'is_curfew', 'Max_Grav_accidents', 'hosp', 'incid_rea', 'rad', 'Count_accidents']\n"
     ]
    },
    {
     "name": "stderr",
     "output_type": "stream",
     "text": [
      "C:\\Users\\Thomas\\anaconda3\\envs\\bikes-count\\lib\\site-packages\\xgboost\\core.py:160: UserWarning: [04:11:10] WARNING: C:\\buildkite-agent\\builds\\buildkite-windows-cpu-autoscaling-group-i-0750514818a16474a-1\\xgboost\\xgboost-ci-windows\\src\\learner.cc:742: \n",
      "Parameters: { \"objectives\", \"verbose\" } are not used.\n",
      "\n",
      "  warnings.warn(smsg, UserWarning)\n"
     ]
    },
    {
     "name": "stdout",
     "output_type": "stream",
     "text": [
      "Train set RMSE: 0.41\n",
      "Test set RMSE: 0.55\n",
      "Tested on combination ['is_holiday', 'is_lockdown', 'is_curfew', 'Max_Grav_accidents', 'rea', 'incid_rea', 'rad', 'Count_accidents']\n"
     ]
    },
    {
     "name": "stderr",
     "output_type": "stream",
     "text": [
      "C:\\Users\\Thomas\\anaconda3\\envs\\bikes-count\\lib\\site-packages\\xgboost\\core.py:160: UserWarning: [04:11:17] WARNING: C:\\buildkite-agent\\builds\\buildkite-windows-cpu-autoscaling-group-i-0750514818a16474a-1\\xgboost\\xgboost-ci-windows\\src\\learner.cc:742: \n",
      "Parameters: { \"objectives\", \"verbose\" } are not used.\n",
      "\n",
      "  warnings.warn(smsg, UserWarning)\n"
     ]
    },
    {
     "name": "stdout",
     "output_type": "stream",
     "text": [
      "Train set RMSE: 0.41\n",
      "Test set RMSE: 0.51\n",
      "Tested on combination ['is_holiday', 'is_lockdown', 'is_curfew', 'hosp', 'rea', 'incid_rea', 'rad', 'Count_accidents']\n"
     ]
    },
    {
     "name": "stderr",
     "output_type": "stream",
     "text": [
      "C:\\Users\\Thomas\\anaconda3\\envs\\bikes-count\\lib\\site-packages\\xgboost\\core.py:160: UserWarning: [04:11:24] WARNING: C:\\buildkite-agent\\builds\\buildkite-windows-cpu-autoscaling-group-i-0750514818a16474a-1\\xgboost\\xgboost-ci-windows\\src\\learner.cc:742: \n",
      "Parameters: { \"objectives\", \"verbose\" } are not used.\n",
      "\n",
      "  warnings.warn(smsg, UserWarning)\n"
     ]
    },
    {
     "name": "stdout",
     "output_type": "stream",
     "text": [
      "Train set RMSE: 0.41\n",
      "Test set RMSE: 0.51\n",
      "Tested on combination ['is_holiday', 'is_lockdown', 'Max_Grav_accidents', 'hosp', 'rea', 'incid_rea', 'rad', 'Count_accidents']\n"
     ]
    },
    {
     "name": "stderr",
     "output_type": "stream",
     "text": [
      "C:\\Users\\Thomas\\anaconda3\\envs\\bikes-count\\lib\\site-packages\\xgboost\\core.py:160: UserWarning: [04:11:31] WARNING: C:\\buildkite-agent\\builds\\buildkite-windows-cpu-autoscaling-group-i-0750514818a16474a-1\\xgboost\\xgboost-ci-windows\\src\\learner.cc:742: \n",
      "Parameters: { \"objectives\", \"verbose\" } are not used.\n",
      "\n",
      "  warnings.warn(smsg, UserWarning)\n"
     ]
    },
    {
     "name": "stdout",
     "output_type": "stream",
     "text": [
      "Train set RMSE: 0.41\n",
      "Test set RMSE: 0.51\n",
      "Tested on combination ['is_holiday', 'is_curfew', 'Max_Grav_accidents', 'hosp', 'rea', 'incid_rea', 'rad', 'Count_accidents']\n"
     ]
    },
    {
     "name": "stderr",
     "output_type": "stream",
     "text": [
      "C:\\Users\\Thomas\\anaconda3\\envs\\bikes-count\\lib\\site-packages\\xgboost\\core.py:160: UserWarning: [04:11:37] WARNING: C:\\buildkite-agent\\builds\\buildkite-windows-cpu-autoscaling-group-i-0750514818a16474a-1\\xgboost\\xgboost-ci-windows\\src\\learner.cc:742: \n",
      "Parameters: { \"objectives\", \"verbose\" } are not used.\n",
      "\n",
      "  warnings.warn(smsg, UserWarning)\n"
     ]
    },
    {
     "name": "stdout",
     "output_type": "stream",
     "text": [
      "Train set RMSE: 0.41\n",
      "Test set RMSE: 0.51\n",
      "Tested on combination ['is_weekend', 'is_lockdown', 'is_curfew', 'Max_Grav_accidents', 'hosp', 'rea', 'incid_rea', 'rad']\n"
     ]
    },
    {
     "name": "stderr",
     "output_type": "stream",
     "text": [
      "C:\\Users\\Thomas\\anaconda3\\envs\\bikes-count\\lib\\site-packages\\xgboost\\core.py:160: UserWarning: [04:11:44] WARNING: C:\\buildkite-agent\\builds\\buildkite-windows-cpu-autoscaling-group-i-0750514818a16474a-1\\xgboost\\xgboost-ci-windows\\src\\learner.cc:742: \n",
      "Parameters: { \"objectives\", \"verbose\" } are not used.\n",
      "\n",
      "  warnings.warn(smsg, UserWarning)\n"
     ]
    },
    {
     "name": "stdout",
     "output_type": "stream",
     "text": [
      "Train set RMSE: 0.42\n",
      "Test set RMSE: 0.49\n",
      "Tested on combination ['is_weekend', 'is_lockdown', 'is_curfew', 'Max_Grav_accidents', 'hosp', 'rea', 'incid_rea', 'Count_accidents']\n"
     ]
    },
    {
     "name": "stderr",
     "output_type": "stream",
     "text": [
      "C:\\Users\\Thomas\\anaconda3\\envs\\bikes-count\\lib\\site-packages\\xgboost\\core.py:160: UserWarning: [04:11:51] WARNING: C:\\buildkite-agent\\builds\\buildkite-windows-cpu-autoscaling-group-i-0750514818a16474a-1\\xgboost\\xgboost-ci-windows\\src\\learner.cc:742: \n",
      "Parameters: { \"objectives\", \"verbose\" } are not used.\n",
      "\n",
      "  warnings.warn(smsg, UserWarning)\n"
     ]
    },
    {
     "name": "stdout",
     "output_type": "stream",
     "text": [
      "Train set RMSE: 0.41\n",
      "Test set RMSE: 0.52\n",
      "Tested on combination ['is_weekend', 'is_lockdown', 'is_curfew', 'Max_Grav_accidents', 'hosp', 'rea', 'rad', 'Count_accidents']\n"
     ]
    },
    {
     "name": "stderr",
     "output_type": "stream",
     "text": [
      "C:\\Users\\Thomas\\anaconda3\\envs\\bikes-count\\lib\\site-packages\\xgboost\\core.py:160: UserWarning: [04:11:57] WARNING: C:\\buildkite-agent\\builds\\buildkite-windows-cpu-autoscaling-group-i-0750514818a16474a-1\\xgboost\\xgboost-ci-windows\\src\\learner.cc:742: \n",
      "Parameters: { \"objectives\", \"verbose\" } are not used.\n",
      "\n",
      "  warnings.warn(smsg, UserWarning)\n"
     ]
    },
    {
     "name": "stdout",
     "output_type": "stream",
     "text": [
      "Train set RMSE: 0.41\n",
      "Test set RMSE: 0.48\n",
      "Tested on combination ['is_weekend', 'is_lockdown', 'is_curfew', 'Max_Grav_accidents', 'hosp', 'incid_rea', 'rad', 'Count_accidents']\n"
     ]
    },
    {
     "name": "stderr",
     "output_type": "stream",
     "text": [
      "C:\\Users\\Thomas\\anaconda3\\envs\\bikes-count\\lib\\site-packages\\xgboost\\core.py:160: UserWarning: [04:12:05] WARNING: C:\\buildkite-agent\\builds\\buildkite-windows-cpu-autoscaling-group-i-0750514818a16474a-1\\xgboost\\xgboost-ci-windows\\src\\learner.cc:742: \n",
      "Parameters: { \"objectives\", \"verbose\" } are not used.\n",
      "\n",
      "  warnings.warn(smsg, UserWarning)\n"
     ]
    },
    {
     "name": "stdout",
     "output_type": "stream",
     "text": [
      "Train set RMSE: 0.41\n",
      "Test set RMSE: 0.57\n",
      "Tested on combination ['is_weekend', 'is_lockdown', 'is_curfew', 'Max_Grav_accidents', 'rea', 'incid_rea', 'rad', 'Count_accidents']\n"
     ]
    },
    {
     "name": "stderr",
     "output_type": "stream",
     "text": [
      "C:\\Users\\Thomas\\anaconda3\\envs\\bikes-count\\lib\\site-packages\\xgboost\\core.py:160: UserWarning: [04:12:11] WARNING: C:\\buildkite-agent\\builds\\buildkite-windows-cpu-autoscaling-group-i-0750514818a16474a-1\\xgboost\\xgboost-ci-windows\\src\\learner.cc:742: \n",
      "Parameters: { \"objectives\", \"verbose\" } are not used.\n",
      "\n",
      "  warnings.warn(smsg, UserWarning)\n"
     ]
    },
    {
     "name": "stdout",
     "output_type": "stream",
     "text": [
      "Train set RMSE: 0.42\n",
      "Test set RMSE: 0.53\n",
      "Tested on combination ['is_weekend', 'is_lockdown', 'is_curfew', 'hosp', 'rea', 'incid_rea', 'rad', 'Count_accidents']\n"
     ]
    },
    {
     "name": "stderr",
     "output_type": "stream",
     "text": [
      "C:\\Users\\Thomas\\anaconda3\\envs\\bikes-count\\lib\\site-packages\\xgboost\\core.py:160: UserWarning: [04:12:18] WARNING: C:\\buildkite-agent\\builds\\buildkite-windows-cpu-autoscaling-group-i-0750514818a16474a-1\\xgboost\\xgboost-ci-windows\\src\\learner.cc:742: \n",
      "Parameters: { \"objectives\", \"verbose\" } are not used.\n",
      "\n",
      "  warnings.warn(smsg, UserWarning)\n"
     ]
    },
    {
     "name": "stdout",
     "output_type": "stream",
     "text": [
      "Train set RMSE: 0.41\n",
      "Test set RMSE: 0.51\n",
      "Tested on combination ['is_weekend', 'is_lockdown', 'Max_Grav_accidents', 'hosp', 'rea', 'incid_rea', 'rad', 'Count_accidents']\n"
     ]
    },
    {
     "name": "stderr",
     "output_type": "stream",
     "text": [
      "C:\\Users\\Thomas\\anaconda3\\envs\\bikes-count\\lib\\site-packages\\xgboost\\core.py:160: UserWarning: [04:12:24] WARNING: C:\\buildkite-agent\\builds\\buildkite-windows-cpu-autoscaling-group-i-0750514818a16474a-1\\xgboost\\xgboost-ci-windows\\src\\learner.cc:742: \n",
      "Parameters: { \"objectives\", \"verbose\" } are not used.\n",
      "\n",
      "  warnings.warn(smsg, UserWarning)\n"
     ]
    },
    {
     "name": "stdout",
     "output_type": "stream",
     "text": [
      "Train set RMSE: 0.41\n",
      "Test set RMSE: 0.52\n",
      "Tested on combination ['is_weekend', 'is_curfew', 'Max_Grav_accidents', 'hosp', 'rea', 'incid_rea', 'rad', 'Count_accidents']\n"
     ]
    },
    {
     "name": "stderr",
     "output_type": "stream",
     "text": [
      "C:\\Users\\Thomas\\anaconda3\\envs\\bikes-count\\lib\\site-packages\\xgboost\\core.py:160: UserWarning: [04:12:31] WARNING: C:\\buildkite-agent\\builds\\buildkite-windows-cpu-autoscaling-group-i-0750514818a16474a-1\\xgboost\\xgboost-ci-windows\\src\\learner.cc:742: \n",
      "Parameters: { \"objectives\", \"verbose\" } are not used.\n",
      "\n",
      "  warnings.warn(smsg, UserWarning)\n"
     ]
    },
    {
     "name": "stdout",
     "output_type": "stream",
     "text": [
      "Train set RMSE: 0.41\n",
      "Test set RMSE: 0.52\n",
      "Tested on combination ['is_lockdown', 'is_curfew', 'Max_Grav_accidents', 'hosp', 'rea', 'incid_rea', 'rad', 'Count_accidents']\n"
     ]
    },
    {
     "name": "stderr",
     "output_type": "stream",
     "text": [
      "C:\\Users\\Thomas\\anaconda3\\envs\\bikes-count\\lib\\site-packages\\xgboost\\core.py:160: UserWarning: [04:12:38] WARNING: C:\\buildkite-agent\\builds\\buildkite-windows-cpu-autoscaling-group-i-0750514818a16474a-1\\xgboost\\xgboost-ci-windows\\src\\learner.cc:742: \n",
      "Parameters: { \"objectives\", \"verbose\" } are not used.\n",
      "\n",
      "  warnings.warn(smsg, UserWarning)\n"
     ]
    },
    {
     "name": "stdout",
     "output_type": "stream",
     "text": [
      "Train set RMSE: 0.40\n",
      "Test set RMSE: 0.49\n",
      "Tested on combination ['is_holiday', 'is_weekend', 'is_lockdown', 'is_curfew', 'Max_Grav_accidents', 'hosp', 'rea', 'incid_rea', 'rad']\n"
     ]
    },
    {
     "name": "stderr",
     "output_type": "stream",
     "text": [
      "C:\\Users\\Thomas\\anaconda3\\envs\\bikes-count\\lib\\site-packages\\xgboost\\core.py:160: UserWarning: [04:12:44] WARNING: C:\\buildkite-agent\\builds\\buildkite-windows-cpu-autoscaling-group-i-0750514818a16474a-1\\xgboost\\xgboost-ci-windows\\src\\learner.cc:742: \n",
      "Parameters: { \"objectives\", \"verbose\" } are not used.\n",
      "\n",
      "  warnings.warn(smsg, UserWarning)\n"
     ]
    },
    {
     "name": "stdout",
     "output_type": "stream",
     "text": [
      "Train set RMSE: 0.41\n",
      "Test set RMSE: 0.49\n",
      "Tested on combination ['is_holiday', 'is_weekend', 'is_lockdown', 'is_curfew', 'Max_Grav_accidents', 'hosp', 'rea', 'incid_rea', 'Count_accidents']\n"
     ]
    },
    {
     "name": "stderr",
     "output_type": "stream",
     "text": [
      "C:\\Users\\Thomas\\anaconda3\\envs\\bikes-count\\lib\\site-packages\\xgboost\\core.py:160: UserWarning: [04:12:51] WARNING: C:\\buildkite-agent\\builds\\buildkite-windows-cpu-autoscaling-group-i-0750514818a16474a-1\\xgboost\\xgboost-ci-windows\\src\\learner.cc:742: \n",
      "Parameters: { \"objectives\", \"verbose\" } are not used.\n",
      "\n",
      "  warnings.warn(smsg, UserWarning)\n"
     ]
    },
    {
     "name": "stdout",
     "output_type": "stream",
     "text": [
      "Train set RMSE: 0.41\n",
      "Test set RMSE: 0.50\n",
      "Tested on combination ['is_holiday', 'is_weekend', 'is_lockdown', 'is_curfew', 'Max_Grav_accidents', 'hosp', 'rea', 'rad', 'Count_accidents']\n"
     ]
    },
    {
     "name": "stderr",
     "output_type": "stream",
     "text": [
      "C:\\Users\\Thomas\\anaconda3\\envs\\bikes-count\\lib\\site-packages\\xgboost\\core.py:160: UserWarning: [04:12:57] WARNING: C:\\buildkite-agent\\builds\\buildkite-windows-cpu-autoscaling-group-i-0750514818a16474a-1\\xgboost\\xgboost-ci-windows\\src\\learner.cc:742: \n",
      "Parameters: { \"objectives\", \"verbose\" } are not used.\n",
      "\n",
      "  warnings.warn(smsg, UserWarning)\n"
     ]
    },
    {
     "name": "stdout",
     "output_type": "stream",
     "text": [
      "Train set RMSE: 0.41\n",
      "Test set RMSE: 0.50\n",
      "Tested on combination ['is_holiday', 'is_weekend', 'is_lockdown', 'is_curfew', 'Max_Grav_accidents', 'hosp', 'incid_rea', 'rad', 'Count_accidents']\n"
     ]
    },
    {
     "name": "stderr",
     "output_type": "stream",
     "text": [
      "C:\\Users\\Thomas\\anaconda3\\envs\\bikes-count\\lib\\site-packages\\xgboost\\core.py:160: UserWarning: [04:13:04] WARNING: C:\\buildkite-agent\\builds\\buildkite-windows-cpu-autoscaling-group-i-0750514818a16474a-1\\xgboost\\xgboost-ci-windows\\src\\learner.cc:742: \n",
      "Parameters: { \"objectives\", \"verbose\" } are not used.\n",
      "\n",
      "  warnings.warn(smsg, UserWarning)\n"
     ]
    },
    {
     "name": "stdout",
     "output_type": "stream",
     "text": [
      "Train set RMSE: 0.41\n",
      "Test set RMSE: 0.55\n",
      "Tested on combination ['is_holiday', 'is_weekend', 'is_lockdown', 'is_curfew', 'Max_Grav_accidents', 'rea', 'incid_rea', 'rad', 'Count_accidents']\n"
     ]
    },
    {
     "name": "stderr",
     "output_type": "stream",
     "text": [
      "C:\\Users\\Thomas\\anaconda3\\envs\\bikes-count\\lib\\site-packages\\xgboost\\core.py:160: UserWarning: [04:13:11] WARNING: C:\\buildkite-agent\\builds\\buildkite-windows-cpu-autoscaling-group-i-0750514818a16474a-1\\xgboost\\xgboost-ci-windows\\src\\learner.cc:742: \n",
      "Parameters: { \"objectives\", \"verbose\" } are not used.\n",
      "\n",
      "  warnings.warn(smsg, UserWarning)\n"
     ]
    },
    {
     "name": "stdout",
     "output_type": "stream",
     "text": [
      "Train set RMSE: 0.41\n",
      "Test set RMSE: 0.51\n",
      "Tested on combination ['is_holiday', 'is_weekend', 'is_lockdown', 'is_curfew', 'hosp', 'rea', 'incid_rea', 'rad', 'Count_accidents']\n"
     ]
    },
    {
     "name": "stderr",
     "output_type": "stream",
     "text": [
      "C:\\Users\\Thomas\\anaconda3\\envs\\bikes-count\\lib\\site-packages\\xgboost\\core.py:160: UserWarning: [04:13:18] WARNING: C:\\buildkite-agent\\builds\\buildkite-windows-cpu-autoscaling-group-i-0750514818a16474a-1\\xgboost\\xgboost-ci-windows\\src\\learner.cc:742: \n",
      "Parameters: { \"objectives\", \"verbose\" } are not used.\n",
      "\n",
      "  warnings.warn(smsg, UserWarning)\n"
     ]
    },
    {
     "name": "stdout",
     "output_type": "stream",
     "text": [
      "Train set RMSE: 0.41\n",
      "Test set RMSE: 0.51\n",
      "Tested on combination ['is_holiday', 'is_weekend', 'is_lockdown', 'Max_Grav_accidents', 'hosp', 'rea', 'incid_rea', 'rad', 'Count_accidents']\n"
     ]
    },
    {
     "name": "stderr",
     "output_type": "stream",
     "text": [
      "C:\\Users\\Thomas\\anaconda3\\envs\\bikes-count\\lib\\site-packages\\xgboost\\core.py:160: UserWarning: [04:13:25] WARNING: C:\\buildkite-agent\\builds\\buildkite-windows-cpu-autoscaling-group-i-0750514818a16474a-1\\xgboost\\xgboost-ci-windows\\src\\learner.cc:742: \n",
      "Parameters: { \"objectives\", \"verbose\" } are not used.\n",
      "\n",
      "  warnings.warn(smsg, UserWarning)\n"
     ]
    },
    {
     "name": "stdout",
     "output_type": "stream",
     "text": [
      "Train set RMSE: 0.41\n",
      "Test set RMSE: 0.51\n",
      "Tested on combination ['is_holiday', 'is_weekend', 'is_curfew', 'Max_Grav_accidents', 'hosp', 'rea', 'incid_rea', 'rad', 'Count_accidents']\n"
     ]
    },
    {
     "name": "stderr",
     "output_type": "stream",
     "text": [
      "C:\\Users\\Thomas\\anaconda3\\envs\\bikes-count\\lib\\site-packages\\xgboost\\core.py:160: UserWarning: [04:13:31] WARNING: C:\\buildkite-agent\\builds\\buildkite-windows-cpu-autoscaling-group-i-0750514818a16474a-1\\xgboost\\xgboost-ci-windows\\src\\learner.cc:742: \n",
      "Parameters: { \"objectives\", \"verbose\" } are not used.\n",
      "\n",
      "  warnings.warn(smsg, UserWarning)\n"
     ]
    },
    {
     "name": "stdout",
     "output_type": "stream",
     "text": [
      "Train set RMSE: 0.41\n",
      "Test set RMSE: 0.50\n",
      "Tested on combination ['is_holiday', 'is_lockdown', 'is_curfew', 'Max_Grav_accidents', 'hosp', 'rea', 'incid_rea', 'rad', 'Count_accidents']\n"
     ]
    },
    {
     "name": "stderr",
     "output_type": "stream",
     "text": [
      "C:\\Users\\Thomas\\anaconda3\\envs\\bikes-count\\lib\\site-packages\\xgboost\\core.py:160: UserWarning: [04:13:38] WARNING: C:\\buildkite-agent\\builds\\buildkite-windows-cpu-autoscaling-group-i-0750514818a16474a-1\\xgboost\\xgboost-ci-windows\\src\\learner.cc:742: \n",
      "Parameters: { \"objectives\", \"verbose\" } are not used.\n",
      "\n",
      "  warnings.warn(smsg, UserWarning)\n"
     ]
    },
    {
     "name": "stdout",
     "output_type": "stream",
     "text": [
      "Train set RMSE: 0.41\n",
      "Test set RMSE: 0.52\n",
      "Tested on combination ['is_weekend', 'is_lockdown', 'is_curfew', 'Max_Grav_accidents', 'hosp', 'rea', 'incid_rea', 'rad', 'Count_accidents']\n"
     ]
    },
    {
     "name": "stderr",
     "output_type": "stream",
     "text": [
      "C:\\Users\\Thomas\\anaconda3\\envs\\bikes-count\\lib\\site-packages\\xgboost\\core.py:160: UserWarning: [04:13:45] WARNING: C:\\buildkite-agent\\builds\\buildkite-windows-cpu-autoscaling-group-i-0750514818a16474a-1\\xgboost\\xgboost-ci-windows\\src\\learner.cc:742: \n",
      "Parameters: { \"objectives\", \"verbose\" } are not used.\n",
      "\n",
      "  warnings.warn(smsg, UserWarning)\n"
     ]
    },
    {
     "name": "stdout",
     "output_type": "stream",
     "text": [
      "Train set RMSE: 0.41\n",
      "Test set RMSE: 0.50\n",
      "Tested on combination ['is_holiday', 'is_weekend', 'is_lockdown', 'is_curfew', 'Max_Grav_accidents', 'hosp', 'rea', 'incid_rea', 'rad', 'Count_accidents']\n",
      "best_RMSE_test: 0.45\n",
      "best_features_sub: ['is_holiday', 'is_lockdown', 'hosp']\n"
     ]
    }
   ],
   "source": [
    "### Test all combinations and retrieve the combinations tested\n",
    "best_RMSE_test, best_features_sub, tested_combination = feature_selection(all_combination_done)\n",
    "\n",
    "# Add the combinations done previously to our combinations_list to not repeat them after\n",
    "all_combination_done += tested_combination"
   ]
  },
  {
   "cell_type": "code",
   "execution_count": 40,
   "id": "af3b9105-5fb2-40ce-9ae4-ace53de970bf",
   "metadata": {},
   "outputs": [
    {
     "name": "stdout",
     "output_type": "stream",
     "text": [
      "1023\n",
      "['is_holiday', 'is_lockdown', 'hosp']\n",
      "0.44637931519684115\n"
     ]
    }
   ],
   "source": [
    "# To store best results after each modification of feature selection\n",
    "all_combinations = all_combination_done\n",
    "best_features = best_features_sub\n",
    "best_RMSE = best_RMSE_test\n",
    "\n",
    "print(len(all_combinations))\n",
    "print(best_features)\n",
    "print(best_RMSE)"
   ]
  },
  {
   "cell_type": "markdown",
   "id": "61d5c1e0-744d-4854-8b1e-a2a3904357ab",
   "metadata": {},
   "source": [
    "### Final csv file with current model"
   ]
  },
  {
   "cell_type": "markdown",
   "id": "b0d3989c-e317-4eeb-aa75-7909b3d359ee",
   "metadata": {},
   "source": [
    "#### Train on whole dataset train and test to get the last month"
   ]
  },
  {
   "cell_type": "code",
   "execution_count": 17,
   "id": "add8445e-7c4a-4a97-b87b-a847a4314991",
   "metadata": {},
   "outputs": [
    {
     "name": "stderr",
     "output_type": "stream",
     "text": [
      "C:\\Users\\Thomas\\anaconda3\\envs\\bikes-count\\lib\\site-packages\\xgboost\\core.py:160: UserWarning: [12:51:20] WARNING: C:\\buildkite-agent\\builds\\buildkite-windows-cpu-autoscaling-group-i-0750514818a16474a-1\\xgboost\\xgboost-ci-windows\\src\\learner.cc:742: \n",
      "Parameters: { \"early_stopping\", \"verbose\" } are not used.\n",
      "\n",
      "  warnings.warn(smsg, UserWarning)\n"
     ]
    },
    {
     "data": {
      "text/html": [
       "<style>#sk-container-id-1 {color: black;}#sk-container-id-1 pre{padding: 0;}#sk-container-id-1 div.sk-toggleable {background-color: white;}#sk-container-id-1 label.sk-toggleable__label {cursor: pointer;display: block;width: 100%;margin-bottom: 0;padding: 0.3em;box-sizing: border-box;text-align: center;}#sk-container-id-1 label.sk-toggleable__label-arrow:before {content: \"▸\";float: left;margin-right: 0.25em;color: #696969;}#sk-container-id-1 label.sk-toggleable__label-arrow:hover:before {color: black;}#sk-container-id-1 div.sk-estimator:hover label.sk-toggleable__label-arrow:before {color: black;}#sk-container-id-1 div.sk-toggleable__content {max-height: 0;max-width: 0;overflow: hidden;text-align: left;background-color: #f0f8ff;}#sk-container-id-1 div.sk-toggleable__content pre {margin: 0.2em;color: black;border-radius: 0.25em;background-color: #f0f8ff;}#sk-container-id-1 input.sk-toggleable__control:checked~div.sk-toggleable__content {max-height: 200px;max-width: 100%;overflow: auto;}#sk-container-id-1 input.sk-toggleable__control:checked~label.sk-toggleable__label-arrow:before {content: \"▾\";}#sk-container-id-1 div.sk-estimator input.sk-toggleable__control:checked~label.sk-toggleable__label {background-color: #d4ebff;}#sk-container-id-1 div.sk-label input.sk-toggleable__control:checked~label.sk-toggleable__label {background-color: #d4ebff;}#sk-container-id-1 input.sk-hidden--visually {border: 0;clip: rect(1px 1px 1px 1px);clip: rect(1px, 1px, 1px, 1px);height: 1px;margin: -1px;overflow: hidden;padding: 0;position: absolute;width: 1px;}#sk-container-id-1 div.sk-estimator {font-family: monospace;background-color: #f0f8ff;border: 1px dotted black;border-radius: 0.25em;box-sizing: border-box;margin-bottom: 0.5em;}#sk-container-id-1 div.sk-estimator:hover {background-color: #d4ebff;}#sk-container-id-1 div.sk-parallel-item::after {content: \"\";width: 100%;border-bottom: 1px solid gray;flex-grow: 1;}#sk-container-id-1 div.sk-label:hover label.sk-toggleable__label {background-color: #d4ebff;}#sk-container-id-1 div.sk-serial::before {content: \"\";position: absolute;border-left: 1px solid gray;box-sizing: border-box;top: 0;bottom: 0;left: 50%;z-index: 0;}#sk-container-id-1 div.sk-serial {display: flex;flex-direction: column;align-items: center;background-color: white;padding-right: 0.2em;padding-left: 0.2em;position: relative;}#sk-container-id-1 div.sk-item {position: relative;z-index: 1;}#sk-container-id-1 div.sk-parallel {display: flex;align-items: stretch;justify-content: center;background-color: white;position: relative;}#sk-container-id-1 div.sk-item::before, #sk-container-id-1 div.sk-parallel-item::before {content: \"\";position: absolute;border-left: 1px solid gray;box-sizing: border-box;top: 0;bottom: 0;left: 50%;z-index: -1;}#sk-container-id-1 div.sk-parallel-item {display: flex;flex-direction: column;z-index: 1;position: relative;background-color: white;}#sk-container-id-1 div.sk-parallel-item:first-child::after {align-self: flex-end;width: 50%;}#sk-container-id-1 div.sk-parallel-item:last-child::after {align-self: flex-start;width: 50%;}#sk-container-id-1 div.sk-parallel-item:only-child::after {width: 0;}#sk-container-id-1 div.sk-dashed-wrapped {border: 1px dashed gray;margin: 0 0.4em 0.5em 0.4em;box-sizing: border-box;padding-bottom: 0.4em;background-color: white;}#sk-container-id-1 div.sk-label label {font-family: monospace;font-weight: bold;display: inline-block;line-height: 1.2em;}#sk-container-id-1 div.sk-label-container {text-align: center;}#sk-container-id-1 div.sk-container {/* jupyter's `normalize.less` sets `[hidden] { display: none; }` but bootstrap.min.css set `[hidden] { display: none !important; }` so we also need the `!important` here to be able to override the default hidden behavior on the sphinx rendered scikit-learn.org. See: https://github.com/scikit-learn/scikit-learn/issues/21755 */display: inline-block !important;position: relative;}#sk-container-id-1 div.sk-text-repr-fallback {display: none;}</style><div id=\"sk-container-id-1\" class=\"sk-top-container\"><div class=\"sk-text-repr-fallback\"><pre>XGBRegressor(base_score=None, booster=None, callbacks=None,\n",
       "             colsample_bylevel=None, colsample_bynode=None,\n",
       "             colsample_bytree=None, device=None, early_stopping=True,\n",
       "             early_stopping_rounds=None, enable_categorical=False,\n",
       "             eval_metric=None, feature_types=None, gamma=None, grow_policy=None,\n",
       "             importance_type=None, interaction_constraints=None,\n",
       "             learning_rate=0.02, max_bin=None, max_cat_threshold=None,\n",
       "             max_cat_to_onehot=None, max_delta_step=None, max_depth=12,\n",
       "             max_leaves=None, min_child_weight=None, missing=nan,\n",
       "             monotone_constraints=None, multi_strategy=None, n_estimators=1300,\n",
       "             n_jobs=None, num_parallel_tree=None, ...)</pre><b>In a Jupyter environment, please rerun this cell to show the HTML representation or trust the notebook. <br />On GitHub, the HTML representation is unable to render, please try loading this page with nbviewer.org.</b></div><div class=\"sk-container\" hidden><div class=\"sk-item\"><div class=\"sk-estimator sk-toggleable\"><input class=\"sk-toggleable__control sk-hidden--visually\" id=\"sk-estimator-id-1\" type=\"checkbox\" checked><label for=\"sk-estimator-id-1\" class=\"sk-toggleable__label sk-toggleable__label-arrow\">XGBRegressor</label><div class=\"sk-toggleable__content\"><pre>XGBRegressor(base_score=None, booster=None, callbacks=None,\n",
       "             colsample_bylevel=None, colsample_bynode=None,\n",
       "             colsample_bytree=None, device=None, early_stopping=True,\n",
       "             early_stopping_rounds=None, enable_categorical=False,\n",
       "             eval_metric=None, feature_types=None, gamma=None, grow_policy=None,\n",
       "             importance_type=None, interaction_constraints=None,\n",
       "             learning_rate=0.02, max_bin=None, max_cat_threshold=None,\n",
       "             max_cat_to_onehot=None, max_delta_step=None, max_depth=12,\n",
       "             max_leaves=None, min_child_weight=None, missing=nan,\n",
       "             monotone_constraints=None, multi_strategy=None, n_estimators=1300,\n",
       "             n_jobs=None, num_parallel_tree=None, ...)</pre></div></div></div></div></div>"
      ],
      "text/plain": [
       "XGBRegressor(base_score=None, booster=None, callbacks=None,\n",
       "             colsample_bylevel=None, colsample_bynode=None,\n",
       "             colsample_bytree=None, device=None, early_stopping=True,\n",
       "             early_stopping_rounds=None, enable_categorical=False,\n",
       "             eval_metric=None, feature_types=None, gamma=None, grow_policy=None,\n",
       "             importance_type=None, interaction_constraints=None,\n",
       "             learning_rate=0.02, max_bin=None, max_cat_threshold=None,\n",
       "             max_cat_to_onehot=None, max_delta_step=None, max_depth=12,\n",
       "             max_leaves=None, min_child_weight=None, missing=nan,\n",
       "             monotone_constraints=None, multi_strategy=None, n_estimators=1300,\n",
       "             n_jobs=None, num_parallel_tree=None, ...)"
      ]
     },
     "execution_count": 17,
     "metadata": {},
     "output_type": "execute_result"
    }
   ],
   "source": [
    "concatenated_X_train_test = pd.concat([X_train_plus_chosen_FI, X_test_plus_chosen_FI], ignore_index=False)\n",
    "concatenated_y_train_test = np.concatenate([y_train, y_test], axis=0)\n",
    "\n",
    "best_params_062 = {'objective': 'reg:squarederror', 'base_score': None, 'booster': None, 'callbacks': None, 'colsample_bylevel': None, 'colsample_bynode': None, 'colsample_bytree': None, 'device': None, 'early_stopping_rounds': None, 'enable_categorical': False, 'eval_metric': None, 'feature_types': None, 'gamma': None, 'grow_policy': None, 'importance_type': None, 'interaction_constraints': None, 'learning_rate': 0.01, 'max_bin': None, 'max_cat_threshold': None, 'max_cat_to_onehot': None, 'max_delta_step': None, 'max_depth': 12, 'max_leaves': None, 'min_child_weight': None, 'monotone_constraints': None, 'multi_strategy': None, 'n_estimators': 1100, 'n_jobs': None, 'num_parallel_tree': None, 'random_state': None, 'reg_alpha': None, 'reg_lambda': None, 'sampling_method': None, 'scale_pos_weight': None, 'subsample': 0.8, 'tree_method': None, 'validate_parameters': None, 'verbosity': None, 'verbose': True, 'early_stopping': True}\n",
    "\n",
    "params_060 = {'objective': 'reg:squarederror', 'base_score': None, 'booster': None, 'callbacks': None, 'colsample_bylevel': None, 'colsample_bynode': None, 'colsample_bytree': None, 'device': None, 'early_stopping_rounds': None, 'enable_categorical': False, 'eval_metric': None, 'feature_types': None, 'gamma': None, 'grow_policy': None, 'importance_type': None, 'interaction_constraints': None, 'learning_rate': 0.02, 'max_bin': None, 'max_cat_threshold': None, 'max_cat_to_onehot': None, 'max_delta_step': None, 'max_depth': 12, 'max_leaves': None, 'min_child_weight': None, 'monotone_constraints': None, 'multi_strategy': None, 'n_estimators': 1300, 'n_jobs': None, 'num_parallel_tree': None, 'random_state': None, 'reg_alpha': None, 'reg_lambda': None, 'sampling_method': None, 'scale_pos_weight': None, 'subsample': 0.7, 'tree_method': None, 'validate_parameters': None, 'verbosity': None, 'verbose': True, 'early_stopping': True}\n",
    "\n",
    "Regressor = xgb.XGBRegressor(**params)\n",
    "\n",
    "# Initialize the MLPRegressor\n",
    "# Regressor = MLPRegressor(hidden_layer_sizes=(100,), \n",
    "#                          activation='relu', \n",
    "#                          solver='adam', \n",
    "#                          alpha=0.0001, \n",
    "#                          batch_size='auto', \n",
    "#                          learning_rate='constant', \n",
    "#                          learning_rate_init=0.001, \n",
    "#                          max_iter=100, \n",
    "#                          shuffle=True, \n",
    "#                          random_state=None, \n",
    "#                          tol=0.0001, \n",
    "#                          verbose=True, \n",
    "#                          warm_start=True\n",
    "#                          )\n",
    "\n",
    "# Train model with selected features\n",
    "Regressor.fit(concatenated_X_train_test, concatenated_y_train_test)"
   ]
  },
  {
   "cell_type": "code",
   "execution_count": 18,
   "id": "ec820acb-5084-43e7-9ca5-ec650af1fd27",
   "metadata": {},
   "outputs": [
    {
     "name": "stdout",
     "output_type": "stream",
     "text": [
      "[1.3625857 1.1927387 1.2741632 ... 3.480119  2.427347  2.3895016]\n",
      "          Id  log_bike_count\n",
      "0      17081        1.362586\n",
      "1      18655        1.192739\n",
      "2       3124        1.274163\n",
      "3       4147        1.139552\n",
      "4      48210        2.525553\n",
      "...      ...             ...\n",
      "51435  42131        3.700244\n",
      "51436  43042        3.107997\n",
      "51437  43929        3.480119\n",
      "51438   5707        2.427347\n",
      "51439   6855        2.389502\n",
      "\n",
      "[51440 rows x 2 columns]\n"
     ]
    }
   ],
   "source": [
    "# Get submission kaggle to csv\n",
    "original_index = X_final_test.index\n",
    "submit =submission_kaggle(Regressor, X_final_test_plus_chosen_FI, original_index)\n",
    "print(submit)"
   ]
  },
  {
   "cell_type": "markdown",
   "id": "0ecf8783-4d94-4e39-9855-ddb92bb52a68",
   "metadata": {},
   "source": [
    "### Feature selections with RFECV"
   ]
  },
  {
   "cell_type": "code",
   "execution_count": 112,
   "id": "21c28e9d-20e5-45f9-a805-1b7cefd8156e",
   "metadata": {},
   "outputs": [
    {
     "name": "stdout",
     "output_type": "stream",
     "text": [
      "Optimal number of features : 92\n"
     ]
    }
   ],
   "source": [
    "from sklearn.feature_selection import RFECV\n",
    "import xgboost as xgb\n",
    "\n",
    "# Initialize the XGBRegressor\n",
    "xgb_reg = xgb.XGBRegressor(objective='reg:squarederror')\n",
    "\n",
    "# Initialize RFECV\n",
    "selector = RFECV(estimator=xgb_reg, step=1, cv=2)\n",
    "\n",
    "# Fit RFECV\n",
    "selector = selector.fit(X_train_plus_chosen_FI, y_train)\n",
    "\n",
    "# Print the optimal number of features\n",
    "print(\"Optimal number of features : %d\" % selector.n_features_)"
   ]
  },
  {
   "cell_type": "code",
   "execution_count": 114,
   "id": "c00fad72-978b-4a20-aed6-ab00bfe55c41",
   "metadata": {},
   "outputs": [
    {
     "name": "stdout",
     "output_type": "stream",
     "text": [
      "Selected features: ['latitude', 'longitude', 'ff', 'u', 'n', 'vv', 'rr3', 't', 'is_holiday', 'is_weekend', 'is_lockdown', 'is_curfew', 'hosp', 'rea', 'incid_rea', 'rad', 'Max_Grav_accidents', 'Count_accidents', 'month', 'day', 'weekday', 'hour', 'counter_name_152 boulevard du Montparnasse E-O', 'counter_name_152 boulevard du Montparnasse O-E', \"counter_name_18 quai de l'Hôtel de Ville NO-SE\", 'counter_name_20 Avenue de Clichy NO-SE', 'counter_name_20 Avenue de Clichy SE-NO', 'counter_name_254 rue de Vaugirard NE-SO', 'counter_name_254 rue de Vaugirard SO-NE', 'counter_name_27 quai de la Tournelle NO-SE', 'counter_name_27 quai de la Tournelle SE-NO', 'counter_name_28 boulevard Diderot E-O', 'counter_name_28 boulevard Diderot O-E', 'counter_name_36 quai de Grenelle NE-SO', 'counter_name_36 quai de Grenelle SO-NE', 'counter_name_38 rue Turbigo NE-SO', 'counter_name_38 rue Turbigo SO-NE', 'counter_name_39 quai François Mauriac NO-SE', 'counter_name_39 quai François Mauriac SE-NO', 'counter_name_6 rue Julia Bartet NE-SO', 'counter_name_6 rue Julia Bartet SO-NE', 'counter_name_67 boulevard Voltaire SE-NO', 'counter_name_90 Rue De Sèvres NE-SO', 'counter_name_90 Rue De Sèvres SO-NE', \"counter_name_Face 104 rue d'Aubervilliers N-S\", \"counter_name_Face 104 rue d'Aubervilliers S-N\", \"counter_name_Face au 25 quai de l'Oise NE-SO\", \"counter_name_Face au 25 quai de l'Oise SO-NE\", 'counter_name_Face au 4 avenue de la porte de Bagnolet E-O', 'counter_name_Face au 4 avenue de la porte de Bagnolet O-E', \"counter_name_Face au 40 quai D'Issy NE-SO\", \"counter_name_Face au 40 quai D'Issy SO-NE\", 'counter_name_Face au 48 quai de la marne NE-SO', 'counter_name_Face au 48 quai de la marne SO-NE', 'counter_name_Face au 70 quai de Bercy N-S', 'counter_name_Face au 70 quai de Bercy S-N', 'counter_name_Face au 8 avenue de la porte de Charenton NO-SE', 'counter_name_Face au 8 avenue de la porte de Charenton SE-NO', 'counter_name_Pont Charles De Gaulle NE-SO', 'counter_name_Pont Charles De Gaulle SO-NE', 'counter_name_Pont de Bercy NE-SO', 'counter_name_Pont de Bercy SO-NE', 'counter_name_Pont de la Concorde S-N', 'counter_name_Pont des Invalides N-S', 'counter_name_Pont des Invalides S-N', \"counter_name_Quai d'Orsay E-O\", \"counter_name_Quai d'Orsay O-E\", 'counter_name_Totem 64 Rue de Rivoli E-O', 'counter_name_Totem 64 Rue de Rivoli O-E', 'counter_name_Totem 73 boulevard de Sébastopol N-S', 'counter_name_Totem 73 boulevard de Sébastopol S-N', \"counter_name_Totem 85 quai d'Austerlitz NO-SE\", \"counter_name_Totem 85 quai d'Austerlitz SE-NO\", 'counter_name_Totem Cours la Reine E-O', 'counter_name_Totem Cours la Reine O-E', 'counter_name_Voie Georges Pompidou NE-SO', 'counter_name_Voie Georges Pompidou SO-NE', 'site_id_100036718', 'site_id_100036719', 'site_id_100042374', 'site_id_100047545', 'site_id_100049407', 'site_id_100050876', 'site_id_100056329', 'site_id_100056332', 'site_id_100056335', 'site_id_100056336', 'site_id_100057329', 'site_id_100057380', 'site_id_100057445', 'site_id_100063175', 'site_id_300014702']\n"
     ]
    }
   ],
   "source": [
    "# Print selected features\n",
    "selected_features = [feature for feature, selected in zip(X_train_plus_chosen_FI.columns, selector.support_) if selected]\n",
    "print(\"Selected features:\", selected_features)"
   ]
  },
  {
   "cell_type": "code",
   "execution_count": 116,
   "id": "d6a115a3-9de1-4f58-b4f6-1fc03559ad30",
   "metadata": {},
   "outputs": [
    {
     "name": "stdout",
     "output_type": "stream",
     "text": [
      "Train set RMSE: 0.41\n",
      "Test set RMSE: 0.95\n"
     ]
    }
   ],
   "source": [
    "# Transform training and testing sets\n",
    "X_train_selected = selector.transform(X_train_plus_chosen_FI)\n",
    "X_test_selected = selector.transform(X_test_plus_chosen_FI)\n",
    "\n",
    "# Train model with selected features\n",
    "xgb_reg.fit(X_train_selected, y_train)\n",
    "\n",
    "get_RMSE_local(xgb_reg, X_train_selected, y_train, X_test_selected, y_test)"
   ]
  }
 ],
 "metadata": {
  "kernelspec": {
   "display_name": "Python 3 (ipykernel)",
   "language": "python",
   "name": "python3"
  },
  "language_info": {
   "codemirror_mode": {
    "name": "ipython",
    "version": 3
   },
   "file_extension": ".py",
   "mimetype": "text/x-python",
   "name": "python",
   "nbconvert_exporter": "python",
   "pygments_lexer": "ipython3",
   "version": "3.10.13"
  }
 },
 "nbformat": 4,
 "nbformat_minor": 5
}
