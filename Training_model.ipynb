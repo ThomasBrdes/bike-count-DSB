{
 "cells": [
  {
   "cell_type": "markdown",
   "id": "fa46e181",
   "metadata": {},
   "source": [
    "# T# Training model"
   ]
  },
  {
   "cell_type": "code",
   "execution_count": 6,
   "id": "8b319720",
   "metadata": {},
   "outputs": [],
   "source": [
    "## To get some insights\n",
    "# https://github.com/ceptln/paris-bike-traffic-prediction/tree/main\n",
    "\n",
    "\n",
    "from pathlib import Path\n",
    "\n",
    "import numpy as np\n",
    "import pandas as pd\n",
    "import matplotlib.pyplot as plt\n",
    "import sklearn\n",
    "from sklearn.preprocessing import FunctionTransformer\n",
    "from sklearn.preprocessing import OneHotEncoder\n",
    "from sklearn.metrics import mean_squared_error\n",
    "from sklearn.compose import ColumnTransformer\n",
    "from sklearn.linear_model import Ridge\n",
    "from sklearn.pipeline import make_pipeline\n",
    "from sklearn.model_selection import cross_val_score\n",
    "\n",
    "import problem\n",
    "from submissions.external_data.estimator import _encode_dates, _merge_external_data"
   ]
  },
  {
   "cell_type": "markdown",
   "id": "4ba175e3",
   "metadata": {},
   "source": [
    "## Read Data"
   ]
  },
  {
   "cell_type": "code",
   "execution_count": 7,
   "id": "50fd8ee4",
   "metadata": {},
   "outputs": [],
   "source": [
    "# Read data\n",
    "X_train, y_train = problem.get_train_data()\n",
    "X_test, y_test = problem.get_test_data()"
   ]
  },
  {
   "cell_type": "markdown",
   "id": "43ce50f3",
   "metadata": {},
   "source": [
    "##  Preprocessing"
   ]
  },
  {
   "cell_type": "code",
   "execution_count": null,
   "id": "e0f22715",
   "metadata": {},
   "outputs": [],
   "source": [
    "    # Adding cosinus and sinus features from date variables to enhance the date periodicity\n",
    "    X['cos_hour'] = np.cos(X['hour']*(2.*np.pi/24))\n",
    "    X['sin_hour'] = np.sin(X['hour']*(2.*np.pi/24))\n",
    "    X['cos_day'] = np.cos(X['day']*(2.*np.pi/30))\n",
    "    X['sin_day'] = np.sin(X['day']*(2.*np.pi/30))\n",
    "    X['cos_month'] = np.cos(X['month']*(2.*np.pi/12))\n",
    "    X['sin_month'] = np.sin(X['month']*(2.*np.pi/12))\n",
    "    X['cos_weekday'] = np.cos(X['weekday']*(2.*np.pi/7))\n",
    "    X['sin_weekday'] = np.sin(X['weekday']*(2.*np.pi/7))"
   ]
  },
  {
   "cell_type": "code",
   "execution_count": 21,
   "id": "a133332b",
   "metadata": {},
   "outputs": [],
   "source": [
    "def preprocessing(X_train):\n",
    "    \n",
    "    date_encoder = FunctionTransformer(_encode_dates)\n",
    "    date_cols = _encode_dates(X_train[[\"date\"]]).columns.tolist()\n",
    "\n",
    "    categorical_encoder = OneHotEncoder(handle_unknown=\"ignore\")\n",
    "    categorical_cols = [\"counter_name\", \"site_name\"]\n",
    "\n",
    "    preprocessor = ColumnTransformer(\n",
    "        [\n",
    "            (\"date\", OneHotEncoder(handle_unknown=\"ignore\"), date_cols),\n",
    "            (\"cat\", categorical_encoder, categorical_cols),\n",
    "        ]\n",
    "    )\n",
    "    return preprocessor, date_encoder"
   ]
  },
  {
   "cell_type": "code",
   "execution_count": 22,
   "id": "1dacc7de",
   "metadata": {},
   "outputs": [],
   "source": [
    "# Get preprocessor\n",
    "preprocessor, date_encoder = preprocessing(X_train)"
   ]
  },
  {
   "cell_type": "markdown",
   "id": "bc6f3256",
   "metadata": {},
   "source": [
    "## Training pipe"
   ]
  },
  {
   "cell_type": "code",
   "execution_count": 39,
   "id": "286655a7",
   "metadata": {},
   "outputs": [],
   "source": [
    "regressor = Ridge()\n",
    "\n",
    "pipe = make_pipeline(date_encoder, preprocessor, regressor)\n",
    "#pipe.fit(X_train, y_train)"
   ]
  },
  {
   "cell_type": "markdown",
   "id": "64c6a53d",
   "metadata": {},
   "source": [
    "# Training and Testing"
   ]
  },
  {
   "cell_type": "code",
   "execution_count": 40,
   "id": "e5a3d5f3",
   "metadata": {},
   "outputs": [],
   "source": [
    "def get_RMSE_local(pipe, X_train, y_train, X_test, y_test):\n",
    "    \n",
    "    n_folds = 5\n",
    "\n",
    "    # Perform cross-validation and compute the scores\n",
    "    cv_scores_train = cross_val_score(pipe, X_train, y_train, cv=n_folds, scoring='neg_mean_squared_error')\n",
    "    cv_scores_test = cross_val_score(pipe, X_test, y_test, cv=n_folds, scoring='neg_mean_squared_error')\n",
    "\n",
    "    # Convert the scores to root mean squared error\n",
    "    rmse_scores_train = np.sqrt(-cv_scores_train)\n",
    "    rmse_scores_test = np.sqrt(-cv_scores_test)\n",
    "    \n",
    "    print(\n",
    "        f\"Train set, RMSE={np.mean(rmse_scores_train):.2f}\"\n",
    "    )\n",
    "    print(\n",
    "        f\"Test set, RMSE={np.mean(rmse_scores_test):.2f}\"\n",
    "    ) "
   ]
  },
  {
   "cell_type": "code",
   "execution_count": 41,
   "id": "d51627d5",
   "metadata": {},
   "outputs": [
    {
     "name": "stdout",
     "output_type": "stream",
     "text": [
      "Train set, RMSE=0.93\n",
      "Test set, RMSE=0.57\n"
     ]
    }
   ],
   "source": [
    "# Predict data and get RMSE\n",
    "get_RMSE_local(pipe, X_train, y_train, X_test, y_test)"
   ]
  },
  {
   "cell_type": "code",
   "execution_count": null,
   "id": "5d1074b5",
   "metadata": {},
   "outputs": [],
   "source": []
  }
 ],
 "metadata": {
  "kernelspec": {
   "display_name": "Python 3 (ipykernel)",
   "language": "python",
   "name": "python3"
  },
  "language_info": {
   "codemirror_mode": {
    "name": "ipython",
    "version": 3
   },
   "file_extension": ".py",
   "mimetype": "text/x-python",
   "name": "python",
   "nbconvert_exporter": "python",
   "pygments_lexer": "ipython3",
   "version": "3.10.13"
  }
 },
 "nbformat": 4,
 "nbformat_minor": 5
}
